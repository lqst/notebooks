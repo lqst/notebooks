{
  "cells": [
    {
      "cell_type": "markdown",
      "metadata": {},
      "source": [
        "# Module objectives\n",
        "- Generator"
      ]
    },
    {
      "cell_type": "markdown",
      "metadata": {
        "id": "ynPe6RLRWSKd"
      },
      "source": [
        "# Setup"
      ]
    },
    {
      "cell_type": "markdown",
      "metadata": {
        "id": "09qvRMrxye7l"
      },
      "source": [
        "Import our usual suspects"
      ]
    },
    {
      "cell_type": "code",
      "execution_count": null,
      "metadata": {
        "id": "BOfc_-mllcUE"
      },
      "outputs": [],
      "source": [
        "import os\n",
        "import pandas as pd\n",
        "from dotenv import load_dotenv\n",
        "from graphdatascience import GraphDataScience\n",
        "from neo4j import Query, GraphDatabase, RoutingControl, Result"
      ]
    },
    {
      "cell_type": "markdown",
      "metadata": {
        "id": "pa61u1jfyk3t"
      },
      "source": [
        "Load env variables"
      ]
    },
    {
      "cell_type": "code",
      "execution_count": null,
      "metadata": {
        "id": "CHR_0lmElZ-R"
      },
      "outputs": [],
      "source": [
        "load_dotenv('.env', override=True)\n",
        "# Neo4j\n",
        "HOST = os.getenv('ICIJ_URL')\n",
        "USERNAME = os.getenv('ICIJ_USER')\n",
        "PASSWORD = os.getenv('ICIJ_PASSWORD')\n",
        "DATABASE = os.getenv('ICIJ_DB_NAME')\n",
        "\n",
        "# AI\n",
        "OPENAI_API_KEY = os.getenv('OPENAI_API_KEY')\n",
        "os.environ['OPENAI_API_KEY']=OPENAI_API_KEY"
      ]
    },
    {
      "cell_type": "markdown",
      "metadata": {},
      "source": [
        "Connect to neo4j db"
      ]
    },
    {
      "cell_type": "code",
      "execution_count": null,
      "metadata": {
        "id": "5w4eCb7xZZ-S"
      },
      "outputs": [],
      "source": [
        "driver = GraphDatabase.driver(\n",
        "    HOST,\n",
        "    auth=(USERNAME, PASSWORD)\n",
        ")\n",
        "driver.verify_connectivity(database=DATABASE)"
      ]
    },
    {
      "cell_type": "markdown",
      "metadata": {
        "id": "0OMlYdxHWZLx"
      },
      "source": [
        "# Retriver"
      ]
    },
    {
      "cell_type": "markdown",
      "metadata": {},
      "source": [
        "### Test/design query"
      ]
    },
    {
      "cell_type": "code",
      "execution_count": null,
      "metadata": {},
      "outputs": [],
      "source": [
        "person_name= \"Sigmundur David Gunnlaugsson\"\n",
        "driver.execute_query(\n",
        "    '''\n",
        "    match (o:Officer{name:$name})\n",
        "    return {\n",
        "        person_name: o.name,\n",
        "        lives_with: collect { \n",
        "            match (o)-[:REGISTERED_ADDRESS]->()<-[:REGISTERED_ADDRESS]-(p) \n",
        "            return p.name \n",
        "        },\n",
        "        shares_held: collect {\n",
        "            match (o)-[:REGISTERED_ADDRESS]->()<-[:REGISTERED_ADDRESS]-(p)\n",
        "            with [o,p] as persons\n",
        "            unwind persons as p\n",
        "            match (p)-[r:SHAREHOLDER_OF]->(c)\n",
        "            return {\n",
        "                person_name: p.name,\n",
        "                share_in_company: c.name,\n",
        "                from_date: r.start_date,\n",
        "                to_date: r.end_date\n",
        "            }\n",
        "        }\n",
        "    } as result\n",
        "    ''',\n",
        "    database_=DATABASE,\n",
        "    routing_=RoutingControl.READ,\n",
        "    result_transformer_= lambda r: r.to_df(),\n",
        "    name = person_name\n",
        ").head(10)"
      ]
    },
    {
      "cell_type": "markdown",
      "metadata": {},
      "source": [
        "## Create agent"
      ]
    },
    {
      "cell_type": "code",
      "execution_count": null,
      "metadata": {},
      "outputs": [],
      "source": [
        "from typing import List, Optional\n",
        "from pydantic import BaseModel, Field, validator\n",
        "import functools\n",
        "from langchain_core.tools import tool\n",
        "\n",
        "class Person(BaseModel):\n",
        "    \"\"\"\n",
        "    Represents a person or legal person\n",
        "    \"\"\"\n",
        "    person_name: str = Field(..., description=\"Full name of the person\")\n",
        "\n",
        "@tool\n",
        "def retrieve_person_invested_in_company(person: Person) -> dict:\n",
        "    \"\"\"Given the full name of a person or a legal person this function retrieves information about shares held or other investements in companies\"\"\"\n",
        "    name = person.person_name\n",
        "    return driver.execute_query(\n",
        "        ''' \n",
        "        match (o:Officer{name:$name})\n",
        "        return {\n",
        "            person_name: o.name,\n",
        "            lives_with: collect { \n",
        "                match (o)-[:REGISTERED_ADDRESS]->()<-[:REGISTERED_ADDRESS]-(p) \n",
        "                return p.name \n",
        "            },\n",
        "            shares_held: collect {\n",
        "                match (o)-[:REGISTERED_ADDRESS]->()<-[:REGISTERED_ADDRESS]-(p)\n",
        "                with [o,p] as persons\n",
        "                unwind persons as p\n",
        "                match (p)-[r:SHAREHOLDER_OF]->(c)\n",
        "                return {\n",
        "                    person_name: p.name,\n",
        "                    share_in_company: c.name,\n",
        "                    from_date: r.start_date,\n",
        "                    to_date: r.end_date\n",
        "                }\n",
        "            }\n",
        "        } as result\n",
        "        ''',\n",
        "        database_=DATABASE,\n",
        "        name=name,\n",
        "        routing_=RoutingControl.READ,\n",
        "        result_transformer_= lambda r: r.single()[\"result\"]\n",
        "    )"
      ]
    },
    {
      "cell_type": "code",
      "execution_count": null,
      "metadata": {},
      "outputs": [],
      "source": [
        "# Import langchain open ai\n",
        "from langchain_openai import OpenAIEmbeddings, ChatOpenAI\n",
        "from langchain_core.prompts import ChatPromptTemplate\n",
        "from langchain_core.output_parsers import StrOutputParser\n",
        "\n",
        "from langchain_core.messages import HumanMessage\n",
        "\n",
        "llm = ChatOpenAI(model_name=\"gpt-4o\", temperature=0)\n",
        "tools = [\n",
        "    retrieve_person_invested_in_company\n",
        "]\n",
        "llm_with_tools = llm.bind_tools(tools)"
      ]
    },
    {
      "cell_type": "code",
      "execution_count": null,
      "metadata": {},
      "outputs": [],
      "source": [
        "\n",
        "question = \"What shares does Sigmundur David Gunnlaugsson own?\"\n",
        "messages = [HumanMessage(question)]"
      ]
    },
    {
      "cell_type": "code",
      "execution_count": null,
      "metadata": {},
      "outputs": [],
      "source": [
        "ai_msg = llm_with_tools.invoke(messages)\n",
        "\n",
        "print(ai_msg.tool_calls)\n",
        "\n",
        "messages.append(ai_msg)"
      ]
    },
    {
      "cell_type": "code",
      "execution_count": null,
      "metadata": {},
      "outputs": [],
      "source": [
        "for tool_call in ai_msg.tool_calls:\n",
        "    selected_tool = {\"retrieve_person_invested_in_company\": retrieve_person_invested_in_company}[tool_call[\"name\"].lower()]\n",
        "    tool_msg = selected_tool.invoke(tool_call)\n",
        "    messages.append(tool_msg)\n",
        "\n",
        "messages"
      ]
    },
    {
      "cell_type": "markdown",
      "metadata": {},
      "source": [
        "## Generator"
      ]
    },
    {
      "cell_type": "code",
      "execution_count": null,
      "metadata": {},
      "outputs": [],
      "source": [
        "llm_with_tools.invoke(messages)"
      ]
    },
    {
      "cell_type": "code",
      "execution_count": null,
      "metadata": {},
      "outputs": [],
      "source": []
    }
  ],
  "metadata": {
    "colab": {
      "provenance": []
    },
    "kernelspec": {
      "display_name": "notebooks_new",
      "language": "python",
      "name": "python3"
    },
    "language_info": {
      "codemirror_mode": {
        "name": "ipython",
        "version": 3
      },
      "file_extension": ".py",
      "mimetype": "text/x-python",
      "name": "python",
      "nbconvert_exporter": "python",
      "pygments_lexer": "ipython3",
      "version": "3.11.0"
    }
  },
  "nbformat": 4,
  "nbformat_minor": 0
}
