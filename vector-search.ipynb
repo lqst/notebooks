{
 "cells": [
  {
   "cell_type": "markdown",
   "metadata": {},
   "source": [
    "# \"Unit test\" :) "
   ]
  },
  {
   "cell_type": "code",
   "execution_count": 8,
   "metadata": {},
   "outputs": [],
   "source": [
    "\n",
    "DB_ULR = \"neo4j://localhost:7687\"\n",
    "DB_USER = \"neo4j\"\n",
    "DB_PASS = \"test1234\"\n",
    "DB_NAME = \"vector\"\n",
    "index_name = 'myVectorIndex'"
   ]
  },
  {
   "cell_type": "code",
   "execution_count": 9,
   "metadata": {},
   "outputs": [],
   "source": [
    "import pandas as pd\n",
    "from neo4j import GraphDatabase, RoutingControl # Python database driver"
   ]
  },
  {
   "cell_type": "code",
   "execution_count": 10,
   "metadata": {},
   "outputs": [],
   "source": [
    "driver = GraphDatabase.driver(DB_ULR, auth=(DB_USER, DB_PASS))\n",
    "driver.verify_connectivity()"
   ]
  },
  {
   "cell_type": "code",
   "execution_count": 11,
   "metadata": {},
   "outputs": [
    {
     "data": {
      "text/plain": [
       "EagerResult(records=[], summary=<neo4j._work.summary.ResultSummary object at 0x146302be0>, keys=[])"
      ]
     },
     "execution_count": 11,
     "metadata": {},
     "output_type": "execute_result"
    }
   ],
   "source": [
    "driver.execute_query(\n",
    "    'create database {dbname} if not exists'.format(dbname = DB_NAME),\n",
    "    None,\n",
    "    RoutingControl.WRITE,\n",
    "    database_= 'system'\n",
    ")"
   ]
  },
  {
   "cell_type": "code",
   "execution_count": 12,
   "metadata": {},
   "outputs": [
    {
     "name": "stderr",
     "output_type": "stream",
     "text": [
      "Unable to retrieve routing information\n",
      "Transaction failed and will be retried in 0.9575359276078246s (Unable to retrieve routing information)\n"
     ]
    },
    {
     "data": {
      "text/plain": [
       "EagerResult(records=[], summary=<neo4j._work.summary.ResultSummary object at 0x28b0e6220>, keys=[])"
      ]
     },
     "execution_count": 12,
     "metadata": {},
     "output_type": "execute_result"
    }
   ],
   "source": [
    "driver.execute_query(\n",
    "    'call db.index.vector.createNodeIndex($index_name, \"WithVector\", \"vector\", 2, \"cosine\")',\n",
    "    {'index_name': index_name},\n",
    "    routing_= RoutingControl.WRITE,\n",
    "    database_= DB_NAME\n",
    ")"
   ]
  },
  {
   "cell_type": "code",
   "execution_count": 13,
   "metadata": {},
   "outputs": [
    {
     "name": "stdout",
     "output_type": "stream",
     "text": [
      "<Record id=3 name='myVectorIndex' state='ONLINE' populationPercent=100.0 type='VECTOR' entityType='NODE' labelsOrTypes=['WithVector'] properties=['vector'] indexProvider='vector-1.0' owningConstraint=None lastRead=None readCount=None trackedSince=None options={'indexProvider': 'vector-1.0', 'indexConfig': {'vector.dimensions': 2, 'vector.similarity_function': 'cosine'}} failureMessage='' createStatement=\"CALL db.index.vector.createNodeIndex('myVectorIndex', 'WithVector', 'vector', 2, 'COSINE')\">\n"
     ]
    }
   ],
   "source": [
    "records, summary, keys = driver.execute_query(\n",
    "    'show indexes yield * where name = $index_name return *',\n",
    "    {'index_name': index_name},\n",
    "    routing_= RoutingControl.READ,\n",
    "    database_= DB_NAME\n",
    ")\n",
    "for record in records:\n",
    "    print(record)"
   ]
  },
  {
   "cell_type": "code",
   "execution_count": 14,
   "metadata": {},
   "outputs": [
    {
     "name": "stdout",
     "output_type": "stream",
     "text": [
      "<Record n=<Node element_id='4:f0adc280-ec80-4264-96b8-147afa2d1ff1:0' labels=frozenset({'WithVector'}) properties={'vector': [1.0, 0.0], 'id': 1}>>\n",
      "<Record n=<Node element_id='4:f0adc280-ec80-4264-96b8-147afa2d1ff1:1' labels=frozenset({'WithVector'}) properties={'vector': [1.0, 1.0], 'id': 2}>>\n",
      "<Record n=<Node element_id='4:f0adc280-ec80-4264-96b8-147afa2d1ff1:2' labels=frozenset({'WithVector'}) properties={'vector': [0.0, 1.0], 'id': 3}>>\n"
     ]
    }
   ],
   "source": [
    "records, summary, keys = driver.execute_query(\n",
    "    '''\n",
    "    unwind $data as row \n",
    "    create (n:WithVector{id: row.id}) with n, row\n",
    "    call db.create.setNodeVectorProperty(n, 'vector', row.vector)\n",
    "    return n\n",
    "    ''',\n",
    "    data=[\n",
    "            {'id': 1, 'vector':[1.0, 0.0]},\n",
    "            {'id': 2, 'vector':[1.0, 1.0]},\n",
    "            {'id': 3, 'vector':[0.0, 1.0]},\n",
    "        ],\n",
    "    routing_= RoutingControl.WRITE,\n",
    "    database_= DB_NAME\n",
    ")\n",
    "for record in records:\n",
    "    print(record)"
   ]
  },
  {
   "cell_type": "code",
   "execution_count": 15,
   "metadata": {},
   "outputs": [
    {
     "name": "stdout",
     "output_type": "stream",
     "text": [
      "<Record node=<Node element_id='4:f0adc280-ec80-4264-96b8-147afa2d1ff1:0' labels=frozenset({'WithVector'}) properties={'vector': [1.0, 0.0], 'id': 1}>>\n"
     ]
    }
   ],
   "source": [
    "records, summary, keys = driver.execute_query(\n",
    "    '''\n",
    "    call db.index.vector.queryNodes($index_name, 1, $vector) yield node\n",
    "    return node\n",
    "    ''',\n",
    "    vector=[1.2, 0.3],\n",
    "    index_name = index_name,\n",
    "    routing_= RoutingControl.READ,\n",
    "    database_= DB_NAME\n",
    ")\n",
    "for record in records:\n",
    "    print(record)"
   ]
  },
  {
   "cell_type": "code",
   "execution_count": 23,
   "metadata": {},
   "outputs": [],
   "source": [
    "records, summary, keys = driver.execute_query(\n",
    "    '''\n",
    "    cypher runtime=parallel\n",
    "    unwind range(1,10000) as i\n",
    "    with i\n",
    "    call db.index.vector.queryNodes($index_name, 1, $vector) yield node\n",
    "    return node\n",
    "    ''',\n",
    "    vector=[1.2, 0.3],\n",
    "    index_name = index_name,\n",
    "    routing_= RoutingControl.READ,\n",
    "    database_= DB_NAME\n",
    ")"
   ]
  },
  {
   "cell_type": "code",
   "execution_count": null,
   "metadata": {},
   "outputs": [],
   "source": []
  }
 ],
 "metadata": {
  "kernelspec": {
   "display_name": "notebooks",
   "language": "python",
   "name": "python3"
  },
  "language_info": {
   "codemirror_mode": {
    "name": "ipython",
    "version": 3
   },
   "file_extension": ".py",
   "mimetype": "text/x-python",
   "name": "python",
   "nbconvert_exporter": "python",
   "pygments_lexer": "ipython3",
   "version": "3.9.16"
  }
 },
 "nbformat": 4,
 "nbformat_minor": 2
}
