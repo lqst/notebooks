{
  "cells": [
    {
      "cell_type": "markdown",
      "metadata": {
        "id": "ynPe6RLRWSKd"
      },
      "source": [
        "# Setup"
      ]
    },
    {
      "cell_type": "markdown",
      "metadata": {
        "id": "ShLXlNZ5kGvI"
      },
      "source": [
        "Install neo4j graphdatascience client ([Documentation](https://neo4j.com/docs/graph-data-science/current/))"
      ]
    },
    {
      "cell_type": "code",
      "execution_count": null,
      "metadata": {
        "id": "5SAtW7ERjatw"
      },
      "outputs": [],
      "source": [
        "%%capture\n",
        "!pip install graphdatascience "
      ]
    },
    {
      "cell_type": "markdown",
      "metadata": {
        "id": "09qvRMrxye7l"
      },
      "source": [
        "Import our usual suspects"
      ]
    },
    {
      "cell_type": "code",
      "execution_count": null,
      "metadata": {
        "id": "BOfc_-mllcUE"
      },
      "outputs": [],
      "source": [
        "import pandas as pd\n",
        "from graphdatascience import GraphDataScience "
      ]
    },
    {
      "cell_type": "markdown",
      "metadata": {
        "id": "pa61u1jfyk3t"
      },
      "source": [
        "Register for a sandbox and create an empty sandbox  https://sandbox.neo4j.com"
      ]
    },
    {
      "cell_type": "code",
      "execution_count": null,
      "metadata": {
        "id": "CHR_0lmElZ-R"
      },
      "outputs": [],
      "source": [
        "# Capture connection string and auth info\n",
        "connectionUrl = 'neo4j://localhost:7687'\n",
        "username = 'neo4j'\n",
        "password = 'test1234'\n"
      ]
    },
    {
      "cell_type": "code",
      "execution_count": null,
      "metadata": {
        "id": "e_a16vsQwyMH"
      },
      "outputs": [],
      "source": [
        "gds = GraphDataScience(connectionUrl, auth=(username, password))\n",
        "gds.set_database('neo4j')\n",
        "gds.version()\n"
      ]
    },
    {
      "cell_type": "markdown",
      "metadata": {
        "id": "0OMlYdxHWZLx"
      },
      "source": [
        "# Graph creation"
      ]
    },
    {
      "cell_type": "code",
      "execution_count": null,
      "metadata": {
        "id": "LbsQlwvwku0b"
      },
      "outputs": [],
      "source": [
        "transaction_df = pd.DataFrame([\n",
        "    {'name': 'Tom', 'merchant':'Amazon', 'amount': 100},\n",
        "    {'name': 'Tom', 'merchant':'Dustin', 'amount': 50499},\n",
        "    {'name': 'Tom', 'merchant':'eBay', 'amount': 220},\n",
        "    {'name': 'Stefan', 'merchant':'Amazon', 'amount': 220},\n",
        "    {'name': 'Stefan', 'merchant':'Dustin', 'amount': 399},\n",
        "    {'name': 'Stefan', 'merchant':'eBay', 'amount': 1499},\n",
        "    {'name': 'Stefan', 'merchant':'Bikes.de', 'amount': 22000},\n",
        "    {'name': 'Kristof', 'merchant':'Amazon', 'amount': 423},\n",
        "    {'name': 'Kristof', 'merchant':'Dustin', 'amount': 530},\n",
        "    {'name': 'Kristof', 'merchant':'Hello Fresh', 'amount': 1050},\n",
        "    {'name': 'Kristof', 'merchant':'Steam', 'amount': 230},\n",
        "    {'name': 'Kristof', 'merchant':'Activision', 'amount': 783},\n",
        "    {'name': 'Håkan', 'merchant':'Hello Fresh', 'amount': 2100},\n",
        "    {'name': 'Håkan', 'merchant':'Steam', 'amount': 230},\n",
        "    {'name': 'Håkan', 'merchant':'Activision', 'amount': 783},\n",
        "    \n",
        "], columns = ['name', 'merchant', 'amount'])\n",
        "transaction_df.head(15)"
      ]
    },
    {
      "cell_type": "code",
      "execution_count": null,
      "metadata": {
        "id": "cdTfdAyV2ZaR"
      },
      "outputs": [],
      "source": [
        "# This is not really required for this small sample\n",
        "gds.run_cypher(\"create constraint if not exists for (p:Person) require (p.name) is node key\")\n",
        "gds.run_cypher(\"create constraint if not exists for (p:Merchant) require (p.name) is node key\")\n"
      ]
    },
    {
      "cell_type": "code",
      "execution_count": null,
      "metadata": {
        "id": "uduojIopm0qV"
      },
      "outputs": [],
      "source": [
        "# Create a graph for (:Person)-[:transacted_with]->(:Merchant)\n",
        "# Tip: If we had more data, this would fail => Iterate over chunks of the dataframe.\n",
        "gds.run_cypher(\n",
        "    \"\"\"\n",
        "    unwind $transactions as transaction\n",
        "    merge (p:Person{name: transaction['name']})\n",
        "    merge (m:Merchant{name: transaction['merchant']})\n",
        "    merge (p)-[tx:TRANSACTED_WITH]->(m)\n",
        "       set tx.amount = transaction['amount']\n",
        "    \"\"\",\n",
        "    params = { 'transactions': transaction_df.to_dict(orient='records') }\n",
        ")"
      ]
    },
    {
      "cell_type": "markdown",
      "metadata": {
        "id": "rZo7Gln2jJcF"
      },
      "source": [
        "# Basic navigation of graph with cypher"
      ]
    },
    {
      "cell_type": "markdown",
      "metadata": {
        "id": "fQ2wgAWFkXxQ"
      },
      "source": [
        "### Exercise 1"
      ]
    },
    {
      "cell_type": "code",
      "execution_count": null,
      "metadata": {
        "id": "70-xbOfgjQsY"
      },
      "outputs": [],
      "source": [
        "# What persons are in the database?\n",
        "gds.run_cypher(\"\"\" \n",
        "  match (p:Person)\n",
        "  return p.name as person_name\n",
        "\"\"\").head()"
      ]
    },
    {
      "cell_type": "code",
      "execution_count": null,
      "metadata": {
        "id": "volCOjn_jjm3"
      },
      "outputs": [],
      "source": [
        "# What merchants are persons transacting with?\n",
        "gds.run_cypher(\"\"\" \n",
        "  match (p:Person)-[tx:TRANSACTED_WITH]->(m:Merchant)\n",
        "  return p.name as person_name,collect(m.name) as merchants_transacted_with\n",
        "\"\"\").head()"
      ]
    },
    {
      "cell_type": "code",
      "execution_count": null,
      "metadata": {
        "id": "2yddechtj2MB"
      },
      "outputs": [],
      "source": [
        "# Exercise 1: What is the sum of the transacted amount per person and merchant?\n",
        "# Replace with yor solution\n",
        "gds.run_cypher(\"\"\" \n",
        "  return \"not_solved\" as answer\n",
        "\"\"\").head()"
      ]
    },
    {
      "cell_type": "markdown",
      "metadata": {
        "id": "nDv-XfdqmCiw"
      },
      "source": [
        "## Exercise 2"
      ]
    },
    {
      "cell_type": "code",
      "execution_count": null,
      "metadata": {
        "id": "R1IeCTWWkS5j"
      },
      "outputs": [],
      "source": [
        "# Who transacted with Amazon but not Steam?\n",
        "gds.run_cypher(\"\"\" \n",
        "  match (p:Person)-[:TRANSACTED_WITH]->(:Merchant{name:\"Amazon\"})\n",
        "  where not exists { (p)-[:TRANSACTED_WITH]->(:Merchant{name:\"Steam\"}) }\n",
        "  return p.name as transacted_with_amazon_but_not_steam\n",
        "\"\"\").head()"
      ]
    },
    {
      "cell_type": "code",
      "execution_count": null,
      "metadata": {
        "id": "bVTKqLM3mM44"
      },
      "outputs": [],
      "source": [
        "# Exercise 2: Are there Persons in the graph that did not transact with a merchant at all?\n",
        "# Replace with yor solution\n",
        "gds.run_cypher(\"\"\" \n",
        "  return \"not_solved\" as answer\n",
        "\"\"\").head()"
      ]
    },
    {
      "cell_type": "markdown",
      "metadata": {
        "id": "hInWGbGimmTp"
      },
      "source": [
        "## Exercise 3"
      ]
    },
    {
      "cell_type": "code",
      "execution_count": null,
      "metadata": {
        "id": "nTzXuK6WmkZN"
      },
      "outputs": [],
      "source": [
        "# What nodes do I have in my graph?\n",
        "gds.run_cypher(\"\"\" \n",
        "  match (n)\n",
        "  return labels(n) as node_labels, count(*) as number_of_nodes\n",
        "\"\"\").head()"
      ]
    },
    {
      "cell_type": "code",
      "execution_count": null,
      "metadata": {
        "id": "DDeBV5JunKsC"
      },
      "outputs": [],
      "source": [
        "# Exercise 3: What relationships do I have in my graph?\n",
        "# Replace with yor solution\n",
        "gds.run_cypher(\"\"\" \n",
        "  return \"not_solved\" as answer\n",
        "\"\"\").head()"
      ]
    },
    {
      "cell_type": "markdown",
      "metadata": {
        "id": "kx1UHN87Kfup"
      },
      "source": [
        "# Node similarity"
      ]
    },
    {
      "cell_type": "markdown",
      "metadata": {
        "id": "kulQKQj63Zb_"
      },
      "source": [
        "Let's get this party started"
      ]
    },
    {
      "cell_type": "code",
      "execution_count": null,
      "metadata": {
        "id": "BDt3N5vPALJS"
      },
      "outputs": [],
      "source": [
        "G, res = gds.graph.project(\n",
        "    \"shopping\",                 #  Graph name\n",
        "    [\"Person\", \"Merchant\"],   #  Node projection\n",
        "    {\"TRANSACTED_WITH\": {\"properties\": \"amount\"}}              #  Relationship projection\n",
        ")\n"
      ]
    },
    {
      "cell_type": "code",
      "execution_count": null,
      "metadata": {
        "id": "7rBfNJ6A9m65"
      },
      "outputs": [],
      "source": [
        "print(f\"Graph '{G.name()}' node count: {G.node_count()}\")\n",
        "print(f\"Graph '{G.name()}' node labels: {G.node_labels()}\")\n"
      ]
    },
    {
      "cell_type": "code",
      "execution_count": null,
      "metadata": {},
      "outputs": [],
      "source": [
        "gds.nodeSimilarity.stream(\n",
        "    G,\n",
        "    relationshipWeightProperty='amount', \n",
        "    #writeRelationshipType='IS_SIMILAR_TO',\n",
        "    #writeProperty='sim_score'\n",
        ")"
      ]
    },
    {
      "cell_type": "code",
      "execution_count": null,
      "metadata": {
        "id": "nNZByI7LGy_i"
      },
      "outputs": [],
      "source": [
        "gds.nodeSimilarity.write(\n",
        "    G,\n",
        "    relationshipWeightProperty='amount', \n",
        "    writeRelationshipType='IS_SIMILAR_TO',\n",
        "    writeProperty='sim_score'\n",
        ")"
      ]
    },
    {
      "cell_type": "code",
      "execution_count": null,
      "metadata": {
        "id": "LRQGxT5RHctm"
      },
      "outputs": [],
      "source": [
        "# Drop the projection from the graph catalogue to free up resources\n",
        "G.drop()"
      ]
    },
    {
      "cell_type": "code",
      "execution_count": null,
      "metadata": {
        "id": "OW5uFvKnYnj7"
      },
      "outputs": [],
      "source": [
        "# Remove symetric relationships\n",
        "gds.run_cypher(\"\"\"\n",
        "  MATCH (a:Person)-[r:IS_SIMILAR_TO]->(b:Person) \n",
        "    WHERE (b)-[:IS_SIMILAR_TO]->(a) \n",
        "    AND   id(a)<id(b)\n",
        "  DELETE r\n",
        "\"\"\")\n"
      ]
    },
    {
      "cell_type": "markdown",
      "metadata": {
        "id": "jU696MRBKlne"
      },
      "source": [
        "# Graph embedding + knn "
      ]
    },
    {
      "cell_type": "code",
      "execution_count": null,
      "metadata": {
        "id": "SKNESlpBxyJ5"
      },
      "outputs": [],
      "source": [
        "# Let's make the same projection again\n",
        "G, res = gds.graph.project(\n",
        "    \"shopping\",                 #  Graph name\n",
        "    [\"Person\", \"Merchant\"],   #  Node projection\n",
        "    {\"TRANSACTED_WITH\": {\"properties\": \"amount\"}}              #  Relationship projection\n",
        ")"
      ]
    },
    {
      "cell_type": "code",
      "execution_count": null,
      "metadata": {
        "id": "66aoFCzIPhUw"
      },
      "outputs": [],
      "source": [
        "# Mutate our projection (by computing an embedding)\n",
        "gds.beta.node2vec.mutate(\n",
        "    G,\n",
        "    embeddingDimension=3,\n",
        "    relationshipWeightProperty='amount',\n",
        "    mutateProperty='embedding'\n",
        ")"
      ]
    },
    {
      "cell_type": "code",
      "execution_count": null,
      "metadata": {
        "id": "Gwwyj1KKLegG"
      },
      "outputs": [],
      "source": [
        "# What does our embeddings look like? Let's stream back and have a look\n",
        "df_embeddings = gds.graph.nodeProperty.stream(\n",
        "    G,\n",
        "    node_properties='embedding',\n",
        "    node_labels='Person'\n",
        ")"
      ]
    },
    {
      "cell_type": "code",
      "execution_count": null,
      "metadata": {
        "id": "TLW5unbDMGhE"
      },
      "outputs": [],
      "source": [
        "pd.set_option('max_colwidth', None)\n",
        "df_embeddings.head(10)"
      ]
    },
    {
      "cell_type": "code",
      "execution_count": null,
      "metadata": {
        "id": "ZGwkZIuFQN-R"
      },
      "outputs": [],
      "source": [
        "# Run knn\n",
        "gds.knn.write(\n",
        "    G,\n",
        "    nodeLabels=['Person'],\n",
        "    nodeProperties=['embedding'],\n",
        "    topK=2,\n",
        "    writeRelationshipType='SIMILAR_EMBEDDING',\n",
        "    writeProperty='sim_score'\n",
        ")"
      ]
    },
    {
      "cell_type": "code",
      "execution_count": null,
      "metadata": {
        "id": "ou3S9jeJMV0A"
      },
      "outputs": [],
      "source": [
        "# Drop the projection from the graph catalogue to free up resources\n",
        "G.drop()"
      ]
    },
    {
      "cell_type": "code",
      "execution_count": null,
      "metadata": {
        "id": "mixfOT5kMiMa"
      },
      "outputs": [],
      "source": [
        "# Again, let's remove symetric relationships\n",
        "gds.run_cypher(\"\"\"\n",
        "  MATCH (a:Person)-[r:SIMILAR_EMBEDDING]->(b:Person) \n",
        "    WHERE (b)-[:SIMILAR_EMBEDDING]->(a) \n",
        "    AND   id(a)<id(b)\n",
        "  DELETE r\n",
        "\"\"\")"
      ]
    },
    {
      "cell_type": "code",
      "execution_count": null,
      "metadata": {
        "id": "Pk0MLczGSF4E"
      },
      "outputs": [],
      "source": [
        "# Let's review\n",
        "gds.run_cypher(\"\"\"\n",
        "  MATCH (p:Person)-[r:SIMILAR_EMBEDDING|IS_SIMILAR_TO]-(p2)\n",
        "  RETURN p.name as person, \n",
        "         type(r) as type, \n",
        "         r.sim_score as score,\n",
        "         p2.name as to_person\n",
        "  ORDER by p.name, p2.name, type(r)\n",
        "\"\"\").head(30)"
      ]
    },
    {
      "cell_type": "code",
      "execution_count": null,
      "metadata": {
        "id": "RNdzni6-SvC0"
      },
      "outputs": [],
      "source": []
    }
  ],
  "metadata": {
    "colab": {
      "provenance": [],
      "toc_visible": true
    },
    "kernelspec": {
      "display_name": "Python 3",
      "name": "python3"
    },
    "language_info": {
      "codemirror_mode": {
        "name": "ipython",
        "version": 3
      },
      "file_extension": ".py",
      "mimetype": "text/x-python",
      "name": "python",
      "nbconvert_exporter": "python",
      "pygments_lexer": "ipython3",
      "version": "3.9.16"
    }
  },
  "nbformat": 4,
  "nbformat_minor": 0
}
