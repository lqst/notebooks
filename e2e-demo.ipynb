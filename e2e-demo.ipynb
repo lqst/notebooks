{
 "cells": [
  {
   "cell_type": "code",
   "execution_count": null,
   "metadata": {},
   "outputs": [],
   "source": [
    "\n",
    "DB_ULR = \"neo4j://localhost:7687\"\n",
    "DB_USER = \"neo4j\"\n",
    "DB_PASS = \"test1234\"\n",
    "DB_NAME = \"events\""
   ]
  },
  {
   "cell_type": "markdown",
   "metadata": {},
   "source": [
    "# Create driver\n",
    "Also set the DB_NAME"
   ]
  },
  {
   "cell_type": "code",
   "execution_count": null,
   "metadata": {},
   "outputs": [],
   "source": [
    "import os\n",
    "import pandas as pd\n",
    "import numpy as np\n",
    "import plotly.graph_objects as go\n",
    "from neo4j import GraphDatabase # Python database driver\n",
    "from graphdatascience import GraphDataScience # Python GDS client\n",
    "\n",
    "# And some cermony to create the driver and gds objects\n",
    "driver = GraphDatabase.driver(DB_ULR, auth=(DB_USER, DB_PASS))\n",
    "gds = GraphDataScience.from_neo4j_driver(driver=driver)\n",
    "gds.set_database(DB_NAME)"
   ]
  },
  {
   "cell_type": "markdown",
   "metadata": {},
   "source": [
    "# Create databse and schema"
   ]
  },
  {
   "cell_type": "code",
   "execution_count": null,
   "metadata": {},
   "outputs": [],
   "source": [
    "# Create (or replace) database\n",
    "with driver.session(database = \"system\") as session:\n",
    "    result = session.execute_write( lambda tx: \n",
    "        tx.run(\n",
    "            #\"create database {dbname} if not exists options {{ storeFormat: 'freki'}}\".format(dbname = DB_NAME)\n",
    "            \"create database {dbname} if not exists options {{ storeFormat: 'aligned'}}\".format(dbname = DB_NAME)\n",
    "        ).data()\n",
    "    )\n",
    "    df = pd.DataFrame(result)\n",
    "    print(df)"
   ]
  },
  {
   "cell_type": "code",
   "execution_count": null,
   "metadata": {},
   "outputs": [],
   "source": [
    "# Create indexes and constraints\n",
    "with driver.session(database = DB_NAME) as session:\n",
    "    session.execute_write( lambda tx: \n",
    "        tx.run(\n",
    "            \"CREATE CONSTRAINT IF NOT EXISTS FOR (n:Visitor) REQUIRE (n.id) IS NODE KEY\"\n",
    "        ).consume()\n",
    "    )\n",
    "    session.execute_write( lambda tx: \n",
    "        tx.run(\n",
    "            \"CREATE CONSTRAINT IF NOT EXISTS FOR (n:Item) REQUIRE (n.id) IS NODE KEY\"\n",
    "        ).consume()     \n",
    "    )"
   ]
  },
  {
   "cell_type": "markdown",
   "metadata": {},
   "source": [
    "#  Load data"
   ]
  },
  {
   "cell_type": "code",
   "execution_count": null,
   "metadata": {},
   "outputs": [],
   "source": [
    "# Read csv file\n",
    "# Source https://www.kaggle.com/retailrocket/ecommerce-dataset?select=events.csv\n",
    "csv = pd.read_csv('/Users/haklof/datasets/events.csv')\n",
    "print(csv)"
   ]
  },
  {
   "cell_type": "code",
   "execution_count": null,
   "metadata": {},
   "outputs": [],
   "source": []
  },
  {
   "cell_type": "code",
   "execution_count": null,
   "metadata": {},
   "outputs": [],
   "source": [
    "# Select all unique visitors\n",
    "visitors = csv['visitorid'].drop_duplicates().dropna()\n",
    "print(visitors)"
   ]
  },
  {
   "cell_type": "code",
   "execution_count": null,
   "metadata": {},
   "outputs": [],
   "source": [
    "# Create Visitor nodes\n",
    "for chunk in np.array_split(visitors, 10):\n",
    "    with driver.session(database = DB_NAME) as session:\n",
    "        result = session.execute_write( lambda tx: \n",
    "            tx.run(\n",
    "                \"\"\"\n",
    "                UNWIND $visitors as visitorId\n",
    "                MERGE (v:Visitor{id: visitorId})\n",
    "                RETURN count(*) as nodesCreated\n",
    "                \"\"\",\n",
    "                visitors = chunk.to_list()\n",
    "            ).data()\n",
    "        )\n",
    "        df = pd.DataFrame(result)\n",
    "        print(df)"
   ]
  },
  {
   "cell_type": "code",
   "execution_count": null,
   "metadata": {},
   "outputs": [],
   "source": [
    "# Select all unique Items\n",
    "items = csv['itemid'].drop_duplicates().dropna()\n",
    "print(items)"
   ]
  },
  {
   "cell_type": "code",
   "execution_count": null,
   "metadata": {},
   "outputs": [],
   "source": [
    "# Create Item nodes\n",
    "with driver.session(database = DB_NAME) as session:\n",
    "    result = session.execute_write( lambda tx: \n",
    "        tx.run(\n",
    "            \"\"\"\n",
    "            UNWIND $items as itemId\n",
    "            MERGE (:Item{id: itemId})\n",
    "            RETURN count(*) as nodesCreated\n",
    "            \"\"\",\n",
    "            items = items.to_list()\n",
    "        ).data()\n",
    "    )\n",
    "    df = pd.DataFrame(result)\n",
    "    print(df)"
   ]
  },
  {
   "cell_type": "code",
   "execution_count": null,
   "metadata": {},
   "outputs": [],
   "source": [
    "# Select all VIEWD relationships\n",
    "viewed = csv[csv['event'] == 'view'][['visitorid','itemid', 'timestamp']]\n",
    "print(viewed)"
   ]
  },
  {
   "cell_type": "code",
   "execution_count": null,
   "metadata": {},
   "outputs": [],
   "source": [
    "# Create VIEWED relationships\n",
    "for chunk in np.array_split(viewed, 20):\n",
    "    with driver.session(database = DB_NAME) as session:\n",
    "        result = session.execute_write( lambda tx: \n",
    "            tx.run(\n",
    "                \"\"\"\n",
    "                UNWIND $data as rel\n",
    "                MATCH (i:Item{id: rel.itemid}), (v:Visitor{id: rel.visitorid})\n",
    "                MERGE (v)-[:VIEWED{timestamp:  datetime({epochMillis: rel.timestamp})}]->(i)\n",
    "                RETURN count(*) as relsCreated\n",
    "                \"\"\",\n",
    "                data = chunk.to_dict('records')\n",
    "            ).data()\n",
    "        )\n",
    "        df = pd.DataFrame(result)\n",
    "        print(df)"
   ]
  },
  {
   "cell_type": "code",
   "execution_count": null,
   "metadata": {},
   "outputs": [],
   "source": [
    "# Select all ADDED relationships\n",
    "added = csv[csv['event'] == 'addtocart'][['visitorid','itemid', 'timestamp']]\n",
    "print(added)"
   ]
  },
  {
   "cell_type": "code",
   "execution_count": null,
   "metadata": {},
   "outputs": [],
   "source": [
    "# Create ADDED relationships\n",
    "with driver.session(database = DB_NAME) as session:\n",
    "    result = session.execute_write( lambda tx: \n",
    "        tx.run(\n",
    "            \"\"\"\n",
    "            UNWIND $data as rel\n",
    "            MATCH (i:Item{id: rel.itemid}), (v:Visitor{id: rel.visitorid})\n",
    "            CREATE (v)-[:ADDED{timestamp:  datetime({epochMillis: rel.timestamp})}]->(i)\n",
    "            RETURN count(*) as relsCreated\n",
    "            \"\"\",\n",
    "            data = added.to_dict('records')\n",
    "        ).data()\n",
    "    )\n",
    "    df = pd.DataFrame(result)\n",
    "    print(df)"
   ]
  },
  {
   "cell_type": "code",
   "execution_count": null,
   "metadata": {},
   "outputs": [],
   "source": [
    "# Select all BOUGHT relationships\n",
    "bought = csv[csv['event'] == 'transaction'][['visitorid','itemid', 'timestamp', 'transactionid']]\n",
    "bought.transactionid = bought.transactionid.astype(int)\n",
    "print(bought)"
   ]
  },
  {
   "cell_type": "code",
   "execution_count": null,
   "metadata": {},
   "outputs": [],
   "source": [
    "# Create BOUGHT relationships\n",
    "with driver.session(database = DB_NAME) as session:\n",
    "    result = session.execute_write( lambda tx: \n",
    "        tx.run(\n",
    "            \"\"\"\n",
    "            UNWIND $data as rel\n",
    "            MATCH (i:Item{id: rel.itemid}), (v:Visitor{id: rel.visitorid})\n",
    "            CREATE (v)-[:BOUGHT{timestamp: datetime({epochMillis: rel.timestamp}), transactionid: rel.transactionid}]->(i)\n",
    "            RETURN count(*) as relsCreated\n",
    "            \"\"\",\n",
    "            data = bought.to_dict('records')\n",
    "        ).data()\n",
    "    )\n",
    "    df = pd.DataFrame(result)\n",
    "    print(df)"
   ]
  },
  {
   "cell_type": "markdown",
   "metadata": {},
   "source": [
    "# Some basic queries"
   ]
  },
  {
   "cell_type": "code",
   "execution_count": null,
   "metadata": {},
   "outputs": [],
   "source": [
    "# Top sellers\n",
    "with driver.session(database = DB_NAME) as session:\n",
    "    result = session.execute_read( lambda tx: \n",
    "        tx.run(\n",
    "            \"\"\"\n",
    "            MATCH (i:Item)<-[:BOUGHT]-()\n",
    "            RETURN  i.id as itemid, \n",
    "                    count(*) as times_bought,\n",
    "                    size( (i:Item)<-[:ADDED]-() ) as times_added,\n",
    "                    size( (i:Item)<-[:VIEWED]-() ) as times_viewed\n",
    "            ORDER BY times_bought desc limit $limit\n",
    "            \"\"\",\n",
    "            limit = 10\n",
    "        ).data()\n",
    "    )\n",
    "    df = pd.DataFrame(result)\n",
    "    print(df)"
   ]
  },
  {
   "cell_type": "code",
   "execution_count": null,
   "metadata": {},
   "outputs": [],
   "source": [
    "# Collaberative filtering\n",
    "# Suggest what other Items Visitors buy for a Visitor veiwing an Item (where the Visitor has not added/bought the Item already)\n",
    "result = None\n",
    "with driver.session(database = DB_NAME) as session:\n",
    "    result = session.execute_read( lambda tx: \n",
    "        tx.run(\n",
    "            \"\"\"\n",
    "            MATCH (i:Item{id: $itemid})<-[:VIEWED]-(visitor)-[bought:BOUGHT]->(otherItem)\n",
    "            WHERE i <> otherItem\n",
    "            AND NOT (:Visitor{id: $visitorid})-[:BOUGHT|ADDED]->(otherItem)\n",
    "            RETURN  otherItem.id as product_bought, \n",
    "                    count(distinct bought) as times_bought\n",
    "            ORDER BY times_bought desc limit $limit\n",
    "            \"\"\",\n",
    "            limit = 10, itemid = 461686, visitorid=201110\n",
    "        ).to_df()\n",
    "    )\n",
    "result.head()"
   ]
  },
  {
   "cell_type": "code",
   "execution_count": null,
   "metadata": {},
   "outputs": [],
   "source": [
    "# Collaberative filtering (alternative)\n",
    "# Suggest based on what other items that were checked out in same transaction\n",
    "with driver.session(database = DB_NAME) as session:\n",
    "    result = session.execute_read( lambda tx: \n",
    "        tx.run(\n",
    "            \"\"\"\n",
    "            MATCH (i:Item{id: $itemid})<-[b1:BOUGHT]-(visitor)-[b2:BOUGHT]->(otherItem)\n",
    "            WHERE i <> otherItem\n",
    "            AND b1.transactionid = b2.transactionid\n",
    "            AND NOT (:Visitor{id: $visitorid})-[:BOUGHT|ADDED]->(otherItem)\n",
    "            RETURN  otherItem.id as product_bought, \n",
    "                    count(distinct b1.transactionid) as times_bought_together\n",
    "            ORDER BY times_bought_together desc limit $limit\n",
    "            \"\"\",\n",
    "            limit = 10, itemid = 461686, visitorid=201110\n",
    "        ).data()\n",
    "    )\n",
    "    df = pd.DataFrame(result)\n",
    "    print(df)"
   ]
  },
  {
   "cell_type": "markdown",
   "metadata": {},
   "source": [
    "# Questions so far?"
   ]
  },
  {
   "cell_type": "markdown",
   "metadata": {},
   "source": [
    "# Graph data science"
   ]
  },
  {
   "cell_type": "code",
   "execution_count": null,
   "metadata": {},
   "outputs": [],
   "source": [
    "# Do we have any \"abnormal visitors\"\n",
    "with driver.session(database = DB_NAME) as session:\n",
    "    result = session.execute_read( lambda tx: \n",
    "        tx.run(\n",
    "            \"\"\"\n",
    "            MATCH (v:Visitor)-[:VIEWED|ADDED|BOUGHT]->()\n",
    "            WITH v, \n",
    "                 count(*) as number_of_events\n",
    "            RETURN  max(number_of_events) as `max`,\n",
    "                    percentileCont(number_of_events, 0.999) as `p0.999`,\n",
    "                    percentileCont(number_of_events, 0.99) as `p0.99`,\n",
    "                    percentileCont(number_of_events, 0.9) as `p0.90`,\n",
    "                    percentileCont(number_of_events, 0.75) as `p0.75`,\n",
    "                    min(number_of_events) as `min`\n",
    "            \"\"\",\n",
    "            limit = 10\n",
    "        ).data()\n",
    "    )\n",
    "    df = pd.DataFrame(result)\n",
    "    print(df)"
   ]
  },
  {
   "cell_type": "code",
   "execution_count": null,
   "metadata": {},
   "outputs": [],
   "source": [
    "# Re-label abnormal visitors\n",
    "with driver.session(database = DB_NAME) as session:\n",
    "    result = session.execute_write( lambda tx: \n",
    "        tx.run(\n",
    "            \"\"\"\n",
    "            MATCH (v:Visitor)-[:VIEWED|ADDED|BOUGHT]->()\n",
    "            WITH v, \n",
    "                 count(*) as number_of_events\n",
    "            WHERE number_of_events > 50\n",
    "            SET v:AbnormalVisitor\n",
    "            REMOVE v:Visitor\n",
    "            RETURN count(*) as number_of_abnormal_visitors\n",
    "            \"\"\",\n",
    "            limit = 10\n",
    "        ).data()\n",
    "    )\n",
    "    df = pd.DataFrame(result)\n",
    "    print(df)"
   ]
  },
  {
   "cell_type": "markdown",
   "metadata": {},
   "source": [
    "# How to do it from the neo4j browser / cypher shell\n",
    "```cypher\n",
    "call gds.graph.create.cypher(\n",
    "    'items',\n",
    "    'MATCH (i:Item) return id(i) as id',\n",
    "    'MATCH (i1:Item)<-[r1:VIEWED]-(v:Visitor)-[r2:VIEWED|ADDED|BOUGHT]->(i2:Item)\n",
    "     WHERE r1.timestamp<r2.timestamp\n",
    "     WITH i1, i2, r1, case type(r2) when \"BOUGHT\" then 1.0 when \"ADDED\" then 0.7 else 0.2 end as weight\n",
    "     RETURN id(i1) as target, id(i2) as source, weight',\n",
    "     {readConcurrency:16}\n",
    ")\n",
    "\n",
    "call gds.pageRank.stats('items', {maxIterations:200, relationshipWeightProperty:'weight', concurrency:16})\n",
    "\n",
    "call gds.pageRank.write('items', {maxIterations:200, relationshipWeightProperty:'weight', concurrency:16, writeProperty:'pagerank'})\n",
    "\n",
    "call gds.graph.drop('items')\n",
    "\n",
    "```"
   ]
  },
  {
   "cell_type": "markdown",
   "metadata": {},
   "source": [
    "# How to do it with the GraphDataScience python wrapper"
   ]
  },
  {
   "cell_type": "code",
   "execution_count": null,
   "metadata": {},
   "outputs": [],
   "source": [
    "G, project_stats = gds.graph.project.cypher(\n",
    "    'items',\n",
    "    \"\"\"\n",
    "    MATCH (i:Item) return id(i) as id\n",
    "    \"\"\",\n",
    "    \"\"\"\n",
    "        MATCH (i1:Item)<-[r1:VIEWED]-(v:Visitor)-[r2:VIEWED|ADDED|BOUGHT]->(i2:Item)\n",
    "        WHERE r1.timestamp<r2.timestamp\n",
    "        WITH i1, i2, r1, case type(r2) when \"BOUGHT\" then 1.0 when \"ADDED\" then 0.7 else 0.2 end as weight\n",
    "        RETURN id(i1) as target, id(i2) as source, weight\n",
    "     \"\"\",\n",
    "    readConcurrency=16\n",
    ")\n",
    "project_stats"
   ]
  },
  {
   "cell_type": "code",
   "execution_count": null,
   "metadata": {},
   "outputs": [],
   "source": [
    "G = gds.graph.get('items')\n",
    "pagerankRes = gds.pageRank.write(G, maxIterations=200, relationshipWeightProperty='weight', concurrency=16, writeProperty='pagerank')\n",
    "print(pagerankRes)"
   ]
  },
  {
   "cell_type": "code",
   "execution_count": null,
   "metadata": {},
   "outputs": [],
   "source": [
    "G = gds.graph.get('items')\n",
    "G.drop()"
   ]
  },
  {
   "cell_type": "code",
   "execution_count": null,
   "metadata": {},
   "outputs": [],
   "source": [
    "# Can we suggest an Item with high probability of conversion (central to conversion)\n",
    "with driver.session(database = DB_NAME) as session:\n",
    "    result = session.execute_read( lambda tx: \n",
    "        tx.run(\n",
    "            \"\"\"\n",
    "            MATCH (i:Item{id: $itemid})<-[:VIEWED]-(visitor)-[bought:BOUGHT]->(otherItem)\n",
    "            WHERE i <> otherItem\n",
    "            AND NOT (:Visitor{id: $visitorid})-[:BOUGHT|ADDED]->(otherItem)\n",
    "            RETURN  otherItem.id as product_bought,\n",
    "                    otherItem.pagerank as rank,\n",
    "                    count(distinct bought) as times_bought\n",
    "            ORDER BY rank desc limit $limit\n",
    "            \"\"\",\n",
    "            limit = 10, itemid = 461686, visitorid=684514\n",
    "        ).data()\n",
    "    )\n",
    "df = pd.DataFrame(result)\n",
    "print(df)"
   ]
  }
 ],
 "metadata": {
  "kernelspec": {
   "display_name": "Python 3.9.13 ('notebooks')",
   "language": "python",
   "name": "python3"
  },
  "language_info": {
   "codemirror_mode": {
    "name": "ipython",
    "version": 3
   },
   "file_extension": ".py",
   "mimetype": "text/x-python",
   "name": "python",
   "nbconvert_exporter": "python",
   "pygments_lexer": "ipython3",
   "version": "3.9.16"
  },
  "vscode": {
   "interpreter": {
    "hash": "c68434ca16130d73e64183f54aeda16ecffce872c062f16976fd0d983519d848"
   }
  }
 },
 "nbformat": 4,
 "nbformat_minor": 4
}
