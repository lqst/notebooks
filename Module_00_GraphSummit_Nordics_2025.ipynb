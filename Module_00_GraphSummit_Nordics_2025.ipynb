{
  "cells": [
    {
      "cell_type": "markdown",
      "metadata": {},
      "source": [
        "# Module objectives\n",
        "- Navigation and instructions\n"
      ]
    },
    {
      "cell_type": "markdown",
      "metadata": {},
      "source": [
        "## How to open module on the Jupyter Server\n",
        "Select File -> Open from URL ... \n",
        "\n",
        "Module 1: https://raw.githubusercontent.com/lqst/notebooks/refs/heads/main/Module_01_GraphSummit_Nordics_2025.ipynb\n",
        "\n",
        "Module 2: https://raw.githubusercontent.com/lqst/notebooks/refs/heads/main/Module_02_GraphSummit_Nordics_2025.ipynb\n",
        "\n",
        "Module 3: https://raw.githubusercontent.com/lqst/notebooks/refs/heads/main/Module_03_GraphSummit_Nordics_2025.ipynb\n",
        "\n"
      ]
    },
    {
      "cell_type": "markdown",
      "metadata": {},
      "source": [
        "## Neo4j Browser\n",
        "https://browser.neo4j.io/preview/"
      ]
    }
  ],
  "metadata": {
    "colab": {
      "provenance": []
    },
    "kernelspec": {
      "display_name": "notebooks_new",
      "language": "python",
      "name": "python3"
    },
    "language_info": {
      "codemirror_mode": {
        "name": "ipython",
        "version": 3
      },
      "file_extension": ".py",
      "mimetype": "text/x-python",
      "name": "python",
      "nbconvert_exporter": "python",
      "pygments_lexer": "ipython3",
      "version": "3.11.0"
    }
  },
  "nbformat": 4,
  "nbformat_minor": 0
}
