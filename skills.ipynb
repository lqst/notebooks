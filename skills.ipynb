{
 "cells": [
  {
   "cell_type": "markdown",
   "metadata": {
    "id": "ynPe6RLRWSKd"
   },
   "source": [
    "# Setup"
   ]
  },
  {
   "cell_type": "markdown",
   "metadata": {
    "id": "09qvRMrxye7l"
   },
   "source": [
    "Import our usual suspects"
   ]
  },
  {
   "cell_type": "code",
   "execution_count": 66,
   "metadata": {
    "id": "BOfc_-mllcUE"
   },
   "outputs": [],
   "source": [
    "import os\n",
    "import pandas as pd\n",
    "from dotenv import load_dotenv\n",
    "from graphdatascience import GraphDataScience\n",
    "from neo4j import Query, GraphDatabase, RoutingControl, Result "
   ]
  },
  {
   "cell_type": "markdown",
   "metadata": {
    "id": "pa61u1jfyk3t"
   },
   "source": [
    "Register for a sandbox and create an empty sandbox  https://sandbox.neo4j.com"
   ]
  },
  {
   "cell_type": "code",
   "execution_count": 67,
   "metadata": {
    "id": "CHR_0lmElZ-R"
   },
   "outputs": [],
   "source": [
    "# Capture connection string and auth info\n",
    "connectionUrl = 'neo4j://localhost:7687'\n",
    "username = 'neo4j'\n",
    "password = 'test1234'\n",
    "database = 'upm'"
   ]
  },
  {
   "cell_type": "code",
   "execution_count": 68,
   "metadata": {},
   "outputs": [],
   "source": [
    "driver = GraphDatabase.driver(\n",
    "    connectionUrl, \n",
    "    auth=(username, password)\n",
    ")\n",
    "driver.verify_connectivity()"
   ]
  },
  {
   "cell_type": "code",
   "execution_count": 69,
   "metadata": {},
   "outputs": [],
   "source": [
    "## Utility\n",
    "def split_dataframe(df, chunk_size = 50_000): \n",
    "    chunks = list()\n",
    "    num_chunks = len(df) // chunk_size + 1\n",
    "    for i in range(num_chunks):\n",
    "        chunks.append(df[i*chunk_size:(i+1)*chunk_size])\n",
    "    return chunks"
   ]
  },
  {
   "cell_type": "markdown",
   "metadata": {
    "id": "0OMlYdxHWZLx"
   },
   "source": [
    "# Graph creation"
   ]
  },
  {
   "cell_type": "code",
   "execution_count": 70,
   "metadata": {
    "id": "LbsQlwvwku0b"
   },
   "outputs": [
    {
     "data": {
      "text/html": [
       "<div>\n",
       "<style scoped>\n",
       "    .dataframe tbody tr th:only-of-type {\n",
       "        vertical-align: middle;\n",
       "    }\n",
       "\n",
       "    .dataframe tbody tr th {\n",
       "        vertical-align: top;\n",
       "    }\n",
       "\n",
       "    .dataframe thead th {\n",
       "        text-align: right;\n",
       "    }\n",
       "</style>\n",
       "<table border=\"1\" class=\"dataframe\">\n",
       "  <thead>\n",
       "    <tr style=\"text-align: right;\">\n",
       "      <th></th>\n",
       "      <th>email</th>\n",
       "      <th>name</th>\n",
       "      <th>skills</th>\n",
       "    </tr>\n",
       "  </thead>\n",
       "  <tbody>\n",
       "    <tr>\n",
       "      <th>0</th>\n",
       "      <td>john.smith@test.org</td>\n",
       "      <td>John Smith</td>\n",
       "      <td>Python, SQL, Data Analysis</td>\n",
       "    </tr>\n",
       "    <tr>\n",
       "      <th>1</th>\n",
       "      <td>alice.johnson@test.org</td>\n",
       "      <td>Alice Johnson</td>\n",
       "      <td>Java, JavaScript, ReactJS</td>\n",
       "    </tr>\n",
       "    <tr>\n",
       "      <th>2</th>\n",
       "      <td>michael.lee@test.org</td>\n",
       "      <td>Michael Lee</td>\n",
       "      <td>C++, Machine Learning, TensorFlow</td>\n",
       "    </tr>\n",
       "    <tr>\n",
       "      <th>3</th>\n",
       "      <td>emily.chen@test.org</td>\n",
       "      <td>Emily Chen</td>\n",
       "      <td>HTML/CSS, WordPress, Graphic Design</td>\n",
       "    </tr>\n",
       "    <tr>\n",
       "      <th>4</th>\n",
       "      <td>david.nguyen@test.org</td>\n",
       "      <td>David Nguyen</td>\n",
       "      <td>Ruby on Rails, DevOps, AWS</td>\n",
       "    </tr>\n",
       "    <tr>\n",
       "      <th>5</th>\n",
       "      <td>sarah.brown@test.org</td>\n",
       "      <td>Sarah Brown</td>\n",
       "      <td>PHP, MySQL, Laravel</td>\n",
       "    </tr>\n",
       "    <tr>\n",
       "      <th>6</th>\n",
       "      <td>alex.wang@test.org</td>\n",
       "      <td>Alex Wang</td>\n",
       "      <td>Swift, iOS Development, UX/UI Design</td>\n",
       "    </tr>\n",
       "    <tr>\n",
       "      <th>7</th>\n",
       "      <td>rachel.kim@test.org</td>\n",
       "      <td>Rachel Kim</td>\n",
       "      <td>JavaScript, Node.js, MongoDB</td>\n",
       "    </tr>\n",
       "    <tr>\n",
       "      <th>8</th>\n",
       "      <td>kevin.patel@test.org</td>\n",
       "      <td>Kevin Patel</td>\n",
       "      <td>Java, Spring Boot, Microservices</td>\n",
       "    </tr>\n",
       "    <tr>\n",
       "      <th>9</th>\n",
       "      <td>laura.garcia@test.org</td>\n",
       "      <td>Laura Garcia</td>\n",
       "      <td>Python, Django, Flask</td>\n",
       "    </tr>\n",
       "  </tbody>\n",
       "</table>\n",
       "</div>"
      ],
      "text/plain": [
       "                    email           name                                skills\n",
       "0     john.smith@test.org     John Smith            Python, SQL, Data Analysis\n",
       "1  alice.johnson@test.org  Alice Johnson             Java, JavaScript, ReactJS\n",
       "2    michael.lee@test.org    Michael Lee     C++, Machine Learning, TensorFlow\n",
       "3     emily.chen@test.org     Emily Chen   HTML/CSS, WordPress, Graphic Design\n",
       "4   david.nguyen@test.org   David Nguyen            Ruby on Rails, DevOps, AWS\n",
       "5    sarah.brown@test.org    Sarah Brown                   PHP, MySQL, Laravel\n",
       "6      alex.wang@test.org      Alex Wang  Swift, iOS Development, UX/UI Design\n",
       "7     rachel.kim@test.org     Rachel Kim          JavaScript, Node.js, MongoDB\n",
       "8    kevin.patel@test.org    Kevin Patel      Java, Spring Boot, Microservices\n",
       "9   laura.garcia@test.org   Laura Garcia                 Python, Django, Flask"
      ]
     },
     "execution_count": 70,
     "metadata": {},
     "output_type": "execute_result"
    }
   ],
   "source": [
    "skills_csv = pd.read_csv('skills.csv', delimiter='\\t')\n",
    "skills_csv.head(30)"
   ]
  },
  {
   "cell_type": "code",
   "execution_count": 71,
   "metadata": {},
   "outputs": [
    {
     "data": {
      "text/html": [
       "<div>\n",
       "<style scoped>\n",
       "    .dataframe tbody tr th:only-of-type {\n",
       "        vertical-align: middle;\n",
       "    }\n",
       "\n",
       "    .dataframe tbody tr th {\n",
       "        vertical-align: top;\n",
       "    }\n",
       "\n",
       "    .dataframe thead th {\n",
       "        text-align: right;\n",
       "    }\n",
       "</style>\n",
       "<table border=\"1\" class=\"dataframe\">\n",
       "  <thead>\n",
       "    <tr style=\"text-align: right;\">\n",
       "      <th></th>\n",
       "      <th>email</th>\n",
       "      <th>name</th>\n",
       "      <th>skills</th>\n",
       "    </tr>\n",
       "  </thead>\n",
       "  <tbody>\n",
       "    <tr>\n",
       "      <th>0</th>\n",
       "      <td>john.smith@test.org</td>\n",
       "      <td>John Smith</td>\n",
       "      <td>[Python, SQL, Data Analysis]</td>\n",
       "    </tr>\n",
       "    <tr>\n",
       "      <th>1</th>\n",
       "      <td>alice.johnson@test.org</td>\n",
       "      <td>Alice Johnson</td>\n",
       "      <td>[Java, JavaScript, ReactJS]</td>\n",
       "    </tr>\n",
       "    <tr>\n",
       "      <th>2</th>\n",
       "      <td>michael.lee@test.org</td>\n",
       "      <td>Michael Lee</td>\n",
       "      <td>[C++, Machine Learning, TensorFlow]</td>\n",
       "    </tr>\n",
       "    <tr>\n",
       "      <th>3</th>\n",
       "      <td>emily.chen@test.org</td>\n",
       "      <td>Emily Chen</td>\n",
       "      <td>[HTML/CSS, WordPress, Graphic Design]</td>\n",
       "    </tr>\n",
       "    <tr>\n",
       "      <th>4</th>\n",
       "      <td>david.nguyen@test.org</td>\n",
       "      <td>David Nguyen</td>\n",
       "      <td>[Ruby on Rails, DevOps, AWS]</td>\n",
       "    </tr>\n",
       "  </tbody>\n",
       "</table>\n",
       "</div>"
      ],
      "text/plain": [
       "                    email           name  \\\n",
       "0     john.smith@test.org     John Smith   \n",
       "1  alice.johnson@test.org  Alice Johnson   \n",
       "2    michael.lee@test.org    Michael Lee   \n",
       "3     emily.chen@test.org     Emily Chen   \n",
       "4   david.nguyen@test.org   David Nguyen   \n",
       "\n",
       "                                  skills  \n",
       "0           [Python, SQL, Data Analysis]  \n",
       "1            [Java, JavaScript, ReactJS]  \n",
       "2    [C++, Machine Learning, TensorFlow]  \n",
       "3  [HTML/CSS, WordPress, Graphic Design]  \n",
       "4           [Ruby on Rails, DevOps, AWS]  "
      ]
     },
     "execution_count": 71,
     "metadata": {},
     "output_type": "execute_result"
    }
   ],
   "source": [
    "skills_csv['skills'] = skills_csv['skills'].str.split(', ')\n",
    "skills_csv.head()"
   ]
  },
  {
   "cell_type": "markdown",
   "metadata": {},
   "source": [
    "### Schema"
   ]
  },
  {
   "cell_type": "code",
   "execution_count": 72,
   "metadata": {
    "id": "cdTfdAyV2ZaR"
   },
   "outputs": [
    {
     "data": {
      "text/html": [
       "<div>\n",
       "<style scoped>\n",
       "    .dataframe tbody tr th:only-of-type {\n",
       "        vertical-align: middle;\n",
       "    }\n",
       "\n",
       "    .dataframe tbody tr th {\n",
       "        vertical-align: top;\n",
       "    }\n",
       "\n",
       "    .dataframe thead th {\n",
       "        text-align: right;\n",
       "    }\n",
       "</style>\n",
       "<table border=\"1\" class=\"dataframe\">\n",
       "  <thead>\n",
       "    <tr style=\"text-align: right;\">\n",
       "      <th></th>\n",
       "      <th>id</th>\n",
       "      <th>name</th>\n",
       "      <th>type</th>\n",
       "      <th>entityType</th>\n",
       "      <th>labelsOrTypes</th>\n",
       "      <th>properties</th>\n",
       "      <th>ownedIndex</th>\n",
       "      <th>propertyType</th>\n",
       "    </tr>\n",
       "  </thead>\n",
       "  <tbody>\n",
       "    <tr>\n",
       "      <th>0</th>\n",
       "      <td>7</td>\n",
       "      <td>constraint_63bf11a1</td>\n",
       "      <td>NODE_KEY</td>\n",
       "      <td>NODE</td>\n",
       "      <td>[Skill]</td>\n",
       "      <td>[name]</td>\n",
       "      <td>constraint_63bf11a1</td>\n",
       "      <td>None</td>\n",
       "    </tr>\n",
       "    <tr>\n",
       "      <th>1</th>\n",
       "      <td>5</td>\n",
       "      <td>constraint_d3bfd313</td>\n",
       "      <td>NODE_KEY</td>\n",
       "      <td>NODE</td>\n",
       "      <td>[Person]</td>\n",
       "      <td>[email]</td>\n",
       "      <td>constraint_d3bfd313</td>\n",
       "      <td>None</td>\n",
       "    </tr>\n",
       "    <tr>\n",
       "      <th>2</th>\n",
       "      <td>3</td>\n",
       "      <td>constraint_f7832722</td>\n",
       "      <td>UNIQUENESS</td>\n",
       "      <td>NODE</td>\n",
       "      <td>[_Bloom_Perspective_]</td>\n",
       "      <td>[id]</td>\n",
       "      <td>constraint_f7832722</td>\n",
       "      <td>None</td>\n",
       "    </tr>\n",
       "  </tbody>\n",
       "</table>\n",
       "</div>"
      ],
      "text/plain": [
       "   id                 name        type entityType          labelsOrTypes  \\\n",
       "0   7  constraint_63bf11a1    NODE_KEY       NODE                [Skill]   \n",
       "1   5  constraint_d3bfd313    NODE_KEY       NODE               [Person]   \n",
       "2   3  constraint_f7832722  UNIQUENESS       NODE  [_Bloom_Perspective_]   \n",
       "\n",
       "  properties           ownedIndex propertyType  \n",
       "0     [name]  constraint_63bf11a1         None  \n",
       "1    [email]  constraint_d3bfd313         None  \n",
       "2       [id]  constraint_f7832722         None  "
      ]
     },
     "execution_count": 72,
     "metadata": {},
     "output_type": "execute_result"
    }
   ],
   "source": [
    "schema_statements = [\n",
    "    'create constraint if not exists for (n:Person) require (n.email) is node key',\n",
    "    'create constraint if not exists for (n:Skill) require (n.name) is node key',\n",
    "]\n",
    "for statement in schema_statements:\n",
    "    driver.execute_query(\n",
    "        statement,\n",
    "        database_=database,\n",
    "        routing_=RoutingControl.WRITE\n",
    "    )\n",
    "\n",
    "# Fetch all constraints\n",
    "schema_result_df  = driver.execute_query(\n",
    "    'show constraints',\n",
    "    database_=database,\n",
    "    routing_=RoutingControl.READ,\n",
    "    result_transformer_= lambda r: r.to_df()\n",
    ")\n",
    "schema_result_df.head(100)\n"
   ]
  },
  {
   "cell_type": "code",
   "execution_count": 73,
   "metadata": {
    "id": "uduojIopm0qV"
   },
   "outputs": [],
   "source": [
    "# Create a graph for (:Person)-[:KNOWS]->(:Skill)\n",
    "for chunk in split_dataframe(skills_csv):\n",
    "    records, summary, keys = driver.execute_query(\n",
    "        ''' \n",
    "            unwind $rows as row\n",
    "            merge (p:Person{email:row.email})\n",
    "            set p.name = row.name\n",
    "            with p, row\n",
    "            foreach(skill in row.skills | merge (s:Skill{name:skill}) merge (p)-[:KNOWS]->(s) )\n",
    "            return count(*) as rows_processed\n",
    "        ''',\n",
    "        database_=database,\n",
    "        routing_=RoutingControl.WRITE,\n",
    "        rows = chunk.to_dict('records')\n",
    "    )"
   ]
  },
  {
   "cell_type": "markdown",
   "metadata": {},
   "source": [
    "### Create a normalized skill name and index it"
   ]
  },
  {
   "cell_type": "code",
   "execution_count": 74,
   "metadata": {},
   "outputs": [],
   "source": [
    "with driver.session(database=database) as session:\n",
    "    session.run(\n",
    "        ''' \n",
    "            match (s:Skill)\n",
    "            call (s) { \n",
    "                set s.norm_name = toLower(s.name)\n",
    "            } in transactions of 50_000 rows\n",
    "        '''\n",
    "    ).consume()\n",
    "    session.close()"
   ]
  },
  {
   "cell_type": "code",
   "execution_count": 75,
   "metadata": {},
   "outputs": [
    {
     "data": {
      "text/plain": [
       "EagerResult(records=[], summary=<neo4j._work.summary.ResultSummary object at 0x302ed5f70>, keys=[])"
      ]
     },
     "execution_count": 75,
     "metadata": {},
     "output_type": "execute_result"
    }
   ],
   "source": [
    "driver.execute_query(\n",
    "        ''' \n",
    "            create text index if not exists for (n:Skill) on (n.norm_name)\n",
    "        ''',\n",
    "        database_=database,\n",
    "        routing_=RoutingControl.WRITE,\n",
    "    )"
   ]
  },
  {
   "cell_type": "markdown",
   "metadata": {
    "id": "rZo7Gln2jJcF"
   },
   "source": [
    "# Basic navigation of graph with cypher"
   ]
  },
  {
   "cell_type": "code",
   "execution_count": 76,
   "metadata": {
    "id": "70-xbOfgjQsY"
   },
   "outputs": [
    {
     "data": {
      "text/html": [
       "<div>\n",
       "<style scoped>\n",
       "    .dataframe tbody tr th:only-of-type {\n",
       "        vertical-align: middle;\n",
       "    }\n",
       "\n",
       "    .dataframe tbody tr th {\n",
       "        vertical-align: top;\n",
       "    }\n",
       "\n",
       "    .dataframe thead th {\n",
       "        text-align: right;\n",
       "    }\n",
       "</style>\n",
       "<table border=\"1\" class=\"dataframe\">\n",
       "  <thead>\n",
       "    <tr style=\"text-align: right;\">\n",
       "      <th></th>\n",
       "      <th>person_name</th>\n",
       "    </tr>\n",
       "  </thead>\n",
       "  <tbody>\n",
       "    <tr>\n",
       "      <th>0</th>\n",
       "      <td>John Smith</td>\n",
       "    </tr>\n",
       "    <tr>\n",
       "      <th>1</th>\n",
       "      <td>Alice Johnson</td>\n",
       "    </tr>\n",
       "    <tr>\n",
       "      <th>2</th>\n",
       "      <td>Michael Lee</td>\n",
       "    </tr>\n",
       "    <tr>\n",
       "      <th>3</th>\n",
       "      <td>Emily Chen</td>\n",
       "    </tr>\n",
       "    <tr>\n",
       "      <th>4</th>\n",
       "      <td>David Nguyen</td>\n",
       "    </tr>\n",
       "  </tbody>\n",
       "</table>\n",
       "</div>"
      ],
      "text/plain": [
       "     person_name\n",
       "0     John Smith\n",
       "1  Alice Johnson\n",
       "2    Michael Lee\n",
       "3     Emily Chen\n",
       "4   David Nguyen"
      ]
     },
     "execution_count": 76,
     "metadata": {},
     "output_type": "execute_result"
    }
   ],
   "source": [
    "# What persons are in the database?\n",
    "driver.execute_query(\n",
    "    ''' \n",
    "    match (p:Person)\n",
    "    return p.name as person_name\n",
    "    ''',\n",
    "    database_=database,\n",
    "    routing_=RoutingControl.READ,\n",
    "    result_transformer_= lambda r: r.to_df()\n",
    ").head()"
   ]
  },
  {
   "cell_type": "code",
   "execution_count": 78,
   "metadata": {
    "id": "volCOjn_jjm3"
   },
   "outputs": [
    {
     "data": {
      "text/html": [
       "<div>\n",
       "<style scoped>\n",
       "    .dataframe tbody tr th:only-of-type {\n",
       "        vertical-align: middle;\n",
       "    }\n",
       "\n",
       "    .dataframe tbody tr th {\n",
       "        vertical-align: top;\n",
       "    }\n",
       "\n",
       "    .dataframe thead th {\n",
       "        text-align: right;\n",
       "    }\n",
       "</style>\n",
       "<table border=\"1\" class=\"dataframe\">\n",
       "  <thead>\n",
       "    <tr style=\"text-align: right;\">\n",
       "      <th></th>\n",
       "      <th>email</th>\n",
       "      <th>person_name</th>\n",
       "      <th>skills</th>\n",
       "    </tr>\n",
       "  </thead>\n",
       "  <tbody>\n",
       "    <tr>\n",
       "      <th>0</th>\n",
       "      <td>alex.wang@test.org</td>\n",
       "      <td>Alex Wang</td>\n",
       "      <td>[Swift, iOS Development, UX/UI Design]</td>\n",
       "    </tr>\n",
       "    <tr>\n",
       "      <th>1</th>\n",
       "      <td>alice.johnson@test.org</td>\n",
       "      <td>Alice Johnson</td>\n",
       "      <td>[Java, JavaScript, ReactJS]</td>\n",
       "    </tr>\n",
       "    <tr>\n",
       "      <th>2</th>\n",
       "      <td>david.nguyen@test.org</td>\n",
       "      <td>David Nguyen</td>\n",
       "      <td>[Ruby on Rails, DevOps, AWS]</td>\n",
       "    </tr>\n",
       "    <tr>\n",
       "      <th>3</th>\n",
       "      <td>emily.chen@test.org</td>\n",
       "      <td>Emily Chen</td>\n",
       "      <td>[HTML/CSS, WordPress, Graphic Design]</td>\n",
       "    </tr>\n",
       "    <tr>\n",
       "      <th>4</th>\n",
       "      <td>john.smith@test.org</td>\n",
       "      <td>John Smith</td>\n",
       "      <td>[Python, SQL, Data Analysis]</td>\n",
       "    </tr>\n",
       "  </tbody>\n",
       "</table>\n",
       "</div>"
      ],
      "text/plain": [
       "                    email    person_name  \\\n",
       "0      alex.wang@test.org      Alex Wang   \n",
       "1  alice.johnson@test.org  Alice Johnson   \n",
       "2   david.nguyen@test.org   David Nguyen   \n",
       "3     emily.chen@test.org     Emily Chen   \n",
       "4     john.smith@test.org     John Smith   \n",
       "\n",
       "                                   skills  \n",
       "0  [Swift, iOS Development, UX/UI Design]  \n",
       "1             [Java, JavaScript, ReactJS]  \n",
       "2            [Ruby on Rails, DevOps, AWS]  \n",
       "3   [HTML/CSS, WordPress, Graphic Design]  \n",
       "4            [Python, SQL, Data Analysis]  "
      ]
     },
     "execution_count": 78,
     "metadata": {},
     "output_type": "execute_result"
    }
   ],
   "source": [
    "# What skills does each person know?\n",
    "driver.execute_query(\n",
    "    ''' \n",
    "    match (p:Person)-[:KNOWS]->(s:Skill)\n",
    "    return p.email as email, p.name as person_name,collect(s.name) as skills\n",
    "    ''',\n",
    "    database_=database,\n",
    "    routing_=RoutingControl.READ,\n",
    "    result_transformer_= lambda r: r.to_df()\n",
    ").head()"
   ]
  },
  {
   "cell_type": "code",
   "execution_count": 79,
   "metadata": {
    "id": "2yddechtj2MB"
   },
   "outputs": [
    {
     "data": {
      "text/html": [
       "<div>\n",
       "<style scoped>\n",
       "    .dataframe tbody tr th:only-of-type {\n",
       "        vertical-align: middle;\n",
       "    }\n",
       "\n",
       "    .dataframe tbody tr th {\n",
       "        vertical-align: top;\n",
       "    }\n",
       "\n",
       "    .dataframe thead th {\n",
       "        text-align: right;\n",
       "    }\n",
       "</style>\n",
       "<table border=\"1\" class=\"dataframe\">\n",
       "  <thead>\n",
       "    <tr style=\"text-align: right;\">\n",
       "      <th></th>\n",
       "      <th>s.name</th>\n",
       "      <th>knownByCount</th>\n",
       "    </tr>\n",
       "  </thead>\n",
       "  <tbody>\n",
       "    <tr>\n",
       "      <th>0</th>\n",
       "      <td>Java</td>\n",
       "      <td>2</td>\n",
       "    </tr>\n",
       "    <tr>\n",
       "      <th>1</th>\n",
       "      <td>Python</td>\n",
       "      <td>2</td>\n",
       "    </tr>\n",
       "    <tr>\n",
       "      <th>2</th>\n",
       "      <td>JavaScript</td>\n",
       "      <td>2</td>\n",
       "    </tr>\n",
       "    <tr>\n",
       "      <th>3</th>\n",
       "      <td>Data Analysis</td>\n",
       "      <td>1</td>\n",
       "    </tr>\n",
       "    <tr>\n",
       "      <th>4</th>\n",
       "      <td>ReactJS</td>\n",
       "      <td>1</td>\n",
       "    </tr>\n",
       "  </tbody>\n",
       "</table>\n",
       "</div>"
      ],
      "text/plain": [
       "          s.name  knownByCount\n",
       "0           Java             2\n",
       "1         Python             2\n",
       "2     JavaScript             2\n",
       "3  Data Analysis             1\n",
       "4        ReactJS             1"
      ]
     },
     "execution_count": 79,
     "metadata": {},
     "output_type": "execute_result"
    }
   ],
   "source": [
    "# What are the most frequent skills?\n",
    "driver.execute_query(\n",
    "    ''' \n",
    "    match (p:Person)-[:KNOWS]->(s:Skill)\n",
    "    return s.name, count(distinct p) as knownByCount order by knownByCount desc limit 10\n",
    "    ''',\n",
    "    database_=database,\n",
    "    routing_=RoutingControl.READ,\n",
    "    result_transformer_= lambda r: r.to_df()\n",
    ").head()"
   ]
  },
  {
   "cell_type": "markdown",
   "metadata": {
    "id": "kx1UHN87Kfup"
   },
   "source": [
    "# Node similarity"
   ]
  },
  {
   "cell_type": "markdown",
   "metadata": {
    "id": "kulQKQj63Zb_"
   },
   "source": [
    "Let's get this party started"
   ]
  },
  {
   "cell_type": "code",
   "execution_count": 80,
   "metadata": {},
   "outputs": [
    {
     "name": "stderr",
     "output_type": "stream",
     "text": [
      "Received notification from DBMS server: {severity: WARNING} {code: Neo.ClientNotification.Statement.FeatureDeprecationWarning} {category: DEPRECATION} {title: This feature is deprecated and will be removed in future versions.} {description: The query used a deprecated field from a procedure. ('advertisedListenAddress' returned by 'gds.debug.arrow' is deprecated.)} {position: line: 1, column: 1, offset: 0} for query: 'CALL gds.debug.arrow()'\n",
      "Received notification from DBMS server: {severity: WARNING} {code: Neo.ClientNotification.Statement.FeatureDeprecationWarning} {category: DEPRECATION} {title: This feature is deprecated and will be removed in future versions.} {description: The query used a deprecated field from a procedure. ('serverLocation' returned by 'gds.debug.arrow' is deprecated.)} {position: line: 1, column: 1, offset: 0} for query: 'CALL gds.debug.arrow()'\n"
     ]
    },
    {
     "data": {
      "text/plain": [
       "'2.13.1'"
      ]
     },
     "execution_count": 80,
     "metadata": {},
     "output_type": "execute_result"
    }
   ],
   "source": [
    "gds = GraphDataScience(connectionUrl, auth=(username, password))\n",
    "gds.set_database(database)\n",
    "gds.version()"
   ]
  },
  {
   "cell_type": "code",
   "execution_count": 81,
   "metadata": {
    "id": "BDt3N5vPALJS"
   },
   "outputs": [],
   "source": [
    "G, res = gds.graph.project(\n",
    "    \"person_skills_projection\",  # Graph name\n",
    "    [\"Person\", \"Skill\"],         #  Node projection\n",
    "    [\"KNOWS\"]                    #  Relationship projection\n",
    ")\n"
   ]
  },
  {
   "cell_type": "code",
   "execution_count": 82,
   "metadata": {
    "id": "7rBfNJ6A9m65"
   },
   "outputs": [
    {
     "data": {
      "text/plain": [
       "nodeProjection            {'Skill': {'label': 'Skill', 'properties': {}}...\n",
       "relationshipProjection    {'KNOWS': {'aggregation': 'DEFAULT', 'orientat...\n",
       "graphName                                          person_skills_projection\n",
       "nodeCount                                                                37\n",
       "relationshipCount                                                        30\n",
       "projectMillis                                                             8\n",
       "Name: 0, dtype: object"
      ]
     },
     "execution_count": 82,
     "metadata": {},
     "output_type": "execute_result"
    }
   ],
   "source": [
    "res\n"
   ]
  },
  {
   "cell_type": "markdown",
   "metadata": {},
   "source": [
    "Documentation https://neo4j.com/docs/graph-data-science/current/algorithms/node-similarity/"
   ]
  },
  {
   "cell_type": "code",
   "execution_count": 83,
   "metadata": {},
   "outputs": [
    {
     "data": {
      "text/html": [
       "<div>\n",
       "<style scoped>\n",
       "    .dataframe tbody tr th:only-of-type {\n",
       "        vertical-align: middle;\n",
       "    }\n",
       "\n",
       "    .dataframe tbody tr th {\n",
       "        vertical-align: top;\n",
       "    }\n",
       "\n",
       "    .dataframe thead th {\n",
       "        text-align: right;\n",
       "    }\n",
       "</style>\n",
       "<table border=\"1\" class=\"dataframe\">\n",
       "  <thead>\n",
       "    <tr style=\"text-align: right;\">\n",
       "      <th></th>\n",
       "      <th>node1</th>\n",
       "      <th>node2</th>\n",
       "      <th>similarity</th>\n",
       "    </tr>\n",
       "  </thead>\n",
       "  <tbody>\n",
       "    <tr>\n",
       "      <th>0</th>\n",
       "      <td>0</td>\n",
       "      <td>9</td>\n",
       "      <td>0.333333</td>\n",
       "    </tr>\n",
       "    <tr>\n",
       "      <th>1</th>\n",
       "      <td>1</td>\n",
       "      <td>8</td>\n",
       "      <td>0.333333</td>\n",
       "    </tr>\n",
       "    <tr>\n",
       "      <th>2</th>\n",
       "      <td>1</td>\n",
       "      <td>7</td>\n",
       "      <td>0.333333</td>\n",
       "    </tr>\n",
       "    <tr>\n",
       "      <th>3</th>\n",
       "      <td>7</td>\n",
       "      <td>1</td>\n",
       "      <td>0.333333</td>\n",
       "    </tr>\n",
       "    <tr>\n",
       "      <th>4</th>\n",
       "      <td>8</td>\n",
       "      <td>1</td>\n",
       "      <td>0.333333</td>\n",
       "    </tr>\n",
       "    <tr>\n",
       "      <th>5</th>\n",
       "      <td>9</td>\n",
       "      <td>0</td>\n",
       "      <td>0.333333</td>\n",
       "    </tr>\n",
       "  </tbody>\n",
       "</table>\n",
       "</div>"
      ],
      "text/plain": [
       "   node1  node2  similarity\n",
       "0      0      9    0.333333\n",
       "1      1      8    0.333333\n",
       "2      1      7    0.333333\n",
       "3      7      1    0.333333\n",
       "4      8      1    0.333333\n",
       "5      9      0    0.333333"
      ]
     },
     "execution_count": 83,
     "metadata": {},
     "output_type": "execute_result"
    }
   ],
   "source": [
    "gds.nodeSimilarity.stream(\n",
    "    G,\n",
    "    similarityMetric='OVERLAP',\n",
    "    topK=3\n",
    ")"
   ]
  },
  {
   "cell_type": "code",
   "execution_count": 84,
   "metadata": {
    "id": "nNZByI7LGy_i"
   },
   "outputs": [
    {
     "data": {
      "text/plain": [
       "preProcessingMillis                                                       0\n",
       "computeMillis                                                             3\n",
       "writeMillis                                                              16\n",
       "postProcessingMillis                                                      0\n",
       "nodesCompared                                                            10\n",
       "relationshipsWritten                                                      6\n",
       "similarityDistribution    {'min': 0.3333320617675781, 'p5': 0.3333320617...\n",
       "configuration             {'writeProperty': 'sim_score', 'writeRelations...\n",
       "Name: 0, dtype: object"
      ]
     },
     "execution_count": 84,
     "metadata": {},
     "output_type": "execute_result"
    }
   ],
   "source": [
    "gds.nodeSimilarity.write(\n",
    "    G,\n",
    "    similarityMetric='OVERLAP',\n",
    "    topK=3,\n",
    "    writeRelationshipType='SIMILAR_SKILLSET',\n",
    "    writeProperty='sim_score'\n",
    ")"
   ]
  },
  {
   "cell_type": "code",
   "execution_count": 85,
   "metadata": {
    "id": "LRQGxT5RHctm"
   },
   "outputs": [
    {
     "name": "stderr",
     "output_type": "stream",
     "text": [
      "Received notification from DBMS server: {severity: WARNING} {code: Neo.ClientNotification.Statement.FeatureDeprecationWarning} {category: DEPRECATION} {title: This feature is deprecated and will be removed in future versions.} {description: The query used a deprecated field from a procedure. ('schema' returned by 'gds.graph.drop' is deprecated.)} {position: line: 1, column: 1, offset: 0} for query: 'CALL gds.graph.drop($graph_name, $fail_if_missing)'\n"
     ]
    },
    {
     "data": {
      "text/plain": [
       "graphName                                         person_skills_projection\n",
       "database                                                               upm\n",
       "databaseLocation                                                     local\n",
       "memoryUsage                                                               \n",
       "sizeInBytes                                                             -1\n",
       "nodeCount                                                               37\n",
       "relationshipCount                                                       30\n",
       "configuration            {'relationshipProjection': {'KNOWS': {'aggrega...\n",
       "density                                                           0.022523\n",
       "creationTime                           2025-02-11T10:30:41.797893000+01:00\n",
       "modificationTime                       2025-02-11T10:30:41.797893000+01:00\n",
       "schema                   {'graphProperties': {}, 'nodes': {'Skill': {},...\n",
       "schemaWithOrientation    {'graphProperties': {}, 'nodes': {'Skill': {},...\n",
       "Name: 0, dtype: object"
      ]
     },
     "execution_count": 85,
     "metadata": {},
     "output_type": "execute_result"
    }
   ],
   "source": [
    "# Drop the projection from the graph catalogue to free up resources\n",
    "G.drop()"
   ]
  },
  {
   "cell_type": "code",
   "execution_count": 86,
   "metadata": {
    "id": "OW5uFvKnYnj7"
   },
   "outputs": [
    {
     "name": "stderr",
     "output_type": "stream",
     "text": [
      "Received notification from DBMS server: {severity: WARNING} {code: Neo.ClientNotification.Statement.FeatureDeprecationWarning} {category: DEPRECATION} {title: This feature is deprecated and will be removed in future versions.} {description: The query used a deprecated function: `id`.} {position: line: 4, column: 11, offset: 114} for query: '\\n  match (a:Person)-[r:SIMILAR_SKILLSET]->(b:Person) \\n    where exists { (b)-[:SIMILAR_SKILLSET]->(a) }\\n    and   id(a)<id(b)\\n  delete r\\n'\n",
      "Received notification from DBMS server: {severity: WARNING} {code: Neo.ClientNotification.Statement.FeatureDeprecationWarning} {category: DEPRECATION} {title: This feature is deprecated and will be removed in future versions.} {description: The query used a deprecated function: `id`.} {position: line: 4, column: 17, offset: 120} for query: '\\n  match (a:Person)-[r:SIMILAR_SKILLSET]->(b:Person) \\n    where exists { (b)-[:SIMILAR_SKILLSET]->(a) }\\n    and   id(a)<id(b)\\n  delete r\\n'\n"
     ]
    },
    {
     "data": {
      "text/html": [
       "<div>\n",
       "<style scoped>\n",
       "    .dataframe tbody tr th:only-of-type {\n",
       "        vertical-align: middle;\n",
       "    }\n",
       "\n",
       "    .dataframe tbody tr th {\n",
       "        vertical-align: top;\n",
       "    }\n",
       "\n",
       "    .dataframe thead th {\n",
       "        text-align: right;\n",
       "    }\n",
       "</style>\n",
       "<table border=\"1\" class=\"dataframe\">\n",
       "  <thead>\n",
       "    <tr style=\"text-align: right;\">\n",
       "      <th></th>\n",
       "    </tr>\n",
       "  </thead>\n",
       "  <tbody>\n",
       "  </tbody>\n",
       "</table>\n",
       "</div>"
      ],
      "text/plain": [
       "Empty DataFrame\n",
       "Columns: []\n",
       "Index: []"
      ]
     },
     "execution_count": 86,
     "metadata": {},
     "output_type": "execute_result"
    }
   ],
   "source": [
    "# Remove symetric relationships\n",
    "gds.run_cypher('''\n",
    "  match (a:Person)-[r:SIMILAR_SKILLSET]->(b:Person) \n",
    "    where exists { (b)-[:SIMILAR_SKILLSET]->(a) }\n",
    "    and   id(a)<id(b)\n",
    "  delete r\n",
    "''')\n"
   ]
  },
  {
   "cell_type": "markdown",
   "metadata": {
    "id": "jU696MRBKlne"
   },
   "source": [
    "# Semantic Similar skill"
   ]
  },
  {
   "cell_type": "code",
   "execution_count": 87,
   "metadata": {},
   "outputs": [],
   "source": [
    "# Import langchain open ai\n",
    "from langchain_openai import OpenAIEmbeddings, ChatOpenAI\n",
    "from langchain_core.prompts import ChatPromptTemplate\n",
    "from langchain_core.output_parsers import StrOutputParser"
   ]
  },
  {
   "cell_type": "code",
   "execution_count": 88,
   "metadata": {},
   "outputs": [
    {
     "data": {
      "text/html": [
       "<div>\n",
       "<style scoped>\n",
       "    .dataframe tbody tr th:only-of-type {\n",
       "        vertical-align: middle;\n",
       "    }\n",
       "\n",
       "    .dataframe tbody tr th {\n",
       "        vertical-align: top;\n",
       "    }\n",
       "\n",
       "    .dataframe thead th {\n",
       "        text-align: right;\n",
       "    }\n",
       "</style>\n",
       "<table border=\"1\" class=\"dataframe\">\n",
       "  <thead>\n",
       "    <tr style=\"text-align: right;\">\n",
       "      <th></th>\n",
       "      <th>skill</th>\n",
       "    </tr>\n",
       "  </thead>\n",
       "  <tbody>\n",
       "    <tr>\n",
       "      <th>0</th>\n",
       "      <td>AWS</td>\n",
       "    </tr>\n",
       "    <tr>\n",
       "      <th>1</th>\n",
       "      <td>C++</td>\n",
       "    </tr>\n",
       "    <tr>\n",
       "      <th>2</th>\n",
       "      <td>Data Analysis</td>\n",
       "    </tr>\n",
       "    <tr>\n",
       "      <th>3</th>\n",
       "      <td>DevOps</td>\n",
       "    </tr>\n",
       "    <tr>\n",
       "      <th>4</th>\n",
       "      <td>Django</td>\n",
       "    </tr>\n",
       "    <tr>\n",
       "      <th>5</th>\n",
       "      <td>Flask</td>\n",
       "    </tr>\n",
       "    <tr>\n",
       "      <th>6</th>\n",
       "      <td>Graphic Design</td>\n",
       "    </tr>\n",
       "    <tr>\n",
       "      <th>7</th>\n",
       "      <td>HTML/CSS</td>\n",
       "    </tr>\n",
       "    <tr>\n",
       "      <th>8</th>\n",
       "      <td>Java</td>\n",
       "    </tr>\n",
       "    <tr>\n",
       "      <th>9</th>\n",
       "      <td>JavaScript</td>\n",
       "    </tr>\n",
       "    <tr>\n",
       "      <th>10</th>\n",
       "      <td>Laravel</td>\n",
       "    </tr>\n",
       "    <tr>\n",
       "      <th>11</th>\n",
       "      <td>Machine Learning</td>\n",
       "    </tr>\n",
       "    <tr>\n",
       "      <th>12</th>\n",
       "      <td>Microservices</td>\n",
       "    </tr>\n",
       "    <tr>\n",
       "      <th>13</th>\n",
       "      <td>MongoDB</td>\n",
       "    </tr>\n",
       "    <tr>\n",
       "      <th>14</th>\n",
       "      <td>MySQL</td>\n",
       "    </tr>\n",
       "    <tr>\n",
       "      <th>15</th>\n",
       "      <td>Node.js</td>\n",
       "    </tr>\n",
       "    <tr>\n",
       "      <th>16</th>\n",
       "      <td>PHP</td>\n",
       "    </tr>\n",
       "    <tr>\n",
       "      <th>17</th>\n",
       "      <td>Python</td>\n",
       "    </tr>\n",
       "    <tr>\n",
       "      <th>18</th>\n",
       "      <td>ReactJS</td>\n",
       "    </tr>\n",
       "    <tr>\n",
       "      <th>19</th>\n",
       "      <td>Ruby on Rails</td>\n",
       "    </tr>\n",
       "    <tr>\n",
       "      <th>20</th>\n",
       "      <td>SQL</td>\n",
       "    </tr>\n",
       "    <tr>\n",
       "      <th>21</th>\n",
       "      <td>Spring Boot</td>\n",
       "    </tr>\n",
       "    <tr>\n",
       "      <th>22</th>\n",
       "      <td>Swift</td>\n",
       "    </tr>\n",
       "    <tr>\n",
       "      <th>23</th>\n",
       "      <td>TensorFlow</td>\n",
       "    </tr>\n",
       "    <tr>\n",
       "      <th>24</th>\n",
       "      <td>UX/UI Design</td>\n",
       "    </tr>\n",
       "    <tr>\n",
       "      <th>25</th>\n",
       "      <td>WordPress</td>\n",
       "    </tr>\n",
       "    <tr>\n",
       "      <th>26</th>\n",
       "      <td>iOS Development</td>\n",
       "    </tr>\n",
       "  </tbody>\n",
       "</table>\n",
       "</div>"
      ],
      "text/plain": [
       "               skill\n",
       "0                AWS\n",
       "1                C++\n",
       "2      Data Analysis\n",
       "3             DevOps\n",
       "4             Django\n",
       "5              Flask\n",
       "6     Graphic Design\n",
       "7           HTML/CSS\n",
       "8               Java\n",
       "9         JavaScript\n",
       "10           Laravel\n",
       "11  Machine Learning\n",
       "12     Microservices\n",
       "13           MongoDB\n",
       "14             MySQL\n",
       "15           Node.js\n",
       "16               PHP\n",
       "17            Python\n",
       "18           ReactJS\n",
       "19     Ruby on Rails\n",
       "20               SQL\n",
       "21       Spring Boot\n",
       "22             Swift\n",
       "23        TensorFlow\n",
       "24      UX/UI Design\n",
       "25         WordPress\n",
       "26   iOS Development"
      ]
     },
     "execution_count": 88,
     "metadata": {},
     "output_type": "execute_result"
    }
   ],
   "source": [
    "skills_df = gds.run_cypher('''\n",
    "  match (s:Skill)\n",
    "  return s.name as skill\n",
    "''')\n",
    "skills_df.head(30)"
   ]
  },
  {
   "cell_type": "code",
   "execution_count": 89,
   "metadata": {},
   "outputs": [],
   "source": [
    "load_dotenv()\n",
    "os.environ[\"OPENAI_API_KEY\"] = os.getenv(\"OPENAI_API_KEY\")\n",
    "embeddings = OpenAIEmbeddings(\n",
    "    deployment=\"your-embeddings-deployment-name\",\n",
    "    model='text-embedding-3-small', # 1536\n",
    ")"
   ]
  },
  {
   "cell_type": "code",
   "execution_count": 90,
   "metadata": {},
   "outputs": [],
   "source": [
    "skills_df['embedding'] = skills_df['skill'].apply( lambda skill: embeddings.embed_documents([skill])[0])"
   ]
  },
  {
   "cell_type": "code",
   "execution_count": 91,
   "metadata": {},
   "outputs": [
    {
     "data": {
      "text/html": [
       "<div>\n",
       "<style scoped>\n",
       "    .dataframe tbody tr th:only-of-type {\n",
       "        vertical-align: middle;\n",
       "    }\n",
       "\n",
       "    .dataframe tbody tr th {\n",
       "        vertical-align: top;\n",
       "    }\n",
       "\n",
       "    .dataframe thead th {\n",
       "        text-align: right;\n",
       "    }\n",
       "</style>\n",
       "<table border=\"1\" class=\"dataframe\">\n",
       "  <thead>\n",
       "    <tr style=\"text-align: right;\">\n",
       "      <th></th>\n",
       "      <th>skill</th>\n",
       "      <th>embedding</th>\n",
       "    </tr>\n",
       "  </thead>\n",
       "  <tbody>\n",
       "    <tr>\n",
       "      <th>0</th>\n",
       "      <td>AWS</td>\n",
       "      <td>[0.01564984514650839, -0.04042042616952391, 0....</td>\n",
       "    </tr>\n",
       "    <tr>\n",
       "      <th>1</th>\n",
       "      <td>C++</td>\n",
       "      <td>[0.01211648340819335, 0.017389811568969103, 0....</td>\n",
       "    </tr>\n",
       "    <tr>\n",
       "      <th>2</th>\n",
       "      <td>Data Analysis</td>\n",
       "      <td>[0.0039946269378510505, 0.014328012291175678, ...</td>\n",
       "    </tr>\n",
       "    <tr>\n",
       "      <th>3</th>\n",
       "      <td>DevOps</td>\n",
       "      <td>[0.0006287396891707879, 0.031127516921187134, ...</td>\n",
       "    </tr>\n",
       "    <tr>\n",
       "      <th>4</th>\n",
       "      <td>Django</td>\n",
       "      <td>[-0.003611742476297006, 0.006400906458475529, ...</td>\n",
       "    </tr>\n",
       "  </tbody>\n",
       "</table>\n",
       "</div>"
      ],
      "text/plain": [
       "           skill                                          embedding\n",
       "0            AWS  [0.01564984514650839, -0.04042042616952391, 0....\n",
       "1            C++  [0.01211648340819335, 0.017389811568969103, 0....\n",
       "2  Data Analysis  [0.0039946269378510505, 0.014328012291175678, ...\n",
       "3         DevOps  [0.0006287396891707879, 0.031127516921187134, ...\n",
       "4         Django  [-0.003611742476297006, 0.006400906458475529, ..."
      ]
     },
     "execution_count": 91,
     "metadata": {},
     "output_type": "execute_result"
    }
   ],
   "source": [
    "skills_df.head()"
   ]
  },
  {
   "cell_type": "code",
   "execution_count": 92,
   "metadata": {},
   "outputs": [
    {
     "data": {
      "text/html": [
       "<div>\n",
       "<style scoped>\n",
       "    .dataframe tbody tr th:only-of-type {\n",
       "        vertical-align: middle;\n",
       "    }\n",
       "\n",
       "    .dataframe tbody tr th {\n",
       "        vertical-align: top;\n",
       "    }\n",
       "\n",
       "    .dataframe thead th {\n",
       "        text-align: right;\n",
       "    }\n",
       "</style>\n",
       "<table border=\"1\" class=\"dataframe\">\n",
       "  <thead>\n",
       "    <tr style=\"text-align: right;\">\n",
       "      <th></th>\n",
       "    </tr>\n",
       "  </thead>\n",
       "  <tbody>\n",
       "  </tbody>\n",
       "</table>\n",
       "</div>"
      ],
      "text/plain": [
       "Empty DataFrame\n",
       "Columns: []\n",
       "Index: []"
      ]
     },
     "execution_count": 92,
     "metadata": {},
     "output_type": "execute_result"
    }
   ],
   "source": [
    "# Add embeddings to Skill nodes in database\n",
    "gds.run_cypher('''\n",
    "    unwind $data as row\n",
    "    match (s:Skill{name: row.skill})\n",
    "    set s.embedding = row.embedding                                                                             \n",
    "''',\n",
    "params = { 'data': skills_df.to_dict(orient='records') })"
   ]
  },
  {
   "cell_type": "code",
   "execution_count": 93,
   "metadata": {},
   "outputs": [],
   "source": [
    "G, res = gds.graph.project(\n",
    "    'skill_embedding_projection', \n",
    "    {\n",
    "        'Skill': {\"properties\": 'embedding'},\n",
    "    },        \n",
    "    ['KNOWS']    # No rels will be projected, but we need to specify something here :)             \n",
    ")"
   ]
  },
  {
   "cell_type": "code",
   "execution_count": 94,
   "metadata": {},
   "outputs": [
    {
     "data": {
      "text/plain": [
       "nodeProjection            {'Skill': {'label': 'Skill', 'properties': {'e...\n",
       "relationshipProjection    {'KNOWS': {'aggregation': 'DEFAULT', 'orientat...\n",
       "graphName                                        skill_embedding_projection\n",
       "nodeCount                                                                27\n",
       "relationshipCount                                                         0\n",
       "projectMillis                                                            19\n",
       "Name: 0, dtype: object"
      ]
     },
     "execution_count": 94,
     "metadata": {},
     "output_type": "execute_result"
    }
   ],
   "source": [
    "res"
   ]
  },
  {
   "cell_type": "code",
   "execution_count": 95,
   "metadata": {
    "id": "ZGwkZIuFQN-R"
   },
   "outputs": [
    {
     "data": {
      "text/plain": [
       "ranIterations                                                             4\n",
       "didConverge                                                            True\n",
       "nodePairsConsidered                                                    1946\n",
       "preProcessingMillis                                                       0\n",
       "computeMillis                                                             6\n",
       "writeMillis                                                              16\n",
       "postProcessingMillis                                                      0\n",
       "nodesCompared                                                            27\n",
       "relationshipsWritten                                                     81\n",
       "similarityDistribution    {'min': 0.6443901062011719, 'p5': 0.6608734130...\n",
       "configuration             {'writeProperty': 'sim_score', 'writeRelations...\n",
       "Name: 0, dtype: object"
      ]
     },
     "execution_count": 95,
     "metadata": {},
     "output_type": "execute_result"
    }
   ],
   "source": [
    "# Run knn\n",
    "gds.knn.write(\n",
    "    G,\n",
    "    nodeLabels=['Skill'],\n",
    "    nodeProperties=['embedding'],\n",
    "    topK=3,\n",
    "    writeRelationshipType='SIMILAR_EMBEDDING',\n",
    "    writeProperty='sim_score'\n",
    ")"
   ]
  },
  {
   "cell_type": "code",
   "execution_count": 96,
   "metadata": {
    "id": "ou3S9jeJMV0A"
   },
   "outputs": [
    {
     "name": "stderr",
     "output_type": "stream",
     "text": [
      "Received notification from DBMS server: {severity: WARNING} {code: Neo.ClientNotification.Statement.FeatureDeprecationWarning} {category: DEPRECATION} {title: This feature is deprecated and will be removed in future versions.} {description: The query used a deprecated field from a procedure. ('schema' returned by 'gds.graph.drop' is deprecated.)} {position: line: 1, column: 1, offset: 0} for query: 'CALL gds.graph.drop($graph_name, $fail_if_missing)'\n"
     ]
    },
    {
     "data": {
      "text/plain": [
       "graphName                                       skill_embedding_projection\n",
       "database                                                               upm\n",
       "databaseLocation                                                     local\n",
       "memoryUsage                                                               \n",
       "sizeInBytes                                                             -1\n",
       "nodeCount                                                               27\n",
       "relationshipCount                                                        0\n",
       "configuration            {'relationshipProjection': {'KNOWS': {'aggrega...\n",
       "density                                                                0.0\n",
       "creationTime                           2025-02-11T10:41:09.359296000+01:00\n",
       "modificationTime                       2025-02-11T10:41:09.359296000+01:00\n",
       "schema                   {'graphProperties': {}, 'nodes': {'Skill': {'e...\n",
       "schemaWithOrientation    {'graphProperties': {}, 'nodes': {'Skill': {'e...\n",
       "Name: 0, dtype: object"
      ]
     },
     "execution_count": 96,
     "metadata": {},
     "output_type": "execute_result"
    }
   ],
   "source": [
    "# Drop the projection from the graph catalogue to free up resources\n",
    "G.drop()"
   ]
  },
  {
   "cell_type": "code",
   "execution_count": 97,
   "metadata": {
    "id": "mixfOT5kMiMa"
   },
   "outputs": [
    {
     "data": {
      "text/html": [
       "<div>\n",
       "<style scoped>\n",
       "    .dataframe tbody tr th:only-of-type {\n",
       "        vertical-align: middle;\n",
       "    }\n",
       "\n",
       "    .dataframe tbody tr th {\n",
       "        vertical-align: top;\n",
       "    }\n",
       "\n",
       "    .dataframe thead th {\n",
       "        text-align: right;\n",
       "    }\n",
       "</style>\n",
       "<table border=\"1\" class=\"dataframe\">\n",
       "  <thead>\n",
       "    <tr style=\"text-align: right;\">\n",
       "      <th></th>\n",
       "    </tr>\n",
       "  </thead>\n",
       "  <tbody>\n",
       "  </tbody>\n",
       "</table>\n",
       "</div>"
      ],
      "text/plain": [
       "Empty DataFrame\n",
       "Columns: []\n",
       "Index: []"
      ]
     },
     "execution_count": 97,
     "metadata": {},
     "output_type": "execute_result"
    }
   ],
   "source": [
    "# Again, let's remove symetric relationships\n",
    "gds.run_cypher('''\n",
    "  match (a:Skill)-[r:SIMILAR_EMBEDDING]->(b:Skill) \n",
    "    where exists { (b)-[:SIMILAR_EMBEDDING]->(a) }\n",
    "    and   a<b\n",
    "  delete r\n",
    "''')"
   ]
  },
  {
   "cell_type": "code",
   "execution_count": null,
   "metadata": {
    "id": "Pk0MLczGSF4E"
   },
   "outputs": [],
   "source": [
    "# Let's review\n",
    "gds.run_cypher('''\n",
    "  MATCH (s:Skill)-[r:SIMILAR_EMBEDDING]-(s2)\n",
    "  RETURN s.name as skill, \n",
    "         r.sim_score as score,\n",
    "         s2.name as to_skill\n",
    "  ORDER by skill asc, score desc\n",
    "''').head(30)"
   ]
  },
  {
   "cell_type": "markdown",
   "metadata": {},
   "source": [
    "# Cheat sheet"
   ]
  },
  {
   "cell_type": "code",
   "execution_count": null,
   "metadata": {},
   "outputs": [],
   "source": [
    "# Find preson with skill, order by number of matched skills\n",
    "gds.run_cypher('''\n",
    "    unwind ['node.js','mongodb','JavaScript'] as wanted_skill\n",
    "    match (s:Skill) where s.norm_name contains toLower(wanted_skill)\n",
    "    with s\n",
    "    match (s)<-[:KNOWS]-(p:Person)\n",
    "    with p, collect(s) as matched_skills\n",
    "    return p.name as person, [(p)-[:KNOWS]->(skill) | skill.name] as skills, size(matched_skills) as no_matched_skills\n",
    "    order by no_matched_skills desc limit 10\n",
    "''').head(30)"
   ]
  },
  {
   "cell_type": "code",
   "execution_count": 98,
   "metadata": {},
   "outputs": [
    {
     "data": {
      "text/html": [
       "<div>\n",
       "<style scoped>\n",
       "    .dataframe tbody tr th:only-of-type {\n",
       "        vertical-align: middle;\n",
       "    }\n",
       "\n",
       "    .dataframe tbody tr th {\n",
       "        vertical-align: top;\n",
       "    }\n",
       "\n",
       "    .dataframe thead th {\n",
       "        text-align: right;\n",
       "    }\n",
       "</style>\n",
       "<table border=\"1\" class=\"dataframe\">\n",
       "  <thead>\n",
       "    <tr style=\"text-align: right;\">\n",
       "      <th></th>\n",
       "      <th>person</th>\n",
       "      <th>skills</th>\n",
       "      <th>no_matched_skills</th>\n",
       "      <th>matched_skills</th>\n",
       "    </tr>\n",
       "  </thead>\n",
       "  <tbody>\n",
       "    <tr>\n",
       "      <th>0</th>\n",
       "      <td>Rachel Kim</td>\n",
       "      <td>[JavaScript, Node.js, MongoDB]</td>\n",
       "      <td>3</td>\n",
       "      <td>[Node.js, MongoDB, JavaScript]</td>\n",
       "    </tr>\n",
       "    <tr>\n",
       "      <th>1</th>\n",
       "      <td>Alice Johnson</td>\n",
       "      <td>[Java, JavaScript, ReactJS]</td>\n",
       "      <td>2</td>\n",
       "      <td>[Node.js, JavaScript]</td>\n",
       "    </tr>\n",
       "    <tr>\n",
       "      <th>2</th>\n",
       "      <td>Sarah Brown</td>\n",
       "      <td>[PHP, MySQL, Laravel]</td>\n",
       "      <td>2</td>\n",
       "      <td>[MongoDB, JavaScript]</td>\n",
       "    </tr>\n",
       "    <tr>\n",
       "      <th>3</th>\n",
       "      <td>John Smith</td>\n",
       "      <td>[Python, SQL, Data Analysis]</td>\n",
       "      <td>1</td>\n",
       "      <td>[JavaScript]</td>\n",
       "    </tr>\n",
       "    <tr>\n",
       "      <th>4</th>\n",
       "      <td>Laura Garcia</td>\n",
       "      <td>[Python, Django, Flask]</td>\n",
       "      <td>1</td>\n",
       "      <td>[JavaScript]</td>\n",
       "    </tr>\n",
       "    <tr>\n",
       "      <th>5</th>\n",
       "      <td>Kevin Patel</td>\n",
       "      <td>[Java, Spring Boot, Microservices]</td>\n",
       "      <td>1</td>\n",
       "      <td>[JavaScript]</td>\n",
       "    </tr>\n",
       "    <tr>\n",
       "      <th>6</th>\n",
       "      <td>Michael Lee</td>\n",
       "      <td>[C++, Machine Learning, TensorFlow]</td>\n",
       "      <td>1</td>\n",
       "      <td>[JavaScript]</td>\n",
       "    </tr>\n",
       "    <tr>\n",
       "      <th>7</th>\n",
       "      <td>Emily Chen</td>\n",
       "      <td>[HTML/CSS, WordPress, Graphic Design]</td>\n",
       "      <td>1</td>\n",
       "      <td>[JavaScript]</td>\n",
       "    </tr>\n",
       "    <tr>\n",
       "      <th>8</th>\n",
       "      <td>Alex Wang</td>\n",
       "      <td>[Swift, iOS Development, UX/UI Design]</td>\n",
       "      <td>1</td>\n",
       "      <td>[JavaScript]</td>\n",
       "    </tr>\n",
       "  </tbody>\n",
       "</table>\n",
       "</div>"
      ],
      "text/plain": [
       "          person                                  skills  no_matched_skills  \\\n",
       "0     Rachel Kim          [JavaScript, Node.js, MongoDB]                  3   \n",
       "1  Alice Johnson             [Java, JavaScript, ReactJS]                  2   \n",
       "2    Sarah Brown                   [PHP, MySQL, Laravel]                  2   \n",
       "3     John Smith            [Python, SQL, Data Analysis]                  1   \n",
       "4   Laura Garcia                 [Python, Django, Flask]                  1   \n",
       "5    Kevin Patel      [Java, Spring Boot, Microservices]                  1   \n",
       "6    Michael Lee     [C++, Machine Learning, TensorFlow]                  1   \n",
       "7     Emily Chen   [HTML/CSS, WordPress, Graphic Design]                  1   \n",
       "8      Alex Wang  [Swift, iOS Development, UX/UI Design]                  1   \n",
       "\n",
       "                   matched_skills  \n",
       "0  [Node.js, MongoDB, JavaScript]  \n",
       "1           [Node.js, JavaScript]  \n",
       "2           [MongoDB, JavaScript]  \n",
       "3                    [JavaScript]  \n",
       "4                    [JavaScript]  \n",
       "5                    [JavaScript]  \n",
       "6                    [JavaScript]  \n",
       "7                    [JavaScript]  \n",
       "8                    [JavaScript]  "
      ]
     },
     "execution_count": 98,
     "metadata": {},
     "output_type": "execute_result"
    }
   ],
   "source": [
    "# Find preson with skill or similar skill, order by number of matched skills\n",
    "gds.run_cypher('''\n",
    "    unwind ['node.js','mongodb','JavaScript'] as wanted_skill\n",
    "    match (s:Skill) where s.norm_name contains toLower(wanted_skill)\n",
    "    with collect(s) as wanted_skills\n",
    "    with wanted_skills\n",
    "    unwind wanted_skills as s\n",
    "    match (s)-[:KNOWS|SIMILAR_EMBEDDING*1..2]-(p:Person)\n",
    "    with p, collect(distinct s) as matched_skills\n",
    "    return p.name as person, [(p)-[:KNOWS]->(skill) | skill.name] as skills, size(matched_skills) as no_matched_skills, [x in matched_skills | x.name] as matched_skills\n",
    "    order by no_matched_skills desc limit 10\n",
    "''').head(30)"
   ]
  },
  {
   "cell_type": "code",
   "execution_count": null,
   "metadata": {},
   "outputs": [],
   "source": []
  }
 ],
 "metadata": {
  "colab": {
   "provenance": [],
   "toc_visible": true
  },
  "kernelspec": {
   "display_name": "notebooks",
   "language": "python",
   "name": "python3"
  },
  "language_info": {
   "codemirror_mode": {
    "name": "ipython",
    "version": 3
   },
   "file_extension": ".py",
   "mimetype": "text/x-python",
   "name": "python",
   "nbconvert_exporter": "python",
   "pygments_lexer": "ipython3",
   "version": "3.9.16"
  }
 },
 "nbformat": 4,
 "nbformat_minor": 0
}
