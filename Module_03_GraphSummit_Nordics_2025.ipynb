{
  "cells": [
    {
      "cell_type": "markdown",
      "metadata": {},
      "source": [
        "# Module objectives\n",
        "- Exact lookups\n",
        "- Semantic search/vector index\n",
        "- Semantic/similar skill expansion\n",
        "- The R in GraphRAG (and maybe agents)"
      ]
    },
    {
      "cell_type": "code",
      "execution_count": null,
      "metadata": {
        "id": "FHKg4DVZiQ98"
      },
      "outputs": [],
      "source": [
        "!pip install graphdatascience neo4j dotenv"
      ]
    },
    {
      "cell_type": "markdown",
      "metadata": {
        "id": "ynPe6RLRWSKd"
      },
      "source": [
        "# Setup"
      ]
    },
    {
      "cell_type": "markdown",
      "metadata": {
        "id": "09qvRMrxye7l"
      },
      "source": [
        "Import our usual suspects"
      ]
    },
    {
      "cell_type": "code",
      "execution_count": 2,
      "metadata": {
        "id": "BOfc_-mllcUE"
      },
      "outputs": [],
      "source": [
        "import os\n",
        "import pandas as pd\n",
        "from dotenv import load_dotenv\n",
        "from graphdatascience import GraphDataScience\n",
        "from neo4j import Query, GraphDatabase, RoutingControl, Result"
      ]
    },
    {
      "cell_type": "markdown",
      "metadata": {
        "id": "pa61u1jfyk3t"
      },
      "source": [
        "Load env variables"
      ]
    },
    {
      "cell_type": "code",
      "execution_count": 3,
      "metadata": {
        "id": "CHR_0lmElZ-R"
      },
      "outputs": [],
      "source": [
        "load_dotenv('ws.env', override=True)\n",
        "# Neo4j\n",
        "HOST = os.getenv('HOST')\n",
        "USERNAME = os.getenv('USERNAME')\n",
        "PASSWORD = os.getenv('PASSWORD')\n",
        "DATABASE = os.getenv('DATABASE')\n",
        "\n",
        "# AI\n",
        "LLM = os.getenv('LLM')\n",
        "OPENAI_API_KEY = os.getenv('OPENAI_API_KEY')\n",
        "os.environ['OPENAI_API_KEY']=OPENAI_API_KEY"
      ]
    },
    {
      "cell_type": "markdown",
      "metadata": {},
      "source": [
        "Connect to neo4j db"
      ]
    },
    {
      "cell_type": "code",
      "execution_count": 4,
      "metadata": {
        "id": "5w4eCb7xZZ-S"
      },
      "outputs": [
        {
          "name": "stderr",
          "output_type": "stream",
          "text": [
            "/opt/homebrew/Caskroom/miniforge/base/envs/notebooks_new/lib/python3.11/site-packages/neo4j/_sync/driver.py:1074: ExperimentalWarning: All configuration key-word arguments to verify_connectivity() are experimental. They might be changed or removed in any future version without prior notice.\n",
            "  experimental_warn(\n"
          ]
        }
      ],
      "source": [
        "driver = GraphDatabase.driver(\n",
        "    HOST,\n",
        "    auth=(USERNAME, PASSWORD)\n",
        ")\n",
        "driver.verify_connectivity(database=DATABASE)"
      ]
    },
    {
      "cell_type": "markdown",
      "metadata": {},
      "source": [
        "## Schema\n",
        "Keeping this in case we need to add in more indexes"
      ]
    },
    {
      "cell_type": "code",
      "execution_count": 5,
      "metadata": {
        "id": "cdTfdAyV2ZaR"
      },
      "outputs": [
        {
          "data": {
            "text/html": [
              "<div>\n",
              "<style scoped>\n",
              "    .dataframe tbody tr th:only-of-type {\n",
              "        vertical-align: middle;\n",
              "    }\n",
              "\n",
              "    .dataframe tbody tr th {\n",
              "        vertical-align: top;\n",
              "    }\n",
              "\n",
              "    .dataframe thead th {\n",
              "        text-align: right;\n",
              "    }\n",
              "</style>\n",
              "<table border=\"1\" class=\"dataframe\">\n",
              "  <thead>\n",
              "    <tr style=\"text-align: right;\">\n",
              "      <th></th>\n",
              "      <th>id</th>\n",
              "      <th>name</th>\n",
              "      <th>type</th>\n",
              "      <th>entityType</th>\n",
              "      <th>labelsOrTypes</th>\n",
              "      <th>properties</th>\n",
              "      <th>ownedIndex</th>\n",
              "      <th>propertyType</th>\n",
              "    </tr>\n",
              "  </thead>\n",
              "  <tbody>\n",
              "    <tr>\n",
              "      <th>0</th>\n",
              "      <td>5</td>\n",
              "      <td>constraint_63bf11a1</td>\n",
              "      <td>NODE_KEY</td>\n",
              "      <td>NODE</td>\n",
              "      <td>[Skill]</td>\n",
              "      <td>[name]</td>\n",
              "      <td>constraint_63bf11a1</td>\n",
              "      <td>None</td>\n",
              "    </tr>\n",
              "    <tr>\n",
              "      <th>1</th>\n",
              "      <td>3</td>\n",
              "      <td>constraint_d3bfd313</td>\n",
              "      <td>NODE_KEY</td>\n",
              "      <td>NODE</td>\n",
              "      <td>[Person]</td>\n",
              "      <td>[email]</td>\n",
              "      <td>constraint_d3bfd313</td>\n",
              "      <td>None</td>\n",
              "    </tr>\n",
              "  </tbody>\n",
              "</table>\n",
              "</div>"
            ],
            "text/plain": [
              "   id                 name      type entityType labelsOrTypes properties  \\\n",
              "0   5  constraint_63bf11a1  NODE_KEY       NODE       [Skill]     [name]   \n",
              "1   3  constraint_d3bfd313  NODE_KEY       NODE      [Person]    [email]   \n",
              "\n",
              "            ownedIndex propertyType  \n",
              "0  constraint_63bf11a1         None  \n",
              "1  constraint_d3bfd313         None  "
            ]
          },
          "execution_count": 5,
          "metadata": {},
          "output_type": "execute_result"
        }
      ],
      "source": [
        "schema_statements = [\n",
        "    'create constraint if not exists for (n:Person) require (n.email) is node key',\n",
        "    'create constraint if not exists for (n:Skill) require (n.name) is node key',\n",
        "]\n",
        "for statement in schema_statements:\n",
        "    driver.execute_query(\n",
        "        statement,\n",
        "        database_=DATABASE,\n",
        "        routing_=RoutingControl.WRITE\n",
        "    )\n",
        "\n",
        "# Fetch all constraints\n",
        "schema_result_df  = driver.execute_query(\n",
        "    'show constraints',\n",
        "    database_=DATABASE,\n",
        "    routing_=RoutingControl.READ,\n",
        "    result_transformer_= lambda r: r.to_df()\n",
        ")\n",
        "schema_result_df.head(100)\n"
      ]
    },
    {
      "cell_type": "markdown",
      "metadata": {
        "id": "0OMlYdxHWZLx"
      },
      "source": [
        "# Basic search"
      ]
    },
    {
      "cell_type": "code",
      "execution_count": 9,
      "metadata": {
        "id": "volCOjn_jjm3"
      },
      "outputs": [
        {
          "data": {
            "text/html": [
              "<div>\n",
              "<style scoped>\n",
              "    .dataframe tbody tr th:only-of-type {\n",
              "        vertical-align: middle;\n",
              "    }\n",
              "\n",
              "    .dataframe tbody tr th {\n",
              "        vertical-align: top;\n",
              "    }\n",
              "\n",
              "    .dataframe thead th {\n",
              "        text-align: right;\n",
              "    }\n",
              "</style>\n",
              "<table border=\"1\" class=\"dataframe\">\n",
              "  <thead>\n",
              "    <tr style=\"text-align: right;\">\n",
              "      <th></th>\n",
              "      <th>rank</th>\n",
              "      <th>email</th>\n",
              "      <th>person_name</th>\n",
              "      <th>skills</th>\n",
              "    </tr>\n",
              "  </thead>\n",
              "  <tbody>\n",
              "    <tr>\n",
              "      <th>0</th>\n",
              "      <td>1</td>\n",
              "      <td>lucy.turner@test.org</td>\n",
              "      <td>Lucy Turner</td>\n",
              "      <td>[Security, Express.js, Big Data, Scala, Docker]</td>\n",
              "    </tr>\n",
              "    <tr>\n",
              "      <th>1</th>\n",
              "      <td>1</td>\n",
              "      <td>sophie.jackson@test.org</td>\n",
              "      <td>Sophie Jackson</td>\n",
              "      <td>[Security, Pandas, Linux, Angular]</td>\n",
              "    </tr>\n",
              "    <tr>\n",
              "      <th>2</th>\n",
              "      <td>1</td>\n",
              "      <td>mia.nelson@test.org</td>\n",
              "      <td>Mia Nelson</td>\n",
              "      <td>[Security, WordPress, Big Data, Swift, AWS]</td>\n",
              "    </tr>\n",
              "    <tr>\n",
              "      <th>3</th>\n",
              "      <td>1</td>\n",
              "      <td>david.lopez@test.org</td>\n",
              "      <td>David Lopez</td>\n",
              "      <td>[Security, WordPress, PHP]</td>\n",
              "    </tr>\n",
              "    <tr>\n",
              "      <th>4</th>\n",
              "      <td>1</td>\n",
              "      <td>thomas.brown@test.org</td>\n",
              "      <td>Thomas Brown</td>\n",
              "      <td>[Security, R, Java, Docker]</td>\n",
              "    </tr>\n",
              "    <tr>\n",
              "      <th>5</th>\n",
              "      <td>1</td>\n",
              "      <td>isabella.allen@test.org</td>\n",
              "      <td>Isabella Allen</td>\n",
              "      <td>[Security, Scala, Cloud Architecture]</td>\n",
              "    </tr>\n",
              "    <tr>\n",
              "      <th>6</th>\n",
              "      <td>1</td>\n",
              "      <td>olivia.johnson@test.org</td>\n",
              "      <td>Olivia Johnson</td>\n",
              "      <td>[Security, Angular, CI/CD]</td>\n",
              "    </tr>\n",
              "    <tr>\n",
              "      <th>7</th>\n",
              "      <td>1</td>\n",
              "      <td>amelia.davis@test.org</td>\n",
              "      <td>Amelia Davis</td>\n",
              "      <td>[Security, PyTorch, Java, HTML5, Docker]</td>\n",
              "    </tr>\n",
              "    <tr>\n",
              "      <th>8</th>\n",
              "      <td>1</td>\n",
              "      <td>emily.phillips@test.org</td>\n",
              "      <td>Emily Phillips</td>\n",
              "      <td>[Security, Vue.js, PHP, Kubernetes, Data Visua...</td>\n",
              "    </tr>\n",
              "    <tr>\n",
              "      <th>9</th>\n",
              "      <td>1</td>\n",
              "      <td>thomas.nelson@test.org</td>\n",
              "      <td>Thomas Nelson</td>\n",
              "      <td>[Security, Pandas, Go]</td>\n",
              "    </tr>\n",
              "  </tbody>\n",
              "</table>\n",
              "</div>"
            ],
            "text/plain": [
              "   rank                    email     person_name  \\\n",
              "0     1     lucy.turner@test.org     Lucy Turner   \n",
              "1     1  sophie.jackson@test.org  Sophie Jackson   \n",
              "2     1      mia.nelson@test.org      Mia Nelson   \n",
              "3     1     david.lopez@test.org     David Lopez   \n",
              "4     1    thomas.brown@test.org    Thomas Brown   \n",
              "5     1  isabella.allen@test.org  Isabella Allen   \n",
              "6     1  olivia.johnson@test.org  Olivia Johnson   \n",
              "7     1    amelia.davis@test.org    Amelia Davis   \n",
              "8     1  emily.phillips@test.org  Emily Phillips   \n",
              "9     1   thomas.nelson@test.org   Thomas Nelson   \n",
              "\n",
              "                                              skills  \n",
              "0    [Security, Express.js, Big Data, Scala, Docker]  \n",
              "1                 [Security, Pandas, Linux, Angular]  \n",
              "2        [Security, WordPress, Big Data, Swift, AWS]  \n",
              "3                         [Security, WordPress, PHP]  \n",
              "4                        [Security, R, Java, Docker]  \n",
              "5              [Security, Scala, Cloud Architecture]  \n",
              "6                         [Security, Angular, CI/CD]  \n",
              "7           [Security, PyTorch, Java, HTML5, Docker]  \n",
              "8  [Security, Vue.js, PHP, Kubernetes, Data Visua...  \n",
              "9                             [Security, Pandas, Go]  "
            ]
          },
          "execution_count": 9,
          "metadata": {},
          "output_type": "execute_result"
        }
      ],
      "source": [
        "# Find person given some skills\n",
        "driver.execute_query(\n",
        "    '''\n",
        "    match (p:Person)-[:KNOWS]->(s:Skill)\n",
        "    where s.name in $skills\n",
        "    return \n",
        "        count(*) as rank, \n",
        "        p.email as email, \n",
        "        p.name as person_name, \n",
        "        collect{ match (p)-[:KNOWS]->(anySkill) return anySkill.name } as skills\n",
        "    order by rank desc limit 10\n",
        "    ''',\n",
        "    database_=DATABASE,\n",
        "    routing_=RoutingControl.READ,\n",
        "    result_transformer_= lambda r: r.to_df(),\n",
        "    skills = ['Contineous Delivery', 'Cloud Native', 'Security']\n",
        ").head(10)"
      ]
    },
    {
      "cell_type": "code",
      "execution_count": null,
      "metadata": {},
      "outputs": [],
      "source": []
    }
  ],
  "metadata": {
    "colab": {
      "provenance": []
    },
    "kernelspec": {
      "display_name": "notebooks_new",
      "language": "python",
      "name": "python3"
    },
    "language_info": {
      "codemirror_mode": {
        "name": "ipython",
        "version": 3
      },
      "file_extension": ".py",
      "mimetype": "text/x-python",
      "name": "python",
      "nbconvert_exporter": "python",
      "pygments_lexer": "ipython3",
      "version": "3.11.0"
    }
  },
  "nbformat": 4,
  "nbformat_minor": 0
}
