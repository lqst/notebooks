{
  "cells": [
    {
      "cell_type": "markdown",
      "metadata": {},
      "source": [
        "# Module objectives\n",
        "- Creating a graph from unstructured data input\n"
      ]
    },
    {
      "cell_type": "code",
      "execution_count": null,
      "metadata": {
        "id": "FHKg4DVZiQ98"
      },
      "outputs": [],
      "source": [
        "!pip install graphdatascience neo4j dotenv"
      ]
    },
    {
      "cell_type": "markdown",
      "metadata": {
        "id": "ynPe6RLRWSKd"
      },
      "source": [
        "# Setup"
      ]
    },
    {
      "cell_type": "markdown",
      "metadata": {
        "id": "09qvRMrxye7l"
      },
      "source": [
        "Import our usual suspects"
      ]
    },
    {
      "cell_type": "code",
      "execution_count": null,
      "metadata": {
        "id": "BOfc_-mllcUE"
      },
      "outputs": [],
      "source": [
        "import os\n",
        "import pandas as pd\n",
        "from dotenv import load_dotenv\n",
        "from graphdatascience import GraphDataScience\n",
        "from neo4j import Query, GraphDatabase, RoutingControl, Result"
      ]
    },
    {
      "cell_type": "markdown",
      "metadata": {
        "id": "pa61u1jfyk3t"
      },
      "source": [
        "Load env variables"
      ]
    },
    {
      "cell_type": "code",
      "execution_count": null,
      "metadata": {
        "id": "CHR_0lmElZ-R"
      },
      "outputs": [],
      "source": [
        "load_dotenv('ws.env', override=True)\n",
        "# Neo4j\n",
        "HOST = os.getenv('HOST')\n",
        "USERNAME = os.getenv('USERNAME')\n",
        "PASSWORD = os.getenv('PASSWORD')\n",
        "DATABASE = os.getenv('DATABASE')\n",
        "\n",
        "# AI\n",
        "LLM = os.getenv('LLM')\n",
        "OPENAI_API_KEY = os.getenv('OPENAI_API_KEY')\n",
        "os.environ['OPENAI_API_KEY']=OPENAI_API_KEY"
      ]
    },
    {
      "cell_type": "markdown",
      "metadata": {},
      "source": [
        "Connect to neo4j db"
      ]
    },
    {
      "cell_type": "code",
      "execution_count": null,
      "metadata": {
        "id": "5w4eCb7xZZ-S"
      },
      "outputs": [],
      "source": [
        "driver = GraphDatabase.driver(\n",
        "    HOST,\n",
        "    auth=(USERNAME, PASSWORD)\n",
        ")\n",
        "driver.verify_connectivity(database=DATABASE)"
      ]
    },
    {
      "cell_type": "markdown",
      "metadata": {},
      "source": [
        "# Unstructured data"
      ]
    },
    {
      "cell_type": "code",
      "execution_count": null,
      "metadata": {},
      "outputs": [],
      "source": [
        "list_of_bio = [\n",
        "    ''' \n",
        "    Kristof \"speedy gonzales\" Neys, Graph Data Science Director at Neo4j. Kristof excel at Machine \n",
        "    Learning and has written more Quantified Path Patterns in Cypher than anyone else. Want to know more,\n",
        "    drop him an email at kristof.neys@neo4j.com\n",
        "    ''',\n",
        "    ''' \n",
        "    Håkan Löfqvist, Solutions Engineer at Neo4j. Håkan prefer using java \n",
        "    over python, but nothing beats hacking cypher queries and using Graph Technology \n",
        "    to deliver insane success :) Email: hakan.lofqvist@neo4j.com\n",
        "    ''',\n",
        "]\n",
        "print(list_of_bio)"
      ]
    },
    {
      "cell_type": "markdown",
      "metadata": {},
      "source": [
        "## Define domain model"
      ]
    },
    {
      "cell_type": "code",
      "execution_count": null,
      "metadata": {},
      "outputs": [],
      "source": [
        "!pip install pydantic\n",
        "!pip install openai"
      ]
    },
    {
      "cell_type": "code",
      "execution_count": null,
      "metadata": {},
      "outputs": [],
      "source": [
        "from typing import List, Optional\n",
        "from pydantic import BaseModel, Field, validator\n",
        "\n",
        "\n",
        "class Skill(BaseModel):\n",
        "    \"\"\"\n",
        "    Represents a professional skill or knwoledge of a person.\n",
        "    \"\"\"\n",
        "    name: str = Field(..., description=\"Sortened name of the skill\")\n",
        "    \n",
        "\n",
        "class Person(BaseModel):\n",
        "    \"\"\"\n",
        "    Represents a person with a name.\n",
        "    \"\"\"\n",
        "    name: str = Field(..., description=\"Full name of person\")\n",
        "    email: str = Field(..., description=\"A persons email address\")\n",
        "    skills: List[Skill] = Field(\n",
        "        ...,\n",
        "        description=\"List of skills known by the person\"\n",
        "    )"
      ]
    },
    {
      "cell_type": "code",
      "execution_count": null,
      "metadata": {},
      "outputs": [],
      "source": [
        "system_message = \"\"\"\n",
        "You are an expert in extracting structured information from person resumes.\n",
        "Identify key details such as:\n",
        "- Name of the person\n",
        "- Email address of the person\n",
        "- Skills known by the person\n",
        "\n",
        "Present the extracted information in a clear, structured format. Be concise, focusing on:\n",
        "- Key skills\n",
        "- Full name of person\n",
        "Ignore nick names, titles or roles and company information be short and consise with skills\"\"\""
      ]
    },
    {
      "cell_type": "code",
      "execution_count": null,
      "metadata": {},
      "outputs": [],
      "source": [
        "from openai import OpenAI\n",
        "import json\n",
        "client = OpenAI()\n",
        "def extract(document, model=\"gpt-4o\", temperature=0):\n",
        "    response = client.beta.chat.completions.parse(\n",
        "        model=model,\n",
        "        temperature=temperature,\n",
        "        messages=[\n",
        "            {\"role\": \"system\", \"content\": system_message},\n",
        "            {\"role\": \"user\", \"content\": document},\n",
        "        ],\n",
        "        response_format=Person,\n",
        "    )\n",
        "    return json.loads(response.choices[0].message.content)"
      ]
    },
    {
      "cell_type": "code",
      "execution_count": null,
      "metadata": {},
      "outputs": [],
      "source": [
        "rows = []\n",
        "for text in list_of_bio:\n",
        "    data = extract(text)\n",
        "    rows.append(data)\n",
        "rows"
      ]
    },
    {
      "cell_type": "code",
      "execution_count": null,
      "metadata": {},
      "outputs": [],
      "source": [
        "class PersonList(BaseModel):\n",
        "    persons:List[Person]\n",
        "\n",
        "structured_data = PersonList.model_validate({'persons':rows})\n",
        "print(structured_data.model_dump())"
      ]
    },
    {
      "cell_type": "markdown",
      "metadata": {
        "id": "0OMlYdxHWZLx"
      },
      "source": [
        "# Graph creation\n",
        "Now that data is structured and validated, we can save it to the database"
      ]
    },
    {
      "cell_type": "code",
      "execution_count": null,
      "metadata": {},
      "outputs": [],
      "source": [
        "records, summary, keys = driver.execute_query(\n",
        "    '''\n",
        "        unwind $rows as row\n",
        "        merge (p:Person{email:row.email})\n",
        "        set p.name = row.name\n",
        "        with p, row\n",
        "        foreach(skill in row.skills | merge (s:Skill{name:skill.name}) merge (p)-[:KNOWS]->(s) )\n",
        "        return count(*) as rows_processed\n",
        "    ''',\n",
        "    database_=DATABASE,\n",
        "    routing_=RoutingControl.WRITE,\n",
        "    rows = rows\n",
        ")"
      ]
    },
    {
      "cell_type": "markdown",
      "metadata": {},
      "source": [
        "We could also have used neomoddel (OGM) to update the graph."
      ]
    }
  ],
  "metadata": {
    "colab": {
      "provenance": []
    },
    "kernelspec": {
      "display_name": "notebooks_new",
      "language": "python",
      "name": "python3"
    },
    "language_info": {
      "codemirror_mode": {
        "name": "ipython",
        "version": 3
      },
      "file_extension": ".py",
      "mimetype": "text/x-python",
      "name": "python",
      "nbconvert_exporter": "python",
      "pygments_lexer": "ipython3",
      "version": "3.11.0"
    }
  },
  "nbformat": 4,
  "nbformat_minor": 0
}
