{
 "cells": [
  {
   "cell_type": "markdown",
   "metadata": {},
   "source": [
    "# Some fun with unstructured text"
   ]
  },
  {
   "cell_type": "markdown",
   "metadata": {},
   "source": [
    "## Neo4j Setup"
   ]
  },
  {
   "cell_type": "code",
   "execution_count": 1,
   "metadata": {},
   "outputs": [],
   "source": [
    "import pandas as pd\n",
    "from neo4j import GraphDatabase, RoutingControl # Python database driver"
   ]
  },
  {
   "cell_type": "code",
   "execution_count": 2,
   "metadata": {},
   "outputs": [],
   "source": [
    "\n",
    "DB_ULR = \"neo4j://localhost:7687\"\n",
    "DB_USER = \"neo4j\"\n",
    "DB_PASS = \"test1234\"\n",
    "DB_NAME = \"test\""
   ]
  },
  {
   "cell_type": "code",
   "execution_count": 3,
   "metadata": {},
   "outputs": [],
   "source": [
    "driver = GraphDatabase.driver(DB_ULR, auth=(DB_USER, DB_PASS))\n",
    "driver.verify_connectivity()"
   ]
  },
  {
   "cell_type": "markdown",
   "metadata": {},
   "source": [
    "## Test Graph Creation"
   ]
  },
  {
   "cell_type": "code",
   "execution_count": 34,
   "metadata": {},
   "outputs": [],
   "source": [
    "# Test data\n",
    "sections = [\n",
    "    {\n",
    "        \"id\": \"4.3.34\", \n",
    "        \"text\":'''Institutions should set out, in their credit risk policies and procedures, the criteria for\n",
    "            identifying, assessing, approving, monitoring, reporting and mitigating credit risk, and the\n",
    "            criteria for measuring allowances for both accounting and capital adequacy purposes.\n",
    "            Institutions should document the framework and update it regularly.'''\n",
    "    },\n",
    "    {\n",
    "        \"id\": \"4.3.35\", \n",
    "        \"text\":'''The objective followed in credit risk policies and procedures should be to promote a proactive\n",
    "            approach to monitoring credit quality, identifying deteriorating credit early and managing the\n",
    "            overall credit quality and associated risk profile of the portfolio, including through new creditgranting activities.'''\n",
    "    },\n",
    "    {\n",
    "        \"id\": \"4.3.36\", \n",
    "        \"text\":'''Credit risk policies and procedures should cover all lending activities, asset classes, client\n",
    "            segments, products and specific credit facilities, credit risk management practices, and\n",
    "            associated responsibilities and controls.'''\n",
    "    },\n",
    "      {\n",
    "        \"id\": \"4.3.37\", \n",
    "        \"text\":'''Credit risk policies and procedures should include specific lending policies and procedures, with\n",
    "            sufficient granularity to capture the specific business lines of the institution, for different\n",
    "            sectors, in line with their varying complexities and sizes, and risks of different market segments\n",
    "            related to the credit facility.'''\n",
    "    }\n",
    "\n",
    "]\n"
   ]
  },
  {
   "cell_type": "code",
   "execution_count": 35,
   "metadata": {},
   "outputs": [
    {
     "data": {
      "text/plain": [
       "EagerResult(records=[], summary=<neo4j._work.summary.ResultSummary object at 0x17e75ad90>, keys=[])"
      ]
     },
     "execution_count": 35,
     "metadata": {},
     "output_type": "execute_result"
    }
   ],
   "source": [
    "## Test data creation\n",
    "driver.execute_query(\n",
    "    '''\n",
    "    unwind $sections as section\n",
    "    merge (s:Section{id:section.id})\n",
    "    set s.text = section.text\n",
    "    ''',\n",
    "    sections = sections,\n",
    "    routing_= RoutingControl.WRITE,\n",
    "    database_= DB_NAME\n",
    ")"
   ]
  },
  {
   "cell_type": "markdown",
   "metadata": {},
   "source": [
    "## Extract graph from summary"
   ]
  },
  {
   "cell_type": "code",
   "execution_count": 36,
   "metadata": {},
   "outputs": [],
   "source": [
    "from openai import OpenAI\n",
    "from retry import retry"
   ]
  },
  {
   "cell_type": "code",
   "execution_count": 37,
   "metadata": {},
   "outputs": [],
   "source": [
    "client = OpenAI(\n",
    "  #api_key=\"pick up a key from env by default\"\n",
    ")"
   ]
  },
  {
   "cell_type": "code",
   "execution_count": 38,
   "metadata": {},
   "outputs": [
    {
     "data": {
      "text/html": [
       "<div>\n",
       "<style scoped>\n",
       "    .dataframe tbody tr th:only-of-type {\n",
       "        vertical-align: middle;\n",
       "    }\n",
       "\n",
       "    .dataframe tbody tr th {\n",
       "        vertical-align: top;\n",
       "    }\n",
       "\n",
       "    .dataframe thead th {\n",
       "        text-align: right;\n",
       "    }\n",
       "</style>\n",
       "<table border=\"1\" class=\"dataframe\">\n",
       "  <thead>\n",
       "    <tr style=\"text-align: right;\">\n",
       "      <th></th>\n",
       "      <th>id</th>\n",
       "      <th>text</th>\n",
       "    </tr>\n",
       "  </thead>\n",
       "  <tbody>\n",
       "    <tr>\n",
       "      <th>0</th>\n",
       "      <td>4.3.37</td>\n",
       "      <td>Credit risk policies and procedures should include specific lending policies and procedures, with\\n            sufficient granularity to capture the specific business lines of the institution, for different\\n            sectors, in line with their varying complexities and sizes, and risks of different market segments\\n            related to the credit facility.</td>\n",
       "    </tr>\n",
       "  </tbody>\n",
       "</table>\n",
       "</div>"
      ],
      "text/plain": [
       "       id  \\\n",
       "0  4.3.37   \n",
       "\n",
       "                                                                                                                                                                                                                                                                                                                                                                          text  \n",
       "0  Credit risk policies and procedures should include specific lending policies and procedures, with\\n            sufficient granularity to capture the specific business lines of the institution, for different\\n            sectors, in line with their varying complexities and sizes, and risks of different market segments\\n            related to the credit facility.  "
      ]
     },
     "execution_count": 38,
     "metadata": {},
     "output_type": "execute_result"
    }
   ],
   "source": [
    "df_sections = driver.execute_query(\n",
    "    '''\n",
    "    match (s:Section) where s.processed is null\n",
    "    return s.id as id, s.text as text\n",
    "    ''',\n",
    "    None,\n",
    "    routing_= RoutingControl.READ,\n",
    "    database_= DB_NAME,\n",
    "    result_transformer_= lambda r: r.to_df()\n",
    ")\n",
    "pd.set_option('display.max_colwidth',0)\n",
    "df_sections.head()"
   ]
  },
  {
   "cell_type": "code",
   "execution_count": 39,
   "metadata": {},
   "outputs": [],
   "source": [
    "system = \"You are a regulatory compliance expert helping us extract relevant information.\"\n",
    "\n",
    "# Set up the prompt for GPT-3 to complete\n",
    "prompt = \"\"\"#This is section from a regualtory guidline document. The task is to extract as many relevant entities to risks, requirements and methods.\n",
    "#Additionally, extract all relevant relationships between identified entities.\n",
    "#The output of a relationship should be in a form of a triple Head, Relationship, Tail, for example\n",
    "#Peter, WORKS_AT, Hospital/n\n",
    "# An example \"St. Peter is located in Paris\" should have an output with the following format\n",
    "entity\n",
    "St. Peter, person, 0.0\n",
    "Paris, location, 0.0\n",
    "\n",
    "relationships\n",
    "St.Peter, LOCATED_IN, Paris\\n\"\"\""
   ]
  },
  {
   "cell_type": "code",
   "execution_count": 40,
   "metadata": {},
   "outputs": [],
   "source": [
    "def parse_entities_and_relationships(input_str):\n",
    "    # Parse the input string\n",
    "    entities = []\n",
    "    relationships = []\n",
    "    entity_mode = True\n",
    "    # Skip the first line\n",
    "    for line in input_str.split(\"\\n\")[1:]:\n",
    "        if line == \"relationships\":\n",
    "            entity_mode = False\n",
    "        elif line:\n",
    "            if entity_mode:\n",
    "                # Make sure the rel is in correct format\n",
    "                # GPT-4 sometimes returns n/a when no entities are found\n",
    "                if len(line.split(\", \")) != 3:\n",
    "                    continue\n",
    "                entities.append(line.split(\", \"))\n",
    "            else:\n",
    "                # Make sure the rel is in correct format\n",
    "                # GPT-4 sometimes returns n/a when no rels are found\n",
    "                if len(line.split(\", \")) != 3:\n",
    "                    continue\n",
    "                relationships.append(line.split(\", \"))\n",
    "    return entities, relationships"
   ]
  },
  {
   "cell_type": "code",
   "execution_count": 41,
   "metadata": {},
   "outputs": [],
   "source": [
    "@retry(tries=3, delay=5)\n",
    "def process_gpt4(text):\n",
    "    paragraph = text\n",
    "\n",
    "    completion = client.chat.completions.create(\n",
    "        model=\"gpt-4\",\n",
    "        # Try to be as deterministic as possible\n",
    "        temperature=0,\n",
    "        messages=[\n",
    "            {\"role\": \"system\", \"content\": system},\n",
    "            {\"role\": \"user\", \"content\": prompt + paragraph},\n",
    "        ],\n",
    "    )\n",
    "\n",
    "    nlp_results = completion.choices[0].message.content\n",
    "\n",
    "    print(nlp_results)\n",
    "    \n",
    "    if not \"relationships\" in nlp_results:\n",
    "        raise Exception(\n",
    "            \"GPT is not being nice and isn't returning results in correct format\"\n",
    "        )\n",
    "    \n",
    "    return parse_entities_and_relationships(nlp_results)"
   ]
  },
  {
   "cell_type": "code",
   "execution_count": 42,
   "metadata": {},
   "outputs": [],
   "source": [
    "# Test \n",
    "# for index, row in df_sections.iterrows():\n",
    "#     print(\"processing: {id}\".format(id=row.id))\n",
    "#     entities, relationships = process_gpt4(row.text)\n",
    "#     print(entities)\n",
    "#     print(relationships)"
   ]
  },
  {
   "cell_type": "code",
   "execution_count": 43,
   "metadata": {},
   "outputs": [
    {
     "data": {
      "text/plain": [
       "EagerResult(records=[], summary=<neo4j._work.summary.ResultSummary object at 0x16b581e50>, keys=[])"
      ]
     },
     "execution_count": 43,
     "metadata": {},
     "output_type": "execute_result"
    }
   ],
   "source": [
    "driver.execute_query(\n",
    "    'create constraint if not exists for (n:Entity) require (n.name) is node key',\n",
    "    None,\n",
    "    routing_= RoutingControl.WRITE,\n",
    "    database_= DB_NAME\n",
    ")"
   ]
  },
  {
   "cell_type": "code",
   "execution_count": 44,
   "metadata": {},
   "outputs": [
    {
     "name": "stdout",
     "output_type": "stream",
     "text": [
      "processing: 4.3.37\n",
      "entities\n",
      "Credit risk policies, policy, 0.0\n",
      "Procedures, method, 0.0\n",
      "Specific lending policies and procedures, policy, 0.0\n",
      "Business lines, business entity, 0.0\n",
      "Institution, organization, 0.0\n",
      "Sectors, market segment, 0.0\n",
      "Complexities, risk, 0.0\n",
      "Sizes, risk, 0.0\n",
      "Risks of different market segments, risk, 0.0\n",
      "Credit facility, financial product, 0.0\n",
      "\n",
      "relationships\n",
      "Credit risk policies, INCLUDE, Specific lending policies and procedures\n",
      "Credit risk policies, SHOULD_CAPTURE, Business lines of the institution\n",
      "Credit risk policies, SHOULD_CAPTURE, Sectors\n",
      "Credit risk policies, SHOULD_CAPTURE, Complexities\n",
      "Credit risk policies, SHOULD_CAPTURE, Sizes\n",
      "Credit risk policies, RELATED_TO, Risks of different market segments\n",
      "Credit risk policies, RELATED_TO, Credit facility\n",
      "Specific lending policies and procedures, RELATED_TO, Business lines of the institution\n",
      "Specific lending policies and procedures, RELATED_TO, Sectors\n",
      "Specific lending policies and procedures, RELATED_TO, Complexities\n",
      "Specific lending policies and procedures, RELATED_TO, Sizes\n",
      "Specific lending policies and procedures, RELATED_TO, Risks of different market segments\n",
      "Specific lending policies and procedures, RELATED_TO, Credit facility\n"
     ]
    }
   ],
   "source": [
    "for index, row in df_sections.iterrows():\n",
    "    print(\"processing: {id}\".format(id=row.id))\n",
    "    entities, relationships = process_gpt4(row.text)\n",
    "    driver.execute_query(\n",
    "    '''\n",
    "    MATCH (p:Section{id:$id}) set p.processed=datetime()\n",
    "    FOREACH (e in $entities |\n",
    "        MERGE (entity:Entity {name: e[0]})\n",
    "        ON CREATE SET entity.type = e[1] \n",
    "        MERGE (p)-[:MENTIONS]->(entity)\n",
    "    )\n",
    "    WITH p\n",
    "    UNWIND $relationships AS relation\n",
    "    MERGE (source:Entity {name: relation[0]})\n",
    "    MERGE (target:Entity {name: relation[2]})\n",
    "    with source, target, relation\n",
    "    CALL apoc.merge.relationship(source, relation[1],\n",
    "        {roles:['Joe Fox']},\n",
    "        {},\n",
    "        target,\n",
    "        {}\n",
    "        )\n",
    "        YIELD rel\n",
    "    RETURN true as result\n",
    "    ''',\n",
    "    id = row.id,\n",
    "    relationships = relationships,\n",
    "    entities = entities,\n",
    "    routing_ = RoutingControl.WRITE,\n",
    "    database_ = DB_NAME\n",
    ")"
   ]
  },
  {
   "cell_type": "code",
   "execution_count": null,
   "metadata": {},
   "outputs": [],
   "source": []
  }
 ],
 "metadata": {
  "kernelspec": {
   "display_name": "notebooks",
   "language": "python",
   "name": "python3"
  },
  "language_info": {
   "codemirror_mode": {
    "name": "ipython",
    "version": 3
   },
   "file_extension": ".py",
   "mimetype": "text/x-python",
   "name": "python",
   "nbconvert_exporter": "python",
   "pygments_lexer": "ipython3",
   "version": "3.9.16"
  }
 },
 "nbformat": 4,
 "nbformat_minor": 2
}
