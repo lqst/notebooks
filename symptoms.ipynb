{
 "cells": [
  {
   "cell_type": "code",
   "execution_count": null,
   "metadata": {},
   "outputs": [],
   "source": [
    "\n",
    "DB_ULR = \"neo4j://localhost:7687\"\n",
    "DB_USER = \"neo4j\"\n",
    "DB_PASS = \"test1234\"\n",
    "DB_NAME = \"symptom\""
   ]
  },
  {
   "cell_type": "markdown",
   "metadata": {},
   "source": [
    "# Create driver\n",
    "Also set the DB_NAME"
   ]
  },
  {
   "cell_type": "code",
   "execution_count": null,
   "metadata": {},
   "outputs": [],
   "source": [
    "import os\n",
    "import pandas as pd\n",
    "import numpy as np\n",
    "import matplotlib.pyplot as plt\n",
    "import plotly.graph_objects as go\n",
    "import plotly.express as px \n",
    "from neo4j import GraphDatabase # Python database driver\n",
    "from graphdatascience import GraphDataScience # Python GDS client\n",
    "\n",
    "# And some cermony to create the driver and gds objects\n",
    "driver = GraphDatabase.driver(DB_ULR, auth=(DB_USER, DB_PASS))\n",
    "gds = GraphDataScience(DB_ULR, auth=(DB_USER, DB_PASS))\n",
    "gds.set_database(DB_NAME)"
   ]
  },
  {
   "cell_type": "markdown",
   "metadata": {},
   "source": [
    "# Create databse and schema"
   ]
  },
  {
   "cell_type": "code",
   "execution_count": null,
   "metadata": {},
   "outputs": [],
   "source": [
    "# Create (or replace) database\n",
    "with driver.session(database = \"system\") as session:\n",
    "    result = session.write_transaction( lambda tx: \n",
    "        tx.run(\n",
    "            \"CREATE OR REPLACE DATABASE {dbname}\".format(dbname = DB_NAME)\n",
    "        ).data()\n",
    "    )"
   ]
  },
  {
   "cell_type": "code",
   "execution_count": null,
   "metadata": {},
   "outputs": [],
   "source": [
    "# Create indexes and constraints\n",
    "with driver.session(database = DB_NAME) as session:\n",
    "    session.write_transaction( lambda tx: \n",
    "        tx.run(\n",
    "            \"CREATE CONSTRAINT IF NOT EXISTS FOR (n:Symptom) REQUIRE (n.name) IS NODE KEY\"\n",
    "        ).consume()\n",
    "    )\n",
    "    session.write_transaction( lambda tx: \n",
    "        tx.run(\n",
    "            \"CREATE CONSTRAINT IF NOT EXISTS FOR (n:Disease) REQUIRE (n.name) IS NODE KEY\"\n",
    "        ).consume()     \n",
    "    )"
   ]
  },
  {
   "cell_type": "markdown",
   "metadata": {},
   "source": [
    "#  Load data"
   ]
  },
  {
   "cell_type": "code",
   "execution_count": null,
   "metadata": {},
   "outputs": [],
   "source": [
    "# Read csv file\n",
    "# Source https://github.com/deshanadesai/Symptom-X-/blob/master/dataset_clean1.csv\n",
    "csv = pd.read_csv('https://raw.githubusercontent.com/deshanadesai/Symptom-X-/master/dataset_clean1.csv')\n",
    "csv.head()"
   ]
  },
  {
   "cell_type": "code",
   "execution_count": null,
   "metadata": {},
   "outputs": [],
   "source": [
    "# Select all unique symptoms\n",
    "symptoms = csv['Target'].drop_duplicates().dropna()\n",
    "symptoms.head()"
   ]
  },
  {
   "cell_type": "code",
   "execution_count": null,
   "metadata": {},
   "outputs": [],
   "source": [
    "# Create Symptom nodes\n",
    "for chunk in np.array_split(symptoms, 2):\n",
    "    with driver.session(database = DB_NAME) as session:\n",
    "        result = session.write_transaction( lambda tx: \n",
    "            tx.run(\n",
    "                \"\"\"\n",
    "                UNWIND $symptoms as symptomName\n",
    "                MERGE (:Symptom{name: symptomName})\n",
    "                RETURN count(*) as nodesCreated\n",
    "                \"\"\",\n",
    "                symptoms = chunk.to_list()\n",
    "            ).data()\n",
    "        )\n",
    "        df = pd.DataFrame(result)\n",
    "df.head()"
   ]
  },
  {
   "cell_type": "code",
   "execution_count": null,
   "metadata": {},
   "outputs": [],
   "source": [
    "# Select all unique diseases\n",
    "diseases = csv['Source'].drop_duplicates().dropna()\n",
    "diseases.head()"
   ]
  },
  {
   "cell_type": "code",
   "execution_count": null,
   "metadata": {},
   "outputs": [],
   "source": [
    "# Create Disease nodes\n",
    "with driver.session(database = DB_NAME) as session:\n",
    "    result = session.write_transaction( lambda tx: \n",
    "        tx.run(\n",
    "            \"\"\"\n",
    "            UNWIND $diseases as diseaseName\n",
    "            MERGE (:Disease{name: diseaseName})\n",
    "            RETURN count(*) as nodesCreated\n",
    "            \"\"\",\n",
    "            diseases = diseases.to_list()\n",
    "        ).data()\n",
    "    )\n",
    "    df = pd.DataFrame(result)\n",
    "df.head()"
   ]
  },
  {
   "cell_type": "code",
   "execution_count": null,
   "metadata": {},
   "outputs": [],
   "source": [
    "# Select all SYMPTOM_OV relationships\n",
    "symptom_of_rels = csv[['Source','Target', 'Weight']]\n",
    "df.head()"
   ]
  },
  {
   "cell_type": "code",
   "execution_count": null,
   "metadata": {},
   "outputs": [],
   "source": [
    "# Create VIEWED relationships\n",
    "for chunk in np.array_split(symptom_of_rels, 2):\n",
    "    with driver.session(database = DB_NAME) as session:\n",
    "        result = session.write_transaction( lambda tx: \n",
    "            tx.run(\n",
    "                \"\"\"\n",
    "                UNWIND $data as rel\n",
    "                MATCH (d:Disease{name: rel.Source}), (s:Symptom{name: rel.Target})\n",
    "                MERGE (s)-[:SYMPTOM_OF{weight:toInteger(rel.Weight)}]->(d)\n",
    "                RETURN count(*) as relsCreated\n",
    "                \"\"\",\n",
    "                data = chunk.to_dict('records')\n",
    "            ).data()\n",
    "        )\n",
    "        df = pd.DataFrame(result)\n",
    "df.head()"
   ]
  },
  {
   "cell_type": "markdown",
   "metadata": {},
   "source": [
    "# Some basic queries"
   ]
  },
  {
   "cell_type": "code",
   "execution_count": null,
   "metadata": {},
   "outputs": [],
   "source": [
    "# Syptom with highest degree\n",
    "# Question: What does does it mean?\n",
    "with driver.session(database = DB_NAME) as session:\n",
    "    result = session.read_transaction( lambda tx: \n",
    "        tx.run(\n",
    "            \"\"\"\n",
    "            MATCH (s:Symptom)-[r:SYMPTOM_OF]->(d:Disease)\n",
    "            RETURN \n",
    "                s.name as symptom, \n",
    "                collect(d.name) as diseases, \n",
    "                count(d) as number_of_diseases\n",
    "            ORDER BY number_of_diseases DESC LIMIT $limit\n",
    "            \"\"\",\n",
    "            limit = 5\n",
    "        ).data()\n",
    "    )\n",
    "    df = pd.DataFrame(result)\n",
    "df.head()"
   ]
  },
  {
   "cell_type": "code",
   "execution_count": null,
   "metadata": {},
   "outputs": [],
   "source": [
    "# Syptom with lowest degree\n",
    "# Question: What does does it mean?\n",
    "with driver.session(database = DB_NAME) as session:\n",
    "    result = session.read_transaction( lambda tx: \n",
    "        tx.run(\n",
    "            \"\"\"\n",
    "            MATCH (s:Symptom)-[r:SYMPTOM_OF]->(d:Disease)\n",
    "            RETURN \n",
    "                s.name as symptom, \n",
    "                collect(d.name) as diseases, \n",
    "                count(d) as number_of_diseases\n",
    "            ORDER BY number_of_diseases ASC LIMIT $limit\n",
    "            \"\"\",\n",
    "            limit = 5\n",
    "        ).data()\n",
    "    )\n",
    "    df = pd.DataFrame(result)\n",
    "df.head()"
   ]
  },
  {
   "cell_type": "code",
   "execution_count": null,
   "metadata": {},
   "outputs": [],
   "source": [
    "# Possible diseases given two symptoms\n",
    "with driver.session(database = DB_NAME) as session:\n",
    "    result = session.read_transaction( lambda tx: \n",
    "        tx.run(\n",
    "            \"\"\"\n",
    "            MATCH (s1:Symptom{name:\"fever\"})-[:SYMPTOM_OF]->(d:Disease)<-[:SYMPTOM_OF]-(s2:Symptom{name:\"swelling\"})\n",
    "            RETURN d.name as disease\n",
    "            \"\"\"\n",
    "        ).data()\n",
    "    )\n",
    "    df = pd.DataFrame(result)\n",
    "df.head()"
   ]
  },
  {
   "cell_type": "code",
   "execution_count": null,
   "metadata": {},
   "outputs": [],
   "source": [
    "# Possible diseases given two symptoms\n",
    "# Weighted\n",
    "with driver.session(database = DB_NAME) as session:\n",
    "    result = session.read_transaction( lambda tx: \n",
    "        tx.run(\n",
    "            \"\"\"\n",
    "            MATCH (s1:Symptom{name:\"fever\"})-[r1:SYMPTOM_OF]->(d:Disease)<-[r2:SYMPTOM_OF]-(s2:Symptom{name:\"swelling\"})\n",
    "            RETURN d.name as disease, \n",
    "                   r1.weight + r2.weight as weight \n",
    "            ORDER BY weight DESC \n",
    "            \"\"\"\n",
    "        ).data()\n",
    "    )\n",
    "    df = pd.DataFrame(result)\n",
    "df.head()"
   ]
  },
  {
   "cell_type": "markdown",
   "metadata": {},
   "source": [
    "# Graph data science\n",
    "Can we arrange syptoms based on diseases they share?"
   ]
  },
  {
   "cell_type": "code",
   "execution_count": null,
   "metadata": {},
   "outputs": [],
   "source": [
    "G1=gds.graph.project('p1',['Disease', 'Symptom'], ['SYMPTOM_OF'])\n",
    "\"Nodes: {node_count}, Relationships {relationship_count}\".format(node_count=G1.node_count(), relationship_count=G1.relationship_count())"
   ]
  },
  {
   "cell_type": "code",
   "execution_count": null,
   "metadata": {},
   "outputs": [],
   "source": [
    "gds.nodeSimilarity.stats(G1, \n",
    "    similarityMetric = 'OVERLAP', \n",
    "    similarityCutoff = 0.6\n",
    ")"
   ]
  },
  {
   "cell_type": "code",
   "execution_count": null,
   "metadata": {},
   "outputs": [],
   "source": [
    "gds.nodeSimilarity.write(G1, \n",
    "    similarityMetric = 'OVERLAP', \n",
    "    similarityCutoff = 0.6, \n",
    "    writeRelationshipType = 'NARROWER_THAN', \n",
    "    writeProperty = 'similarity'\n",
    ")"
   ]
  },
  {
   "cell_type": "code",
   "execution_count": null,
   "metadata": {},
   "outputs": [],
   "source": [
    "G1.drop()"
   ]
  },
  {
   "cell_type": "code",
   "execution_count": null,
   "metadata": {},
   "outputs": [],
   "source": [
    "# Touch-up: Remove symmetric NARROWER_THAN relationships\n",
    "with driver.session(database = DB_NAME) as session:\n",
    "    result = session.write_transaction( lambda tx: \n",
    "        tx.run(\n",
    "            \"\"\"\n",
    "            MATCH (s1:Symptom)-[r:NARROWER_THAN]->(s2:Symptom)\n",
    "            WHERE (s2)-[:NARROWER_THAN]->(s1)\n",
    "            DELETE r\n",
    "            RETURN count(*) as relationships_deleted\n",
    "            \"\"\",\n",
    "            limit = 10, itemid = 461686, visitorid=684514\n",
    "        ).data()\n",
    "    )\n",
    "    df = pd.DataFrame(result)\n",
    "df.head()"
   ]
  },
  {
   "cell_type": "code",
   "execution_count": null,
   "metadata": {},
   "outputs": [],
   "source": [
    "# Touch-up: Make NARROWER_THAN point towards the node with the bigger set of adjacent Diseases\n",
    "with driver.session(database = DB_NAME) as session:\n",
    "    result = session.write_transaction( lambda tx: \n",
    "        tx.run(\n",
    "            \"\"\"\n",
    "            MATCH (s1:Symptom)-[r:NARROWER_THAN]->(s2:Symptom)\n",
    "            WHERE size( (s1)-[:SYMPTOM_OF]->() ) > size( (s2)-[:SYMPTOM_OF]->() )\n",
    "            CREATE (s2)-[:NARROWER_THAN{similarity: r.similarity}]->(s1)\n",
    "            DELETE r\n",
    "            RETURN count(*) as relationships_reversed\n",
    "            \"\"\"\n",
    "        ).data()\n",
    "    )\n",
    "    df = pd.DataFrame(result)\n",
    "df.head()"
   ]
  },
  {
   "cell_type": "code",
   "execution_count": null,
   "metadata": {},
   "outputs": [],
   "source": [
    "# Touch-up: Remove transitive dependencies\n",
    "with driver.session(database = DB_NAME) as session:\n",
    "    result = session.write_transaction( lambda tx: \n",
    "        tx.run(\n",
    "            \"\"\"\n",
    "            MATCH (s:Symptom)-[r:NARROWER_THAN]->(s2:Symptom)\n",
    "            WHERE (s)-[:NARROWER_THAN*2..20]->(s2)\n",
    "            DELETE r\n",
    "            RETURN count(*) as relationships_transitive\n",
    "            \"\"\"\n",
    "        ).data()\n",
    "    )\n",
    "    df = pd.DataFrame(result)\n",
    "df.head()"
   ]
  },
  {
   "cell_type": "code",
   "execution_count": null,
   "metadata": {},
   "outputs": [],
   "source": [
    "# Let's query our new NARROWER_THAN relationships\n",
    "with driver.session(database = DB_NAME) as session:\n",
    "    result = session.read_transaction( lambda tx: \n",
    "        tx.run(\n",
    "            \"\"\"\n",
    "            MATCH (l2:Symptom)-[:NARROWER_THAN]->(l1:Symptom)-[:NARROWER_THAN]->(root:Symptom{name:\"pain\"})\n",
    "            RETURN l2.name + '->' + l1.name + '->' + root.name as path\n",
    "            ORDER BY l2.name, l1.name\n",
    "            \"\"\",\n",
    "        ).data()\n",
    "    )\n",
    "    df = pd.DataFrame(result)\n",
    "df.head()"
   ]
  },
  {
   "cell_type": "markdown",
   "metadata": {},
   "source": [
    "## Conclusions\n",
    "We have now learned the Taxonomy of our data :)"
   ]
  },
  {
   "cell_type": "code",
   "execution_count": null,
   "metadata": {},
   "outputs": [],
   "source": [
    "# Let's check what communities we have\n",
    "# What type of graph is this?\n",
    "G2=gds.graph.project('p2',['Symptom'], ['NARROWER_THAN'])\n",
    "\"Nodes: {node_count}, Relationships {relationship_count}\".format(node_count=G2.node_count(), relationship_count=G2.relationship_count())"
   ]
  },
  {
   "cell_type": "code",
   "execution_count": null,
   "metadata": {},
   "outputs": [],
   "source": [
    "gds.wcc.stats(G2)"
   ]
  },
  {
   "cell_type": "code",
   "execution_count": null,
   "metadata": {},
   "outputs": [],
   "source": [
    "gds.wcc.mutate(G2, mutateProperty='wccId')"
   ]
  },
  {
   "cell_type": "code",
   "execution_count": null,
   "metadata": {},
   "outputs": [],
   "source": [
    "gds.graph.writeNodeProperties(G2, ['wccId'])"
   ]
  },
  {
   "cell_type": "code",
   "execution_count": null,
   "metadata": {},
   "outputs": [],
   "source": [
    "# Let's check the small iselands\n",
    "with driver.session(database = DB_NAME) as session:\n",
    "    result = session.read_transaction( lambda tx: \n",
    "        tx.run(\n",
    "            \"\"\"\n",
    "            MATCH (s:Symptom)\n",
    "            WITH s.wccId as communityId, count(*) as communitySize where communitySize < 5\n",
    "            MATCH (s:Symptom{wccId:communityId})\n",
    "            RETURN communityId, \n",
    "                   collect(s.name) as symptoms, \n",
    "                   communitySize, \n",
    "                   [ (s)-[:SYMPTOM_OF]->(d) | d.name ] as diseases\n",
    "            ORDER BY communityId\n",
    "            \"\"\",\n",
    "        ).data()\n",
    "    )\n",
    "    df = pd.DataFrame(result)\n",
    "df.head()"
   ]
  },
  {
   "cell_type": "code",
   "execution_count": null,
   "metadata": {},
   "outputs": [],
   "source": [
    "# Let's break down the largest community\n",
    "with driver.session(database = DB_NAME) as session:\n",
    "    result = session.read_transaction( lambda tx: \n",
    "        tx.run(\n",
    "            \"\"\"\n",
    "            MATCH (s:Symptom)\n",
    "            WITH s.wccId as communityId, count(*) as communitySize\n",
    "            RETURN communityId,communitySize order by communitySize desc limit 5\n",
    "            \"\"\",\n",
    "        ).data()\n",
    "    )\n",
    "    df = pd.DataFrame(result)\n",
    "df.head()"
   ]
  },
  {
   "cell_type": "code",
   "execution_count": null,
   "metadata": {},
   "outputs": [],
   "source": [
    "wccId = df[\"communityId\"][0]\n",
    "print(wccId)\n"
   ]
  },
  {
   "cell_type": "code",
   "execution_count": null,
   "metadata": {},
   "outputs": [],
   "source": [
    "G3=gds.beta.graph.project.subgraph('p3', G2, 'n.wccId={id}'.format(id=wccId) , '*')\n",
    "\"Nodes: {node_count}, Relationships {relationship_count}\".format(node_count=G3.node_count(), relationship_count=G3.relationship_count())"
   ]
  },
  {
   "cell_type": "code",
   "execution_count": null,
   "metadata": {},
   "outputs": [],
   "source": [
    "gds.louvain.stats(G3)"
   ]
  },
  {
   "cell_type": "code",
   "execution_count": null,
   "metadata": {},
   "outputs": [],
   "source": [
    "gds.louvain.write(G3, writeProperty='louvainId')"
   ]
  },
  {
   "cell_type": "code",
   "execution_count": null,
   "metadata": {},
   "outputs": [],
   "source": [
    "G3.drop()"
   ]
  },
  {
   "cell_type": "code",
   "execution_count": null,
   "metadata": {},
   "outputs": [],
   "source": [
    "G2.drop()"
   ]
  },
  {
   "cell_type": "markdown",
   "metadata": {},
   "source": [
    "## Conclusions\n",
    "Well, sometimes we fail. 100's of communities are not useful (see bloom). But then again, our NARROWER_THAN is a tree structure. So maybe we are better off just looking at what are the different tree roots. "
   ]
  },
  {
   "cell_type": "code",
   "execution_count": null,
   "metadata": {},
   "outputs": [],
   "source": [
    "# Add Root label and also return roots\n",
    "with driver.session(database = DB_NAME) as session:\n",
    "    result = session.write_transaction( lambda tx: \n",
    "        tx.run(\n",
    "            \"\"\"\n",
    "            MATCH (root:Symptom)<-[r:NARROWER_THAN*1..10]-(s:Symptom)\n",
    "            WHERE NOT (root)-[:NARROWER_THAN]->()\n",
    "            WITH root, count(distinct(s)) as treeSize\n",
    "            SET root:Root, \n",
    "            root.treeSize = treeSize\n",
    "            RETURN root.name as symptom, treeSize\n",
    "            ORDER BY treeSize desc\n",
    "            \"\"\"\n",
    "        ).data()\n",
    "    )\n",
    "    df = pd.DataFrame(result)\n",
    "df.head()"
   ]
  },
  {
   "cell_type": "markdown",
   "metadata": {},
   "source": [
    "## Talke a look in neo4j bloom\n",
    "Add the Root label to the scene, size the nodes by treeSize"
   ]
  },
  {
   "cell_type": "code",
   "execution_count": null,
   "metadata": {},
   "outputs": [],
   "source": [
    "# Set size for each node in the tree\n",
    "with driver.session(database = DB_NAME) as session:\n",
    "    result = session.write_transaction( lambda tx: \n",
    "        tx.run(\n",
    "            \"\"\"\n",
    "            MATCH (s:Symptom)<-[r:NARROWER_THAN*0..10]-(n:Symptom)\n",
    "            WITH s, count(distinct(n)) as treeSize\n",
    "            SET s.treeSize = treeSize\n",
    "            RETURN count(*) as nodesUpdated\n",
    "            \"\"\"\n",
    "        ).data()\n",
    "    )\n",
    "    df = pd.DataFrame(result)\n",
    "df.head()"
   ]
  },
  {
   "cell_type": "code",
   "execution_count": 349,
   "metadata": {},
   "outputs": [
    {
     "data": {
      "text/html": [
       "<div>\n",
       "<style scoped>\n",
       "    .dataframe tbody tr th:only-of-type {\n",
       "        vertical-align: middle;\n",
       "    }\n",
       "\n",
       "    .dataframe tbody tr th {\n",
       "        vertical-align: top;\n",
       "    }\n",
       "\n",
       "    .dataframe thead th {\n",
       "        text-align: right;\n",
       "    }\n",
       "</style>\n",
       "<table border=\"1\" class=\"dataframe\">\n",
       "  <thead>\n",
       "    <tr style=\"text-align: right;\">\n",
       "      <th></th>\n",
       "      <th>l2</th>\n",
       "      <th>l1</th>\n",
       "      <th>root</th>\n",
       "      <th>size</th>\n",
       "    </tr>\n",
       "  </thead>\n",
       "  <tbody>\n",
       "    <tr>\n",
       "      <th>0</th>\n",
       "      <td>hemianopsia homonymous</td>\n",
       "      <td>breath sounds decreased</td>\n",
       "      <td>shortness of breath</td>\n",
       "      <td>4</td>\n",
       "    </tr>\n",
       "    <tr>\n",
       "      <th>1</th>\n",
       "      <td>ache</td>\n",
       "      <td>haemoptysis</td>\n",
       "      <td>shortness of breath</td>\n",
       "      <td>1</td>\n",
       "    </tr>\n",
       "    <tr>\n",
       "      <th>2</th>\n",
       "      <td>tinnitus</td>\n",
       "      <td>haemoptysis</td>\n",
       "      <td>shortness of breath</td>\n",
       "      <td>1</td>\n",
       "    </tr>\n",
       "    <tr>\n",
       "      <th>3</th>\n",
       "      <td>welt</td>\n",
       "      <td>haemoptysis</td>\n",
       "      <td>shortness of breath</td>\n",
       "      <td>1</td>\n",
       "    </tr>\n",
       "    <tr>\n",
       "      <th>4</th>\n",
       "      <td>st segment elevation</td>\n",
       "      <td>orthopnea</td>\n",
       "      <td>shortness of breath</td>\n",
       "      <td>1</td>\n",
       "    </tr>\n",
       "  </tbody>\n",
       "</table>\n",
       "</div>"
      ],
      "text/plain": [
       "                       l2                       l1                 root  size\n",
       "0  hemianopsia homonymous  breath sounds decreased  shortness of breath     4\n",
       "1                    ache              haemoptysis  shortness of breath     1\n",
       "2                tinnitus              haemoptysis  shortness of breath     1\n",
       "3                    welt              haemoptysis  shortness of breath     1\n",
       "4    st segment elevation                orthopnea  shortness of breath     1"
      ]
     },
     "execution_count": 349,
     "metadata": {},
     "output_type": "execute_result"
    }
   ],
   "source": [
    "# Grab some data so we can visualize it\n",
    "with driver.session(database = DB_NAME) as session:\n",
    "    result = session.read_transaction( lambda tx: \n",
    "        tx.run(\n",
    "            \"\"\"\n",
    "            MATCH (root:Root)\n",
    "            WITH root ORDER BY root.treeSize DESC LIMIT 3\n",
    "            MATCH (l2:Symptom)-[:NARROWER_THAN]->(l1:Symptom)-[:NARROWER_THAN]->(root)\n",
    "            RETURN l2.name as l2, l1.name as l1, root.name as root, l2.treeSize as size\n",
    "            \"\"\"\n",
    "        ).data()\n",
    "    )\n",
    "    df = pd.DataFrame(result)\n",
    "df.head()"
   ]
  },
  {
   "cell_type": "code",
   "execution_count": 350,
   "metadata": {},
   "outputs": [
    {
     "name": "stderr",
     "output_type": "stream",
     "text": [
      "/Users/haklof/projects/public/notebooks/venv/lib/python3.9/site-packages/plotly/express/_core.py:1594: FutureWarning:\n",
      "\n",
      "The frame.append method is deprecated and will be removed from pandas in a future version. Use pandas.concat instead.\n",
      "\n",
      "/Users/haklof/projects/public/notebooks/venv/lib/python3.9/site-packages/plotly/express/_core.py:1594: FutureWarning:\n",
      "\n",
      "The frame.append method is deprecated and will be removed from pandas in a future version. Use pandas.concat instead.\n",
      "\n",
      "/Users/haklof/projects/public/notebooks/venv/lib/python3.9/site-packages/plotly/express/_core.py:1594: FutureWarning:\n",
      "\n",
      "The frame.append method is deprecated and will be removed from pandas in a future version. Use pandas.concat instead.\n",
      "\n"
     ]
    },
    {
     "data": {
      "application/vnd.plotly.v1+json": {
       "config": {
        "plotlyServerURL": "https://plot.ly"
       },
       "data": [
        {
         "branchvalues": "total",
         "customdata": [
          [
           "shortness of breath"
          ],
          [
           "fever"
          ],
          [
           "shortness of breath"
          ],
          [
           "pain"
          ],
          [
           "pain"
          ],
          [
           "pain"
          ],
          [
           "shortness of breath"
          ],
          [
           "pain"
          ],
          [
           "fever"
          ],
          [
           "shortness of breath"
          ],
          [
           "pain"
          ],
          [
           "shortness of breath"
          ],
          [
           "shortness of breath"
          ],
          [
           "shortness of breath"
          ],
          [
           "shortness of breath"
          ],
          [
           "shortness of breath"
          ],
          [
           "pain"
          ],
          [
           "shortness of breath"
          ],
          [
           "shortness of breath"
          ],
          [
           "fever"
          ],
          [
           "fever"
          ],
          [
           "fever"
          ],
          [
           "fever"
          ],
          [
           "fever"
          ],
          [
           "pain"
          ],
          [
           "shortness of breath"
          ],
          [
           "fever"
          ],
          [
           "shortness of breath"
          ],
          [
           "fever"
          ],
          [
           "pain"
          ],
          [
           "shortness of breath"
          ],
          [
           "pain"
          ],
          [
           "shortness of breath"
          ],
          [
           "shortness of breath"
          ],
          [
           "fever"
          ],
          [
           "pain"
          ],
          [
           "shortness of breath"
          ],
          [
           "shortness of breath"
          ],
          [
           "pain"
          ],
          [
           "shortness of breath"
          ],
          [
           "fever"
          ],
          [
           "fever"
          ],
          [
           "shortness of breath"
          ],
          [
           "fever"
          ],
          [
           "shortness of breath"
          ],
          [
           "shortness of breath"
          ],
          [
           "shortness of breath"
          ],
          [
           "pain"
          ],
          [
           "shortness of breath"
          ],
          [
           "fever"
          ],
          [
           "shortness of breath"
          ],
          [
           "pain"
          ],
          [
           "shortness of breath"
          ],
          [
           "pain"
          ],
          [
           "fever"
          ],
          [
           "shortness of breath"
          ],
          [
           "pain"
          ],
          [
           "shortness of breath"
          ],
          [
           "shortness of breath"
          ],
          [
           "fever"
          ],
          [
           "fever"
          ],
          [
           "fever"
          ],
          [
           "fever"
          ],
          [
           "fever"
          ],
          [
           "fever"
          ],
          [
           "fever"
          ],
          [
           "pain"
          ],
          [
           "pain"
          ],
          [
           "fever"
          ],
          [
           "fever"
          ],
          [
           "pain"
          ],
          [
           "fever"
          ],
          [
           "pain"
          ],
          [
           "fever"
          ],
          [
           "fever"
          ],
          [
           "pain"
          ],
          [
           "pain"
          ],
          [
           "pain"
          ],
          [
           "shortness of breath"
          ],
          [
           "shortness of breath"
          ],
          [
           "fever"
          ],
          [
           "pain"
          ],
          [
           "pain"
          ],
          [
           "pain"
          ],
          [
           "shortness of breath"
          ],
          [
           "pain"
          ],
          [
           "shortness of breath"
          ],
          [
           "shortness of breath"
          ],
          [
           "pain"
          ],
          [
           "pain"
          ],
          [
           "pain"
          ],
          [
           "shortness of breath"
          ],
          [
           "shortness of breath"
          ],
          [
           "fever"
          ],
          [
           "pain"
          ],
          [
           "pain"
          ],
          [
           "shortness of breath"
          ],
          [
           "pain"
          ],
          [
           "pain"
          ],
          [
           "pain"
          ],
          [
           "pain"
          ],
          [
           "pain"
          ],
          [
           "pain"
          ],
          [
           "shortness of breath"
          ],
          [
           "shortness of breath"
          ],
          [
           "pain"
          ],
          [
           "pain"
          ],
          [
           "shortness of breath"
          ],
          [
           "fever"
          ],
          [
           "fever"
          ],
          [
           "pain"
          ],
          [
           "pain"
          ],
          [
           "pain"
          ],
          [
           "pain"
          ],
          [
           "shortness of breath"
          ],
          [
           "shortness of breath"
          ],
          [
           "shortness of breath"
          ],
          [
           "shortness of breath"
          ],
          [
           "shortness of breath"
          ],
          [
           "pain"
          ],
          [
           "shortness of breath"
          ],
          [
           "pain"
          ],
          [
           "shortness of breath"
          ],
          [
           "shortness of breath"
          ],
          [
           "pain"
          ],
          [
           "shortness of breath"
          ],
          [
           "pain"
          ],
          [
           "fever"
          ],
          [
           "pain"
          ],
          [
           "pain"
          ],
          [
           "pain"
          ],
          [
           "pain"
          ],
          [
           "fever"
          ],
          [
           "pain"
          ],
          [
           "shortness of breath"
          ],
          [
           "fever"
          ],
          [
           "shortness of breath"
          ],
          [
           "shortness of breath"
          ],
          [
           "pain"
          ],
          [
           "shortness of breath"
          ],
          [
           "fever"
          ],
          [
           "pain"
          ],
          [
           "shortness of breath"
          ],
          [
           "shortness of breath"
          ],
          [
           "fever"
          ],
          [
           "shortness of breath"
          ],
          [
           "shortness of breath"
          ],
          [
           "shortness of breath"
          ],
          [
           "shortness of breath"
          ],
          [
           "shortness of breath"
          ],
          [
           "fever"
          ],
          [
           "pain"
          ],
          [
           "shortness of breath"
          ],
          [
           "pain"
          ],
          [
           "pain"
          ],
          [
           "pain"
          ],
          [
           "shortness of breath"
          ],
          [
           "shortness of breath"
          ],
          [
           "fever"
          ],
          [
           "shortness of breath"
          ],
          [
           "fever"
          ],
          [
           "pain"
          ],
          [
           "fever"
          ],
          [
           "fever"
          ],
          [
           "shortness of breath"
          ],
          [
           "fever"
          ],
          [
           "pain"
          ],
          [
           "shortness of breath"
          ],
          [
           "pain"
          ],
          [
           "shortness of breath"
          ],
          [
           "fever"
          ],
          [
           "pain"
          ],
          [
           "shortness of breath"
          ]
         ],
         "domain": {
          "x": [
           0,
           1
          ],
          "y": [
           0,
           1
          ]
         },
         "hovertemplate": "labels=%{label}<br>size=%{value}<br>parent=%{parent}<br>id=%{id}<br>root=%{customdata[0]}<extra></extra>",
         "ids": [
          "shortness of breath/haemoptysis/welt",
          "fever/indifferent mood/rapid shallow breathing",
          "shortness of breath/labored breathing/rapid shallow breathing",
          "pain/colic abdominal/red blotches",
          "pain/dullness/red blotches",
          "pain/monoclonal/red blotches",
          "shortness of breath/sinus rhythm/red blotches",
          "pain/redness/scratch marks",
          "fever/green sputum/sneeze",
          "shortness of breath/green sputum/sneeze",
          "pain/cardiomegaly/sputum purulent",
          "shortness of breath/cardiomegaly/sputum purulent",
          "shortness of breath/chest tightness/st segment elevation",
          "shortness of breath/hypokinesia/st segment elevation",
          "shortness of breath/orthopnea/st segment elevation",
          "shortness of breath/indifferent mood/rapid shallow breathing",
          "pain/fremitus/stinging sensation",
          "shortness of breath/palpitation/st segment elevation",
          "shortness of breath/indifferent mood/urinoma",
          "fever/indifferent mood/urinoma",
          "fever/sensory discomfort/unwell",
          "fever/frail/tremor resting",
          "fever/scratch marks/transsexual",
          "fever/difficulty passing urine/welt",
          "pain/nausea and vomiting/transsexual",
          "shortness of breath/haemoptysis/tinnitus",
          "fever/difficulty passing urine/tinnitus",
          "shortness of breath/palpitation/throbbing sensation quality",
          "fever/pruritus/transsexual",
          "pain/heartburn/throbbing sensation quality",
          "shortness of breath/chest tightness/throbbing sensation quality",
          "pain/cardiomegaly/pain in lower limb",
          "shortness of breath/labored breathing/noisy respiration",
          "shortness of breath/indifferent mood/noisy respiration",
          "fever/indifferent mood/noisy respiration",
          "pain/emphysematous change/noisy respiration",
          "shortness of breath/cardiomegaly/pain in lower limb",
          "shortness of breath/hypoxemia/no known drug allergies",
          "pain/fremitus/no known drug allergies",
          "shortness of breath/green sputum/nasal flaring",
          "fever/green sputum/nasal flaring",
          "fever/frail/noisy respiration",
          "shortness of breath/hoard/panic",
          "fever/frail/pin-point pupils",
          "shortness of breath/cardiomegaly/pericardial friction rub",
          "shortness of breath/palpitation/photopsia",
          "shortness of breath/angina pectoris/presence of q wave",
          "pain/numbness of hand/prodrome",
          "shortness of breath/abortion/proteinemia",
          "fever/previous pregnancies 2/proteinemia",
          "shortness of breath/previous pregnancies 2/proteinemia",
          "pain/systolic murmur/r wave feature",
          "shortness of breath/systolic murmur/r wave feature",
          "pain/emphysematous change/rapid shallow breathing",
          "fever/frail/rapid shallow breathing",
          "shortness of breath/labored breathing/nasal discharge present",
          "pain/cardiomegaly/pericardial friction rub",
          "shortness of breath/intermenstrual heavy bleeding/proteinemia",
          "shortness of breath/indifferent mood/nasal discharge present",
          "fever/frail/nasal discharge present",
          "fever/indifferent mood/nasal discharge present",
          "fever/sensory discomfort/history of - blackout",
          "fever/hyperacusis/hypesthesia",
          "fever/pruritus/hypesthesia",
          "fever/scratch marks/hypesthesia",
          "fever/lethargy/hypometabolism",
          "pain/hyperacusis/hypesthesia",
          "pain/arthralgia/macule",
          "fever/pruritus/macule",
          "fever/scratch marks/macule",
          "pain/erythema/mass in breast",
          "fever/spontaneous rupture of membranes/muscle hypotonia",
          "pain/emphysematous change/nasal discharge present",
          "fever/spontaneous rupture of membranes/hypotonic",
          "fever/frail/barking cough",
          "pain/decreased stool caliber/bowel sounds decreased",
          "pain/tenesmus/behavior showing increased motor activity",
          "pain/arthralgia/behavior showing increased motor activity",
          "shortness of breath/labored breathing/barking cough",
          "shortness of breath/indifferent mood/barking cough",
          "fever/indifferent mood/barking cough",
          "pain/emphysematous change/barking cough",
          "pain/fremitus/abnormal sensation",
          "pain/flatulence/air fluid level",
          "shortness of breath/lung nodule/ache",
          "pain/lung nodule/ache",
          "shortness of breath/haemoptysis/ache",
          "shortness of breath/debilitation/ache",
          "pain/nausea and vomiting/bowel sounds decreased",
          "pain/flatulence/abdomen acute",
          "pain/colic abdominal/Murphy's sign",
          "shortness of breath/sinus rhythm/Heberden's node",
          "shortness of breath/left atrial hypertrophy/alcohol binge episode",
          "fever/spontaneous rupture of membranes/breech presentation",
          "pain/tenesmus/coordination abnormal",
          "pain/redness/bruit",
          "shortness of breath/breath sounds decreased/hemianopsia homonymous",
          "pain/fremitus/hematochezia",
          "pain/decreased stool caliber/hematochezia",
          "pain/emphysematous change/gravida 10",
          "pain/dullness/gravida 10",
          "pain/colic abdominal/gasping for breath",
          "pain/fremitus/focal seizures",
          "shortness of breath/yellow sputum/floppy",
          "shortness of breath/hypoxemia/feels hot/feverish",
          "pain/colic abdominal/feces in rectum",
          "pain/erythema/estrogen use",
          "shortness of breath/yellow sputum/dyspareunia",
          "fever/frail/drool",
          "fever/spontaneous rupture of membranes/cyanosis",
          "pain/arthralgia/coordination abnormal",
          "pain/tenesmus/choke",
          "pain/arthralgia/choke",
          "pain/flatulence/catching breath",
          "shortness of breath/sinus rhythm/bruit",
          "shortness of breath/general unsteadiness/bruit",
          "shortness of breath/jugular venous distention/Heberden's node",
          "shortness of breath/abortion",
          "shortness of breath/angina pectoris",
          "pain/arthralgia",
          "shortness of breath/breath sounds decreased",
          "pain/cardiomegaly",
          "shortness of breath/cardiomegaly",
          "shortness of breath/chest tightness",
          "pain/colic abdominal",
          "shortness of breath/debilitation",
          "pain/decreased stool caliber",
          "fever/difficulty passing urine",
          "pain/dullness",
          "pain/emphysematous change",
          "pain/erythema",
          "pain/flatulence",
          "fever/frail",
          "pain/fremitus",
          "shortness of breath/general unsteadiness",
          "fever/green sputum",
          "shortness of breath/green sputum",
          "shortness of breath/haemoptysis",
          "pain/heartburn",
          "shortness of breath/hoard",
          "fever/hyperacusis",
          "pain/hyperacusis",
          "shortness of breath/hypokinesia",
          "shortness of breath/hypoxemia",
          "fever/indifferent mood",
          "shortness of breath/indifferent mood",
          "shortness of breath/intermenstrual heavy bleeding",
          "shortness of breath/jugular venous distention",
          "shortness of breath/labored breathing",
          "shortness of breath/left atrial hypertrophy",
          "fever/lethargy",
          "pain/lung nodule",
          "shortness of breath/lung nodule",
          "pain/monoclonal",
          "pain/nausea and vomiting",
          "pain/numbness of hand",
          "shortness of breath/orthopnea",
          "shortness of breath/palpitation",
          "fever/previous pregnancies 2",
          "shortness of breath/previous pregnancies 2",
          "fever/pruritus",
          "pain/redness",
          "fever/scratch marks",
          "fever/sensory discomfort",
          "shortness of breath/sinus rhythm",
          "fever/spontaneous rupture of membranes",
          "pain/systolic murmur",
          "shortness of breath/systolic murmur",
          "pain/tenesmus",
          "shortness of breath/yellow sputum",
          "fever",
          "pain",
          "shortness of breath"
         ],
         "labels": [
          "welt",
          "rapid shallow breathing",
          "rapid shallow breathing",
          "red blotches",
          "red blotches",
          "red blotches",
          "red blotches",
          "scratch marks",
          "sneeze",
          "sneeze",
          "sputum purulent",
          "sputum purulent",
          "st segment elevation",
          "st segment elevation",
          "st segment elevation",
          "rapid shallow breathing",
          "stinging sensation",
          "st segment elevation",
          "urinoma",
          "urinoma",
          "unwell",
          "tremor resting",
          "transsexual",
          "welt",
          "transsexual",
          "tinnitus",
          "tinnitus",
          "throbbing sensation quality",
          "transsexual",
          "throbbing sensation quality",
          "throbbing sensation quality",
          "pain in lower limb",
          "noisy respiration",
          "noisy respiration",
          "noisy respiration",
          "noisy respiration",
          "pain in lower limb",
          "no known drug allergies",
          "no known drug allergies",
          "nasal flaring",
          "nasal flaring",
          "noisy respiration",
          "panic",
          "pin-point pupils",
          "pericardial friction rub",
          "photopsia",
          "presence of q wave",
          "prodrome",
          "proteinemia",
          "proteinemia",
          "proteinemia",
          "r wave feature",
          "r wave feature",
          "rapid shallow breathing",
          "rapid shallow breathing",
          "nasal discharge present",
          "pericardial friction rub",
          "proteinemia",
          "nasal discharge present",
          "nasal discharge present",
          "nasal discharge present",
          "history of - blackout",
          "hypesthesia",
          "hypesthesia",
          "hypesthesia",
          "hypometabolism",
          "hypesthesia",
          "macule",
          "macule",
          "macule",
          "mass in breast",
          "muscle hypotonia",
          "nasal discharge present",
          "hypotonic",
          "barking cough",
          "bowel sounds decreased",
          "behavior showing increased motor activity",
          "behavior showing increased motor activity",
          "barking cough",
          "barking cough",
          "barking cough",
          "barking cough",
          "abnormal sensation",
          "air fluid level",
          "ache",
          "ache",
          "ache",
          "ache",
          "bowel sounds decreased",
          "abdomen acute",
          "Murphy's sign",
          "Heberden's node",
          "alcohol binge episode",
          "breech presentation",
          "coordination abnormal",
          "bruit",
          "hemianopsia homonymous",
          "hematochezia",
          "hematochezia",
          "gravida 10",
          "gravida 10",
          "gasping for breath",
          "focal seizures",
          "floppy",
          "feels hot/feverish",
          "feces in rectum",
          "estrogen use",
          "dyspareunia",
          "drool",
          "cyanosis",
          "coordination abnormal",
          "choke",
          "choke",
          "catching breath",
          "bruit",
          "bruit",
          "Heberden's node",
          "abortion",
          "angina pectoris",
          "arthralgia",
          "breath sounds decreased",
          "cardiomegaly",
          "cardiomegaly",
          "chest tightness",
          "colic abdominal",
          "debilitation",
          "decreased stool caliber",
          "difficulty passing urine",
          "dullness",
          "emphysematous change",
          "erythema",
          "flatulence",
          "frail",
          "fremitus",
          "general unsteadiness",
          "green sputum",
          "green sputum",
          "haemoptysis",
          "heartburn",
          "hoard",
          "hyperacusis",
          "hyperacusis",
          "hypokinesia",
          "hypoxemia",
          "indifferent mood",
          "indifferent mood",
          "intermenstrual heavy bleeding",
          "jugular venous distention",
          "labored breathing",
          "left atrial hypertrophy",
          "lethargy",
          "lung nodule",
          "lung nodule",
          "monoclonal",
          "nausea and vomiting",
          "numbness of hand",
          "orthopnea",
          "palpitation",
          "previous pregnancies 2",
          "previous pregnancies 2",
          "pruritus",
          "redness",
          "scratch marks",
          "sensory discomfort",
          "sinus rhythm",
          "spontaneous rupture of membranes",
          "systolic murmur",
          "systolic murmur",
          "tenesmus",
          "yellow sputum",
          "fever",
          "pain",
          "shortness of breath"
         ],
         "marker": {
          "colors": [
           "#636efa",
           "#EF553B",
           "#636efa",
           "#00cc96",
           "#00cc96",
           "#00cc96",
           "#636efa",
           "#00cc96",
           "#EF553B",
           "#636efa",
           "#00cc96",
           "#636efa",
           "#636efa",
           "#636efa",
           "#636efa",
           "#636efa",
           "#00cc96",
           "#636efa",
           "#636efa",
           "#EF553B",
           "#EF553B",
           "#EF553B",
           "#EF553B",
           "#EF553B",
           "#00cc96",
           "#636efa",
           "#EF553B",
           "#636efa",
           "#EF553B",
           "#00cc96",
           "#636efa",
           "#00cc96",
           "#636efa",
           "#636efa",
           "#EF553B",
           "#00cc96",
           "#636efa",
           "#636efa",
           "#00cc96",
           "#636efa",
           "#EF553B",
           "#EF553B",
           "#636efa",
           "#EF553B",
           "#636efa",
           "#636efa",
           "#636efa",
           "#00cc96",
           "#636efa",
           "#EF553B",
           "#636efa",
           "#00cc96",
           "#636efa",
           "#00cc96",
           "#EF553B",
           "#636efa",
           "#00cc96",
           "#636efa",
           "#636efa",
           "#EF553B",
           "#EF553B",
           "#EF553B",
           "#EF553B",
           "#EF553B",
           "#EF553B",
           "#EF553B",
           "#00cc96",
           "#00cc96",
           "#EF553B",
           "#EF553B",
           "#00cc96",
           "#EF553B",
           "#00cc96",
           "#EF553B",
           "#EF553B",
           "#00cc96",
           "#00cc96",
           "#00cc96",
           "#636efa",
           "#636efa",
           "#EF553B",
           "#00cc96",
           "#00cc96",
           "#00cc96",
           "#636efa",
           "#00cc96",
           "#636efa",
           "#636efa",
           "#00cc96",
           "#00cc96",
           "#00cc96",
           "#636efa",
           "#636efa",
           "#EF553B",
           "#00cc96",
           "#00cc96",
           "#636efa",
           "#00cc96",
           "#00cc96",
           "#00cc96",
           "#00cc96",
           "#00cc96",
           "#00cc96",
           "#636efa",
           "#636efa",
           "#00cc96",
           "#00cc96",
           "#636efa",
           "#EF553B",
           "#EF553B",
           "#00cc96",
           "#00cc96",
           "#00cc96",
           "#00cc96",
           "#636efa",
           "#636efa",
           "#636efa",
           "#636efa",
           "#636efa",
           "#00cc96",
           "#636efa",
           "#00cc96",
           "#636efa",
           "#636efa",
           "#00cc96",
           "#636efa",
           "#00cc96",
           "#EF553B",
           "#00cc96",
           "#00cc96",
           "#00cc96",
           "#00cc96",
           "#EF553B",
           "#00cc96",
           "#636efa",
           "#EF553B",
           "#636efa",
           "#636efa",
           "#00cc96",
           "#636efa",
           "#EF553B",
           "#00cc96",
           "#636efa",
           "#636efa",
           "#EF553B",
           "#636efa",
           "#636efa",
           "#636efa",
           "#636efa",
           "#636efa",
           "#EF553B",
           "#00cc96",
           "#636efa",
           "#00cc96",
           "#00cc96",
           "#00cc96",
           "#636efa",
           "#636efa",
           "#EF553B",
           "#636efa",
           "#EF553B",
           "#00cc96",
           "#EF553B",
           "#EF553B",
           "#636efa",
           "#EF553B",
           "#00cc96",
           "#636efa",
           "#00cc96",
           "#636efa",
           "#EF553B",
           "#00cc96",
           "#636efa"
          ]
         },
         "name": "",
         "parents": [
          "shortness of breath/haemoptysis",
          "fever/indifferent mood",
          "shortness of breath/labored breathing",
          "pain/colic abdominal",
          "pain/dullness",
          "pain/monoclonal",
          "shortness of breath/sinus rhythm",
          "pain/redness",
          "fever/green sputum",
          "shortness of breath/green sputum",
          "pain/cardiomegaly",
          "shortness of breath/cardiomegaly",
          "shortness of breath/chest tightness",
          "shortness of breath/hypokinesia",
          "shortness of breath/orthopnea",
          "shortness of breath/indifferent mood",
          "pain/fremitus",
          "shortness of breath/palpitation",
          "shortness of breath/indifferent mood",
          "fever/indifferent mood",
          "fever/sensory discomfort",
          "fever/frail",
          "fever/scratch marks",
          "fever/difficulty passing urine",
          "pain/nausea and vomiting",
          "shortness of breath/haemoptysis",
          "fever/difficulty passing urine",
          "shortness of breath/palpitation",
          "fever/pruritus",
          "pain/heartburn",
          "shortness of breath/chest tightness",
          "pain/cardiomegaly",
          "shortness of breath/labored breathing",
          "shortness of breath/indifferent mood",
          "fever/indifferent mood",
          "pain/emphysematous change",
          "shortness of breath/cardiomegaly",
          "shortness of breath/hypoxemia",
          "pain/fremitus",
          "shortness of breath/green sputum",
          "fever/green sputum",
          "fever/frail",
          "shortness of breath/hoard",
          "fever/frail",
          "shortness of breath/cardiomegaly",
          "shortness of breath/palpitation",
          "shortness of breath/angina pectoris",
          "pain/numbness of hand",
          "shortness of breath/abortion",
          "fever/previous pregnancies 2",
          "shortness of breath/previous pregnancies 2",
          "pain/systolic murmur",
          "shortness of breath/systolic murmur",
          "pain/emphysematous change",
          "fever/frail",
          "shortness of breath/labored breathing",
          "pain/cardiomegaly",
          "shortness of breath/intermenstrual heavy bleeding",
          "shortness of breath/indifferent mood",
          "fever/frail",
          "fever/indifferent mood",
          "fever/sensory discomfort",
          "fever/hyperacusis",
          "fever/pruritus",
          "fever/scratch marks",
          "fever/lethargy",
          "pain/hyperacusis",
          "pain/arthralgia",
          "fever/pruritus",
          "fever/scratch marks",
          "pain/erythema",
          "fever/spontaneous rupture of membranes",
          "pain/emphysematous change",
          "fever/spontaneous rupture of membranes",
          "fever/frail",
          "pain/decreased stool caliber",
          "pain/tenesmus",
          "pain/arthralgia",
          "shortness of breath/labored breathing",
          "shortness of breath/indifferent mood",
          "fever/indifferent mood",
          "pain/emphysematous change",
          "pain/fremitus",
          "pain/flatulence",
          "shortness of breath/lung nodule",
          "pain/lung nodule",
          "shortness of breath/haemoptysis",
          "shortness of breath/debilitation",
          "pain/nausea and vomiting",
          "pain/flatulence",
          "pain/colic abdominal",
          "shortness of breath/sinus rhythm",
          "shortness of breath/left atrial hypertrophy",
          "fever/spontaneous rupture of membranes",
          "pain/tenesmus",
          "pain/redness",
          "shortness of breath/breath sounds decreased",
          "pain/fremitus",
          "pain/decreased stool caliber",
          "pain/emphysematous change",
          "pain/dullness",
          "pain/colic abdominal",
          "pain/fremitus",
          "shortness of breath/yellow sputum",
          "shortness of breath/hypoxemia",
          "pain/colic abdominal",
          "pain/erythema",
          "shortness of breath/yellow sputum",
          "fever/frail",
          "fever/spontaneous rupture of membranes",
          "pain/arthralgia",
          "pain/tenesmus",
          "pain/arthralgia",
          "pain/flatulence",
          "shortness of breath/sinus rhythm",
          "shortness of breath/general unsteadiness",
          "shortness of breath/jugular venous distention",
          "shortness of breath",
          "shortness of breath",
          "pain",
          "shortness of breath",
          "pain",
          "shortness of breath",
          "shortness of breath",
          "pain",
          "shortness of breath",
          "pain",
          "fever",
          "pain",
          "pain",
          "pain",
          "pain",
          "fever",
          "pain",
          "shortness of breath",
          "fever",
          "shortness of breath",
          "shortness of breath",
          "pain",
          "shortness of breath",
          "fever",
          "pain",
          "shortness of breath",
          "shortness of breath",
          "fever",
          "shortness of breath",
          "shortness of breath",
          "shortness of breath",
          "shortness of breath",
          "shortness of breath",
          "fever",
          "pain",
          "shortness of breath",
          "pain",
          "pain",
          "pain",
          "shortness of breath",
          "shortness of breath",
          "fever",
          "shortness of breath",
          "fever",
          "pain",
          "fever",
          "fever",
          "shortness of breath",
          "fever",
          "pain",
          "shortness of breath",
          "pain",
          "shortness of breath",
          "",
          "",
          ""
         ],
         "type": "sunburst",
         "values": [
          1,
          1,
          1,
          1,
          1,
          1,
          1,
          4,
          1,
          1,
          1,
          1,
          1,
          1,
          1,
          1,
          1,
          1,
          1,
          1,
          1,
          1,
          1,
          1,
          1,
          1,
          1,
          1,
          1,
          1,
          1,
          1,
          1,
          1,
          1,
          1,
          1,
          1,
          1,
          1,
          1,
          1,
          1,
          1,
          1,
          1,
          3,
          1,
          1,
          1,
          1,
          2,
          2,
          1,
          1,
          1,
          1,
          1,
          1,
          1,
          1,
          1,
          1,
          1,
          1,
          1,
          1,
          1,
          1,
          1,
          1,
          1,
          1,
          1,
          1,
          1,
          1,
          1,
          1,
          1,
          1,
          1,
          1,
          1,
          1,
          1,
          1,
          1,
          1,
          1,
          1,
          1,
          1,
          1,
          1,
          1,
          4,
          1,
          1,
          1,
          1,
          1,
          1,
          1,
          1,
          1,
          1,
          1,
          1,
          1,
          1,
          1,
          1,
          1,
          1,
          1,
          1,
          1,
          3,
          4,
          4,
          3,
          3,
          2,
          4,
          1,
          2,
          2,
          2,
          5,
          2,
          3,
          7,
          5,
          1,
          2,
          2,
          3,
          1,
          1,
          1,
          1,
          1,
          2,
          5,
          5,
          1,
          1,
          4,
          1,
          1,
          1,
          1,
          1,
          2,
          1,
          1,
          3,
          1,
          1,
          3,
          5,
          3,
          2,
          3,
          4,
          2,
          2,
          3,
          2,
          31,
          47,
          49
         ]
        }
       ],
       "layout": {
        "font": {
         "size": 10
        },
        "legend": {
         "tracegroupgap": 0
        },
        "margin": {
         "t": 60
        },
        "template": {
         "data": {
          "bar": [
           {
            "error_x": {
             "color": "#2a3f5f"
            },
            "error_y": {
             "color": "#2a3f5f"
            },
            "marker": {
             "line": {
              "color": "#E5ECF6",
              "width": 0.5
             }
            },
            "type": "bar"
           }
          ],
          "barpolar": [
           {
            "marker": {
             "line": {
              "color": "#E5ECF6",
              "width": 0.5
             }
            },
            "type": "barpolar"
           }
          ],
          "carpet": [
           {
            "aaxis": {
             "endlinecolor": "#2a3f5f",
             "gridcolor": "white",
             "linecolor": "white",
             "minorgridcolor": "white",
             "startlinecolor": "#2a3f5f"
            },
            "baxis": {
             "endlinecolor": "#2a3f5f",
             "gridcolor": "white",
             "linecolor": "white",
             "minorgridcolor": "white",
             "startlinecolor": "#2a3f5f"
            },
            "type": "carpet"
           }
          ],
          "choropleth": [
           {
            "colorbar": {
             "outlinewidth": 0,
             "ticks": ""
            },
            "type": "choropleth"
           }
          ],
          "contour": [
           {
            "colorbar": {
             "outlinewidth": 0,
             "ticks": ""
            },
            "colorscale": [
             [
              0,
              "#0d0887"
             ],
             [
              0.1111111111111111,
              "#46039f"
             ],
             [
              0.2222222222222222,
              "#7201a8"
             ],
             [
              0.3333333333333333,
              "#9c179e"
             ],
             [
              0.4444444444444444,
              "#bd3786"
             ],
             [
              0.5555555555555556,
              "#d8576b"
             ],
             [
              0.6666666666666666,
              "#ed7953"
             ],
             [
              0.7777777777777778,
              "#fb9f3a"
             ],
             [
              0.8888888888888888,
              "#fdca26"
             ],
             [
              1,
              "#f0f921"
             ]
            ],
            "type": "contour"
           }
          ],
          "contourcarpet": [
           {
            "colorbar": {
             "outlinewidth": 0,
             "ticks": ""
            },
            "type": "contourcarpet"
           }
          ],
          "heatmap": [
           {
            "colorbar": {
             "outlinewidth": 0,
             "ticks": ""
            },
            "colorscale": [
             [
              0,
              "#0d0887"
             ],
             [
              0.1111111111111111,
              "#46039f"
             ],
             [
              0.2222222222222222,
              "#7201a8"
             ],
             [
              0.3333333333333333,
              "#9c179e"
             ],
             [
              0.4444444444444444,
              "#bd3786"
             ],
             [
              0.5555555555555556,
              "#d8576b"
             ],
             [
              0.6666666666666666,
              "#ed7953"
             ],
             [
              0.7777777777777778,
              "#fb9f3a"
             ],
             [
              0.8888888888888888,
              "#fdca26"
             ],
             [
              1,
              "#f0f921"
             ]
            ],
            "type": "heatmap"
           }
          ],
          "heatmapgl": [
           {
            "colorbar": {
             "outlinewidth": 0,
             "ticks": ""
            },
            "colorscale": [
             [
              0,
              "#0d0887"
             ],
             [
              0.1111111111111111,
              "#46039f"
             ],
             [
              0.2222222222222222,
              "#7201a8"
             ],
             [
              0.3333333333333333,
              "#9c179e"
             ],
             [
              0.4444444444444444,
              "#bd3786"
             ],
             [
              0.5555555555555556,
              "#d8576b"
             ],
             [
              0.6666666666666666,
              "#ed7953"
             ],
             [
              0.7777777777777778,
              "#fb9f3a"
             ],
             [
              0.8888888888888888,
              "#fdca26"
             ],
             [
              1,
              "#f0f921"
             ]
            ],
            "type": "heatmapgl"
           }
          ],
          "histogram": [
           {
            "marker": {
             "colorbar": {
              "outlinewidth": 0,
              "ticks": ""
             }
            },
            "type": "histogram"
           }
          ],
          "histogram2d": [
           {
            "colorbar": {
             "outlinewidth": 0,
             "ticks": ""
            },
            "colorscale": [
             [
              0,
              "#0d0887"
             ],
             [
              0.1111111111111111,
              "#46039f"
             ],
             [
              0.2222222222222222,
              "#7201a8"
             ],
             [
              0.3333333333333333,
              "#9c179e"
             ],
             [
              0.4444444444444444,
              "#bd3786"
             ],
             [
              0.5555555555555556,
              "#d8576b"
             ],
             [
              0.6666666666666666,
              "#ed7953"
             ],
             [
              0.7777777777777778,
              "#fb9f3a"
             ],
             [
              0.8888888888888888,
              "#fdca26"
             ],
             [
              1,
              "#f0f921"
             ]
            ],
            "type": "histogram2d"
           }
          ],
          "histogram2dcontour": [
           {
            "colorbar": {
             "outlinewidth": 0,
             "ticks": ""
            },
            "colorscale": [
             [
              0,
              "#0d0887"
             ],
             [
              0.1111111111111111,
              "#46039f"
             ],
             [
              0.2222222222222222,
              "#7201a8"
             ],
             [
              0.3333333333333333,
              "#9c179e"
             ],
             [
              0.4444444444444444,
              "#bd3786"
             ],
             [
              0.5555555555555556,
              "#d8576b"
             ],
             [
              0.6666666666666666,
              "#ed7953"
             ],
             [
              0.7777777777777778,
              "#fb9f3a"
             ],
             [
              0.8888888888888888,
              "#fdca26"
             ],
             [
              1,
              "#f0f921"
             ]
            ],
            "type": "histogram2dcontour"
           }
          ],
          "mesh3d": [
           {
            "colorbar": {
             "outlinewidth": 0,
             "ticks": ""
            },
            "type": "mesh3d"
           }
          ],
          "parcoords": [
           {
            "line": {
             "colorbar": {
              "outlinewidth": 0,
              "ticks": ""
             }
            },
            "type": "parcoords"
           }
          ],
          "pie": [
           {
            "automargin": true,
            "type": "pie"
           }
          ],
          "scatter": [
           {
            "marker": {
             "colorbar": {
              "outlinewidth": 0,
              "ticks": ""
             }
            },
            "type": "scatter"
           }
          ],
          "scatter3d": [
           {
            "line": {
             "colorbar": {
              "outlinewidth": 0,
              "ticks": ""
             }
            },
            "marker": {
             "colorbar": {
              "outlinewidth": 0,
              "ticks": ""
             }
            },
            "type": "scatter3d"
           }
          ],
          "scattercarpet": [
           {
            "marker": {
             "colorbar": {
              "outlinewidth": 0,
              "ticks": ""
             }
            },
            "type": "scattercarpet"
           }
          ],
          "scattergeo": [
           {
            "marker": {
             "colorbar": {
              "outlinewidth": 0,
              "ticks": ""
             }
            },
            "type": "scattergeo"
           }
          ],
          "scattergl": [
           {
            "marker": {
             "colorbar": {
              "outlinewidth": 0,
              "ticks": ""
             }
            },
            "type": "scattergl"
           }
          ],
          "scattermapbox": [
           {
            "marker": {
             "colorbar": {
              "outlinewidth": 0,
              "ticks": ""
             }
            },
            "type": "scattermapbox"
           }
          ],
          "scatterpolar": [
           {
            "marker": {
             "colorbar": {
              "outlinewidth": 0,
              "ticks": ""
             }
            },
            "type": "scatterpolar"
           }
          ],
          "scatterpolargl": [
           {
            "marker": {
             "colorbar": {
              "outlinewidth": 0,
              "ticks": ""
             }
            },
            "type": "scatterpolargl"
           }
          ],
          "scatterternary": [
           {
            "marker": {
             "colorbar": {
              "outlinewidth": 0,
              "ticks": ""
             }
            },
            "type": "scatterternary"
           }
          ],
          "surface": [
           {
            "colorbar": {
             "outlinewidth": 0,
             "ticks": ""
            },
            "colorscale": [
             [
              0,
              "#0d0887"
             ],
             [
              0.1111111111111111,
              "#46039f"
             ],
             [
              0.2222222222222222,
              "#7201a8"
             ],
             [
              0.3333333333333333,
              "#9c179e"
             ],
             [
              0.4444444444444444,
              "#bd3786"
             ],
             [
              0.5555555555555556,
              "#d8576b"
             ],
             [
              0.6666666666666666,
              "#ed7953"
             ],
             [
              0.7777777777777778,
              "#fb9f3a"
             ],
             [
              0.8888888888888888,
              "#fdca26"
             ],
             [
              1,
              "#f0f921"
             ]
            ],
            "type": "surface"
           }
          ],
          "table": [
           {
            "cells": {
             "fill": {
              "color": "#EBF0F8"
             },
             "line": {
              "color": "white"
             }
            },
            "header": {
             "fill": {
              "color": "#C8D4E3"
             },
             "line": {
              "color": "white"
             }
            },
            "type": "table"
           }
          ]
         },
         "layout": {
          "annotationdefaults": {
           "arrowcolor": "#2a3f5f",
           "arrowhead": 0,
           "arrowwidth": 1
          },
          "autotypenumbers": "strict",
          "coloraxis": {
           "colorbar": {
            "outlinewidth": 0,
            "ticks": ""
           }
          },
          "colorscale": {
           "diverging": [
            [
             0,
             "#8e0152"
            ],
            [
             0.1,
             "#c51b7d"
            ],
            [
             0.2,
             "#de77ae"
            ],
            [
             0.3,
             "#f1b6da"
            ],
            [
             0.4,
             "#fde0ef"
            ],
            [
             0.5,
             "#f7f7f7"
            ],
            [
             0.6,
             "#e6f5d0"
            ],
            [
             0.7,
             "#b8e186"
            ],
            [
             0.8,
             "#7fbc41"
            ],
            [
             0.9,
             "#4d9221"
            ],
            [
             1,
             "#276419"
            ]
           ],
           "sequential": [
            [
             0,
             "#0d0887"
            ],
            [
             0.1111111111111111,
             "#46039f"
            ],
            [
             0.2222222222222222,
             "#7201a8"
            ],
            [
             0.3333333333333333,
             "#9c179e"
            ],
            [
             0.4444444444444444,
             "#bd3786"
            ],
            [
             0.5555555555555556,
             "#d8576b"
            ],
            [
             0.6666666666666666,
             "#ed7953"
            ],
            [
             0.7777777777777778,
             "#fb9f3a"
            ],
            [
             0.8888888888888888,
             "#fdca26"
            ],
            [
             1,
             "#f0f921"
            ]
           ],
           "sequentialminus": [
            [
             0,
             "#0d0887"
            ],
            [
             0.1111111111111111,
             "#46039f"
            ],
            [
             0.2222222222222222,
             "#7201a8"
            ],
            [
             0.3333333333333333,
             "#9c179e"
            ],
            [
             0.4444444444444444,
             "#bd3786"
            ],
            [
             0.5555555555555556,
             "#d8576b"
            ],
            [
             0.6666666666666666,
             "#ed7953"
            ],
            [
             0.7777777777777778,
             "#fb9f3a"
            ],
            [
             0.8888888888888888,
             "#fdca26"
            ],
            [
             1,
             "#f0f921"
            ]
           ]
          },
          "colorway": [
           "#636efa",
           "#EF553B",
           "#00cc96",
           "#ab63fa",
           "#FFA15A",
           "#19d3f3",
           "#FF6692",
           "#B6E880",
           "#FF97FF",
           "#FECB52"
          ],
          "font": {
           "color": "#2a3f5f"
          },
          "geo": {
           "bgcolor": "white",
           "lakecolor": "white",
           "landcolor": "#E5ECF6",
           "showlakes": true,
           "showland": true,
           "subunitcolor": "white"
          },
          "hoverlabel": {
           "align": "left"
          },
          "hovermode": "closest",
          "mapbox": {
           "style": "light"
          },
          "paper_bgcolor": "white",
          "plot_bgcolor": "#E5ECF6",
          "polar": {
           "angularaxis": {
            "gridcolor": "white",
            "linecolor": "white",
            "ticks": ""
           },
           "bgcolor": "#E5ECF6",
           "radialaxis": {
            "gridcolor": "white",
            "linecolor": "white",
            "ticks": ""
           }
          },
          "scene": {
           "xaxis": {
            "backgroundcolor": "#E5ECF6",
            "gridcolor": "white",
            "gridwidth": 2,
            "linecolor": "white",
            "showbackground": true,
            "ticks": "",
            "zerolinecolor": "white"
           },
           "yaxis": {
            "backgroundcolor": "#E5ECF6",
            "gridcolor": "white",
            "gridwidth": 2,
            "linecolor": "white",
            "showbackground": true,
            "ticks": "",
            "zerolinecolor": "white"
           },
           "zaxis": {
            "backgroundcolor": "#E5ECF6",
            "gridcolor": "white",
            "gridwidth": 2,
            "linecolor": "white",
            "showbackground": true,
            "ticks": "",
            "zerolinecolor": "white"
           }
          },
          "shapedefaults": {
           "line": {
            "color": "#2a3f5f"
           }
          },
          "ternary": {
           "aaxis": {
            "gridcolor": "white",
            "linecolor": "white",
            "ticks": ""
           },
           "baxis": {
            "gridcolor": "white",
            "linecolor": "white",
            "ticks": ""
           },
           "bgcolor": "#E5ECF6",
           "caxis": {
            "gridcolor": "white",
            "linecolor": "white",
            "ticks": ""
           }
          },
          "title": {
           "x": 0.05
          },
          "xaxis": {
           "automargin": true,
           "gridcolor": "white",
           "linecolor": "white",
           "ticks": "",
           "title": {
            "standoff": 15
           },
           "zerolinecolor": "white",
           "zerolinewidth": 2
          },
          "yaxis": {
           "automargin": true,
           "gridcolor": "white",
           "linecolor": "white",
           "ticks": "",
           "title": {
            "standoff": 15
           },
           "zerolinecolor": "white",
           "zerolinewidth": 2
          }
         }
        },
        "title": {
         "text": "Symptoms Hierarchy"
        }
       }
      }
     },
     "metadata": {},
     "output_type": "display_data"
    }
   ],
   "source": [
    "fig = px.sunburst(df, path=['root', 'l1', 'l2'], values='size', color='root')\n",
    "fig.update_layout(title_text=\"Symptoms Hierarchy\", font_size=10)\n",
    "fig.show()"
   ]
  },
  {
   "cell_type": "markdown",
   "metadata": {},
   "source": [
    "## Important\n",
    "We got 100+ roots, but to me they look more useful. Then again it depends in the question you want to answer.\n",
    "\n",
    "We should of course have studied the tree strucuture to get familiar with our data before we even tried to formulate or answer any questions. "
   ]
  },
  {
   "cell_type": "markdown",
   "metadata": {},
   "source": [
    "# Let's pin our graph to the wall\n",
    "A graphs are non eucledian, let's transform into an eucledian space. Node embeddings to the rescue\n"
   ]
  },
  {
   "cell_type": "code",
   "execution_count": null,
   "metadata": {},
   "outputs": [],
   "source": [
    "# Cypher projection of Diseases sharing symptoms\n",
    "G4 = gds.graph.project.cypher('p4',\n",
    "    \"\"\" MATCH (n:Disease)<-[:SYMPTOM_OF]-(s:Symptom)\n",
    "        WHERE s.wccId = {wccId} \n",
    "        RETURN id(n) as id\"\"\".format(wccId=wccId),\n",
    "    \"\"\" MATCH (n1:Disease)<-[:SYMPTOM_OF]-(s:Symptom)-[:SYMPTOM_OF]->(n2:Disease)\n",
    "        WHERE s.wccId = {wccId} \n",
    "        RETURN id(n1) as source, id(n2) as target, count(*) as weight\"\"\".format(wccId=wccId)\n",
    ")\n",
    "\"Nodes: {node_count}, Relationships {relationship_count}\".format(node_count=G4.node_count(), relationship_count=G4.relationship_count())"
   ]
  },
  {
   "cell_type": "code",
   "execution_count": null,
   "metadata": {},
   "outputs": [],
   "source": [
    "gds.fastRP.write(G4, \n",
    "    embeddingDimension=2, \n",
    "    iterationWeights=[0.2, 1.0, 0.9, 0.7],\n",
    "    nodeSelfInfluence=0.1,\n",
    "    relationshipWeightProperty='weight', \n",
    "    writeProperty='embedding'\n",
    ")"
   ]
  },
  {
   "cell_type": "code",
   "execution_count": null,
   "metadata": {},
   "outputs": [],
   "source": [
    "with driver.session(database = DB_NAME) as session:\n",
    "    result = session.read_transaction( lambda tx: \n",
    "        tx.run(\n",
    "            \"\"\"\n",
    "            MATCH (d:Disease)\n",
    "            RETURN d.name as points, d.embedding[0] as x, d.embedding[1] as y\n",
    "            \"\"\"\n",
    "        ).data()\n",
    "    )\n",
    "    df = pd.DataFrame(result)\n",
    "df.head()"
   ]
  },
  {
   "cell_type": "code",
   "execution_count": null,
   "metadata": {},
   "outputs": [],
   "source": [
    "ax = df.plot.scatter(x='x', y='y', alpha=0.5, figsize=(10,10))\n",
    "for i, txt in enumerate(df.points):\n",
    "   ax.annotate(txt, (df.x.iat[i]+0.05, df.y.iat[i]))"
   ]
  },
  {
   "cell_type": "code",
   "execution_count": null,
   "metadata": {},
   "outputs": [],
   "source": [
    "G4.drop()"
   ]
  }
 ],
 "metadata": {
  "interpreter": {
   "hash": "fa400fa1c59917a64ff3ea5ee959182f074bbc1e9a041e09cb658d2479256db7"
  },
  "kernelspec": {
   "display_name": "Python 3.7.3 64-bit ('venv': venv)",
   "name": "python3"
  },
  "language_info": {
   "codemirror_mode": {
    "name": "ipython",
    "version": 3
   },
   "file_extension": ".py",
   "mimetype": "text/x-python",
   "name": "python",
   "nbconvert_exporter": "python",
   "pygments_lexer": "ipython3",
   "version": "3.9.10"
  }
 },
 "nbformat": 4,
 "nbformat_minor": 4
}
