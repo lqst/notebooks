{
 "cells": [
  {
   "cell_type": "markdown",
   "metadata": {
    "id": "ynPe6RLRWSKd"
   },
   "source": [
    "# Setup"
   ]
  },
  {
   "cell_type": "markdown",
   "metadata": {
    "id": "ShLXlNZ5kGvI"
   },
   "source": [
    "Install neo4j graphdatascience client ([Documentation](https://neo4j.com/docs/graph-data-science/current/))"
   ]
  },
  {
   "cell_type": "code",
   "execution_count": 6,
   "metadata": {
    "id": "BOfc_-mllcUE"
   },
   "outputs": [],
   "source": [
    "import os\n",
    "import pandas as pd\n",
    "from graphdatascience import GraphDataScience \n",
    "from graphdatascience.session import AuraAPICredentials, GdsSessions, DbmsConnectionInfo\n",
    "from datetime import timedelta"
   ]
  },
  {
   "cell_type": "code",
   "execution_count": 2,
   "metadata": {
    "id": "CHR_0lmElZ-R"
   },
   "outputs": [],
   "source": [
    "# How to create  Aura API Credentials: https://neo4j.com/docs/aura/classic/platform/api/authentication/#_creating_credentials\n",
    "tenant_id = os.getenv('AURA_API_TENANT_ID')\n",
    "client_id = os.getenv('AURA_API_CLIENT_ID')\n",
    "client_secret = os.getenv('AURA_API_CLIENT_SECRET')\n",
    "db_uri = os.getenv('AURA_DB_ADDRESS')\n",
    "db_user = os.getenv('AURA_DB_USER')\n",
    "db_pass = os.getenv('AURA_DB_PW')\n"
   ]
  },
  {
   "cell_type": "code",
   "execution_count": 4,
   "metadata": {
    "id": "e_a16vsQwyMH"
   },
   "outputs": [],
   "source": [
    "sessions = GdsSessions(api_credentials=AuraAPICredentials(client_id, client_secret, tenant_id=tenant_id))"
   ]
  },
  {
   "cell_type": "code",
   "execution_count": 14,
   "metadata": {},
   "outputs": [
    {
     "data": {
      "text/plain": [
       "[]"
      ]
     },
     "execution_count": 14,
     "metadata": {},
     "output_type": "execute_result"
    }
   ],
   "source": [
    "sessions.list()"
   ]
  },
  {
   "cell_type": "code",
   "execution_count": 7,
   "metadata": {},
   "outputs": [],
   "source": [
    "db_connection = DbmsConnectionInfo(\n",
    "    uri=db_uri, username=db_user, password=db_pass\n",
    ")"
   ]
  },
  {
   "cell_type": "code",
   "execution_count": 9,
   "metadata": {},
   "outputs": [
    {
     "data": {
      "text/plain": [
       "<SessionMemory.m_8GB: SessionMemoryValue(value='8GB')>"
      ]
     },
     "execution_count": 9,
     "metadata": {},
     "output_type": "execute_result"
    }
   ],
   "source": [
    "from graphdatascience.session import AlgorithmCategory, DbmsConnectionInfo\n",
    "memory = sessions.estimate(\n",
    "    node_count=20,\n",
    "    relationship_count=50,\n",
    "    algorithm_categories=[AlgorithmCategory.CENTRALITY, AlgorithmCategory.NODE_EMBEDDING],\n",
    ")\n",
    "memory"
   ]
  },
  {
   "cell_type": "code",
   "execution_count": 16,
   "metadata": {},
   "outputs": [
    {
     "ename": "KeyError",
     "evalue": "'type'",
     "output_type": "error",
     "traceback": [
      "\u001b[0;31m---------------------------------------------------------------------------\u001b[0m",
      "\u001b[0;31mKeyError\u001b[0m                                  Traceback (most recent call last)",
      "Cell \u001b[0;32mIn[16], line 1\u001b[0m\n\u001b[0;32m----> 1\u001b[0m gds \u001b[38;5;241m=\u001b[39m \u001b[43msessions\u001b[49m\u001b[38;5;241;43m.\u001b[39;49m\u001b[43mget_or_create\u001b[49m\u001b[43m(\u001b[49m\n\u001b[1;32m      2\u001b[0m \u001b[43m    \u001b[49m\u001b[43msession_name\u001b[49m\u001b[38;5;241;43m=\u001b[39;49m\u001b[38;5;124;43m\"\u001b[39;49m\u001b[38;5;124;43mmy-shop-demo\u001b[39;49m\u001b[38;5;124;43m\"\u001b[39;49m\u001b[43m,\u001b[49m\n\u001b[1;32m      3\u001b[0m \u001b[43m    \u001b[49m\u001b[43mmemory\u001b[49m\u001b[38;5;241;43m=\u001b[39;49m\u001b[43mmemory\u001b[49m\u001b[43m,\u001b[49m\n\u001b[1;32m      4\u001b[0m \u001b[43m    \u001b[49m\u001b[43mdb_connection\u001b[49m\u001b[38;5;241;43m=\u001b[39;49m\u001b[43mdb_connection\u001b[49m\u001b[43m,\u001b[49m\n\u001b[1;32m      5\u001b[0m \u001b[43m    \u001b[49m\u001b[43mttl\u001b[49m\u001b[38;5;241;43m=\u001b[39;49m\u001b[43mtimedelta\u001b[49m\u001b[43m(\u001b[49m\u001b[43mhours\u001b[49m\u001b[38;5;241;43m=\u001b[39;49m\u001b[38;5;241;43m5\u001b[39;49m\u001b[43m)\u001b[49m\n\u001b[1;32m      6\u001b[0m \u001b[43m)\u001b[49m\n",
      "File \u001b[0;32m/opt/homebrew/Caskroom/miniforge/base/envs/notebooks_new/lib/python3.11/site-packages/graphdatascience/session/gds_sessions.py:107\u001b[0m, in \u001b[0;36mGdsSessions.get_or_create\u001b[0;34m(self, session_name, memory, db_connection, ttl, cloud_location)\u001b[0m\n\u001b[1;32m     82\u001b[0m \u001b[38;5;28;01mdef\u001b[39;00m \u001b[38;5;21mget_or_create\u001b[39m(\n\u001b[1;32m     83\u001b[0m     \u001b[38;5;28mself\u001b[39m,\n\u001b[1;32m     84\u001b[0m     session_name: \u001b[38;5;28mstr\u001b[39m,\n\u001b[0;32m   (...)\u001b[0m\n\u001b[1;32m     88\u001b[0m     cloud_location: Optional[CloudLocation] \u001b[38;5;241m=\u001b[39m \u001b[38;5;28;01mNone\u001b[39;00m,\n\u001b[1;32m     89\u001b[0m ) \u001b[38;5;241m-\u001b[39m\u001b[38;5;241m>\u001b[39m AuraGraphDataScience:\n\u001b[1;32m     90\u001b[0m \u001b[38;5;250m    \u001b[39m\u001b[38;5;124;03m\"\"\"\u001b[39;00m\n\u001b[1;32m     91\u001b[0m \u001b[38;5;124;03m    Retrieves an existing session with the given session name and database connection,\u001b[39;00m\n\u001b[1;32m     92\u001b[0m \u001b[38;5;124;03m    or creates a new session if one does not exist.\u001b[39;00m\n\u001b[0;32m   (...)\u001b[0m\n\u001b[1;32m    105\u001b[0m \u001b[38;5;124;03m        AuraGraphDataScience: The session.\u001b[39;00m\n\u001b[1;32m    106\u001b[0m \u001b[38;5;124;03m    \"\"\"\u001b[39;00m\n\u001b[0;32m--> 107\u001b[0m     \u001b[38;5;28;01mreturn\u001b[39;00m \u001b[38;5;28;43mself\u001b[39;49m\u001b[38;5;241;43m.\u001b[39;49m\u001b[43m_impl\u001b[49m\u001b[38;5;241;43m.\u001b[39;49m\u001b[43mget_or_create\u001b[49m\u001b[43m(\u001b[49m\u001b[43msession_name\u001b[49m\u001b[43m,\u001b[49m\u001b[43m \u001b[49m\u001b[43mmemory\u001b[49m\u001b[43m,\u001b[49m\u001b[43m \u001b[49m\u001b[43mdb_connection\u001b[49m\u001b[43m,\u001b[49m\u001b[43m \u001b[49m\u001b[43mttl\u001b[49m\u001b[38;5;241;43m=\u001b[39;49m\u001b[43mttl\u001b[49m\u001b[43m,\u001b[49m\u001b[43m \u001b[49m\u001b[43mcloud_location\u001b[49m\u001b[38;5;241;43m=\u001b[39;49m\u001b[43mcloud_location\u001b[49m\u001b[43m)\u001b[49m\n",
      "File \u001b[0;32m/opt/homebrew/Caskroom/miniforge/base/envs/notebooks_new/lib/python3.11/site-packages/graphdatascience/session/dedicated_sessions.py:75\u001b[0m, in \u001b[0;36mDedicatedSessions.get_or_create\u001b[0;34m(self, session_name, memory, db_connection, ttl, cloud_location)\u001b[0m\n\u001b[1;32m     72\u001b[0m \u001b[38;5;66;03m# hashing the password to avoid storing the actual db password in Aura\u001b[39;00m\n\u001b[1;32m     73\u001b[0m password \u001b[38;5;241m=\u001b[39m hashlib\u001b[38;5;241m.\u001b[39msha256(db_connection\u001b[38;5;241m.\u001b[39mpassword\u001b[38;5;241m.\u001b[39mencode())\u001b[38;5;241m.\u001b[39mhexdigest()\n\u001b[0;32m---> 75\u001b[0m session_details \u001b[38;5;241m=\u001b[39m \u001b[38;5;28;43mself\u001b[39;49m\u001b[38;5;241;43m.\u001b[39;49m\u001b[43m_get_or_create_session\u001b[49m\u001b[43m(\u001b[49m\u001b[43msession_name\u001b[49m\u001b[43m,\u001b[49m\u001b[43m \u001b[49m\u001b[43mdbid\u001b[49m\u001b[43m,\u001b[49m\u001b[43m \u001b[49m\u001b[43mpassword\u001b[49m\u001b[43m,\u001b[49m\u001b[43m \u001b[49m\u001b[43mmemory\u001b[49m\u001b[38;5;241;43m.\u001b[39;49m\u001b[43mvalue\u001b[49m\u001b[43m,\u001b[49m\u001b[43m \u001b[49m\u001b[43mttl\u001b[49m\u001b[43m,\u001b[49m\u001b[43m \u001b[49m\u001b[43mcloud_location\u001b[49m\u001b[43m)\u001b[49m\n\u001b[1;32m     77\u001b[0m \u001b[38;5;28;01mif\u001b[39;00m session_details\u001b[38;5;241m.\u001b[39mexpiry_date:\n\u001b[1;32m     78\u001b[0m     until_expiry: timedelta \u001b[38;5;241m=\u001b[39m session_details\u001b[38;5;241m.\u001b[39mexpiry_date \u001b[38;5;241m-\u001b[39m datetime\u001b[38;5;241m.\u001b[39mnow(timezone\u001b[38;5;241m.\u001b[39mutc)\n",
      "File \u001b[0;32m/opt/homebrew/Caskroom/miniforge/base/envs/notebooks_new/lib/python3.11/site-packages/graphdatascience/session/dedicated_sessions.py:152\u001b[0m, in \u001b[0;36mDedicatedSessions._get_or_create_session\u001b[0;34m(self, session_name, dbid, pwd, memory, ttl, cloud_location)\u001b[0m\n\u001b[1;32m    143\u001b[0m \u001b[38;5;28;01mdef\u001b[39;00m \u001b[38;5;21m_get_or_create_session\u001b[39m(\n\u001b[1;32m    144\u001b[0m     \u001b[38;5;28mself\u001b[39m,\n\u001b[1;32m    145\u001b[0m     session_name: \u001b[38;5;28mstr\u001b[39m,\n\u001b[0;32m   (...)\u001b[0m\n\u001b[1;32m    150\u001b[0m     cloud_location: Optional[CloudLocation] \u001b[38;5;241m=\u001b[39m \u001b[38;5;28;01mNone\u001b[39;00m,\n\u001b[1;32m    151\u001b[0m ) \u001b[38;5;241m-\u001b[39m\u001b[38;5;241m>\u001b[39m SessionDetails:\n\u001b[0;32m--> 152\u001b[0m     db_instance \u001b[38;5;241m=\u001b[39m \u001b[38;5;28;43mself\u001b[39;49m\u001b[38;5;241;43m.\u001b[39;49m\u001b[43m_aura_api\u001b[49m\u001b[38;5;241;43m.\u001b[39;49m\u001b[43mlist_instance\u001b[49m\u001b[43m(\u001b[49m\u001b[43mdbid\u001b[49m\u001b[43m)\u001b[49m\n\u001b[1;32m    154\u001b[0m     \u001b[38;5;28;01mif\u001b[39;00m \u001b[38;5;129;01mnot\u001b[39;00m (db_instance \u001b[38;5;129;01mor\u001b[39;00m cloud_location):\n\u001b[1;32m    155\u001b[0m         \u001b[38;5;28;01mraise\u001b[39;00m \u001b[38;5;167;01mValueError\u001b[39;00m(\u001b[38;5;124m\"\u001b[39m\u001b[38;5;124mcloud_location must be provided for sessions against a self-managed DB.\u001b[39m\u001b[38;5;124m\"\u001b[39m)\n",
      "File \u001b[0;32m/opt/homebrew/Caskroom/miniforge/base/envs/notebooks_new/lib/python3.11/site-packages/graphdatascience/session/aura_api.py:251\u001b[0m, in \u001b[0;36mAuraApi.list_instance\u001b[0;34m(self, instance_id)\u001b[0m\n\u001b[1;32m    247\u001b[0m \u001b[38;5;28mself\u001b[39m\u001b[38;5;241m.\u001b[39m_check_resp(response)\n\u001b[1;32m    249\u001b[0m raw_data \u001b[38;5;241m=\u001b[39m response\u001b[38;5;241m.\u001b[39mjson()[\u001b[38;5;124m\"\u001b[39m\u001b[38;5;124mdata\u001b[39m\u001b[38;5;124m\"\u001b[39m]\n\u001b[0;32m--> 251\u001b[0m \u001b[38;5;28;01mreturn\u001b[39;00m \u001b[43mInstanceSpecificDetails\u001b[49m\u001b[38;5;241;43m.\u001b[39;49m\u001b[43mfromJson\u001b[49m\u001b[43m(\u001b[49m\u001b[43mraw_data\u001b[49m\u001b[43m)\u001b[49m\n",
      "File \u001b[0;32m/opt/homebrew/Caskroom/miniforge/base/envs/notebooks_new/lib/python3.11/site-packages/graphdatascience/session/aura_api_responses.py:122\u001b[0m, in \u001b[0;36mInstanceSpecificDetails.fromJson\u001b[0;34m(cls, json)\u001b[0m\n\u001b[1;32m    112\u001b[0m \u001b[38;5;129m@classmethod\u001b[39m\n\u001b[1;32m    113\u001b[0m \u001b[38;5;28;01mdef\u001b[39;00m \u001b[38;5;21mfromJson\u001b[39m(\u001b[38;5;28mcls\u001b[39m, json: \u001b[38;5;28mdict\u001b[39m[\u001b[38;5;28mstr\u001b[39m, Any]) \u001b[38;5;241m-\u001b[39m\u001b[38;5;241m>\u001b[39m InstanceSpecificDetails:\n\u001b[1;32m    114\u001b[0m     \u001b[38;5;28;01mreturn\u001b[39;00m \u001b[38;5;28mcls\u001b[39m(\n\u001b[1;32m    115\u001b[0m         \u001b[38;5;28mid\u001b[39m\u001b[38;5;241m=\u001b[39mjson[\u001b[38;5;124m\"\u001b[39m\u001b[38;5;124mid\u001b[39m\u001b[38;5;124m\"\u001b[39m],\n\u001b[1;32m    116\u001b[0m         name\u001b[38;5;241m=\u001b[39mjson[\u001b[38;5;124m\"\u001b[39m\u001b[38;5;124mname\u001b[39m\u001b[38;5;124m\"\u001b[39m],\n\u001b[1;32m    117\u001b[0m         tenant_id\u001b[38;5;241m=\u001b[39mjson[\u001b[38;5;124m\"\u001b[39m\u001b[38;5;124mtenant_id\u001b[39m\u001b[38;5;124m\"\u001b[39m],\n\u001b[1;32m    118\u001b[0m         cloud_provider\u001b[38;5;241m=\u001b[39mjson[\u001b[38;5;124m\"\u001b[39m\u001b[38;5;124mcloud_provider\u001b[39m\u001b[38;5;124m\"\u001b[39m],\n\u001b[1;32m    119\u001b[0m         status\u001b[38;5;241m=\u001b[39mjson[\u001b[38;5;124m\"\u001b[39m\u001b[38;5;124mstatus\u001b[39m\u001b[38;5;124m\"\u001b[39m],\n\u001b[1;32m    120\u001b[0m         connection_url\u001b[38;5;241m=\u001b[39mjson\u001b[38;5;241m.\u001b[39mget(\u001b[38;5;124m\"\u001b[39m\u001b[38;5;124mconnection_url\u001b[39m\u001b[38;5;124m\"\u001b[39m, \u001b[38;5;124m\"\u001b[39m\u001b[38;5;124m\"\u001b[39m),\n\u001b[1;32m    121\u001b[0m         memory\u001b[38;5;241m=\u001b[39mSessionMemoryValue\u001b[38;5;241m.\u001b[39mfromInstanceSize(json\u001b[38;5;241m.\u001b[39mget(\u001b[38;5;124m\"\u001b[39m\u001b[38;5;124mmemory\u001b[39m\u001b[38;5;124m\"\u001b[39m)),\n\u001b[0;32m--> 122\u001b[0m         \u001b[38;5;28mtype\u001b[39m\u001b[38;5;241m=\u001b[39m\u001b[43mjson\u001b[49m\u001b[43m[\u001b[49m\u001b[38;5;124;43m\"\u001b[39;49m\u001b[38;5;124;43mtype\u001b[39;49m\u001b[38;5;124;43m\"\u001b[39;49m\u001b[43m]\u001b[49m,\n\u001b[1;32m    123\u001b[0m         region\u001b[38;5;241m=\u001b[39mjson[\u001b[38;5;124m\"\u001b[39m\u001b[38;5;124mregion\u001b[39m\u001b[38;5;124m\"\u001b[39m],\n\u001b[1;32m    124\u001b[0m     )\n",
      "\u001b[0;31mKeyError\u001b[0m: 'type'"
     ]
    }
   ],
   "source": [
    "gds = sessions.get_or_create(\n",
    "    session_name=\"my-shop-demo\",\n",
    "    memory=memory,\n",
    "    db_connection=db_connection,\n",
    "    ttl=timedelta(hours=5)\n",
    ")"
   ]
  },
  {
   "cell_type": "markdown",
   "metadata": {
    "id": "0OMlYdxHWZLx"
   },
   "source": [
    "# Graph creation"
   ]
  },
  {
   "cell_type": "code",
   "execution_count": 8,
   "metadata": {
    "id": "LbsQlwvwku0b"
   },
   "outputs": [
    {
     "data": {
      "text/html": [
       "<div>\n",
       "<style scoped>\n",
       "    .dataframe tbody tr th:only-of-type {\n",
       "        vertical-align: middle;\n",
       "    }\n",
       "\n",
       "    .dataframe tbody tr th {\n",
       "        vertical-align: top;\n",
       "    }\n",
       "\n",
       "    .dataframe thead th {\n",
       "        text-align: right;\n",
       "    }\n",
       "</style>\n",
       "<table border=\"1\" class=\"dataframe\">\n",
       "  <thead>\n",
       "    <tr style=\"text-align: right;\">\n",
       "      <th></th>\n",
       "      <th>name</th>\n",
       "      <th>merchant</th>\n",
       "      <th>amount</th>\n",
       "    </tr>\n",
       "  </thead>\n",
       "  <tbody>\n",
       "    <tr>\n",
       "      <th>0</th>\n",
       "      <td>Tom</td>\n",
       "      <td>Amazon</td>\n",
       "      <td>100</td>\n",
       "    </tr>\n",
       "    <tr>\n",
       "      <th>1</th>\n",
       "      <td>Tom</td>\n",
       "      <td>Dustin</td>\n",
       "      <td>50499</td>\n",
       "    </tr>\n",
       "    <tr>\n",
       "      <th>2</th>\n",
       "      <td>Tom</td>\n",
       "      <td>eBay</td>\n",
       "      <td>220</td>\n",
       "    </tr>\n",
       "    <tr>\n",
       "      <th>3</th>\n",
       "      <td>Stefan</td>\n",
       "      <td>Amazon</td>\n",
       "      <td>220</td>\n",
       "    </tr>\n",
       "    <tr>\n",
       "      <th>4</th>\n",
       "      <td>Stefan</td>\n",
       "      <td>Dustin</td>\n",
       "      <td>399</td>\n",
       "    </tr>\n",
       "    <tr>\n",
       "      <th>5</th>\n",
       "      <td>Stefan</td>\n",
       "      <td>eBay</td>\n",
       "      <td>1499</td>\n",
       "    </tr>\n",
       "    <tr>\n",
       "      <th>6</th>\n",
       "      <td>Stefan</td>\n",
       "      <td>Bikes.de</td>\n",
       "      <td>22000</td>\n",
       "    </tr>\n",
       "    <tr>\n",
       "      <th>7</th>\n",
       "      <td>Kristof</td>\n",
       "      <td>Amazon</td>\n",
       "      <td>423</td>\n",
       "    </tr>\n",
       "    <tr>\n",
       "      <th>8</th>\n",
       "      <td>Kristof</td>\n",
       "      <td>Dustin</td>\n",
       "      <td>530</td>\n",
       "    </tr>\n",
       "    <tr>\n",
       "      <th>9</th>\n",
       "      <td>Kristof</td>\n",
       "      <td>Hello Fresh</td>\n",
       "      <td>1050</td>\n",
       "    </tr>\n",
       "    <tr>\n",
       "      <th>10</th>\n",
       "      <td>Kristof</td>\n",
       "      <td>Steam</td>\n",
       "      <td>230</td>\n",
       "    </tr>\n",
       "    <tr>\n",
       "      <th>11</th>\n",
       "      <td>Kristof</td>\n",
       "      <td>Activision</td>\n",
       "      <td>783</td>\n",
       "    </tr>\n",
       "    <tr>\n",
       "      <th>12</th>\n",
       "      <td>Håkan</td>\n",
       "      <td>Hello Fresh</td>\n",
       "      <td>2100</td>\n",
       "    </tr>\n",
       "    <tr>\n",
       "      <th>13</th>\n",
       "      <td>Håkan</td>\n",
       "      <td>Steam</td>\n",
       "      <td>230</td>\n",
       "    </tr>\n",
       "    <tr>\n",
       "      <th>14</th>\n",
       "      <td>Håkan</td>\n",
       "      <td>Activision</td>\n",
       "      <td>783</td>\n",
       "    </tr>\n",
       "  </tbody>\n",
       "</table>\n",
       "</div>"
      ],
      "text/plain": [
       "       name     merchant  amount\n",
       "0       Tom       Amazon     100\n",
       "1       Tom       Dustin   50499\n",
       "2       Tom         eBay     220\n",
       "3    Stefan       Amazon     220\n",
       "4    Stefan       Dustin     399\n",
       "5    Stefan         eBay    1499\n",
       "6    Stefan     Bikes.de   22000\n",
       "7   Kristof       Amazon     423\n",
       "8   Kristof       Dustin     530\n",
       "9   Kristof  Hello Fresh    1050\n",
       "10  Kristof        Steam     230\n",
       "11  Kristof   Activision     783\n",
       "12    Håkan  Hello Fresh    2100\n",
       "13    Håkan        Steam     230\n",
       "14    Håkan   Activision     783"
      ]
     },
     "execution_count": 8,
     "metadata": {},
     "output_type": "execute_result"
    }
   ],
   "source": [
    "transaction_df = pd.DataFrame([\n",
    "    {'name': 'Tom', 'merchant':'Amazon', 'amount': 100},\n",
    "    {'name': 'Tom', 'merchant':'Dustin', 'amount': 50499},\n",
    "    {'name': 'Tom', 'merchant':'eBay', 'amount': 220},\n",
    "    {'name': 'Stefan', 'merchant':'Amazon', 'amount': 220},\n",
    "    {'name': 'Stefan', 'merchant':'Dustin', 'amount': 399},\n",
    "    {'name': 'Stefan', 'merchant':'eBay', 'amount': 1499},\n",
    "    {'name': 'Stefan', 'merchant':'Bikes.de', 'amount': 22000},\n",
    "    {'name': 'Kristof', 'merchant':'Amazon', 'amount': 423},\n",
    "    {'name': 'Kristof', 'merchant':'Dustin', 'amount': 530},\n",
    "    {'name': 'Kristof', 'merchant':'Hello Fresh', 'amount': 1050},\n",
    "    {'name': 'Kristof', 'merchant':'Steam', 'amount': 230},\n",
    "    {'name': 'Kristof', 'merchant':'Activision', 'amount': 783},\n",
    "    {'name': 'Håkan', 'merchant':'Hello Fresh', 'amount': 2100},\n",
    "    {'name': 'Håkan', 'merchant':'Steam', 'amount': 230},\n",
    "    {'name': 'Håkan', 'merchant':'Activision', 'amount': 783},\n",
    "    \n",
    "], columns = ['name', 'merchant', 'amount'])\n",
    "transaction_df.head(15)"
   ]
  },
  {
   "cell_type": "code",
   "execution_count": null,
   "metadata": {
    "id": "cdTfdAyV2ZaR"
   },
   "outputs": [],
   "source": [
    "# This is not really required for this small sample\n",
    "\n",
    "gds.run_cypher(\"create constraint if not exists for (p:Person) require (p.name) is node key\")\n",
    "gds.run_cypher(\"create constraint if not exists for (p:Merchant) require (p.name) is node key\")\n"
   ]
  },
  {
   "cell_type": "code",
   "execution_count": null,
   "metadata": {
    "id": "uduojIopm0qV"
   },
   "outputs": [],
   "source": [
    "# Create a graph for (:Person)-[:transacted_with]->(:Merchant)\n",
    "# Tip: If we had more data, this would fail => Iterate over chunks of the dataframe.\n",
    "gds.run_cypher(\n",
    "    \"\"\"\n",
    "    unwind $transactions as transaction\n",
    "    merge (p:Person{name: transaction['name']})\n",
    "    merge (m:Merchant{name: transaction['merchant']})\n",
    "    merge (p)-[tx:TRANSACTED_WITH]->(m)\n",
    "       set tx.amount = transaction['amount']\n",
    "    \"\"\",\n",
    "    params = { 'transactions': transaction_df.to_dict(orient='records') }\n",
    ")"
   ]
  },
  {
   "cell_type": "markdown",
   "metadata": {
    "id": "rZo7Gln2jJcF"
   },
   "source": [
    "# Basic navigation of graph with cypher"
   ]
  },
  {
   "cell_type": "markdown",
   "metadata": {
    "id": "fQ2wgAWFkXxQ"
   },
   "source": [
    "### Exercise 1"
   ]
  },
  {
   "cell_type": "code",
   "execution_count": null,
   "metadata": {
    "id": "70-xbOfgjQsY"
   },
   "outputs": [],
   "source": [
    "# What persons are in the database?\n",
    "gds.run_cypher(\"\"\" \n",
    "  match (p:Person)\n",
    "  return p.name as person_name\n",
    "\"\"\").head()"
   ]
  },
  {
   "cell_type": "code",
   "execution_count": null,
   "metadata": {
    "id": "volCOjn_jjm3"
   },
   "outputs": [],
   "source": [
    "# What merchants are persons transacting with?\n",
    "gds.run_cypher(\"\"\" \n",
    "  match (p:Person)-[tx:TRANSACTED_WITH]->(m:Merchant)\n",
    "  return p.name as person_name,collect(m.name) as merchants_transacted_with\n",
    "\"\"\").head()"
   ]
  },
  {
   "cell_type": "code",
   "execution_count": null,
   "metadata": {
    "id": "2yddechtj2MB"
   },
   "outputs": [],
   "source": [
    "# Exercise 1: What is the sum of the transacted amount per person and merchant?\n",
    "# Replace with yor solution\n",
    "gds.run_cypher(\"\"\" \n",
    "  return \"not_solved\" as answer\n",
    "\"\"\").head()"
   ]
  },
  {
   "cell_type": "markdown",
   "metadata": {
    "id": "nDv-XfdqmCiw"
   },
   "source": [
    "## Exercise 2"
   ]
  },
  {
   "cell_type": "code",
   "execution_count": null,
   "metadata": {
    "id": "R1IeCTWWkS5j"
   },
   "outputs": [],
   "source": [
    "# Who transacted with Amazon but not Steam?\n",
    "gds.run_cypher(\"\"\" \n",
    "  match (p:Person)-[:TRANSACTED_WITH]->(:Merchant{name:\"Amazon\"})\n",
    "  where not exists { (p)-[:TRANSACTED_WITH]->(:Merchant{name:\"Steam\"}) }\n",
    "  return p.name as transacted_with_amazon_but_not_steam\n",
    "\"\"\").head()"
   ]
  },
  {
   "cell_type": "code",
   "execution_count": null,
   "metadata": {
    "id": "bVTKqLM3mM44"
   },
   "outputs": [],
   "source": [
    "# Exercise 2: Are there Persons in the graph that did not transact with a merchant at all?\n",
    "# Replace with yor solution\n",
    "gds.run_cypher(\"\"\" \n",
    "  return \"not_solved\" as answer\n",
    "\"\"\").head()"
   ]
  },
  {
   "cell_type": "markdown",
   "metadata": {
    "id": "hInWGbGimmTp"
   },
   "source": [
    "## Exercise 3"
   ]
  },
  {
   "cell_type": "code",
   "execution_count": null,
   "metadata": {
    "id": "nTzXuK6WmkZN"
   },
   "outputs": [],
   "source": [
    "# What nodes do I have in my graph?\n",
    "gds.run_cypher(\"\"\" \n",
    "  match (n)\n",
    "  return labels(n) as node_labels, count(*) as number_of_nodes\n",
    "\"\"\").head()"
   ]
  },
  {
   "cell_type": "code",
   "execution_count": null,
   "metadata": {
    "id": "DDeBV5JunKsC"
   },
   "outputs": [],
   "source": [
    "# Exercise 3: What relationships do I have in my graph?\n",
    "# Replace with yor solution\n",
    "gds.run_cypher(\"\"\" \n",
    "  return \"not_solved\" as answer\n",
    "\"\"\").head()"
   ]
  },
  {
   "cell_type": "markdown",
   "metadata": {
    "id": "kx1UHN87Kfup"
   },
   "source": [
    "# Node similarity"
   ]
  },
  {
   "cell_type": "markdown",
   "metadata": {
    "id": "kulQKQj63Zb_"
   },
   "source": [
    "Let's get this party started"
   ]
  },
  {
   "cell_type": "code",
   "execution_count": null,
   "metadata": {
    "id": "BDt3N5vPALJS"
   },
   "outputs": [],
   "source": [
    "G, res = gds.graph.project(\n",
    "    \"shopping\",                 #  Graph name\n",
    "    [\"Person\", \"Merchant\"],   #  Node projection\n",
    "    {\"TRANSACTED_WITH\": {\"properties\": \"amount\"}}              #  Relationship projection\n",
    ")\n"
   ]
  },
  {
   "cell_type": "code",
   "execution_count": null,
   "metadata": {
    "id": "7rBfNJ6A9m65"
   },
   "outputs": [],
   "source": [
    "print(f\"Graph '{G.name()}' node count: {G.node_count()}\")\n",
    "print(f\"Graph '{G.name()}' node labels: {G.node_labels()}\")\n"
   ]
  },
  {
   "cell_type": "code",
   "execution_count": null,
   "metadata": {},
   "outputs": [],
   "source": [
    "gds.nodeSimilarity.stream(\n",
    "    G,\n",
    "    relationshipWeightProperty='amount', \n",
    "    #writeRelationshipType='IS_SIMILAR_TO',\n",
    "    #writeProperty='sim_score'\n",
    ")"
   ]
  },
  {
   "cell_type": "code",
   "execution_count": null,
   "metadata": {
    "id": "nNZByI7LGy_i"
   },
   "outputs": [],
   "source": [
    "gds.nodeSimilarity.write(\n",
    "    G,\n",
    "    relationshipWeightProperty='amount', \n",
    "    writeRelationshipType='IS_SIMILAR_TO',\n",
    "    writeProperty='sim_score'\n",
    ")"
   ]
  },
  {
   "cell_type": "code",
   "execution_count": null,
   "metadata": {
    "id": "LRQGxT5RHctm"
   },
   "outputs": [],
   "source": [
    "# Drop the projection from the graph catalogue to free up resources\n",
    "G.drop()"
   ]
  },
  {
   "cell_type": "code",
   "execution_count": null,
   "metadata": {
    "id": "OW5uFvKnYnj7"
   },
   "outputs": [],
   "source": [
    "# Remove symetric relationships\n",
    "gds.run_cypher(\"\"\"\n",
    "  MATCH (a:Person)-[r:IS_SIMILAR_TO]->(b:Person) \n",
    "    WHERE (b)-[:IS_SIMILAR_TO]->(a) \n",
    "    AND   id(a)<id(b)\n",
    "  DELETE r\n",
    "\"\"\")\n"
   ]
  },
  {
   "cell_type": "markdown",
   "metadata": {
    "id": "jU696MRBKlne"
   },
   "source": [
    "# Graph embedding + knn "
   ]
  },
  {
   "cell_type": "code",
   "execution_count": null,
   "metadata": {
    "id": "SKNESlpBxyJ5"
   },
   "outputs": [],
   "source": [
    "# Let's make the same projection again\n",
    "G, res = gds.graph.project(\n",
    "    \"shopping\",                 #  Graph name\n",
    "    [\"Person\", \"Merchant\"],   #  Node projection\n",
    "    {\"TRANSACTED_WITH\": {\"properties\": \"amount\"}}              #  Relationship projection\n",
    ")"
   ]
  },
  {
   "cell_type": "code",
   "execution_count": null,
   "metadata": {
    "id": "66aoFCzIPhUw"
   },
   "outputs": [],
   "source": [
    "# Mutate our projection (by computing an embedding)\n",
    "gds.beta.node2vec.mutate(\n",
    "    G,\n",
    "    embeddingDimension=3,\n",
    "    relationshipWeightProperty='amount',\n",
    "    mutateProperty='embedding'\n",
    ")"
   ]
  },
  {
   "cell_type": "code",
   "execution_count": null,
   "metadata": {
    "id": "Gwwyj1KKLegG"
   },
   "outputs": [],
   "source": [
    "# What does our embeddings look like? Let's stream back and have a look\n",
    "df_embeddings = gds.graph.nodeProperty.stream(\n",
    "    G,\n",
    "    node_properties='embedding',\n",
    "    node_labels='Person'\n",
    ")"
   ]
  },
  {
   "cell_type": "code",
   "execution_count": null,
   "metadata": {
    "id": "TLW5unbDMGhE"
   },
   "outputs": [],
   "source": [
    "pd.set_option('max_colwidth', None)\n",
    "df_embeddings.head(10)"
   ]
  },
  {
   "cell_type": "code",
   "execution_count": null,
   "metadata": {
    "id": "ZGwkZIuFQN-R"
   },
   "outputs": [],
   "source": [
    "# Run knn\n",
    "gds.knn.write(\n",
    "    G,\n",
    "    nodeLabels=['Person'],\n",
    "    nodeProperties=['embedding'],\n",
    "    topK=2,\n",
    "    writeRelationshipType='SIMILAR_EMBEDDING',\n",
    "    writeProperty='sim_score'\n",
    ")"
   ]
  },
  {
   "cell_type": "code",
   "execution_count": null,
   "metadata": {
    "id": "ou3S9jeJMV0A"
   },
   "outputs": [],
   "source": [
    "# Drop the projection from the graph catalogue to free up resources\n",
    "G.drop()"
   ]
  },
  {
   "cell_type": "code",
   "execution_count": null,
   "metadata": {
    "id": "mixfOT5kMiMa"
   },
   "outputs": [],
   "source": [
    "# Again, let's remove symetric relationships\n",
    "gds.run_cypher(\"\"\"\n",
    "  MATCH (a:Person)-[r:SIMILAR_EMBEDDING]->(b:Person) \n",
    "    WHERE (b)-[:SIMILAR_EMBEDDING]->(a) \n",
    "    AND   id(a)<id(b)\n",
    "  DELETE r\n",
    "\"\"\")"
   ]
  },
  {
   "cell_type": "code",
   "execution_count": null,
   "metadata": {
    "id": "Pk0MLczGSF4E"
   },
   "outputs": [],
   "source": [
    "# Let's review\n",
    "gds.run_cypher(\"\"\"\n",
    "  MATCH (p:Person)-[r:SIMILAR_EMBEDDING|IS_SIMILAR_TO]-(p2)\n",
    "  RETURN p.name as person, \n",
    "         type(r) as type, \n",
    "         r.sim_score as score,\n",
    "         p2.name as to_person\n",
    "  ORDER by p.name, p2.name, type(r)\n",
    "\"\"\").head(30)"
   ]
  },
  {
   "cell_type": "code",
   "execution_count": null,
   "metadata": {
    "id": "RNdzni6-SvC0"
   },
   "outputs": [],
   "source": []
  }
 ],
 "metadata": {
  "colab": {
   "provenance": [],
   "toc_visible": true
  },
  "kernelspec": {
   "display_name": "notebooks_new",
   "language": "python",
   "name": "python3"
  },
  "language_info": {
   "codemirror_mode": {
    "name": "ipython",
    "version": 3
   },
   "file_extension": ".py",
   "mimetype": "text/x-python",
   "name": "python",
   "nbconvert_exporter": "python",
   "pygments_lexer": "ipython3",
   "version": "3.11.0"
  }
 },
 "nbformat": 4,
 "nbformat_minor": 0
}
