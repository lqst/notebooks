{
 "cells": [
  {
   "cell_type": "code",
   "execution_count": 1,
   "metadata": {},
   "outputs": [],
   "source": [
    "import os\n",
    "import pandas as pd\n",
    "import numpy as np\n",
    "from neo4j import Query, GraphDatabase, RoutingControl, Result # Python database driver 5.13 +"
   ]
  },
  {
   "cell_type": "markdown",
   "metadata": {},
   "source": [
    "## Database connection"
   ]
  },
  {
   "cell_type": "code",
   "execution_count": 2,
   "metadata": {},
   "outputs": [],
   "source": [
    "DB_ULR = \"neo4j://localhost:7687\"\n",
    "DB_USER = \"neo4j\"\n",
    "DB_PASS = \"test1234\"\n",
    "DB_NAME = \"neo4j\" # Have to be neo4j for neo4j aura (but keep it, good for testing on local dev env)"
   ]
  },
  {
   "cell_type": "code",
   "execution_count": 3,
   "metadata": {},
   "outputs": [],
   "source": [
    "driver = GraphDatabase.driver(DB_ULR, auth=(DB_USER, DB_PASS))\n",
    "driver.verify_connectivity()"
   ]
  },
  {
   "cell_type": "markdown",
   "metadata": {},
   "source": [
    "## Utility functions"
   ]
  },
  {
   "cell_type": "code",
   "execution_count": 4,
   "metadata": {},
   "outputs": [],
   "source": [
    "## Utility\n",
    "def split_dataframe(df, chunk_size = 5000): \n",
    "    chunks = list()\n",
    "    num_chunks = len(df) // chunk_size + 1\n",
    "    for i in range(num_chunks):\n",
    "        chunks.append(df[i*chunk_size:(i+1)*chunk_size])\n",
    "    return chunks"
   ]
  },
  {
   "cell_type": "markdown",
   "metadata": {},
   "source": [
    "## Data sources"
   ]
  },
  {
   "cell_type": "code",
   "execution_count": 9,
   "metadata": {},
   "outputs": [],
   "source": [
    "kg_data = pd.read_csv('./data/kg.csv', low_memory=False)"
   ]
  },
  {
   "cell_type": "code",
   "execution_count": 10,
   "metadata": {},
   "outputs": [
    {
     "name": "stderr",
     "output_type": "stream",
     "text": [
      "/var/folders/71/lgz4464j18s5g22_s_lm696m0000gn/T/ipykernel_2456/3595953875.py:7: FutureWarning: The frame.append method is deprecated and will be removed from pandas in a future version. Use pandas.concat instead.\n",
      "  node_data = node_data.append(y_data).drop_duplicates()\n"
     ]
    }
   ],
   "source": [
    "## format the data for neo4j for nodes\n",
    "node_data = kg_data[[\"x_id\", \"x_type\", \"x_name\", \"x_source\"]].drop_duplicates()\n",
    " \n",
    "# append y entities to node data\n",
    "y_data = kg_data[[\"y_id\", \"y_type\", \"y_name\", \"y_source\"]].drop_duplicates()\n",
    "y_data.columns = [\"x_id\", \"x_type\", \"x_name\", \"x_source\"]\n",
    "node_data = node_data.append(y_data).drop_duplicates()\n",
    " \n",
    "# rename columns\n",
    "node_data.columns = [\"id\", \"type\", \"name\", \"source\"]"
   ]
  },
  {
   "cell_type": "code",
   "execution_count": 17,
   "metadata": {},
   "outputs": [
    {
     "data": {
      "text/html": [
       "<div>\n",
       "<style scoped>\n",
       "    .dataframe tbody tr th:only-of-type {\n",
       "        vertical-align: middle;\n",
       "    }\n",
       "\n",
       "    .dataframe tbody tr th {\n",
       "        vertical-align: top;\n",
       "    }\n",
       "\n",
       "    .dataframe thead th {\n",
       "        text-align: right;\n",
       "    }\n",
       "</style>\n",
       "<table border=\"1\" class=\"dataframe\">\n",
       "  <thead>\n",
       "    <tr style=\"text-align: right;\">\n",
       "      <th></th>\n",
       "      <th>id</th>\n",
       "      <th>type</th>\n",
       "      <th>name</th>\n",
       "      <th>source</th>\n",
       "    </tr>\n",
       "  </thead>\n",
       "  <tbody>\n",
       "    <tr>\n",
       "      <th>0</th>\n",
       "      <td>9796</td>\n",
       "      <td>gene/protein</td>\n",
       "      <td>PHYHIP</td>\n",
       "      <td>NCBI</td>\n",
       "    </tr>\n",
       "    <tr>\n",
       "      <th>1</th>\n",
       "      <td>7918</td>\n",
       "      <td>gene/protein</td>\n",
       "      <td>GPANK1</td>\n",
       "      <td>NCBI</td>\n",
       "    </tr>\n",
       "    <tr>\n",
       "      <th>2</th>\n",
       "      <td>8233</td>\n",
       "      <td>gene/protein</td>\n",
       "      <td>ZRSR2</td>\n",
       "      <td>NCBI</td>\n",
       "    </tr>\n",
       "    <tr>\n",
       "      <th>3</th>\n",
       "      <td>4899</td>\n",
       "      <td>gene/protein</td>\n",
       "      <td>NRF1</td>\n",
       "      <td>NCBI</td>\n",
       "    </tr>\n",
       "    <tr>\n",
       "      <th>4</th>\n",
       "      <td>5297</td>\n",
       "      <td>gene/protein</td>\n",
       "      <td>PI4KA</td>\n",
       "      <td>NCBI</td>\n",
       "    </tr>\n",
       "  </tbody>\n",
       "</table>\n",
       "</div>"
      ],
      "text/plain": [
       "     id          type    name source\n",
       "0  9796  gene/protein  PHYHIP   NCBI\n",
       "1  7918  gene/protein  GPANK1   NCBI\n",
       "2  8233  gene/protein   ZRSR2   NCBI\n",
       "3  4899  gene/protein    NRF1   NCBI\n",
       "4  5297  gene/protein   PI4KA   NCBI"
      ]
     },
     "execution_count": 17,
     "metadata": {},
     "output_type": "execute_result"
    }
   ],
   "source": [
    "node_data.head()"
   ]
  },
  {
   "cell_type": "code",
   "execution_count": 20,
   "metadata": {},
   "outputs": [
    {
     "data": {
      "text/plain": [
       "['gene/protein',\n",
       " 'drug',\n",
       " 'effect/phenotype',\n",
       " 'disease',\n",
       " 'biological_process',\n",
       " 'molecular_function',\n",
       " 'cellular_component',\n",
       " 'exposure',\n",
       " 'pathway',\n",
       " 'anatomy']"
      ]
     },
     "execution_count": 20,
     "metadata": {},
     "output_type": "execute_result"
    }
   ],
   "source": [
    "node_labels = node_data[\"type\"].drop_duplicates().to_list()\n",
    "node_labels"
   ]
  },
  {
   "cell_type": "markdown",
   "metadata": {},
   "source": [
    "## Define indexes and constraints"
   ]
  },
  {
   "cell_type": "code",
   "execution_count": 35,
   "metadata": {},
   "outputs": [
    {
     "data": {
      "text/html": [
       "<div>\n",
       "<style scoped>\n",
       "    .dataframe tbody tr th:only-of-type {\n",
       "        vertical-align: middle;\n",
       "    }\n",
       "\n",
       "    .dataframe tbody tr th {\n",
       "        vertical-align: top;\n",
       "    }\n",
       "\n",
       "    .dataframe thead th {\n",
       "        text-align: right;\n",
       "    }\n",
       "</style>\n",
       "<table border=\"1\" class=\"dataframe\">\n",
       "  <thead>\n",
       "    <tr style=\"text-align: right;\">\n",
       "      <th></th>\n",
       "      <th>id</th>\n",
       "      <th>name</th>\n",
       "      <th>type</th>\n",
       "      <th>entityType</th>\n",
       "      <th>labelsOrTypes</th>\n",
       "      <th>properties</th>\n",
       "      <th>ownedIndex</th>\n",
       "      <th>propertyType</th>\n",
       "    </tr>\n",
       "  </thead>\n",
       "  <tbody>\n",
       "    <tr>\n",
       "      <th>0</th>\n",
       "      <td>8</td>\n",
       "      <td>constraint_142cd3cc</td>\n",
       "      <td>NODE_KEY</td>\n",
       "      <td>NODE</td>\n",
       "      <td>[effect/phenotype]</td>\n",
       "      <td>[id]</td>\n",
       "      <td>constraint_142cd3cc</td>\n",
       "      <td>None</td>\n",
       "    </tr>\n",
       "    <tr>\n",
       "      <th>1</th>\n",
       "      <td>16</td>\n",
       "      <td>constraint_3a36d8ce</td>\n",
       "      <td>NODE_KEY</td>\n",
       "      <td>NODE</td>\n",
       "      <td>[cellular_component]</td>\n",
       "      <td>[id]</td>\n",
       "      <td>constraint_3a36d8ce</td>\n",
       "      <td>None</td>\n",
       "    </tr>\n",
       "    <tr>\n",
       "      <th>2</th>\n",
       "      <td>12</td>\n",
       "      <td>constraint_445142fa</td>\n",
       "      <td>NODE_KEY</td>\n",
       "      <td>NODE</td>\n",
       "      <td>[biological_process]</td>\n",
       "      <td>[id]</td>\n",
       "      <td>constraint_445142fa</td>\n",
       "      <td>None</td>\n",
       "    </tr>\n",
       "    <tr>\n",
       "      <th>3</th>\n",
       "      <td>20</td>\n",
       "      <td>constraint_6249184</td>\n",
       "      <td>NODE_KEY</td>\n",
       "      <td>NODE</td>\n",
       "      <td>[pathway]</td>\n",
       "      <td>[id]</td>\n",
       "      <td>constraint_6249184</td>\n",
       "      <td>None</td>\n",
       "    </tr>\n",
       "    <tr>\n",
       "      <th>4</th>\n",
       "      <td>6</td>\n",
       "      <td>constraint_797fe72a</td>\n",
       "      <td>NODE_KEY</td>\n",
       "      <td>NODE</td>\n",
       "      <td>[drug]</td>\n",
       "      <td>[id]</td>\n",
       "      <td>constraint_797fe72a</td>\n",
       "      <td>None</td>\n",
       "    </tr>\n",
       "    <tr>\n",
       "      <th>5</th>\n",
       "      <td>18</td>\n",
       "      <td>constraint_90f86fd7</td>\n",
       "      <td>NODE_KEY</td>\n",
       "      <td>NODE</td>\n",
       "      <td>[exposure]</td>\n",
       "      <td>[id]</td>\n",
       "      <td>constraint_90f86fd7</td>\n",
       "      <td>None</td>\n",
       "    </tr>\n",
       "    <tr>\n",
       "      <th>6</th>\n",
       "      <td>4</td>\n",
       "      <td>constraint_91f1fb3e</td>\n",
       "      <td>NODE_KEY</td>\n",
       "      <td>NODE</td>\n",
       "      <td>[gene/protein]</td>\n",
       "      <td>[id]</td>\n",
       "      <td>constraint_91f1fb3e</td>\n",
       "      <td>None</td>\n",
       "    </tr>\n",
       "    <tr>\n",
       "      <th>7</th>\n",
       "      <td>22</td>\n",
       "      <td>constraint_a2d568b5</td>\n",
       "      <td>NODE_KEY</td>\n",
       "      <td>NODE</td>\n",
       "      <td>[anatomy]</td>\n",
       "      <td>[id]</td>\n",
       "      <td>constraint_a2d568b5</td>\n",
       "      <td>None</td>\n",
       "    </tr>\n",
       "    <tr>\n",
       "      <th>8</th>\n",
       "      <td>10</td>\n",
       "      <td>constraint_a96823a5</td>\n",
       "      <td>NODE_KEY</td>\n",
       "      <td>NODE</td>\n",
       "      <td>[disease]</td>\n",
       "      <td>[id]</td>\n",
       "      <td>constraint_a96823a5</td>\n",
       "      <td>None</td>\n",
       "    </tr>\n",
       "    <tr>\n",
       "      <th>9</th>\n",
       "      <td>14</td>\n",
       "      <td>constraint_f14c3bd5</td>\n",
       "      <td>NODE_KEY</td>\n",
       "      <td>NODE</td>\n",
       "      <td>[molecular_function]</td>\n",
       "      <td>[id]</td>\n",
       "      <td>constraint_f14c3bd5</td>\n",
       "      <td>None</td>\n",
       "    </tr>\n",
       "  </tbody>\n",
       "</table>\n",
       "</div>"
      ],
      "text/plain": [
       "   id                 name      type entityType         labelsOrTypes  \\\n",
       "0   8  constraint_142cd3cc  NODE_KEY       NODE    [effect/phenotype]   \n",
       "1  16  constraint_3a36d8ce  NODE_KEY       NODE  [cellular_component]   \n",
       "2  12  constraint_445142fa  NODE_KEY       NODE  [biological_process]   \n",
       "3  20   constraint_6249184  NODE_KEY       NODE             [pathway]   \n",
       "4   6  constraint_797fe72a  NODE_KEY       NODE                [drug]   \n",
       "5  18  constraint_90f86fd7  NODE_KEY       NODE            [exposure]   \n",
       "6   4  constraint_91f1fb3e  NODE_KEY       NODE        [gene/protein]   \n",
       "7  22  constraint_a2d568b5  NODE_KEY       NODE             [anatomy]   \n",
       "8  10  constraint_a96823a5  NODE_KEY       NODE             [disease]   \n",
       "9  14  constraint_f14c3bd5  NODE_KEY       NODE  [molecular_function]   \n",
       "\n",
       "  properties           ownedIndex propertyType  \n",
       "0       [id]  constraint_142cd3cc         None  \n",
       "1       [id]  constraint_3a36d8ce         None  \n",
       "2       [id]  constraint_445142fa         None  \n",
       "3       [id]   constraint_6249184         None  \n",
       "4       [id]  constraint_797fe72a         None  \n",
       "5       [id]  constraint_90f86fd7         None  \n",
       "6       [id]  constraint_91f1fb3e         None  \n",
       "7       [id]  constraint_a2d568b5         None  \n",
       "8       [id]  constraint_a96823a5         None  \n",
       "9       [id]  constraint_f14c3bd5         None  "
      ]
     },
     "execution_count": 35,
     "metadata": {},
     "output_type": "execute_result"
    }
   ],
   "source": [
    "for label in node_labels:\n",
    "    driver.execute_query(\n",
    "        'create constraint if not exists for (n:`{label}`) require (n.id) is node key'.format(label=label),\n",
    "        database_=DB_NAME,\n",
    "        routing_=RoutingControl.WRITE\n",
    "    )\n",
    "\n",
    "# Fetch all constraints\n",
    "schema_result_df  = driver.execute_query(\n",
    "    'show constraints',\n",
    "    database_=DB_NAME,\n",
    "    routing_=RoutingControl.READ,\n",
    "    result_transformer_= lambda r: r.to_df()\n",
    ")\n",
    "schema_result_df.head(100)"
   ]
  },
  {
   "cell_type": "markdown",
   "metadata": {},
   "source": [
    "## Graph creation"
   ]
  },
  {
   "cell_type": "markdown",
   "metadata": {},
   "source": [
    "### Nodes"
   ]
  },
  {
   "cell_type": "code",
   "execution_count": 36,
   "metadata": {},
   "outputs": [
    {
     "name": "stdout",
     "output_type": "stream",
     "text": [
      "{'_contains_updates': True, 'labels_added': 27610, 'nodes_created': 27610, 'properties_set': 82830}\n",
      "{'_contains_updates': True, 'labels_added': 7957, 'nodes_created': 7957, 'properties_set': 23871}\n",
      "{'_contains_updates': True, 'labels_added': 15311, 'nodes_created': 15311, 'properties_set': 45933}\n",
      "{'_contains_updates': True, 'labels_added': 17080, 'nodes_created': 17080, 'properties_set': 51240}\n",
      "{'_contains_updates': True, 'labels_added': 28642, 'nodes_created': 28642, 'properties_set': 85926}\n",
      "{'_contains_updates': True, 'labels_added': 11169, 'nodes_created': 11169, 'properties_set': 33507}\n",
      "{'_contains_updates': True, 'labels_added': 4176, 'nodes_created': 4176, 'properties_set': 12528}\n",
      "{'_contains_updates': True, 'labels_added': 818, 'nodes_created': 818, 'properties_set': 2454}\n",
      "{'_contains_updates': True, 'labels_added': 2516, 'nodes_created': 2516, 'properties_set': 7548}\n",
      "{'_contains_updates': True, 'labels_added': 14033, 'nodes_created': 14033, 'properties_set': 42099}\n"
     ]
    }
   ],
   "source": [
    "for label in node_labels:\n",
    "    for chunk in split_dataframe( node_data[ node_data['type'] == label].drop_duplicates(subset='id', keep=\"last\"), 50_000):\n",
    "        records, summary, keys = driver.execute_query(\n",
    "            ''' \n",
    "                unwind $rows as row\n",
    "                create (n:`{label}`{{id: row['id']}})\n",
    "                    set n += {{ \n",
    "                        name: row['name'], \n",
    "                        source: row['source']\n",
    "                    }} \n",
    "                return count(*) as rows_processed\n",
    "            '''.format(label = label),\n",
    "            database_=DB_NAME,\n",
    "            routing_=RoutingControl.WRITE,\n",
    "            rows = chunk.to_dict('records')\n",
    "        )\n",
    "        print(summary.counters)"
   ]
  },
  {
   "cell_type": "markdown",
   "metadata": {},
   "source": [
    "### Relationships"
   ]
  },
  {
   "cell_type": "markdown",
   "metadata": {},
   "source": []
  }
 ],
 "metadata": {
  "kernelspec": {
   "display_name": "notebooks",
   "language": "python",
   "name": "python3"
  },
  "language_info": {
   "codemirror_mode": {
    "name": "ipython",
    "version": 3
   },
   "file_extension": ".py",
   "mimetype": "text/x-python",
   "name": "python",
   "nbconvert_exporter": "python",
   "pygments_lexer": "ipython3",
   "version": "3.9.16"
  }
 },
 "nbformat": 4,
 "nbformat_minor": 2
}
