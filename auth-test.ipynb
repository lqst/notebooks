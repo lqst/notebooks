{
 "cells": [
  {
   "cell_type": "code",
   "execution_count": 31,
   "metadata": {},
   "outputs": [],
   "source": [
    "import os\n",
    "import pandas as pd\n",
    "import numpy as np\n",
    "from neo4j import GraphDatabase, bearer_auth, RoutingControl\n",
    "import msal\n",
    "import logging"
   ]
  },
  {
   "cell_type": "markdown",
   "metadata": {},
   "source": [
    "## Database connection\n",
    "Useful read: https://medium.com/neo4j/how-to-integrate-neo4j-with-sso-on-azure-one-login-to-rule-them-all-3492b41a9aa8"
   ]
  },
  {
   "cell_type": "code",
   "execution_count": 28,
   "metadata": {},
   "outputs": [],
   "source": [
    "DB_URL = \"neo4j://localhost:7680\"\n",
    "DB_NAME = \"mdrdb20231101v07\" # Have to be neo4j for neo4j aura (but keep it, good for testing on local dev env)"
   ]
  },
  {
   "cell_type": "code",
   "execution_count": 43,
   "metadata": {},
   "outputs": [
    {
     "name": "stderr",
     "output_type": "stream",
     "text": [
      "ERROR:root:{'error': 'invalid_request', 'error_description': \"AADSTS9002327: Tokens issued for the 'Single-Page Application' client-type may only be redeemed via cross-origin requests. Trace ID: 56d72a76-600d-4a0c-b269-6a693d6d7400 Correlation ID: 77cb50b5-1c07-4835-841e-92b9b6a16974 Timestamp: 2024-02-01 16:50:59Z\", 'error_codes': [9002327], 'timestamp': '2024-02-01 16:50:59Z', 'trace_id': '56d72a76-600d-4a0c-b269-6a693d6d7400', 'correlation_id': '77cb50b5-1c07-4835-841e-92b9b6a16974'}\n"
     ]
    },
    {
     "ename": "RuntimeError",
     "evalue": "{'error': 'invalid_request', 'error_description': \"AADSTS9002327: Tokens issued for the 'Single-Page Application' client-type may only be redeemed via cross-origin requests. Trace ID: 56d72a76-600d-4a0c-b269-6a693d6d7400 Correlation ID: 77cb50b5-1c07-4835-841e-92b9b6a16974 Timestamp: 2024-02-01 16:50:59Z\", 'error_codes': [9002327], 'timestamp': '2024-02-01 16:50:59Z', 'trace_id': '56d72a76-600d-4a0c-b269-6a693d6d7400', 'correlation_id': '77cb50b5-1c07-4835-841e-92b9b6a16974'}",
     "output_type": "error",
     "traceback": [
      "\u001b[0;31m---------------------------------------------------------------------------\u001b[0m",
      "\u001b[0;31mRuntimeError\u001b[0m                              Traceback (most recent call last)",
      "Input \u001b[0;32mIn [43]\u001b[0m, in \u001b[0;36m<cell line: 27>\u001b[0;34m()\u001b[0m\n\u001b[1;32m     24\u001b[0m     \u001b[38;5;28;01mreturn\u001b[39;00m neo4j_driver\n\u001b[1;32m     26\u001b[0m \u001b[38;5;66;03m#get_neo4j_driver().verify_connectivity()\u001b[39;00m\n\u001b[0;32m---> 27\u001b[0m driver \u001b[38;5;241m=\u001b[39m \u001b[43mget_neo4j_driver\u001b[49m\u001b[43m(\u001b[49m\u001b[43m)\u001b[49m\n",
      "Input \u001b[0;32mIn [43]\u001b[0m, in \u001b[0;36mget_neo4j_driver\u001b[0;34m()\u001b[0m\n\u001b[1;32m     20\u001b[0m \u001b[38;5;28;01mglobal\u001b[39;00m neo4j_driver\n\u001b[1;32m     21\u001b[0m \u001b[38;5;28;01mif\u001b[39;00m neo4j_driver \u001b[38;5;129;01mis\u001b[39;00m \u001b[38;5;28;01mNone\u001b[39;00m:\n\u001b[0;32m---> 22\u001b[0m     token \u001b[38;5;241m=\u001b[39m \u001b[43mget_sso_access_token\u001b[49m\u001b[43m(\u001b[49m\u001b[43m)\u001b[49m\n\u001b[1;32m     23\u001b[0m     neo4j_driver \u001b[38;5;241m=\u001b[39m GraphDatabase\u001b[38;5;241m.\u001b[39mdriver(NEO4J_URI, auth\u001b[38;5;241m=\u001b[39mbearer_auth(token))\n\u001b[1;32m     24\u001b[0m \u001b[38;5;28;01mreturn\u001b[39;00m neo4j_driver\n",
      "Input \u001b[0;32mIn [43]\u001b[0m, in \u001b[0;36mget_sso_access_token\u001b[0;34m()\u001b[0m\n\u001b[1;32m     13\u001b[0m \u001b[38;5;28;01mif\u001b[39;00m \u001b[38;5;129;01mnot\u001b[39;00m \u001b[38;5;124m'\u001b[39m\u001b[38;5;124maccess_token\u001b[39m\u001b[38;5;124m'\u001b[39m \u001b[38;5;129;01min\u001b[39;00m response:\n\u001b[1;32m     14\u001b[0m     logging\u001b[38;5;241m.\u001b[39merror(response)\n\u001b[0;32m---> 15\u001b[0m     \u001b[38;5;28;01mraise\u001b[39;00m \u001b[38;5;167;01mRuntimeError\u001b[39;00m(response)\n\u001b[1;32m     16\u001b[0m \u001b[38;5;28;01melse\u001b[39;00m:\n\u001b[1;32m     17\u001b[0m     logging\u001b[38;5;241m.\u001b[39minfo(\u001b[38;5;124m\"\u001b[39m\u001b[38;5;124mNew token acquired\u001b[39m\u001b[38;5;124m\"\u001b[39m)\n",
      "\u001b[0;31mRuntimeError\u001b[0m: {'error': 'invalid_request', 'error_description': \"AADSTS9002327: Tokens issued for the 'Single-Page Application' client-type may only be redeemed via cross-origin requests. Trace ID: 56d72a76-600d-4a0c-b269-6a693d6d7400 Correlation ID: 77cb50b5-1c07-4835-841e-92b9b6a16974 Timestamp: 2024-02-01 16:50:59Z\", 'error_codes': [9002327], 'timestamp': '2024-02-01 16:50:59Z', 'trace_id': '56d72a76-600d-4a0c-b269-6a693d6d7400', 'correlation_id': '77cb50b5-1c07-4835-841e-92b9b6a16974'}"
     ]
    }
   ],
   "source": [
    "CLIENT_ID = \"e66aec58-ae0c-4c31-9389-34e0067af3bd\"\n",
    "TENANT_ID = \"54e85725-ed2a-49a4-a19e-11c8d29f9a0f\"\n",
    "NEO4J_URI = \"neo4j://localhost:7680\"\n",
    "SCOPES = [f\"api://{CLIENT_ID}/access-token\"]\n",
    "AZURE_TENANT = f\"https://login.microsoftonline.com/{TENANT_ID}\"\n",
    "\n",
    "azure_app = None\n",
    "neo4j_driver = None\n",
    "def get_sso_access_token():\n",
    "    global azure_app\n",
    "    azure_app = msal.PublicClientApplication(CLIENT_ID, authority=AZURE_TENANT)\n",
    "    response = azure_app.acquire_token_interactive(scopes=SCOPES, port=51866)\n",
    "    if not 'access_token' in response:\n",
    "        logging.error(response)\n",
    "        raise RuntimeError(response)\n",
    "    else:\n",
    "        logging.info(\"New token acquired\")\n",
    "        return response['id_token']\n",
    "def get_neo4j_driver():\n",
    "    global neo4j_driver\n",
    "    if neo4j_driver is None:\n",
    "        token = get_sso_access_token()\n",
    "        neo4j_driver = GraphDatabase.driver(NEO4J_URI, auth=bearer_auth(token))\n",
    "    return neo4j_driver\n",
    "     \n",
    "#get_neo4j_driver().verify_connectivity()\n",
    "driver = get_neo4j_driver()"
   ]
  },
  {
   "cell_type": "code",
   "execution_count": 32,
   "metadata": {},
   "outputs": [
    {
     "ename": "AttributeError",
     "evalue": "'function' object has no attribute 'execute_query'",
     "output_type": "error",
     "traceback": [
      "\u001b[0;31m---------------------------------------------------------------------------\u001b[0m",
      "\u001b[0;31mAttributeError\u001b[0m                            Traceback (most recent call last)",
      "Input \u001b[0;32mIn [32]\u001b[0m, in \u001b[0;36m<cell line: 1>\u001b[0;34m()\u001b[0m\n\u001b[0;32m----> 1\u001b[0m records, summary, keys \u001b[38;5;241m=\u001b[39m \u001b[43mdriver\u001b[49m\u001b[38;5;241;43m.\u001b[39;49m\u001b[43mexecute_query\u001b[49m(\n\u001b[1;32m      2\u001b[0m     \u001b[38;5;124m'\u001b[39m\u001b[38;5;124mmatch () return count(*)\u001b[39m\u001b[38;5;124m'\u001b[39m,\n\u001b[1;32m      3\u001b[0m     database_\u001b[38;5;241m=\u001b[39mDB_NAME,\n\u001b[1;32m      4\u001b[0m     routing_\u001b[38;5;241m=\u001b[39mRoutingControl\u001b[38;5;241m.\u001b[39mREAD\n\u001b[1;32m      5\u001b[0m )\n\u001b[1;32m      6\u001b[0m \u001b[38;5;28mprint\u001b[39m(records)\n",
      "\u001b[0;31mAttributeError\u001b[0m: 'function' object has no attribute 'execute_query'"
     ]
    }
   ],
   "source": [
    "records, summary, keys = driver.execute_query(\n",
    "    'match () return count(*)',\n",
    "    database_=DB_NAME,\n",
    "    routing_=RoutingControl.READ\n",
    ")\n",
    "print(records)"
   ]
  },
  {
   "cell_type": "code",
   "execution_count": null,
   "metadata": {},
   "outputs": [],
   "source": []
  }
 ],
 "metadata": {
  "kernelspec": {
   "display_name": "notebooks",
   "language": "python",
   "name": "python3"
  },
  "language_info": {
   "codemirror_mode": {
    "name": "ipython",
    "version": 3
   },
   "file_extension": ".py",
   "mimetype": "text/x-python",
   "name": "python",
   "nbconvert_exporter": "python",
   "pygments_lexer": "ipython3",
   "version": "3.9.16"
  }
 },
 "nbformat": 4,
 "nbformat_minor": 2
}
