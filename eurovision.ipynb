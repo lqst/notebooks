{
 "cells": [
  {
   "cell_type": "code",
   "execution_count": 1,
   "metadata": {},
   "outputs": [],
   "source": [
    "\n",
    "DB_ULR = \"neo4j+s://summit.graphdatabase.ninja:7687\"\n",
    "DB_USER = \"attendee12\"\n",
    "DB_PASS = \"trinity12\"\n",
    "DB_NAME = \"eurosong12\""
   ]
  },
  {
   "cell_type": "markdown",
   "metadata": {},
   "source": [
    "# Create driver\n",
    "Also set the DB_NAME"
   ]
  },
  {
   "cell_type": "code",
   "execution_count": 2,
   "metadata": {},
   "outputs": [],
   "source": [
    "import os\n",
    "import pandas as pd\n",
    "import numpy as np\n",
    "from sklearn.manifold import TSNE\n",
    "import matplotlib.pyplot as plt\n",
    "import plotly.graph_objects as go\n",
    "import plotly.express as px \n",
    "from neo4j import GraphDatabase # Python database driver\n",
    "from graphdatascience import GraphDataScience # Python GDS client\n",
    "\n",
    "# And some cermony to create the driver and gds objects\n",
    "driver = GraphDatabase.driver(DB_ULR, auth=(DB_USER, DB_PASS))\n",
    "gds = GraphDataScience(DB_ULR, auth=(DB_USER, DB_PASS))\n",
    "gds.set_database(DB_NAME)"
   ]
  },
  {
   "cell_type": "markdown",
   "metadata": {},
   "source": [
    "# Basic data profiling and answer some questions with cypher"
   ]
  },
  {
   "cell_type": "code",
   "execution_count": 3,
   "metadata": {},
   "outputs": [
    {
     "data": {
      "text/html": [
       "<div>\n",
       "<style scoped>\n",
       "    .dataframe tbody tr th:only-of-type {\n",
       "        vertical-align: middle;\n",
       "    }\n",
       "\n",
       "    .dataframe tbody tr th {\n",
       "        vertical-align: top;\n",
       "    }\n",
       "\n",
       "    .dataframe thead th {\n",
       "        text-align: right;\n",
       "    }\n",
       "</style>\n",
       "<table border=\"1\" class=\"dataframe\">\n",
       "  <thead>\n",
       "    <tr style=\"text-align: right;\">\n",
       "      <th></th>\n",
       "      <th>nodeCount</th>\n",
       "    </tr>\n",
       "  </thead>\n",
       "  <tbody>\n",
       "    <tr>\n",
       "      <th>0</th>\n",
       "      <td>54</td>\n",
       "    </tr>\n",
       "  </tbody>\n",
       "</table>\n",
       "</div>"
      ],
      "text/plain": [
       "   nodeCount\n",
       "0         54"
      ]
     },
     "execution_count": 3,
     "metadata": {},
     "output_type": "execute_result"
    }
   ],
   "source": [
    "df = pd.DataFrame( \n",
    "    gds.run_cypher('match (n) return count(*) as nodeCount') \n",
    ")\n",
    "df.head()"
   ]
  },
  {
   "cell_type": "code",
   "execution_count": 28,
   "metadata": {},
   "outputs": [
    {
     "data": {
      "text/html": [
       "<div>\n",
       "<style scoped>\n",
       "    .dataframe tbody tr th:only-of-type {\n",
       "        vertical-align: middle;\n",
       "    }\n",
       "\n",
       "    .dataframe tbody tr th {\n",
       "        vertical-align: top;\n",
       "    }\n",
       "\n",
       "    .dataframe thead th {\n",
       "        text-align: right;\n",
       "    }\n",
       "</style>\n",
       "<table border=\"1\" class=\"dataframe\">\n",
       "  <thead>\n",
       "    <tr style=\"text-align: right;\">\n",
       "      <th></th>\n",
       "      <th>country</th>\n",
       "      <th>score</th>\n",
       "    </tr>\n",
       "  </thead>\n",
       "  <tbody>\n",
       "    <tr>\n",
       "      <th>0</th>\n",
       "      <td>Finland</td>\n",
       "      <td>292</td>\n",
       "    </tr>\n",
       "    <tr>\n",
       "      <th>1</th>\n",
       "      <td>Russia</td>\n",
       "      <td>248</td>\n",
       "    </tr>\n",
       "    <tr>\n",
       "      <th>2</th>\n",
       "      <td>Bosnia &amp; Herzegovina</td>\n",
       "      <td>229</td>\n",
       "    </tr>\n",
       "    <tr>\n",
       "      <th>3</th>\n",
       "      <td>Romania</td>\n",
       "      <td>172</td>\n",
       "    </tr>\n",
       "    <tr>\n",
       "      <th>4</th>\n",
       "      <td>Sweden</td>\n",
       "      <td>170</td>\n",
       "    </tr>\n",
       "  </tbody>\n",
       "</table>\n",
       "</div>"
      ],
      "text/plain": [
       "                country  score\n",
       "0               Finland    292\n",
       "1                Russia    248\n",
       "2  Bosnia & Herzegovina    229\n",
       "3               Romania    172\n",
       "4                Sweden    170"
      ]
     },
     "execution_count": 28,
     "metadata": {},
     "output_type": "execute_result"
    }
   ],
   "source": [
    "# Who won in 2006\n",
    "df = pd.DataFrame( \n",
    "    gds.run_cypher(\"\"\"\n",
    "    MATCH (c:Country)<-[vote:VOTE_2006_JURY|VOTE_2006_PUBLIC]-()\n",
    "    RETURN c.name as country, sum(vote.weight) as score\n",
    "    ORDER BY score DESC LIMIT 5\n",
    "    \"\"\") \n",
    ")\n",
    "df.head()"
   ]
  },
  {
   "cell_type": "code",
   "execution_count": 29,
   "metadata": {},
   "outputs": [
    {
     "data": {
      "text/html": [
       "<div>\n",
       "<style scoped>\n",
       "    .dataframe tbody tr th:only-of-type {\n",
       "        vertical-align: middle;\n",
       "    }\n",
       "\n",
       "    .dataframe tbody tr th {\n",
       "        vertical-align: top;\n",
       "    }\n",
       "\n",
       "    .dataframe thead th {\n",
       "        text-align: right;\n",
       "    }\n",
       "</style>\n",
       "<table border=\"1\" class=\"dataframe\">\n",
       "  <thead>\n",
       "    <tr style=\"text-align: right;\">\n",
       "      <th></th>\n",
       "      <th>country-X</th>\n",
       "      <th>country-Y</th>\n",
       "      <th>votes</th>\n",
       "      <th>totalentries</th>\n",
       "    </tr>\n",
       "  </thead>\n",
       "  <tbody>\n",
       "    <tr>\n",
       "      <th>0</th>\n",
       "      <td>Norway</td>\n",
       "      <td>Sweden</td>\n",
       "      <td>34</td>\n",
       "      <td>42</td>\n",
       "    </tr>\n",
       "    <tr>\n",
       "      <th>1</th>\n",
       "      <td>Sweden</td>\n",
       "      <td>Denmark</td>\n",
       "      <td>27</td>\n",
       "      <td>33</td>\n",
       "    </tr>\n",
       "    <tr>\n",
       "      <th>2</th>\n",
       "      <td>Spain</td>\n",
       "      <td>Italy</td>\n",
       "      <td>22</td>\n",
       "      <td>25</td>\n",
       "    </tr>\n",
       "    <tr>\n",
       "      <th>3</th>\n",
       "      <td>Switzerland</td>\n",
       "      <td>Italy</td>\n",
       "      <td>21</td>\n",
       "      <td>25</td>\n",
       "    </tr>\n",
       "    <tr>\n",
       "      <th>4</th>\n",
       "      <td>Estonia</td>\n",
       "      <td>Russia</td>\n",
       "      <td>18</td>\n",
       "      <td>20</td>\n",
       "    </tr>\n",
       "  </tbody>\n",
       "</table>\n",
       "</div>"
      ],
      "text/plain": [
       "     country-X country-Y  votes  totalentries\n",
       "0       Norway    Sweden     34            42\n",
       "1       Sweden   Denmark     27            33\n",
       "2        Spain     Italy     22            25\n",
       "3  Switzerland     Italy     21            25\n",
       "4      Estonia    Russia     18            20"
      ]
     },
     "execution_count": 29,
     "metadata": {},
     "output_type": "execute_result"
    }
   ],
   "source": [
    "# Does country-X almost always vote for country-Y\n",
    "df = pd.DataFrame( \n",
    "    gds.run_cypher(\"\"\"\n",
    "    MATCH (target:Country)<-[r]-()\n",
    "    WHERE NOT type(r) IN ['SPLIT_INTO','WAS_RENAMED']\n",
    "    AND NOT type(r) CONTAINS 'PUBLIC'\n",
    "    WITH target, count(DISTINCT type(r)) AS totalentries\n",
    "    WHERE totalentries > 15\n",
    "    MATCH (target)<-[r]-(source:Country)\n",
    "    WHERE NOT type(r) IN ['SPLIT_INTO','WAS_RENAMED']\n",
    "    AND NOT type(r) CONTAINS 'PUBLIC'\n",
    "    WITH target, source, count(r) as votes, totalentries\n",
    "    WHERE votes > totalentries * 0.80\n",
    "    RETURN source.name AS `country-X`, target.name as `country-Y`, votes, totalentries ORDER BY totalentries+votes DESC\n",
    "    \"\"\") \n",
    ")\n",
    "df.head()"
   ]
  },
  {
   "cell_type": "code",
   "execution_count": 19,
   "metadata": {},
   "outputs": [
    {
     "data": {
      "text/html": [
       "<div>\n",
       "<style scoped>\n",
       "    .dataframe tbody tr th:only-of-type {\n",
       "        vertical-align: middle;\n",
       "    }\n",
       "\n",
       "    .dataframe tbody tr th {\n",
       "        vertical-align: top;\n",
       "    }\n",
       "\n",
       "    .dataframe thead th {\n",
       "        text-align: right;\n",
       "    }\n",
       "</style>\n",
       "<table border=\"1\" class=\"dataframe\">\n",
       "  <thead>\n",
       "    <tr style=\"text-align: right;\">\n",
       "      <th></th>\n",
       "      <th>avg(degree)</th>\n",
       "      <th>stDev(degree)</th>\n",
       "      <th>min(degree)</th>\n",
       "      <th>max(degree)</th>\n",
       "    </tr>\n",
       "  </thead>\n",
       "  <tbody>\n",
       "    <tr>\n",
       "      <th>0</th>\n",
       "      <td>252.185185</td>\n",
       "      <td>146.062286</td>\n",
       "      <td>0</td>\n",
       "      <td>470</td>\n",
       "    </tr>\n",
       "  </tbody>\n",
       "</table>\n",
       "</div>"
      ],
      "text/plain": [
       "   avg(degree)  stDev(degree)  min(degree)  max(degree)\n",
       "0   252.185185     146.062286            0          470"
      ]
     },
     "execution_count": 19,
     "metadata": {},
     "output_type": "execute_result"
    }
   ],
   "source": [
    "df = pd.DataFrame( \n",
    "    gds.run_cypher(\"\"\"\n",
    "    match (c:Country)-[*0..1]->()\n",
    "    with c, count(*)-1 as degree\n",
    "    return avg(degree), stDev(degree), min(degree), max(degree)\n",
    "    \"\"\") \n",
    ")\n",
    "df.head()"
   ]
  },
  {
   "cell_type": "code",
   "execution_count": 8,
   "metadata": {},
   "outputs": [
    {
     "data": {
      "text/html": [
       "<div>\n",
       "<style scoped>\n",
       "    .dataframe tbody tr th:only-of-type {\n",
       "        vertical-align: middle;\n",
       "    }\n",
       "\n",
       "    .dataframe tbody tr th {\n",
       "        vertical-align: top;\n",
       "    }\n",
       "\n",
       "    .dataframe thead th {\n",
       "        text-align: right;\n",
       "    }\n",
       "</style>\n",
       "<table border=\"1\" class=\"dataframe\">\n",
       "  <thead>\n",
       "    <tr style=\"text-align: right;\">\n",
       "      <th></th>\n",
       "      <th>year</th>\n",
       "      <th>numberOfVotes</th>\n",
       "    </tr>\n",
       "  </thead>\n",
       "  <tbody>\n",
       "    <tr>\n",
       "      <th>0</th>\n",
       "      <td>VOTE_2018_PUBLIC</td>\n",
       "      <td>10</td>\n",
       "    </tr>\n",
       "    <tr>\n",
       "      <th>1</th>\n",
       "      <td>VOTE_2018_JURY</td>\n",
       "      <td>10</td>\n",
       "    </tr>\n",
       "    <tr>\n",
       "      <th>2</th>\n",
       "      <td>VOTE_2017_PUBLIC</td>\n",
       "      <td>10</td>\n",
       "    </tr>\n",
       "    <tr>\n",
       "      <th>3</th>\n",
       "      <td>VOTE_2017_JURY</td>\n",
       "      <td>10</td>\n",
       "    </tr>\n",
       "    <tr>\n",
       "      <th>4</th>\n",
       "      <td>VOTE_2016_PUBLIC</td>\n",
       "      <td>10</td>\n",
       "    </tr>\n",
       "  </tbody>\n",
       "</table>\n",
       "</div>"
      ],
      "text/plain": [
       "               year  numberOfVotes\n",
       "0  VOTE_2018_PUBLIC             10\n",
       "1    VOTE_2018_JURY             10\n",
       "2  VOTE_2017_PUBLIC             10\n",
       "3    VOTE_2017_JURY             10\n",
       "4  VOTE_2016_PUBLIC             10"
      ]
     },
     "execution_count": 8,
     "metadata": {},
     "output_type": "execute_result"
    }
   ],
   "source": [
    "df = pd.DataFrame( \n",
    "    gds.run_cypher(\"\"\"\n",
    "    match (c:Country{name:\"Sweden\"})-[r]->()\n",
    "    return type(r) as year, count(*) as numberOfVotes order by year desc\n",
    "    \"\"\") \n",
    ")\n",
    "df.head()"
   ]
  },
  {
   "cell_type": "markdown",
   "metadata": {},
   "source": [
    "# Let's try out some algorithms\n",
    "Can we arrange syptoms based on diseases they share?"
   ]
  },
  {
   "cell_type": "code",
   "execution_count": 9,
   "metadata": {},
   "outputs": [
    {
     "data": {
      "text/plain": [
       "'Nodes: 54, Relationships 13618'"
      ]
     },
     "execution_count": 9,
     "metadata": {},
     "output_type": "execute_result"
    }
   ],
   "source": [
    "G1=gds.graph.project('p1',['Country'], '*')\n",
    "\n",
    "\"Nodes: {node_count}, Relationships {relationship_count}\".format(node_count=G1.node_count(), relationship_count=G1.relationship_count())"
   ]
  },
  {
   "cell_type": "code",
   "execution_count": 10,
   "metadata": {},
   "outputs": [
    {
     "data": {
      "text/plain": [
       "{'componentCount': 2,\n",
       " 'componentDistribution': {'p99': 53,\n",
       "  'min': 1,\n",
       "  'max': 53,\n",
       "  'mean': 27.0,\n",
       "  'p90': 53,\n",
       "  'p50': 1,\n",
       "  'p999': 53,\n",
       "  'p95': 53,\n",
       "  'p75': 53},\n",
       " 'postProcessingMillis': 17,\n",
       " 'preProcessingMillis': 0,\n",
       " 'computeMillis': 4,\n",
       " 'configuration': {'jobId': '76650f8c-1251-4a51-bae1-02bd27d5ccfd',\n",
       "  'seedProperty': None,\n",
       "  'consecutiveIds': False,\n",
       "  'threshold': 0.0,\n",
       "  'relationshipWeightProperty': None,\n",
       "  'nodeLabels': ['*'],\n",
       "  'sudo': False,\n",
       "  'relationshipTypes': ['*'],\n",
       "  'username': None,\n",
       "  'concurrency': 4}}"
      ]
     },
     "execution_count": 10,
     "metadata": {},
     "output_type": "execute_result"
    }
   ],
   "source": [
    "gds.wcc.stats(G1)"
   ]
  },
  {
   "cell_type": "code",
   "execution_count": 11,
   "metadata": {},
   "outputs": [
    {
     "data": {
      "text/plain": [
       "{'writeMillis': 14,\n",
       " 'nodePropertiesWritten': 54,\n",
       " 'componentCount': 2,\n",
       " 'componentDistribution': {'p99': 53,\n",
       "  'min': 1,\n",
       "  'max': 53,\n",
       "  'mean': 27.0,\n",
       "  'p90': 53,\n",
       "  'p50': 1,\n",
       "  'p999': 53,\n",
       "  'p95': 53,\n",
       "  'p75': 53},\n",
       " 'postProcessingMillis': 3,\n",
       " 'preProcessingMillis': 0,\n",
       " 'computeMillis': 1,\n",
       " 'configuration': {'jobId': '811f2607-9418-47c6-9942-9dd7d566674b',\n",
       "  'writeConcurrency': 4,\n",
       "  'seedProperty': None,\n",
       "  'consecutiveIds': False,\n",
       "  'writeProperty': 'wcc',\n",
       "  'threshold': 0.0,\n",
       "  'relationshipWeightProperty': None,\n",
       "  'nodeLabels': ['*'],\n",
       "  'sudo': False,\n",
       "  'relationshipTypes': ['*'],\n",
       "  'concurrency': 4,\n",
       "  'username': None}}"
      ]
     },
     "execution_count": 11,
     "metadata": {},
     "output_type": "execute_result"
    }
   ],
   "source": [
    "gds.wcc.write(G1, writeProperty = 'wcc')"
   ]
  },
  {
   "cell_type": "code",
   "execution_count": 24,
   "metadata": {},
   "outputs": [
    {
     "data": {
      "text/html": [
       "<div>\n",
       "<style scoped>\n",
       "    .dataframe tbody tr th:only-of-type {\n",
       "        vertical-align: middle;\n",
       "    }\n",
       "\n",
       "    .dataframe tbody tr th {\n",
       "        vertical-align: top;\n",
       "    }\n",
       "\n",
       "    .dataframe thead th {\n",
       "        text-align: right;\n",
       "    }\n",
       "</style>\n",
       "<table border=\"1\" class=\"dataframe\">\n",
       "  <thead>\n",
       "    <tr style=\"text-align: right;\">\n",
       "      <th></th>\n",
       "      <th>community</th>\n",
       "      <th>numberOfContries</th>\n",
       "      <th>countries</th>\n",
       "    </tr>\n",
       "  </thead>\n",
       "  <tbody>\n",
       "    <tr>\n",
       "      <th>0</th>\n",
       "      <td>29</td>\n",
       "      <td>1</td>\n",
       "      <td>[Macedonia]</td>\n",
       "    </tr>\n",
       "  </tbody>\n",
       "</table>\n",
       "</div>"
      ],
      "text/plain": [
       "   community  numberOfContries    countries\n",
       "0         29                 1  [Macedonia]"
      ]
     },
     "execution_count": 24,
     "metadata": {},
     "output_type": "execute_result"
    }
   ],
   "source": [
    "# What country ended up in its own community\n",
    "df = pd.DataFrame( \n",
    "    gds.run_cypher(\"\"\"\n",
    "    match (c:Country)\n",
    "    return c.wcc as community, count(*) as numberOfContries, collect(c.name) as countries order by numberOfContries asc limit 1\n",
    "    \"\"\") \n",
    ")\n",
    "df.head()"
   ]
  },
  {
   "cell_type": "code",
   "execution_count": 20,
   "metadata": {},
   "outputs": [],
   "source": [
    "G1.drop()"
   ]
  },
  {
   "cell_type": "code",
   "execution_count": 48,
   "metadata": {},
   "outputs": [
    {
     "data": {
      "text/plain": [
       "'Nodes: 54, Relationships 380'"
      ]
     },
     "execution_count": 48,
     "metadata": {},
     "output_type": "execute_result"
    }
   ],
   "source": [
    "G2=gds.graph.project('eurosong1975', ['Country'],  { 'VOTE_1975_JURY' : { 'orientation' : 'UNDIRECTED', 'properties' : 'weight'} } )\n",
    "\n",
    "\"Nodes: {node_count}, Relationships {relationship_count}\".format(node_count=G2.node_count(), relationship_count=G2.relationship_count())"
   ]
  },
  {
   "cell_type": "code",
   "execution_count": 57,
   "metadata": {},
   "outputs": [
    {
     "name": "stdout",
     "output_type": "stream",
     "text": [
      "eurosong1975\n"
     ]
    }
   ],
   "source": [
    "for data in gds.graph.list():\n",
    "    print(data['graphName'])"
   ]
  },
  {
   "cell_type": "code",
   "execution_count": 58,
   "metadata": {},
   "outputs": [],
   "source": [
    "G2.drop()"
   ]
  },
  {
   "cell_type": "code",
   "execution_count": 59,
   "metadata": {},
   "outputs": [
    {
     "data": {
      "text/plain": [
       "'Nodes: 19, Relationships 190'"
      ]
     },
     "execution_count": 59,
     "metadata": {},
     "output_type": "execute_result"
    }
   ],
   "source": [
    "G3=gds.graph.project.cypher('p3',\n",
    "    \"MATCH (c:Country) WHERE EXISTS ((c)-[:VOTE_1975_JURY]-()) RETURN id(c) as id, labels(c) as labels\",\n",
    "    \"MATCH (s:Country)-[r:VOTE_1975_JURY]->(t:Country) RETURN id(s) as source, id(t) as target, type(r) as type, r.weight as weight\"\n",
    ")\n",
    "\n",
    "\"Nodes: {node_count}, Relationships {relationship_count}\".format(node_count=G3.node_count(), relationship_count=G3.relationship_count())"
   ]
  },
  {
   "cell_type": "code",
   "execution_count": 101,
   "metadata": {},
   "outputs": [
    {
     "name": "stdout",
     "output_type": "stream",
     "text": [
      "[{'nodeId': 7, 'score': 0.39740946347719963}, {'nodeId': 15, 'score': 1.0916949933654156}, {'nodeId': 16, 'score': 1.55409585699309}, {'nodeId': 19, 'score': 0.3998001696389312}, {'nodeId': 23, 'score': 1.22489854059361}, {'nodeId': 24, 'score': 0.8307968158139223}, {'nodeId': 25, 'score': 1.5607873289409815}, {'nodeId': 28, 'score': 1.5005703716319114}, {'nodeId': 30, 'score': 0.6322088254874237}, {'nodeId': 32, 'score': 0.5005223050531183}, {'nodeId': 36, 'score': 0.3856788578741825}, {'nodeId': 38, 'score': 0.24920719587283077}, {'nodeId': 46, 'score': 0.8178099814417347}, {'nodeId': 47, 'score': 1.058184894726428}, {'nodeId': 48, 'score': 1.3527681523225832}, {'nodeId': 49, 'score': 2.1377518173086116}, {'nodeId': 50, 'score': 0.1718735836371804}, {'nodeId': 52, 'score': 1.9309394762027858}, {'nodeId': 53, 'score': 0.46657027901228687}]\n"
     ]
    }
   ],
   "source": [
    "df_rank = gds.pageRank.stream(G3, \n",
    "    maxIterations = 20,\n",
    "    dampingFactor= 0.85,\n",
    "    relationshipWeightProperty = \"weight\"\n",
    ")\n",
    "\n",
    "print(df_rank)\n",
    "\n",
    "\n"
   ]
  },
  {
   "cell_type": "code",
   "execution_count": 104,
   "metadata": {},
   "outputs": [
    {
     "data": {
      "text/html": [
       "<div>\n",
       "<style scoped>\n",
       "    .dataframe tbody tr th:only-of-type {\n",
       "        vertical-align: middle;\n",
       "    }\n",
       "\n",
       "    .dataframe tbody tr th {\n",
       "        vertical-align: top;\n",
       "    }\n",
       "\n",
       "    .dataframe thead th {\n",
       "        text-align: right;\n",
       "    }\n",
       "</style>\n",
       "<table border=\"1\" class=\"dataframe\">\n",
       "  <thead>\n",
       "    <tr style=\"text-align: right;\">\n",
       "      <th></th>\n",
       "      <th>c.name</th>\n",
       "      <th>x.nodeId</th>\n",
       "      <th>x.score</th>\n",
       "    </tr>\n",
       "  </thead>\n",
       "  <tbody>\n",
       "    <tr>\n",
       "      <th>0</th>\n",
       "      <td>The Netherlands</td>\n",
       "      <td>49</td>\n",
       "      <td>2.137752</td>\n",
       "    </tr>\n",
       "    <tr>\n",
       "      <th>1</th>\n",
       "      <td>United Kingdom</td>\n",
       "      <td>52</td>\n",
       "      <td>1.930939</td>\n",
       "    </tr>\n",
       "    <tr>\n",
       "      <th>2</th>\n",
       "      <td>Italy</td>\n",
       "      <td>25</td>\n",
       "      <td>1.560787</td>\n",
       "    </tr>\n",
       "    <tr>\n",
       "      <th>3</th>\n",
       "      <td>France</td>\n",
       "      <td>16</td>\n",
       "      <td>1.554096</td>\n",
       "    </tr>\n",
       "    <tr>\n",
       "      <th>4</th>\n",
       "      <td>Luxembourg</td>\n",
       "      <td>28</td>\n",
       "      <td>1.500570</td>\n",
       "    </tr>\n",
       "    <tr>\n",
       "      <th>5</th>\n",
       "      <td>Switzerland</td>\n",
       "      <td>48</td>\n",
       "      <td>1.352768</td>\n",
       "    </tr>\n",
       "    <tr>\n",
       "      <th>6</th>\n",
       "      <td>Ireland</td>\n",
       "      <td>23</td>\n",
       "      <td>1.224899</td>\n",
       "    </tr>\n",
       "    <tr>\n",
       "      <th>7</th>\n",
       "      <td>Finland</td>\n",
       "      <td>15</td>\n",
       "      <td>1.091695</td>\n",
       "    </tr>\n",
       "    <tr>\n",
       "      <th>8</th>\n",
       "      <td>Sweden</td>\n",
       "      <td>47</td>\n",
       "      <td>1.058185</td>\n",
       "    </tr>\n",
       "    <tr>\n",
       "      <th>9</th>\n",
       "      <td>Israel</td>\n",
       "      <td>24</td>\n",
       "      <td>0.830797</td>\n",
       "    </tr>\n",
       "  </tbody>\n",
       "</table>\n",
       "</div>"
      ],
      "text/plain": [
       "            c.name  x.nodeId   x.score\n",
       "0  The Netherlands        49  2.137752\n",
       "1   United Kingdom        52  1.930939\n",
       "2            Italy        25  1.560787\n",
       "3           France        16  1.554096\n",
       "4       Luxembourg        28  1.500570\n",
       "5      Switzerland        48  1.352768\n",
       "6          Ireland        23  1.224899\n",
       "7          Finland        15  1.091695\n",
       "8           Sweden        47  1.058185\n",
       "9           Israel        24  0.830797"
      ]
     },
     "execution_count": 104,
     "metadata": {},
     "output_type": "execute_result"
    }
   ],
   "source": [
    "df = pd.DataFrame( \n",
    "    gds.run_cypher(\n",
    "        \"\"\"\n",
    "            unwind $p as x\n",
    "            match (c:Country) where id(c) = x.nodeId\n",
    "            return c.name, x.nodeId, x.score order by x.score desc\n",
    "        \"\"\", params = { 'p' : df_rank }) \n",
    ")\n",
    "df.head(10)"
   ]
  },
  {
   "cell_type": "code",
   "execution_count": null,
   "metadata": {},
   "outputs": [],
   "source": [
    "G3.drop()"
   ]
  }
 ],
 "metadata": {
  "interpreter": {
   "hash": "fa400fa1c59917a64ff3ea5ee959182f074bbc1e9a041e09cb658d2479256db7"
  },
  "kernelspec": {
   "display_name": "Python 3.7.3 64-bit ('venv': venv)",
   "name": "python3"
  },
  "language_info": {
   "codemirror_mode": {
    "name": "ipython",
    "version": 3
   },
   "file_extension": ".py",
   "mimetype": "text/x-python",
   "name": "python",
   "nbconvert_exporter": "python",
   "pygments_lexer": "ipython3",
   "version": "3.9.10"
  }
 },
 "nbformat": 4,
 "nbformat_minor": 4
}
