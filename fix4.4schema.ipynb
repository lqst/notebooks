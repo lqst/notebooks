{
 "cells": [
  {
   "cell_type": "code",
   "execution_count": null,
   "metadata": {},
   "outputs": [],
   "source": [
    "\n",
    "DB_ULR = \"neo4j://localhost:7687\"\n",
    "DB_USER = \"neo4j\"\n",
    "DB_PASS = \"test1234\""
   ]
  },
  {
   "cell_type": "markdown",
   "metadata": {},
   "source": [
    "# Create driver\n",
    "Also set the DB_NAME"
   ]
  },
  {
   "cell_type": "code",
   "execution_count": null,
   "metadata": {},
   "outputs": [],
   "source": [
    "import os\n",
    "import pandas as pd\n",
    "import numpy as np\n",
    "from graphdatascience import GraphDataScience # Python GDS client"
   ]
  },
  {
   "cell_type": "code",
   "execution_count": null,
   "metadata": {},
   "outputs": [],
   "source": [
    "gds = GraphDataScience(DB_ULR, auth=(DB_USER, DB_PASS))"
   ]
  },
  {
   "cell_type": "code",
   "execution_count": null,
   "metadata": {},
   "outputs": [],
   "source": [
    "# Get a list of all databases (except system and fabric)\n",
    "gds.set_database(\"system\")\n",
    "databases = gds.run_cypher(\"show databases yield name where name <> 'fabric' and name <> 'system' return name\")\n",
    "databases"
   ]
  },
  {
   "cell_type": "code",
   "execution_count": null,
   "metadata": {},
   "outputs": [],
   "source": [
    "# Drop my failed indexes and constraints\n",
    "# for database in databases[\"name\"]:\n",
    "#     print(database)\n",
    "#     gds.set_database(database)\n",
    "#     indexes = gds.run_cypher(\"\"\"\n",
    "#         show indexes yield name, type, labelsOrTypes, properties, uniqueness, createStatement\n",
    "#         where type = \"RANGE\" and (uniqueness = \"UNIQUE\" or uniqueness = \"NONUNIQUE\")\n",
    "#         return name, type, labelsOrTypes, properties, uniqueness, createStatement\n",
    "#     \"\"\")\n",
    "#     for index in indexes[ indexes['uniqueness'] == 'UNIQUE' ] [['name','uniqueness']].to_dict('records'):\n",
    "#         gds.run_cypher(\"drop constraint {name}\".format(name = index[\"name\"]))\n",
    "#     for index in indexes[ indexes['uniqueness'] == 'NONUNIQUE' ] [['name','uniqueness']].to_dict('records'):\n",
    "#          gds.run_cypher(\"drop index {name}\".format(name = index[\"name\"]))"
   ]
  },
  {
   "cell_type": "code",
   "execution_count": null,
   "metadata": {},
   "outputs": [],
   "source": [
    "# Create indexes and constraints needed for migrating to neo4j 5\n",
    "for database in databases[\"name\"]:\n",
    "    print(database)\n",
    "    gds.set_database(database)\n",
    "    indexes = gds.run_cypher(\"\"\"\n",
    "        show indexes yield name, type, labelsOrTypes, properties, uniqueness, createStatement\n",
    "        where type = \"BTREE\" and (uniqueness = \"UNIQUE\" or uniqueness = \"NONUNIQUE\")\n",
    "        return name, type, labelsOrTypes, properties, uniqueness, createStatement\n",
    "    \"\"\")\n",
    "    for index in indexes[ indexes['uniqueness'] == 'UNIQUE' ] [['name','uniqueness', 'labelsOrTypes', 'createStatement', 'properties']].to_dict('records'):\n",
    "        if 'NODE KEY' in index['createStatement']:\n",
    "            gds.run_cypher(\"CREATE CONSTRAINT IF NOT EXISTS FOR (n:{label}) REQUIRE ({properties}) IS NODE KEY OPTIONS {{indexProvider: 'range-1.0'}}\".format(\n",
    "                label = index[\"labelsOrTypes\"][0],\n",
    "                properties = ','.join([ 'n.' + i for i in index['properties'] ])\n",
    "            )) \n",
    "        else:\n",
    "            gds.run_cypher(\"CREATE CONSTRAINT IF NOT EXISTS FOR (n:{label}) REQUIRE ({properties}) IS UNIQUE OPTIONS {{indexProvider: 'range-1.0'}}\".format(\n",
    "                label = index[\"labelsOrTypes\"][0],\n",
    "                properties = ','.join([ 'n.' + i for i in index['properties'] ])\n",
    "            )) \n",
    "    for index in indexes[ indexes['uniqueness'] != 'UNIQUE' ] [['name','uniqueness', 'labelsOrTypes', 'createStatement', 'properties']].to_dict('records'):\n",
    "        gds.run_cypher(\"CREATE INDEX IF NOT EXISTS FOR (n:{label}) ON ({properties})\".format(\n",
    "                label = index[\"labelsOrTypes\"][0],\n",
    "                properties = ','.join([ 'n.' + i for i in index['properties'] ])\n",
    "            )) "
   ]
  },
  {
   "cell_type": "code",
   "execution_count": null,
   "metadata": {},
   "outputs": [],
   "source": []
  }
 ],
 "metadata": {
  "kernelspec": {
   "display_name": "Python 3.9.13 ('notebooks')",
   "language": "python",
   "name": "python3"
  },
  "language_info": {
   "codemirror_mode": {
    "name": "ipython",
    "version": 3
   },
   "file_extension": ".py",
   "mimetype": "text/x-python",
   "name": "python",
   "nbconvert_exporter": "python",
   "pygments_lexer": "ipython3",
   "version": "3.9.13"
  },
  "vscode": {
   "interpreter": {
    "hash": "c68434ca16130d73e64183f54aeda16ecffce872c062f16976fd0d983519d848"
   }
  }
 },
 "nbformat": 4,
 "nbformat_minor": 4
}
