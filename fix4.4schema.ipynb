{
 "cells": [
  {
   "cell_type": "code",
   "execution_count": 1,
   "metadata": {},
   "outputs": [],
   "source": [
    "# My very secret database credentials\n",
    "DB_ULR = \"neo4j://localhost:7687\"\n",
    "DB_USER = \"neo4j\"\n",
    "DB_PASS = \"test1234\""
   ]
  },
  {
   "cell_type": "code",
   "execution_count": 2,
   "metadata": {},
   "outputs": [],
   "source": [
    "import os\n",
    "import pandas as pd\n",
    "import numpy as np\n",
    "from graphdatascience import GraphDataScience # Python GDS client"
   ]
  },
  {
   "cell_type": "code",
   "execution_count": 3,
   "metadata": {},
   "outputs": [],
   "source": [
    "gds = GraphDataScience(DB_ULR, auth=(DB_USER, DB_PASS))"
   ]
  },
  {
   "cell_type": "code",
   "execution_count": 6,
   "metadata": {},
   "outputs": [
    {
     "data": {
      "text/html": [
       "<div>\n",
       "<style scoped>\n",
       "    .dataframe tbody tr th:only-of-type {\n",
       "        vertical-align: middle;\n",
       "    }\n",
       "\n",
       "    .dataframe tbody tr th {\n",
       "        vertical-align: top;\n",
       "    }\n",
       "\n",
       "    .dataframe thead th {\n",
       "        text-align: right;\n",
       "    }\n",
       "</style>\n",
       "<table border=\"1\" class=\"dataframe\">\n",
       "  <thead>\n",
       "    <tr style=\"text-align: right;\">\n",
       "      <th></th>\n",
       "      <th>name</th>\n",
       "    </tr>\n",
       "  </thead>\n",
       "  <tbody>\n",
       "    <tr>\n",
       "      <th>0</th>\n",
       "      <td>demo</td>\n",
       "    </tr>\n",
       "    <tr>\n",
       "      <th>1</th>\n",
       "      <td>movies</td>\n",
       "    </tr>\n",
       "    <tr>\n",
       "      <th>2</th>\n",
       "      <td>neo4j</td>\n",
       "    </tr>\n",
       "    <tr>\n",
       "      <th>3</th>\n",
       "      <td>newyork</td>\n",
       "    </tr>\n",
       "  </tbody>\n",
       "</table>\n",
       "</div>"
      ],
      "text/plain": [
       "      name\n",
       "0     demo\n",
       "1   movies\n",
       "2    neo4j\n",
       "3  newyork"
      ]
     },
     "execution_count": 6,
     "metadata": {},
     "output_type": "execute_result"
    }
   ],
   "source": [
    "# Get a list of all databases (except system and fabric)\n",
    "gds.set_database(\"system\")\n",
    "databases = gds.run_cypher(\"show databases yield name, currentStatus where name <> 'fabric' and name <> 'system' and currentStatus = 'online' return name\")\n",
    "databases"
   ]
  },
  {
   "cell_type": "code",
   "execution_count": null,
   "metadata": {},
   "outputs": [],
   "source": [
    "# Drop my failed indexes and constraints\n",
    "# for database in databases[\"name\"]:\n",
    "#     print(database)\n",
    "#     gds.set_database(database)\n",
    "#     indexes = gds.run_cypher(\"\"\"\n",
    "#         show indexes yield name, type, labelsOrTypes, properties, uniqueness, createStatement\n",
    "#         where type = \"RANGE\" and (uniqueness = \"UNIQUE\" or uniqueness = \"NONUNIQUE\")\n",
    "#         return name, type, labelsOrTypes, properties, uniqueness, createStatement\n",
    "#     \"\"\")\n",
    "#     for index in indexes[ indexes['uniqueness'] == 'UNIQUE' ] [['name','uniqueness']].to_dict('records'):\n",
    "#         gds.run_cypher(\"drop constraint {name}\".format(name = index[\"name\"]))\n",
    "#     for index in indexes[ indexes['uniqueness'] == 'NONUNIQUE' ] [['name','uniqueness']].to_dict('records'):\n",
    "#          gds.run_cypher(\"drop index {name}\".format(name = index[\"name\"]))"
   ]
  },
  {
   "cell_type": "code",
   "execution_count": 17,
   "metadata": {},
   "outputs": [
    {
     "name": "stdout",
     "output_type": "stream",
     "text": [
      "demo\n",
      "movies\n",
      "neo4j\n",
      "newyork\n"
     ]
    }
   ],
   "source": [
    "# Todo: Make it work if relationship indexes are present\n",
    "# Create indexes and constraints needed for migrating to neo4j 5\n",
    "for database in databases[\"name\"]:\n",
    "    print(database)\n",
    "    gds.set_database(database)\n",
    "    indexes = gds.run_cypher(\"\"\"\n",
    "        show indexes yield name, entityType, type, labelsOrTypes, properties, uniqueness, createStatement\n",
    "        where entityType = \"NODE\" and type = \"BTREE\" and (uniqueness = \"UNIQUE\" or uniqueness = \"NONUNIQUE\")\n",
    "        return name, type, labelsOrTypes, properties, uniqueness, createStatement\n",
    "    \"\"\")\n",
    "    for index in indexes[ indexes['uniqueness'] == 'UNIQUE' ] [['name','uniqueness', 'labelsOrTypes', 'createStatement', 'properties']].to_dict('records'):\n",
    "        if 'NODE KEY' in index['createStatement']:\n",
    "            gds.run_cypher(\"CREATE CONSTRAINT IF NOT EXISTS FOR (n:{label}) REQUIRE ({properties}) IS NODE KEY OPTIONS {{indexProvider: 'range-1.0'}}\".format(\n",
    "                label = index[\"labelsOrTypes\"][0],\n",
    "                properties = ','.join([ 'n.' + i for i in index['properties'] ])\n",
    "            )) \n",
    "        else:\n",
    "            gds.run_cypher(\"CREATE CONSTRAINT IF NOT EXISTS FOR (n:{label}) REQUIRE ({properties}) IS UNIQUE OPTIONS {{indexProvider: 'range-1.0'}}\".format(\n",
    "                label = index[\"labelsOrTypes\"][0],\n",
    "                properties = ','.join([ 'n.' + i for i in index['properties'] ])\n",
    "            )) \n",
    "    for index in indexes[ indexes['uniqueness'] != 'UNIQUE' ] [['name','uniqueness', 'labelsOrTypes', 'createStatement', 'properties']].to_dict('records'):\n",
    "        gds.run_cypher(\"CREATE RANGE INDEX IF NOT EXISTS FOR (n:{label}) ON ({properties})\".format(\n",
    "                label = index[\"labelsOrTypes\"][0],\n",
    "                properties = ','.join([ 'n.' + i for i in index['properties'] ])\n",
    "            )) "
   ]
  },
  {
   "cell_type": "code",
   "execution_count": 16,
   "metadata": {},
   "outputs": [
    {
     "data": {
      "text/plain": [
       "['newyork']"
      ]
     },
     "execution_count": 16,
     "metadata": {},
     "output_type": "execute_result"
    }
   ],
   "source": [
    "# List of databases that have relationship indexes (will need manual intervention for now)\n",
    "databases_with_rel_index = [];\n",
    "for database in databases[\"name\"]:\n",
    "    gds.set_database(database)\n",
    "    indexes = gds.run_cypher(\"\"\"\n",
    "        show indexes yield name, entityType, type, labelsOrTypes, properties, uniqueness, createStatement\n",
    "        where entityType = \"RELATIONSHIP\" and type = \"BTREE\" and (uniqueness = \"UNIQUE\" or uniqueness = \"NONUNIQUE\")\n",
    "        return name, type, labelsOrTypes, properties, uniqueness, createStatement\n",
    "    \"\"\")\n",
    "    if indexes.shape[0] > 0:\n",
    "        databases_with_rel_index.append(database)\n",
    "\n",
    "databases_with_rel_index"
   ]
  },
  {
   "cell_type": "code",
   "execution_count": null,
   "metadata": {},
   "outputs": [],
   "source": []
  }
 ],
 "metadata": {
  "kernelspec": {
   "display_name": "Python 3.9.13 ('notebooks')",
   "language": "python",
   "name": "python3"
  },
  "language_info": {
   "codemirror_mode": {
    "name": "ipython",
    "version": 3
   },
   "file_extension": ".py",
   "mimetype": "text/x-python",
   "name": "python",
   "nbconvert_exporter": "python",
   "pygments_lexer": "ipython3",
   "version": "3.9.13"
  },
  "vscode": {
   "interpreter": {
    "hash": "c68434ca16130d73e64183f54aeda16ecffce872c062f16976fd0d983519d848"
   }
  }
 },
 "nbformat": 4,
 "nbformat_minor": 4
}
