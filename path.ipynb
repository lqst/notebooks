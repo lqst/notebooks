{
 "cells": [
  {
   "cell_type": "code",
   "execution_count": 1,
   "metadata": {},
   "outputs": [],
   "source": [
    "\n",
    "DB_ULR = \"neo4j://localhost:7687\"\n",
    "DB_USER = \"neo4j\"\n",
    "DB_PASS = \"test1234\"\n",
    "DB_NAME = \"opensanctions\""
   ]
  },
  {
   "cell_type": "markdown",
   "metadata": {},
   "source": [
    "# Create driver\n",
    "Also set the DB_NAME"
   ]
  },
  {
   "cell_type": "code",
   "execution_count": 39,
   "metadata": {},
   "outputs": [],
   "source": [
    "import os\n",
    "import pandas as pd\n",
    "from graphdatascience import GraphDataScience # Python GDS client\n",
    "import numpy as np\n",
    "import threading\n",
    "import multiprocessing\n",
    "\n",
    "# And some cermony to create the driver and gds objects´\n",
    "gds = GraphDataScience(DB_ULR, auth=(DB_USER, DB_PASS))\n",
    "gds.set_database(DB_NAME)"
   ]
  },
  {
   "cell_type": "code",
   "execution_count": 12,
   "metadata": {},
   "outputs": [
    {
     "data": {
      "text/html": [
       "<div>\n",
       "<style scoped>\n",
       "    .dataframe tbody tr th:only-of-type {\n",
       "        vertical-align: middle;\n",
       "    }\n",
       "\n",
       "    .dataframe tbody tr th {\n",
       "        vertical-align: top;\n",
       "    }\n",
       "\n",
       "    .dataframe thead th {\n",
       "        text-align: right;\n",
       "    }\n",
       "</style>\n",
       "<table border=\"1\" class=\"dataframe\">\n",
       "  <thead>\n",
       "    <tr style=\"text-align: right;\">\n",
       "      <th></th>\n",
       "      <th>nodeProjection</th>\n",
       "      <th>relationshipProjection</th>\n",
       "      <th>graphName</th>\n",
       "      <th>nodeCount</th>\n",
       "      <th>relationshipCount</th>\n",
       "      <th>projectMillis</th>\n",
       "    </tr>\n",
       "  </thead>\n",
       "  <tbody>\n",
       "    <tr>\n",
       "      <th>0</th>\n",
       "      <td>{'__ALL__': {'label': '*', 'properties': {}}}</td>\n",
       "      <td>{'HAS_IDENTIFIER': {'orientation': 'UNDIRECTED...</td>\n",
       "      <td>test</td>\n",
       "      <td>2409145</td>\n",
       "      <td>7361736</td>\n",
       "      <td>283</td>\n",
       "    </tr>\n",
       "  </tbody>\n",
       "</table>\n",
       "</div>"
      ],
      "text/plain": [
       "                                  nodeProjection  \\\n",
       "0  {'__ALL__': {'label': '*', 'properties': {}}}   \n",
       "\n",
       "                              relationshipProjection graphName  nodeCount  \\\n",
       "0  {'HAS_IDENTIFIER': {'orientation': 'UNDIRECTED...      test    2409145   \n",
       "\n",
       "   relationshipCount  projectMillis  \n",
       "0            7361736            283  "
      ]
     },
     "execution_count": 12,
     "metadata": {},
     "output_type": "execute_result"
    }
   ],
   "source": [
    "gds.run_cypher(\n",
    "    \"\"\" \n",
    "    CALL gds.graph.project('test','*',\n",
    "        {\n",
    "            HAS_IDENTIFIER: {orientation: 'UNDIRECTED'},\n",
    "            ENTITY: {orientation: 'UNDIRECTED'},\n",
    "            HAS_NAME: {orientation: 'UNDIRECTED'},\n",
    "            ADDRESS_ENTITY: {orientation: 'UNDIRECTED'},\n",
    "            UNKNOWN_LINK: {orientation: 'UNDIRECTED'},\n",
    "            OWNERSHIP: {orientation: 'UNDIRECTED'},\n",
    "            HAS_PHONE: {orientation: 'UNDIRECTED'},\n",
    "            HAS_EMAIL: {orientation: 'UNDIRECTED'},\n",
    "            OWNER: {orientation: 'UNDIRECTED'},\n",
    "            DIRECTORSHIP: {orientation: 'UNDIRECTED'},\n",
    "            REPRESENTATION: {orientation: 'UNDIRECTED'},\n",
    "            HOLDER: {orientation: 'UNDIRECTED'},\n",
    "            MEMBERSHIP: {orientation: 'UNDIRECTED'},\n",
    "            ISSUER: {orientation: 'UNDIRECTED'},\n",
    "            FAMILY: {orientation: 'UNDIRECTED'},\n",
    "            ASSOCIATE: {orientation: 'UNDIRECTED'}\n",
    "        }\n",
    "    )\n",
    "    \"\"\"\n",
    ")"
   ]
  },
  {
   "cell_type": "code",
   "execution_count": 40,
   "metadata": {},
   "outputs": [],
   "source": [
    "G = gds.graph.get('test');"
   ]
  },
  {
   "cell_type": "code",
   "execution_count": 20,
   "metadata": {},
   "outputs": [],
   "source": [
    "politicians = gds.run_cypher(\"MATCH (p:Politician) return id(p) as id\")"
   ]
  },
  {
   "cell_type": "code",
   "execution_count": 22,
   "metadata": {},
   "outputs": [
    {
     "data": {
      "text/html": [
       "<div>\n",
       "<style scoped>\n",
       "    .dataframe tbody tr th:only-of-type {\n",
       "        vertical-align: middle;\n",
       "    }\n",
       "\n",
       "    .dataframe tbody tr th {\n",
       "        vertical-align: top;\n",
       "    }\n",
       "\n",
       "    .dataframe thead th {\n",
       "        text-align: right;\n",
       "    }\n",
       "</style>\n",
       "<table border=\"1\" class=\"dataframe\">\n",
       "  <thead>\n",
       "    <tr style=\"text-align: right;\">\n",
       "      <th></th>\n",
       "      <th>id</th>\n",
       "    </tr>\n",
       "  </thead>\n",
       "  <tbody>\n",
       "    <tr>\n",
       "      <th>0</th>\n",
       "      <td>3365985</td>\n",
       "    </tr>\n",
       "    <tr>\n",
       "      <th>1</th>\n",
       "      <td>3366214</td>\n",
       "    </tr>\n",
       "    <tr>\n",
       "      <th>2</th>\n",
       "      <td>3366282</td>\n",
       "    </tr>\n",
       "    <tr>\n",
       "      <th>3</th>\n",
       "      <td>3366356</td>\n",
       "    </tr>\n",
       "    <tr>\n",
       "      <th>4</th>\n",
       "      <td>3366460</td>\n",
       "    </tr>\n",
       "  </tbody>\n",
       "</table>\n",
       "</div>"
      ],
      "text/plain": [
       "        id\n",
       "0  3365985\n",
       "1  3366214\n",
       "2  3366282\n",
       "3  3366356\n",
       "4  3366460"
      ]
     },
     "execution_count": 22,
     "metadata": {},
     "output_type": "execute_result"
    }
   ],
   "source": [
    "politicians.head()"
   ]
  },
  {
   "cell_type": "code",
   "execution_count": 42,
   "metadata": {},
   "outputs": [
    {
     "data": {
      "text/plain": [
       "10"
      ]
     },
     "execution_count": 42,
     "metadata": {},
     "output_type": "execute_result"
    }
   ],
   "source": [
    "nthreads = multiprocessing.cpu_count()\n",
    "nthreads"
   ]
  },
  {
   "cell_type": "code",
   "execution_count": 43,
   "metadata": {},
   "outputs": [],
   "source": [
    "chunks = np.array_split(politicians, nthreads)\n",
    "all_threads = []"
   ]
  },
  {
   "cell_type": "code",
   "execution_count": 47,
   "metadata": {},
   "outputs": [],
   "source": [
    "def worker(chunk, result):\n",
    "    paths= gds.run_cypher(\n",
    "        \"\"\" \n",
    "        MATCH (p:Politician) where id(p) in $ids\n",
    "        with p\n",
    "        call {\n",
    "            with p\n",
    "            CALL gds.allShortestPaths.dijkstra.stream('test', {\n",
    "            sourceNode: p\n",
    "            })\n",
    "            YIELD index, targetNode, totalCost, path\n",
    "            with index, totalCost, path, gds.util.asNode(targetNode) as target\n",
    "            where target:SanctionedEntity\n",
    "            RETURN\n",
    "                index,\n",
    "                target,\n",
    "                totalCost,\n",
    "                path\n",
    "            LIMIT 1\n",
    "        }\n",
    "        return count(*)\n",
    "        \"\"\",\n",
    "        params = { 'ids' : chunk['id'].to_list()  }\n",
    "    )\n",
    "    result = pd.concat([result,paths], axis=0)"
   ]
  },
  {
   "cell_type": "code",
   "execution_count": 48,
   "metadata": {},
   "outputs": [
    {
     "name": "stderr",
     "output_type": "stream",
     "text": [
      "Exception in thread Thread-14:\n",
      "Traceback (most recent call last):\n",
      "  File \"/opt/homebrew/Caskroom/miniforge/base/envs/notebooks/lib/python3.9/threading.py\", line 980, in _bootstrap_inner\n",
      "    self.run()\n",
      "  File \"/opt/homebrew/Caskroom/miniforge/base/envs/notebooks/lib/python3.9/threading.py\", line 917, in run\n",
      "    self._target(*self._args, **self._kwargs)\n",
      "  File \"/var/folders/71/lgz4464j18s5g22_s_lm696m0000gn/T/ipykernel_11106/23028501.py\", line 25, in worker\n",
      "  File \"/opt/homebrew/Caskroom/miniforge/base/envs/notebooks/lib/python3.9/site-packages/pandas/core/generic.py\", line 5583, in __getattr__\n",
      "    return object.__getattribute__(self, name)\n",
      "AttributeError: 'DataFrame' object has no attribute 'concat'\n"
     ]
    }
   ],
   "source": [
    "result = pd.DataFrame()\n",
    "for chunk in chunks:\n",
    "    thread = threading.Thread(target=worker, args=(chunk, result))\n",
    "    all_threads.append(thread)\n",
    "    thread.start()\n",
    "\n",
    "for thread in all_threads:\n",
    "    thread.join()"
   ]
  },
  {
   "cell_type": "code",
   "execution_count": null,
   "metadata": {},
   "outputs": [],
   "source": []
  }
 ],
 "metadata": {
  "kernelspec": {
   "display_name": "Python 3.9.13 ('notebooks')",
   "language": "python",
   "name": "python3"
  },
  "language_info": {
   "codemirror_mode": {
    "name": "ipython",
    "version": 3
   },
   "file_extension": ".py",
   "mimetype": "text/x-python",
   "name": "python",
   "nbconvert_exporter": "python",
   "pygments_lexer": "ipython3",
   "version": "3.9.13"
  },
  "vscode": {
   "interpreter": {
    "hash": "c68434ca16130d73e64183f54aeda16ecffce872c062f16976fd0d983519d848"
   }
  }
 },
 "nbformat": 4,
 "nbformat_minor": 4
}
