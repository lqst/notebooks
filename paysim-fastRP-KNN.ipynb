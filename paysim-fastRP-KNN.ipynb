{
 "cells": [
  {
   "cell_type": "markdown",
   "metadata": {},
   "source": [
    "*prep*\n",
    "```cypher\n",
    "// Create monopartite graph\n",
    "MATCH (c:Client)-[:PERFORMED]->(t:Transaction)-[:TO]->(oc:Client)\n",
    "with c, oc, sum(t.amount) AS weight\n",
    "CREATE (c)-[:PAYS{amount: weight}]->(oc);\n",
    "```"
   ]
  },
  {
   "cell_type": "code",
   "execution_count": 1,
   "metadata": {},
   "outputs": [],
   "source": [
    "from neo4j import GraphDatabase\n",
    "from gdsclient import Neo4jQueryRunner, GraphDataScience"
   ]
  },
  {
   "cell_type": "code",
   "execution_count": 2,
   "metadata": {},
   "outputs": [],
   "source": [
    "driver = GraphDatabase.driver(\"bolt://localhost:7687\", auth=(\"neo4j\", \"test1234\"), encrypted=False)\n",
    "runner = Neo4jQueryRunner(driver)\n",
    "gds = GraphDataScience(runner)"
   ]
  },
  {
   "cell_type": "code",
   "execution_count": 3,
   "metadata": {},
   "outputs": [],
   "source": [
    "def createGraphProjection(tx):\n",
    "    return tx.run(\n",
    "        \"\"\"CALL gds.graph.create(\n",
    "            'payment', \n",
    "            'Client', \n",
    "            { PAYS: { type: 'PAYS', orientation:'UNDIRECTED'}}, \n",
    "            {\n",
    "                nodeProperties: { },\n",
    "                relationshipProperties: {amount: { property: 'amount', aggregation: 'NONE', defaultValue: 0.0 }}\n",
    "            }\n",
    "        )\"\"\"\n",
    "    ).consume()"
   ]
  },
  {
   "cell_type": "code",
   "execution_count": 4,
   "metadata": {},
   "outputs": [],
   "source": [
    "def runFastRP(tx): \n",
    "    return tx.run(\n",
    "        \"\"\"CALL gds.fastRP.mutate(\n",
    "            'payment', \n",
    "            {\n",
    "                embeddingDimension: 8,\n",
    "                iterationWeights: [0.0, 0.20, 0.40, 0.60, 0.80, 1.00, 1.20, 1.40, 1.60, 1.80, 2.00],\n",
    "                relationshipWeightProperty: 'amount',\n",
    "                mutateProperty:'fastRP'\n",
    "            }\n",
    "            )\"\"\"\n",
    "    ).consume()    "
   ]
  },
  {
   "cell_type": "code",
   "execution_count": 5,
   "metadata": {},
   "outputs": [],
   "source": [
    "def writeEmbedding(tx):\n",
    "    return tx.run(\n",
    "        \"\"\"\n",
    "        CALL gds.graph.writeNodeProperties('payment', ['fastRP'])\n",
    "        \"\"\"\n",
    "    ).consume()"
   ]
  },
  {
   "cell_type": "code",
   "execution_count": 6,
   "metadata": {},
   "outputs": [],
   "source": [
    "def runKNN(tx):\n",
    "    return tx.run(\n",
    "        \"\"\"\n",
    "        CALL gds.beta.knn.write('payment', \n",
    "        {\n",
    "            writeRelationshipType: 'SIMILAR_EMBEDDING',\n",
    "            writeProperty: 'score',\n",
    "            topK: 5,\n",
    "            randomSeed: 42,\n",
    "            nodeWeightProperty: 'fastRP'\n",
    "        }) YIELD nodesCompared, relationshipsWritten\n",
    "        \"\"\"\n",
    "    ).consume()"
   ]
  },
  {
   "cell_type": "code",
   "execution_count": 7,
   "metadata": {},
   "outputs": [],
   "source": [
    "def dropGraphProjection(tx):\n",
    "    return tx.run(\"CALL gds.graph.drop('payment')\").consume()"
   ]
  },
  {
   "cell_type": "code",
   "execution_count": 10,
   "metadata": {},
   "outputs": [
    {
     "ename": "AttributeError",
     "evalue": "'Result' object has no attribute 'data'",
     "output_type": "error",
     "traceback": [
      "\u001b[0;31m---------------------------------------------------------------------------\u001b[0m",
      "\u001b[0;31mAttributeError\u001b[0m                            Traceback (most recent call last)",
      "\u001b[0;32m<ipython-input-10-4ac1af9e2f41>\u001b[0m in \u001b[0;36m<module>\u001b[0;34m\u001b[0m\n\u001b[1;32m      6\u001b[0m     \u001b[0mgraph_name\u001b[0m\u001b[0;34m=\u001b[0m\u001b[0;34m'purchases'\u001b[0m\u001b[0;34m,\u001b[0m\u001b[0;34m\u001b[0m\u001b[0;34m\u001b[0m\u001b[0m\n\u001b[1;32m      7\u001b[0m     \u001b[0mnode_spec\u001b[0m\u001b[0;34m=\u001b[0m\u001b[0;34m[\u001b[0m\u001b[0;34m'Client'\u001b[0m\u001b[0;34m]\u001b[0m\u001b[0;34m,\u001b[0m\u001b[0;34m\u001b[0m\u001b[0;34m\u001b[0m\u001b[0m\n\u001b[0;32m----> 8\u001b[0;31m     \u001b[0mrelationship_spec\u001b[0m\u001b[0;34m=\u001b[0m\u001b[0;34m{\u001b[0m \u001b[0;34m'PAYS'\u001b[0m\u001b[0;34m:\u001b[0m \u001b[0;34m{\u001b[0m \u001b[0;34m'properties'\u001b[0m\u001b[0;34m:\u001b[0m \u001b[0;34m{\u001b[0m\u001b[0;34m'amount'\u001b[0m\u001b[0;34m:\u001b[0m \u001b[0;34m{\u001b[0m \u001b[0;34m'property'\u001b[0m\u001b[0;34m:\u001b[0m \u001b[0;34m'amount'\u001b[0m\u001b[0;34m,\u001b[0m \u001b[0;34m'aggregation'\u001b[0m\u001b[0;34m:\u001b[0m \u001b[0;34m'NONE'\u001b[0m\u001b[0;34m,\u001b[0m \u001b[0;34m'defaultValue'\u001b[0m\u001b[0;34m:\u001b[0m \u001b[0;36m0.0\u001b[0m \u001b[0;34m}\u001b[0m\u001b[0;34m}\u001b[0m \u001b[0;34m,\u001b[0m \u001b[0;34m'orientation'\u001b[0m\u001b[0;34m:\u001b[0m\u001b[0;34m'UNDIRECTED'\u001b[0m\u001b[0;34m}\u001b[0m\u001b[0;34m}\u001b[0m\u001b[0;34m\u001b[0m\u001b[0;34m\u001b[0m\u001b[0m\n\u001b[0m\u001b[1;32m      9\u001b[0m )\n\u001b[1;32m     10\u001b[0m \u001b[0mprint\u001b[0m\u001b[0;34m(\u001b[0m\u001b[0;34mf\"Graph named {graph.name} created\"\u001b[0m\u001b[0;34m)\u001b[0m\u001b[0;34m\u001b[0m\u001b[0;34m\u001b[0m\u001b[0m\n",
      "\u001b[0;32m~/projects/public/notebooks/venv/lib/python3.7/site-packages/gdsclient/graph.py\u001b[0m in \u001b[0;36m__call__\u001b[0;34m(self, graph_name, node_spec, relationship_spec)\u001b[0m\n\u001b[1;32m     19\u001b[0m                 \u001b[0;34m\"graph_name\"\u001b[0m\u001b[0;34m:\u001b[0m \u001b[0mgraph_name\u001b[0m\u001b[0;34m,\u001b[0m\u001b[0;34m\u001b[0m\u001b[0;34m\u001b[0m\u001b[0m\n\u001b[1;32m     20\u001b[0m                 \u001b[0;34m\"node_spec\"\u001b[0m\u001b[0;34m:\u001b[0m \u001b[0mnode_spec\u001b[0m\u001b[0;34m,\u001b[0m\u001b[0;34m\u001b[0m\u001b[0;34m\u001b[0m\u001b[0m\n\u001b[0;32m---> 21\u001b[0;31m                 \u001b[0;34m\"relationship_spec\"\u001b[0m\u001b[0;34m:\u001b[0m \u001b[0mrelationship_spec\u001b[0m\u001b[0;34m,\u001b[0m\u001b[0;34m\u001b[0m\u001b[0;34m\u001b[0m\u001b[0m\n\u001b[0m\u001b[1;32m     22\u001b[0m             },\n\u001b[1;32m     23\u001b[0m         )\n",
      "\u001b[0;32m~/projects/public/notebooks/venv/lib/python3.7/site-packages/gdsclient/query_runner.py\u001b[0m in \u001b[0;36mrun_query\u001b[0;34m(self, query, params)\u001b[0m\n\u001b[1;32m     15\u001b[0m         \u001b[0;32mwith\u001b[0m \u001b[0mself\u001b[0m\u001b[0;34m.\u001b[0m\u001b[0m_driver\u001b[0m\u001b[0;34m.\u001b[0m\u001b[0msession\u001b[0m\u001b[0;34m(\u001b[0m\u001b[0;34m)\u001b[0m \u001b[0;32mas\u001b[0m \u001b[0msession\u001b[0m\u001b[0;34m:\u001b[0m\u001b[0;34m\u001b[0m\u001b[0;34m\u001b[0m\u001b[0m\n\u001b[1;32m     16\u001b[0m             \u001b[0mresult\u001b[0m \u001b[0;34m=\u001b[0m \u001b[0msession\u001b[0m\u001b[0;34m.\u001b[0m\u001b[0mrun\u001b[0m\u001b[0;34m(\u001b[0m\u001b[0mquery\u001b[0m\u001b[0;34m,\u001b[0m \u001b[0mparams\u001b[0m\u001b[0;34m)\u001b[0m\u001b[0;34m\u001b[0m\u001b[0;34m\u001b[0m\u001b[0m\n\u001b[0;32m---> 17\u001b[0;31m             \u001b[0;32mreturn\u001b[0m \u001b[0mresult\u001b[0m\u001b[0;34m.\u001b[0m\u001b[0mdata\u001b[0m\u001b[0;34m(\u001b[0m\u001b[0;34m)\u001b[0m\u001b[0;34m\u001b[0m\u001b[0;34m\u001b[0m\u001b[0m\n\u001b[0m",
      "\u001b[0;31mAttributeError\u001b[0m: 'Result' object has no attribute 'data'"
     ]
    }
   ],
   "source": [
    "# Create projection \n",
    "#with driver.session(database = \"paysim\") as session:\n",
    "#    result = session.write_transaction(createGraphProjection)\n",
    "#    print(result)\n",
    "graph = gds.graph.create(\n",
    "    graph_name='purchases', \n",
    "    node_spec=['Client'], \n",
    "    relationship_spec={ 'PAYS': { 'properties': {'amount': { 'property': 'amount', 'aggregation': 'NONE', 'defaultValue': 0.0 }} , 'orientation':'UNDIRECTED'}}\n",
    ")\n",
    "print(f\"Graph named {graph.name} created\")\n"
   ]
  },
  {
   "cell_type": "code",
   "execution_count": null,
   "metadata": {},
   "outputs": [],
   "source": [
    "# Calculate embedding (mutate)\n",
    "with driver.session(database = \"paysim\") as session:\n",
    "    result = session.write_transaction(runFastRP)\n",
    "    print(result)"
   ]
  },
  {
   "cell_type": "code",
   "execution_count": null,
   "metadata": {},
   "outputs": [],
   "source": [
    "# KNN + write back relationships\n",
    "with driver.session(database = \"paysim\") as session:\n",
    "    result = session.write_transaction(runKNN)\n",
    "    print(result)"
   ]
  },
  {
   "cell_type": "code",
   "execution_count": null,
   "metadata": {},
   "outputs": [],
   "source": [
    "# Write back embedding\n",
    "with driver.session(database = \"paysim\") as session:\n",
    "    result = session.write_transaction(writeEmbedding)\n",
    "    print(result)"
   ]
  },
  {
   "cell_type": "code",
   "execution_count": null,
   "metadata": {},
   "outputs": [],
   "source": [
    "# Drop projection\n",
    "with driver.session(database = \"paysim\") as session:\n",
    "    result = session.read_transaction(dropGraphProjection)\n",
    "    print(result)"
   ]
  },
  {
   "cell_type": "markdown",
   "metadata": {},
   "source": [
    "*demo query*\n",
    "```cypher\n",
    "//Similar demo\n",
    "match p=(m:Mule)-[:SIMILAR_EMBEDDING]-(c:Client)\n",
    "WITH p,m,c skip 1 limit 1\n",
    "call {\n",
    "  WITH m\n",
    "  MATCH mp=(m)-[:PAYS*1..2]-()\n",
    "  RETURN collect(mp)[0..100] as mp\n",
    "}\n",
    "call {\n",
    "  WITH c\n",
    "  MATCH cp=(c)-[:PAYS*1..2]-() \n",
    "  RETURN collect(cp)[0..100] as cp\n",
    "}\n",
    "RETURN p, mp, cp\n",
    "```"
   ]
  },
  {
   "cell_type": "markdown",
   "metadata": {},
   "source": [
    "*clean up*\n",
    "```cypher\n",
    "//Remove relationship produced by knn\n",
    "match ()-[r:SIMILAR_EMBEDDING]-() delete r\n",
    "```"
   ]
  }
 ],
 "metadata": {
  "kernelspec": {
   "display_name": "Python 3",
   "language": "python",
   "name": "python3"
  },
  "language_info": {
   "codemirror_mode": {
    "name": "ipython",
    "version": 3
   },
   "file_extension": ".py",
   "mimetype": "text/x-python",
   "name": "python",
   "nbconvert_exporter": "python",
   "pygments_lexer": "ipython3",
   "version": "3.7.3"
  }
 },
 "nbformat": 4,
 "nbformat_minor": 4
}
