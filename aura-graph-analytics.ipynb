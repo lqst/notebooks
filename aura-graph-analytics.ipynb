{
 "cells": [
  {
   "cell_type": "markdown",
   "metadata": {},
   "source": [
    "# Aura Graph Analytics\n",
    "Documentation: https://neo4j.com/docs/aura/graph-analytics/"
   ]
  },
  {
   "cell_type": "markdown",
   "metadata": {
    "id": "ynPe6RLRWSKd"
   },
   "source": [
    "## Setup"
   ]
  },
  {
   "cell_type": "markdown",
   "metadata": {
    "id": "ShLXlNZ5kGvI"
   },
   "source": [
    "1. Install neo4j graphdatascience client, see docs https://neo4j.com/docs/graph-data-science/current/\n",
    "2. Install neo4j driver, see docs https://neo4j.com/docs/api/python-driver/current/\n",
    "3. Install python graph visualization https://neo4j.com/docs/nvl-python/preview/\n",
    "4. Install pandas (if it is not already there)"
   ]
  },
  {
   "cell_type": "code",
   "execution_count": null,
   "metadata": {
    "id": "BOfc_-mllcUE"
   },
   "outputs": [],
   "source": [
    "import os\n",
    "from dotenv import load_dotenv\n",
    "import pandas as pd\n",
    "from graphdatascience import GraphDataScience\n",
    "from graphdatascience.session import AuraAPICredentials, GdsSessions, DbmsConnectionInfo, AlgorithmCategory, SessionMemory, CloudLocation\n",
    "from datetime import timedelta\n",
    "from neo4j import Query, GraphDatabase, RoutingControl, Result\n",
    "from neo4j_viz.neo4j import from_neo4j\n",
    "from neo4j_viz.gds import from_gds"
   ]
  },
  {
   "cell_type": "code",
   "execution_count": null,
   "metadata": {
    "id": "CHR_0lmElZ-R"
   },
   "outputs": [],
   "source": [
    "# How to create  Aura API Credentials: https://neo4j.com/docs/aura/classic/platform/api/authentication/#_creating_credentials\n",
    "load_dotenv('.env', override=True)\n",
    "project_id = os.getenv('AURA_API_PROJECT_ID')\n",
    "client_id = os.getenv('AURA_API_CLIENT_ID')\n",
    "client_secret = os.getenv('AURA_API_CLIENT_SECRET')\n",
    "db_uri = os.getenv('AURA_DB_ADDRESS')\n",
    "db_user = os.getenv('AURA_DB_USER')\n",
    "db_pass = os.getenv('AURA_DB_PW')\n",
    "db_name = os.getenv('AURA_DB_NAME')\n"
   ]
  },
  {
   "cell_type": "markdown",
   "metadata": {},
   "source": [
    "## Create Aura Analytics compute session\n",
    "Since this can take a minute or two, we do it first"
   ]
  },
  {
   "cell_type": "code",
   "execution_count": null,
   "metadata": {
    "id": "e_a16vsQwyMH"
   },
   "outputs": [],
   "source": [
    "sessions = GdsSessions(\n",
    "    api_credentials=AuraAPICredentials(\n",
    "        client_id, \n",
    "        client_secret,\n",
    "        project_id=project_id\n",
    "    )\n",
    ")\n",
    "\n",
    "db_connection = DbmsConnectionInfo(\n",
    "    uri=db_uri, username=db_user, password=db_pass\n",
    ")"
   ]
  },
  {
   "cell_type": "code",
   "execution_count": null,
   "metadata": {},
   "outputs": [],
   "source": [
    "memory = sessions.estimate(\n",
    "    node_count=20,\n",
    "    relationship_count=50,\n",
    "    algorithm_categories=[AlgorithmCategory.CENTRALITY, AlgorithmCategory.NODE_EMBEDDING],\n",
    ")\n",
    "memory"
   ]
  },
  {
   "cell_type": "code",
   "execution_count": null,
   "metadata": {},
   "outputs": [],
   "source": [
    "gds = sessions.get_or_create(\n",
    "    session_name=\"my-shop-demo\",\n",
    "    memory=SessionMemory.m_4GB, # You can also use the memory estimate above\n",
    "    db_connection=db_connection,\n",
    "    ttl=timedelta(hours=2)\n",
    ")"
   ]
  },
  {
   "cell_type": "code",
   "execution_count": null,
   "metadata": {},
   "outputs": [],
   "source": [
    "sessions.list()"
   ]
  },
  {
   "cell_type": "code",
   "execution_count": null,
   "metadata": {},
   "outputs": [],
   "source": [
    "driver = GraphDatabase.driver(\n",
    "    db_uri,\n",
    "    auth=(db_user, db_pass)\n",
    ")\n",
    "driver.verify_connectivity()"
   ]
  },
  {
   "cell_type": "markdown",
   "metadata": {
    "id": "0OMlYdxHWZLx"
   },
   "source": [
    "## Graph creation"
   ]
  },
  {
   "cell_type": "code",
   "execution_count": null,
   "metadata": {
    "id": "LbsQlwvwku0b"
   },
   "outputs": [],
   "source": [
    "transaction_df = pd.DataFrame([\n",
    "    {'name': 'Tom', 'merchant':'Amazon', 'amount': 100},\n",
    "    {'name': 'Tom', 'merchant':'Dustin', 'amount': 50499},\n",
    "    {'name': 'Tom', 'merchant':'eBay', 'amount': 220},\n",
    "    {'name': 'Stefan', 'merchant':'Amazon', 'amount': 220},\n",
    "    {'name': 'Stefan', 'merchant':'Dustin', 'amount': 399},\n",
    "    {'name': 'Stefan', 'merchant':'eBay', 'amount': 1499},\n",
    "    {'name': 'Stefan', 'merchant':'Bikes.de', 'amount': 22000},\n",
    "    {'name': 'Kristof', 'merchant':'Amazon', 'amount': 423},\n",
    "    {'name': 'Kristof', 'merchant':'Dustin', 'amount': 530},\n",
    "    {'name': 'Kristof', 'merchant':'Hello Fresh', 'amount': 1050},\n",
    "    {'name': 'Kristof', 'merchant':'Steam', 'amount': 230},\n",
    "    {'name': 'Kristof', 'merchant':'Activision', 'amount': 783},\n",
    "    {'name': 'Håkan', 'merchant':'Hello Fresh', 'amount': 2100},\n",
    "    {'name': 'Håkan', 'merchant':'Steam', 'amount': 230},\n",
    "    {'name': 'Håkan', 'merchant':'Activision', 'amount': 783},\n",
    "    \n",
    "], columns = ['name', 'merchant', 'amount'])\n",
    "transaction_df.head(15)"
   ]
  },
  {
   "cell_type": "code",
   "execution_count": null,
   "metadata": {
    "id": "cdTfdAyV2ZaR"
   },
   "outputs": [],
   "source": [
    "# This is not really required for this small sample\n",
    "gds.database = db_name\n",
    "gds.run_cypher(\"create constraint if not exists for (p:Person) require (p.name) is node key\")\n",
    "gds.run_cypher(\"create constraint if not exists for (p:Merchant) require (p.name) is node key\")"
   ]
  },
  {
   "cell_type": "code",
   "execution_count": null,
   "metadata": {
    "id": "uduojIopm0qV"
   },
   "outputs": [],
   "source": [
    "# Create a graph for (:Person)-[:transacted_with]->(:Merchant)\n",
    "# Tip: If we had more data, this would fail => Iterate over chunks of the dataframe.\n",
    "gds.run_cypher(\n",
    "    \"\"\"\n",
    "    unwind $transactions as transaction\n",
    "    merge (p:Person{name: transaction['name']})\n",
    "    merge (m:Merchant{name: transaction['merchant']})\n",
    "    merge (p)-[tx:TRANSACTED_WITH]->(m)\n",
    "       set tx.amount = transaction['amount']\n",
    "    \"\"\",\n",
    "    params = { 'transactions': transaction_df.to_dict(orient='records') }\n",
    ")"
   ]
  },
  {
   "cell_type": "code",
   "execution_count": null,
   "metadata": {},
   "outputs": [],
   "source": [
    "# Let's have a look at the graph\n",
    "graph = driver.execute_query(\n",
    "    \"\"\"\n",
    "    match (p:Person)-[tx:TRANSACTED_WITH]->(m:Merchant)\n",
    "    return p, tx, m\n",
    "    \"\"\",\n",
    "    database_= db_name,\n",
    "    routing_control=RoutingControl.READ,\n",
    "    result_transformer_=Result.graph,\n",
    ")\n",
    "VG = from_neo4j(graph)\n",
    "VG.color_nodes(field='caption')\n",
    "VG.render()"
   ]
  },
  {
   "cell_type": "markdown",
   "metadata": {
    "id": "kx1UHN87Kfup"
   },
   "source": [
    "## Graph projection (remote)"
   ]
  },
  {
   "cell_type": "code",
   "execution_count": null,
   "metadata": {},
   "outputs": [],
   "source": [
    "G, result = gds.graph.project(\n",
    "    graph_name=\"transaction_graph\",\n",
    "    query=\"\"\"\n",
    "      match (p:Person)-[r:TRANSACTED_WITH]->(m:Merchant)\n",
    "      with\n",
    "        p AS source, r AS rel, m AS target\n",
    "      return\n",
    "      gds.graph.project.remote(source, target, {\n",
    "        sourceNodeLabels: labels(source),\n",
    "        targetNodeLabels: labels(target),\n",
    "        relationshipType: type(rel),\n",
    "        relationshipProperties: rel{.amount}\n",
    "      })\n",
    "      \"\"\",\n",
    ")\n",
    "str(G)"
   ]
  },
  {
   "cell_type": "code",
   "execution_count": null,
   "metadata": {},
   "outputs": [],
   "source": [
    "gds.nodeSimilarity.stream(\n",
    "    G\n",
    ")"
   ]
  },
  {
   "cell_type": "code",
   "execution_count": null,
   "metadata": {
    "id": "nNZByI7LGy_i"
   },
   "outputs": [],
   "source": [
    "gds.nodeSimilarity.write(\n",
    "    G,\n",
    "    writeRelationshipType='IS_SIMILAR_TO',\n",
    "    similarityCutoff=0.5,\n",
    "    writeProperty='sim_score'\n",
    ")"
   ]
  },
  {
   "cell_type": "code",
   "execution_count": null,
   "metadata": {
    "id": "LRQGxT5RHctm"
   },
   "outputs": [],
   "source": [
    "# Drop the projection to free up resources\n",
    "G.drop()"
   ]
  },
  {
   "cell_type": "code",
   "execution_count": null,
   "metadata": {
    "id": "OW5uFvKnYnj7"
   },
   "outputs": [],
   "source": [
    "# Remove symetric relationships\n",
    "gds.run_cypher(\"\"\"\n",
    "  MATCH (a:Person)-[r:IS_SIMILAR_TO]->(b:Person) \n",
    "    WHERE (b)-[:IS_SIMILAR_TO]->(a) \n",
    "    AND   id(a)<id(b)\n",
    "  DELETE r\n",
    "\"\"\")\n"
   ]
  },
  {
   "cell_type": "markdown",
   "metadata": {},
   "source": [
    "## Clean up compute resources\n",
    "Delete the session when we are done with it"
   ]
  },
  {
   "cell_type": "code",
   "execution_count": null,
   "metadata": {
    "id": "RNdzni6-SvC0"
   },
   "outputs": [],
   "source": [
    "gds.delete()"
   ]
  },
  {
   "cell_type": "code",
   "execution_count": null,
   "metadata": {},
   "outputs": [],
   "source": [
    "sessions.list()"
   ]
  },
  {
   "cell_type": "code",
   "execution_count": null,
   "metadata": {},
   "outputs": [],
   "source": [
    "# You can also delete the session by name or by id\n",
    "# sessions.delete(session_name=\"my-shop-demo\")"
   ]
  },
  {
   "cell_type": "markdown",
   "metadata": {},
   "source": [
    "## Run alog from any source"
   ]
  },
  {
   "cell_type": "code",
   "execution_count": null,
   "metadata": {},
   "outputs": [],
   "source": [
    "gds_no_db = sessions.get_or_create(\n",
    "    session_name=\"my-shop-demo-no-db\",\n",
    "    memory=SessionMemory.m_4GB, \n",
    "    cloud_location=CloudLocation(provider=\"azure\", region=\"uksouth\"),\n",
    "    ttl=timedelta(hours=2)\n",
    ")   "
   ]
  },
  {
   "cell_type": "code",
   "execution_count": null,
   "metadata": {},
   "outputs": [],
   "source": [
    "sessions.list()"
   ]
  },
  {
   "cell_type": "code",
   "execution_count": null,
   "metadata": {},
   "outputs": [],
   "source": [
    "transaction_df"
   ]
  },
  {
   "cell_type": "code",
   "execution_count": null,
   "metadata": {},
   "outputs": [],
   "source": [
    "#keys = transaction_df['name'].drop_duplicates().to_list() + transaction_df['merchant'].drop_duplicates().to_list()\n",
    "test = transaction_df['name'].drop_duplicates().rename('name').to_frame().assign( lablel='Person')\n",
    "test"
   ]
  },
  {
   "cell_type": "code",
   "execution_count": null,
   "metadata": {},
   "outputs": [],
   "source": [
    "node_map = pd.concat([\n",
    "    transaction_df['name'].drop_duplicates().rename('name').to_frame().assign( label='Person'),\n",
    "    transaction_df['merchant'].drop_duplicates().rename('name').to_frame().assign( label='Merchant')\n",
    "]).reset_index(drop=True)\n",
    "node_map.head(15)\n"
   ]
  },
  {
   "cell_type": "code",
   "execution_count": null,
   "metadata": {},
   "outputs": [],
   "source": [
    "node_map['idx'] = node_map.index\n",
    "#node_map[ node_map['label'] =='Person' ].merge( transaction_df, on=['name'], how='right')"
   ]
  },
  {
   "cell_type": "code",
   "execution_count": null,
   "metadata": {},
   "outputs": [],
   "source": [
    "#node_map[ node_map['label'] =='Merchant' ].merge( transaction_df[['merchant']].rename(columns={'merchant':'name'}), on=['name'], how='right')"
   ]
  },
  {
   "cell_type": "code",
   "execution_count": null,
   "metadata": {},
   "outputs": [],
   "source": [
    "nodes = pd.DataFrame(\n",
    "    {\n",
    "        \"nodeId\": node_map.index,\n",
    "        \"labels\": node_map['label'].tolist(),\n",
    "    }\n",
    ")\n",
    "relationships = pd.DataFrame(\n",
    "    {\n",
    "        \"sourceNodeId\": node_map[ node_map['label'] =='Person' ].merge( transaction_df, on=['name'], how='right')['idx'].tolist(),\n",
    "        \"targetNodeId\": node_map[ node_map['label'] =='Merchant' ].merge( transaction_df[['merchant']].rename(columns={'merchant':'name'}), on=['name'], how='right')['idx'].tolist(),\n",
    "        \"relationshipType\": [\"BOUGHT_FROM\"] * len(transaction_df)\n",
    "    })"
   ]
  },
  {
   "cell_type": "code",
   "execution_count": null,
   "metadata": {},
   "outputs": [],
   "source": [
    "G = gds_no_db.graph.construct(\n",
    "    \"my-graph-from-dataframe\",\n",
    "    nodes,\n",
    "    relationships\n",
    ")"
   ]
  },
  {
   "cell_type": "code",
   "execution_count": null,
   "metadata": {},
   "outputs": [],
   "source": [
    "gds_no_db.nodeSimilarity.stream(\n",
    "    G\n",
    ")"
   ]
  },
  {
   "cell_type": "code",
   "execution_count": null,
   "metadata": {},
   "outputs": [],
   "source": [
    "gds_no_db.nodeSimilarity.mutate(\n",
    "    G,\n",
    "    similarityCutoff=0.5,\n",
    "    mutateRelationshipType='IS_SIMILAR_TO',\n",
    "    mutateProperty='sim_score'\n",
    ")"
   ]
  },
  {
   "cell_type": "code",
   "execution_count": null,
   "metadata": {},
   "outputs": [],
   "source": [
    "gds_no_db.pageRank.mutate(\n",
    "    G,\n",
    "    mutateProperty='pagerank_score',\n",
    ")"
   ]
  },
  {
   "cell_type": "code",
   "execution_count": null,
   "metadata": {},
   "outputs": [],
   "source": [
    "VG = from_gds( \n",
    "    gds=gds_no_db,\n",
    "    G=G,\n",
    "    size_property=\"pagerank_score\"\n",
    ")\n",
    "\n",
    "for node in VG.nodes:\n",
    "    node.caption = node.properties['labels'][0]\n",
    "\n",
    "for rel in VG.relationships:\n",
    "    rel.caption =  rel.properties['relationshipType']\n",
    "    \n",
    "VG.color_nodes(field='caption')\n",
    "VG.render()"
   ]
  },
  {
   "cell_type": "code",
   "execution_count": null,
   "metadata": {},
   "outputs": [],
   "source": [
    "# Drop the projection to free up resources\n",
    "G.drop()"
   ]
  },
  {
   "cell_type": "markdown",
   "metadata": {},
   "source": [
    "## Clean up compute resources"
   ]
  },
  {
   "cell_type": "code",
   "execution_count": null,
   "metadata": {},
   "outputs": [],
   "source": [
    "gds_no_db.delete()"
   ]
  },
  {
   "cell_type": "code",
   "execution_count": null,
   "metadata": {},
   "outputs": [],
   "source": [
    "sessions.list()"
   ]
  }
 ],
 "metadata": {
  "colab": {
   "provenance": [],
   "toc_visible": true
  },
  "kernelspec": {
   "display_name": "notebooks_new",
   "language": "python",
   "name": "python3"
  },
  "language_info": {
   "codemirror_mode": {
    "name": "ipython",
    "version": 3
   },
   "file_extension": ".py",
   "mimetype": "text/x-python",
   "name": "python",
   "nbconvert_exporter": "python",
   "pygments_lexer": "ipython3",
   "version": "3.11.0"
  }
 },
 "nbformat": 4,
 "nbformat_minor": 0
}
