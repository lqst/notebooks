{
 "cells": [
  {
   "cell_type": "code",
   "execution_count": null,
   "id": "92ee52a0",
   "metadata": {},
   "outputs": [],
   "source": [
    "import os\n",
    "import pandas as pd\n",
    "from dotenv import load_dotenv\n",
    "from graphdatascience import GraphDataScience\n",
    "from neo4j import Query, GraphDatabase, RoutingControl, Result\n",
    "from neo4j_viz.neo4j import from_neo4j\n",
    "import networkx as nx "
   ]
  },
  {
   "cell_type": "markdown",
   "id": "2d649e71",
   "metadata": {},
   "source": [
    "## Setup"
   ]
  },
  {
   "cell_type": "code",
   "execution_count": null,
   "id": "d40ef92b",
   "metadata": {},
   "outputs": [],
   "source": [
    "load_dotenv('.env', override=True)\n",
    "HOST = os.getenv('OSM_URL')\n",
    "USERNAME = os.getenv('OSM_USER')\n",
    "PASSWORD = os.getenv('OSM_PASSWORD')\n",
    "DATABASE = os.getenv('OSM_DB_NAME')"
   ]
  },
  {
   "cell_type": "code",
   "execution_count": null,
   "id": "a4e298a7",
   "metadata": {},
   "outputs": [],
   "source": [
    "driver = GraphDatabase.driver(\n",
    "    HOST,\n",
    "    auth=(USERNAME, PASSWORD)\n",
    ")\n",
    "driver.verify_connectivity(database=DATABASE)"
   ]
  },
  {
   "cell_type": "code",
   "execution_count": null,
   "id": "08579563",
   "metadata": {},
   "outputs": [],
   "source": [
    "schema_graph = driver.execute_query(\n",
    "        ''' \n",
    "        call db.schema.visualization()\n",
    "        ''',\n",
    "        database_=DATABASE,\n",
    "        routing_=RoutingControl.READ,\n",
    "        result_transformer_=Result.graph,\n",
    "    )\n",
    "VG = from_neo4j(schema_graph)\n",
    "VG.render()"
   ]
  },
  {
   "cell_type": "markdown",
   "id": "9fbff666",
   "metadata": {},
   "source": [
    "## Generate supply and demand\n",
    "Skip this step if demand and supply nodes are already in the graph (or adjust it accordingly)"
   ]
  },
  {
   "cell_type": "code",
   "execution_count": null,
   "id": "145236c5",
   "metadata": {},
   "outputs": [],
   "source": [
    "driver.execute_query(\n",
    "    ''' \n",
    "    match (n:Location)\n",
    "    return min(n.point.latitude) as min_latitude,\n",
    "           max(n.point.latitude) as max_latitude,\n",
    "           min(n.point.longitude) as min_longitude,\n",
    "           max(n.point.longitude) as max_longitude  \n",
    "    ''',\n",
    "    database_=DATABASE,\n",
    "    routing_=RoutingControl.READ,\n",
    "    result_transformer_= lambda r: r.to_df()\n",
    ")"
   ]
  },
  {
   "cell_type": "code",
   "execution_count": null,
   "id": "29b06e5b",
   "metadata": {},
   "outputs": [],
   "source": [
    "# Pick a center point of interest\n",
    "center = 2014176513"
   ]
  },
  {
   "cell_type": "code",
   "execution_count": null,
   "id": "bbf2caff",
   "metadata": {},
   "outputs": [],
   "source": [
    "# Add demand and car\n",
    "driver.execute_query(\n",
    "    ''' \n",
    "    match (n:Location{osmid: $center})\n",
    "    with n\n",
    "    match (l:Location) \n",
    "    where  1_000 < point.distance(n.point, l.point) < 10_000\n",
    "    with l order by rand() limit 10 \n",
    "    create (d:Demand)-[:AT]->(l)\n",
    "    ''',\n",
    "    database_=DATABASE,\n",
    "    routing_=RoutingControl.WRITE,\n",
    "    center = center,\n",
    "    result_transformer_= lambda r: r.to_df()\n",
    ")"
   ]
  },
  {
   "cell_type": "code",
   "execution_count": null,
   "id": "f78c7342",
   "metadata": {},
   "outputs": [],
   "source": [
    "driver.execute_query(\n",
    "    ''' \n",
    "    match (n:Location{osmid: $center})\n",
    "    with n\n",
    "    match (l:Location) \n",
    "    where  1_000 < point.distance(n.point, l.point) < 10_000\n",
    "    with l order by rand() limit 10 \n",
    "    create (d:Car)-[:AT]->(l)\n",
    "    ''',\n",
    "    database_=DATABASE,\n",
    "    routing_=RoutingControl.WRITE,\n",
    "    center = center,\n",
    "    result_transformer_= lambda r: r.to_df()\n",
    ")"
   ]
  },
  {
   "cell_type": "code",
   "execution_count": null,
   "id": "cefe7e3f",
   "metadata": {},
   "outputs": [],
   "source": [
    "# Forgot to give the Car and Locations a name :)\n",
    "driver.execute_query(\n",
    "    ''' \n",
    "    match (c:Car)\n",
    "    with collect(c) as cars\n",
    "    call (cars) {\n",
    "        unwind range(0, size(cars) - 1) as i\n",
    "        with i, cars[i] as car\n",
    "        set car.name = \"Car \" + toString(i)\n",
    "    }\n",
    "    match (d:Demand)\n",
    "    with collect(d) as demands\n",
    "    call (demands) {\n",
    "        unwind range(0, size(demands) - 1) as i\n",
    "        with i, demands[i] as demand\n",
    "        set demand.name = \"Demand \" + toString(i)\n",
    "    }\n",
    "    ''',\n",
    "    database_=DATABASE,\n",
    "    routing_=RoutingControl.WRITE,\n",
    "    center = center,\n",
    "    result_transformer_= lambda r: r.to_df()\n",
    ")"
   ]
  },
  {
   "cell_type": "code",
   "execution_count": null,
   "id": "c3920c18",
   "metadata": {},
   "outputs": [],
   "source": [
    "# Simplify visualization by adding osmid and point to Car and Demand nodes\n",
    "driver.execute_query(\n",
    "    ''' \n",
    "    match (n:Car|Demand)-[:AT]->(l:Location)\n",
    "    set n.osmid = l.osmid,\n",
    "        n.point = l.point\n",
    "    ''',\n",
    "    database_=DATABASE,\n",
    "    routing_=RoutingControl.WRITE,\n",
    "    center = center,\n",
    "    result_transformer_= lambda r: r.to_df()\n",
    ")"
   ]
  },
  {
   "cell_type": "markdown",
   "id": "8f244473",
   "metadata": {},
   "source": [
    "## Create some communities"
   ]
  },
  {
   "cell_type": "code",
   "execution_count": null,
   "id": "324b6441",
   "metadata": {},
   "outputs": [],
   "source": [
    "gds = GraphDataScience.from_neo4j_driver(driver=driver)\n",
    "gds.set_database(DATABASE)\n",
    "gds.version()"
   ]
  },
  {
   "cell_type": "code",
   "execution_count": null,
   "id": "397addb6",
   "metadata": {},
   "outputs": [],
   "source": [
    "G, res = gds.graph.project(\n",
    "    \"roads\",        # Graph name\n",
    "    [\"Location\"],   #  Node projection\n",
    "    [\"ROAD\"]        #  Relationship projection\n",
    ")"
   ]
  },
  {
   "cell_type": "code",
   "execution_count": null,
   "id": "36288702",
   "metadata": {},
   "outputs": [],
   "source": [
    "gds.louvain.stats(G)"
   ]
  },
  {
   "cell_type": "code",
   "execution_count": null,
   "id": "57ff4794",
   "metadata": {},
   "outputs": [],
   "source": [
    "gds.louvain.write(\n",
    "    G,\n",
    "    writeProperty=\"louvain\",\n",
    "    concurrency=16,\n",
    "    maxIterations=10\n",
    ")"
   ]
  },
  {
   "cell_type": "code",
   "execution_count": null,
   "id": "221fda66",
   "metadata": {},
   "outputs": [],
   "source": [
    "gds.labelPropagation.write(\n",
    "    G,\n",
    "    writeProperty=\"label_propagation\",\n",
    "    concurrency=16,\n",
    ")"
   ]
  },
  {
   "cell_type": "code",
   "execution_count": null,
   "id": "a5aef4a0",
   "metadata": {},
   "outputs": [],
   "source": [
    "G.drop()"
   ]
  },
  {
   "cell_type": "markdown",
   "id": "eaf5eebb",
   "metadata": {},
   "source": [
    "## Some pathfinding"
   ]
  },
  {
   "cell_type": "code",
   "execution_count": null,
   "id": "11e1e05c",
   "metadata": {},
   "outputs": [],
   "source": [
    "G, res = gds.graph.cypher.project(\n",
    "   '''//cypher\n",
    "    MATCH (source:Location)-[r:ROAD]->(target:Location)\n",
    "    RETURN gds.graph.project('myGraph', source, target,\n",
    "        {\n",
    "            sourceNodeProperties: { latitude: source.point.latitude, longitude: source.point.longitude },\n",
    "            targetNodeProperties: { latitude: target.point.latitude, longitude: target.point.longitude },\n",
    "            relationshipProperties: r { .distance, .travelTime }\n",
    "        }\n",
    "    )\n",
    "    ''',\n",
    "    database=DATABASE\n",
    ")"
   ]
  },
  {
   "cell_type": "code",
   "execution_count": null,
   "id": "23885560",
   "metadata": {},
   "outputs": [],
   "source": [
    "driver.execute_query(\n",
    "    ''' \n",
    "    match (:Car{name:$car})-[:AT]->(source:Location)\n",
    "    with source limit 1\n",
    "    match (:Demand)-[:AT]->(target:Location)\n",
    "    with source, target\n",
    "    \n",
    "    CALL gds.shortestPath.dijkstra.stream('myGraph', {\n",
    "        sourceNode: source,\n",
    "        targetNodes: target,\n",
    "        relationshipWeightProperty: 'travelTime'\n",
    "    })\n",
    "    YIELD index, sourceNode, targetNode, totalCost, nodeIds, costs, path\n",
    "    WITH gds.util.asNode(sourceNode) as source,\n",
    "         gds.util.asNode(targetNode) as target,\n",
    "         index, totalCost, nodeIds, costs, path\n",
    "    RETURN\n",
    "        index,\n",
    "        [(source)<-[:AT]-(n)  | n.name][0] AS sourceName,\n",
    "        [(target)<-[:AT]-(n)  | n.name][0] AS targetName,\n",
    "        totalCost\n",
    "        //[nodeId IN nodeIds | gds.util.asNode(nodeId).osmid] AS locations,\n",
    "        //costs\n",
    "        //nodes(path) as path\n",
    "    ORDER BY index\n",
    "    \n",
    "    ''',\n",
    "    database_=DATABASE,\n",
    "    routing_=RoutingControl.READ,\n",
    "    car = 'Car 5',\n",
    "    result_transformer_= lambda r: r.to_df()\n",
    ").head(100)"
   ]
  },
  {
   "cell_type": "markdown",
   "id": "bc9f46d9",
   "metadata": {},
   "source": [
    "## Compute min cost flow"
   ]
  },
  {
   "cell_type": "code",
   "execution_count": null,
   "id": "126e6aca",
   "metadata": {},
   "outputs": [],
   "source": [
    "# Fetch all cars = suppliers\n",
    "# Later we can fetch within a specific area or cluster\n",
    "suppliers = driver.execute_query(\n",
    "    ''' \n",
    "    match (car:Car) return car.name as car_name\n",
    "    ''',\n",
    "    database_=DATABASE,\n",
    "    routing_=RoutingControl.READ,\n",
    "    result_transformer_= lambda r: r.to_df()\n",
    "\n",
    ")\n",
    "suppliers.head(10)"
   ]
  },
  {
   "cell_type": "code",
   "execution_count": null,
   "id": "af10b4c0",
   "metadata": {},
   "outputs": [],
   "source": [
    "# Fetch all demands\n",
    "# Later we can fetch within a specific area or cluster\n",
    "demands = driver.execute_query(\n",
    "    ''' \n",
    "    match (d:Demand) return d.name as demand_name\n",
    "    ''',\n",
    "    database_=DATABASE,\n",
    "    routing_=RoutingControl.READ,\n",
    "    result_transformer_= lambda r: r.to_df()\n",
    "\n",
    ")\n",
    "demands.head(10)"
   ]
  },
  {
   "cell_type": "code",
   "execution_count": null,
   "id": "3dc6f989",
   "metadata": {},
   "outputs": [],
   "source": [
    "nxG = nx.DiGraph()\n",
    "\n",
    "# Add nodes\n",
    "for i, row in suppliers.iterrows():\n",
    "    car = row['car_name']\n",
    "    nxG.add_node(car, demand=-1)\n",
    "for i, row in demands.iterrows():\n",
    "    demand = row['demand_name']\n",
    "    nxG.add_node(demand, demand=1)\n",
    "\n",
    "# Run pathfinding for each car to each demand\n",
    "costs = driver.execute_query(\n",
    "    ''' \n",
    "    match (c:Car)-[:AT]->(s:Location)\n",
    "    where c.name in $suppliers\n",
    "    with collect (s) as sources\n",
    "    match (d:Demand)-[:AT]->(t:Location)\n",
    "    where d.name in $demands\n",
    "    with sources, collect(t) as targets\n",
    "    UNWIND sources as source\n",
    "    CALL gds.shortestPath.dijkstra.stream('myGraph', {\n",
    "        sourceNode: source,\n",
    "        targetNodes: targets,\n",
    "        relationshipWeightProperty: 'travelTime'\n",
    "    })\n",
    "    YIELD index, sourceNode, targetNode, totalCost, nodeIds, costs, path\n",
    "    WITH gds.util.asNode(sourceNode) as source,\n",
    "        gds.util.asNode(targetNode) as target,\n",
    "        index, totalCost, nodeIds, costs, path\n",
    "    RETURN\n",
    "        index,\n",
    "        [(source)<-[:AT]-(n)  | n.name][0] AS sourceName,\n",
    "        [(target)<-[:AT]-(n)  | n.name][0] AS targetName,\n",
    "        totalCost\n",
    "        //[nodeId IN nodeIds | gds.util.asNode(nodeId).osmid] AS locations,\n",
    "        //costs\n",
    "        //nodes(path) as path\n",
    "    ORDER BY index\n",
    "    \n",
    "    ''',\n",
    "    database_=DATABASE,\n",
    "    routing_=RoutingControl.READ,\n",
    "    suppliers = suppliers['car_name'],\n",
    "    demands = demands['demand_name'],\n",
    "    result_transformer_= lambda r: r.to_df()\n",
    ")\n",
    "\n",
    "# Add edges with costs    \n",
    "for i, row in costs.iterrows():\n",
    "    nxG.add_edge(row['sourceName'], row['targetName'], weight=row['totalCost'], capacity=1)"
   ]
  },
  {
   "cell_type": "code",
   "execution_count": null,
   "id": "e2c49c46",
   "metadata": {},
   "outputs": [],
   "source": [
    "#costs.head(10)"
   ]
  },
  {
   "cell_type": "code",
   "execution_count": null,
   "id": "81430faf",
   "metadata": {},
   "outputs": [],
   "source": [
    "# Compute the min cost flow\n",
    "flow_dict = nx.min_cost_flow(nxG)"
   ]
  },
  {
   "cell_type": "code",
   "execution_count": null,
   "id": "54a07bed",
   "metadata": {},
   "outputs": [],
   "source": [
    "flow_dict"
   ]
  },
  {
   "cell_type": "code",
   "execution_count": null,
   "id": "01eb24ff",
   "metadata": {},
   "outputs": [],
   "source": [
    "G = gds.graph.get(\"myGraph\")\n",
    "G.drop()\n"
   ]
  },
  {
   "cell_type": "code",
   "execution_count": null,
   "id": "240ea2eb",
   "metadata": {},
   "outputs": [],
   "source": []
  }
 ],
 "metadata": {
  "kernelspec": {
   "display_name": "notebooks_new",
   "language": "python",
   "name": "python3"
  },
  "language_info": {
   "codemirror_mode": {
    "name": "ipython",
    "version": 3
   },
   "file_extension": ".py",
   "mimetype": "text/x-python",
   "name": "python",
   "nbconvert_exporter": "python",
   "pygments_lexer": "ipython3",
   "version": "3.11.0"
  }
 },
 "nbformat": 4,
 "nbformat_minor": 5
}
