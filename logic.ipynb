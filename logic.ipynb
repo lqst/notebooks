{
 "cells": [
  {
   "cell_type": "code",
   "execution_count": 1,
   "metadata": {},
   "outputs": [],
   "source": [
    "import pandas as pd\n",
    "from neo4j import GraphDatabase"
   ]
  },
  {
   "cell_type": "code",
   "execution_count": 2,
   "metadata": {},
   "outputs": [],
   "source": [
    "driver = GraphDatabase.driver(\"neo4j://localhost:7687\", auth=(\"neo4j\", \"test1234\"), encrypted=False)"
   ]
  },
  {
   "cell_type": "code",
   "execution_count": 7,
   "metadata": {},
   "outputs": [],
   "source": [
    "query = (\n",
    "    \"CREATE ({name:$n1})-[r:is_related_to]->({name:$n2}) \"\n",
    ")\n",
    "name1 = \"a\"\n",
    "name2 = \"b\"\n",
    "with driver.session(database = \"movies\") as session:\n",
    "    session.run(query, n1=name1, n2=name2).consume()"
   ]
  },
  {
   "cell_type": "code",
   "execution_count": 6,
   "metadata": {},
   "outputs": [],
   "source": [
    "query = (\n",
    "    \"MATCH (n1{name:$n1})-[r:is_related_to]->(n2{name:$n2}) \"\n",
    "    \"DELETE r,n1,n2\"\n",
    ")\n",
    "name1 = \"a\"\n",
    "name2 = \"b\"\n",
    "with driver.session(database = \"movies\") as session:\n",
    "    session.run(query, n1=name1, n2=name2).consume()\n",
    "    "
   ]
  },
  {
   "cell_type": "code",
   "execution_count": null,
   "metadata": {},
   "outputs": [],
   "source": []
  }
 ],
 "metadata": {
  "kernelspec": {
   "display_name": "Python 3.9.10 64-bit",
   "language": "python",
   "name": "python3"
  },
  "language_info": {
   "codemirror_mode": {
    "name": "ipython",
    "version": 3
   },
   "file_extension": ".py",
   "mimetype": "text/x-python",
   "name": "python",
   "nbconvert_exporter": "python",
   "pygments_lexer": "ipython3",
   "version": "3.9.16"
  },
  "vscode": {
   "interpreter": {
    "hash": "aee8b7b246df8f9039afb4144a1f6fd8d2ca17a180786b69acc140d282b71a49"
   }
  }
 },
 "nbformat": 4,
 "nbformat_minor": 4
}
