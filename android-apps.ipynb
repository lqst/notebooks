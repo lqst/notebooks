{
 "cells": [
  {
   "cell_type": "code",
   "execution_count": null,
   "metadata": {},
   "outputs": [],
   "source": [
    "import os\n",
    "import json\n",
    "import numpy as np\n",
    "import pandas as pd\n",
    "\n",
    "from neo4j import GraphDatabase"
   ]
  },
  {
   "cell_type": "code",
   "execution_count": null,
   "metadata": {},
   "outputs": [],
   "source": [
    "DB_ULR = \"neo4j://localhost:7687\"\n",
    "DB_USER = \"neo4j\"\n",
    "DB_PASS = \"<MyVerySecretPassword>\"\n",
    "DB_NAME = \"android\"\n",
    "DB_ENCRYPTED = False\n"
   ]
  },
  {
   "cell_type": "code",
   "execution_count": null,
   "metadata": {},
   "outputs": [],
   "source": [
    "driver = GraphDatabase.driver(DB_ULR, auth=(DB_USER, DB_PASS), encrypted=DB_ENCRYPTED)"
   ]
  },
  {
   "cell_type": "code",
   "execution_count": null,
   "metadata": {},
   "outputs": [],
   "source": [
    "# Schema \n",
    "with driver.session(database = DB_NAME) as session:\n",
    "    result = session.execute_write( lambda tx: \n",
    "        tx.run(\"CREATE CONSTRAINT IF NOT EXISTS FOR (n:App) REQUIRE (n.id) IS NODE KEY\").consume()\n",
    "    )\n",
    "    result = session.execute_write( lambda tx: \n",
    "        tx.run(\"CREATE CONSTRAINT IF NOT EXISTS FOR (n:Package) REQUIRE (n.name) IS NODE KEY\").consume()\n",
    "    )\n",
    "    result = session.execute_write( lambda tx: \n",
    "        tx.run(\"CREATE INDEX IF NOT EXISTS FOR (p:App) ON (p.wcc)\").consume()\n",
    "    )"
   ]
  },
  {
   "cell_type": "code",
   "execution_count": null,
   "metadata": {},
   "outputs": [],
   "source": [
    "df = pd.read_csv(\"/Users/haklof/import/Android_Permission.csv\").dropna()\n",
    "df.head()"
   ]
  },
  {
   "cell_type": "code",
   "execution_count": null,
   "metadata": {},
   "outputs": [],
   "source": [
    "df.App.value_counts()"
   ]
  },
  {
   "cell_type": "code",
   "execution_count": null,
   "metadata": {},
   "outputs": [],
   "source": [
    "apps = list()\n",
    "packages = set()\n",
    "app_installs = list()\n",
    "app_links = list()\n",
    "for idx, row in df.iterrows():\n",
    "    app = { \n",
    "        'appId': idx,\n",
    "        'name': row['App'],\n",
    "        'description': row['Description'],\n",
    "        'rating': row['Rating'],\n",
    "        'numberOfRatings': row['Number of ratings'],\n",
    "        'price': row['Price'],\n",
    "        'dangerous': row['Dangerous permissions count'],\n",
    "        'safe': row['Safe permissions count'],\n",
    "        'rowNum': idx,\n",
    "        'class': row['Class']\n",
    "    }\n",
    "    if row['Package'] != None:\n",
    "        app_installs.append({'appId': idx, 'package': row['Package']})\n",
    "    app_links.append({'appId': idx,  \"relatedPackages\": [ package.strip() for package in row['Related apps'][1:-1].split(',') ]})\n",
    "    packages.add(row['Package'])\n",
    "    [ packages.add(package.strip()) for package in row['Related apps'][1:-1].split(',') ]\n",
    "    apps.append(app)        \n",
    "print(app_links[0])"
   ]
  },
  {
   "cell_type": "code",
   "execution_count": null,
   "metadata": {},
   "outputs": [],
   "source": [
    "# Create Package nodes\n",
    "with driver.session(database = DB_NAME) as session:\n",
    "    result = session.execute_write( lambda tx: \n",
    "        tx.run(\n",
    "            \"\"\"\n",
    "            UNWIND $packages as package\n",
    "            MERGE (a:Package{name:package})\n",
    "            \"\"\",\n",
    "            packages = list(packages)\n",
    "        ).data()\n",
    "    )\n",
    "    resultFrame = pd.DataFrame(result)\n",
    "    display(resultFrame)"
   ]
  },
  {
   "cell_type": "code",
   "execution_count": null,
   "metadata": {},
   "outputs": [],
   "source": [
    "# Create App nodes\n",
    "with driver.session(database = DB_NAME) as session:\n",
    "    result = session.execute_write( lambda tx: \n",
    "        tx.run(\n",
    "            \"\"\"\n",
    "            UNWIND $apps as app\n",
    "            MERGE (a:App{id:app.appId})\n",
    "            SET a.name = app.name,\n",
    "                a.description = app.description,\n",
    "                a.rating = toFloat(app.rating),\n",
    "                a.numberOfRatings = toInteger(app.numberOfRatings),\n",
    "                a.price = toFloat(app.price),\n",
    "                a.dangerous = toInteger(app.dangerous),\n",
    "                a.safe = toInteger(app.safe),\n",
    "                a.rowNum = app.rowNum,\n",
    "                a.class = toInteger(app.class)\n",
    "            \"\"\",\n",
    "            apps = apps\n",
    "        ).data()\n",
    "    )\n",
    "    resultFrame = pd.DataFrame(result)\n",
    "    display(resultFrame)"
   ]
  },
  {
   "cell_type": "code",
   "execution_count": null,
   "metadata": {},
   "outputs": [],
   "source": [
    "# Create App - INSTALLS -> Package rels\n",
    "with driver.session(database = DB_NAME) as session:\n",
    "    result = session.execute_write( lambda tx: \n",
    "        tx.run(\n",
    "            \"\"\"\n",
    "            UNWIND $app_installs as rel\n",
    "            MATCH (a:App{id: rel.appId}), (p:Package{name: rel.package})\n",
    "            MERGE (a)-[:INSTALLS]->(p)\n",
    "            \"\"\",\n",
    "            app_installs = app_installs\n",
    "        ).data()\n",
    "    )\n",
    "    resultFrame = pd.DataFrame(result)\n",
    "    display(resultFrame)"
   ]
  },
  {
   "cell_type": "code",
   "execution_count": null,
   "metadata": {},
   "outputs": [],
   "source": [
    "# Create App - LINKS -> Package rels\n",
    "with driver.session(database = DB_NAME) as session:\n",
    "    result = session.execute_write( lambda tx: \n",
    "        tx.run(\n",
    "            \"\"\"\n",
    "            UNWIND $app_links as rel\n",
    "            MATCH (a:App{id: rel.appId}), (p:Package)\n",
    "            WHERE p.name in rel.relatedPackages\n",
    "            MERGE (a)-[:LINKS]->(p)\n",
    "            \"\"\",\n",
    "            app_links = app_links\n",
    "        ).data()\n",
    "    )\n",
    "    resultFrame = pd.DataFrame(result)\n",
    "    display(resultFrame)"
   ]
  },
  {
   "cell_type": "code",
   "execution_count": null,
   "metadata": {},
   "outputs": [],
   "source": [
    "# Add label for Malware\n",
    "with driver.session(database = DB_NAME) as session:\n",
    "    result = session.execute_write( lambda tx: \n",
    "        tx.run(\n",
    "            \"\"\"\n",
    "            MATCH (a:App) where a.class = 1\n",
    "            set a:Malware\n",
    "            \"\"\"\n",
    "        ).data()\n",
    "    )\n",
    "    resultFrame = pd.DataFrame(result)\n",
    "    display(resultFrame)"
   ]
  },
  {
   "cell_type": "code",
   "execution_count": null,
   "metadata": {},
   "outputs": [],
   "source": [
    "# Calculate dangerousness of app\n",
    "with driver.session(database = DB_NAME) as session:\n",
    "    result = session.execute_write( lambda tx: \n",
    "        tx.run(\n",
    "            \"\"\"\n",
    "            MATCH (a:App)\n",
    "            set a.dangerousness = a.dangerous/(a.safe + a.dangerous + 0.00001)\n",
    "            \"\"\"\n",
    "        ).data()\n",
    "    )\n",
    "    resultFrame = pd.DataFrame(result)\n",
    "    display(resultFrame)"
   ]
  },
  {
   "cell_type": "code",
   "execution_count": null,
   "metadata": {},
   "outputs": [],
   "source": [
    "# Is an app more safe if other appls link what it installs?\n",
    "with driver.session(database = DB_NAME) as session:\n",
    "    result = session.execute_write( lambda tx: \n",
    "        tx.run(\n",
    "            \"\"\"\n",
    "            MATCH (a:App)-[:INSTALLS]->(p:Package)\n",
    "            set a.numberOfDependants = count { (p)<-[:INSTALLS]-() }\n",
    "            \"\"\"\n",
    "        ).data()\n",
    "    )\n",
    "    resultFrame = pd.DataFrame(result)\n",
    "    display(resultFrame)"
   ]
  },
  {
   "cell_type": "code",
   "execution_count": null,
   "metadata": {},
   "outputs": [],
   "source": [
    "# Create graph projection \n",
    "with driver.session(database = DB_NAME) as session:\n",
    "    result = session.execute_write( lambda tx: \n",
    "        tx.run(\"CALL gds.graph.drop('app-projection', false)\").consume()\n",
    "    )\n",
    "with driver.session(database = DB_NAME) as session:\n",
    "    result = session.execute_write( lambda tx: \n",
    "        tx.run(\n",
    "            \"\"\"\n",
    "            CALL gds.graph.project.cypher('app-projection',\n",
    "            'MATCH (a:App) return id(a) as id, \n",
    "                [\"App\"] as labels,\n",
    "                a.class as class, \n",
    "                coalesce(a.numberOfRatings, 0) as numberOfRatings, \n",
    "                coalesce(a.rating,0.0) as rating, \n",
    "                coalesce(a.price,0.0) as price,\n",
    "                coalesce(a.dangerous,0) as dangerous,\n",
    "                coalesce(a.safe,0) as safe,\n",
    "                a.dangerousness as dangerousness,\n",
    "                a.numberOfDependants as numberOfDependants',\n",
    "            'MATCH (a1:App)-[:LINKS|INSTALLS]->(p:Package)<-[:LINKS|INSTALLS]->(a2:App) \n",
    "            RETURN id(a1) as source, id(a2) as target, (a1.dangerousness+a2.dangerousness)/2 as risk\n",
    "            ')\n",
    "            \"\"\"\n",
    "        ).data()\n",
    "    )\n",
    "    resultFrame = pd.DataFrame(result)\n",
    "    display(resultFrame)"
   ]
  },
  {
   "cell_type": "code",
   "execution_count": null,
   "metadata": {},
   "outputs": [],
   "source": [
    "# Pagerank\n",
    "with driver.session(database = DB_NAME) as session:\n",
    "    result = session.write_transaction( lambda tx: \n",
    "        tx.run(\n",
    "            \"\"\"\n",
    "            call gds.pageRank.mutate('app-projection',{\n",
    "                    maxIterations: 100,\n",
    "                    mutateProperty: 'pageRank'\n",
    "            })    \n",
    "            \"\"\"\n",
    "        ).data()\n",
    "    )\n",
    "    resultFrame = pd.DataFrame(result)\n",
    "    display(resultFrame)"
   ]
  },
  {
   "cell_type": "code",
   "execution_count": null,
   "metadata": {},
   "outputs": [],
   "source": [
    "# WCC\n",
    "with driver.session(database = DB_NAME) as session:\n",
    "    result = session.write_transaction( lambda tx: \n",
    "        tx.run(\n",
    "            \"\"\"\n",
    "            call gds.wcc.mutate('app-projection',{\n",
    "                    mutateProperty: 'wcc'\n",
    "            })    \n",
    "            \"\"\"\n",
    "        ).data()\n",
    "    )\n",
    "    resultFrame = pd.DataFrame(result)\n",
    "    display(resultFrame)"
   ]
  },
  {
   "cell_type": "code",
   "execution_count": null,
   "metadata": {},
   "outputs": [],
   "source": [
    "# Create embedding\n",
    "with driver.session(database = DB_NAME) as session:\n",
    "    result = session.write_transaction( lambda tx: \n",
    "        tx.run(\n",
    "            \"\"\"\n",
    "            call gds.fastRP.mutate('app-projection',{\n",
    "                embeddingDimension: 8, \n",
    "                relationshipWeightProperty: 'risk',\n",
    "                iterationWeights: [0.0, 1.0, 0.8, 0.7],\n",
    "                mutateProperty: 'embedding'\n",
    "                })\n",
    "                \n",
    "            \"\"\"\n",
    "        ).data()\n",
    "    )\n",
    "    resultFrame = pd.DataFrame(result)\n",
    "    display(resultFrame)"
   ]
  },
  {
   "cell_type": "code",
   "execution_count": null,
   "metadata": {},
   "outputs": [],
   "source": [
    "## Todo: Upgrade to use ml pipeline\n",
    "# with driver.session(database = DB_NAME) as session:\n",
    "#     try: \n",
    "#         result = session.execute_write( lambda tx: \n",
    "#             tx.run(\"call gds.beta.model.drop('risk-model')\").consume()\n",
    "#         )\n",
    "#     except:\n",
    "#         print(\"Failed to remove model\")\n",
    "# with driver.session(database = DB_NAME) as session:\n",
    "#     result = session.execute_write( lambda tx: \n",
    "#         # Todo: 'numberOfRatings' has NaN value?\n",
    "#         tx.run(\n",
    "#             \"\"\"\n",
    "#             call gds.ml.nodeClassification.train('app-projection',{\n",
    "#                 nodeLabels: ['App'],\n",
    "#                 modelName: 'risk-model',\n",
    "#                 featureProperties: ['embedding', 'rating', 'price', 'dangerous', 'safe', 'dangerousness', 'numberOfDependants', 'pageRank', 'wcc'], \n",
    "#                 targetProperty: 'class', \n",
    "#                 metrics: ['F1_WEIGHTED', 'ACCURACY'], \n",
    "#                 holdoutFraction: 0.7, \n",
    "#                 validationFolds: 5, \n",
    "#                 randomSeed: 3,\n",
    "#                 params: [\n",
    "#                     {penalty: 0, minEpochs: 10, maxEpochs: 10000, tolerance: 0.00001, patience: 5},\n",
    "#                     {penalty: 0.5, minEpochs: 10, maxEpochs: 10000, tolerance: 0.00001, patience: 5},\n",
    "#                     {penalty: 1.0, minEpochs: 10, maxEpochs: 10000, tolerance: 0.00001, patience: 5}\n",
    "#                     ]\n",
    "#             }) yield modelInfo\n",
    "#             return modelInfo\n",
    "#             \"\"\"\n",
    "#         ).data()\n",
    "#     )\n",
    "#     print(json.dumps(result, indent=2))"
   ]
  },
  {
   "cell_type": "code",
   "execution_count": null,
   "metadata": {},
   "outputs": [],
   "source": [
    "# Store feutures in graph\n",
    "with driver.session(database = DB_NAME) as session:\n",
    "    result = session.execute_write( lambda tx: \n",
    "        tx.run(\n",
    "            \"\"\"\n",
    "            call gds.graph.nodeProperties.write('app-projection',['pageRank','wcc'])\n",
    "            \"\"\"\n",
    "        ).data()\n",
    "    )\n",
    "    resultFrame = pd.DataFrame(result)\n",
    "    display(resultFrame)"
   ]
  },
  {
   "cell_type": "code",
   "execution_count": null,
   "metadata": {},
   "outputs": [],
   "source": [
    "# Drop projection\n",
    "with driver.session(database = DB_NAME) as session:\n",
    "    result = session.execute_write( lambda tx: \n",
    "        tx.run(\"CALL gds.graph.drop('app-projection', false)\").consume()\n",
    "    )"
   ]
  },
  {
   "cell_type": "code",
   "execution_count": null,
   "metadata": {},
   "outputs": [],
   "source": []
  }
 ],
 "metadata": {
  "kernelspec": {
   "display_name": "notebooks",
   "language": "python",
   "name": "python3"
  },
  "language_info": {
   "codemirror_mode": {
    "name": "ipython",
    "version": 3
   },
   "file_extension": ".py",
   "mimetype": "text/x-python",
   "name": "python",
   "nbconvert_exporter": "python",
   "pygments_lexer": "ipython3",
   "version": "3.9.16"
  }
 },
 "nbformat": 4,
 "nbformat_minor": 4
}
