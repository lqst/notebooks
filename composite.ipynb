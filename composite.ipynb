{
 "cells": [
  {
   "cell_type": "markdown",
   "metadata": {
    "id": "ynPe6RLRWSKd"
   },
   "source": [
    "# Setup"
   ]
  },
  {
   "cell_type": "markdown",
   "metadata": {
    "id": "09qvRMrxye7l"
   },
   "source": [
    "Import our usual suspects"
   ]
  },
  {
   "cell_type": "code",
   "execution_count": 1,
   "metadata": {
    "id": "BOfc_-mllcUE"
   },
   "outputs": [
    {
     "name": "stderr",
     "output_type": "stream",
     "text": [
      "/opt/homebrew/Caskroom/miniforge/base/envs/notebooks_new/lib/python3.11/site-packages/tqdm/auto.py:21: TqdmWarning: IProgress not found. Please update jupyter and ipywidgets. See https://ipywidgets.readthedocs.io/en/stable/user_install.html\n",
      "  from .autonotebook import tqdm as notebook_tqdm\n"
     ]
    }
   ],
   "source": [
    "import os\n",
    "import pandas as pd\n",
    "from dotenv import load_dotenv\n",
    "from graphdatascience import GraphDataScience\n",
    "from neo4j import Query, GraphDatabase, RoutingControl, Result "
   ]
  },
  {
   "cell_type": "code",
   "execution_count": 2,
   "metadata": {
    "id": "CHR_0lmElZ-R"
   },
   "outputs": [],
   "source": [
    "connectionUrl = 'neo4j://localhost:7687'\n",
    "username = 'neo4j'\n",
    "password = 'test1234'\n",
    "database = 'comp'"
   ]
  },
  {
   "cell_type": "code",
   "execution_count": 3,
   "metadata": {},
   "outputs": [],
   "source": [
    "driver = GraphDatabase.driver(\n",
    "    connectionUrl, \n",
    "    auth=(username, password)\n",
    ")\n",
    "driver.verify_connectivity()"
   ]
  },
  {
   "cell_type": "code",
   "execution_count": 5,
   "metadata": {},
   "outputs": [
    {
     "data": {
      "text/html": [
       "<div>\n",
       "<style scoped>\n",
       "    .dataframe tbody tr th:only-of-type {\n",
       "        vertical-align: middle;\n",
       "    }\n",
       "\n",
       "    .dataframe tbody tr th {\n",
       "        vertical-align: top;\n",
       "    }\n",
       "\n",
       "    .dataframe thead th {\n",
       "        text-align: right;\n",
       "    }\n",
       "</style>\n",
       "<table border=\"1\" class=\"dataframe\">\n",
       "  <thead>\n",
       "    <tr style=\"text-align: right;\">\n",
       "      <th></th>\n",
       "      <th>n</th>\n",
       "      <th>db.nameFromElementId(elementId(n))</th>\n",
       "    </tr>\n",
       "  </thead>\n",
       "  <tbody>\n",
       "    <tr>\n",
       "      <th>0</th>\n",
       "      <td>(name)</td>\n",
       "      <td>db1</td>\n",
       "    </tr>\n",
       "    <tr>\n",
       "      <th>1</th>\n",
       "      <td>(name)</td>\n",
       "      <td>db2</td>\n",
       "    </tr>\n",
       "  </tbody>\n",
       "</table>\n",
       "</div>"
      ],
      "text/plain": [
       "        n db.nameFromElementId(elementId(n))\n",
       "0  (name)                                db1\n",
       "1  (name)                                db2"
      ]
     },
     "execution_count": 5,
     "metadata": {},
     "output_type": "execute_result"
    }
   ],
   "source": [
    "# What persons are in the database?\n",
    "driver.execute_query(\n",
    "    ''' \n",
    "    unwind graph.names() as db\n",
    "    call (db) {\n",
    "        use graph.byName(db)\n",
    "        match (n)\n",
    "        return n\n",
    "    }\n",
    "    return n, db.nameFromElementId(elementId(n))\n",
    "    ''',\n",
    "    database_=database,\n",
    "    routing_=RoutingControl.READ,\n",
    "    result_transformer_= lambda r: r.to_df()\n",
    ").head()"
   ]
  },
  {
   "cell_type": "code",
   "execution_count": 32,
   "metadata": {},
   "outputs": [],
   "source": [
    "graph = driver.execute_query(\n",
    "    ''' \n",
    "    unwind graph.names() as db\n",
    "    call (db) {\n",
    "        use graph.byName(db)\n",
    "        match (n)\n",
    "        return n, db.nameFromElementId(elementId(n)) as database\n",
    "    }\n",
    "    return n\n",
    "    ''',\n",
    "    database_=database,\n",
    "    routing_=RoutingControl.READ,\n",
    "    result_transformer_= lambda r: r.graph()\n",
    ")"
   ]
  },
  {
   "cell_type": "code",
   "execution_count": 37,
   "metadata": {},
   "outputs": [
    {
     "name": "stdout",
     "output_type": "stream",
     "text": [
      "node 4:a3ba4636-46c5-40b7-a166-29a1b3a6d403:0 in database 104708691336364032\n",
      "node 4:e33e84d8-37c9-4529-bdfd-1e130b663e3a:0 in database 105834591243206656\n"
     ]
    },
    {
     "name": "stderr",
     "output_type": "stream",
     "text": [
      "/var/folders/fz/bkq199zn3vj1t4n9xphjsvtm0000gp/T/ipykernel_67261/171280409.py:2: DeprecationWarning: `id` is deprecated, use `element_id` instead\n",
      "  print( \"node {nodeId} in database {db}\".format(nodeId = node.element_id, db = node.id) )\n"
     ]
    }
   ],
   "source": [
    "for node in graph.nodes:\n",
    "    print( \"node {nodeId} in database {db}\".format(nodeId = node.element_id, db = node.???) )"
   ]
  },
  {
   "cell_type": "code",
   "execution_count": null,
   "metadata": {},
   "outputs": [],
   "source": []
  }
 ],
 "metadata": {
  "colab": {
   "provenance": [],
   "toc_visible": true
  },
  "kernelspec": {
   "display_name": "notebooks_new",
   "language": "python",
   "name": "python3"
  },
  "language_info": {
   "codemirror_mode": {
    "name": "ipython",
    "version": 3
   },
   "file_extension": ".py",
   "mimetype": "text/x-python",
   "name": "python",
   "nbconvert_exporter": "python",
   "pygments_lexer": "ipython3",
   "version": "3.11.0"
  }
 },
 "nbformat": 4,
 "nbformat_minor": 0
}
