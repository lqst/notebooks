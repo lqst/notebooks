{
 "cells": [
  {
   "cell_type": "code",
   "execution_count": null,
   "metadata": {},
   "outputs": [],
   "source": [
    "import os\n",
    "import pandas as pd\n",
    "from faker import Faker \n",
    "import datetime\n",
    "import csv"
   ]
  },
  {
   "cell_type": "code",
   "execution_count": null,
   "metadata": {},
   "outputs": [],
   "source": [
    "fake = Faker()"
   ]
  },
  {
   "cell_type": "code",
   "execution_count": null,
   "metadata": {},
   "outputs": [],
   "source": [
    "def fake_person(id=0):\n",
    "    first_name = fake.first_name()\n",
    "    last_name = fake.last_name()\n",
    "    return {\n",
    "                \"id:ID\": \"person_id_{id}\".format(id=id),\n",
    "                \"first_name\": first_name,\n",
    "                \"last_name\": last_name,\n",
    "                \"dob:date\" : fake.date(pattern=\"%Y-%m-%d\", end_datetime=datetime.date(1995, 1,1)),\n",
    "                \"email\": str.lower(f\"{first_name}.{last_name}@fake_domain-2.com\"),\n",
    "                \"city\" : fake.city(),\n",
    "                \"country\" : fake.country(),\n",
    "            }"
   ]
  },
  {
   "cell_type": "code",
   "execution_count": null,
   "metadata": {},
   "outputs": [],
   "source": [
    "def fake_person_generation(records, id_start=0):\n",
    "    result = []\n",
    "    id = 0\n",
    "    for i in range(records):\n",
    "        result.append(fake_person(id + id_start))\n",
    "        id += 1\n",
    "    return result"
   ]
  },
  {
   "cell_type": "code",
   "execution_count": null,
   "metadata": {},
   "outputs": [],
   "source": [
    "df_persons = pd.DataFrame(fake_person_generation(10))\n",
    "df_persons.head()"
   ]
  },
  {
   "cell_type": "code",
   "execution_count": null,
   "metadata": {},
   "outputs": [],
   "source": [
    "df_persons.columns.to_list()"
   ]
  },
  {
   "cell_type": "code",
   "execution_count": null,
   "metadata": {},
   "outputs": [],
   "source": [
    "\n",
    "def fake_person_csv(records, id_start=0, f=0):\n",
    "    with open(\"persons{f}.csv\".format(f=f), 'wt') as csvFile:\n",
    "        writer = csv.DictWriter(csvFile, fieldnames=df_persons.columns.to_list())\n",
    "        writer.writeheader()\n",
    "        id = 0\n",
    "        for i in range(records):\n",
    "            writer.writerow(fake_person(id+id_start))\n",
    "            id += 1\n"
   ]
  },
  {
   "cell_type": "code",
   "execution_count": null,
   "metadata": {},
   "outputs": [],
   "source": [
    "rows_per_file=1_000_000;\n",
    "for f in range(100):\n",
    "    fake_person_csv(rows_per_file, id_start=rows_per_file*f, f=f)\n",
    "    f += 1\n"
   ]
  },
  {
   "cell_type": "code",
   "execution_count": null,
   "metadata": {},
   "outputs": [],
   "source": []
  }
 ],
 "metadata": {
  "kernelspec": {
   "display_name": "notebooks",
   "language": "python",
   "name": "python3"
  },
  "language_info": {
   "codemirror_mode": {
    "name": "ipython",
    "version": 3
   },
   "file_extension": ".py",
   "mimetype": "text/x-python",
   "name": "python",
   "nbconvert_exporter": "python",
   "pygments_lexer": "ipython3",
   "version": "3.9.16"
  }
 },
 "nbformat": 4,
 "nbformat_minor": 4
}
