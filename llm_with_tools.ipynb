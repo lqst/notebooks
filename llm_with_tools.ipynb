{
 "cells": [
  {
   "cell_type": "code",
   "execution_count": 33,
   "metadata": {},
   "outputs": [],
   "source": [
    "import os\n",
    "import pandas as pd\n",
    "import numpy as np\n",
    "from typing import Any, Type\n",
    "from neo4j import Query, GraphDatabase, RoutingControl, Result \n",
    "from graphdatascience import GraphDataScience\n",
    "from langchain_openai import OpenAIEmbeddings, ChatOpenAI\n",
    "from langchain_core.prompts import ChatPromptTemplate\n",
    "from langchain_core.output_parsers import StrOutputParser\n",
    "from langchain_core.pydantic_v1 import BaseModel, Field\n",
    "from langchain_core.output_parsers.openai_tools import JsonOutputToolsParser\n",
    "from langchain_core.utils.function_calling import convert_to_openai_function\n",
    "from langchain.agents import initialize_agent, AgentExecutor\n",
    "from langchain.chains.conversation.memory import ConversationBufferWindowMemory\n",
    "from langchain.tools import BaseTool, StructuredTool, tool\n",
    "from langchain.output_parsers.openai_functions import JsonOutputFunctionsParser\n",
    "from langchain_core.messages import HumanMessage\n",
    "import functools\n",
    "import json"
   ]
  },
  {
   "cell_type": "code",
   "execution_count": 34,
   "metadata": {},
   "outputs": [],
   "source": [
    "## Change this\n",
    "os.environ['OPENAI_API_KEY'] = \"yor key here\" \n",
    "DB_ULR = \"neo4j://localhost:7687\"\n",
    "DB_USER = \"neo4j\"\n",
    "DB_PASS = \"test1234\"\n",
    "DB_NAME = \"movies\" "
   ]
  },
  {
   "cell_type": "code",
   "execution_count": 35,
   "metadata": {},
   "outputs": [],
   "source": [
    "driver = GraphDatabase.driver(DB_ULR, auth=(DB_USER, DB_PASS))\n",
    "driver.verify_connectivity()"
   ]
  },
  {
   "cell_type": "code",
   "execution_count": 36,
   "metadata": {},
   "outputs": [
    {
     "data": {
      "text/plain": [
       "'2.6.2'"
      ]
     },
     "execution_count": 36,
     "metadata": {},
     "output_type": "execute_result"
    }
   ],
   "source": [
    "gds = GraphDataScience(driver)\n",
    "gds.set_database(DB_NAME)\n",
    "gds.version()"
   ]
  },
  {
   "cell_type": "markdown",
   "metadata": {},
   "source": [
    "# Provide tools that LLM can use"
   ]
  },
  {
   "cell_type": "code",
   "execution_count": 37,
   "metadata": {},
   "outputs": [],
   "source": [
    "class ActorModel(BaseModel):\n",
    "    actor_name: str = Field(description=\"actor name\")\n",
    "\n",
    "def find_movies_given_an_actor(driver, actor_name: str) -> pd.DataFrame:\n",
    "    \"\"\"Given the name of an actor this function will find the movies\"\"\"\n",
    "    return driver.execute_query(\n",
    "        ''' \n",
    "            match (p:Person{name:$actor})-[r:ACTED_IN]->(m:Movie)\n",
    "            return m.title as movie, \n",
    "                m.released as released, \n",
    "                m.tagline as tagline, \n",
    "                r.roles as roles\n",
    "        ''',\n",
    "        database_=DB_NAME,\n",
    "        actor=actor_name,\n",
    "        routing_=RoutingControl.READ,\n",
    "        result_transformer_= lambda r: r.to_df(),\n",
    "        limit = 20\n",
    "    )"
   ]
  },
  {
   "cell_type": "code",
   "execution_count": 38,
   "metadata": {},
   "outputs": [],
   "source": [
    "llm = ChatOpenAI(model_name=\"gpt-3.5-turbo-0125\", temperature=0)\n",
    "name_to_functions = {\n",
    "    'find_movies_given_an_actor': functools.partial(find_movies_given_an_actor, driver=driver),\n",
    "}\n",
    "tools = [\n",
    "    find_movies_given_an_actor\n",
    "]\n",
    "functions = [convert_to_openai_function(t) for t in tools]\n",
    "llm_with_tools = llm.bind_functions(functions=functions)\n"
   ]
  },
  {
   "cell_type": "code",
   "execution_count": 39,
   "metadata": {},
   "outputs": [],
   "source": [
    "response = llm_with_tools.invoke([HumanMessage(\n",
    "    content=\"\"\"\n",
    "        What movies did Tom Hanks act in? \n",
    "    \"\"\"\n",
    ")])"
   ]
  },
  {
   "cell_type": "code",
   "execution_count": 40,
   "metadata": {},
   "outputs": [],
   "source": [
    "no_tool_available_response = llm_with_tools.invoke([HumanMessage(\n",
    "    content=\"\"\"\n",
    "        What is the age of Tom Hanks? \n",
    "    \"\"\"\n",
    ")])"
   ]
  },
  {
   "cell_type": "code",
   "execution_count": 41,
   "metadata": {},
   "outputs": [
    {
     "data": {
      "text/plain": [
       "AIMessage(content=\"I'm sorry, but I don't have access to real-time information such as the age of Tom Hanks. I can help you find information about his movies if you're interested.\")"
      ]
     },
     "execution_count": 41,
     "metadata": {},
     "output_type": "execute_result"
    }
   ],
   "source": [
    "no_tool_available_response"
   ]
  },
  {
   "cell_type": "code",
   "execution_count": 42,
   "metadata": {},
   "outputs": [
    {
     "name": "stdout",
     "output_type": "stream",
     "text": [
      "function_name:  find_movies_given_an_actor \n",
      "function_params:  {'actor_name': 'Tom Hanks'}\n"
     ]
    }
   ],
   "source": [
    "tool_call = response.additional_kwargs\n",
    "function_name = tool_call['function_call']['name']\n",
    "function_params = json.loads(tool_call['function_call']['arguments'])\n",
    "print(\"function_name: \", function_name, \"\\nfunction_params: \", function_params)"
   ]
  },
  {
   "cell_type": "code",
   "execution_count": 43,
   "metadata": {},
   "outputs": [
    {
     "data": {
      "text/html": [
       "<div>\n",
       "<style scoped>\n",
       "    .dataframe tbody tr th:only-of-type {\n",
       "        vertical-align: middle;\n",
       "    }\n",
       "\n",
       "    .dataframe tbody tr th {\n",
       "        vertical-align: top;\n",
       "    }\n",
       "\n",
       "    .dataframe thead th {\n",
       "        text-align: right;\n",
       "    }\n",
       "</style>\n",
       "<table border=\"1\" class=\"dataframe\">\n",
       "  <thead>\n",
       "    <tr style=\"text-align: right;\">\n",
       "      <th></th>\n",
       "      <th>movie</th>\n",
       "      <th>released</th>\n",
       "      <th>tagline</th>\n",
       "      <th>roles</th>\n",
       "    </tr>\n",
       "  </thead>\n",
       "  <tbody>\n",
       "    <tr>\n",
       "      <th>0</th>\n",
       "      <td>Apollo 13</td>\n",
       "      <td>1995</td>\n",
       "      <td>Houston, we have a problem.</td>\n",
       "      <td>[Jim Lovell]</td>\n",
       "    </tr>\n",
       "    <tr>\n",
       "      <th>1</th>\n",
       "      <td>You've Got Mail</td>\n",
       "      <td>1998</td>\n",
       "      <td>At odds in life... in love on-line.</td>\n",
       "      <td>[Joe Fox]</td>\n",
       "    </tr>\n",
       "    <tr>\n",
       "      <th>2</th>\n",
       "      <td>A League of Their Own</td>\n",
       "      <td>1992</td>\n",
       "      <td>Once in a lifetime you get a chance to do some...</td>\n",
       "      <td>[Jimmy Dugan]</td>\n",
       "    </tr>\n",
       "    <tr>\n",
       "      <th>3</th>\n",
       "      <td>Joe Versus the Volcano</td>\n",
       "      <td>1990</td>\n",
       "      <td>A story of love, lava and burning desire.</td>\n",
       "      <td>[Joe Banks]</td>\n",
       "    </tr>\n",
       "    <tr>\n",
       "      <th>4</th>\n",
       "      <td>That Thing You Do</td>\n",
       "      <td>1996</td>\n",
       "      <td>In every life there comes a time when that thi...</td>\n",
       "      <td>[Mr. White]</td>\n",
       "    </tr>\n",
       "  </tbody>\n",
       "</table>\n",
       "</div>"
      ],
      "text/plain": [
       "                    movie  released  \\\n",
       "0               Apollo 13      1995   \n",
       "1         You've Got Mail      1998   \n",
       "2   A League of Their Own      1992   \n",
       "3  Joe Versus the Volcano      1990   \n",
       "4       That Thing You Do      1996   \n",
       "\n",
       "                                             tagline          roles  \n",
       "0                        Houston, we have a problem.   [Jim Lovell]  \n",
       "1                At odds in life... in love on-line.      [Joe Fox]  \n",
       "2  Once in a lifetime you get a chance to do some...  [Jimmy Dugan]  \n",
       "3          A story of love, lava and burning desire.    [Joe Banks]  \n",
       "4  In every life there comes a time when that thi...    [Mr. White]  "
      ]
     },
     "execution_count": 43,
     "metadata": {},
     "output_type": "execute_result"
    }
   ],
   "source": [
    "df_acted_in = name_to_functions[function_name](**function_params)\n",
    "df_acted_in.head()"
   ]
  }
 ],
 "metadata": {
  "kernelspec": {
   "display_name": "notebooks",
   "language": "python",
   "name": "python3"
  },
  "language_info": {
   "codemirror_mode": {
    "name": "ipython",
    "version": 3
   },
   "file_extension": ".py",
   "mimetype": "text/x-python",
   "name": "python",
   "nbconvert_exporter": "python",
   "pygments_lexer": "ipython3",
   "version": "3.9.16"
  }
 },
 "nbformat": 4,
 "nbformat_minor": 2
}
