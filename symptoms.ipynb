{
 "cells": [
  {
   "cell_type": "code",
   "execution_count": null,
   "metadata": {},
   "outputs": [
    {
     "ename": "",
     "evalue": "",
     "output_type": "error",
     "traceback": [
      "\u001b[1;31mRunning cells with 'Python 3.10.6 64-bit' requires ipykernel package.\n",
      "\u001b[1;31mRun the following command to install 'ipykernel' into the Python environment. \n",
      "\u001b[1;31mCommand: '/opt/homebrew/bin/python3 -m pip install ipykernel -U --user --force-reinstall'"
     ]
    }
   ],
   "source": [
    "\n",
    "DB_ULR = \"neo4j://localhost:7687\"\n",
    "DB_USER = \"neo4j\"\n",
    "DB_PASS = \"test1234\"\n",
    "DB_NAME = \"symptom\""
   ]
  },
  {
   "cell_type": "markdown",
   "metadata": {},
   "source": [
    "# Create driver\n",
    "Also set the DB_NAME"
   ]
  },
  {
   "cell_type": "code",
   "execution_count": 2,
   "metadata": {},
   "outputs": [],
   "source": [
    "import os\n",
    "import pandas as pd\n",
    "import numpy as np\n",
    "from sklearn.manifold import TSNE\n",
    "import matplotlib.pyplot as plt\n",
    "import plotly.graph_objects as go\n",
    "import plotly.express as px \n",
    "from neo4j import GraphDatabase # Python database driver\n",
    "from graphdatascience import GraphDataScience # Python GDS client\n",
    "\n",
    "# And some cermony to create the driver and gds objects\n",
    "driver = GraphDatabase.driver(DB_ULR, auth=(DB_USER, DB_PASS))\n",
    "gds = GraphDataScience(DB_ULR, auth=(DB_USER, DB_PASS))\n",
    "gds.set_database(DB_NAME)"
   ]
  },
  {
   "cell_type": "markdown",
   "metadata": {},
   "source": [
    "# Create databse and schema"
   ]
  },
  {
   "cell_type": "code",
   "execution_count": 3,
   "metadata": {},
   "outputs": [],
   "source": [
    "# Create (or replace) database\n",
    "with driver.session(database = \"system\") as session:\n",
    "    result = session.write_transaction( lambda tx: \n",
    "        tx.run(\n",
    "            \"CREATE OR REPLACE DATABASE {dbname}\".format(dbname = DB_NAME)\n",
    "        ).data()\n",
    "    )"
   ]
  },
  {
   "cell_type": "code",
   "execution_count": 4,
   "metadata": {},
   "outputs": [],
   "source": [
    "# Create indexes and constraints\n",
    "with driver.session(database = DB_NAME) as session:\n",
    "    session.write_transaction( lambda tx: \n",
    "        tx.run(\n",
    "            \"CREATE CONSTRAINT IF NOT EXISTS FOR (n:Symptom) REQUIRE (n.name) IS NODE KEY\"\n",
    "        ).consume()\n",
    "    )\n",
    "    session.write_transaction( lambda tx: \n",
    "        tx.run(\n",
    "            \"CREATE CONSTRAINT IF NOT EXISTS FOR (n:Disease) REQUIRE (n.name) IS NODE KEY\"\n",
    "        ).consume()     \n",
    "    )"
   ]
  },
  {
   "cell_type": "code",
   "execution_count": 5,
   "metadata": {},
   "outputs": [
    {
     "data": {
      "text/html": [
       "<div>\n",
       "<style scoped>\n",
       "    .dataframe tbody tr th:only-of-type {\n",
       "        vertical-align: middle;\n",
       "    }\n",
       "\n",
       "    .dataframe tbody tr th {\n",
       "        vertical-align: top;\n",
       "    }\n",
       "\n",
       "    .dataframe thead th {\n",
       "        text-align: right;\n",
       "    }\n",
       "</style>\n",
       "<table border=\"1\" class=\"dataframe\">\n",
       "  <thead>\n",
       "    <tr style=\"text-align: right;\">\n",
       "      <th></th>\n",
       "      <th>nodeCount</th>\n",
       "    </tr>\n",
       "  </thead>\n",
       "  <tbody>\n",
       "    <tr>\n",
       "      <th>0</th>\n",
       "      <td>0</td>\n",
       "    </tr>\n",
       "  </tbody>\n",
       "</table>\n",
       "</div>"
      ],
      "text/plain": [
       "   nodeCount\n",
       "0          0"
      ]
     },
     "execution_count": 5,
     "metadata": {},
     "output_type": "execute_result"
    }
   ],
   "source": [
    "df = pd.DataFrame( \n",
    "    gds.run_cypher('match (n) return count(*) as nodeCount') \n",
    ")\n",
    "df.head()"
   ]
  },
  {
   "cell_type": "markdown",
   "metadata": {},
   "source": [
    "#  Load data"
   ]
  },
  {
   "cell_type": "code",
   "execution_count": 6,
   "metadata": {},
   "outputs": [
    {
     "data": {
      "text/html": [
       "<div>\n",
       "<style scoped>\n",
       "    .dataframe tbody tr th:only-of-type {\n",
       "        vertical-align: middle;\n",
       "    }\n",
       "\n",
       "    .dataframe tbody tr th {\n",
       "        vertical-align: top;\n",
       "    }\n",
       "\n",
       "    .dataframe thead th {\n",
       "        text-align: right;\n",
       "    }\n",
       "</style>\n",
       "<table border=\"1\" class=\"dataframe\">\n",
       "  <thead>\n",
       "    <tr style=\"text-align: right;\">\n",
       "      <th></th>\n",
       "      <th>Source</th>\n",
       "      <th>Target</th>\n",
       "      <th>Weight</th>\n",
       "    </tr>\n",
       "  </thead>\n",
       "  <tbody>\n",
       "    <tr>\n",
       "      <th>0</th>\n",
       "      <td>influenza</td>\n",
       "      <td>uncoordination</td>\n",
       "      <td>68</td>\n",
       "    </tr>\n",
       "    <tr>\n",
       "      <th>1</th>\n",
       "      <td>influenza</td>\n",
       "      <td>fever</td>\n",
       "      <td>68</td>\n",
       "    </tr>\n",
       "    <tr>\n",
       "      <th>2</th>\n",
       "      <td>influenza</td>\n",
       "      <td>pleuritic pain</td>\n",
       "      <td>68</td>\n",
       "    </tr>\n",
       "    <tr>\n",
       "      <th>3</th>\n",
       "      <td>influenza</td>\n",
       "      <td>snuffle</td>\n",
       "      <td>68</td>\n",
       "    </tr>\n",
       "    <tr>\n",
       "      <th>4</th>\n",
       "      <td>influenza</td>\n",
       "      <td>throat sore</td>\n",
       "      <td>68</td>\n",
       "    </tr>\n",
       "  </tbody>\n",
       "</table>\n",
       "</div>"
      ],
      "text/plain": [
       "      Source          Target  Weight\n",
       "0  influenza  uncoordination      68\n",
       "1  influenza           fever      68\n",
       "2  influenza  pleuritic pain      68\n",
       "3  influenza         snuffle      68\n",
       "4  influenza     throat sore      68"
      ]
     },
     "execution_count": 6,
     "metadata": {},
     "output_type": "execute_result"
    }
   ],
   "source": [
    "# Read csv file\n",
    "# Source https://github.com/deshanadesai/Symptom-X-/blob/master/dataset_clean1.csv\n",
    "csv = pd.read_csv('https://raw.githubusercontent.com/deshanadesai/Symptom-X-/master/dataset_clean1.csv')\n",
    "csv.head()"
   ]
  },
  {
   "cell_type": "code",
   "execution_count": 7,
   "metadata": {},
   "outputs": [
    {
     "data": {
      "text/plain": [
       "0    uncoordination\n",
       "1             fever\n",
       "2    pleuritic pain\n",
       "3           snuffle\n",
       "4       throat sore\n",
       "Name: Target, dtype: object"
      ]
     },
     "execution_count": 7,
     "metadata": {},
     "output_type": "execute_result"
    }
   ],
   "source": [
    "# Select all unique symptoms\n",
    "symptoms = csv['Target'].drop_duplicates().dropna()\n",
    "symptoms.head()"
   ]
  },
  {
   "cell_type": "code",
   "execution_count": 8,
   "metadata": {},
   "outputs": [
    {
     "data": {
      "text/html": [
       "<div>\n",
       "<style scoped>\n",
       "    .dataframe tbody tr th:only-of-type {\n",
       "        vertical-align: middle;\n",
       "    }\n",
       "\n",
       "    .dataframe tbody tr th {\n",
       "        vertical-align: top;\n",
       "    }\n",
       "\n",
       "    .dataframe thead th {\n",
       "        text-align: right;\n",
       "    }\n",
       "</style>\n",
       "<table border=\"1\" class=\"dataframe\">\n",
       "  <thead>\n",
       "    <tr style=\"text-align: right;\">\n",
       "      <th></th>\n",
       "      <th>nodesCreated</th>\n",
       "    </tr>\n",
       "  </thead>\n",
       "  <tbody>\n",
       "    <tr>\n",
       "      <th>0</th>\n",
       "      <td>202</td>\n",
       "    </tr>\n",
       "  </tbody>\n",
       "</table>\n",
       "</div>"
      ],
      "text/plain": [
       "   nodesCreated\n",
       "0           202"
      ]
     },
     "execution_count": 8,
     "metadata": {},
     "output_type": "execute_result"
    }
   ],
   "source": [
    "# Create Symptom nodes\n",
    "for chunk in np.array_split(symptoms, 2):\n",
    "    with driver.session(database = DB_NAME) as session:\n",
    "        result = session.write_transaction( lambda tx: \n",
    "            tx.run(\n",
    "                \"\"\"\n",
    "                UNWIND $symptoms as symptomName\n",
    "                MERGE (:Symptom{name: symptomName})\n",
    "                RETURN count(*) as nodesCreated\n",
    "                \"\"\",\n",
    "                symptoms = chunk.to_list()\n",
    "            ).data()\n",
    "        )\n",
    "        df = pd.DataFrame(result)\n",
    "df.head()"
   ]
  },
  {
   "cell_type": "code",
   "execution_count": 9,
   "metadata": {},
   "outputs": [
    {
     "data": {
      "text/plain": [
       "0                influenza\n",
       "21               gastritis\n",
       "33    hypercholesterolemia\n",
       "48                epilepsy\n",
       "61     insufficiency renal\n",
       "Name: Source, dtype: object"
      ]
     },
     "execution_count": 9,
     "metadata": {},
     "output_type": "execute_result"
    }
   ],
   "source": [
    "# Select all unique diseases\n",
    "diseases = csv['Source'].drop_duplicates().dropna()\n",
    "diseases.head()"
   ]
  },
  {
   "cell_type": "code",
   "execution_count": 10,
   "metadata": {},
   "outputs": [
    {
     "data": {
      "text/html": [
       "<div>\n",
       "<style scoped>\n",
       "    .dataframe tbody tr th:only-of-type {\n",
       "        vertical-align: middle;\n",
       "    }\n",
       "\n",
       "    .dataframe tbody tr th {\n",
       "        vertical-align: top;\n",
       "    }\n",
       "\n",
       "    .dataframe thead th {\n",
       "        text-align: right;\n",
       "    }\n",
       "</style>\n",
       "<table border=\"1\" class=\"dataframe\">\n",
       "  <thead>\n",
       "    <tr style=\"text-align: right;\">\n",
       "      <th></th>\n",
       "      <th>nodesCreated</th>\n",
       "    </tr>\n",
       "  </thead>\n",
       "  <tbody>\n",
       "    <tr>\n",
       "      <th>0</th>\n",
       "      <td>148</td>\n",
       "    </tr>\n",
       "  </tbody>\n",
       "</table>\n",
       "</div>"
      ],
      "text/plain": [
       "   nodesCreated\n",
       "0           148"
      ]
     },
     "execution_count": 10,
     "metadata": {},
     "output_type": "execute_result"
    }
   ],
   "source": [
    "# Create Disease nodes\n",
    "with driver.session(database = DB_NAME) as session:\n",
    "    result = session.write_transaction( lambda tx: \n",
    "        tx.run(\n",
    "            \"\"\"\n",
    "            UNWIND $diseases as diseaseName\n",
    "            MERGE (:Disease{name: diseaseName})\n",
    "            RETURN count(*) as nodesCreated\n",
    "            \"\"\",\n",
    "            diseases = diseases.to_list()\n",
    "        ).data()\n",
    "    )\n",
    "    df = pd.DataFrame(result)\n",
    "df.head()"
   ]
  },
  {
   "cell_type": "code",
   "execution_count": 11,
   "metadata": {},
   "outputs": [
    {
     "data": {
      "text/html": [
       "<div>\n",
       "<style scoped>\n",
       "    .dataframe tbody tr th:only-of-type {\n",
       "        vertical-align: middle;\n",
       "    }\n",
       "\n",
       "    .dataframe tbody tr th {\n",
       "        vertical-align: top;\n",
       "    }\n",
       "\n",
       "    .dataframe thead th {\n",
       "        text-align: right;\n",
       "    }\n",
       "</style>\n",
       "<table border=\"1\" class=\"dataframe\">\n",
       "  <thead>\n",
       "    <tr style=\"text-align: right;\">\n",
       "      <th></th>\n",
       "      <th>nodesCreated</th>\n",
       "    </tr>\n",
       "  </thead>\n",
       "  <tbody>\n",
       "    <tr>\n",
       "      <th>0</th>\n",
       "      <td>148</td>\n",
       "    </tr>\n",
       "  </tbody>\n",
       "</table>\n",
       "</div>"
      ],
      "text/plain": [
       "   nodesCreated\n",
       "0           148"
      ]
     },
     "execution_count": 11,
     "metadata": {},
     "output_type": "execute_result"
    }
   ],
   "source": [
    "# Select all SYMPTOM_OV relationships\n",
    "symptom_of_rels = csv[['Source','Target', 'Weight']]\n",
    "df.head()"
   ]
  },
  {
   "cell_type": "code",
   "execution_count": 12,
   "metadata": {},
   "outputs": [
    {
     "data": {
      "text/html": [
       "<div>\n",
       "<style scoped>\n",
       "    .dataframe tbody tr th:only-of-type {\n",
       "        vertical-align: middle;\n",
       "    }\n",
       "\n",
       "    .dataframe tbody tr th {\n",
       "        vertical-align: top;\n",
       "    }\n",
       "\n",
       "    .dataframe thead th {\n",
       "        text-align: right;\n",
       "    }\n",
       "</style>\n",
       "<table border=\"1\" class=\"dataframe\">\n",
       "  <thead>\n",
       "    <tr style=\"text-align: right;\">\n",
       "      <th></th>\n",
       "      <th>relsCreated</th>\n",
       "    </tr>\n",
       "  </thead>\n",
       "  <tbody>\n",
       "    <tr>\n",
       "      <th>0</th>\n",
       "      <td>1062</td>\n",
       "    </tr>\n",
       "  </tbody>\n",
       "</table>\n",
       "</div>"
      ],
      "text/plain": [
       "   relsCreated\n",
       "0         1062"
      ]
     },
     "execution_count": 12,
     "metadata": {},
     "output_type": "execute_result"
    }
   ],
   "source": [
    "# Create VIEWED relationships\n",
    "for chunk in np.array_split(symptom_of_rels, 2):\n",
    "    with driver.session(database = DB_NAME) as session:\n",
    "        result = session.write_transaction( lambda tx: \n",
    "            tx.run(\n",
    "                \"\"\"\n",
    "                UNWIND $data as rel\n",
    "                MATCH (d:Disease{name: rel.Source}), (s:Symptom{name: rel.Target})\n",
    "                MERGE (s)-[:SYMPTOM_OF{weight:toInteger(rel.Weight)}]->(d)\n",
    "                RETURN count(*) as relsCreated\n",
    "                \"\"\",\n",
    "                data = chunk.to_dict('records')\n",
    "            ).data()\n",
    "        )\n",
    "        df = pd.DataFrame(result)\n",
    "df.head()"
   ]
  },
  {
   "cell_type": "markdown",
   "metadata": {},
   "source": [
    "# Some basic queries"
   ]
  },
  {
   "cell_type": "code",
   "execution_count": 13,
   "metadata": {},
   "outputs": [
    {
     "data": {
      "text/html": [
       "<div>\n",
       "<style scoped>\n",
       "    .dataframe tbody tr th:only-of-type {\n",
       "        vertical-align: middle;\n",
       "    }\n",
       "\n",
       "    .dataframe tbody tr th {\n",
       "        vertical-align: top;\n",
       "    }\n",
       "\n",
       "    .dataframe thead th {\n",
       "        text-align: right;\n",
       "    }\n",
       "</style>\n",
       "<table border=\"1\" class=\"dataframe\">\n",
       "  <thead>\n",
       "    <tr style=\"text-align: right;\">\n",
       "      <th></th>\n",
       "      <th>symptom</th>\n",
       "      <th>diseases</th>\n",
       "      <th>number_of_diseases</th>\n",
       "    </tr>\n",
       "  </thead>\n",
       "  <tbody>\n",
       "    <tr>\n",
       "      <th>0</th>\n",
       "      <td>shortness of breath</td>\n",
       "      <td>[adhesion, anemia, arthritis, asthma, bronchit...</td>\n",
       "      <td>49</td>\n",
       "    </tr>\n",
       "    <tr>\n",
       "      <th>1</th>\n",
       "      <td>pain</td>\n",
       "      <td>[adenocarcinoma, adhesion, anemia, anxiety sta...</td>\n",
       "      <td>44</td>\n",
       "    </tr>\n",
       "    <tr>\n",
       "      <th>2</th>\n",
       "      <td>fever</td>\n",
       "      <td>[Alzheimer's disease, HIV, acquired immuno-def...</td>\n",
       "      <td>38</td>\n",
       "    </tr>\n",
       "    <tr>\n",
       "      <th>3</th>\n",
       "      <td>diarrhea</td>\n",
       "      <td>[HIV, Pneumocystis carinii pneumonia, acquired...</td>\n",
       "      <td>30</td>\n",
       "    </tr>\n",
       "    <tr>\n",
       "      <th>4</th>\n",
       "      <td>pain abdominal</td>\n",
       "      <td>[adenocarcinoma, biliary calculus, carcinoma c...</td>\n",
       "      <td>29</td>\n",
       "    </tr>\n",
       "  </tbody>\n",
       "</table>\n",
       "</div>"
      ],
      "text/plain": [
       "               symptom                                           diseases  \\\n",
       "0  shortness of breath  [adhesion, anemia, arthritis, asthma, bronchit...   \n",
       "1                 pain  [adenocarcinoma, adhesion, anemia, anxiety sta...   \n",
       "2                fever  [Alzheimer's disease, HIV, acquired immuno-def...   \n",
       "3             diarrhea  [HIV, Pneumocystis carinii pneumonia, acquired...   \n",
       "4       pain abdominal  [adenocarcinoma, biliary calculus, carcinoma c...   \n",
       "\n",
       "   number_of_diseases  \n",
       "0                  49  \n",
       "1                  44  \n",
       "2                  38  \n",
       "3                  30  \n",
       "4                  29  "
      ]
     },
     "execution_count": 13,
     "metadata": {},
     "output_type": "execute_result"
    }
   ],
   "source": [
    "# Syptom with highest degree\n",
    "# Question: What does does it mean?\n",
    "df = gds.run_cypher(\n",
    "    \"\"\"\n",
    "    MATCH (s:Symptom)-[r:SYMPTOM_OF]->(d:Disease)\n",
    "    RETURN \n",
    "        s.name as symptom, \n",
    "        collect(d.name) as diseases, \n",
    "        count(d) as number_of_diseases\n",
    "    ORDER BY number_of_diseases DESC LIMIT $limit\n",
    "    \"\"\",\n",
    "    params = {\"limit\": 5}\n",
    ")\n",
    "df.head()"
   ]
  },
  {
   "cell_type": "code",
   "execution_count": 14,
   "metadata": {},
   "outputs": [
    {
     "data": {
      "text/html": [
       "<div>\n",
       "<style scoped>\n",
       "    .dataframe tbody tr th:only-of-type {\n",
       "        vertical-align: middle;\n",
       "    }\n",
       "\n",
       "    .dataframe tbody tr th {\n",
       "        vertical-align: top;\n",
       "    }\n",
       "\n",
       "    .dataframe thead th {\n",
       "        text-align: right;\n",
       "    }\n",
       "</style>\n",
       "<table border=\"1\" class=\"dataframe\">\n",
       "  <thead>\n",
       "    <tr style=\"text-align: right;\">\n",
       "      <th></th>\n",
       "      <th>symptom</th>\n",
       "      <th>diseases</th>\n",
       "      <th>number_of_diseases</th>\n",
       "    </tr>\n",
       "  </thead>\n",
       "  <tbody>\n",
       "    <tr>\n",
       "      <th>0</th>\n",
       "      <td>tremor resting</td>\n",
       "      <td>[Alzheimer's disease]</td>\n",
       "      <td>1</td>\n",
       "    </tr>\n",
       "    <tr>\n",
       "      <th>1</th>\n",
       "      <td>pin-point pupils</td>\n",
       "      <td>[Alzheimer's disease]</td>\n",
       "      <td>1</td>\n",
       "    </tr>\n",
       "    <tr>\n",
       "      <th>2</th>\n",
       "      <td>drool</td>\n",
       "      <td>[Alzheimer's disease]</td>\n",
       "      <td>1</td>\n",
       "    </tr>\n",
       "  </tbody>\n",
       "</table>\n",
       "</div>"
      ],
      "text/plain": [
       "            symptom               diseases  number_of_diseases\n",
       "0    tremor resting  [Alzheimer's disease]                   1\n",
       "1  pin-point pupils  [Alzheimer's disease]                   1\n",
       "2             drool  [Alzheimer's disease]                   1"
      ]
     },
     "execution_count": 14,
     "metadata": {},
     "output_type": "execute_result"
    }
   ],
   "source": [
    "# Syptom with lowest degree\n",
    "# Question: What does does it mean?\n",
    "df = gds.run_cypher(\n",
    "    \"\"\"\n",
    "    MATCH (s:Symptom)-[r:SYMPTOM_OF]->(d:Disease)\n",
    "    RETURN \n",
    "        s.name as symptom, \n",
    "        collect(d.name) as diseases, \n",
    "        count(d) as number_of_diseases\n",
    "    ORDER BY number_of_diseases ASC LIMIT 3\n",
    "    \"\"\"\n",
    ")\n",
    "df.head()"
   ]
  },
  {
   "cell_type": "code",
   "execution_count": 15,
   "metadata": {},
   "outputs": [
    {
     "data": {
      "text/html": [
       "<div>\n",
       "<style scoped>\n",
       "    .dataframe tbody tr th:only-of-type {\n",
       "        vertical-align: middle;\n",
       "    }\n",
       "\n",
       "    .dataframe tbody tr th {\n",
       "        vertical-align: top;\n",
       "    }\n",
       "\n",
       "    .dataframe thead th {\n",
       "        text-align: right;\n",
       "    }\n",
       "</style>\n",
       "<table border=\"1\" class=\"dataframe\">\n",
       "  <thead>\n",
       "    <tr style=\"text-align: right;\">\n",
       "      <th></th>\n",
       "      <th>disease</th>\n",
       "    </tr>\n",
       "  </thead>\n",
       "  <tbody>\n",
       "    <tr>\n",
       "      <th>0</th>\n",
       "      <td>osteomyelitis</td>\n",
       "    </tr>\n",
       "    <tr>\n",
       "      <th>1</th>\n",
       "      <td>exanthema</td>\n",
       "    </tr>\n",
       "    <tr>\n",
       "      <th>2</th>\n",
       "      <td>cellulitis</td>\n",
       "    </tr>\n",
       "    <tr>\n",
       "      <th>3</th>\n",
       "      <td>infection</td>\n",
       "    </tr>\n",
       "    <tr>\n",
       "      <th>4</th>\n",
       "      <td>lymphatic diseases</td>\n",
       "    </tr>\n",
       "  </tbody>\n",
       "</table>\n",
       "</div>"
      ],
      "text/plain": [
       "              disease\n",
       "0       osteomyelitis\n",
       "1           exanthema\n",
       "2          cellulitis\n",
       "3           infection\n",
       "4  lymphatic diseases"
      ]
     },
     "execution_count": 15,
     "metadata": {},
     "output_type": "execute_result"
    }
   ],
   "source": [
    "# Possible diseases given two symptoms\n",
    "df = gds.run_cypher(\n",
    "    \"\"\"\n",
    "    MATCH (s1:Symptom{name:\"fever\"})-[:SYMPTOM_OF]->(d:Disease)<-[:SYMPTOM_OF]-(s2:Symptom{name:\"swelling\"})\n",
    "    RETURN d.name as disease\n",
    "    \"\"\"\n",
    ")\n",
    "df.head()"
   ]
  },
  {
   "cell_type": "code",
   "execution_count": 16,
   "metadata": {},
   "outputs": [
    {
     "data": {
      "text/html": [
       "<div>\n",
       "<style scoped>\n",
       "    .dataframe tbody tr th:only-of-type {\n",
       "        vertical-align: middle;\n",
       "    }\n",
       "\n",
       "    .dataframe tbody tr th {\n",
       "        vertical-align: top;\n",
       "    }\n",
       "\n",
       "    .dataframe thead th {\n",
       "        text-align: right;\n",
       "    }\n",
       "</style>\n",
       "<table border=\"1\" class=\"dataframe\">\n",
       "  <thead>\n",
       "    <tr style=\"text-align: right;\">\n",
       "      <th></th>\n",
       "      <th>disease</th>\n",
       "      <th>weight</th>\n",
       "    </tr>\n",
       "  </thead>\n",
       "  <tbody>\n",
       "    <tr>\n",
       "      <th>0</th>\n",
       "      <td>infection</td>\n",
       "      <td>1260</td>\n",
       "    </tr>\n",
       "    <tr>\n",
       "      <th>1</th>\n",
       "      <td>cellulitis</td>\n",
       "      <td>682</td>\n",
       "    </tr>\n",
       "    <tr>\n",
       "      <th>2</th>\n",
       "      <td>chronic kidney failure</td>\n",
       "      <td>560</td>\n",
       "    </tr>\n",
       "    <tr>\n",
       "      <th>3</th>\n",
       "      <td>exanthema</td>\n",
       "      <td>416</td>\n",
       "    </tr>\n",
       "    <tr>\n",
       "      <th>4</th>\n",
       "      <td>lymphatic diseases</td>\n",
       "      <td>320</td>\n",
       "    </tr>\n",
       "  </tbody>\n",
       "</table>\n",
       "</div>"
      ],
      "text/plain": [
       "                  disease  weight\n",
       "0               infection    1260\n",
       "1              cellulitis     682\n",
       "2  chronic kidney failure     560\n",
       "3               exanthema     416\n",
       "4      lymphatic diseases     320"
      ]
     },
     "execution_count": 16,
     "metadata": {},
     "output_type": "execute_result"
    }
   ],
   "source": [
    "# Possible diseases given two symptoms\n",
    "# Weighted\n",
    "df = gds.run_cypher(\n",
    "    \"\"\"\n",
    "    MATCH (s1:Symptom{name:\"fever\"})-[r1:SYMPTOM_OF]->(d:Disease)<-[r2:SYMPTOM_OF]-(s2:Symptom{name:\"swelling\"})\n",
    "    RETURN d.name as disease, \n",
    "            r1.weight + r2.weight as weight \n",
    "    ORDER BY weight DESC \n",
    "    \"\"\"\n",
    ")\n",
    "df.head()"
   ]
  },
  {
   "cell_type": "markdown",
   "metadata": {},
   "source": [
    "# Graph data science\n",
    "Can we arrange syptoms based on diseases they share?"
   ]
  },
  {
   "cell_type": "code",
   "execution_count": 17,
   "metadata": {},
   "outputs": [
    {
     "data": {
      "text/plain": [
       "nodeProjection            {'Disease': {'label': 'Disease', 'properties':...\n",
       "relationshipProjection    {'SYMPTOM_OF': {'orientation': 'NATURAL', 'agg...\n",
       "graphName                                                                p1\n",
       "nodeCount                                                               552\n",
       "relationshipCount                                                      2110\n",
       "projectMillis                                                           597\n",
       "Name: 0, dtype: object"
      ]
     },
     "execution_count": 17,
     "metadata": {},
     "output_type": "execute_result"
    }
   ],
   "source": [
    "G1, project_stats = gds.graph.project('p1',['Disease', 'Symptom'], ['SYMPTOM_OF'])\n",
    "project_stats"
   ]
  },
  {
   "cell_type": "code",
   "execution_count": 18,
   "metadata": {},
   "outputs": [
    {
     "data": {
      "text/plain": [
       "preProcessingMillis                                                       0\n",
       "computeMillis                                                            39\n",
       "postProcessingMillis                                                      3\n",
       "nodesCompared                                                           404\n",
       "similarityPairs                                                        3362\n",
       "similarityDistribution    {'p1': 0.5999984741210938, 'max': 1.0000038146...\n",
       "configuration             {'topK': 10, 'similarityMetric': 'OVERLAP', 'b...\n",
       "Name: 0, dtype: object"
      ]
     },
     "execution_count": 18,
     "metadata": {},
     "output_type": "execute_result"
    }
   ],
   "source": [
    "gds.nodeSimilarity.stats(G1, \n",
    "    similarityMetric = 'OVERLAP', \n",
    "    similarityCutoff = 0.6\n",
    ")"
   ]
  },
  {
   "cell_type": "code",
   "execution_count": 19,
   "metadata": {},
   "outputs": [
    {
     "data": {
      "text/plain": [
       "preProcessingMillis                                                       0\n",
       "computeMillis                                                            11\n",
       "writeMillis                                                             103\n",
       "postProcessingMillis                                                     -1\n",
       "nodesCompared                                                           404\n",
       "relationshipsWritten                                                   3362\n",
       "similarityDistribution    {'p1': 0.5999984741210938, 'max': 1.0000038146...\n",
       "configuration             {'topK': 10, 'writeConcurrency': 4, 'similarit...\n",
       "Name: 0, dtype: object"
      ]
     },
     "execution_count": 19,
     "metadata": {},
     "output_type": "execute_result"
    }
   ],
   "source": [
    "gds.nodeSimilarity.write(G1, \n",
    "    similarityMetric = 'OVERLAP', \n",
    "    similarityCutoff = 0.6, \n",
    "    writeRelationshipType = 'NARROWER_THAN', \n",
    "    writeProperty = 'similarity'\n",
    ")"
   ]
  },
  {
   "cell_type": "code",
   "execution_count": 20,
   "metadata": {},
   "outputs": [],
   "source": [
    "G1.drop()"
   ]
  },
  {
   "cell_type": "code",
   "execution_count": 21,
   "metadata": {},
   "outputs": [
    {
     "data": {
      "text/html": [
       "<div>\n",
       "<style scoped>\n",
       "    .dataframe tbody tr th:only-of-type {\n",
       "        vertical-align: middle;\n",
       "    }\n",
       "\n",
       "    .dataframe tbody tr th {\n",
       "        vertical-align: top;\n",
       "    }\n",
       "\n",
       "    .dataframe thead th {\n",
       "        text-align: right;\n",
       "    }\n",
       "</style>\n",
       "<table border=\"1\" class=\"dataframe\">\n",
       "  <thead>\n",
       "    <tr style=\"text-align: right;\">\n",
       "      <th></th>\n",
       "      <th>relationships_deleted</th>\n",
       "    </tr>\n",
       "  </thead>\n",
       "  <tbody>\n",
       "    <tr>\n",
       "      <th>0</th>\n",
       "      <td>2184</td>\n",
       "    </tr>\n",
       "  </tbody>\n",
       "</table>\n",
       "</div>"
      ],
      "text/plain": [
       "   relationships_deleted\n",
       "0                   2184"
      ]
     },
     "execution_count": 21,
     "metadata": {},
     "output_type": "execute_result"
    }
   ],
   "source": [
    "# Touch-up: Remove symmetric NARROWER_THAN relationships\n",
    "df = gds.run_cypher(\n",
    "    \"\"\"\n",
    "    MATCH (s1:Symptom)-[r:NARROWER_THAN]->(s2:Symptom)\n",
    "    WHERE (s2)-[:NARROWER_THAN]->(s1)\n",
    "    DELETE r\n",
    "    RETURN count(*) as relationships_deleted\n",
    "    \"\"\"\n",
    ")\n",
    "df.head()"
   ]
  },
  {
   "cell_type": "code",
   "execution_count": 22,
   "metadata": {},
   "outputs": [
    {
     "data": {
      "text/html": [
       "<div>\n",
       "<style scoped>\n",
       "    .dataframe tbody tr th:only-of-type {\n",
       "        vertical-align: middle;\n",
       "    }\n",
       "\n",
       "    .dataframe tbody tr th {\n",
       "        vertical-align: top;\n",
       "    }\n",
       "\n",
       "    .dataframe thead th {\n",
       "        text-align: right;\n",
       "    }\n",
       "</style>\n",
       "<table border=\"1\" class=\"dataframe\">\n",
       "  <thead>\n",
       "    <tr style=\"text-align: right;\">\n",
       "      <th></th>\n",
       "      <th>relationships_reversed</th>\n",
       "    </tr>\n",
       "  </thead>\n",
       "  <tbody>\n",
       "    <tr>\n",
       "      <th>0</th>\n",
       "      <td>485</td>\n",
       "    </tr>\n",
       "  </tbody>\n",
       "</table>\n",
       "</div>"
      ],
      "text/plain": [
       "   relationships_reversed\n",
       "0                     485"
      ]
     },
     "execution_count": 22,
     "metadata": {},
     "output_type": "execute_result"
    }
   ],
   "source": [
    "# Touch-up: Make NARROWER_THAN point towards the node with the bigger set of adjacent Diseases\n",
    "df = gds.run_cypher(\n",
    "    \"\"\"\n",
    "    MATCH (s1:Symptom)-[r:NARROWER_THAN]->(s2:Symptom)\n",
    "    WHERE size( (s1)-[:SYMPTOM_OF]->() ) > size( (s2)-[:SYMPTOM_OF]->() )\n",
    "    CREATE (s2)-[:NARROWER_THAN{similarity: r.similarity}]->(s1)\n",
    "    DELETE r\n",
    "    RETURN count(*) as relationships_reversed\n",
    "    \"\"\"\n",
    ")\n",
    "df.head()"
   ]
  },
  {
   "cell_type": "code",
   "execution_count": 23,
   "metadata": {},
   "outputs": [
    {
     "data": {
      "text/html": [
       "<div>\n",
       "<style scoped>\n",
       "    .dataframe tbody tr th:only-of-type {\n",
       "        vertical-align: middle;\n",
       "    }\n",
       "\n",
       "    .dataframe tbody tr th {\n",
       "        vertical-align: top;\n",
       "    }\n",
       "\n",
       "    .dataframe thead th {\n",
       "        text-align: right;\n",
       "    }\n",
       "</style>\n",
       "<table border=\"1\" class=\"dataframe\">\n",
       "  <thead>\n",
       "    <tr style=\"text-align: right;\">\n",
       "      <th></th>\n",
       "      <th>relationships_transitive</th>\n",
       "    </tr>\n",
       "  </thead>\n",
       "  <tbody>\n",
       "    <tr>\n",
       "      <th>0</th>\n",
       "      <td>242</td>\n",
       "    </tr>\n",
       "  </tbody>\n",
       "</table>\n",
       "</div>"
      ],
      "text/plain": [
       "   relationships_transitive\n",
       "0                       242"
      ]
     },
     "execution_count": 23,
     "metadata": {},
     "output_type": "execute_result"
    }
   ],
   "source": [
    "# Touch-up: Remove transitive dependencies\n",
    "df = gds.run_cypher(\n",
    "    \"\"\"\n",
    "    MATCH (s:Symptom)-[r:NARROWER_THAN]->(s2:Symptom)\n",
    "    WHERE (s)-[:NARROWER_THAN*2..20]->(s2)\n",
    "    DELETE r\n",
    "    RETURN count(*) as relationships_transitive\n",
    "    \"\"\"\n",
    ")\n",
    "df.head()"
   ]
  },
  {
   "cell_type": "code",
   "execution_count": 24,
   "metadata": {},
   "outputs": [
    {
     "data": {
      "text/html": [
       "<div>\n",
       "<style scoped>\n",
       "    .dataframe tbody tr th:only-of-type {\n",
       "        vertical-align: middle;\n",
       "    }\n",
       "\n",
       "    .dataframe tbody tr th {\n",
       "        vertical-align: top;\n",
       "    }\n",
       "\n",
       "    .dataframe thead th {\n",
       "        text-align: right;\n",
       "    }\n",
       "</style>\n",
       "<table border=\"1\" class=\"dataframe\">\n",
       "  <thead>\n",
       "    <tr style=\"text-align: right;\">\n",
       "      <th></th>\n",
       "      <th>path</th>\n",
       "    </tr>\n",
       "  </thead>\n",
       "  <tbody>\n",
       "    <tr>\n",
       "      <th>0</th>\n",
       "      <td>Murphy's sign-&gt;colic abdominal-&gt;pain</td>\n",
       "    </tr>\n",
       "    <tr>\n",
       "      <th>1</th>\n",
       "      <td>abdomen acute-&gt;flatulence-&gt;pain</td>\n",
       "    </tr>\n",
       "    <tr>\n",
       "      <th>2</th>\n",
       "      <td>abnormal sensation-&gt;fremitus-&gt;pain</td>\n",
       "    </tr>\n",
       "    <tr>\n",
       "      <th>3</th>\n",
       "      <td>ache-&gt;lung nodule-&gt;pain</td>\n",
       "    </tr>\n",
       "    <tr>\n",
       "      <th>4</th>\n",
       "      <td>air fluid level-&gt;flatulence-&gt;pain</td>\n",
       "    </tr>\n",
       "  </tbody>\n",
       "</table>\n",
       "</div>"
      ],
      "text/plain": [
       "                                   path\n",
       "0  Murphy's sign->colic abdominal->pain\n",
       "1       abdomen acute->flatulence->pain\n",
       "2    abnormal sensation->fremitus->pain\n",
       "3               ache->lung nodule->pain\n",
       "4     air fluid level->flatulence->pain"
      ]
     },
     "execution_count": 24,
     "metadata": {},
     "output_type": "execute_result"
    }
   ],
   "source": [
    "# Let's query our new NARROWER_THAN relationships\n",
    "df = gds.run_cypher(\n",
    "    \"\"\"\n",
    "    MATCH (l2:Symptom)-[:NARROWER_THAN]->(l1:Symptom)-[:NARROWER_THAN]->(root:Symptom{name:\"pain\"})\n",
    "    RETURN l2.name + '->' + l1.name + '->' + root.name as path\n",
    "    ORDER BY l2.name, l1.name\n",
    "    \"\"\"\n",
    ")\n",
    "df.head()"
   ]
  },
  {
   "cell_type": "markdown",
   "metadata": {},
   "source": [
    "## Conclusions\n",
    "We have now learned the Taxonomy of our data :)"
   ]
  },
  {
   "cell_type": "code",
   "execution_count": 25,
   "metadata": {},
   "outputs": [
    {
     "data": {
      "text/plain": [
       "nodeProjection            {'Symptom': {'label': 'Symptom', 'properties':...\n",
       "relationshipProjection    {'NARROWER_THAN': {'orientation': 'NATURAL', '...\n",
       "graphName                                                                p2\n",
       "nodeCount                                                               404\n",
       "relationshipCount                                                       936\n",
       "projectMillis                                                             6\n",
       "Name: 0, dtype: object"
      ]
     },
     "execution_count": 25,
     "metadata": {},
     "output_type": "execute_result"
    }
   ],
   "source": [
    "# Let's check what communities we have\n",
    "# What type of graph is this?\n",
    "G2, project_stats, =gds.graph.project('p2',['Symptom'], ['NARROWER_THAN'])\n",
    "project_stats"
   ]
  },
  {
   "cell_type": "code",
   "execution_count": 26,
   "metadata": {},
   "outputs": [
    {
     "data": {
      "text/plain": [
       "componentCount                                                          26\n",
       "componentDistribution    {'p99': 378, 'min': 1, 'max': 378, 'mean': 15....\n",
       "postProcessingMillis                                                     9\n",
       "preProcessingMillis                                                      0\n",
       "computeMillis                                                            2\n",
       "configuration            {'jobId': '5da643e0-619a-4d18-9bf9-465beb56444...\n",
       "Name: 0, dtype: object"
      ]
     },
     "execution_count": 26,
     "metadata": {},
     "output_type": "execute_result"
    }
   ],
   "source": [
    "gds.wcc.stats(G2)"
   ]
  },
  {
   "cell_type": "code",
   "execution_count": 27,
   "metadata": {},
   "outputs": [
    {
     "data": {
      "text/plain": [
       "mutateMillis                                                             1\n",
       "nodePropertiesWritten                                                  404\n",
       "componentCount                                                          26\n",
       "componentDistribution    {'p99': 378, 'min': 1, 'max': 378, 'mean': 15....\n",
       "postProcessingMillis                                                    10\n",
       "preProcessingMillis                                                      0\n",
       "computeMillis                                                            1\n",
       "configuration            {'jobId': 'f9866788-295b-4cbf-b2db-a2d28004ebf...\n",
       "Name: 0, dtype: object"
      ]
     },
     "execution_count": 27,
     "metadata": {},
     "output_type": "execute_result"
    }
   ],
   "source": [
    "gds.wcc.mutate(G2, mutateProperty='wccId')"
   ]
  },
  {
   "cell_type": "code",
   "execution_count": 28,
   "metadata": {},
   "outputs": [
    {
     "data": {
      "text/plain": [
       "writeMillis               56\n",
       "graphName                 p2\n",
       "nodeProperties       [wccId]\n",
       "propertiesWritten        404\n",
       "Name: 0, dtype: object"
      ]
     },
     "execution_count": 28,
     "metadata": {},
     "output_type": "execute_result"
    }
   ],
   "source": [
    "gds.graph.writeNodeProperties(G2, ['wccId'])"
   ]
  },
  {
   "cell_type": "code",
   "execution_count": 29,
   "metadata": {},
   "outputs": [
    {
     "data": {
      "text/html": [
       "<div>\n",
       "<style scoped>\n",
       "    .dataframe tbody tr th:only-of-type {\n",
       "        vertical-align: middle;\n",
       "    }\n",
       "\n",
       "    .dataframe tbody tr th {\n",
       "        vertical-align: top;\n",
       "    }\n",
       "\n",
       "    .dataframe thead th {\n",
       "        text-align: right;\n",
       "    }\n",
       "</style>\n",
       "<table border=\"1\" class=\"dataframe\">\n",
       "  <thead>\n",
       "    <tr style=\"text-align: right;\">\n",
       "      <th></th>\n",
       "      <th>communityId</th>\n",
       "      <th>symptoms</th>\n",
       "      <th>communitySize</th>\n",
       "      <th>diseases</th>\n",
       "    </tr>\n",
       "  </thead>\n",
       "  <tbody>\n",
       "    <tr>\n",
       "      <th>0</th>\n",
       "      <td>0</td>\n",
       "      <td>[uncoordination]</td>\n",
       "      <td>1</td>\n",
       "      <td>[encephalopathy, influenza]</td>\n",
       "    </tr>\n",
       "    <tr>\n",
       "      <th>1</th>\n",
       "      <td>4</td>\n",
       "      <td>[throat sore]</td>\n",
       "      <td>1</td>\n",
       "      <td>[upper respiratory infection, spasm bronchial,...</td>\n",
       "    </tr>\n",
       "    <tr>\n",
       "      <th>2</th>\n",
       "      <td>9</td>\n",
       "      <td>[scleral icterus]</td>\n",
       "      <td>1</td>\n",
       "      <td>[gastroenteritis, influenza]</td>\n",
       "    </tr>\n",
       "    <tr>\n",
       "      <th>3</th>\n",
       "      <td>24</td>\n",
       "      <td>[disequilibrium]</td>\n",
       "      <td>2</td>\n",
       "      <td>[gastritis]</td>\n",
       "    </tr>\n",
       "    <tr>\n",
       "      <th>4</th>\n",
       "      <td>24</td>\n",
       "      <td>[dizziness]</td>\n",
       "      <td>2</td>\n",
       "      <td>[hypertensive disease, hyperlipidemia, hemorrh...</td>\n",
       "    </tr>\n",
       "  </tbody>\n",
       "</table>\n",
       "</div>"
      ],
      "text/plain": [
       "   communityId           symptoms  communitySize  \\\n",
       "0            0   [uncoordination]              1   \n",
       "1            4      [throat sore]              1   \n",
       "2            9  [scleral icterus]              1   \n",
       "3           24   [disequilibrium]              2   \n",
       "4           24        [dizziness]              2   \n",
       "\n",
       "                                            diseases  \n",
       "0                        [encephalopathy, influenza]  \n",
       "1  [upper respiratory infection, spasm bronchial,...  \n",
       "2                       [gastroenteritis, influenza]  \n",
       "3                                        [gastritis]  \n",
       "4  [hypertensive disease, hyperlipidemia, hemorrh...  "
      ]
     },
     "execution_count": 29,
     "metadata": {},
     "output_type": "execute_result"
    }
   ],
   "source": [
    "# Let's check the small iselands\n",
    "df = gds.run_cypher(\n",
    "    \"\"\"\n",
    "    MATCH (s:Symptom)\n",
    "    WITH s.wccId as communityId, count(*) as communitySize where communitySize < 5\n",
    "    MATCH (s:Symptom{wccId:communityId})\n",
    "    RETURN communityId, \n",
    "            collect(s.name) as symptoms, \n",
    "            communitySize, \n",
    "            [ (s)-[:SYMPTOM_OF]->(d) | d.name ] as diseases\n",
    "    ORDER BY communityId\n",
    "    \"\"\"\n",
    ")\n",
    "df.head()\n"
   ]
  },
  {
   "cell_type": "code",
   "execution_count": 30,
   "metadata": {},
   "outputs": [
    {
     "data": {
      "text/html": [
       "<div>\n",
       "<style scoped>\n",
       "    .dataframe tbody tr th:only-of-type {\n",
       "        vertical-align: middle;\n",
       "    }\n",
       "\n",
       "    .dataframe tbody tr th {\n",
       "        vertical-align: top;\n",
       "    }\n",
       "\n",
       "    .dataframe thead th {\n",
       "        text-align: right;\n",
       "    }\n",
       "</style>\n",
       "<table border=\"1\" class=\"dataframe\">\n",
       "  <thead>\n",
       "    <tr style=\"text-align: right;\">\n",
       "      <th></th>\n",
       "      <th>communityId</th>\n",
       "      <th>communitySize</th>\n",
       "    </tr>\n",
       "  </thead>\n",
       "  <tbody>\n",
       "    <tr>\n",
       "      <th>0</th>\n",
       "      <td>1</td>\n",
       "      <td>378</td>\n",
       "    </tr>\n",
       "    <tr>\n",
       "      <th>1</th>\n",
       "      <td>24</td>\n",
       "      <td>2</td>\n",
       "    </tr>\n",
       "    <tr>\n",
       "      <th>2</th>\n",
       "      <td>4</td>\n",
       "      <td>1</td>\n",
       "    </tr>\n",
       "    <tr>\n",
       "      <th>3</th>\n",
       "      <td>9</td>\n",
       "      <td>1</td>\n",
       "    </tr>\n",
       "    <tr>\n",
       "      <th>4</th>\n",
       "      <td>0</td>\n",
       "      <td>1</td>\n",
       "    </tr>\n",
       "  </tbody>\n",
       "</table>\n",
       "</div>"
      ],
      "text/plain": [
       "   communityId  communitySize\n",
       "0            1            378\n",
       "1           24              2\n",
       "2            4              1\n",
       "3            9              1\n",
       "4            0              1"
      ]
     },
     "execution_count": 30,
     "metadata": {},
     "output_type": "execute_result"
    }
   ],
   "source": [
    "# Let's break down the largest community\n",
    "df = gds.run_cypher(\n",
    "    \"\"\"\n",
    "    MATCH (s:Symptom)\n",
    "    WITH s.wccId as communityId, count(*) as communitySize\n",
    "    RETURN communityId,communitySize order by communitySize desc limit 5\n",
    "    \"\"\"\n",
    ")\n",
    "df.head()"
   ]
  },
  {
   "cell_type": "code",
   "execution_count": 31,
   "metadata": {},
   "outputs": [
    {
     "name": "stdout",
     "output_type": "stream",
     "text": [
      "1\n"
     ]
    }
   ],
   "source": [
    "wccId = df[\"communityId\"][0]\n",
    "print(wccId)\n"
   ]
  },
  {
   "cell_type": "code",
   "execution_count": 32,
   "metadata": {},
   "outputs": [
    {
     "data": {
      "text/plain": [
       "fromGraphName                p2\n",
       "nodeFilter            n.wccId=1\n",
       "relationshipFilter            *\n",
       "graphName                    p3\n",
       "nodeCount                   378\n",
       "relationshipCount           935\n",
       "projectMillis                31\n",
       "Name: 0, dtype: object"
      ]
     },
     "execution_count": 32,
     "metadata": {},
     "output_type": "execute_result"
    }
   ],
   "source": [
    "G3, project_stats=gds.beta.graph.project.subgraph('p3', G2, 'n.wccId={id}'.format(id=wccId) , '*')\n",
    "project_stats"
   ]
  },
  {
   "cell_type": "code",
   "execution_count": 33,
   "metadata": {},
   "outputs": [
    {
     "data": {
      "text/plain": [
       "modularity                                                        0.297028\n",
       "modularities                                          [0.2970276530641425]\n",
       "ranLevels                                                                1\n",
       "communityCount                                                         108\n",
       "communityDistribution    {'p99': 19, 'min': 1, 'max': 19, 'mean': 3.5, ...\n",
       "postProcessingMillis                                                     1\n",
       "preProcessingMillis                                                      0\n",
       "computeMillis                                                           75\n",
       "configuration            {'maxIterations': 10, 'seedProperty': None, 'c...\n",
       "Name: 0, dtype: object"
      ]
     },
     "execution_count": 33,
     "metadata": {},
     "output_type": "execute_result"
    }
   ],
   "source": [
    "gds.louvain.stats(G3)"
   ]
  },
  {
   "cell_type": "code",
   "execution_count": 34,
   "metadata": {},
   "outputs": [
    {
     "data": {
      "text/plain": [
       "writeMillis                                                             45\n",
       "nodePropertiesWritten                                                  378\n",
       "modularity                                                        0.297028\n",
       "modularities                                          [0.2970276530641425]\n",
       "ranLevels                                                                1\n",
       "communityCount                                                         108\n",
       "communityDistribution    {'p99': 19, 'min': 1, 'max': 19, 'mean': 3.5, ...\n",
       "postProcessingMillis                                                     1\n",
       "preProcessingMillis                                                      0\n",
       "computeMillis                                                           29\n",
       "configuration            {'maxIterations': 10, 'writeConcurrency': 4, '...\n",
       "Name: 0, dtype: object"
      ]
     },
     "execution_count": 34,
     "metadata": {},
     "output_type": "execute_result"
    }
   ],
   "source": [
    "gds.louvain.write(G3, writeProperty='louvainId')"
   ]
  },
  {
   "cell_type": "code",
   "execution_count": 35,
   "metadata": {},
   "outputs": [],
   "source": [
    "G3.drop()"
   ]
  },
  {
   "cell_type": "code",
   "execution_count": 36,
   "metadata": {},
   "outputs": [],
   "source": [
    "G2.drop()"
   ]
  },
  {
   "cell_type": "markdown",
   "metadata": {},
   "source": [
    "## Conclusions\n",
    "Well, sometimes we fail. 100's of communities are not useful (see bloom). But then again, our NARROWER_THAN is a tree structure. So maybe we are better off just looking at what are the different tree roots. "
   ]
  },
  {
   "cell_type": "code",
   "execution_count": 37,
   "metadata": {},
   "outputs": [
    {
     "data": {
      "text/html": [
       "<div>\n",
       "<style scoped>\n",
       "    .dataframe tbody tr th:only-of-type {\n",
       "        vertical-align: middle;\n",
       "    }\n",
       "\n",
       "    .dataframe tbody tr th {\n",
       "        vertical-align: top;\n",
       "    }\n",
       "\n",
       "    .dataframe thead th {\n",
       "        text-align: right;\n",
       "    }\n",
       "</style>\n",
       "<table border=\"1\" class=\"dataframe\">\n",
       "  <thead>\n",
       "    <tr style=\"text-align: right;\">\n",
       "      <th></th>\n",
       "      <th>symptom</th>\n",
       "      <th>treeSize</th>\n",
       "    </tr>\n",
       "  </thead>\n",
       "  <tbody>\n",
       "    <tr>\n",
       "      <th>0</th>\n",
       "      <td>shortness of breath</td>\n",
       "      <td>78</td>\n",
       "    </tr>\n",
       "    <tr>\n",
       "      <th>1</th>\n",
       "      <td>pain</td>\n",
       "      <td>75</td>\n",
       "    </tr>\n",
       "    <tr>\n",
       "      <th>2</th>\n",
       "      <td>fever</td>\n",
       "      <td>47</td>\n",
       "    </tr>\n",
       "    <tr>\n",
       "      <th>3</th>\n",
       "      <td>decreased body weight</td>\n",
       "      <td>44</td>\n",
       "    </tr>\n",
       "    <tr>\n",
       "      <th>4</th>\n",
       "      <td>diarrhea</td>\n",
       "      <td>38</td>\n",
       "    </tr>\n",
       "  </tbody>\n",
       "</table>\n",
       "</div>"
      ],
      "text/plain": [
       "                 symptom  treeSize\n",
       "0    shortness of breath        78\n",
       "1                   pain        75\n",
       "2                  fever        47\n",
       "3  decreased body weight        44\n",
       "4               diarrhea        38"
      ]
     },
     "execution_count": 37,
     "metadata": {},
     "output_type": "execute_result"
    }
   ],
   "source": [
    "# Add Root label and also return roots\n",
    "df = gds.run_cypher(\n",
    "    \"\"\"\n",
    "    MATCH (root:Symptom)<-[r:NARROWER_THAN*1..10]-(s:Symptom)\n",
    "    WHERE NOT (root)-[:NARROWER_THAN]->()\n",
    "    WITH root, count(distinct(s)) as treeSize\n",
    "    SET root:Root, \n",
    "    root.treeSize = treeSize\n",
    "    RETURN root.name as symptom, treeSize\n",
    "    ORDER BY treeSize desc\n",
    "    \"\"\"\n",
    ")\n",
    "df.head()"
   ]
  },
  {
   "cell_type": "markdown",
   "metadata": {},
   "source": [
    "## Talke a look in neo4j bloom\n",
    "Add the Root label to the scene, size the nodes by treeSize"
   ]
  },
  {
   "cell_type": "code",
   "execution_count": 38,
   "metadata": {},
   "outputs": [
    {
     "data": {
      "text/html": [
       "<div>\n",
       "<style scoped>\n",
       "    .dataframe tbody tr th:only-of-type {\n",
       "        vertical-align: middle;\n",
       "    }\n",
       "\n",
       "    .dataframe tbody tr th {\n",
       "        vertical-align: top;\n",
       "    }\n",
       "\n",
       "    .dataframe thead th {\n",
       "        text-align: right;\n",
       "    }\n",
       "</style>\n",
       "<table border=\"1\" class=\"dataframe\">\n",
       "  <thead>\n",
       "    <tr style=\"text-align: right;\">\n",
       "      <th></th>\n",
       "      <th>nodesUpdated</th>\n",
       "    </tr>\n",
       "  </thead>\n",
       "  <tbody>\n",
       "    <tr>\n",
       "      <th>0</th>\n",
       "      <td>404</td>\n",
       "    </tr>\n",
       "  </tbody>\n",
       "</table>\n",
       "</div>"
      ],
      "text/plain": [
       "   nodesUpdated\n",
       "0           404"
      ]
     },
     "execution_count": 38,
     "metadata": {},
     "output_type": "execute_result"
    }
   ],
   "source": [
    "# Set size for each node in the tree\n",
    "df = gds.run_cypher(\n",
    "    \"\"\"\n",
    "    MATCH (s:Symptom)<-[r:NARROWER_THAN*0..10]-(n:Symptom)\n",
    "    WITH s, count(distinct(n)) as treeSize\n",
    "    SET s.treeSize = treeSize\n",
    "    RETURN count(*) as nodesUpdated\n",
    "    \"\"\"\n",
    ")\n",
    "df.head()"
   ]
  },
  {
   "cell_type": "code",
   "execution_count": 39,
   "metadata": {},
   "outputs": [
    {
     "data": {
      "text/html": [
       "<div>\n",
       "<style scoped>\n",
       "    .dataframe tbody tr th:only-of-type {\n",
       "        vertical-align: middle;\n",
       "    }\n",
       "\n",
       "    .dataframe tbody tr th {\n",
       "        vertical-align: top;\n",
       "    }\n",
       "\n",
       "    .dataframe thead th {\n",
       "        text-align: right;\n",
       "    }\n",
       "</style>\n",
       "<table border=\"1\" class=\"dataframe\">\n",
       "  <thead>\n",
       "    <tr style=\"text-align: right;\">\n",
       "      <th></th>\n",
       "      <th>l2</th>\n",
       "      <th>l1</th>\n",
       "      <th>root</th>\n",
       "      <th>size</th>\n",
       "    </tr>\n",
       "  </thead>\n",
       "  <tbody>\n",
       "    <tr>\n",
       "      <th>0</th>\n",
       "      <td>hemianopsia homonymous</td>\n",
       "      <td>breath sounds decreased</td>\n",
       "      <td>shortness of breath</td>\n",
       "      <td>4</td>\n",
       "    </tr>\n",
       "    <tr>\n",
       "      <th>1</th>\n",
       "      <td>welt</td>\n",
       "      <td>haemoptysis</td>\n",
       "      <td>shortness of breath</td>\n",
       "      <td>1</td>\n",
       "    </tr>\n",
       "    <tr>\n",
       "      <th>2</th>\n",
       "      <td>tinnitus</td>\n",
       "      <td>haemoptysis</td>\n",
       "      <td>shortness of breath</td>\n",
       "      <td>1</td>\n",
       "    </tr>\n",
       "    <tr>\n",
       "      <th>3</th>\n",
       "      <td>ache</td>\n",
       "      <td>haemoptysis</td>\n",
       "      <td>shortness of breath</td>\n",
       "      <td>1</td>\n",
       "    </tr>\n",
       "    <tr>\n",
       "      <th>4</th>\n",
       "      <td>st segment elevation</td>\n",
       "      <td>orthopnea</td>\n",
       "      <td>shortness of breath</td>\n",
       "      <td>1</td>\n",
       "    </tr>\n",
       "  </tbody>\n",
       "</table>\n",
       "</div>"
      ],
      "text/plain": [
       "                       l2                       l1                 root  size\n",
       "0  hemianopsia homonymous  breath sounds decreased  shortness of breath     4\n",
       "1                    welt              haemoptysis  shortness of breath     1\n",
       "2                tinnitus              haemoptysis  shortness of breath     1\n",
       "3                    ache              haemoptysis  shortness of breath     1\n",
       "4    st segment elevation                orthopnea  shortness of breath     1"
      ]
     },
     "execution_count": 39,
     "metadata": {},
     "output_type": "execute_result"
    }
   ],
   "source": [
    "# Grab some data so we can visualize it\n",
    "df = gds.run_cypher(\n",
    "    \"\"\"\n",
    "    MATCH (root:Root)\n",
    "    WITH root ORDER BY root.treeSize DESC LIMIT 3\n",
    "    MATCH (l2:Symptom)-[:NARROWER_THAN]->(l1:Symptom)-[:NARROWER_THAN]->(root)\n",
    "    RETURN l2.name as l2, l1.name as l1, root.name as root, l2.treeSize as size\n",
    "    \"\"\"\n",
    ")\n",
    "df.head()"
   ]
  },
  {
   "cell_type": "code",
   "execution_count": 40,
   "metadata": {},
   "outputs": [
    {
     "name": "stderr",
     "output_type": "stream",
     "text": [
      "/Users/haklof/projects/public/notebooks/venv/lib/python3.9/site-packages/plotly/express/_core.py:1594: FutureWarning: The frame.append method is deprecated and will be removed from pandas in a future version. Use pandas.concat instead.\n",
      "  df_all_trees = df_all_trees.append(df_tree, ignore_index=True)\n",
      "/Users/haklof/projects/public/notebooks/venv/lib/python3.9/site-packages/plotly/express/_core.py:1594: FutureWarning: The frame.append method is deprecated and will be removed from pandas in a future version. Use pandas.concat instead.\n",
      "  df_all_trees = df_all_trees.append(df_tree, ignore_index=True)\n",
      "/Users/haklof/projects/public/notebooks/venv/lib/python3.9/site-packages/plotly/express/_core.py:1594: FutureWarning: The frame.append method is deprecated and will be removed from pandas in a future version. Use pandas.concat instead.\n",
      "  df_all_trees = df_all_trees.append(df_tree, ignore_index=True)\n"
     ]
    },
    {
     "data": {
      "application/vnd.plotly.v1+json": {
       "config": {
        "plotlyServerURL": "https://plot.ly"
       },
       "data": [
        {
         "branchvalues": "total",
         "customdata": [
          [
           "shortness of breath"
          ],
          [
           "fever"
          ],
          [
           "shortness of breath"
          ],
          [
           "pain"
          ],
          [
           "pain"
          ],
          [
           "pain"
          ],
          [
           "shortness of breath"
          ],
          [
           "pain"
          ],
          [
           "fever"
          ],
          [
           "shortness of breath"
          ],
          [
           "pain"
          ],
          [
           "shortness of breath"
          ],
          [
           "shortness of breath"
          ],
          [
           "shortness of breath"
          ],
          [
           "shortness of breath"
          ],
          [
           "shortness of breath"
          ],
          [
           "pain"
          ],
          [
           "shortness of breath"
          ],
          [
           "shortness of breath"
          ],
          [
           "fever"
          ],
          [
           "fever"
          ],
          [
           "fever"
          ],
          [
           "fever"
          ],
          [
           "fever"
          ],
          [
           "pain"
          ],
          [
           "shortness of breath"
          ],
          [
           "fever"
          ],
          [
           "shortness of breath"
          ],
          [
           "fever"
          ],
          [
           "pain"
          ],
          [
           "shortness of breath"
          ],
          [
           "pain"
          ],
          [
           "shortness of breath"
          ],
          [
           "shortness of breath"
          ],
          [
           "fever"
          ],
          [
           "pain"
          ],
          [
           "shortness of breath"
          ],
          [
           "shortness of breath"
          ],
          [
           "pain"
          ],
          [
           "shortness of breath"
          ],
          [
           "fever"
          ],
          [
           "fever"
          ],
          [
           "shortness of breath"
          ],
          [
           "fever"
          ],
          [
           "shortness of breath"
          ],
          [
           "shortness of breath"
          ],
          [
           "shortness of breath"
          ],
          [
           "pain"
          ],
          [
           "shortness of breath"
          ],
          [
           "fever"
          ],
          [
           "shortness of breath"
          ],
          [
           "pain"
          ],
          [
           "shortness of breath"
          ],
          [
           "pain"
          ],
          [
           "fever"
          ],
          [
           "shortness of breath"
          ],
          [
           "pain"
          ],
          [
           "shortness of breath"
          ],
          [
           "shortness of breath"
          ],
          [
           "fever"
          ],
          [
           "fever"
          ],
          [
           "fever"
          ],
          [
           "fever"
          ],
          [
           "fever"
          ],
          [
           "fever"
          ],
          [
           "fever"
          ],
          [
           "pain"
          ],
          [
           "pain"
          ],
          [
           "fever"
          ],
          [
           "fever"
          ],
          [
           "pain"
          ],
          [
           "fever"
          ],
          [
           "pain"
          ],
          [
           "fever"
          ],
          [
           "fever"
          ],
          [
           "pain"
          ],
          [
           "pain"
          ],
          [
           "pain"
          ],
          [
           "shortness of breath"
          ],
          [
           "shortness of breath"
          ],
          [
           "fever"
          ],
          [
           "pain"
          ],
          [
           "pain"
          ],
          [
           "pain"
          ],
          [
           "shortness of breath"
          ],
          [
           "pain"
          ],
          [
           "shortness of breath"
          ],
          [
           "shortness of breath"
          ],
          [
           "pain"
          ],
          [
           "pain"
          ],
          [
           "pain"
          ],
          [
           "shortness of breath"
          ],
          [
           "shortness of breath"
          ],
          [
           "fever"
          ],
          [
           "pain"
          ],
          [
           "pain"
          ],
          [
           "shortness of breath"
          ],
          [
           "pain"
          ],
          [
           "pain"
          ],
          [
           "pain"
          ],
          [
           "pain"
          ],
          [
           "pain"
          ],
          [
           "pain"
          ],
          [
           "shortness of breath"
          ],
          [
           "shortness of breath"
          ],
          [
           "pain"
          ],
          [
           "pain"
          ],
          [
           "shortness of breath"
          ],
          [
           "fever"
          ],
          [
           "fever"
          ],
          [
           "pain"
          ],
          [
           "pain"
          ],
          [
           "pain"
          ],
          [
           "pain"
          ],
          [
           "shortness of breath"
          ],
          [
           "shortness of breath"
          ],
          [
           "shortness of breath"
          ],
          [
           "shortness of breath"
          ],
          [
           "shortness of breath"
          ],
          [
           "pain"
          ],
          [
           "shortness of breath"
          ],
          [
           "pain"
          ],
          [
           "shortness of breath"
          ],
          [
           "shortness of breath"
          ],
          [
           "pain"
          ],
          [
           "shortness of breath"
          ],
          [
           "pain"
          ],
          [
           "fever"
          ],
          [
           "pain"
          ],
          [
           "pain"
          ],
          [
           "pain"
          ],
          [
           "pain"
          ],
          [
           "fever"
          ],
          [
           "pain"
          ],
          [
           "shortness of breath"
          ],
          [
           "fever"
          ],
          [
           "shortness of breath"
          ],
          [
           "shortness of breath"
          ],
          [
           "pain"
          ],
          [
           "shortness of breath"
          ],
          [
           "fever"
          ],
          [
           "pain"
          ],
          [
           "shortness of breath"
          ],
          [
           "shortness of breath"
          ],
          [
           "fever"
          ],
          [
           "shortness of breath"
          ],
          [
           "shortness of breath"
          ],
          [
           "shortness of breath"
          ],
          [
           "shortness of breath"
          ],
          [
           "shortness of breath"
          ],
          [
           "fever"
          ],
          [
           "pain"
          ],
          [
           "shortness of breath"
          ],
          [
           "pain"
          ],
          [
           "pain"
          ],
          [
           "pain"
          ],
          [
           "shortness of breath"
          ],
          [
           "shortness of breath"
          ],
          [
           "fever"
          ],
          [
           "shortness of breath"
          ],
          [
           "fever"
          ],
          [
           "pain"
          ],
          [
           "fever"
          ],
          [
           "fever"
          ],
          [
           "shortness of breath"
          ],
          [
           "fever"
          ],
          [
           "pain"
          ],
          [
           "shortness of breath"
          ],
          [
           "pain"
          ],
          [
           "shortness of breath"
          ],
          [
           "fever"
          ],
          [
           "pain"
          ],
          [
           "shortness of breath"
          ]
         ],
         "domain": {
          "x": [
           0,
           1
          ],
          "y": [
           0,
           1
          ]
         },
         "hovertemplate": "labels=%{label}<br>size=%{value}<br>parent=%{parent}<br>id=%{id}<br>root=%{customdata[0]}<extra></extra>",
         "ids": [
          "shortness of breath/haemoptysis/welt",
          "fever/indifferent mood/rapid shallow breathing",
          "shortness of breath/labored breathing/rapid shallow breathing",
          "pain/colic abdominal/red blotches",
          "pain/dullness/red blotches",
          "pain/monoclonal/red blotches",
          "shortness of breath/sinus rhythm/red blotches",
          "pain/redness/scratch marks",
          "fever/green sputum/sneeze",
          "shortness of breath/green sputum/sneeze",
          "pain/cardiomegaly/sputum purulent",
          "shortness of breath/cardiomegaly/sputum purulent",
          "shortness of breath/chest tightness/st segment elevation",
          "shortness of breath/hypokinesia/st segment elevation",
          "shortness of breath/orthopnea/st segment elevation",
          "shortness of breath/indifferent mood/rapid shallow breathing",
          "pain/fremitus/stinging sensation",
          "shortness of breath/palpitation/st segment elevation",
          "shortness of breath/indifferent mood/urinoma",
          "fever/indifferent mood/urinoma",
          "fever/sensory discomfort/unwell",
          "fever/frail/tremor resting",
          "fever/scratch marks/transsexual",
          "fever/difficulty passing urine/welt",
          "pain/nausea and vomiting/transsexual",
          "shortness of breath/haemoptysis/tinnitus",
          "fever/difficulty passing urine/tinnitus",
          "shortness of breath/palpitation/throbbing sensation quality",
          "fever/pruritus/transsexual",
          "pain/heartburn/throbbing sensation quality",
          "shortness of breath/chest tightness/throbbing sensation quality",
          "pain/cardiomegaly/pain in lower limb",
          "shortness of breath/labored breathing/noisy respiration",
          "shortness of breath/indifferent mood/noisy respiration",
          "fever/indifferent mood/noisy respiration",
          "pain/emphysematous change/noisy respiration",
          "shortness of breath/cardiomegaly/pain in lower limb",
          "shortness of breath/hypoxemia/no known drug allergies",
          "pain/fremitus/no known drug allergies",
          "shortness of breath/green sputum/nasal flaring",
          "fever/green sputum/nasal flaring",
          "fever/frail/noisy respiration",
          "shortness of breath/hoard/panic",
          "fever/frail/pin-point pupils",
          "shortness of breath/cardiomegaly/pericardial friction rub",
          "shortness of breath/palpitation/photopsia",
          "shortness of breath/angina pectoris/presence of q wave",
          "pain/numbness of hand/prodrome",
          "shortness of breath/abortion/proteinemia",
          "fever/previous pregnancies 2/proteinemia",
          "shortness of breath/previous pregnancies 2/proteinemia",
          "pain/systolic murmur/r wave feature",
          "shortness of breath/systolic murmur/r wave feature",
          "pain/emphysematous change/rapid shallow breathing",
          "fever/frail/rapid shallow breathing",
          "shortness of breath/labored breathing/nasal discharge present",
          "pain/cardiomegaly/pericardial friction rub",
          "shortness of breath/intermenstrual heavy bleeding/proteinemia",
          "shortness of breath/indifferent mood/nasal discharge present",
          "fever/frail/nasal discharge present",
          "fever/indifferent mood/nasal discharge present",
          "fever/sensory discomfort/history of - blackout",
          "fever/hyperacusis/hypesthesia",
          "fever/pruritus/hypesthesia",
          "fever/scratch marks/hypesthesia",
          "fever/lethargy/hypometabolism",
          "pain/hyperacusis/hypesthesia",
          "pain/arthralgia/macule",
          "fever/pruritus/macule",
          "fever/scratch marks/macule",
          "pain/erythema/mass in breast",
          "fever/spontaneous rupture of membranes/muscle hypotonia",
          "pain/emphysematous change/nasal discharge present",
          "fever/spontaneous rupture of membranes/hypotonic",
          "fever/frail/barking cough",
          "pain/decreased stool caliber/bowel sounds decreased",
          "pain/tenesmus/behavior showing increased motor activity",
          "pain/arthralgia/behavior showing increased motor activity",
          "shortness of breath/labored breathing/barking cough",
          "shortness of breath/indifferent mood/barking cough",
          "fever/indifferent mood/barking cough",
          "pain/emphysematous change/barking cough",
          "pain/fremitus/abnormal sensation",
          "pain/flatulence/air fluid level",
          "shortness of breath/lung nodule/ache",
          "pain/lung nodule/ache",
          "shortness of breath/haemoptysis/ache",
          "shortness of breath/debilitation/ache",
          "pain/nausea and vomiting/bowel sounds decreased",
          "pain/flatulence/abdomen acute",
          "pain/colic abdominal/Murphy's sign",
          "shortness of breath/sinus rhythm/Heberden's node",
          "shortness of breath/left atrial hypertrophy/alcohol binge episode",
          "fever/spontaneous rupture of membranes/breech presentation",
          "pain/tenesmus/coordination abnormal",
          "pain/redness/bruit",
          "shortness of breath/breath sounds decreased/hemianopsia homonymous",
          "pain/fremitus/hematochezia",
          "pain/decreased stool caliber/hematochezia",
          "pain/emphysematous change/gravida 10",
          "pain/dullness/gravida 10",
          "pain/colic abdominal/gasping for breath",
          "pain/fremitus/focal seizures",
          "shortness of breath/yellow sputum/floppy",
          "shortness of breath/hypoxemia/feels hot/feverish",
          "pain/colic abdominal/feces in rectum",
          "pain/erythema/estrogen use",
          "shortness of breath/yellow sputum/dyspareunia",
          "fever/frail/drool",
          "fever/spontaneous rupture of membranes/cyanosis",
          "pain/arthralgia/coordination abnormal",
          "pain/tenesmus/choke",
          "pain/arthralgia/choke",
          "pain/flatulence/catching breath",
          "shortness of breath/sinus rhythm/bruit",
          "shortness of breath/general unsteadiness/bruit",
          "shortness of breath/jugular venous distention/Heberden's node",
          "shortness of breath/abortion",
          "shortness of breath/angina pectoris",
          "pain/arthralgia",
          "shortness of breath/breath sounds decreased",
          "pain/cardiomegaly",
          "shortness of breath/cardiomegaly",
          "shortness of breath/chest tightness",
          "pain/colic abdominal",
          "shortness of breath/debilitation",
          "pain/decreased stool caliber",
          "fever/difficulty passing urine",
          "pain/dullness",
          "pain/emphysematous change",
          "pain/erythema",
          "pain/flatulence",
          "fever/frail",
          "pain/fremitus",
          "shortness of breath/general unsteadiness",
          "fever/green sputum",
          "shortness of breath/green sputum",
          "shortness of breath/haemoptysis",
          "pain/heartburn",
          "shortness of breath/hoard",
          "fever/hyperacusis",
          "pain/hyperacusis",
          "shortness of breath/hypokinesia",
          "shortness of breath/hypoxemia",
          "fever/indifferent mood",
          "shortness of breath/indifferent mood",
          "shortness of breath/intermenstrual heavy bleeding",
          "shortness of breath/jugular venous distention",
          "shortness of breath/labored breathing",
          "shortness of breath/left atrial hypertrophy",
          "fever/lethargy",
          "pain/lung nodule",
          "shortness of breath/lung nodule",
          "pain/monoclonal",
          "pain/nausea and vomiting",
          "pain/numbness of hand",
          "shortness of breath/orthopnea",
          "shortness of breath/palpitation",
          "fever/previous pregnancies 2",
          "shortness of breath/previous pregnancies 2",
          "fever/pruritus",
          "pain/redness",
          "fever/scratch marks",
          "fever/sensory discomfort",
          "shortness of breath/sinus rhythm",
          "fever/spontaneous rupture of membranes",
          "pain/systolic murmur",
          "shortness of breath/systolic murmur",
          "pain/tenesmus",
          "shortness of breath/yellow sputum",
          "fever",
          "pain",
          "shortness of breath"
         ],
         "labels": [
          "welt",
          "rapid shallow breathing",
          "rapid shallow breathing",
          "red blotches",
          "red blotches",
          "red blotches",
          "red blotches",
          "scratch marks",
          "sneeze",
          "sneeze",
          "sputum purulent",
          "sputum purulent",
          "st segment elevation",
          "st segment elevation",
          "st segment elevation",
          "rapid shallow breathing",
          "stinging sensation",
          "st segment elevation",
          "urinoma",
          "urinoma",
          "unwell",
          "tremor resting",
          "transsexual",
          "welt",
          "transsexual",
          "tinnitus",
          "tinnitus",
          "throbbing sensation quality",
          "transsexual",
          "throbbing sensation quality",
          "throbbing sensation quality",
          "pain in lower limb",
          "noisy respiration",
          "noisy respiration",
          "noisy respiration",
          "noisy respiration",
          "pain in lower limb",
          "no known drug allergies",
          "no known drug allergies",
          "nasal flaring",
          "nasal flaring",
          "noisy respiration",
          "panic",
          "pin-point pupils",
          "pericardial friction rub",
          "photopsia",
          "presence of q wave",
          "prodrome",
          "proteinemia",
          "proteinemia",
          "proteinemia",
          "r wave feature",
          "r wave feature",
          "rapid shallow breathing",
          "rapid shallow breathing",
          "nasal discharge present",
          "pericardial friction rub",
          "proteinemia",
          "nasal discharge present",
          "nasal discharge present",
          "nasal discharge present",
          "history of - blackout",
          "hypesthesia",
          "hypesthesia",
          "hypesthesia",
          "hypometabolism",
          "hypesthesia",
          "macule",
          "macule",
          "macule",
          "mass in breast",
          "muscle hypotonia",
          "nasal discharge present",
          "hypotonic",
          "barking cough",
          "bowel sounds decreased",
          "behavior showing increased motor activity",
          "behavior showing increased motor activity",
          "barking cough",
          "barking cough",
          "barking cough",
          "barking cough",
          "abnormal sensation",
          "air fluid level",
          "ache",
          "ache",
          "ache",
          "ache",
          "bowel sounds decreased",
          "abdomen acute",
          "Murphy's sign",
          "Heberden's node",
          "alcohol binge episode",
          "breech presentation",
          "coordination abnormal",
          "bruit",
          "hemianopsia homonymous",
          "hematochezia",
          "hematochezia",
          "gravida 10",
          "gravida 10",
          "gasping for breath",
          "focal seizures",
          "floppy",
          "feels hot/feverish",
          "feces in rectum",
          "estrogen use",
          "dyspareunia",
          "drool",
          "cyanosis",
          "coordination abnormal",
          "choke",
          "choke",
          "catching breath",
          "bruit",
          "bruit",
          "Heberden's node",
          "abortion",
          "angina pectoris",
          "arthralgia",
          "breath sounds decreased",
          "cardiomegaly",
          "cardiomegaly",
          "chest tightness",
          "colic abdominal",
          "debilitation",
          "decreased stool caliber",
          "difficulty passing urine",
          "dullness",
          "emphysematous change",
          "erythema",
          "flatulence",
          "frail",
          "fremitus",
          "general unsteadiness",
          "green sputum",
          "green sputum",
          "haemoptysis",
          "heartburn",
          "hoard",
          "hyperacusis",
          "hyperacusis",
          "hypokinesia",
          "hypoxemia",
          "indifferent mood",
          "indifferent mood",
          "intermenstrual heavy bleeding",
          "jugular venous distention",
          "labored breathing",
          "left atrial hypertrophy",
          "lethargy",
          "lung nodule",
          "lung nodule",
          "monoclonal",
          "nausea and vomiting",
          "numbness of hand",
          "orthopnea",
          "palpitation",
          "previous pregnancies 2",
          "previous pregnancies 2",
          "pruritus",
          "redness",
          "scratch marks",
          "sensory discomfort",
          "sinus rhythm",
          "spontaneous rupture of membranes",
          "systolic murmur",
          "systolic murmur",
          "tenesmus",
          "yellow sputum",
          "fever",
          "pain",
          "shortness of breath"
         ],
         "marker": {
          "colors": [
           "#636efa",
           "#EF553B",
           "#636efa",
           "#00cc96",
           "#00cc96",
           "#00cc96",
           "#636efa",
           "#00cc96",
           "#EF553B",
           "#636efa",
           "#00cc96",
           "#636efa",
           "#636efa",
           "#636efa",
           "#636efa",
           "#636efa",
           "#00cc96",
           "#636efa",
           "#636efa",
           "#EF553B",
           "#EF553B",
           "#EF553B",
           "#EF553B",
           "#EF553B",
           "#00cc96",
           "#636efa",
           "#EF553B",
           "#636efa",
           "#EF553B",
           "#00cc96",
           "#636efa",
           "#00cc96",
           "#636efa",
           "#636efa",
           "#EF553B",
           "#00cc96",
           "#636efa",
           "#636efa",
           "#00cc96",
           "#636efa",
           "#EF553B",
           "#EF553B",
           "#636efa",
           "#EF553B",
           "#636efa",
           "#636efa",
           "#636efa",
           "#00cc96",
           "#636efa",
           "#EF553B",
           "#636efa",
           "#00cc96",
           "#636efa",
           "#00cc96",
           "#EF553B",
           "#636efa",
           "#00cc96",
           "#636efa",
           "#636efa",
           "#EF553B",
           "#EF553B",
           "#EF553B",
           "#EF553B",
           "#EF553B",
           "#EF553B",
           "#EF553B",
           "#00cc96",
           "#00cc96",
           "#EF553B",
           "#EF553B",
           "#00cc96",
           "#EF553B",
           "#00cc96",
           "#EF553B",
           "#EF553B",
           "#00cc96",
           "#00cc96",
           "#00cc96",
           "#636efa",
           "#636efa",
           "#EF553B",
           "#00cc96",
           "#00cc96",
           "#00cc96",
           "#636efa",
           "#00cc96",
           "#636efa",
           "#636efa",
           "#00cc96",
           "#00cc96",
           "#00cc96",
           "#636efa",
           "#636efa",
           "#EF553B",
           "#00cc96",
           "#00cc96",
           "#636efa",
           "#00cc96",
           "#00cc96",
           "#00cc96",
           "#00cc96",
           "#00cc96",
           "#00cc96",
           "#636efa",
           "#636efa",
           "#00cc96",
           "#00cc96",
           "#636efa",
           "#EF553B",
           "#EF553B",
           "#00cc96",
           "#00cc96",
           "#00cc96",
           "#00cc96",
           "#636efa",
           "#636efa",
           "#636efa",
           "#636efa",
           "#636efa",
           "#00cc96",
           "#636efa",
           "#00cc96",
           "#636efa",
           "#636efa",
           "#00cc96",
           "#636efa",
           "#00cc96",
           "#EF553B",
           "#00cc96",
           "#00cc96",
           "#00cc96",
           "#00cc96",
           "#EF553B",
           "#00cc96",
           "#636efa",
           "#EF553B",
           "#636efa",
           "#636efa",
           "#00cc96",
           "#636efa",
           "#EF553B",
           "#00cc96",
           "#636efa",
           "#636efa",
           "#EF553B",
           "#636efa",
           "#636efa",
           "#636efa",
           "#636efa",
           "#636efa",
           "#EF553B",
           "#00cc96",
           "#636efa",
           "#00cc96",
           "#00cc96",
           "#00cc96",
           "#636efa",
           "#636efa",
           "#EF553B",
           "#636efa",
           "#EF553B",
           "#00cc96",
           "#EF553B",
           "#EF553B",
           "#636efa",
           "#EF553B",
           "#00cc96",
           "#636efa",
           "#00cc96",
           "#636efa",
           "#EF553B",
           "#00cc96",
           "#636efa"
          ]
         },
         "name": "",
         "parents": [
          "shortness of breath/haemoptysis",
          "fever/indifferent mood",
          "shortness of breath/labored breathing",
          "pain/colic abdominal",
          "pain/dullness",
          "pain/monoclonal",
          "shortness of breath/sinus rhythm",
          "pain/redness",
          "fever/green sputum",
          "shortness of breath/green sputum",
          "pain/cardiomegaly",
          "shortness of breath/cardiomegaly",
          "shortness of breath/chest tightness",
          "shortness of breath/hypokinesia",
          "shortness of breath/orthopnea",
          "shortness of breath/indifferent mood",
          "pain/fremitus",
          "shortness of breath/palpitation",
          "shortness of breath/indifferent mood",
          "fever/indifferent mood",
          "fever/sensory discomfort",
          "fever/frail",
          "fever/scratch marks",
          "fever/difficulty passing urine",
          "pain/nausea and vomiting",
          "shortness of breath/haemoptysis",
          "fever/difficulty passing urine",
          "shortness of breath/palpitation",
          "fever/pruritus",
          "pain/heartburn",
          "shortness of breath/chest tightness",
          "pain/cardiomegaly",
          "shortness of breath/labored breathing",
          "shortness of breath/indifferent mood",
          "fever/indifferent mood",
          "pain/emphysematous change",
          "shortness of breath/cardiomegaly",
          "shortness of breath/hypoxemia",
          "pain/fremitus",
          "shortness of breath/green sputum",
          "fever/green sputum",
          "fever/frail",
          "shortness of breath/hoard",
          "fever/frail",
          "shortness of breath/cardiomegaly",
          "shortness of breath/palpitation",
          "shortness of breath/angina pectoris",
          "pain/numbness of hand",
          "shortness of breath/abortion",
          "fever/previous pregnancies 2",
          "shortness of breath/previous pregnancies 2",
          "pain/systolic murmur",
          "shortness of breath/systolic murmur",
          "pain/emphysematous change",
          "fever/frail",
          "shortness of breath/labored breathing",
          "pain/cardiomegaly",
          "shortness of breath/intermenstrual heavy bleeding",
          "shortness of breath/indifferent mood",
          "fever/frail",
          "fever/indifferent mood",
          "fever/sensory discomfort",
          "fever/hyperacusis",
          "fever/pruritus",
          "fever/scratch marks",
          "fever/lethargy",
          "pain/hyperacusis",
          "pain/arthralgia",
          "fever/pruritus",
          "fever/scratch marks",
          "pain/erythema",
          "fever/spontaneous rupture of membranes",
          "pain/emphysematous change",
          "fever/spontaneous rupture of membranes",
          "fever/frail",
          "pain/decreased stool caliber",
          "pain/tenesmus",
          "pain/arthralgia",
          "shortness of breath/labored breathing",
          "shortness of breath/indifferent mood",
          "fever/indifferent mood",
          "pain/emphysematous change",
          "pain/fremitus",
          "pain/flatulence",
          "shortness of breath/lung nodule",
          "pain/lung nodule",
          "shortness of breath/haemoptysis",
          "shortness of breath/debilitation",
          "pain/nausea and vomiting",
          "pain/flatulence",
          "pain/colic abdominal",
          "shortness of breath/sinus rhythm",
          "shortness of breath/left atrial hypertrophy",
          "fever/spontaneous rupture of membranes",
          "pain/tenesmus",
          "pain/redness",
          "shortness of breath/breath sounds decreased",
          "pain/fremitus",
          "pain/decreased stool caliber",
          "pain/emphysematous change",
          "pain/dullness",
          "pain/colic abdominal",
          "pain/fremitus",
          "shortness of breath/yellow sputum",
          "shortness of breath/hypoxemia",
          "pain/colic abdominal",
          "pain/erythema",
          "shortness of breath/yellow sputum",
          "fever/frail",
          "fever/spontaneous rupture of membranes",
          "pain/arthralgia",
          "pain/tenesmus",
          "pain/arthralgia",
          "pain/flatulence",
          "shortness of breath/sinus rhythm",
          "shortness of breath/general unsteadiness",
          "shortness of breath/jugular venous distention",
          "shortness of breath",
          "shortness of breath",
          "pain",
          "shortness of breath",
          "pain",
          "shortness of breath",
          "shortness of breath",
          "pain",
          "shortness of breath",
          "pain",
          "fever",
          "pain",
          "pain",
          "pain",
          "pain",
          "fever",
          "pain",
          "shortness of breath",
          "fever",
          "shortness of breath",
          "shortness of breath",
          "pain",
          "shortness of breath",
          "fever",
          "pain",
          "shortness of breath",
          "shortness of breath",
          "fever",
          "shortness of breath",
          "shortness of breath",
          "shortness of breath",
          "shortness of breath",
          "shortness of breath",
          "fever",
          "pain",
          "shortness of breath",
          "pain",
          "pain",
          "pain",
          "shortness of breath",
          "shortness of breath",
          "fever",
          "shortness of breath",
          "fever",
          "pain",
          "fever",
          "fever",
          "shortness of breath",
          "fever",
          "pain",
          "shortness of breath",
          "pain",
          "shortness of breath",
          "",
          "",
          ""
         ],
         "type": "sunburst",
         "values": [
          1,
          1,
          1,
          1,
          1,
          1,
          1,
          4,
          1,
          1,
          1,
          1,
          1,
          1,
          1,
          1,
          1,
          1,
          1,
          1,
          1,
          1,
          1,
          1,
          1,
          1,
          1,
          1,
          1,
          1,
          1,
          1,
          1,
          1,
          1,
          1,
          1,
          1,
          1,
          1,
          1,
          1,
          1,
          1,
          1,
          1,
          3,
          1,
          1,
          1,
          1,
          2,
          2,
          1,
          1,
          1,
          1,
          1,
          1,
          1,
          1,
          1,
          1,
          1,
          1,
          1,
          1,
          1,
          1,
          1,
          1,
          1,
          1,
          1,
          1,
          1,
          1,
          1,
          1,
          1,
          1,
          1,
          1,
          1,
          1,
          1,
          1,
          1,
          1,
          1,
          1,
          1,
          1,
          1,
          1,
          1,
          4,
          1,
          1,
          1,
          1,
          1,
          1,
          1,
          1,
          1,
          1,
          1,
          1,
          1,
          1,
          1,
          1,
          1,
          1,
          1,
          1,
          1,
          3,
          4,
          4,
          3,
          3,
          2,
          4,
          1,
          2,
          2,
          2,
          5,
          2,
          3,
          7,
          5,
          1,
          2,
          2,
          3,
          1,
          1,
          1,
          1,
          1,
          2,
          5,
          5,
          1,
          1,
          4,
          1,
          1,
          1,
          1,
          1,
          2,
          1,
          1,
          3,
          1,
          1,
          3,
          5,
          3,
          2,
          3,
          4,
          2,
          2,
          3,
          2,
          31,
          47,
          49
         ]
        }
       ],
       "layout": {
        "font": {
         "size": 10
        },
        "legend": {
         "tracegroupgap": 0
        },
        "margin": {
         "t": 60
        },
        "template": {
         "data": {
          "bar": [
           {
            "error_x": {
             "color": "#2a3f5f"
            },
            "error_y": {
             "color": "#2a3f5f"
            },
            "marker": {
             "line": {
              "color": "#E5ECF6",
              "width": 0.5
             }
            },
            "type": "bar"
           }
          ],
          "barpolar": [
           {
            "marker": {
             "line": {
              "color": "#E5ECF6",
              "width": 0.5
             }
            },
            "type": "barpolar"
           }
          ],
          "carpet": [
           {
            "aaxis": {
             "endlinecolor": "#2a3f5f",
             "gridcolor": "white",
             "linecolor": "white",
             "minorgridcolor": "white",
             "startlinecolor": "#2a3f5f"
            },
            "baxis": {
             "endlinecolor": "#2a3f5f",
             "gridcolor": "white",
             "linecolor": "white",
             "minorgridcolor": "white",
             "startlinecolor": "#2a3f5f"
            },
            "type": "carpet"
           }
          ],
          "choropleth": [
           {
            "colorbar": {
             "outlinewidth": 0,
             "ticks": ""
            },
            "type": "choropleth"
           }
          ],
          "contour": [
           {
            "colorbar": {
             "outlinewidth": 0,
             "ticks": ""
            },
            "colorscale": [
             [
              0,
              "#0d0887"
             ],
             [
              0.1111111111111111,
              "#46039f"
             ],
             [
              0.2222222222222222,
              "#7201a8"
             ],
             [
              0.3333333333333333,
              "#9c179e"
             ],
             [
              0.4444444444444444,
              "#bd3786"
             ],
             [
              0.5555555555555556,
              "#d8576b"
             ],
             [
              0.6666666666666666,
              "#ed7953"
             ],
             [
              0.7777777777777778,
              "#fb9f3a"
             ],
             [
              0.8888888888888888,
              "#fdca26"
             ],
             [
              1,
              "#f0f921"
             ]
            ],
            "type": "contour"
           }
          ],
          "contourcarpet": [
           {
            "colorbar": {
             "outlinewidth": 0,
             "ticks": ""
            },
            "type": "contourcarpet"
           }
          ],
          "heatmap": [
           {
            "colorbar": {
             "outlinewidth": 0,
             "ticks": ""
            },
            "colorscale": [
             [
              0,
              "#0d0887"
             ],
             [
              0.1111111111111111,
              "#46039f"
             ],
             [
              0.2222222222222222,
              "#7201a8"
             ],
             [
              0.3333333333333333,
              "#9c179e"
             ],
             [
              0.4444444444444444,
              "#bd3786"
             ],
             [
              0.5555555555555556,
              "#d8576b"
             ],
             [
              0.6666666666666666,
              "#ed7953"
             ],
             [
              0.7777777777777778,
              "#fb9f3a"
             ],
             [
              0.8888888888888888,
              "#fdca26"
             ],
             [
              1,
              "#f0f921"
             ]
            ],
            "type": "heatmap"
           }
          ],
          "heatmapgl": [
           {
            "colorbar": {
             "outlinewidth": 0,
             "ticks": ""
            },
            "colorscale": [
             [
              0,
              "#0d0887"
             ],
             [
              0.1111111111111111,
              "#46039f"
             ],
             [
              0.2222222222222222,
              "#7201a8"
             ],
             [
              0.3333333333333333,
              "#9c179e"
             ],
             [
              0.4444444444444444,
              "#bd3786"
             ],
             [
              0.5555555555555556,
              "#d8576b"
             ],
             [
              0.6666666666666666,
              "#ed7953"
             ],
             [
              0.7777777777777778,
              "#fb9f3a"
             ],
             [
              0.8888888888888888,
              "#fdca26"
             ],
             [
              1,
              "#f0f921"
             ]
            ],
            "type": "heatmapgl"
           }
          ],
          "histogram": [
           {
            "marker": {
             "colorbar": {
              "outlinewidth": 0,
              "ticks": ""
             }
            },
            "type": "histogram"
           }
          ],
          "histogram2d": [
           {
            "colorbar": {
             "outlinewidth": 0,
             "ticks": ""
            },
            "colorscale": [
             [
              0,
              "#0d0887"
             ],
             [
              0.1111111111111111,
              "#46039f"
             ],
             [
              0.2222222222222222,
              "#7201a8"
             ],
             [
              0.3333333333333333,
              "#9c179e"
             ],
             [
              0.4444444444444444,
              "#bd3786"
             ],
             [
              0.5555555555555556,
              "#d8576b"
             ],
             [
              0.6666666666666666,
              "#ed7953"
             ],
             [
              0.7777777777777778,
              "#fb9f3a"
             ],
             [
              0.8888888888888888,
              "#fdca26"
             ],
             [
              1,
              "#f0f921"
             ]
            ],
            "type": "histogram2d"
           }
          ],
          "histogram2dcontour": [
           {
            "colorbar": {
             "outlinewidth": 0,
             "ticks": ""
            },
            "colorscale": [
             [
              0,
              "#0d0887"
             ],
             [
              0.1111111111111111,
              "#46039f"
             ],
             [
              0.2222222222222222,
              "#7201a8"
             ],
             [
              0.3333333333333333,
              "#9c179e"
             ],
             [
              0.4444444444444444,
              "#bd3786"
             ],
             [
              0.5555555555555556,
              "#d8576b"
             ],
             [
              0.6666666666666666,
              "#ed7953"
             ],
             [
              0.7777777777777778,
              "#fb9f3a"
             ],
             [
              0.8888888888888888,
              "#fdca26"
             ],
             [
              1,
              "#f0f921"
             ]
            ],
            "type": "histogram2dcontour"
           }
          ],
          "mesh3d": [
           {
            "colorbar": {
             "outlinewidth": 0,
             "ticks": ""
            },
            "type": "mesh3d"
           }
          ],
          "parcoords": [
           {
            "line": {
             "colorbar": {
              "outlinewidth": 0,
              "ticks": ""
             }
            },
            "type": "parcoords"
           }
          ],
          "pie": [
           {
            "automargin": true,
            "type": "pie"
           }
          ],
          "scatter": [
           {
            "marker": {
             "colorbar": {
              "outlinewidth": 0,
              "ticks": ""
             }
            },
            "type": "scatter"
           }
          ],
          "scatter3d": [
           {
            "line": {
             "colorbar": {
              "outlinewidth": 0,
              "ticks": ""
             }
            },
            "marker": {
             "colorbar": {
              "outlinewidth": 0,
              "ticks": ""
             }
            },
            "type": "scatter3d"
           }
          ],
          "scattercarpet": [
           {
            "marker": {
             "colorbar": {
              "outlinewidth": 0,
              "ticks": ""
             }
            },
            "type": "scattercarpet"
           }
          ],
          "scattergeo": [
           {
            "marker": {
             "colorbar": {
              "outlinewidth": 0,
              "ticks": ""
             }
            },
            "type": "scattergeo"
           }
          ],
          "scattergl": [
           {
            "marker": {
             "colorbar": {
              "outlinewidth": 0,
              "ticks": ""
             }
            },
            "type": "scattergl"
           }
          ],
          "scattermapbox": [
           {
            "marker": {
             "colorbar": {
              "outlinewidth": 0,
              "ticks": ""
             }
            },
            "type": "scattermapbox"
           }
          ],
          "scatterpolar": [
           {
            "marker": {
             "colorbar": {
              "outlinewidth": 0,
              "ticks": ""
             }
            },
            "type": "scatterpolar"
           }
          ],
          "scatterpolargl": [
           {
            "marker": {
             "colorbar": {
              "outlinewidth": 0,
              "ticks": ""
             }
            },
            "type": "scatterpolargl"
           }
          ],
          "scatterternary": [
           {
            "marker": {
             "colorbar": {
              "outlinewidth": 0,
              "ticks": ""
             }
            },
            "type": "scatterternary"
           }
          ],
          "surface": [
           {
            "colorbar": {
             "outlinewidth": 0,
             "ticks": ""
            },
            "colorscale": [
             [
              0,
              "#0d0887"
             ],
             [
              0.1111111111111111,
              "#46039f"
             ],
             [
              0.2222222222222222,
              "#7201a8"
             ],
             [
              0.3333333333333333,
              "#9c179e"
             ],
             [
              0.4444444444444444,
              "#bd3786"
             ],
             [
              0.5555555555555556,
              "#d8576b"
             ],
             [
              0.6666666666666666,
              "#ed7953"
             ],
             [
              0.7777777777777778,
              "#fb9f3a"
             ],
             [
              0.8888888888888888,
              "#fdca26"
             ],
             [
              1,
              "#f0f921"
             ]
            ],
            "type": "surface"
           }
          ],
          "table": [
           {
            "cells": {
             "fill": {
              "color": "#EBF0F8"
             },
             "line": {
              "color": "white"
             }
            },
            "header": {
             "fill": {
              "color": "#C8D4E3"
             },
             "line": {
              "color": "white"
             }
            },
            "type": "table"
           }
          ]
         },
         "layout": {
          "annotationdefaults": {
           "arrowcolor": "#2a3f5f",
           "arrowhead": 0,
           "arrowwidth": 1
          },
          "autotypenumbers": "strict",
          "coloraxis": {
           "colorbar": {
            "outlinewidth": 0,
            "ticks": ""
           }
          },
          "colorscale": {
           "diverging": [
            [
             0,
             "#8e0152"
            ],
            [
             0.1,
             "#c51b7d"
            ],
            [
             0.2,
             "#de77ae"
            ],
            [
             0.3,
             "#f1b6da"
            ],
            [
             0.4,
             "#fde0ef"
            ],
            [
             0.5,
             "#f7f7f7"
            ],
            [
             0.6,
             "#e6f5d0"
            ],
            [
             0.7,
             "#b8e186"
            ],
            [
             0.8,
             "#7fbc41"
            ],
            [
             0.9,
             "#4d9221"
            ],
            [
             1,
             "#276419"
            ]
           ],
           "sequential": [
            [
             0,
             "#0d0887"
            ],
            [
             0.1111111111111111,
             "#46039f"
            ],
            [
             0.2222222222222222,
             "#7201a8"
            ],
            [
             0.3333333333333333,
             "#9c179e"
            ],
            [
             0.4444444444444444,
             "#bd3786"
            ],
            [
             0.5555555555555556,
             "#d8576b"
            ],
            [
             0.6666666666666666,
             "#ed7953"
            ],
            [
             0.7777777777777778,
             "#fb9f3a"
            ],
            [
             0.8888888888888888,
             "#fdca26"
            ],
            [
             1,
             "#f0f921"
            ]
           ],
           "sequentialminus": [
            [
             0,
             "#0d0887"
            ],
            [
             0.1111111111111111,
             "#46039f"
            ],
            [
             0.2222222222222222,
             "#7201a8"
            ],
            [
             0.3333333333333333,
             "#9c179e"
            ],
            [
             0.4444444444444444,
             "#bd3786"
            ],
            [
             0.5555555555555556,
             "#d8576b"
            ],
            [
             0.6666666666666666,
             "#ed7953"
            ],
            [
             0.7777777777777778,
             "#fb9f3a"
            ],
            [
             0.8888888888888888,
             "#fdca26"
            ],
            [
             1,
             "#f0f921"
            ]
           ]
          },
          "colorway": [
           "#636efa",
           "#EF553B",
           "#00cc96",
           "#ab63fa",
           "#FFA15A",
           "#19d3f3",
           "#FF6692",
           "#B6E880",
           "#FF97FF",
           "#FECB52"
          ],
          "font": {
           "color": "#2a3f5f"
          },
          "geo": {
           "bgcolor": "white",
           "lakecolor": "white",
           "landcolor": "#E5ECF6",
           "showlakes": true,
           "showland": true,
           "subunitcolor": "white"
          },
          "hoverlabel": {
           "align": "left"
          },
          "hovermode": "closest",
          "mapbox": {
           "style": "light"
          },
          "paper_bgcolor": "white",
          "plot_bgcolor": "#E5ECF6",
          "polar": {
           "angularaxis": {
            "gridcolor": "white",
            "linecolor": "white",
            "ticks": ""
           },
           "bgcolor": "#E5ECF6",
           "radialaxis": {
            "gridcolor": "white",
            "linecolor": "white",
            "ticks": ""
           }
          },
          "scene": {
           "xaxis": {
            "backgroundcolor": "#E5ECF6",
            "gridcolor": "white",
            "gridwidth": 2,
            "linecolor": "white",
            "showbackground": true,
            "ticks": "",
            "zerolinecolor": "white"
           },
           "yaxis": {
            "backgroundcolor": "#E5ECF6",
            "gridcolor": "white",
            "gridwidth": 2,
            "linecolor": "white",
            "showbackground": true,
            "ticks": "",
            "zerolinecolor": "white"
           },
           "zaxis": {
            "backgroundcolor": "#E5ECF6",
            "gridcolor": "white",
            "gridwidth": 2,
            "linecolor": "white",
            "showbackground": true,
            "ticks": "",
            "zerolinecolor": "white"
           }
          },
          "shapedefaults": {
           "line": {
            "color": "#2a3f5f"
           }
          },
          "ternary": {
           "aaxis": {
            "gridcolor": "white",
            "linecolor": "white",
            "ticks": ""
           },
           "baxis": {
            "gridcolor": "white",
            "linecolor": "white",
            "ticks": ""
           },
           "bgcolor": "#E5ECF6",
           "caxis": {
            "gridcolor": "white",
            "linecolor": "white",
            "ticks": ""
           }
          },
          "title": {
           "x": 0.05
          },
          "xaxis": {
           "automargin": true,
           "gridcolor": "white",
           "linecolor": "white",
           "ticks": "",
           "title": {
            "standoff": 15
           },
           "zerolinecolor": "white",
           "zerolinewidth": 2
          },
          "yaxis": {
           "automargin": true,
           "gridcolor": "white",
           "linecolor": "white",
           "ticks": "",
           "title": {
            "standoff": 15
           },
           "zerolinecolor": "white",
           "zerolinewidth": 2
          }
         }
        },
        "title": {
         "text": "Symptoms Hierarchy"
        }
       }
      }
     },
     "metadata": {},
     "output_type": "display_data"
    }
   ],
   "source": [
    "fig = px.sunburst(df, path=['root', 'l1', 'l2'], values='size', color='root')\n",
    "fig.update_layout(title_text=\"Symptoms Hierarchy\", font_size=10)\n",
    "fig.show()"
   ]
  },
  {
   "cell_type": "markdown",
   "metadata": {},
   "source": [
    "## Important\n",
    "We got 100+ roots, but to me they look more useful. Then again it depends in the question you want to answer.\n",
    "\n",
    "We should of course have studied the tree strucuture to get familiar with our data before we even tried to formulate or answer any questions. "
   ]
  },
  {
   "cell_type": "markdown",
   "metadata": {},
   "source": [
    "# Let's pin our graph to the wall\n",
    "A graphs are non eucledian, let's transform into an eucledian space. Node embeddings to the rescue\n"
   ]
  },
  {
   "cell_type": "code",
   "execution_count": 41,
   "metadata": {},
   "outputs": [
    {
     "data": {
      "text/plain": [
       "nodeQuery            MATCH (n:Disease)<-[:SYMPTOM_OF]-(s:Symptom)\\n...\n",
       "relationshipQuery    MATCH (n1:Disease)<-[:SYMPTOM_OF]-(s:Symptom)-...\n",
       "graphName                                                           p4\n",
       "nodeCount                                                          148\n",
       "relationshipCount                                                12306\n",
       "projectMillis                                                       61\n",
       "Name: 0, dtype: object"
      ]
     },
     "execution_count": 41,
     "metadata": {},
     "output_type": "execute_result"
    }
   ],
   "source": [
    "# Cypher projection of Diseases sharing symptoms\n",
    "# Try out with undirected and filter on wcc id after projection\n",
    "G4, project_stats = gds.graph.project.cypher('p4',\n",
    "    \"\"\" MATCH (n:Disease)<-[:SYMPTOM_OF]-(s:Symptom)\n",
    "        WHERE s.wccId = {wccId} \n",
    "        RETURN id(n) as id\"\"\".format(wccId=wccId),\n",
    "    \"\"\" MATCH (n1:Disease)<-[:SYMPTOM_OF]-(s:Symptom)-[:SYMPTOM_OF]->(n2:Disease)\n",
    "        WHERE s.wccId = {wccId} \n",
    "        RETURN id(n1) as source, id(n2) as target, count(*) as weight\"\"\".format(wccId=wccId)\n",
    ")\n",
    "project_stats"
   ]
  },
  {
   "cell_type": "code",
   "execution_count": 42,
   "metadata": {},
   "outputs": [
    {
     "data": {
      "text/plain": [
       "nodeCount                                                              148\n",
       "nodePropertiesWritten                                                  148\n",
       "preProcessingMillis                                                      2\n",
       "computeMillis                                                            8\n",
       "writeMillis                                                             46\n",
       "configuration            {'writeConcurrency': 4, 'nodeSelfInfluence': 0...\n",
       "Name: 0, dtype: object"
      ]
     },
     "execution_count": 42,
     "metadata": {},
     "output_type": "execute_result"
    }
   ],
   "source": [
    "gds.fastRP.write(G4, \n",
    "    embeddingDimension=16, \n",
    "    iterationWeights=[0.2, 1.0, 0.9, 0.7],\n",
    "    nodeSelfInfluence=0.1,\n",
    "    relationshipWeightProperty='weight', \n",
    "    writeProperty='embedding'\n",
    ")"
   ]
  },
  {
   "cell_type": "code",
   "execution_count": 43,
   "metadata": {},
   "outputs": [
    {
     "data": {
      "text/html": [
       "<div>\n",
       "<style scoped>\n",
       "    .dataframe tbody tr th:only-of-type {\n",
       "        vertical-align: middle;\n",
       "    }\n",
       "\n",
       "    .dataframe tbody tr th {\n",
       "        vertical-align: top;\n",
       "    }\n",
       "\n",
       "    .dataframe thead th {\n",
       "        text-align: right;\n",
       "    }\n",
       "</style>\n",
       "<table border=\"1\" class=\"dataframe\">\n",
       "  <thead>\n",
       "    <tr style=\"text-align: right;\">\n",
       "      <th></th>\n",
       "      <th>embedding</th>\n",
       "      <th>class</th>\n",
       "    </tr>\n",
       "  </thead>\n",
       "  <tbody>\n",
       "    <tr>\n",
       "      <th>0</th>\n",
       "      <td>[-0.0320279523730278, -0.7569884061813354, 0.0...</td>\n",
       "      <td>Alzheimer's disease</td>\n",
       "    </tr>\n",
       "    <tr>\n",
       "      <th>1</th>\n",
       "      <td>[-0.0066763367503881454, -0.8623508214950562, ...</td>\n",
       "      <td>HIV</td>\n",
       "    </tr>\n",
       "    <tr>\n",
       "      <th>2</th>\n",
       "      <td>[0.07364974915981293, -1.0613305568695068, 0.0...</td>\n",
       "      <td>Pneumocystis carinii pneumonia</td>\n",
       "    </tr>\n",
       "    <tr>\n",
       "      <th>3</th>\n",
       "      <td>[0.13456891477108002, -1.0968682765960693, 0.0...</td>\n",
       "      <td>accident cerebrovascular</td>\n",
       "    </tr>\n",
       "    <tr>\n",
       "      <th>4</th>\n",
       "      <td>[-0.01513044536113739, -0.8379648327827454, 0....</td>\n",
       "      <td>acquired immuno-deficiency syndrome</td>\n",
       "    </tr>\n",
       "  </tbody>\n",
       "</table>\n",
       "</div>"
      ],
      "text/plain": [
       "                                           embedding  \\\n",
       "0  [-0.0320279523730278, -0.7569884061813354, 0.0...   \n",
       "1  [-0.0066763367503881454, -0.8623508214950562, ...   \n",
       "2  [0.07364974915981293, -1.0613305568695068, 0.0...   \n",
       "3  [0.13456891477108002, -1.0968682765960693, 0.0...   \n",
       "4  [-0.01513044536113739, -0.8379648327827454, 0....   \n",
       "\n",
       "                                 class  \n",
       "0                  Alzheimer's disease  \n",
       "1                                  HIV  \n",
       "2       Pneumocystis carinii pneumonia  \n",
       "3             accident cerebrovascular  \n",
       "4  acquired immuno-deficiency syndrome  "
      ]
     },
     "execution_count": 43,
     "metadata": {},
     "output_type": "execute_result"
    }
   ],
   "source": [
    "# Fetch embedding and disease name\n",
    "df = gds.run_cypher(\n",
    "    \"\"\"\n",
    "    MATCH (d:Disease)\n",
    "    RETURN d.embedding as embedding, d.name as class\n",
    "    \"\"\"\n",
    ")\n",
    "df.head()"
   ]
  },
  {
   "cell_type": "code",
   "execution_count": 44,
   "metadata": {},
   "outputs": [
    {
     "name": "stderr",
     "output_type": "stream",
     "text": [
      "/Users/haklof/projects/public/notebooks/venv/lib/python3.9/site-packages/sklearn/manifold/_t_sne.py:780: FutureWarning:\n",
      "\n",
      "The default initialization in TSNE will change from 'random' to 'pca' in 1.2.\n",
      "\n"
     ]
    },
    {
     "name": "stdout",
     "output_type": "stream",
     "text": [
      "[t-SNE] Computing 91 nearest neighbors...\n",
      "[t-SNE] Indexed 148 samples in 0.000s...\n",
      "[t-SNE] Computed neighbors for 148 samples in 0.023s...\n",
      "[t-SNE] Computed conditional probabilities for sample 148 / 148\n",
      "[t-SNE] Mean sigma: 0.308284\n",
      "[t-SNE] KL divergence after 250 iterations with early exaggeration: 57.134815\n",
      "[t-SNE] KL divergence after 800 iterations: 0.248668\n"
     ]
    }
   ],
   "source": [
    "embedding = df['embedding'].tolist()\n",
    "category = df['class'].tolist()\n",
    "Y = TSNE(n_components=2, perplexity=30, n_iter= 1000, learning_rate=200.0, early_exaggeration=12.0, verbose=1).fit_transform(embedding)"
   ]
  },
  {
   "cell_type": "code",
   "execution_count": 45,
   "metadata": {},
   "outputs": [
    {
     "data": {
      "image/png": "[encoded data removed]",
      "text/plain": [
       "<Figure size 1440x1080 with 1 Axes>"
      ]
     },
     "metadata": {
      "needs_background": "light"
     },
     "output_type": "display_data"
    }
   ],
   "source": [
    "x_coords = Y[:, 0]\n",
    "y_coords = Y[:, 1]\n",
    "df = pd.DataFrame(list(zip(category, x_coords, y_coords)), columns=['label','x','y'] )\n",
    "ax = df.plot.scatter(x='x', y='y', alpha=0.5, figsize=(20,15))\n",
    "for index, row in df.iterrows():\n",
    "   ax.annotate(row[0], (row[1]+0.05, row[2]))"
   ]
  },
  {
   "cell_type": "code",
   "execution_count": 46,
   "metadata": {},
   "outputs": [],
   "source": [
    "G4.drop()"
   ]
  }
 ],
 "metadata": {
  "kernelspec": {
   "display_name": "Python 3.10.6 64-bit",
   "language": "python",
   "name": "python3"
  },
  "language_info": {
   "codemirror_mode": {
    "name": "ipython",
    "version": 3
   },
   "file_extension": ".py",
   "mimetype": "text/x-python",
   "name": "python",
   "nbconvert_exporter": "python",
   "pygments_lexer": "ipython3",
   "version": "3.10.6"
  },
  "vscode": {
   "interpreter": {
    "hash": "b0fa6594d8f4cbf19f97940f81e996739fb7646882a419484c72d19e05852a7e"
   }
  }
 },
 "nbformat": 4,
 "nbformat_minor": 4
}
