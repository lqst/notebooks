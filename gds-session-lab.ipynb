{
 "cells": [
  {
   "cell_type": "markdown",
   "metadata": {
    "id": "ynPe6RLRWSKd"
   },
   "source": [
    "# Setup"
   ]
  },
  {
   "cell_type": "markdown",
   "metadata": {
    "id": "ShLXlNZ5kGvI"
   },
   "source": [
    "Install neo4j graphdatascience client ([Documentation](https://neo4j.com/docs/graph-data-science/current/))"
   ]
  },
  {
   "cell_type": "code",
   "execution_count": 1,
   "metadata": {
    "id": "BOfc_-mllcUE"
   },
   "outputs": [
    {
     "name": "stderr",
     "output_type": "stream",
     "text": [
      "/opt/homebrew/Caskroom/miniforge/base/envs/notebooks_new/lib/python3.11/site-packages/tqdm/auto.py:21: TqdmWarning: IProgress not found. Please update jupyter and ipywidgets. See https://ipywidgets.readthedocs.io/en/stable/user_install.html\n",
      "  from .autonotebook import tqdm as notebook_tqdm\n"
     ]
    }
   ],
   "source": [
    "import os\n",
    "import pandas as pd\n",
    "from graphdatascience import GraphDataScience \n",
    "from graphdatascience.session import AuraAPICredentials, GdsSessions, DbmsConnectionInfo, AlgorithmCategory\n",
    "from datetime import timedelta"
   ]
  },
  {
   "cell_type": "code",
   "execution_count": 2,
   "metadata": {
    "id": "CHR_0lmElZ-R"
   },
   "outputs": [],
   "source": [
    "# How to create  Aura API Credentials: https://neo4j.com/docs/aura/classic/platform/api/authentication/#_creating_credentials\n",
    "tenant_id = os.getenv('AURA_API_TENANT_ID')\n",
    "client_id = os.getenv('AURA_API_CLIENT_ID')\n",
    "client_secret = os.getenv('AURA_API_CLIENT_SECRET')\n",
    "db_uri = os.getenv('AURA_DB_ADDRESS')\n",
    "db_user = os.getenv('AURA_DB_USER')\n",
    "db_pass = os.getenv('AURA_DB_PW')\n"
   ]
  },
  {
   "cell_type": "code",
   "execution_count": 3,
   "metadata": {
    "id": "e_a16vsQwyMH"
   },
   "outputs": [],
   "source": [
    "sessions = GdsSessions(api_credentials=AuraAPICredentials(client_id, client_secret, tenant_id=tenant_id))\n",
    "db_connection = DbmsConnectionInfo(\n",
    "    uri=db_uri, username=db_user, password=db_pass\n",
    ")"
   ]
  },
  {
   "cell_type": "code",
   "execution_count": 22,
   "metadata": {},
   "outputs": [
    {
     "data": {
      "text/plain": [
       "<SessionMemory.m_8GB: SessionMemoryValue(value='8GB')>"
      ]
     },
     "execution_count": 22,
     "metadata": {},
     "output_type": "execute_result"
    }
   ],
   "source": [
    "memory = sessions.estimate(\n",
    "    node_count=20,\n",
    "    relationship_count=50,\n",
    "    algorithm_categories=[AlgorithmCategory.CENTRALITY, AlgorithmCategory.NODE_EMBEDDING],\n",
    ")\n",
    "memory"
   ]
  },
  {
   "cell_type": "code",
   "execution_count": 24,
   "metadata": {},
   "outputs": [],
   "source": [
    "gds = sessions.get_or_create(\n",
    "    session_name=\"my-shop-demo\",\n",
    "    memory=memory,\n",
    "    db_connection=db_connection,\n",
    "    ttl=timedelta(hours=2)\n",
    ")"
   ]
  },
  {
   "cell_type": "code",
   "execution_count": 25,
   "metadata": {},
   "outputs": [
    {
     "data": {
      "text/plain": [
       "[SessionInfo(id='d7e827fa-c0bb1be6', name='my-shop-demo', memory=SessionMemoryValue(value='8GB'), instance_id='d7e827fa', status='Ready', expiry_date=datetime.datetime(2025, 2, 20, 11, 45, 56, tzinfo=datetime.timezone.utc), created_at=datetime.datetime(2025, 1, 21, 11, 45, 56, tzinfo=datetime.timezone.utc), user_id='e1bfecbb-149b-4689-a84a-0ae712f4d49f', cloud_location=CloudLocation(provider='gcp', region='us-central1'), ttl=datetime.timedelta(seconds=7140), errors=None)]"
      ]
     },
     "execution_count": 25,
     "metadata": {},
     "output_type": "execute_result"
    }
   ],
   "source": [
    "sessions.list()"
   ]
  },
  {
   "cell_type": "markdown",
   "metadata": {
    "id": "0OMlYdxHWZLx"
   },
   "source": [
    "# Graph creation"
   ]
  },
  {
   "cell_type": "code",
   "execution_count": 7,
   "metadata": {
    "id": "LbsQlwvwku0b"
   },
   "outputs": [
    {
     "data": {
      "text/html": [
       "<div>\n",
       "<style scoped>\n",
       "    .dataframe tbody tr th:only-of-type {\n",
       "        vertical-align: middle;\n",
       "    }\n",
       "\n",
       "    .dataframe tbody tr th {\n",
       "        vertical-align: top;\n",
       "    }\n",
       "\n",
       "    .dataframe thead th {\n",
       "        text-align: right;\n",
       "    }\n",
       "</style>\n",
       "<table border=\"1\" class=\"dataframe\">\n",
       "  <thead>\n",
       "    <tr style=\"text-align: right;\">\n",
       "      <th></th>\n",
       "      <th>name</th>\n",
       "      <th>merchant</th>\n",
       "      <th>amount</th>\n",
       "    </tr>\n",
       "  </thead>\n",
       "  <tbody>\n",
       "    <tr>\n",
       "      <th>0</th>\n",
       "      <td>Tom</td>\n",
       "      <td>Amazon</td>\n",
       "      <td>100</td>\n",
       "    </tr>\n",
       "    <tr>\n",
       "      <th>1</th>\n",
       "      <td>Tom</td>\n",
       "      <td>Dustin</td>\n",
       "      <td>50499</td>\n",
       "    </tr>\n",
       "    <tr>\n",
       "      <th>2</th>\n",
       "      <td>Tom</td>\n",
       "      <td>eBay</td>\n",
       "      <td>220</td>\n",
       "    </tr>\n",
       "    <tr>\n",
       "      <th>3</th>\n",
       "      <td>Stefan</td>\n",
       "      <td>Amazon</td>\n",
       "      <td>220</td>\n",
       "    </tr>\n",
       "    <tr>\n",
       "      <th>4</th>\n",
       "      <td>Stefan</td>\n",
       "      <td>Dustin</td>\n",
       "      <td>399</td>\n",
       "    </tr>\n",
       "    <tr>\n",
       "      <th>5</th>\n",
       "      <td>Stefan</td>\n",
       "      <td>eBay</td>\n",
       "      <td>1499</td>\n",
       "    </tr>\n",
       "    <tr>\n",
       "      <th>6</th>\n",
       "      <td>Stefan</td>\n",
       "      <td>Bikes.de</td>\n",
       "      <td>22000</td>\n",
       "    </tr>\n",
       "    <tr>\n",
       "      <th>7</th>\n",
       "      <td>Kristof</td>\n",
       "      <td>Amazon</td>\n",
       "      <td>423</td>\n",
       "    </tr>\n",
       "    <tr>\n",
       "      <th>8</th>\n",
       "      <td>Kristof</td>\n",
       "      <td>Dustin</td>\n",
       "      <td>530</td>\n",
       "    </tr>\n",
       "    <tr>\n",
       "      <th>9</th>\n",
       "      <td>Kristof</td>\n",
       "      <td>Hello Fresh</td>\n",
       "      <td>1050</td>\n",
       "    </tr>\n",
       "    <tr>\n",
       "      <th>10</th>\n",
       "      <td>Kristof</td>\n",
       "      <td>Steam</td>\n",
       "      <td>230</td>\n",
       "    </tr>\n",
       "    <tr>\n",
       "      <th>11</th>\n",
       "      <td>Kristof</td>\n",
       "      <td>Activision</td>\n",
       "      <td>783</td>\n",
       "    </tr>\n",
       "    <tr>\n",
       "      <th>12</th>\n",
       "      <td>Håkan</td>\n",
       "      <td>Hello Fresh</td>\n",
       "      <td>2100</td>\n",
       "    </tr>\n",
       "    <tr>\n",
       "      <th>13</th>\n",
       "      <td>Håkan</td>\n",
       "      <td>Steam</td>\n",
       "      <td>230</td>\n",
       "    </tr>\n",
       "    <tr>\n",
       "      <th>14</th>\n",
       "      <td>Håkan</td>\n",
       "      <td>Activision</td>\n",
       "      <td>783</td>\n",
       "    </tr>\n",
       "  </tbody>\n",
       "</table>\n",
       "</div>"
      ],
      "text/plain": [
       "       name     merchant  amount\n",
       "0       Tom       Amazon     100\n",
       "1       Tom       Dustin   50499\n",
       "2       Tom         eBay     220\n",
       "3    Stefan       Amazon     220\n",
       "4    Stefan       Dustin     399\n",
       "5    Stefan         eBay    1499\n",
       "6    Stefan     Bikes.de   22000\n",
       "7   Kristof       Amazon     423\n",
       "8   Kristof       Dustin     530\n",
       "9   Kristof  Hello Fresh    1050\n",
       "10  Kristof        Steam     230\n",
       "11  Kristof   Activision     783\n",
       "12    Håkan  Hello Fresh    2100\n",
       "13    Håkan        Steam     230\n",
       "14    Håkan   Activision     783"
      ]
     },
     "execution_count": 7,
     "metadata": {},
     "output_type": "execute_result"
    }
   ],
   "source": [
    "transaction_df = pd.DataFrame([\n",
    "    {'name': 'Tom', 'merchant':'Amazon', 'amount': 100},\n",
    "    {'name': 'Tom', 'merchant':'Dustin', 'amount': 50499},\n",
    "    {'name': 'Tom', 'merchant':'eBay', 'amount': 220},\n",
    "    {'name': 'Stefan', 'merchant':'Amazon', 'amount': 220},\n",
    "    {'name': 'Stefan', 'merchant':'Dustin', 'amount': 399},\n",
    "    {'name': 'Stefan', 'merchant':'eBay', 'amount': 1499},\n",
    "    {'name': 'Stefan', 'merchant':'Bikes.de', 'amount': 22000},\n",
    "    {'name': 'Kristof', 'merchant':'Amazon', 'amount': 423},\n",
    "    {'name': 'Kristof', 'merchant':'Dustin', 'amount': 530},\n",
    "    {'name': 'Kristof', 'merchant':'Hello Fresh', 'amount': 1050},\n",
    "    {'name': 'Kristof', 'merchant':'Steam', 'amount': 230},\n",
    "    {'name': 'Kristof', 'merchant':'Activision', 'amount': 783},\n",
    "    {'name': 'Håkan', 'merchant':'Hello Fresh', 'amount': 2100},\n",
    "    {'name': 'Håkan', 'merchant':'Steam', 'amount': 230},\n",
    "    {'name': 'Håkan', 'merchant':'Activision', 'amount': 783},\n",
    "    \n",
    "], columns = ['name', 'merchant', 'amount'])\n",
    "transaction_df.head(15)"
   ]
  },
  {
   "cell_type": "code",
   "execution_count": 8,
   "metadata": {
    "id": "cdTfdAyV2ZaR"
   },
   "outputs": [
    {
     "data": {
      "text/html": [
       "<div>\n",
       "<style scoped>\n",
       "    .dataframe tbody tr th:only-of-type {\n",
       "        vertical-align: middle;\n",
       "    }\n",
       "\n",
       "    .dataframe tbody tr th {\n",
       "        vertical-align: top;\n",
       "    }\n",
       "\n",
       "    .dataframe thead th {\n",
       "        text-align: right;\n",
       "    }\n",
       "</style>\n",
       "<table border=\"1\" class=\"dataframe\">\n",
       "  <thead>\n",
       "    <tr style=\"text-align: right;\">\n",
       "      <th></th>\n",
       "    </tr>\n",
       "  </thead>\n",
       "  <tbody>\n",
       "  </tbody>\n",
       "</table>\n",
       "</div>"
      ],
      "text/plain": [
       "Empty DataFrame\n",
       "Columns: []\n",
       "Index: []"
      ]
     },
     "execution_count": 8,
     "metadata": {},
     "output_type": "execute_result"
    }
   ],
   "source": [
    "# This is not really required for this small sample\n",
    "\n",
    "gds.database = 'neo4j'\n",
    "gds.run_cypher(\"create constraint if not exists for (p:Person) require (p.name) is node key\")\n",
    "gds.run_cypher(\"create constraint if not exists for (p:Merchant) require (p.name) is node key\")\n"
   ]
  },
  {
   "cell_type": "code",
   "execution_count": 15,
   "metadata": {
    "id": "uduojIopm0qV"
   },
   "outputs": [
    {
     "data": {
      "text/html": [
       "<div>\n",
       "<style scoped>\n",
       "    .dataframe tbody tr th:only-of-type {\n",
       "        vertical-align: middle;\n",
       "    }\n",
       "\n",
       "    .dataframe tbody tr th {\n",
       "        vertical-align: top;\n",
       "    }\n",
       "\n",
       "    .dataframe thead th {\n",
       "        text-align: right;\n",
       "    }\n",
       "</style>\n",
       "<table border=\"1\" class=\"dataframe\">\n",
       "  <thead>\n",
       "    <tr style=\"text-align: right;\">\n",
       "      <th></th>\n",
       "    </tr>\n",
       "  </thead>\n",
       "  <tbody>\n",
       "  </tbody>\n",
       "</table>\n",
       "</div>"
      ],
      "text/plain": [
       "Empty DataFrame\n",
       "Columns: []\n",
       "Index: []"
      ]
     },
     "execution_count": 15,
     "metadata": {},
     "output_type": "execute_result"
    }
   ],
   "source": [
    "# Create a graph for (:Person)-[:transacted_with]->(:Merchant)\n",
    "# Tip: If we had more data, this would fail => Iterate over chunks of the dataframe.\n",
    "gds.run_cypher(\n",
    "    \"\"\"\n",
    "    unwind $transactions as transaction\n",
    "    merge (p:Person{name: transaction['name']})\n",
    "    merge (m:Merchant{name: transaction['merchant']})\n",
    "    merge (p)-[tx:TRANSACTED_WITH]->(m)\n",
    "       set tx.amount = transaction['amount']\n",
    "    \"\"\",\n",
    "    params = { 'transactions': transaction_df.to_dict(orient='records') }\n",
    ")"
   ]
  },
  {
   "cell_type": "markdown",
   "metadata": {
    "id": "kx1UHN87Kfup"
   },
   "source": [
    "# Node similarity"
   ]
  },
  {
   "cell_type": "code",
   "execution_count": 26,
   "metadata": {},
   "outputs": [
    {
     "data": {
      "text/plain": [
       "'Graph(name=transaction_graph, node_count=11, relationship_count=15)'"
      ]
     },
     "execution_count": 26,
     "metadata": {},
     "output_type": "execute_result"
    }
   ],
   "source": [
    "G, result = gds.graph.project(\n",
    "    \"transaction_graph\",\n",
    "    \"\"\"\n",
    "    match (p:Person)-[r:TRANSACTED_WITH]->(m:Merchant)\n",
    "    with\n",
    "      p AS source, r AS rel, m AS target\n",
    "    return\n",
    "    gds.graph.project.remote(source, target, {\n",
    "      sourceNodeLabels: labels(source),\n",
    "      targetNodeLabels: labels(target),\n",
    "      relationshipType: type(rel),\n",
    "      relationshipProperties: rel{.amount}\n",
    "    })\n",
    "    \"\"\",\n",
    ")\n",
    "str(G)"
   ]
  },
  {
   "cell_type": "code",
   "execution_count": 29,
   "metadata": {},
   "outputs": [
    {
     "data": {
      "text/html": [
       "<div>\n",
       "<style scoped>\n",
       "    .dataframe tbody tr th:only-of-type {\n",
       "        vertical-align: middle;\n",
       "    }\n",
       "\n",
       "    .dataframe tbody tr th {\n",
       "        vertical-align: top;\n",
       "    }\n",
       "\n",
       "    .dataframe thead th {\n",
       "        text-align: right;\n",
       "    }\n",
       "</style>\n",
       "<table border=\"1\" class=\"dataframe\">\n",
       "  <thead>\n",
       "    <tr style=\"text-align: right;\">\n",
       "      <th></th>\n",
       "      <th>nodeId</th>\n",
       "      <th>score</th>\n",
       "    </tr>\n",
       "  </thead>\n",
       "  <tbody>\n",
       "    <tr>\n",
       "      <th>0</th>\n",
       "      <td>0</td>\n",
       "      <td>0.150000</td>\n",
       "    </tr>\n",
       "    <tr>\n",
       "      <th>1</th>\n",
       "      <td>4</td>\n",
       "      <td>0.249875</td>\n",
       "    </tr>\n",
       "    <tr>\n",
       "      <th>2</th>\n",
       "      <td>5</td>\n",
       "      <td>0.249875</td>\n",
       "    </tr>\n",
       "    <tr>\n",
       "      <th>3</th>\n",
       "      <td>6</td>\n",
       "      <td>0.224375</td>\n",
       "    </tr>\n",
       "    <tr>\n",
       "      <th>4</th>\n",
       "      <td>1</td>\n",
       "      <td>0.150000</td>\n",
       "    </tr>\n",
       "    <tr>\n",
       "      <th>5</th>\n",
       "      <td>7</td>\n",
       "      <td>0.181875</td>\n",
       "    </tr>\n",
       "    <tr>\n",
       "      <th>6</th>\n",
       "      <td>2</td>\n",
       "      <td>0.150000</td>\n",
       "    </tr>\n",
       "    <tr>\n",
       "      <th>7</th>\n",
       "      <td>8</td>\n",
       "      <td>0.218000</td>\n",
       "    </tr>\n",
       "    <tr>\n",
       "      <th>8</th>\n",
       "      <td>9</td>\n",
       "      <td>0.218000</td>\n",
       "    </tr>\n",
       "    <tr>\n",
       "      <th>9</th>\n",
       "      <td>10</td>\n",
       "      <td>0.218000</td>\n",
       "    </tr>\n",
       "    <tr>\n",
       "      <th>10</th>\n",
       "      <td>3</td>\n",
       "      <td>0.150000</td>\n",
       "    </tr>\n",
       "  </tbody>\n",
       "</table>\n",
       "</div>"
      ],
      "text/plain": [
       "    nodeId     score\n",
       "0        0  0.150000\n",
       "1        4  0.249875\n",
       "2        5  0.249875\n",
       "3        6  0.224375\n",
       "4        1  0.150000\n",
       "5        7  0.181875\n",
       "6        2  0.150000\n",
       "7        8  0.218000\n",
       "8        9  0.218000\n",
       "9       10  0.218000\n",
       "10       3  0.150000"
      ]
     },
     "execution_count": 29,
     "metadata": {},
     "output_type": "execute_result"
    }
   ],
   "source": [
    "gds.pageRank.stream(\n",
    "    G\n",
    ")"
   ]
  },
  {
   "cell_type": "code",
   "execution_count": 27,
   "metadata": {},
   "outputs": [
    {
     "data": {
      "text/html": [
       "<div>\n",
       "<style scoped>\n",
       "    .dataframe tbody tr th:only-of-type {\n",
       "        vertical-align: middle;\n",
       "    }\n",
       "\n",
       "    .dataframe tbody tr th {\n",
       "        vertical-align: top;\n",
       "    }\n",
       "\n",
       "    .dataframe thead th {\n",
       "        text-align: right;\n",
       "    }\n",
       "</style>\n",
       "<table border=\"1\" class=\"dataframe\">\n",
       "  <thead>\n",
       "    <tr style=\"text-align: right;\">\n",
       "      <th></th>\n",
       "      <th>node1</th>\n",
       "      <th>node2</th>\n",
       "      <th>similarity</th>\n",
       "    </tr>\n",
       "  </thead>\n",
       "  <tbody>\n",
       "    <tr>\n",
       "      <th>0</th>\n",
       "      <td>0</td>\n",
       "      <td>2</td>\n",
       "      <td>0.011841</td>\n",
       "    </tr>\n",
       "    <tr>\n",
       "      <th>1</th>\n",
       "      <td>0</td>\n",
       "      <td>1</td>\n",
       "      <td>0.009688</td>\n",
       "    </tr>\n",
       "    <tr>\n",
       "      <th>2</th>\n",
       "      <td>1</td>\n",
       "      <td>2</td>\n",
       "      <td>0.023345</td>\n",
       "    </tr>\n",
       "    <tr>\n",
       "      <th>3</th>\n",
       "      <td>1</td>\n",
       "      <td>0</td>\n",
       "      <td>0.009688</td>\n",
       "    </tr>\n",
       "    <tr>\n",
       "      <th>4</th>\n",
       "      <td>2</td>\n",
       "      <td>3</td>\n",
       "      <td>0.507378</td>\n",
       "    </tr>\n",
       "    <tr>\n",
       "      <th>5</th>\n",
       "      <td>2</td>\n",
       "      <td>1</td>\n",
       "      <td>0.023345</td>\n",
       "    </tr>\n",
       "    <tr>\n",
       "      <th>6</th>\n",
       "      <td>2</td>\n",
       "      <td>0</td>\n",
       "      <td>0.011841</td>\n",
       "    </tr>\n",
       "    <tr>\n",
       "      <th>7</th>\n",
       "      <td>3</td>\n",
       "      <td>2</td>\n",
       "      <td>0.507378</td>\n",
       "    </tr>\n",
       "  </tbody>\n",
       "</table>\n",
       "</div>"
      ],
      "text/plain": [
       "   node1  node2  similarity\n",
       "0      0      2    0.011841\n",
       "1      0      1    0.009688\n",
       "2      1      2    0.023345\n",
       "3      1      0    0.009688\n",
       "4      2      3    0.507378\n",
       "5      2      1    0.023345\n",
       "6      2      0    0.011841\n",
       "7      3      2    0.507378"
      ]
     },
     "execution_count": 27,
     "metadata": {},
     "output_type": "execute_result"
    }
   ],
   "source": [
    "gds.nodeSimilarity.stream(\n",
    "    G,\n",
    "    relationshipWeightProperty='amount', \n",
    ")"
   ]
  },
  {
   "cell_type": "code",
   "execution_count": 30,
   "metadata": {
    "id": "nNZByI7LGy_i"
   },
   "outputs": [
    {
     "data": {
      "text/plain": [
       "preProcessingMillis                                                       0\n",
       "computeMillis                                                             5\n",
       "writeMillis                                                     2652.682066\n",
       "postProcessingMillis                                                      0\n",
       "nodesCompared                                                             4\n",
       "relationshipsWritten                                                      8\n",
       "similarityDistribution    {'min': 0.0, 'p5': 0.0, 'max': 5.0872912848509...\n",
       "configuration             {'writeProperty': 'sim_score', 'writeRelations...\n",
       "Name: 0, dtype: object"
      ]
     },
     "execution_count": 30,
     "metadata": {},
     "output_type": "execute_result"
    }
   ],
   "source": [
    "gds.nodeSimilarity.write(\n",
    "    G,\n",
    "    relationshipWeightProperty='amount', \n",
    "    writeRelationshipType='IS_SIMILAR_TO',\n",
    "    writeProperty='sim_score'\n",
    ")"
   ]
  },
  {
   "cell_type": "code",
   "execution_count": 31,
   "metadata": {
    "id": "LRQGxT5RHctm"
   },
   "outputs": [
    {
     "data": {
      "text/plain": [
       "graphName                                                transaction_graph\n",
       "database                                                             neo4j\n",
       "databaseLocation                                                    remote\n",
       "memoryUsage                                                               \n",
       "sizeInBytes                                                             -1\n",
       "nodeCount                                                               11\n",
       "relationshipCount                                                       15\n",
       "configuration            {'readConcurrency': 4, 'jobId': '4e0a5500-fb74...\n",
       "density                                                           0.136364\n",
       "creationTime                           2025-01-21T11:49:19.632633287+00:00\n",
       "modificationTime                       2025-01-21T11:49:19.632633287+00:00\n",
       "schema                   {'graphProperties': {}, 'nodes': {'Merchant': ...\n",
       "schemaWithOrientation    {'graphProperties': {}, 'nodes': {'Merchant': ...\n",
       "Name: 0, dtype: object"
      ]
     },
     "execution_count": 31,
     "metadata": {},
     "output_type": "execute_result"
    }
   ],
   "source": [
    "# Drop the projection from the graph catalogue to free up resources\n",
    "G.drop()"
   ]
  },
  {
   "cell_type": "code",
   "execution_count": 32,
   "metadata": {
    "id": "OW5uFvKnYnj7"
   },
   "outputs": [
    {
     "data": {
      "text/html": [
       "<div>\n",
       "<style scoped>\n",
       "    .dataframe tbody tr th:only-of-type {\n",
       "        vertical-align: middle;\n",
       "    }\n",
       "\n",
       "    .dataframe tbody tr th {\n",
       "        vertical-align: top;\n",
       "    }\n",
       "\n",
       "    .dataframe thead th {\n",
       "        text-align: right;\n",
       "    }\n",
       "</style>\n",
       "<table border=\"1\" class=\"dataframe\">\n",
       "  <thead>\n",
       "    <tr style=\"text-align: right;\">\n",
       "      <th></th>\n",
       "    </tr>\n",
       "  </thead>\n",
       "  <tbody>\n",
       "  </tbody>\n",
       "</table>\n",
       "</div>"
      ],
      "text/plain": [
       "Empty DataFrame\n",
       "Columns: []\n",
       "Index: []"
      ]
     },
     "execution_count": 32,
     "metadata": {},
     "output_type": "execute_result"
    }
   ],
   "source": [
    "# Remove symetric relationships\n",
    "gds.run_cypher(\"\"\"\n",
    "  MATCH (a:Person)-[r:IS_SIMILAR_TO]->(b:Person) \n",
    "    WHERE (b)-[:IS_SIMILAR_TO]->(a) \n",
    "    AND   id(a)<id(b)\n",
    "  DELETE r\n",
    "\"\"\")\n"
   ]
  },
  {
   "cell_type": "markdown",
   "metadata": {},
   "source": [
    "## When all is said and done\n",
    "Delete the session "
   ]
  },
  {
   "cell_type": "code",
   "execution_count": 34,
   "metadata": {
    "id": "RNdzni6-SvC0"
   },
   "outputs": [
    {
     "data": {
      "text/plain": [
       "True"
      ]
     },
     "execution_count": 34,
     "metadata": {},
     "output_type": "execute_result"
    }
   ],
   "source": [
    "gds.delete()"
   ]
  },
  {
   "cell_type": "code",
   "execution_count": 35,
   "metadata": {},
   "outputs": [
    {
     "data": {
      "text/plain": [
       "[]"
      ]
     },
     "execution_count": 35,
     "metadata": {},
     "output_type": "execute_result"
    }
   ],
   "source": [
    "sessions.list()"
   ]
  },
  {
   "cell_type": "code",
   "execution_count": null,
   "metadata": {},
   "outputs": [],
   "source": []
  }
 ],
 "metadata": {
  "colab": {
   "provenance": [],
   "toc_visible": true
  },
  "kernelspec": {
   "display_name": "notebooks_new",
   "language": "python",
   "name": "python3"
  },
  "language_info": {
   "codemirror_mode": {
    "name": "ipython",
    "version": 3
   },
   "file_extension": ".py",
   "mimetype": "text/x-python",
   "name": "python",
   "nbconvert_exporter": "python",
   "pygments_lexer": "ipython3",
   "version": "3.11.0"
  }
 },
 "nbformat": 4,
 "nbformat_minor": 0
}
