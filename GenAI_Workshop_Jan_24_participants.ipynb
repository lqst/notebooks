{
  "cells": [
    {
      "cell_type": "markdown",
      "metadata": {
        "colab_type": "text",
        "id": "view-in-github"
      },
      "source": [
        "<a href=\"https://colab.research.google.com/github/lqst/notebooks/blob/main/GenAI_Workshop_Jan_24_participants.ipynb\" target=\"_parent\"><img src=\"https://colab.research.google.com/assets/colab-badge.svg\" alt=\"Open In Colab\"/></a>"
      ]
    },
    {
      "cell_type": "code",
      "execution_count": null,
      "metadata": {
        "colab": {
          "base_uri": "https://localhost:8080/"
        },
        "id": "9SObvi90sDwz",
        "outputId": "8e2f0f1c-f038-4cbd-f034-7b64965178bd"
      },
      "outputs": [],
      "source": [
        "#pip install graphdatascience openai retry"
      ]
    },
    {
      "cell_type": "code",
      "execution_count": 11,
      "metadata": {
        "id": "fpXifa2Tstym"
      },
      "outputs": [],
      "source": [
        "from graphdatascience import GraphDataScience\n",
        "import openai\n",
        "import pandas as pd\n",
        "from retry import retry\n",
        "import re\n",
        "from string import Template\n",
        "import time\n",
        "import glob\n",
        "from timeit import default_timer as timer"
      ]
    },
    {
      "cell_type": "markdown",
      "metadata": {
        "id": "7d-BMh2XAZC_"
      },
      "source": [
        "Launching a Neo4j instance in Sandbox and initiating your OpenAI API key\n",
        "\n",
        "[Neo4j Sanbox](https://neo4j.com/sandbox/)"
      ]
    },
    {
      "cell_type": "code",
      "execution_count": 12,
      "metadata": {
        "id": "WDwhbhSjs0OK"
      },
      "outputs": [],
      "source": [
        "bolt = \"bolt://3.239.161.211:7687\" # Put your Bolt URL between the double quotation marks\n",
        "user = \"neo4j\"\n",
        "password = \"salute-tomorrows-submarining\" # Put your sandbox password between the double quotation marks\n",
        "auth = (user, password)\n",
        "openai.api_key = \"--- key goes here ----\" # Replace with your openAI API key"
      ]
    },
    {
      "cell_type": "markdown",
      "metadata": {
        "id": "aNYdGFwcA1Y8"
      },
      "source": [
        "Testing the pipes"
      ]
    },
    {
      "cell_type": "code",
      "execution_count": 13,
      "metadata": {
        "colab": {
          "base_uri": "https://localhost:8080/"
        },
        "id": "_mRrjIins5C4",
        "outputId": "3e43fd96-832b-41fb-ce1e-e8aadd78583b"
      },
      "outputs": [
        {
          "name": "stdout",
          "output_type": "stream",
          "text": [
            "2.6.0\n"
          ]
        }
      ],
      "source": [
        "gds = GraphDataScience(bolt, auth=auth, aura_ds=False)\n",
        "print(gds.version())"
      ]
    },
    {
      "cell_type": "markdown",
      "metadata": {
        "id": "fpfQ-2vFA7AL"
      },
      "source": [
        "Create a pandas dataframe with toy data"
      ]
    },
    {
      "cell_type": "code",
      "execution_count": null,
      "metadata": {
        "colab": {
          "base_uri": "https://localhost:8080/",
          "height": 520
        },
        "id": "l0r6ZMSms47O",
        "outputId": "094c3e18-43ca-4905-ab06-7405046d9621"
      },
      "outputs": [],
      "source": [
        "transaction_df = pd.DataFrame([\n",
        "    {'name': 'Anna', 'merchant':'Amazon', 'amount': 100},\n",
        "    {'name': 'Anna', 'merchant':'Dustin', 'amount': 5499},\n",
        "    {'name': 'Anna', 'merchant':'eBay', 'amount': 220},\n",
        "    {'name': 'Jonas', 'merchant':'Amazon', 'amount': 220},\n",
        "    {'name': 'Jonas', 'merchant':'Dustin', 'amount': 399},\n",
        "    {'name': 'Jonas', 'merchant':'eBay', 'amount': 1499},\n",
        "    {'name': 'Jonas', 'merchant':'Bikes.de', 'amount': 2000},\n",
        "    {'name': 'Kristof', 'merchant':'Amazon', 'amount': 423},\n",
        "    {'name': 'Kristof', 'merchant':'Dustin', 'amount': 530},\n",
        "    {'name': 'Kristof', 'merchant':'Hello Fresh', 'amount': 1050},\n",
        "    {'name': 'Kristof', 'merchant':'Steam', 'amount': 230},\n",
        "    {'name': 'Kristof', 'merchant':'Activision', 'amount': 783},\n",
        "    {'name': 'Jonas', 'merchant':'Bikes.de', 'amount': 22000},\n",
        "    {'name': 'Håkan', 'merchant':'Hello Fresh', 'amount': 2100},\n",
        "    {'name': 'Håkan', 'merchant':'Steam', 'amount': 230},\n",
        "    {'name': 'Håkan', 'merchant':'Activision', 'amount': 783},\n",
        "\n",
        "], columns = ['name', 'merchant', 'amount'])\n",
        "transaction_df.head(15)"
      ]
    },
    {
      "cell_type": "markdown",
      "metadata": {
        "id": "GZGd0axu6s6l"
      },
      "source": [
        "We create a graph from the tabular data with the following relationship:\n",
        "\n",
        "\n",
        "> (:Person)-[:TRANSACTED_WITH]->(:Merchant)\n",
        "\n"
      ]
    },
    {
      "cell_type": "code",
      "execution_count": null,
      "metadata": {
        "colab": {
          "base_uri": "https://localhost:8080/",
          "height": 53
        },
        "id": "6kNl1LS1tG98",
        "outputId": "562cdae8-61f0-4607-b823-12da7fe46227"
      },
      "outputs": [],
      "source": [
        "gds.run_cypher(\n",
        "    \"\"\"\n",
        "    unwind $transactions as transaction\n",
        "    merge (p:Person{name: transaction['name']})\n",
        "    merge (m:Merchant{name: transaction['merchant']})\n",
        "    merge (p)-[tx:TRANSACTED_WITH]->(m)\n",
        "       set tx.amount = transaction['amount']\n",
        "    \"\"\",\n",
        "    params = { 'transactions': transaction_df.to_dict(orient='records') }\n",
        ")"
      ]
    },
    {
      "cell_type": "markdown",
      "metadata": {
        "id": "U7rFqbQUZqej"
      },
      "source": [
        "# **Basic navigation of graph with cypher**\n"
      ]
    },
    {
      "cell_type": "markdown",
      "metadata": {
        "id": "Tz7mK7p3Zxle"
      },
      "source": [
        "Exercise"
      ]
    },
    {
      "cell_type": "code",
      "execution_count": null,
      "metadata": {
        "id": "6QLW8x_JZuao"
      },
      "outputs": [],
      "source": [
        "# What persons are in the database?\n",
        "gds.run_cypher(\"\"\"\n",
        "  match (p:Person)\n",
        "  return p.name as person_name\n",
        "\"\"\").head()"
      ]
    },
    {
      "cell_type": "code",
      "execution_count": null,
      "metadata": {
        "id": "ClNykWx7Z1w-"
      },
      "outputs": [],
      "source": [
        "# What merchants are persons transacting with?\n",
        "gds.run_cypher(\"\"\"\n",
        "  match (p:Person)-[tx:TRANSACTED_WITH]->(m:Merchant)\n",
        "  return m.name as name, collect(p.name) as persons\n",
        "\"\"\").head()"
      ]
    },
    {
      "cell_type": "code",
      "execution_count": null,
      "metadata": {
        "id": "8PR6h-cqhGet"
      },
      "outputs": [],
      "source": [
        "# Exercise 1: Who's the biggest spender?\n",
        "# Replace with your solution\n",
        "gds.run_cypher(\"\"\"\n",
        "   // Your code goes here\n",
        "\"\"\").head(10)"
      ]
    },
    {
      "cell_type": "code",
      "execution_count": null,
      "metadata": {
        "id": "xTWkXKZFuxbh"
      },
      "outputs": [],
      "source": []
    },
    {
      "cell_type": "markdown",
      "metadata": {
        "id": "rnrpQQGFuyE_"
      },
      "source": [
        "# **Let's find some Implicit Relationships and persist them**\n",
        "\n",
        "We are letting our Graph Grow, i.e. we make our implicit relationship, that we have found from factual data points, explicit"
      ]
    },
    {
      "cell_type": "code",
      "execution_count": null,
      "metadata": {
        "id": "85oD4mxatG72"
      },
      "outputs": [],
      "source": [
        "G, res = gds.graph.project(\n",
        "    \"shopping\",                                     #  Graph name\n",
        "    [\"Person\", \"Merchant\"],                         #  Node projection\n",
        "    {\"TRANSACTED_WITH\": {                           #  Relationship projection\n",
        "        \"properties\": \"amount\",\n",
        "        \"orientation\": \"REVERSE\"}\n",
        "    }\n",
        ")"
      ]
    },
    {
      "cell_type": "code",
      "execution_count": null,
      "metadata": {
        "colab": {
          "base_uri": "https://localhost:8080/"
        },
        "id": "7rBfNJ6A9m65",
        "outputId": "efc7eff9-3422-4ee1-93c9-feaf50096614"
      },
      "outputs": [],
      "source": [
        "print(f\"Graph '{G.name()}' node count: {G.node_count()}\")\n",
        "print(f\"Graph '{G.name()}' node labels: {G.node_labels()}\")\n"
      ]
    },
    {
      "cell_type": "markdown",
      "metadata": {
        "id": "kZ0QOnAKx5Vc"
      },
      "source": [
        "Run the node similarity algorithm and write back the result as a relationship with a property holding the similarity score"
      ]
    },
    {
      "cell_type": "code",
      "execution_count": null,
      "metadata": {
        "colab": {
          "base_uri": "https://localhost:8080/",
          "height": 210,
          "referenced_widgets": [
            "e7f96e29aac44dc990b3f56b8e63d06b",
            "ba069ac9655e445ba158ddac56a0c96c",
            "57974c3b84ca48b09302fa974ac00c86",
            "dffbc3def27a442c8ccff2e1b76c8ac6",
            "4341d0e5e5d842c8bbdb49e4cab69bca",
            "6bfa23857c2f4af8a56d3697d4538f05",
            "ab9d56513dad4a4880c87a6d07be1364",
            "e08a3ef84fac45d7bfafdf46e02dcec7",
            "268ebe132c984ba9a2b1cab37d645b25",
            "9b886e826cec434793a1d3a79da97bf1",
            "84acc9a116b34158b9209037eff79435"
          ]
        },
        "id": "nsLTApZKtG5X",
        "outputId": "6c1897fe-a7f0-4029-cd51-a6055b4fc953"
      },
      "outputs": [],
      "source": [
        "write_results = gds.nodeSimilarity.write(\n",
        "    G,\n",
        "    writeRelationshipType= 'SIMILAR_CUSTOMERS' ,\n",
        "    writeProperty= 'SIM_SCORE',\n",
        "    relationshipWeightProperty= 'amount'\n",
        ")\n",
        "\n",
        "# removing symmetric relationships\n",
        "gds.run_cypher(\"\"\"\n",
        "    MATCH (m:Merchant)-[r:SIMILAR_CUSTOMERS]->(n:Merchant)\n",
        "    WHERE (n)-[:SIMILAR_CUSTOMERS]->(m) AND id(m)<id(n)\n",
        "    DELETE r\n",
        "\"\"\")\n",
        "\n",
        "\n",
        "write_results"
      ]
    },
    {
      "cell_type": "markdown",
      "metadata": {
        "id": "tVhAawTRxlUi"
      },
      "source": [
        "# **Using LLM's to augment your Knowledge Graph**"
      ]
    },
    {
      "cell_type": "markdown",
      "metadata": {
        "id": "-LRwUJp55lJ3"
      },
      "source": [
        "Use LLMs to enrich the graph with descriptions of the merchants. Starting by defining a function that will make API calls to openAI and return descriptions of the merchants"
      ]
    },
    {
      "cell_type": "code",
      "execution_count": null,
      "metadata": {
        "id": "6v73wuqgtG3Q"
      },
      "outputs": [],
      "source": [
        "from openai import OpenAI\n",
        "client = OpenAI(api_key=openai.api_key)"
      ]
    },
    {
      "cell_type": "code",
      "execution_count": null,
      "metadata": {
        "id": "aZsVUyvctG02"
      },
      "outputs": [],
      "source": [
        "def get_merchant_desc(merchant):\n",
        "    completion = client.chat.completions.create(model=\"gpt-3.5-turbo\", messages=[{\"role\": \"user\", \"content\": \"Provide a description of the merchant \" + merchant + \". Use a maximum of 300 characters\"}])\n",
        "    return completion.choices[0].message.content"
      ]
    },
    {
      "cell_type": "markdown",
      "metadata": {
        "id": "cO1dVNRFXGXn"
      },
      "source": [
        "*Populate* a dataframe with all the merchants in the graph"
      ]
    },
    {
      "cell_type": "code",
      "execution_count": null,
      "metadata": {
        "colab": {
          "base_uri": "https://localhost:8080/",
          "height": 269
        },
        "id": "7bnH9wAcXFMU",
        "outputId": "4f2fea1e-db07-4159-d55b-27c7aba74ef0"
      },
      "outputs": [],
      "source": [
        "merchant_df = gds.run_cypher(\"\"\"\n",
        "  match (m:Merchant)\n",
        "  return distinct m.name as merchant\n",
        "\"\"\")\n",
        "merchant_df.head(10)"
      ]
    },
    {
      "cell_type": "markdown",
      "metadata": {
        "id": "mbPE8uWTXKM6"
      },
      "source": [
        "Create a new column for the merchant description and use the previously defined function to generate descriptions"
      ]
    },
    {
      "cell_type": "code",
      "execution_count": null,
      "metadata": {
        "colab": {
          "base_uri": "https://localhost:8080/",
          "height": 269
        },
        "id": "-y7_-XsUXFJt",
        "outputId": "60933740-51f7-488b-aac1-46252ca47e29"
      },
      "outputs": [],
      "source": [
        "merchant_df['description'] = merchant_df['merchant'].apply(get_merchant_desc)\n",
        "merchant_df.head(10)"
      ]
    },
    {
      "cell_type": "markdown",
      "metadata": {
        "id": "LxqvrgnqXhXA"
      },
      "source": [
        "We write the description as properties in form of strings to the node"
      ]
    },
    {
      "cell_type": "code",
      "execution_count": null,
      "metadata": {
        "colab": {
          "base_uri": "https://localhost:8080/",
          "height": 53
        },
        "id": "gjzLoA7IXFG3",
        "outputId": "b1e4ce4a-2c90-4ea0-9c37-01bcdfabe376"
      },
      "outputs": [],
      "source": [
        "gds.run_cypher(\"\"\"\n",
        "  unwind $merchant_des as merchant_des\n",
        "  MATCH  (m:Merchant {name: merchant_des['merchant']})\n",
        "  set m.description=merchant_des['description']\"\"\",\n",
        "  params = { 'merchant_des': merchant_df.to_dict(orient='records') }\n",
        ")"
      ]
    },
    {
      "cell_type": "markdown",
      "metadata": {
        "id": "Qxtd25Gv2gWm"
      },
      "source": [
        "# ***It's better with Vectors...***"
      ]
    },
    {
      "cell_type": "code",
      "execution_count": null,
      "metadata": {
        "colab": {
          "base_uri": "https://localhost:8080/",
          "height": 53
        },
        "id": "4brf4OPKXfXp",
        "outputId": "b78295ab-b66a-4a27-c22e-bf6caf082471"
      },
      "outputs": [],
      "source": [
        "gds.run_cypher(\"\"\"CALL db.index.vector.createNodeIndex('description-embeddings', 'Merchant', 'embedding', 1536, 'cosine')\"\"\")"
      ]
    },
    {
      "cell_type": "code",
      "execution_count": null,
      "metadata": {
        "colab": {
          "base_uri": "https://localhost:8080/",
          "height": 81
        },
        "id": "FreJrytYXfVC",
        "outputId": "3bb24de7-374c-432e-af7b-4174d3b3f1bc"
      },
      "outputs": [],
      "source": [
        "gds.run_cypher(\"\"\"\n",
        "  MATCH (m:Merchant)\n",
        "  WITH collect(m) as nodes\n",
        "  UNWIND nodes as n\n",
        "  CALL apoc.ml.openai.embedding([n.description], $apiKey, {}) yield embedding\n",
        "  WITH n, embedding\n",
        "  MATCH (n)\n",
        "  CALL db.create.setVectorProperty(n, 'embedding', embedding)\n",
        "  YIELD node\n",
        "  RETURN COUNT(node)\"\"\",\n",
        "  params = {'apiKey': openai.api_key}\n",
        ")"
      ]
    },
    {
      "cell_type": "markdown",
      "metadata": {
        "id": "djuMwBQ3Q4XW"
      },
      "source": [
        "now, let's have a look at the browser...."
      ]
    },
    {
      "cell_type": "markdown",
      "metadata": {
        "id": "M9S4JpnsQ9sO"
      },
      "source": [
        "# **Show Time! RAG with vector search**"
      ]
    },
    {
      "cell_type": "code",
      "execution_count": null,
      "metadata": {
        "colab": {
          "base_uri": "https://localhost:8080/"
        },
        "id": "A_1PnSbcXq2p",
        "outputId": "416ff407-9af3-4c4d-dfde-4c92e0b4dc71"
      },
      "outputs": [],
      "source": [
        "search_phrase = input(\"Search phrase:\")"
      ]
    },
    {
      "cell_type": "code",
      "execution_count": null,
      "metadata": {
        "colab": {
          "base_uri": "https://localhost:8080/",
          "height": 143
        },
        "id": "DjzL66p1XfSd",
        "outputId": "126ee253-13b8-4521-b54b-a314c826345b"
      },
      "outputs": [],
      "source": [
        "\n",
        "gds.run_cypher(\"\"\"\n",
        "  CALL apoc.ml.openai.embedding([$search_phrase], $apiKey, {})\n",
        "  YIELD embedding\n",
        "  CALL db.index.vector.queryNodes('description-embeddings', 3, embedding)\n",
        "  YIELD node, score\n",
        "  MATCH (node)<-[:TRANSACTED_WITH]-(p:Person)\n",
        "  RETURN node.name as merchant, node.description as merchantDescription, collect(p.name) as customers, score\"\"\",\n",
        "  params = {'apiKey': openai.api_key, 'search_phrase': search_phrase}\n",
        ")"
      ]
    },
    {
      "cell_type": "code",
      "execution_count": null,
      "metadata": {
        "id": "ciPcNDaZtGwK"
      },
      "outputs": [],
      "source": []
    },
    {
      "cell_type": "code",
      "execution_count": null,
      "metadata": {
        "colab": {
          "base_uri": "https://localhost:8080/",
          "height": 53
        },
        "id": "8xZboqHAYV2j",
        "outputId": "516b0b99-235f-4daf-e7fb-5b45ac0c1464"
      },
      "outputs": [],
      "source": [
        "G.drop()\n",
        "gds.run_cypher(\"\"\"\n",
        "  MATCH (n)\n",
        "  DETACH DELETE n\"\"\"\n",
        ")\n",
        "gds.run_cypher(\"\"\"DROP INDEX `description-embeddings`\"\"\")"
      ]
    },
    {
      "cell_type": "markdown",
      "metadata": {
        "id": "vlIt1bFZ0-lg"
      },
      "source": [
        "# ***Named Entity Recognition with LLMs***"
      ]
    },
    {
      "cell_type": "code",
      "execution_count": 14,
      "metadata": {
        "id": "Ep6vlQdqYV0O"
      },
      "outputs": [],
      "source": [
        "def clean_text(text):\n",
        "  clean = \"\\n\".join([row for row in text.split(\"\\n\")])\n",
        "  clean = re.sub(r'\\(fig[^)]*\\)', '', clean, flags=re.IGNORECASE)\n",
        "  return clean"
      ]
    },
    {
      "cell_type": "code",
      "execution_count": 15,
      "metadata": {
        "id": "KePmq5aoYVxm"
      },
      "outputs": [],
      "source": [
        "article_txt = \"\"\"The patient was a 34-yr-old man who presented with complaints of fever and a chronic cough.\n",
        "He was a smoker and had a history of pulmonary tuberculosis that had been treated and cured.\n",
        "A computed tomographic (CT) scan revealed multiple tiny nodules in both lungs.\n",
        "A thoracoscopic lung biopsy was taken from the right upper lobe.\n",
        "The microscopic examination revealed a typical LCH.\n",
        "The tumor cells had vesicular and grooved nuclei, and they formed small aggregations around the bronchioles (Fig.1).\n",
        "The tumor cells were strongly positive for S-100 protein, vimentin, CD68 and CD1a.\n",
        "There were infiltrations of lymphocytes and eosinophils around the tumor cells.\n",
        "With performing additional radiologic examinations, no other organs were thought to be involved.\n",
        "He quit smoking, but he received no other specific treatment.\n",
        "He was well for the following one year.\n",
        "After this, a follow-up CT scan was performed and it showed a 4 cm-sized mass in the left lower lobe, in addition to the multiple tiny nodules in both lungs (Fig.2).\n",
        "A needle biopsy specimen revealed the possibility of a sarcoma; therefore, a lobectomy was performed.\n",
        "Grossly, a 4 cm-sized poorly-circumscribed lobulated gray-white mass was found (Fig.3), and there were a few small satellite nodules around the main mass.\n",
        "Microscopically, the tumor cells were aggregated in large sheets and they showed an infiltrative growth.\n",
        "The cytologic features of some of the tumor cells were similar to those seen in a typical LCH.\n",
        "However, many tumor cells showed overtly malignant cytologic features such as pleomorphic/hyperchromatic nuclei and prominent nucleoli (Fig.4), and multinucleated tumor giant cells were also found.\n",
        "There were numerous mitotic figures ranging from 30 to 60 per 10 high power fields, and some of them were abnormal.\n",
        "A few foci of typical LCH remained around the main tumor mass.\n",
        "Immunohistochemically, the tumor cells were strongly positive for S-100 protein (Fig.5) and vimentin; they were also positive for CD68 (Dako N1577, Clone KPI), and focally positive for CD1a (Fig.6), and they were negative for cytokeratin, epithelial membrane antigen, CD3, CD20 and HMB45.\n",
        "The ultrastructural analysis failed to demonstrate any Birbeck granules in the cytoplasm of the tumor cells.\n",
        "Now, at five months after lobectomy, the patient is doing well with no significant change in the radiologic findings.\n",
        "\"\"\""
      ]
    },
    {
      "cell_type": "code",
      "execution_count": 17,
      "metadata": {
        "id": "xwQGFaAn07Ok"
      },
      "outputs": [],
      "source": [
        "@retry(tries=2, delay=5)\n",
        "def process_gpt(system,\n",
        "                prompt):\n",
        "\n",
        "    completion = openai.ChatCompletion.create(\n",
        "        model=\"gpt-4\",\n",
        "        max_tokens=4000,\n",
        "        # Try to be as deterministic as possible\n",
        "        temperature=0,\n",
        "        messages=[\n",
        "            {\"role\": \"system\", \"content\": system},\n",
        "            {\"role\": \"user\", \"content\": prompt},\n",
        "        ]\n",
        "    )\n",
        "    nlp_results = completion.choices[0].message.content\n",
        "    return nlp_results"
      ]
    },
    {
      "cell_type": "code",
      "execution_count": 18,
      "metadata": {
        "id": "90379cd1"
      },
      "outputs": [],
      "source": [
        "prompt1=\"\"\"From the Case sheet for a patient below, extract the following Entities & relationships described in the mentioned format\n",
        "0. ALWAYS FINISH THE OUTPUT. Never send partial responses\n",
        "1. First, look for these Entity types in the text and generate as comma-separated format similar to entity type.\n",
        "   `id` property of each entity must be alphanumeric and must be unique among the entities. You will be referring this property to define the relationship between entities. Do not create new entity types that aren't mentioned below. Document must be summarized and stored inside Case entity under `summary` property. You will have to generate as many entities as needed as per the types below:\n",
        "    Entity Types:\n",
        "    label:'Case',id:string,summary:string //Case\n",
        "    label:'Person',id:string,age:string,location:string,gender:string //Patient mentioned in the case\n",
        "    label:'Symptom',id:string,description:string //Symptom Entity; `id` property is the name of the symptom, in lowercase & camel-case & should always start with an alphabet\n",
        "    label:'Disease',id:string,name:string //Disease diagnosed now or previously as per the Case sheet; `id` property is the name of the disease, in lowercase & camel-case & should always start with an alphabet\n",
        "    label:'BodySystem',id:string,name:string //Body Part affected. Eg: Chest, Lungs; id property is the name of the part, in lowercase & camel-case & should always start with an alphabet\n",
        "    label:'Diagnosis',id:string,name:string,description:string,when:string //Diagnostic procedure conducted; `id` property is the summary of the Diagnosis, in lowercase & camel-case & should always start with an alphabet\n",
        "    label:'Biological',id:string,name:string,description:string //Results identified from Diagnosis; `id` property is the summary of the Biological, in lowercase & camel-case & should always start with an alphabet\n",
        "\n",
        "3. Next generate each relationships as triples of head, relationship and tail. To refer the head and tail entity, use their respective `id` property. Relationship property should be mentioned within brackets as comma-separated. They should follow these relationship types below. You will have to generate as many relationships as needed as defined below:\n",
        "    Relationship types:\n",
        "    case|FOR|person\n",
        "    person|HAS_SYMPTOM{when:string,frequency:string,span:string}|symptom //the properties inside HAS_SYMPTOM gets populated from the Case sheet\n",
        "    person|HAS_DISEASE{when:string}|disease //the properties inside HAS_DISEASE gets populated from the Case sheet\n",
        "    symptom|SEEN_ON|chest\n",
        "    disease|AFFECTS|heart\n",
        "    person|HAS_DIAGNOSIS|diagnosis\n",
        "    diagnosis|SHOWED|biological\n",
        "\n",
        "The output should look like :\n",
        "{\n",
        "    \"entities\": [{\"label\":\"Case\",\"id\":string,\"summary\":string}],\n",
        "    \"relationships\": [\"disease|AFFECTS|heart\"]\n",
        "}\n",
        "\n",
        "Case Sheet:\n",
        "$ctext\n",
        "\"\"\""
      ]
    },
    {
      "cell_type": "code",
      "execution_count": 19,
      "metadata": {
        "colab": {
          "base_uri": "https://localhost:8080/"
        },
        "id": "98cbafb5",
        "outputId": "efb04a14-c70d-49ba-e6de-1111866227e2"
      },
      "outputs": [
        {
          "name": "stdout",
          "output_type": "stream",
          "text": [
            "CPU times: user 24.8 ms, sys: 8.62 ms, total: 33.4 ms\n",
            "Wall time: 55.8 s\n"
          ]
        }
      ],
      "source": [
        "%%time\n",
        "def run_completion(prompt, results, ctext):\n",
        "    try:\n",
        "      system = \"You are a helpful Medical Case Sheet expert who extracts relevant information and store them on a Neo4j Knowledge Graph\"\n",
        "      pr = Template(prompt).substitute(ctext=ctext)\n",
        "      res = process_gpt(system, pr)\n",
        "      results.append(json.loads(res.replace(\"\\'\", \"'\")))\n",
        "      return results\n",
        "    except Exception as e:\n",
        "        print(e)\n",
        "\n",
        "prompts = [prompt1]\n",
        "results = []\n",
        "for p in prompts:\n",
        "  results = run_completion(p, results, clean_text(article_txt))\n"
      ]
    },
    {
      "cell_type": "code",
      "execution_count": 20,
      "metadata": {
        "colab": {
          "base_uri": "https://localhost:8080/"
        },
        "id": "ogK6_qAS07Hi",
        "outputId": "a0dfc8d5-d858-49c2-f460-102c7af2fe1f"
      },
      "outputs": [
        {
          "data": {
            "text/plain": [
              "[{'entities': [{'label': 'Case',\n",
              "    'id': 'case1',\n",
              "    'summary': 'The patient was a 34-yr-old man who presented with complaints of fever and a chronic cough. He was a smoker and had a history of pulmonary tuberculosis that had been treated and cured. A computed tomographic (CT) scan revealed multiple tiny nodules in both lungs. A thoracoscopic lung biopsy was taken from the right upper lobe. The microscopic examination revealed a typical LCH. The tumor cells had vesicular and grooved nuclei, and they formed small aggregations around the bronchioles. The tumor cells were strongly positive for S-100 protein, vimentin, CD68 and CD1a. There were infiltrations of lymphocytes and eosinophils around the tumor cells. With performing additional radiologic examinations, no other organs were thought to be involved. He quit smoking, but he received no other specific treatment. He was well for the following one year. After this, a follow-up CT scan was performed and it showed a 4 cm-sized mass in the left lower lobe, in addition to the multiple tiny nodules in both lungs. A needle biopsy specimen revealed the possibility of a sarcoma; therefore, a lobectomy was performed. Grossly, a 4 cm-sized poorly-circumscribed lobulated gray-white mass was found , and there were a few small satellite nodules around the main mass. Microscopically, the tumor cells were aggregated in large sheets and they showed an infiltrative growth. The cytologic features of some of the tumor cells were similar to those seen in a typical LCH. However, many tumor cells showed overtly malignant cytologic features such as pleomorphic/hyperchromatic nuclei and prominent nucleoli , and multinucleated tumor giant cells were also found. There were numerous mitotic figures ranging from 30 to 60 per 10 high power fields, and some of them were abnormal. A few foci of typical LCH remained around the main tumor mass. Immunohistochemically, the tumor cells were strongly positive for S-100 protein  and vimentin; they were also positive for CD68 (Dako N1577, Clone KPI), and focally positive for CD1a , and they were negative for cytokeratin, epithelial membrane antigen, CD3, CD20 and HMB45. The ultrastructural analysis failed to demonstrate any Birbeck granules in the cytoplasm of the tumor cells. Now, at five months after lobectomy, the patient is doing well with no significant change in the radiologic findings.'},\n",
              "   {'label': 'Person',\n",
              "    'id': 'person1',\n",
              "    'age': '34',\n",
              "    'location': 'unknown',\n",
              "    'gender': 'male'},\n",
              "   {'label': 'Symptom',\n",
              "    'id': 'fever',\n",
              "    'description': 'patient presented with complaints of fever'},\n",
              "   {'label': 'Symptom',\n",
              "    'id': 'chronicCough',\n",
              "    'description': 'patient presented with complaints of a chronic cough'},\n",
              "   {'label': 'Disease',\n",
              "    'id': 'pulmonaryTuberculosis',\n",
              "    'name': 'Pulmonary Tuberculosis'},\n",
              "   {'label': 'Disease', 'id': 'lch', 'name': 'LCH'},\n",
              "   {'label': 'Disease', 'id': 'sarcoma', 'name': 'Sarcoma'},\n",
              "   {'label': 'BodySystem', 'id': 'lungs', 'name': 'Lungs'},\n",
              "   {'label': 'Diagnosis',\n",
              "    'id': 'ctScan',\n",
              "    'name': 'CT Scan',\n",
              "    'description': 'A computed tomographic (CT) scan revealed multiple tiny nodules in both lungs',\n",
              "    'when': 'unknown'},\n",
              "   {'label': 'Diagnosis',\n",
              "    'id': 'lungBiopsy',\n",
              "    'name': 'Lung Biopsy',\n",
              "    'description': 'A thoracoscopic lung biopsy was taken from the right upper lobe',\n",
              "    'when': 'unknown'},\n",
              "   {'label': 'Biological',\n",
              "    'id': 'tumorCells',\n",
              "    'name': 'Tumor Cells',\n",
              "    'description': 'The tumor cells had vesicular and grooved nuclei, and they formed small aggregations around the bronchioles'}],\n",
              "  'relationships': ['case1|FOR|person1',\n",
              "   \"person1|HAS_SYMPTOM{when:'unknown',frequency:'unknown',span:'unknown'}|fever\",\n",
              "   \"person1|HAS_SYMPTOM{when:'unknown',frequency:'unknown',span:'unknown'}|chronicCough\",\n",
              "   \"person1|HAS_DISEASE{when:'past'}|pulmonaryTuberculosis\",\n",
              "   \"person1|HAS_DISEASE{when:'present'}|lch\",\n",
              "   \"person1|HAS_DISEASE{when:'present'}|sarcoma\",\n",
              "   'fever|SEEN_ON|lungs',\n",
              "   'chronicCough|SEEN_ON|lungs',\n",
              "   'pulmonaryTuberculosis|AFFECTS|lungs',\n",
              "   'lch|AFFECTS|lungs',\n",
              "   'sarcoma|AFFECTS|lungs',\n",
              "   'person1|HAS_DIAGNOSIS|ctScan',\n",
              "   'person1|HAS_DIAGNOSIS|lungBiopsy',\n",
              "   'ctScan|SHOWED|tumorCells',\n",
              "   'lungBiopsy|SHOWED|tumorCells']}]"
            ]
          },
          "execution_count": 20,
          "metadata": {},
          "output_type": "execute_result"
        }
      ],
      "source": [
        "results"
      ]
    },
    {
      "cell_type": "code",
      "execution_count": 39,
      "metadata": {},
      "outputs": [
        {
          "data": {
            "text/html": [
              "<div>\n",
              "<style scoped>\n",
              "    .dataframe tbody tr th:only-of-type {\n",
              "        vertical-align: middle;\n",
              "    }\n",
              "\n",
              "    .dataframe tbody tr th {\n",
              "        vertical-align: top;\n",
              "    }\n",
              "\n",
              "    .dataframe thead th {\n",
              "        text-align: right;\n",
              "    }\n",
              "</style>\n",
              "<table border=\"1\" class=\"dataframe\">\n",
              "  <thead>\n",
              "    <tr style=\"text-align: right;\">\n",
              "      <th></th>\n",
              "    </tr>\n",
              "  </thead>\n",
              "  <tbody>\n",
              "  </tbody>\n",
              "</table>\n",
              "</div>"
            ],
            "text/plain": [
              "Empty DataFrame\n",
              "Columns: []\n",
              "Index: []"
            ]
          },
          "execution_count": 39,
          "metadata": {},
          "output_type": "execute_result"
        }
      ],
      "source": [
        "gds.run_cypher('CREATE CONSTRAINT unique_entity_id IF NOT EXISTS FOR (n:Entity) REQUIRE n.id IS UNIQUE')"
      ]
    },
    {
      "cell_type": "code",
      "execution_count": 55,
      "metadata": {},
      "outputs": [
        {
          "data": {
            "text/html": [
              "<div>\n",
              "<style scoped>\n",
              "    .dataframe tbody tr th:only-of-type {\n",
              "        vertical-align: middle;\n",
              "    }\n",
              "\n",
              "    .dataframe tbody tr th {\n",
              "        vertical-align: top;\n",
              "    }\n",
              "\n",
              "    .dataframe thead th {\n",
              "        text-align: right;\n",
              "    }\n",
              "</style>\n",
              "<table border=\"1\" class=\"dataframe\">\n",
              "  <thead>\n",
              "    <tr style=\"text-align: right;\">\n",
              "      <th></th>\n",
              "      <th>nodes_processed</th>\n",
              "    </tr>\n",
              "  </thead>\n",
              "  <tbody>\n",
              "    <tr>\n",
              "      <th>0</th>\n",
              "      <td>11</td>\n",
              "    </tr>\n",
              "  </tbody>\n",
              "</table>\n",
              "</div>"
            ],
            "text/plain": [
              "   nodes_processed\n",
              "0               11"
            ]
          },
          "execution_count": 55,
          "metadata": {},
          "output_type": "execute_result"
        }
      ],
      "source": [
        "gds.run_cypher(\"\"\" \n",
        "    unwind $rows as row\n",
        "    merge (n:Entity{id: row.id})\n",
        "    set n += apoc.map.removeKeys(row, ['id','label'])\n",
        "    with n, row\n",
        "    call apoc.create.addLabels(id(n),[row.label]) yield node\n",
        "    return count(*) as nodes_processed \n",
        "\"\"\",\n",
        "params={'rows': results[0]['entities']})"
      ]
    },
    {
      "cell_type": "code",
      "execution_count": 57,
      "metadata": {},
      "outputs": [
        {
          "data": {
            "text/html": [
              "<div>\n",
              "<style scoped>\n",
              "    .dataframe tbody tr th:only-of-type {\n",
              "        vertical-align: middle;\n",
              "    }\n",
              "\n",
              "    .dataframe tbody tr th {\n",
              "        vertical-align: top;\n",
              "    }\n",
              "\n",
              "    .dataframe thead th {\n",
              "        text-align: right;\n",
              "    }\n",
              "</style>\n",
              "<table border=\"1\" class=\"dataframe\">\n",
              "  <thead>\n",
              "    <tr style=\"text-align: right;\">\n",
              "      <th></th>\n",
              "      <th>rels_processed</th>\n",
              "    </tr>\n",
              "  </thead>\n",
              "  <tbody>\n",
              "    <tr>\n",
              "      <th>0</th>\n",
              "      <td>15</td>\n",
              "    </tr>\n",
              "  </tbody>\n",
              "</table>\n",
              "</div>"
            ],
            "text/plain": [
              "   rels_processed\n",
              "0              15"
            ]
          },
          "execution_count": 57,
          "metadata": {},
          "output_type": "execute_result"
        }
      ],
      "source": [
        "gds.run_cypher(\"\"\" \n",
        "    unwind $rows as row\n",
        "    with split(row, '|') as r\n",
        "    match (a:Entity{id: r[0]}), (b:Entity{id: r[2]}) \n",
        "    call apoc.merge.relationship(a, r[1], {}, {}, b, {}) yield rel\n",
        "    return count(*) as rels_processed \n",
        "\"\"\",\n",
        "params={'rows': results[0]['relationships']})"
      ]
    },
    {
      "cell_type": "code",
      "execution_count": 54,
      "metadata": {
        "id": "42kVyPJj1UFp"
      },
      "outputs": [
        {
          "data": {
            "text/html": [
              "<div>\n",
              "<style scoped>\n",
              "    .dataframe tbody tr th:only-of-type {\n",
              "        vertical-align: middle;\n",
              "    }\n",
              "\n",
              "    .dataframe tbody tr th {\n",
              "        vertical-align: top;\n",
              "    }\n",
              "\n",
              "    .dataframe thead th {\n",
              "        text-align: right;\n",
              "    }\n",
              "</style>\n",
              "<table border=\"1\" class=\"dataframe\">\n",
              "  <thead>\n",
              "    <tr style=\"text-align: right;\">\n",
              "      <th></th>\n",
              "    </tr>\n",
              "  </thead>\n",
              "  <tbody>\n",
              "  </tbody>\n",
              "</table>\n",
              "</div>"
            ],
            "text/plain": [
              "Empty DataFrame\n",
              "Columns: []\n",
              "Index: []"
            ]
          },
          "execution_count": 54,
          "metadata": {},
          "output_type": "execute_result"
        }
      ],
      "source": [
        "# gds.run_cypher(\"MATCH (n) DETACH DELETE n\")"
      ]
    },
    {
      "cell_type": "code",
      "execution_count": null,
      "metadata": {},
      "outputs": [],
      "source": []
    }
  ],
  "metadata": {
    "colab": {
      "include_colab_link": true,
      "provenance": []
    },
    "kernelspec": {
      "display_name": "Python 3",
      "name": "python3"
    },
    "language_info": {
      "codemirror_mode": {
        "name": "ipython",
        "version": 3
      },
      "file_extension": ".py",
      "mimetype": "text/x-python",
      "name": "python",
      "nbconvert_exporter": "python",
      "pygments_lexer": "ipython3",
      "version": "3.9.16"
    },
    "widgets": {
      "application/vnd.jupyter.widget-state+json": {
        "268ebe132c984ba9a2b1cab37d645b25": {
          "model_module": "@jupyter-widgets/controls",
          "model_module_version": "1.5.0",
          "model_name": "ProgressStyleModel",
          "state": {
            "_model_module": "@jupyter-widgets/controls",
            "_model_module_version": "1.5.0",
            "_model_name": "ProgressStyleModel",
            "_view_count": null,
            "_view_module": "@jupyter-widgets/base",
            "_view_module_version": "1.2.0",
            "_view_name": "StyleView",
            "bar_color": null,
            "description_width": ""
          }
        },
        "4341d0e5e5d842c8bbdb49e4cab69bca": {
          "model_module": "@jupyter-widgets/base",
          "model_module_version": "1.2.0",
          "model_name": "LayoutModel",
          "state": {
            "_model_module": "@jupyter-widgets/base",
            "_model_module_version": "1.2.0",
            "_model_name": "LayoutModel",
            "_view_count": null,
            "_view_module": "@jupyter-widgets/base",
            "_view_module_version": "1.2.0",
            "_view_name": "LayoutView",
            "align_content": null,
            "align_items": null,
            "align_self": null,
            "border": null,
            "bottom": null,
            "display": null,
            "flex": null,
            "flex_flow": null,
            "grid_area": null,
            "grid_auto_columns": null,
            "grid_auto_flow": null,
            "grid_auto_rows": null,
            "grid_column": null,
            "grid_gap": null,
            "grid_row": null,
            "grid_template_areas": null,
            "grid_template_columns": null,
            "grid_template_rows": null,
            "height": null,
            "justify_content": null,
            "justify_items": null,
            "left": null,
            "margin": null,
            "max_height": null,
            "max_width": null,
            "min_height": null,
            "min_width": null,
            "object_fit": null,
            "object_position": null,
            "order": null,
            "overflow": null,
            "overflow_x": null,
            "overflow_y": null,
            "padding": null,
            "right": null,
            "top": null,
            "visibility": null,
            "width": null
          }
        },
        "57974c3b84ca48b09302fa974ac00c86": {
          "model_module": "@jupyter-widgets/controls",
          "model_module_version": "1.5.0",
          "model_name": "FloatProgressModel",
          "state": {
            "_dom_classes": [],
            "_model_module": "@jupyter-widgets/controls",
            "_model_module_version": "1.5.0",
            "_model_name": "FloatProgressModel",
            "_view_count": null,
            "_view_module": "@jupyter-widgets/controls",
            "_view_module_version": "1.5.0",
            "_view_name": "ProgressView",
            "bar_style": "success",
            "description": "",
            "description_tooltip": null,
            "layout": "IPY_MODEL_e08a3ef84fac45d7bfafdf46e02dcec7",
            "max": 100,
            "min": 0,
            "orientation": "horizontal",
            "style": "IPY_MODEL_268ebe132c984ba9a2b1cab37d645b25",
            "value": 100
          }
        },
        "6bfa23857c2f4af8a56d3697d4538f05": {
          "model_module": "@jupyter-widgets/base",
          "model_module_version": "1.2.0",
          "model_name": "LayoutModel",
          "state": {
            "_model_module": "@jupyter-widgets/base",
            "_model_module_version": "1.2.0",
            "_model_name": "LayoutModel",
            "_view_count": null,
            "_view_module": "@jupyter-widgets/base",
            "_view_module_version": "1.2.0",
            "_view_name": "LayoutView",
            "align_content": null,
            "align_items": null,
            "align_self": null,
            "border": null,
            "bottom": null,
            "display": null,
            "flex": null,
            "flex_flow": null,
            "grid_area": null,
            "grid_auto_columns": null,
            "grid_auto_flow": null,
            "grid_auto_rows": null,
            "grid_column": null,
            "grid_gap": null,
            "grid_row": null,
            "grid_template_areas": null,
            "grid_template_columns": null,
            "grid_template_rows": null,
            "height": null,
            "justify_content": null,
            "justify_items": null,
            "left": null,
            "margin": null,
            "max_height": null,
            "max_width": null,
            "min_height": null,
            "min_width": null,
            "object_fit": null,
            "object_position": null,
            "order": null,
            "overflow": null,
            "overflow_x": null,
            "overflow_y": null,
            "padding": null,
            "right": null,
            "top": null,
            "visibility": null,
            "width": null
          }
        },
        "84acc9a116b34158b9209037eff79435": {
          "model_module": "@jupyter-widgets/controls",
          "model_module_version": "1.5.0",
          "model_name": "DescriptionStyleModel",
          "state": {
            "_model_module": "@jupyter-widgets/controls",
            "_model_module_version": "1.5.0",
            "_model_name": "DescriptionStyleModel",
            "_view_count": null,
            "_view_module": "@jupyter-widgets/base",
            "_view_module_version": "1.2.0",
            "_view_name": "StyleView",
            "description_width": ""
          }
        },
        "9b886e826cec434793a1d3a79da97bf1": {
          "model_module": "@jupyter-widgets/base",
          "model_module_version": "1.2.0",
          "model_name": "LayoutModel",
          "state": {
            "_model_module": "@jupyter-widgets/base",
            "_model_module_version": "1.2.0",
            "_model_name": "LayoutModel",
            "_view_count": null,
            "_view_module": "@jupyter-widgets/base",
            "_view_module_version": "1.2.0",
            "_view_name": "LayoutView",
            "align_content": null,
            "align_items": null,
            "align_self": null,
            "border": null,
            "bottom": null,
            "display": null,
            "flex": null,
            "flex_flow": null,
            "grid_area": null,
            "grid_auto_columns": null,
            "grid_auto_flow": null,
            "grid_auto_rows": null,
            "grid_column": null,
            "grid_gap": null,
            "grid_row": null,
            "grid_template_areas": null,
            "grid_template_columns": null,
            "grid_template_rows": null,
            "height": null,
            "justify_content": null,
            "justify_items": null,
            "left": null,
            "margin": null,
            "max_height": null,
            "max_width": null,
            "min_height": null,
            "min_width": null,
            "object_fit": null,
            "object_position": null,
            "order": null,
            "overflow": null,
            "overflow_x": null,
            "overflow_y": null,
            "padding": null,
            "right": null,
            "top": null,
            "visibility": null,
            "width": null
          }
        },
        "ab9d56513dad4a4880c87a6d07be1364": {
          "model_module": "@jupyter-widgets/controls",
          "model_module_version": "1.5.0",
          "model_name": "DescriptionStyleModel",
          "state": {
            "_model_module": "@jupyter-widgets/controls",
            "_model_module_version": "1.5.0",
            "_model_name": "DescriptionStyleModel",
            "_view_count": null,
            "_view_module": "@jupyter-widgets/base",
            "_view_module_version": "1.2.0",
            "_view_name": "StyleView",
            "description_width": ""
          }
        },
        "ba069ac9655e445ba158ddac56a0c96c": {
          "model_module": "@jupyter-widgets/controls",
          "model_module_version": "1.5.0",
          "model_name": "HTMLModel",
          "state": {
            "_dom_classes": [],
            "_model_module": "@jupyter-widgets/controls",
            "_model_module_version": "1.5.0",
            "_model_name": "HTMLModel",
            "_view_count": null,
            "_view_module": "@jupyter-widgets/controls",
            "_view_module_version": "1.5.0",
            "_view_name": "HTMLView",
            "description": "",
            "description_tooltip": null,
            "layout": "IPY_MODEL_6bfa23857c2f4af8a56d3697d4538f05",
            "placeholder": "​",
            "style": "IPY_MODEL_ab9d56513dad4a4880c87a6d07be1364",
            "value": "NodeSimilarity: 100%"
          }
        },
        "dffbc3def27a442c8ccff2e1b76c8ac6": {
          "model_module": "@jupyter-widgets/controls",
          "model_module_version": "1.5.0",
          "model_name": "HTMLModel",
          "state": {
            "_dom_classes": [],
            "_model_module": "@jupyter-widgets/controls",
            "_model_module_version": "1.5.0",
            "_model_name": "HTMLModel",
            "_view_count": null,
            "_view_module": "@jupyter-widgets/controls",
            "_view_module_version": "1.5.0",
            "_view_name": "HTMLView",
            "description": "",
            "description_tooltip": null,
            "layout": "IPY_MODEL_9b886e826cec434793a1d3a79da97bf1",
            "placeholder": "​",
            "style": "IPY_MODEL_84acc9a116b34158b9209037eff79435",
            "value": " 100.0/100 [01:07&lt;00:00, 35.99%/s]"
          }
        },
        "e08a3ef84fac45d7bfafdf46e02dcec7": {
          "model_module": "@jupyter-widgets/base",
          "model_module_version": "1.2.0",
          "model_name": "LayoutModel",
          "state": {
            "_model_module": "@jupyter-widgets/base",
            "_model_module_version": "1.2.0",
            "_model_name": "LayoutModel",
            "_view_count": null,
            "_view_module": "@jupyter-widgets/base",
            "_view_module_version": "1.2.0",
            "_view_name": "LayoutView",
            "align_content": null,
            "align_items": null,
            "align_self": null,
            "border": null,
            "bottom": null,
            "display": null,
            "flex": null,
            "flex_flow": null,
            "grid_area": null,
            "grid_auto_columns": null,
            "grid_auto_flow": null,
            "grid_auto_rows": null,
            "grid_column": null,
            "grid_gap": null,
            "grid_row": null,
            "grid_template_areas": null,
            "grid_template_columns": null,
            "grid_template_rows": null,
            "height": null,
            "justify_content": null,
            "justify_items": null,
            "left": null,
            "margin": null,
            "max_height": null,
            "max_width": null,
            "min_height": null,
            "min_width": null,
            "object_fit": null,
            "object_position": null,
            "order": null,
            "overflow": null,
            "overflow_x": null,
            "overflow_y": null,
            "padding": null,
            "right": null,
            "top": null,
            "visibility": null,
            "width": null
          }
        },
        "e7f96e29aac44dc990b3f56b8e63d06b": {
          "model_module": "@jupyter-widgets/controls",
          "model_module_version": "1.5.0",
          "model_name": "HBoxModel",
          "state": {
            "_dom_classes": [],
            "_model_module": "@jupyter-widgets/controls",
            "_model_module_version": "1.5.0",
            "_model_name": "HBoxModel",
            "_view_count": null,
            "_view_module": "@jupyter-widgets/controls",
            "_view_module_version": "1.5.0",
            "_view_name": "HBoxView",
            "box_style": "",
            "children": [
              "IPY_MODEL_ba069ac9655e445ba158ddac56a0c96c",
              "IPY_MODEL_57974c3b84ca48b09302fa974ac00c86",
              "IPY_MODEL_dffbc3def27a442c8ccff2e1b76c8ac6"
            ],
            "layout": "IPY_MODEL_4341d0e5e5d842c8bbdb49e4cab69bca"
          }
        }
      }
    }
  },
  "nbformat": 4,
  "nbformat_minor": 0
}
