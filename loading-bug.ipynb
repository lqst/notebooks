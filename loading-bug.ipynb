{
 "cells": [
  {
   "cell_type": "code",
   "execution_count": 52,
   "metadata": {},
   "outputs": [],
   "source": [
    "\n",
    "DB_ULR = \"neo4j://localhost:7687\"\n",
    "DB_USER = \"neo4j\"\n",
    "DB_PASS = \"test1234\"\n",
    "DB_NAME = \"loadbug\""
   ]
  },
  {
   "cell_type": "code",
   "execution_count": 53,
   "metadata": {},
   "outputs": [],
   "source": [
    "import os\n",
    "import pandas as pd\n",
    "import numpy as np\n",
    "import plotly.graph_objects as go\n",
    "from neo4j import GraphDatabase # Python database driver\n",
    "from graphdatascience import GraphDataScience # Python GDS client\n",
    "\n",
    "# And some cermony to create the driver and gds objects\n",
    "driver = GraphDatabase.driver(DB_ULR, auth=(DB_USER, DB_PASS))\n",
    "gds = GraphDataScience(DB_ULR, auth=(DB_USER, DB_PASS))\n",
    "gds.set_database(DB_NAME)"
   ]
  },
  {
   "cell_type": "markdown",
   "metadata": {},
   "source": [
    "# Create databse and schema"
   ]
  },
  {
   "cell_type": "code",
   "execution_count": 54,
   "metadata": {},
   "outputs": [],
   "source": [
    "# Create (or replace) database\n",
    "with driver.session(database = \"system\") as session:\n",
    "    result = session.write_transaction( lambda tx: \n",
    "        tx.run(\n",
    "            \"CREATE OR REPLACE DATABASE {dbname}\".format(dbname = DB_NAME)\n",
    "        ).data()\n",
    "    )"
   ]
  },
  {
   "cell_type": "code",
   "execution_count": 55,
   "metadata": {},
   "outputs": [
    {
     "data": {
      "text/html": [
       "<div>\n",
       "<style scoped>\n",
       "    .dataframe tbody tr th:only-of-type {\n",
       "        vertical-align: middle;\n",
       "    }\n",
       "\n",
       "    .dataframe tbody tr th {\n",
       "        vertical-align: top;\n",
       "    }\n",
       "\n",
       "    .dataframe thead th {\n",
       "        text-align: right;\n",
       "    }\n",
       "</style>\n",
       "<table border=\"1\" class=\"dataframe\">\n",
       "  <thead>\n",
       "    <tr style=\"text-align: right;\">\n",
       "      <th></th>\n",
       "    </tr>\n",
       "  </thead>\n",
       "  <tbody>\n",
       "  </tbody>\n",
       "</table>\n",
       "</div>"
      ],
      "text/plain": [
       "Empty DataFrame\n",
       "Columns: []\n",
       "Index: []"
      ]
     },
     "execution_count": 55,
     "metadata": {},
     "output_type": "execute_result"
    }
   ],
   "source": [
    "gds.run_cypher(\"\"\"\n",
    "    CREATE CONSTRAINT FOR (n:Person) REQUIRE (n.id) IS NODE KEY \n",
    "    \"\"\")"
   ]
  },
  {
   "cell_type": "code",
   "execution_count": 56,
   "metadata": {},
   "outputs": [
    {
     "data": {
      "text/html": [
       "<div>\n",
       "<style scoped>\n",
       "    .dataframe tbody tr th:only-of-type {\n",
       "        vertical-align: middle;\n",
       "    }\n",
       "\n",
       "    .dataframe tbody tr th {\n",
       "        vertical-align: top;\n",
       "    }\n",
       "\n",
       "    .dataframe thead th {\n",
       "        text-align: right;\n",
       "    }\n",
       "</style>\n",
       "<table border=\"1\" class=\"dataframe\">\n",
       "  <thead>\n",
       "    <tr style=\"text-align: right;\">\n",
       "      <th></th>\n",
       "    </tr>\n",
       "  </thead>\n",
       "  <tbody>\n",
       "  </tbody>\n",
       "</table>\n",
       "</div>"
      ],
      "text/plain": [
       "Empty DataFrame\n",
       "Columns: []\n",
       "Index: []"
      ]
     },
     "execution_count": 56,
     "metadata": {},
     "output_type": "execute_result"
    }
   ],
   "source": [
    "gds.run_cypher(\"\"\"\n",
    "    CREATE CONSTRAINT FOR (n:Item) REQUIRE (n.id) IS NODE KEY \n",
    "    \"\"\")"
   ]
  },
  {
   "cell_type": "code",
   "execution_count": 57,
   "metadata": {},
   "outputs": [
    {
     "data": {
      "text/html": [
       "<div>\n",
       "<style scoped>\n",
       "    .dataframe tbody tr th:only-of-type {\n",
       "        vertical-align: middle;\n",
       "    }\n",
       "\n",
       "    .dataframe tbody tr th {\n",
       "        vertical-align: top;\n",
       "    }\n",
       "\n",
       "    .dataframe thead th {\n",
       "        text-align: right;\n",
       "    }\n",
       "</style>\n",
       "<table border=\"1\" class=\"dataframe\">\n",
       "  <thead>\n",
       "    <tr style=\"text-align: right;\">\n",
       "      <th></th>\n",
       "    </tr>\n",
       "  </thead>\n",
       "  <tbody>\n",
       "  </tbody>\n",
       "</table>\n",
       "</div>"
      ],
      "text/plain": [
       "Empty DataFrame\n",
       "Columns: []\n",
       "Index: []"
      ]
     },
     "execution_count": 57,
     "metadata": {},
     "output_type": "execute_result"
    }
   ],
   "source": [
    "gds.run_cypher(\"\"\"\n",
    "    UNWIND RANGE(1, 500000) as id\n",
    "    CREATE (a:Item{id:id}) \n",
    "    \"\"\")"
   ]
  },
  {
   "cell_type": "code",
   "execution_count": 58,
   "metadata": {},
   "outputs": [
    {
     "data": {
      "text/html": [
       "<div>\n",
       "<style scoped>\n",
       "    .dataframe tbody tr th:only-of-type {\n",
       "        vertical-align: middle;\n",
       "    }\n",
       "\n",
       "    .dataframe tbody tr th {\n",
       "        vertical-align: top;\n",
       "    }\n",
       "\n",
       "    .dataframe thead th {\n",
       "        text-align: right;\n",
       "    }\n",
       "</style>\n",
       "<table border=\"1\" class=\"dataframe\">\n",
       "  <thead>\n",
       "    <tr style=\"text-align: right;\">\n",
       "      <th></th>\n",
       "    </tr>\n",
       "  </thead>\n",
       "  <tbody>\n",
       "  </tbody>\n",
       "</table>\n",
       "</div>"
      ],
      "text/plain": [
       "Empty DataFrame\n",
       "Columns: []\n",
       "Index: []"
      ]
     },
     "execution_count": 58,
     "metadata": {},
     "output_type": "execute_result"
    }
   ],
   "source": [
    "gds.run_cypher(\"\"\"\n",
    "    UNWIND RANGE(1, 1000) as id\n",
    "    CREATE (a:Person{id:id}) \n",
    "    \"\"\")"
   ]
  },
  {
   "cell_type": "code",
   "execution_count": 59,
   "metadata": {},
   "outputs": [
    {
     "data": {
      "text/html": [
       "<div>\n",
       "<style scoped>\n",
       "    .dataframe tbody tr th:only-of-type {\n",
       "        vertical-align: middle;\n",
       "    }\n",
       "\n",
       "    .dataframe tbody tr th {\n",
       "        vertical-align: top;\n",
       "    }\n",
       "\n",
       "    .dataframe thead th {\n",
       "        text-align: right;\n",
       "    }\n",
       "</style>\n",
       "<table border=\"1\" class=\"dataframe\">\n",
       "  <thead>\n",
       "    <tr style=\"text-align: right;\">\n",
       "      <th></th>\n",
       "    </tr>\n",
       "  </thead>\n",
       "  <tbody>\n",
       "  </tbody>\n",
       "</table>\n",
       "</div>"
      ],
      "text/plain": [
       "Empty DataFrame\n",
       "Columns: []\n",
       "Index: []"
      ]
     },
     "execution_count": 59,
     "metadata": {},
     "output_type": "execute_result"
    }
   ],
   "source": [
    "gds.run_cypher(\"\"\"\n",
    "    UNWIND RANGE(1, 500000) as id\n",
    "    WITH id%1000 as x\n",
    "    MATCH (i:Item{id:x})\n",
    "    MATCH (p:Person{id:x})\n",
    "    CREATE (p)-[:VIEWED]->(i) \n",
    "    \"\"\")"
   ]
  },
  {
   "cell_type": "code",
   "execution_count": 61,
   "metadata": {},
   "outputs": [
    {
     "data": {
      "text/html": [
       "<div>\n",
       "<style scoped>\n",
       "    .dataframe tbody tr th:only-of-type {\n",
       "        vertical-align: middle;\n",
       "    }\n",
       "\n",
       "    .dataframe tbody tr th {\n",
       "        vertical-align: top;\n",
       "    }\n",
       "\n",
       "    .dataframe thead th {\n",
       "        text-align: right;\n",
       "    }\n",
       "</style>\n",
       "<table border=\"1\" class=\"dataframe\">\n",
       "  <thead>\n",
       "    <tr style=\"text-align: right;\">\n",
       "      <th></th>\n",
       "    </tr>\n",
       "  </thead>\n",
       "  <tbody>\n",
       "  </tbody>\n",
       "</table>\n",
       "</div>"
      ],
      "text/plain": [
       "Empty DataFrame\n",
       "Columns: []\n",
       "Index: []"
      ]
     },
     "execution_count": 61,
     "metadata": {},
     "output_type": "execute_result"
    }
   ],
   "source": [
    "gds.run_cypher(\"\"\"\n",
    "    UNWIND RANGE(1, 500000) as id\n",
    "    WITH id%1000 as x,  (id%1000)*2 as y\n",
    "    MATCH (i:Item{id:y})\n",
    "    MATCH (p:Person{id:x})\n",
    "    CREATE (p)-[:VIEWED]->(i) \n",
    "    \"\"\")"
   ]
  },
  {
   "cell_type": "code",
   "execution_count": 63,
   "metadata": {},
   "outputs": [
    {
     "data": {
      "application/vnd.jupyter.widget-view+json": {
       "model_id": "88dddf16aded485d9c1da390e69a4f19",
       "version_major": 2,
       "version_minor": 0
      },
      "text/plain": [
       "Loading:   0%|          | 0/100 [00:00<?, ?%/s]"
      ]
     },
     "metadata": {},
     "output_type": "display_data"
    },
    {
     "ename": "ClientError",
     "evalue": "Failed to invoke procedure `gds.beta.listProgress`: Caused by: java.lang.IllegalArgumentException: count is negative: -5",
     "output_type": "error",
     "traceback": [
      "\u001b[0;31m---------------------------------------------------------------------------\u001b[0m",
      "\u001b[0;31mClientError\u001b[0m                               Traceback (most recent call last)",
      "\u001b[1;32m/Users/haklof/projects/public/notebooks/loading-bug.ipynb Cell 11\u001b[0m in \u001b[0;36m<cell line: 1>\u001b[0;34m()\u001b[0m\n\u001b[0;32m----> <a href='vscode-notebook-cell:/Users/haklof/projects/public/notebooks/loading-bug.ipynb#ch0000005?line=0'>1</a>\u001b[0m G, project_stats \u001b[39m=\u001b[39m gds\u001b[39m.\u001b[39;49mgraph\u001b[39m.\u001b[39;49mproject\u001b[39m.\u001b[39;49mcypher(\n\u001b[1;32m      <a href='vscode-notebook-cell:/Users/haklof/projects/public/notebooks/loading-bug.ipynb#ch0000005?line=1'>2</a>\u001b[0m     \u001b[39m'\u001b[39;49m\u001b[39mitems\u001b[39;49m\u001b[39m'\u001b[39;49m,\n\u001b[1;32m      <a href='vscode-notebook-cell:/Users/haklof/projects/public/notebooks/loading-bug.ipynb#ch0000005?line=2'>3</a>\u001b[0m     \u001b[39m\"\"\"\u001b[39;49;00m\n\u001b[1;32m      <a href='vscode-notebook-cell:/Users/haklof/projects/public/notebooks/loading-bug.ipynb#ch0000005?line=3'>4</a>\u001b[0m \u001b[39m    MATCH (i:Item) return id(i) as id\u001b[39;49;00m\n\u001b[1;32m      <a href='vscode-notebook-cell:/Users/haklof/projects/public/notebooks/loading-bug.ipynb#ch0000005?line=4'>5</a>\u001b[0m \u001b[39m    \"\"\"\u001b[39;49;00m,\n\u001b[1;32m      <a href='vscode-notebook-cell:/Users/haklof/projects/public/notebooks/loading-bug.ipynb#ch0000005?line=5'>6</a>\u001b[0m     \u001b[39m\"\"\"\u001b[39;49;00m\n\u001b[1;32m      <a href='vscode-notebook-cell:/Users/haklof/projects/public/notebooks/loading-bug.ipynb#ch0000005?line=6'>7</a>\u001b[0m \u001b[39m        MATCH (i1:Item)<-[:VIEWED]-(p:Person)-[:VIEWED]->(i2:Item)\u001b[39;49;00m\n\u001b[1;32m      <a href='vscode-notebook-cell:/Users/haklof/projects/public/notebooks/loading-bug.ipynb#ch0000005?line=7'>8</a>\u001b[0m \u001b[39m        WHERE id(i1) < id(i2)\u001b[39;49;00m\n\u001b[1;32m      <a href='vscode-notebook-cell:/Users/haklof/projects/public/notebooks/loading-bug.ipynb#ch0000005?line=8'>9</a>\u001b[0m \u001b[39m        RETURN id(i1) as target, id(i2) as source, 1.0 as weight\u001b[39;49;00m\n\u001b[1;32m     <a href='vscode-notebook-cell:/Users/haklof/projects/public/notebooks/loading-bug.ipynb#ch0000005?line=9'>10</a>\u001b[0m \u001b[39m     \"\"\"\u001b[39;49;00m,\n\u001b[1;32m     <a href='vscode-notebook-cell:/Users/haklof/projects/public/notebooks/loading-bug.ipynb#ch0000005?line=10'>11</a>\u001b[0m     readConcurrency\u001b[39m=\u001b[39;49m\u001b[39m16\u001b[39;49m\n\u001b[1;32m     <a href='vscode-notebook-cell:/Users/haklof/projects/public/notebooks/loading-bug.ipynb#ch0000005?line=11'>12</a>\u001b[0m )\n\u001b[1;32m     <a href='vscode-notebook-cell:/Users/haklof/projects/public/notebooks/loading-bug.ipynb#ch0000005?line=12'>13</a>\u001b[0m project_stats\n",
      "File \u001b[0;32m/opt/homebrew/Caskroom/miniforge/base/envs/notebooks/lib/python3.9/site-packages/graphdatascience/graph/graph_project_runner.py:12\u001b[0m, in \u001b[0;36mGraphProjectRunner.__call__\u001b[0;34m(self, graph_name, node_spec, relationship_spec, **config)\u001b[0m\n\u001b[1;32m     11\u001b[0m \u001b[39mdef\u001b[39;00m \u001b[39m__call__\u001b[39m(\u001b[39mself\u001b[39m, graph_name: \u001b[39mstr\u001b[39m, node_spec: Any, relationship_spec: Any, \u001b[39m*\u001b[39m\u001b[39m*\u001b[39mconfig: Any) \u001b[39m-\u001b[39m\u001b[39m>\u001b[39m Tuple[Graph, Series]:\n\u001b[0;32m---> 12\u001b[0m     result \u001b[39m=\u001b[39m \u001b[39mself\u001b[39;49m\u001b[39m.\u001b[39;49m_query_runner\u001b[39m.\u001b[39;49mrun_query_with_logging(\n\u001b[1;32m     13\u001b[0m         \u001b[39mf\u001b[39;49m\u001b[39m\"\u001b[39;49m\u001b[39mCALL \u001b[39;49m\u001b[39m{\u001b[39;49;00m\u001b[39mself\u001b[39;49m\u001b[39m.\u001b[39;49m_namespace\u001b[39m}\u001b[39;49;00m\u001b[39m($graph_name, $node_spec, $relationship_spec, $config)\u001b[39;49m\u001b[39m\"\u001b[39;49m,\n\u001b[1;32m     14\u001b[0m         {\n\u001b[1;32m     15\u001b[0m             \u001b[39m\"\u001b[39;49m\u001b[39mgraph_name\u001b[39;49m\u001b[39m\"\u001b[39;49m: graph_name,\n\u001b[1;32m     16\u001b[0m             \u001b[39m\"\u001b[39;49m\u001b[39mnode_spec\u001b[39;49m\u001b[39m\"\u001b[39;49m: node_spec,\n\u001b[1;32m     17\u001b[0m             \u001b[39m\"\u001b[39;49m\u001b[39mrelationship_spec\u001b[39;49m\u001b[39m\"\u001b[39;49m: relationship_spec,\n\u001b[1;32m     18\u001b[0m             \u001b[39m\"\u001b[39;49m\u001b[39mconfig\u001b[39;49m\u001b[39m\"\u001b[39;49m: config,\n\u001b[1;32m     19\u001b[0m         },\n\u001b[1;32m     20\u001b[0m     )\u001b[39m.\u001b[39msqueeze()\n\u001b[1;32m     22\u001b[0m     \u001b[39mreturn\u001b[39;00m Graph(graph_name, \u001b[39mself\u001b[39m\u001b[39m.\u001b[39m_query_runner, \u001b[39mself\u001b[39m\u001b[39m.\u001b[39m_server_version), result\n",
      "File \u001b[0;32m/opt/homebrew/Caskroom/miniforge/base/envs/notebooks/lib/python3.9/site-packages/graphdatascience/query_runner/arrow_query_runner.py:90\u001b[0m, in \u001b[0;36mArrowQueryRunner.run_query_with_logging\u001b[0;34m(self, query, params)\u001b[0m\n\u001b[1;32m     87\u001b[0m \u001b[39mif\u001b[39;00m params \u001b[39mis\u001b[39;00m \u001b[39mNone\u001b[39;00m:\n\u001b[1;32m     88\u001b[0m     params \u001b[39m=\u001b[39m {}\n\u001b[0;32m---> 90\u001b[0m \u001b[39mreturn\u001b[39;00m \u001b[39mself\u001b[39;49m\u001b[39m.\u001b[39;49m_fallback_query_runner\u001b[39m.\u001b[39;49mrun_query_with_logging(query, params)\n",
      "File \u001b[0;32m/opt/homebrew/Caskroom/miniforge/base/envs/notebooks/lib/python3.9/site-packages/graphdatascience/query_runner/neo4j_query_runner.py:60\u001b[0m, in \u001b[0;36mNeo4jQueryRunner.run_query_with_logging\u001b[0;34m(self, query, params)\u001b[0m\n\u001b[1;32m     57\u001b[0m \u001b[39mwith\u001b[39;00m ThreadPoolExecutor() \u001b[39mas\u001b[39;00m executor:\n\u001b[1;32m     58\u001b[0m     future \u001b[39m=\u001b[39m executor\u001b[39m.\u001b[39msubmit(\u001b[39mself\u001b[39m\u001b[39m.\u001b[39mrun_query, query, params)\n\u001b[0;32m---> 60\u001b[0m     \u001b[39mself\u001b[39;49m\u001b[39m.\u001b[39;49m_log(job_id, future)\n\u001b[1;32m     62\u001b[0m     \u001b[39mif\u001b[39;00m future\u001b[39m.\u001b[39mexception():\n\u001b[1;32m     63\u001b[0m         \u001b[39mraise\u001b[39;00m future\u001b[39m.\u001b[39mexception()  \u001b[39m# type: ignore\u001b[39;00m\n",
      "File \u001b[0;32m/opt/homebrew/Caskroom/miniforge/base/envs/notebooks/lib/python3.9/site-packages/graphdatascience/query_runner/neo4j_query_runner.py:80\u001b[0m, in \u001b[0;36mNeo4jQueryRunner._log\u001b[0;34m(self, job_id, future)\u001b[0m\n\u001b[1;32m     78\u001b[0m         \u001b[39mcontinue\u001b[39;00m\n\u001b[1;32m     79\u001b[0m     \u001b[39melse\u001b[39;00m:\n\u001b[0;32m---> 80\u001b[0m         \u001b[39mraise\u001b[39;00m e\n\u001b[1;32m     82\u001b[0m progress_percent \u001b[39m=\u001b[39m progress[\u001b[39m\"\u001b[39m\u001b[39mprogress\u001b[39m\u001b[39m\"\u001b[39m][\u001b[39m0\u001b[39m]\n\u001b[1;32m     83\u001b[0m \u001b[39mif\u001b[39;00m \u001b[39mnot\u001b[39;00m progress_percent \u001b[39m==\u001b[39m \u001b[39m\"\u001b[39m\u001b[39mn/a\u001b[39m\u001b[39m\"\u001b[39m:\n",
      "File \u001b[0;32m/opt/homebrew/Caskroom/miniforge/base/envs/notebooks/lib/python3.9/site-packages/graphdatascience/query_runner/neo4j_query_runner.py:72\u001b[0m, in \u001b[0;36mNeo4jQueryRunner._log\u001b[0;34m(self, job_id, future)\u001b[0m\n\u001b[1;32m     70\u001b[0m \u001b[39mwhile\u001b[39;00m wait([future], timeout\u001b[39m=\u001b[39m\u001b[39mself\u001b[39m\u001b[39m.\u001b[39m_LOG_POLLING_INTERVAL)\u001b[39m.\u001b[39mnot_done:\n\u001b[1;32m     71\u001b[0m     \u001b[39mtry\u001b[39;00m:\n\u001b[0;32m---> 72\u001b[0m         progress \u001b[39m=\u001b[39m \u001b[39mself\u001b[39;49m\u001b[39m.\u001b[39;49mrun_query(\u001b[39mf\u001b[39;49m\u001b[39m\"\u001b[39;49m\u001b[39mCALL gds.beta.listProgress(\u001b[39;49m\u001b[39m'\u001b[39;49m\u001b[39m{\u001b[39;49;00mjob_id\u001b[39m}\u001b[39;49;00m\u001b[39m'\u001b[39;49m\u001b[39m) YIELD taskName, progress\u001b[39;49m\u001b[39m\"\u001b[39;49m)\n\u001b[1;32m     73\u001b[0m     \u001b[39mexcept\u001b[39;00m \u001b[39mException\u001b[39;00m \u001b[39mas\u001b[39;00m e:\n\u001b[1;32m     74\u001b[0m         \u001b[39m# Do nothing if the procedure either:\u001b[39;00m\n\u001b[1;32m     75\u001b[0m         \u001b[39m# * has not started yet,\u001b[39;00m\n\u001b[1;32m     76\u001b[0m         \u001b[39m# * has already completed.\u001b[39;00m\n\u001b[1;32m     77\u001b[0m         \u001b[39mif\u001b[39;00m \u001b[39mf\u001b[39m\u001b[39m\"\u001b[39m\u001b[39mNo task with job id `\u001b[39m\u001b[39m{\u001b[39;00mjob_id\u001b[39m}\u001b[39;00m\u001b[39m` was found\u001b[39m\u001b[39m\"\u001b[39m \u001b[39min\u001b[39;00m \u001b[39mstr\u001b[39m(e):\n",
      "File \u001b[0;32m/opt/homebrew/Caskroom/miniforge/base/envs/notebooks/lib/python3.9/site-packages/graphdatascience/query_runner/neo4j_query_runner.py:38\u001b[0m, in \u001b[0;36mNeo4jQueryRunner.run_query\u001b[0;34m(self, query, params)\u001b[0m\n\u001b[1;32m     31\u001b[0m \u001b[39m# Though pandas support may be experimental in the `neo4j` package, it should always\u001b[39;00m\n\u001b[1;32m     32\u001b[0m \u001b[39m# be supported in the `graphdatascience` package.\u001b[39;00m\n\u001b[1;32m     33\u001b[0m warnings\u001b[39m.\u001b[39mfilterwarnings(\n\u001b[1;32m     34\u001b[0m     \u001b[39m\"\u001b[39m\u001b[39mignore\u001b[39m\u001b[39m\"\u001b[39m,\n\u001b[1;32m     35\u001b[0m     message\u001b[39m=\u001b[39m\u001b[39mr\u001b[39m\u001b[39m\"\u001b[39m\u001b[39m^pandas support is experimental and might be changed or removed in future versions$\u001b[39m\u001b[39m\"\u001b[39m,\n\u001b[1;32m     36\u001b[0m )\n\u001b[0;32m---> 38\u001b[0m \u001b[39mreturn\u001b[39;00m result\u001b[39m.\u001b[39;49mto_df()\n",
      "File \u001b[0;32m/opt/homebrew/Caskroom/miniforge/base/envs/notebooks/lib/python3.9/site-packages/neo4j/meta.py:85\u001b[0m, in \u001b[0;36mexperimental.<locals>.f__.<locals>.f_\u001b[0;34m(*args, **kwargs)\u001b[0m\n\u001b[1;32m     83\u001b[0m \u001b[39mfrom\u001b[39;00m \u001b[39mwarnings\u001b[39;00m \u001b[39mimport\u001b[39;00m warn\n\u001b[1;32m     84\u001b[0m warn(message, category\u001b[39m=\u001b[39mExperimentalWarning, stacklevel\u001b[39m=\u001b[39m\u001b[39m2\u001b[39m)\n\u001b[0;32m---> 85\u001b[0m \u001b[39mreturn\u001b[39;00m f(\u001b[39m*\u001b[39;49margs, \u001b[39m*\u001b[39;49m\u001b[39m*\u001b[39;49mkwargs)\n",
      "File \u001b[0;32m/opt/homebrew/Caskroom/miniforge/base/envs/notebooks/lib/python3.9/site-packages/neo4j/work/result.py:404\u001b[0m, in \u001b[0;36mResult.to_df\u001b[0;34m(self)\u001b[0m\n\u001b[1;32m    384\u001b[0m \u001b[39m\"\"\"Convert (the rest of) the result to a pandas DataFrame.\u001b[39;00m\n\u001b[1;32m    385\u001b[0m \n\u001b[1;32m    386\u001b[0m \u001b[39mThis method is only available if the `pandas` library is installed.\u001b[39;00m\n\u001b[0;32m   (...)\u001b[0m\n\u001b[1;32m    400\u001b[0m \u001b[39mwithout warning. (See :ref:`filter-warnings-ref`)\u001b[39;00m\n\u001b[1;32m    401\u001b[0m \u001b[39m\"\"\"\u001b[39;00m\n\u001b[1;32m    402\u001b[0m \u001b[39mimport\u001b[39;00m \u001b[39mpandas\u001b[39;00m \u001b[39mas\u001b[39;00m \u001b[39mpd\u001b[39;00m\n\u001b[0;32m--> 404\u001b[0m \u001b[39mreturn\u001b[39;00m pd\u001b[39m.\u001b[39mDataFrame(\u001b[39mself\u001b[39;49m\u001b[39m.\u001b[39;49mvalues(), columns\u001b[39m=\u001b[39m\u001b[39mself\u001b[39m\u001b[39m.\u001b[39m_keys)\n",
      "File \u001b[0;32m/opt/homebrew/Caskroom/miniforge/base/envs/notebooks/lib/python3.9/site-packages/neo4j/work/result.py:368\u001b[0m, in \u001b[0;36mResult.values\u001b[0;34m(self, *keys)\u001b[0m\n\u001b[1;32m    359\u001b[0m \u001b[39mdef\u001b[39;00m \u001b[39mvalues\u001b[39m(\u001b[39mself\u001b[39m, \u001b[39m*\u001b[39mkeys):\n\u001b[1;32m    360\u001b[0m     \u001b[39m\"\"\"Helper function that return the remainder of the result as a list of values lists.\u001b[39;00m\n\u001b[1;32m    361\u001b[0m \n\u001b[1;32m    362\u001b[0m \u001b[39m    See :class:`neo4j.Record.values`\u001b[39;00m\n\u001b[0;32m   (...)\u001b[0m\n\u001b[1;32m    366\u001b[0m \u001b[39m    :rtype: list\u001b[39;00m\n\u001b[1;32m    367\u001b[0m \u001b[39m    \"\"\"\u001b[39;00m\n\u001b[0;32m--> 368\u001b[0m     \u001b[39mreturn\u001b[39;00m [record\u001b[39m.\u001b[39mvalues(\u001b[39m*\u001b[39mkeys) \u001b[39mfor\u001b[39;00m record \u001b[39min\u001b[39;00m \u001b[39mself\u001b[39m]\n",
      "File \u001b[0;32m/opt/homebrew/Caskroom/miniforge/base/envs/notebooks/lib/python3.9/site-packages/neo4j/work/result.py:368\u001b[0m, in \u001b[0;36m<listcomp>\u001b[0;34m(.0)\u001b[0m\n\u001b[1;32m    359\u001b[0m \u001b[39mdef\u001b[39;00m \u001b[39mvalues\u001b[39m(\u001b[39mself\u001b[39m, \u001b[39m*\u001b[39mkeys):\n\u001b[1;32m    360\u001b[0m     \u001b[39m\"\"\"Helper function that return the remainder of the result as a list of values lists.\u001b[39;00m\n\u001b[1;32m    361\u001b[0m \n\u001b[1;32m    362\u001b[0m \u001b[39m    See :class:`neo4j.Record.values`\u001b[39;00m\n\u001b[0;32m   (...)\u001b[0m\n\u001b[1;32m    366\u001b[0m \u001b[39m    :rtype: list\u001b[39;00m\n\u001b[1;32m    367\u001b[0m \u001b[39m    \"\"\"\u001b[39;00m\n\u001b[0;32m--> 368\u001b[0m     \u001b[39mreturn\u001b[39;00m [record\u001b[39m.\u001b[39mvalues(\u001b[39m*\u001b[39mkeys) \u001b[39mfor\u001b[39;00m record \u001b[39min\u001b[39;00m \u001b[39mself\u001b[39m]\n",
      "File \u001b[0;32m/opt/homebrew/Caskroom/miniforge/base/envs/notebooks/lib/python3.9/site-packages/neo4j/work/result.py:190\u001b[0m, in \u001b[0;36mResult.__iter__\u001b[0;34m(self)\u001b[0m\n\u001b[1;32m    188\u001b[0m     \u001b[39myield\u001b[39;00m \u001b[39mself\u001b[39m\u001b[39m.\u001b[39m_record_buffer\u001b[39m.\u001b[39mpopleft()\n\u001b[1;32m    189\u001b[0m \u001b[39melif\u001b[39;00m \u001b[39mself\u001b[39m\u001b[39m.\u001b[39m_streaming:\n\u001b[0;32m--> 190\u001b[0m     \u001b[39mself\u001b[39;49m\u001b[39m.\u001b[39;49m_connection\u001b[39m.\u001b[39;49mfetch_message()\n\u001b[1;32m    191\u001b[0m \u001b[39melif\u001b[39;00m \u001b[39mself\u001b[39m\u001b[39m.\u001b[39m_discarding:\n\u001b[1;32m    192\u001b[0m     \u001b[39mself\u001b[39m\u001b[39m.\u001b[39m_discard()\n",
      "File \u001b[0;32m/opt/homebrew/Caskroom/miniforge/base/envs/notebooks/lib/python3.9/site-packages/neo4j/io/_common.py:188\u001b[0m, in \u001b[0;36mConnectionErrorHandler.__getattr__.<locals>.outer.<locals>.inner\u001b[0;34m(*args, **kwargs)\u001b[0m\n\u001b[1;32m    186\u001b[0m \u001b[39mdef\u001b[39;00m \u001b[39minner\u001b[39m(\u001b[39m*\u001b[39margs, \u001b[39m*\u001b[39m\u001b[39m*\u001b[39mkwargs):\n\u001b[1;32m    187\u001b[0m     \u001b[39mtry\u001b[39;00m:\n\u001b[0;32m--> 188\u001b[0m         func(\u001b[39m*\u001b[39;49margs, \u001b[39m*\u001b[39;49m\u001b[39m*\u001b[39;49mkwargs)\n\u001b[1;32m    189\u001b[0m     \u001b[39mexcept\u001b[39;00m (Neo4jError, ServiceUnavailable, SessionExpired) \u001b[39mas\u001b[39;00m exc:\n\u001b[1;32m    190\u001b[0m         \u001b[39mself\u001b[39m\u001b[39m.\u001b[39m__on_error(exc)\n",
      "File \u001b[0;32m/opt/homebrew/Caskroom/miniforge/base/envs/notebooks/lib/python3.9/site-packages/neo4j/io/_bolt4.py:306\u001b[0m, in \u001b[0;36mBolt4x0.fetch_message\u001b[0;34m(self)\u001b[0m\n\u001b[1;32m    304\u001b[0m \u001b[39mself\u001b[39m\u001b[39m.\u001b[39m_server_state_manager\u001b[39m.\u001b[39mstate \u001b[39m=\u001b[39m ServerStates\u001b[39m.\u001b[39mFAILED\n\u001b[1;32m    305\u001b[0m \u001b[39mtry\u001b[39;00m:\n\u001b[0;32m--> 306\u001b[0m     response\u001b[39m.\u001b[39;49mon_failure(summary_metadata \u001b[39mor\u001b[39;49;00m {})\n\u001b[1;32m    307\u001b[0m \u001b[39mexcept\u001b[39;00m (ServiceUnavailable, DatabaseUnavailable):\n\u001b[1;32m    308\u001b[0m     \u001b[39mif\u001b[39;00m \u001b[39mself\u001b[39m\u001b[39m.\u001b[39mpool:\n",
      "File \u001b[0;32m/opt/homebrew/Caskroom/miniforge/base/envs/notebooks/lib/python3.9/site-packages/neo4j/io/_common.py:246\u001b[0m, in \u001b[0;36mResponse.on_failure\u001b[0;34m(self, metadata)\u001b[0m\n\u001b[1;32m    244\u001b[0m \u001b[39mif\u001b[39;00m callable(handler):\n\u001b[1;32m    245\u001b[0m     handler()\n\u001b[0;32m--> 246\u001b[0m \u001b[39mraise\u001b[39;00m Neo4jError\u001b[39m.\u001b[39mhydrate(\u001b[39m*\u001b[39m\u001b[39m*\u001b[39mmetadata)\n",
      "\u001b[0;31mClientError\u001b[0m: Failed to invoke procedure `gds.beta.listProgress`: Caused by: java.lang.IllegalArgumentException: count is negative: -5"
     ]
    }
   ],
   "source": [
    "G, project_stats = gds.graph.project.cypher(\n",
    "    'items',\n",
    "    \"\"\"\n",
    "    MATCH (i:Item) return id(i) as id\n",
    "    \"\"\",\n",
    "    \"\"\"\n",
    "        MATCH (i1:Item)<-[:VIEWED]-(p:Person)-[:VIEWED]->(i2:Item)\n",
    "        WHERE id(i1) < id(i2)\n",
    "        RETURN id(i1) as target, id(i2) as source, 1.0 as weight\n",
    "     \"\"\",\n",
    "    readConcurrency=16\n",
    ")\n",
    "project_stats"
   ]
  },
  {
   "cell_type": "code",
   "execution_count": 64,
   "metadata": {},
   "outputs": [
    {
     "data": {
      "text/plain": [
       "graphName                                                        items\n",
       "database                                                       loadbug\n",
       "memoryUsage                                                           \n",
       "sizeInBytes                                                         -1\n",
       "nodeCount                                                       500000\n",
       "relationshipCount                                            249750000\n",
       "configuration        {'relationshipQuery': 'MATCH (i1:Item)<-[:VIEW...\n",
       "density                                                       0.000999\n",
       "creationTime                       2022-08-02T10:24:13.282899000+02:00\n",
       "modificationTime                   2022-08-02T10:26:03.028976000+02:00\n",
       "schema               {'graphProperties': {}, 'relationships': {'__A...\n",
       "Name: 0, dtype: object"
      ]
     },
     "execution_count": 64,
     "metadata": {},
     "output_type": "execute_result"
    }
   ],
   "source": [
    "G = gds.graph.get('items')\n",
    "G.drop()"
   ]
  }
 ],
 "metadata": {
  "kernelspec": {
   "display_name": "Python 3.9.13 ('notebooks')",
   "language": "python",
   "name": "python3"
  },
  "language_info": {
   "codemirror_mode": {
    "name": "ipython",
    "version": 3
   },
   "file_extension": ".py",
   "mimetype": "text/x-python",
   "name": "python",
   "nbconvert_exporter": "python",
   "pygments_lexer": "ipython3",
   "version": "3.9.13"
  },
  "vscode": {
   "interpreter": {
    "hash": "c68434ca16130d73e64183f54aeda16ecffce872c062f16976fd0d983519d848"
   }
  }
 },
 "nbformat": 4,
 "nbformat_minor": 4
}
