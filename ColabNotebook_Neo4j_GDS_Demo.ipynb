{
  "nbformat": 4,
  "nbformat_minor": 0,
  "metadata": {
    "colab": {
      "provenance": [],
      "toc_visible": true
    },
    "kernelspec": {
      "name": "python3",
      "display_name": "Python 3"
    },
    "language_info": {
      "name": "python"
    }
  },
  "cells": [
    {
      "cell_type": "markdown",
      "source": [
        "# Setup"
      ],
      "metadata": {
        "id": "ynPe6RLRWSKd"
      }
    },
    {
      "cell_type": "markdown",
      "source": [
        "Install neo4j graphdatascience client ([Documentation](https://neo4j.com/docs/graph-data-science/current/))"
      ],
      "metadata": {
        "id": "ShLXlNZ5kGvI"
      }
    },
    {
      "cell_type": "code",
      "execution_count": null,
      "metadata": {
        "id": "5SAtW7ERjatw"
      },
      "outputs": [],
      "source": [
        "%%capture\n",
        "!pip install graphdatascience "
      ]
    },
    {
      "cell_type": "markdown",
      "source": [
        "Import our usual suspects"
      ],
      "metadata": {
        "id": "09qvRMrxye7l"
      }
    },
    {
      "cell_type": "code",
      "source": [
        "import pandas as pd\n",
        "from graphdatascience import GraphDataScience "
      ],
      "metadata": {
        "id": "BOfc_-mllcUE"
      },
      "execution_count": null,
      "outputs": []
    },
    {
      "cell_type": "markdown",
      "source": [
        "Register for a sandbox and create an empty sandbox  https://sandbox.neo4j.com"
      ],
      "metadata": {
        "id": "pa61u1jfyk3t"
      }
    },
    {
      "cell_type": "code",
      "source": [
        "# Capture connection string and auth info\n",
        "connectionUrl = input(\"Neo4j Database Url: \")\n",
        "username = input(\"User name: \")\n",
        "password = input(\"Password: \")\n"
      ],
      "metadata": {
        "id": "CHR_0lmElZ-R"
      },
      "execution_count": null,
      "outputs": []
    },
    {
      "cell_type": "code",
      "source": [
        "gds = GraphDataScience(connectionUrl, auth=(username, password))\n",
        "sysinfo = gds.debug.sysInfo()\n",
        "sysinfo[ sysinfo['key'] == 'gdsVersion']\n"
      ],
      "metadata": {
        "id": "e_a16vsQwyMH"
      },
      "execution_count": null,
      "outputs": []
    },
    {
      "cell_type": "markdown",
      "source": [
        "# Graph creation"
      ],
      "metadata": {
        "id": "0OMlYdxHWZLx"
      }
    },
    {
      "cell_type": "code",
      "source": [
        "transaction_df = pd.DataFrame([\n",
        "    {'name': 'Tom', 'merchant':'Amazon', 'amount': 100},\n",
        "    {'name': 'Tom', 'merchant':'Dustin', 'amount': 50499},\n",
        "    {'name': 'Tom', 'merchant':'eBay', 'amount': 220},\n",
        "    {'name': 'Stefan', 'merchant':'Amazon', 'amount': 220},\n",
        "    {'name': 'Stefan', 'merchant':'Dustin', 'amount': 399},\n",
        "    {'name': 'Stefan', 'merchant':'eBay', 'amount': 1499},\n",
        "    {'name': 'Stefan', 'merchant':'Bikes.de', 'amount': 22000},\n",
        "    {'name': 'Kristof', 'merchant':'Amazon', 'amount': 423},\n",
        "    {'name': 'Kristof', 'merchant':'Dustin', 'amount': 530},\n",
        "    {'name': 'Kristof', 'merchant':'Hello Fresh', 'amount': 1050},\n",
        "    {'name': 'Kristof', 'merchant':'Steam', 'amount': 230},\n",
        "    {'name': 'Kristof', 'merchant':'Activision', 'amount': 783},\n",
        "    {'name': 'Håkan', 'merchant':'Hello Fresh', 'amount': 2100},\n",
        "    {'name': 'Håkan', 'merchant':'Steam', 'amount': 230},\n",
        "    {'name': 'Håkan', 'merchant':'Activision', 'amount': 783},\n",
        "    \n",
        "], columns = ['name', 'merchant', 'amount'])\n",
        "transaction_df.head(15)"
      ],
      "metadata": {
        "id": "LbsQlwvwku0b"
      },
      "execution_count": null,
      "outputs": []
    },
    {
      "cell_type": "code",
      "source": [
        "# This is not really required for this small sample\n",
        "gds.run_cypher(\"create constraint if not exists for (p:Person) require (p.name) is node key\")\n",
        "gds.run_cypher(\"create constraint if not exists for (p:Merchant) require (p.name) is node key\")\n"
      ],
      "metadata": {
        "id": "cdTfdAyV2ZaR"
      },
      "execution_count": null,
      "outputs": []
    },
    {
      "cell_type": "code",
      "source": [
        "# Create a graph for (:Person)-[:transacted_with]->(:Merchant)\n",
        "# Tip: If we had more data, this would fail => Iterate over chunks of the dataframe.\n",
        "gds.run_cypher(\n",
        "    \"\"\"\n",
        "    unwind $transactions as transaction\n",
        "    merge (p:Person{name: transaction['name']})\n",
        "    merge (m:Merchant{name: transaction['merchant']})\n",
        "    merge (p)-[tx:TRANSACTED_WITH]->(m)\n",
        "       set tx.amount = transaction['amount']\n",
        "    \"\"\",\n",
        "    params = { 'transactions': transaction_df.to_dict(orient='records') }\n",
        ")"
      ],
      "metadata": {
        "id": "uduojIopm0qV"
      },
      "execution_count": null,
      "outputs": []
    },
    {
      "cell_type": "markdown",
      "source": [
        "# Node similarity"
      ],
      "metadata": {
        "id": "kx1UHN87Kfup"
      }
    },
    {
      "cell_type": "markdown",
      "source": [
        "Let's get this party started"
      ],
      "metadata": {
        "id": "kulQKQj63Zb_"
      }
    },
    {
      "cell_type": "code",
      "source": [
        "G, res = gds.graph.project(\n",
        "    \"shopping\",                 #  Graph name\n",
        "    [\"Person\", \"Merchant\"],   #  Node projection\n",
        "    {\"TRANSACTED_WITH\": {\"properties\": \"amount\"}}              #  Relationship projection\n",
        ")\n"
      ],
      "metadata": {
        "id": "BDt3N5vPALJS"
      },
      "execution_count": null,
      "outputs": []
    },
    {
      "cell_type": "code",
      "source": [
        "print(f\"Graph '{G.name()}' node count: {G.node_count()}\")\n",
        "print(f\"Graph '{G.name()}' node labels: {G.node_labels()}\")\n"
      ],
      "metadata": {
        "id": "7rBfNJ6A9m65"
      },
      "execution_count": null,
      "outputs": []
    },
    {
      "cell_type": "code",
      "source": [
        "gds.nodeSimilarity.write(\n",
        "    G,\n",
        "    relationshipWeightProperty='amount', \n",
        "    writeRelationshipType='IS_SIMILAR_TO',\n",
        "    writeProperty='sim_score'\n",
        ")"
      ],
      "metadata": {
        "id": "nNZByI7LGy_i"
      },
      "execution_count": null,
      "outputs": []
    },
    {
      "cell_type": "code",
      "source": [
        "# Drop the projection from the graph catalogue to free up resources\n",
        "G.drop()"
      ],
      "metadata": {
        "id": "LRQGxT5RHctm"
      },
      "execution_count": null,
      "outputs": []
    },
    {
      "cell_type": "code",
      "source": [
        "# Remove symetric relationships\n",
        "gds.run_cypher(\"\"\"\n",
        "  MATCH (a:Person)-[r:IS_SIMILAR_TO]->(b:Person) \n",
        "    WHERE (b)-[:IS_SIMILAR_TO]->(a) \n",
        "    AND   id(a)<id(b)\n",
        "  DELETE r\n",
        "\"\"\")\n"
      ],
      "metadata": {
        "id": "OW5uFvKnYnj7"
      },
      "execution_count": null,
      "outputs": []
    },
    {
      "cell_type": "markdown",
      "source": [
        "# Graph embedding + knn "
      ],
      "metadata": {
        "id": "jU696MRBKlne"
      }
    },
    {
      "cell_type": "code",
      "source": [
        "# Let's make the same projection again\n",
        "G, res = gds.graph.project(\n",
        "    \"shopping\",                 #  Graph name\n",
        "    [\"Person\", \"Merchant\"],   #  Node projection\n",
        "    {\"TRANSACTED_WITH\": {\"properties\": \"amount\"}}              #  Relationship projection\n",
        ")"
      ],
      "metadata": {
        "id": "SKNESlpBxyJ5"
      },
      "execution_count": null,
      "outputs": []
    },
    {
      "cell_type": "code",
      "source": [
        "# Mutate our projection (with collapse path to get a mono-partite graph)\n",
        "# gds.beta.collapsePath.mutate(\n",
        "#     G,\n",
        "#     pathTemplates=[['TRANSACTED_WITH']],\n",
        "#     mutateRelationshipType='TRANSACTS_WITH_SAME_MERCHANT'\n",
        "# )"
      ],
      "metadata": {
        "id": "1kqVUS_0Nf7s"
      },
      "execution_count": null,
      "outputs": []
    },
    {
      "cell_type": "code",
      "source": [
        "# Mutate our projection (by computing an embedding)\n",
        "# gds.fastRP.mutate(\n",
        "#     G,\n",
        "#     embeddingDimension=3,\n",
        "#     iterationWeights=[0.0, 1.0, 0.7],\n",
        "#     #relationshipWeightProperty='amount',\n",
        "#     #relationshipTypes=['TRANSACTS_WITH_SAME_MERCHANT'],\n",
        "#     mutateProperty='embedding'\n",
        "# )"
      ],
      "metadata": {
        "id": "NhHLpgLBKya6"
      },
      "execution_count": null,
      "outputs": []
    },
    {
      "cell_type": "code",
      "source": [
        "# Mutate our projection (by computing an embedding)\n",
        "gds.beta.node2vec.mutate(\n",
        "    G,\n",
        "    embeddingDimension=3,\n",
        "    relationshipWeightProperty='amount',\n",
        "    mutateProperty='embedding'\n",
        ")"
      ],
      "metadata": {
        "id": "66aoFCzIPhUw"
      },
      "execution_count": null,
      "outputs": []
    },
    {
      "cell_type": "code",
      "source": [
        "# What does our embeddings look like? Let's stream back and have a look\n",
        "df_embeddings = gds.graph.nodeProperty.stream(\n",
        "    G,\n",
        "    node_properties='embedding',\n",
        "    node_labels='Person'\n",
        ")"
      ],
      "metadata": {
        "id": "Gwwyj1KKLegG"
      },
      "execution_count": null,
      "outputs": []
    },
    {
      "cell_type": "code",
      "source": [
        "pd.set_option('max_colwidth', None)\n",
        "df_embeddings.head(10)"
      ],
      "metadata": {
        "id": "TLW5unbDMGhE"
      },
      "execution_count": null,
      "outputs": []
    },
    {
      "cell_type": "code",
      "source": [
        "# Run knn\n",
        "gds.knn.write(\n",
        "    G,\n",
        "    nodeLabels=['Person'],\n",
        "    nodeProperties=['embedding'],\n",
        "    topK=2,\n",
        "    writeRelationshipType='SIMILAR_EMBEDDING',\n",
        "    writeProperty='sim_score'\n",
        ")"
      ],
      "metadata": {
        "id": "ZGwkZIuFQN-R"
      },
      "execution_count": null,
      "outputs": []
    },
    {
      "cell_type": "code",
      "source": [
        "# Drop the projection from the graph catalogue to free up resources\n",
        "G.drop()"
      ],
      "metadata": {
        "id": "ou3S9jeJMV0A"
      },
      "execution_count": null,
      "outputs": []
    },
    {
      "cell_type": "code",
      "source": [
        "# Again, let's remove symetric relationships\n",
        "gds.run_cypher(\"\"\"\n",
        "  MATCH (a:Person)-[r:SIMILAR_EMBEDDING]->(b:Person) \n",
        "    WHERE (b)-[:SIMILAR_EMBEDDING]->(a) \n",
        "    AND   id(a)<id(b)\n",
        "  DELETE r\n",
        "\"\"\")"
      ],
      "metadata": {
        "id": "mixfOT5kMiMa"
      },
      "execution_count": null,
      "outputs": []
    },
    {
      "cell_type": "code",
      "source": [
        "# Let's review\n",
        "gds.run_cypher(\"\"\"\n",
        "  MATCH (p:Person)-[r:SIMILAR_EMBEDDING|IS_SIMILAR_TO]-(p2)\n",
        "  RETURN p.name as person, \n",
        "         type(r) as type, \n",
        "         r.sim_score as score,\n",
        "         p2.name as to_person\n",
        "  ORDER by p.name, p2.name, type(r)\n",
        "\"\"\").head(30)"
      ],
      "metadata": {
        "id": "Pk0MLczGSF4E"
      },
      "execution_count": null,
      "outputs": []
    },
    {
      "cell_type": "code",
      "source": [],
      "metadata": {
        "id": "RNdzni6-SvC0"
      },
      "execution_count": null,
      "outputs": []
    }
  ]
}