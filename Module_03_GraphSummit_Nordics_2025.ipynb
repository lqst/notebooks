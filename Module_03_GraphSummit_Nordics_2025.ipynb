{
  "cells": [
    {
      "cell_type": "markdown",
      "metadata": {},
      "source": [
        "# Module objectives\n",
        "- Exact lookups\n",
        "- Semantic search/vector index\n",
        "- Combine Exact and Semantic search + graph expansion for better context\n",
        "- The R in GraphRAG (and maybe agents)"
      ]
    },
    {
      "cell_type": "code",
      "execution_count": null,
      "metadata": {
        "id": "FHKg4DVZiQ98"
      },
      "outputs": [],
      "source": [
        "!pip install graphdatascience neo4j dotenv"
      ]
    },
    {
      "cell_type": "markdown",
      "metadata": {
        "id": "ynPe6RLRWSKd"
      },
      "source": [
        "# Setup"
      ]
    },
    {
      "cell_type": "markdown",
      "metadata": {
        "id": "09qvRMrxye7l"
      },
      "source": [
        "Import our usual suspects"
      ]
    },
    {
      "cell_type": "code",
      "execution_count": null,
      "metadata": {
        "id": "BOfc_-mllcUE"
      },
      "outputs": [],
      "source": [
        "import os\n",
        "import pandas as pd\n",
        "from dotenv import load_dotenv\n",
        "from graphdatascience import GraphDataScience\n",
        "from neo4j import Query, GraphDatabase, RoutingControl, Result"
      ]
    },
    {
      "cell_type": "markdown",
      "metadata": {
        "id": "pa61u1jfyk3t"
      },
      "source": [
        "Load env variables"
      ]
    },
    {
      "cell_type": "code",
      "execution_count": null,
      "metadata": {
        "id": "CHR_0lmElZ-R"
      },
      "outputs": [],
      "source": [
        "load_dotenv('ws.env', override=True)\n",
        "# Neo4j\n",
        "HOST = os.getenv('HOST')\n",
        "USERNAME = os.getenv('USERNAME')\n",
        "PASSWORD = os.getenv('PASSWORD')\n",
        "DATABASE = os.getenv('DATABASE')\n",
        "\n",
        "# AI\n",
        "LLM = os.getenv('LLM')\n",
        "OPENAI_API_KEY = os.getenv('OPENAI_API_KEY')\n",
        "os.environ['OPENAI_API_KEY']=OPENAI_API_KEY"
      ]
    },
    {
      "cell_type": "markdown",
      "metadata": {},
      "source": [
        "Connect to neo4j db"
      ]
    },
    {
      "cell_type": "code",
      "execution_count": null,
      "metadata": {
        "id": "5w4eCb7xZZ-S"
      },
      "outputs": [],
      "source": [
        "driver = GraphDatabase.driver(\n",
        "    HOST,\n",
        "    auth=(USERNAME, PASSWORD)\n",
        ")\n",
        "driver.verify_connectivity(database=DATABASE)"
      ]
    },
    {
      "cell_type": "markdown",
      "metadata": {},
      "source": [
        "## Schema\n",
        "Keeping this in case we need to add in more indexes"
      ]
    },
    {
      "cell_type": "code",
      "execution_count": null,
      "metadata": {
        "id": "cdTfdAyV2ZaR"
      },
      "outputs": [],
      "source": [
        "schema_statements = [\n",
        "    'create constraint if not exists for (n:Person) require (n.email) is node key',\n",
        "    'create constraint if not exists for (n:Skill) require (n.name) is node key',\n",
        "    'create vector index ada_v if not exists for (n:Skill) on (n.embedding)'\n",
        "]\n",
        "for statement in schema_statements:\n",
        "    driver.execute_query(\n",
        "        statement,\n",
        "        database_=DATABASE,\n",
        "        routing_=RoutingControl.WRITE\n",
        "    )\n",
        "\n",
        "# Fetch all indexes\n",
        "schema_result_df  = driver.execute_query(\n",
        "    'show indexes',\n",
        "    database_=DATABASE,\n",
        "    routing_=RoutingControl.READ,\n",
        "    result_transformer_= lambda r: r.to_df()\n",
        ")\n",
        "schema_result_df.head(100)\n"
      ]
    },
    {
      "cell_type": "markdown",
      "metadata": {
        "id": "0OMlYdxHWZLx"
      },
      "source": [
        "# Basic search"
      ]
    },
    {
      "cell_type": "code",
      "execution_count": null,
      "metadata": {
        "id": "volCOjn_jjm3"
      },
      "outputs": [],
      "source": [
        "skills = ['Contineous Delivery', 'Cloud Native', 'Security']\n",
        "\n",
        "# Find person given some skills\n",
        "driver.execute_query(\n",
        "    '''\n",
        "    match (p:Person)-[:KNOWS]->(s:Skill)\n",
        "    where s.name in $skills\n",
        "    return \n",
        "        count(*) as rank, \n",
        "        p.email as email, \n",
        "        p.name as person_name, \n",
        "        collect{ match (p)-[:KNOWS]->(anySkill) return anySkill.name } as skills\n",
        "    order by rank desc limit 10\n",
        "    ''',\n",
        "    database_=DATABASE,\n",
        "    routing_=RoutingControl.READ,\n",
        "    result_transformer_= lambda r: r.to_df(),\n",
        "    skills = skills\n",
        ").head(10)"
      ]
    },
    {
      "cell_type": "markdown",
      "metadata": {},
      "source": [
        "# Vector index search"
      ]
    },
    {
      "cell_type": "code",
      "execution_count": null,
      "metadata": {},
      "outputs": [],
      "source": [
        "# Import langchain open ai\n",
        "from langchain_openai import OpenAIEmbeddings, ChatOpenAI\n",
        "from langchain_core.prompts import ChatPromptTemplate\n",
        "from langchain_core.output_parsers import StrOutputParser"
      ]
    },
    {
      "cell_type": "code",
      "execution_count": null,
      "metadata": {},
      "outputs": [],
      "source": [
        "# from openai import OpenAI\n",
        "# client = OpenAI()\n",
        "# client.models.list()"
      ]
    },
    {
      "cell_type": "code",
      "execution_count": null,
      "metadata": {},
      "outputs": [],
      "source": [
        "embeddings = OpenAIEmbeddings(model='text-embedding-ada-002')\n",
        "v_skills=embeddings.embed_documents(skills)"
      ]
    },
    {
      "cell_type": "markdown",
      "metadata": {},
      "source": [
        "### Strategy 1\n",
        "We get the approximate top 10 nearest nodes to the search vector `v` and take the 3 first returned. Then put them together in a list (`skill_list`) and does same ranking as before (number of skills)"
      ]
    },
    {
      "cell_type": "code",
      "execution_count": null,
      "metadata": {},
      "outputs": [],
      "source": [
        "driver.execute_query(\n",
        "    '''\n",
        "    unwind $v_skills as v\n",
        "    call db.index.vector.queryNodes('ada_v', 10, toFloatList(v)) yield node\n",
        "    with v, collect(node)[0..3] as top3\n",
        "    unwind top3 as s\n",
        "    with collect(s) as skill_list \n",
        "    match (p:Person)-[:KNOWS]->(s)\n",
        "    where s in skill_list\n",
        "    return \n",
        "        count(*) as rank, \n",
        "        p.email as email, \n",
        "        p.name as person_name, \n",
        "        collect{ match (p)-[:KNOWS]->(anySkill) return anySkill.name } as skills\n",
        "    order by rank desc limit 10\n",
        "    ''',\n",
        "    database_=DATABASE,\n",
        "    routing_=RoutingControl.READ,\n",
        "    result_transformer_= lambda r: r.to_df(),\n",
        "    v_skills = v_skills\n",
        ").head(10)"
      ]
    },
    {
      "cell_type": "markdown",
      "metadata": {},
      "source": [
        "## Strategy 2\n",
        "Same strategy as before for finding the semantic similar skills, but we do a post sorting based on cosine similarity"
      ]
    },
    {
      "cell_type": "code",
      "execution_count": null,
      "metadata": {},
      "outputs": [],
      "source": [
        "driver.execute_query(\n",
        "    '''\n",
        "    unwind $v_skills as v\n",
        "    call db.index.vector.queryNodes('ada_v', 10, toFloatList(v)) yield node\n",
        "    with v, collect(node)[0..3] as top3\n",
        "    unwind top3 as s\n",
        "    with collect(s) as skill_list \n",
        "    match (p:Person)-[:KNOWS]->(s)\n",
        "    where s in skill_list\n",
        "    with p, sum(reduce(res=0.0, x in $v_skills | res + vector.similarity.cosine(x,s.embedding))) as score\n",
        "    return \n",
        "        score as rank, \n",
        "        p.email as email, \n",
        "        p.name as person_name, \n",
        "        collect{ match (p)-[:KNOWS]->(anySkill) return anySkill.name } as skills\n",
        "    order by rank desc limit 10\n",
        "    ''',\n",
        "    database_=DATABASE,\n",
        "    routing_=RoutingControl.READ,\n",
        "    result_transformer_= lambda r: r.to_df(),\n",
        "    v_skills = v_skills\n",
        ").head(10)"
      ]
    },
    {
      "cell_type": "markdown",
      "metadata": {},
      "source": [
        "## Strategy 3\n",
        "We can also look at community membership (from our kmeans community detection from before). We could for instance imagining the user wanting to explore the community that looks most relevant.\n"
      ]
    },
    {
      "cell_type": "code",
      "execution_count": null,
      "metadata": {},
      "outputs": [],
      "source": [
        "driver.execute_query(\n",
        "    '''\n",
        "    unwind $v_skills as v\n",
        "    call db.index.vector.queryNodes('ada_v', 10, toFloatList(v)) yield node\n",
        "    with v, collect(node)[0..3] as top3\n",
        "    unwind top3 as s\n",
        "    with collect(s) as skill_list \n",
        "    match (p:Person)-[:KNOWS]->(s)\n",
        "    where s in skill_list\n",
        "    with p, sum(reduce(res=0.0, x in $v_skills | res + vector.similarity.cosine(x,s.embedding))) as score\n",
        "    with\n",
        "        p.kmeans5_cluster as community,\n",
        "        score as rank, \n",
        "        p.email as email, \n",
        "        p.name as person_name, \n",
        "        collect{ match (p)-[:KNOWS]->(anySkill) return anySkill.name order by anySkill.name} as skills\n",
        "    order by rank desc limit 10\n",
        "    return \n",
        "        community,\n",
        "        rank,\n",
        "        email,\n",
        "        person_name,\n",
        "        skills\n",
        "    order by community\n",
        "    ''',\n",
        "    database_=DATABASE,\n",
        "    routing_=RoutingControl.READ,\n",
        "    result_transformer_= lambda r: r.to_df(),\n",
        "    v_skills = v_skills\n",
        ").head(10)"
      ]
    },
    {
      "cell_type": "markdown",
      "metadata": {},
      "source": [
        "# Lets create a Retrieval agent"
      ]
    },
    {
      "cell_type": "code",
      "execution_count": null,
      "metadata": {},
      "outputs": [],
      "source": [
        "from typing import List, Optional\n",
        "from pydantic import BaseModel, Field, validator\n",
        "import functools\n",
        "from langchain_core.tools import tool\n",
        "\n",
        "class Skill(BaseModel):\n",
        "    \"\"\"\n",
        "    Represents a professional skill or knwoledge of a person.\n",
        "    \"\"\"\n",
        "    name: str = Field(..., description=\"Sortened name of the skill\")\n",
        "\n",
        "@tool\n",
        "def retrieve_persons_given_set_of_skills(skills: List[Skill]) -> pd.DataFrame:\n",
        "    \"\"\"Given a list of skills this function will retrieve relevant persons. \n",
        "    If the question contains multiple skills, only call the function once using the set of\n",
        "    skills as the argument for the function\"\"\"\n",
        "    skills = [s.name for s in skills]\n",
        "    print(skills)\n",
        "    v_skills = embeddings.embed_documents(skills)\n",
        "    return driver.execute_query(\n",
        "        ''' \n",
        "            unwind $v_skills as v\n",
        "            call db.index.vector.queryNodes('ada_v', 10, toFloatList(v)) yield node\n",
        "            with v, collect(node)[0..3] as top3\n",
        "            unwind top3 as s\n",
        "            with collect(s) as skill_list \n",
        "            match (p:Person)-[:KNOWS]->(s)\n",
        "            where s in skill_list\n",
        "            with p, sum(reduce(res=0.0, x in $v_skills | res + vector.similarity.cosine(x,s.embedding))) as score\n",
        "            with\n",
        "                p.kmeans5_cluster as community,\n",
        "                score as rank, \n",
        "                p.email as email, \n",
        "                p.name as person_name, \n",
        "                collect{ match (p)-[:KNOWS]->(anySkill) return anySkill.name order by anySkill.name} as skills\n",
        "            order by rank desc limit 10\n",
        "            return \n",
        "                community,\n",
        "                rank,\n",
        "                email,\n",
        "                person_name,\n",
        "                skills\n",
        "            order by community\n",
        "        ''',\n",
        "        database_=DATABASE,\n",
        "        v_skills=v_skills,\n",
        "        routing_=RoutingControl.READ,\n",
        "        result_transformer_= lambda r: r.to_df()\n",
        "    )"
      ]
    },
    {
      "cell_type": "code",
      "execution_count": null,
      "metadata": {},
      "outputs": [],
      "source": [
        "\n",
        "llm = ChatOpenAI(model_name=\"gpt-4o\", temperature=0)\n",
        "tools = [\n",
        "    retrieve_persons_given_set_of_skills\n",
        "]\n",
        "llm_with_tools = llm.bind_tools(tools)"
      ]
    },
    {
      "cell_type": "code",
      "execution_count": null,
      "metadata": {},
      "outputs": [],
      "source": [
        "response = llm_with_tools.invoke(\"I am looking for a senior java developer that also knows cypher\").tool_calls"
      ]
    },
    {
      "cell_type": "code",
      "execution_count": null,
      "metadata": {},
      "outputs": [],
      "source": [
        "response\n"
      ]
    },
    {
      "cell_type": "code",
      "execution_count": null,
      "metadata": {},
      "outputs": [],
      "source": [
        "name_to_functions = {\n",
        "    'retrieve_persons_given_set_of_skills': retrieve_persons_given_set_of_skills,\n",
        "}"
      ]
    },
    {
      "cell_type": "code",
      "execution_count": null,
      "metadata": {},
      "outputs": [],
      "source": [
        "selected_tool = name_to_functions[response[0]['name']]\n",
        "args = response[0]['args']"
      ]
    },
    {
      "cell_type": "code",
      "execution_count": null,
      "metadata": {},
      "outputs": [],
      "source": [
        "df_response = selected_tool.invoke(args)"
      ]
    },
    {
      "cell_type": "code",
      "execution_count": null,
      "metadata": {},
      "outputs": [],
      "source": [
        "df_response.head(10)"
      ]
    },
    {
      "cell_type": "code",
      "execution_count": null,
      "metadata": {},
      "outputs": [],
      "source": []
    }
  ],
  "metadata": {
    "colab": {
      "provenance": []
    },
    "kernelspec": {
      "display_name": "notebooks_new",
      "language": "python",
      "name": "python3"
    },
    "language_info": {
      "codemirror_mode": {
        "name": "ipython",
        "version": 3
      },
      "file_extension": ".py",
      "mimetype": "text/x-python",
      "name": "python",
      "nbconvert_exporter": "python",
      "pygments_lexer": "ipython3",
      "version": "3.11.0"
    }
  },
  "nbformat": 4,
  "nbformat_minor": 0
}
