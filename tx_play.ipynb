{
 "cells": [
  {
   "cell_type": "code",
   "execution_count": null,
   "metadata": {},
   "outputs": [],
   "source": [
    "import os\n",
    "import pandas as pd\n",
    "import numpy as np\n",
    "from neo4j import Query, GraphDatabase, RoutingControl, Result\n",
    "from graphdatascience import GraphDataScience "
   ]
  },
  {
   "cell_type": "markdown",
   "metadata": {},
   "source": [
    "## Database connection"
   ]
  },
  {
   "cell_type": "code",
   "execution_count": null,
   "metadata": {},
   "outputs": [],
   "source": [
    "DB_ULR = \"neo4j://localhost:7687\"\n",
    "DB_USER = \"neo4j\"\n",
    "DB_PASS = \"test1234\"\n",
    "DB_NAME = \"neo4j\" # Have to be neo4j for neo4j aura (but keep it, good for testing on local dev env)\n",
    "driver = GraphDatabase.driver(DB_ULR, auth=(DB_USER, DB_PASS))\n",
    "driver.verify_connectivity()"
   ]
  },
  {
   "cell_type": "code",
   "execution_count": 28,
   "metadata": {},
   "outputs": [
    {
     "name": "stdout",
     "output_type": "stream",
     "text": [
      "{code: Neo.ClientError.Schema.ConstraintValidationFailed} {message: Node(0) already exists with label `Person` and property `id` = 1}\n",
      "[{'nodes_created': 1}]\n"
     ]
    }
   ],
   "source": [
    "for i in [1,2]:\n",
    "    with driver.session(database=DB_NAME).begin_transaction() as tx:\n",
    "        try:\n",
    "            result = tx.run('''\n",
    "                            create(n:Person{id:$id})\n",
    "                            return count(*) as nodes_created\n",
    "                            ''', id=i)\n",
    "            print(result.data())\n",
    "        except Exception as e: \n",
    "            print(e)\n",
    "        finally:\n",
    "            if not tx.closed():\n",
    "                tx.rollback()\n"
   ]
  },
  {
   "cell_type": "code",
   "execution_count": 33,
   "metadata": {},
   "outputs": [
    {
     "name": "stdout",
     "output_type": "stream",
     "text": [
      "{'_contains_updates': True, 'properties_set': 2}\n"
     ]
    }
   ],
   "source": [
    "records, summary, keys = driver.execute_query(\n",
    "    ''' \n",
    "        unwind $rows as row\n",
    "        merge(n:Person{id:row.id})\n",
    "        set n.name = row.name\n",
    "        return count(*) as nodes_created\n",
    "    ''',\n",
    "    database_=DB_NAME,\n",
    "    routing_=RoutingControl.WRITE,\n",
    "    rows = [{'id':1, 'name':'A'} , {'id':2, 'name': 'B'} ]\n",
    ")\n",
    "print(summary.counters)"
   ]
  },
  {
   "cell_type": "code",
   "execution_count": null,
   "metadata": {},
   "outputs": [],
   "source": []
  }
 ],
 "metadata": {
  "kernelspec": {
   "display_name": "notebooks",
   "language": "python",
   "name": "python3"
  },
  "language_info": {
   "codemirror_mode": {
    "name": "ipython",
    "version": 3
   },
   "file_extension": ".py",
   "mimetype": "text/x-python",
   "name": "python",
   "nbconvert_exporter": "python",
   "pygments_lexer": "ipython3",
   "version": "3.9.16"
  }
 },
 "nbformat": 4,
 "nbformat_minor": 2
}
