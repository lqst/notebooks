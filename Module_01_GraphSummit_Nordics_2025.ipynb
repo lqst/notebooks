{
  "cells": [
    {
      "cell_type": "markdown",
      "metadata": {},
      "source": [
        "# Module objectives\n",
        "- Creating a graph from structured data input\n",
        "- Basic graph algorithms\n",
        "- Text embeddings for semantic analysis\n",
        "- Feature engineering\n",
        "- Node embeddings\n"
      ]
    },
    {
      "cell_type": "code",
      "execution_count": null,
      "metadata": {
        "id": "FHKg4DVZiQ98"
      },
      "outputs": [],
      "source": [
        "!pip install graphdatascience neo4j dotenv"
      ]
    },
    {
      "cell_type": "markdown",
      "metadata": {
        "id": "ynPe6RLRWSKd"
      },
      "source": [
        "# Setup"
      ]
    },
    {
      "cell_type": "markdown",
      "metadata": {
        "id": "09qvRMrxye7l"
      },
      "source": [
        "Import our usual suspects"
      ]
    },
    {
      "cell_type": "code",
      "execution_count": null,
      "metadata": {
        "id": "BOfc_-mllcUE"
      },
      "outputs": [],
      "source": [
        "import os\n",
        "import pandas as pd\n",
        "from dotenv import load_dotenv\n",
        "from graphdatascience import GraphDataScience\n",
        "from neo4j import Query, GraphDatabase, RoutingControl, Result"
      ]
    },
    {
      "cell_type": "markdown",
      "metadata": {
        "id": "pa61u1jfyk3t"
      },
      "source": [
        "Load env variables"
      ]
    },
    {
      "cell_type": "code",
      "execution_count": null,
      "metadata": {
        "id": "CHR_0lmElZ-R"
      },
      "outputs": [],
      "source": [
        "load_dotenv('ws.env', override=True)\n",
        "# Neo4j\n",
        "HOST = os.getenv('HOST')\n",
        "USERNAME = os.getenv('USERNAME')\n",
        "PASSWORD = os.getenv('PASSWORD')\n",
        "DATABASE = os.getenv('DATABASE')\n",
        "\n",
        "# AI\n",
        "LLM = os.getenv('LLM')\n",
        "OPENAI_API_KEY = os.getenv('OPENAI_API_KEY')\n",
        "os.environ['OPENAI_API_KEY']=OPENAI_API_KEY"
      ]
    },
    {
      "cell_type": "markdown",
      "metadata": {},
      "source": [
        "Connect to neo4j db"
      ]
    },
    {
      "cell_type": "code",
      "execution_count": null,
      "metadata": {
        "id": "5w4eCb7xZZ-S"
      },
      "outputs": [],
      "source": [
        "driver = GraphDatabase.driver(\n",
        "    HOST,\n",
        "    auth=(USERNAME, PASSWORD)\n",
        ")\n",
        "driver.verify_connectivity(database=DATABASE)"
      ]
    },
    {
      "cell_type": "markdown",
      "metadata": {
        "id": "0OMlYdxHWZLx"
      },
      "source": [
        "# Graph creation"
      ]
    },
    {
      "cell_type": "code",
      "execution_count": null,
      "metadata": {
        "id": "cAf_0sYwZZ-S"
      },
      "outputs": [],
      "source": [
        "## Utility - not needed for this small dataset, but as best practice example\n",
        "def split_dataframe(df, chunk_size = 50_000):\n",
        "    chunks = list()\n",
        "    num_chunks = len(df) // chunk_size + 1\n",
        "    for i in range(num_chunks):\n",
        "        chunks.append(df[i*chunk_size:(i+1)*chunk_size])\n",
        "    return chunks"
      ]
    },
    {
      "cell_type": "code",
      "execution_count": null,
      "metadata": {
        "id": "HWJbMUtJeOcv"
      },
      "outputs": [],
      "source": [
        "# Load synthetic Skills dataset\n",
        "url = \"https://raw.githubusercontent.com/Kristof-Neys/Neo4j_demos/main/expanded_skills.csv\"\n",
        "skills_csv = pd.read_csv(url)\n",
        "\n",
        "# Display the first few rows of the DataFrame\n",
        "skills_csv.head(30)"
      ]
    },
    {
      "cell_type": "code",
      "execution_count": null,
      "metadata": {
        "id": "7tdxbTD_ZZ-T"
      },
      "outputs": [],
      "source": [
        "# Convert skills column from comma separated string to List\n",
        "skills_csv['skills'] = skills_csv['skills'].str.split(', ')\n",
        "skills_csv.head()"
      ]
    },
    {
      "cell_type": "markdown",
      "metadata": {
        "id": "k5QJiOUfZZ-T"
      },
      "source": [
        "### Schema"
      ]
    },
    {
      "cell_type": "code",
      "execution_count": null,
      "metadata": {
        "id": "cdTfdAyV2ZaR"
      },
      "outputs": [],
      "source": [
        "schema_statements = [\n",
        "    'create constraint if not exists for (n:Person) require (n.email) is node key',\n",
        "    'create constraint if not exists for (n:Skill) require (n.name) is node key',\n",
        "]\n",
        "for statement in schema_statements:\n",
        "    driver.execute_query(\n",
        "        statement,\n",
        "        database_=DATABASE,\n",
        "        routing_=RoutingControl.WRITE\n",
        "    )\n",
        "\n",
        "# Fetch all constraints\n",
        "schema_result_df  = driver.execute_query(\n",
        "    'show constraints',\n",
        "    database_=DATABASE,\n",
        "    routing_=RoutingControl.READ,\n",
        "    result_transformer_= lambda r: r.to_df()\n",
        ")\n",
        "schema_result_df.head(100)\n"
      ]
    },
    {
      "cell_type": "code",
      "execution_count": null,
      "metadata": {
        "id": "uduojIopm0qV"
      },
      "outputs": [],
      "source": [
        "# Create a graph for (:Person)-[:KNOWS]->(:Skill)\n",
        "for chunk in split_dataframe(skills_csv):\n",
        "    records, summary, keys = driver.execute_query(\n",
        "        '''\n",
        "            unwind $rows as row\n",
        "            merge (p:Person{email:row.email})\n",
        "            set p.name = row.name\n",
        "            with p, row\n",
        "            foreach(skill in row.skills | merge (s:Skill{name:skill}) merge (p)-[:KNOWS]->(s) )\n",
        "            return count(*) as rows_processed\n",
        "        ''',\n",
        "        database_=DATABASE,\n",
        "        routing_=RoutingControl.WRITE,\n",
        "        rows = chunk.to_dict('records')\n",
        "    )"
      ]
    },
    {
      "cell_type": "markdown",
      "metadata": {
        "id": "rZo7Gln2jJcF"
      },
      "source": [
        "# Basic navigation of graph with cypher"
      ]
    },
    {
      "cell_type": "code",
      "execution_count": null,
      "metadata": {
        "id": "70-xbOfgjQsY"
      },
      "outputs": [],
      "source": [
        "# What persons are in the database?\n",
        "driver.execute_query(\n",
        "    '''\n",
        "    match (p:Person)\n",
        "    return p.name as person_name\n",
        "    ''',\n",
        "    database_=DATABASE,\n",
        "    routing_=RoutingControl.READ,\n",
        "    result_transformer_= lambda r: r.to_df()\n",
        ").head()"
      ]
    },
    {
      "cell_type": "code",
      "execution_count": null,
      "metadata": {
        "id": "volCOjn_jjm3"
      },
      "outputs": [],
      "source": [
        "# What skills does each person know?\n",
        "driver.execute_query(\n",
        "    '''\n",
        "    match (p:Person)-[:KNOWS]->(s:Skill)\n",
        "    return p.email as email, p.name as person_name,collect(s.name) as skills\n",
        "    ''',\n",
        "    database_=DATABASE,\n",
        "    routing_=RoutingControl.READ,\n",
        "    result_transformer_= lambda r: r.to_df()\n",
        ").head()"
      ]
    },
    {
      "cell_type": "code",
      "execution_count": null,
      "metadata": {
        "id": "2yddechtj2MB"
      },
      "outputs": [],
      "source": [
        "# What are the most frequent skills?\n",
        "driver.execute_query(\n",
        "    '''\n",
        "    match (p:Person)-[:KNOWS]->(s:Skill)\n",
        "    return s.name, count(distinct p) as knownByCount order by knownByCount desc limit 10\n",
        "    ''',\n",
        "    database_=DATABASE,\n",
        "    routing_=RoutingControl.READ,\n",
        "    result_transformer_= lambda r: r.to_df()\n",
        ").head()"
      ]
    },
    {
      "cell_type": "markdown",
      "metadata": {
        "id": "kx1UHN87Kfup"
      },
      "source": [
        "# Node similarity"
      ]
    },
    {
      "cell_type": "markdown",
      "metadata": {
        "id": "kulQKQj63Zb_"
      },
      "source": [
        "Let's investigate Persons that are simiar in the graph (based on skills they share)"
      ]
    },
    {
      "cell_type": "code",
      "execution_count": null,
      "metadata": {
        "id": "A1S3LerIZZ-V"
      },
      "outputs": [],
      "source": [
        "gds = GraphDataScience.from_neo4j_driver(driver=driver)\n",
        "gds.set_database(DATABASE)\n",
        "gds.version()"
      ]
    },
    {
      "cell_type": "code",
      "execution_count": null,
      "metadata": {
        "id": "BDt3N5vPALJS"
      },
      "outputs": [],
      "source": [
        "G, res = gds.graph.project(\n",
        "    \"person_skills_projection\",  # Graph name\n",
        "    [\"Person\", \"Skill\"],         #  Node projection\n",
        "    [\"KNOWS\"]                    #  Relationship projection\n",
        ")"
      ]
    },
    {
      "cell_type": "code",
      "execution_count": null,
      "metadata": {
        "id": "7rBfNJ6A9m65"
      },
      "outputs": [],
      "source": [
        "res\n"
      ]
    },
    {
      "cell_type": "markdown",
      "metadata": {
        "id": "9yrwNp-kZZ-V"
      },
      "source": [
        "Documentation https://neo4j.com/docs/graph-data-science/current/algorithms/node-similarity/"
      ]
    },
    {
      "cell_type": "code",
      "execution_count": null,
      "metadata": {
        "id": "Li3i2z3JZZ-V"
      },
      "outputs": [],
      "source": [
        "gds.nodeSimilarity.stream(\n",
        "    G,\n",
        "    similarityMetric='OVERLAP',\n",
        "    topK=3\n",
        ")"
      ]
    },
    {
      "cell_type": "code",
      "execution_count": null,
      "metadata": {
        "id": "nNZByI7LGy_i"
      },
      "outputs": [],
      "source": [
        "gds.nodeSimilarity.write(\n",
        "    G,\n",
        "    similarityMetric='OVERLAP',\n",
        "    topK=3,\n",
        "    writeRelationshipType='SIMILAR_SKILLSET',\n",
        "    writeProperty='sim_score'\n",
        ")\n",
        "\n",
        "# Reomve symmetric relationships\n",
        "gds.run_cypher('''\n",
        "  match (a:Person)-[r:SIMILAR_SKILLSET]->(b:Person)\n",
        "    where exists { (b)-[:SIMILAR_SKILLSET]->(a) }\n",
        "    and   id(a)<id(b)\n",
        "  delete r\n",
        "''')\n"
      ]
    },
    {
      "cell_type": "code",
      "execution_count": null,
      "metadata": {
        "id": "LRQGxT5RHctm"
      },
      "outputs": [],
      "source": [
        "# Drop the projection from the graph catalogue to free up resources\n",
        "G.drop()"
      ]
    },
    {
      "cell_type": "markdown",
      "metadata": {},
      "source": [
        "Take a minute to explore the SIMILAR_SKILLSET network"
      ]
    },
    {
      "cell_type": "markdown",
      "metadata": {
        "id": "jU696MRBKlne"
      },
      "source": [
        "# Semantic Similar skill"
      ]
    },
    {
      "cell_type": "code",
      "execution_count": null,
      "metadata": {
        "colab": {
          "base_uri": "https://localhost:8080/"
        },
        "id": "-BQsA-YPfMG9",
        "outputId": "2c3108ca-4c69-4585-bc05-233afc974d8c"
      },
      "outputs": [],
      "source": [
        "!pip install langchain langchain_openai"
      ]
    },
    {
      "cell_type": "code",
      "execution_count": null,
      "metadata": {
        "id": "jsSEXph4ZZ-W"
      },
      "outputs": [],
      "source": [
        "# Import langchain open ai\n",
        "from langchain_openai import OpenAIEmbeddings, ChatOpenAI\n",
        "from langchain_core.prompts import ChatPromptTemplate\n",
        "from langchain_core.output_parsers import StrOutputParser\n",
        "\n",
        "embeddings = OpenAIEmbeddings(model='text-embedding-ada-002')\n"
      ]
    },
    {
      "cell_type": "code",
      "execution_count": null,
      "metadata": {
        "id": "mZC3AKS9ZZ-W"
      },
      "outputs": [],
      "source": [
        "skills_df = gds.run_cypher('''\n",
        "  match (s:Skill)\n",
        "  return s.name as skill\n",
        "''')\n",
        "skills_df.head(35)"
      ]
    },
    {
      "cell_type": "markdown",
      "metadata": {
        "id": "IKWEZ7oy051q"
      },
      "source": [
        "## STOP STOP STOP - DO NOT PROCEED (YET)"
      ]
    },
    {
      "cell_type": "code",
      "execution_count": null,
      "metadata": {
        "id": "7QVaEcc3ZZ-W"
      },
      "outputs": [],
      "source": [
        "# only to be run by instructor (or if you have your own api key)\n",
        "# to-do: Don't do row-by-row, use bulk.\n",
        "\n",
        "# skills_df['embedding'] = skills_df['skill'].apply( lambda skill: embeddings.embed_documents([skill])[0])\n",
        "# skills_df.head()"
      ]
    },
    {
      "cell_type": "code",
      "execution_count": null,
      "metadata": {},
      "outputs": [],
      "source": [
        "# gds.run_cypher('''\n",
        "#     unwind $data as row\n",
        "#     match (s:Skill{name: row.skill})\n",
        "#     set s.embedding = row.embedding\n",
        "#     ''',\n",
        "#     params = { 'data': skills_df.to_dict(orient='records') }\n",
        "# )"
      ]
    },
    {
      "cell_type": "code",
      "execution_count": null,
      "metadata": {},
      "outputs": [],
      "source": [
        "# Todo: Kristof, can you update this so it also has embeddings from text-embedding-ada-002\n",
        "skills_df = pd.read_csv('https://raw.githubusercontent.com/Kristof-Neys/Neo4j_demos/refs/heads/main/skills_embeddings.csv')\n",
        "skills_df['Embedding'] = skills_df['Embedding'].apply( lambda x: [ float(i) for i in x.strip(\"[]\").split(\", \")] )\n",
        "skills_df.head()"
      ]
    },
    {
      "cell_type": "code",
      "execution_count": null,
      "metadata": {
        "id": "-K7yLpGtZZ-W"
      },
      "outputs": [],
      "source": [
        "# Add embeddings to Skill nodes in database\n",
        "gds.run_cypher('''\n",
        "    unwind $data as row\n",
        "    match (s:Skill{name: row.Name})\n",
        "    set s.embedding = row.Embedding\n",
        "    ''',\n",
        "    params = { 'data': skills_df.to_dict(orient='records') }\n",
        ")"
      ]
    },
    {
      "cell_type": "markdown",
      "metadata": {
        "id": "pH6V2MgzWpN_"
      },
      "source": [
        "# Let's use the semantic meaning to find similarities..."
      ]
    },
    {
      "cell_type": "code",
      "execution_count": null,
      "metadata": {
        "id": "oFpNHjBjZZ-W"
      },
      "outputs": [],
      "source": [
        "G, res = gds.graph.project(\n",
        "    'skill_embedding_projection',\n",
        "    {\n",
        "        'Skill': {\"properties\": 'embedding'},\n",
        "    },\n",
        "    ['KNOWS']    # No rels will be projected, but we need to specify something here :)\n",
        ")\n",
        "res"
      ]
    },
    {
      "cell_type": "markdown",
      "metadata": {
        "id": "osF4pe6buMgJ"
      },
      "source": [
        "***Running K-nearest Neighbours to find semantic similarities...*** [K Nearest Neighbours](https://neo4j.com/docs/graph-data-science/current/algorithms/knn/)"
      ]
    },
    {
      "cell_type": "code",
      "execution_count": null,
      "metadata": {
        "id": "ZGwkZIuFQN-R"
      },
      "outputs": [],
      "source": [
        "# Run knn\n",
        "gds.knn.write(\n",
        "    G,\n",
        "    nodeLabels=['Skill'],\n",
        "    nodeProperties=['embedding'],\n",
        "    topK=3,\n",
        "    writeRelationshipType='SIMILAR_SEMANTIC',\n",
        "    writeProperty='sim_score'\n",
        ")\n",
        "\n",
        "# Remove symmetric relationships\n",
        "gds.run_cypher('''\n",
        "  match (a:Skill)-[r:SIMILAR_SEMANTIC]->(b:Skill)\n",
        "    where exists { (b)-[:SIMILAR_SEMANTIC]->(a) }\n",
        "    and   a<b\n",
        "  delete r\n",
        "''')"
      ]
    },
    {
      "cell_type": "code",
      "execution_count": null,
      "metadata": {
        "id": "Ld-iLMVIwlnh"
      },
      "outputs": [],
      "source": [
        "# Let's review\n",
        "gds.run_cypher('''\n",
        "  MATCH (s:Skill)-[r:SIMILAR_SEMANTIC]-(s2)\n",
        "  RETURN s.name as skill,\n",
        "         r.sim_score as score,\n",
        "         s2.name as to_skill\n",
        "  ORDER by skill asc, score desc\n",
        "''').head(30)"
      ]
    },
    {
      "cell_type": "code",
      "execution_count": null,
      "metadata": {
        "id": "ou3S9jeJMV0A"
      },
      "outputs": [],
      "source": [
        "# Drop the projection from the graph catalogue to free up resources\n",
        "G.drop()"
      ]
    },
    {
      "cell_type": "markdown",
      "metadata": {
        "id": "HHo6ciC_u4aS"
      },
      "source": [
        "# *Let's do some \"Graph Feature Engineering\" - learn from our connected data...*"
      ]
    },
    {
      "cell_type": "code",
      "execution_count": null,
      "metadata": {
        "id": "sIqScNSZZbxT"
      },
      "outputs": [],
      "source": [
        "G, res = gds.graph.project(\n",
        "    'skill_BetW_projection',\n",
        "    ['Skill'],\n",
        "    {'SIMILAR_SEMANTIC':{'orientation': 'NATURAL'}}\n",
        ")"
      ]
    },
    {
      "cell_type": "code",
      "execution_count": null,
      "metadata": {
        "id": "XTv0qCSgYnmJ"
      },
      "outputs": [],
      "source": [
        "BetWresult = gds.betweenness.write(\n",
        "    G,\n",
        "    writeProperty='betweenness'\n",
        ")\n",
        "BetWresult\n"
      ]
    },
    {
      "cell_type": "code",
      "execution_count": null,
      "metadata": {
        "id": "dnocyEKdiaUS"
      },
      "outputs": [],
      "source": [
        "G.drop()"
      ]
    },
    {
      "cell_type": "code",
      "execution_count": null,
      "metadata": {
        "id": "JAwhe45TiaZC"
      },
      "outputs": [],
      "source": [
        "bridge_skill = gds.run_cypher('''\n",
        "    MATCH (s:Skill)\n",
        "    RETURN s.name as skill, s.betweenness AS betweenness\n",
        "    ORDER BY betweenness DESC\n",
        "''')\n",
        "\n",
        "bridge_skill.head(10)"
      ]
    },
    {
      "cell_type": "markdown",
      "metadata": {
        "id": "lDW645yEwyWK"
      },
      "source": [
        "# *Wait! - and I can vectorise my Graph as well....?*"
      ]
    },
    {
      "cell_type": "code",
      "execution_count": null,
      "metadata": {
        "id": "EabO2aSjqfli"
      },
      "outputs": [],
      "source": [
        "G, res = gds.graph.project(\n",
        "    \"Person_projection\",  # Graph name\n",
        "    [\"Person\"],         #  Node projection\n",
        "    {'SIMILAR_SKILLSET': {'orientation': 'UNDIRECTED'}}                    #  Relationship projection\n",
        ")\n"
      ]
    },
    {
      "cell_type": "markdown",
      "metadata": {
        "id": "iiyF8MvgxCJ4"
      },
      "source": [
        "***Running a node embedding in a few lines...***"
      ]
    },
    {
      "cell_type": "code",
      "execution_count": null,
      "metadata": {
        "id": "FItlLzKqpyp0"
      },
      "outputs": [],
      "source": [
        "fastrp_res =  gds.fastRP.write(G,\n",
        "    embeddingDimension = 128,\n",
        "    iterationWeights = [0, 0, 1.0, 1.0],\n",
        "    normalizationStrength = 0.05,\n",
        "    writeProperty = \"fastRP_Embedding\",\n",
        "    randomSeed = 42\n",
        ")"
      ]
    },
    {
      "cell_type": "code",
      "execution_count": null,
      "metadata": {
        "id": "Z-CckwYCtIO6"
      },
      "outputs": [],
      "source": [
        "#Adding it now to memory for some more computations\n",
        "fastrp_res =  gds.fastRP.mutate(G,\n",
        "    embeddingDimension = 128,\n",
        "    iterationWeights = [0, 0, 1.0, 1.0],\n",
        "    normalizationStrength = 0.05,\n",
        "    mutateProperty = \"fastRP_Embedding\",\n",
        "    randomSeed = 42\n",
        ")"
      ]
    },
    {
      "cell_type": "markdown",
      "metadata": {
        "id": "l5tYbOTZxfk8"
      },
      "source": [
        "*Finding clusters based on their structural and specific attributes...*"
      ]
    },
    {
      "cell_type": "code",
      "execution_count": null,
      "metadata": {
        "id": "lC9W17F01l3_"
      },
      "outputs": [],
      "source": [
        "kmeans_result = gds.kmeans.write(\n",
        "    G,\n",
        "    nodeProperty='fastRP_Embedding',\n",
        "    k=5,\n",
        "    writeProperty='kmeans5_cluster',\n",
        "    randomSeed=42,\n",
        "    maxIterations=100\n",
        ")"
      ]
    },
    {
      "cell_type": "code",
      "execution_count": null,
      "metadata": {},
      "outputs": [],
      "source": [
        "G.drop()"
      ]
    },
    {
      "cell_type": "code",
      "execution_count": null,
      "metadata": {
        "id": "TycqLXOx1li6"
      },
      "outputs": [],
      "source": [
        "skill_teams = gds.run_cypher('''\n",
        "    MATCH (n) WHERE (n.kmeans5_cluster) IS NOT NULL\n",
        "    RETURN n.kmeans5_cluster AS Team, collect(n.name) AS Team_members\n",
        "''')\n",
        "\n",
        "print(\"Teams of expertise: \\n\", skill_teams.head(6))"
      ]
    }
  ],
  "metadata": {
    "colab": {
      "provenance": []
    },
    "kernelspec": {
      "display_name": "notebooks_new",
      "language": "python",
      "name": "python3"
    },
    "language_info": {
      "codemirror_mode": {
        "name": "ipython",
        "version": 3
      },
      "file_extension": ".py",
      "mimetype": "text/x-python",
      "name": "python",
      "nbconvert_exporter": "python",
      "pygments_lexer": "ipython3",
      "version": "3.11.0"
    }
  },
  "nbformat": 4,
  "nbformat_minor": 0
}
