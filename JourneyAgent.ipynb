{
  "cells": [
    {
      "cell_type": "markdown",
      "metadata": {
        "id": "ynPe6RLRWSKd"
      },
      "source": [
        "# Setup"
      ]
    },
    {
      "cell_type": "markdown",
      "metadata": {
        "id": "09qvRMrxye7l"
      },
      "source": [
        "Import our usual suspects"
      ]
    },
    {
      "cell_type": "code",
      "execution_count": null,
      "metadata": {
        "id": "BOfc_-mllcUE"
      },
      "outputs": [],
      "source": [
        "import os\n",
        "import pandas as pd\n",
        "from dotenv import load_dotenv\n",
        "from graphdatascience import GraphDataScience\n",
        "from neo4j import Query, GraphDatabase, RoutingControl, Result"
      ]
    },
    {
      "cell_type": "markdown",
      "metadata": {
        "id": "pa61u1jfyk3t"
      },
      "source": [
        "Load env variables"
      ]
    },
    {
      "cell_type": "code",
      "execution_count": null,
      "metadata": {
        "id": "CHR_0lmElZ-R"
      },
      "outputs": [],
      "source": [
        "load_dotenv('.env', override=True)\n",
        "# Neo4j\n",
        "HOST = os.getenv('DEMO_URL')\n",
        "USERNAME = os.getenv('DEMO_USER')\n",
        "PASSWORD = os.getenv('DEMO_PASSWORD')\n",
        "DATABASE = os.getenv('DEMO_DB_NAME')\n",
        "\n",
        "# AI\n",
        "OPENAI_API_KEY = os.getenv('OPENAI_API_KEY')\n",
        "os.environ['OPENAI_API_KEY']=OPENAI_API_KEY"
      ]
    },
    {
      "cell_type": "markdown",
      "metadata": {},
      "source": [
        "Connect to neo4j db"
      ]
    },
    {
      "cell_type": "code",
      "execution_count": null,
      "metadata": {
        "id": "5w4eCb7xZZ-S"
      },
      "outputs": [],
      "source": [
        "driver = GraphDatabase.driver(\n",
        "    HOST,\n",
        "    auth=(USERNAME, PASSWORD)\n",
        ")\n",
        "driver.verify_connectivity(database=DATABASE)"
      ]
    },
    {
      "cell_type": "markdown",
      "metadata": {},
      "source": [
        "## Create our little graph"
      ]
    },
    {
      "cell_type": "code",
      "execution_count": null,
      "metadata": {},
      "outputs": [],
      "source": [
        "data = {\n",
        "    'user_id': 'user_1',\n",
        "    'home_station': 'Jönköping Central',\n",
        "    'journeys': [\n",
        "        \"Jönköping Central - Köpenhamn H\",\n",
        "        \"Jönköping Central - Köpenhamn H\",\n",
        "        \"Jönköping Central - Köpenhamn H\",\n",
        "        \"Jönköping Central - Köpenhamn H\",\n",
        "        \"Jönköping Central - Köpenhamn H\",\n",
        "        \"Jönköping Central - Köpenhamn H\",\n",
        "        \"Jönköping Central - Köpenhamn H\",\n",
        "        \"Jönköping Central - Stockholm Central\",\n",
        "        \"Jönköping Central - Stockholm Central\",\n",
        "        \"Jönköping Central - Stockholm Central\",\n",
        "        \"Jönköping Central - Stockholm Central\",\n",
        "        \"Jönköping Central - Stockholm Central\",\n",
        "        \"Jönköping Central - Stockholm Central\",\n",
        "        \"Jönköping Central - Stockholm Central\",\n",
        "        \"Jönköping Central - Stockholm Central\",\n",
        "        \"Jönköping Central - Stockholm Central\",\n",
        "        \"Jönköping Central - Stockholm Central\",\n",
        "        \"Jönköping Central - Stockholm Central\",\n",
        "        \"Köpenhamn H - Copenhagen Airport\",\n",
        "        \"Malmö Central - Köpenhamn H\",\n",
        "        \"Stockholm Central - Jönköping Central\"\n",
        "    ]\n",
        "}\n",
        "\n",
        "driver.execute_query(\n",
        "    ''' \n",
        "    merge (u:User{id:$data.user_id})\n",
        "    merge (home:Station{name:$data.home_station})\n",
        "    merge (u)-[:home_station]->(home)\n",
        "    with u\n",
        "    unwind $data.journeys as joruney\n",
        "    with split(joruney, \" - \") as legs\n",
        "    merge (start:Station{name:legs[0]})\n",
        "    merge (end:Station{name:legs[1]})\n",
        "    merge (start)-[r:journey_to]->(end)\n",
        "    on create set r.count = 1\n",
        "    on match set r.count = r.count + 1\n",
        "    ''',\n",
        "    database_=DATABASE,\n",
        "    routing_=RoutingControl.WRITE,\n",
        "    result_transformer_= lambda r: r.to_df(),\n",
        "    data = data\n",
        ")"
      ]
    },
    {
      "cell_type": "code",
      "execution_count": null,
      "metadata": {},
      "outputs": [],
      "source": [
        "# pip install neo4j-viz[neo4j]\n",
        "from neo4j_viz.neo4j import from_neo4j"
      ]
    },
    {
      "cell_type": "code",
      "execution_count": null,
      "metadata": {},
      "outputs": [],
      "source": [
        "graph = driver.execute_query(\n",
        "        \"MATCH (n)-[r]->(m) RETURN n,r,m limit 100\",\n",
        "        database_=DATABASE,\n",
        "        routing_=RoutingControl.READ,\n",
        "        result_transformer_=Result.graph,\n",
        ")"
      ]
    },
    {
      "cell_type": "code",
      "execution_count": null,
      "metadata": {},
      "outputs": [],
      "source": [
        "VG = from_neo4j(graph)\n",
        "VG.render()"
      ]
    },
    {
      "cell_type": "markdown",
      "metadata": {
        "id": "0OMlYdxHWZLx"
      },
      "source": [
        "# Retriver"
      ]
    },
    {
      "cell_type": "markdown",
      "metadata": {},
      "source": [
        "### Test/design query"
      ]
    },
    {
      "cell_type": "code",
      "execution_count": null,
      "metadata": {},
      "outputs": [],
      "source": [
        "user_id=\"user_1\"\n",
        "destination = \"Stockholm\"\n",
        "driver.execute_query(\n",
        "    '''\n",
        "    match (user:User{ id: $user_id })-[:home_station]->(home) \n",
        "    with user,home\n",
        "    match (dest:Station)\n",
        "    where dest.name starts with $destination\n",
        "    return\n",
        "    {\n",
        "        from: home.name,\n",
        "        to: dest.name\n",
        "    }\n",
        "     as result\n",
        "    ''',\n",
        "    database_=DATABASE,\n",
        "    routing_=RoutingControl.READ,\n",
        "    result_transformer_= lambda r: r.to_df(),\n",
        "    user_id = user_id,\n",
        "    destination = destination\n",
        ").head(10)"
      ]
    },
    {
      "cell_type": "markdown",
      "metadata": {},
      "source": [
        "## Create agent"
      ]
    },
    {
      "cell_type": "code",
      "execution_count": null,
      "metadata": {},
      "outputs": [],
      "source": [
        "from typing import List, Optional\n",
        "from pydantic import BaseModel, Field\n",
        "import functools\n",
        "from langchain_core.tools import tool\n",
        "\n",
        "class JourneyDestination(BaseModel):\n",
        "    \"\"\"\n",
        "    Represents user search for a journey to a destination\n",
        "    \"\"\"\n",
        "    destination: str = Field(..., description=\"Name of the destination city or station\")\n",
        "\n",
        "@tool\n",
        "def search_journey_by_destionation_for_user(journey: JourneyDestination) -> list:\n",
        "    '''Given the name of a destination city or station, this function will \n",
        "       retrieve the journey alternatives for a user'''\n",
        "    return driver.execute_query(\n",
        "        ''' \n",
        "            match (user:User{ id: $user_id })-[:home_station]->(home) \n",
        "            with user,home\n",
        "            match (dest:Station)\n",
        "            where dest.name starts with $destination\n",
        "            return\n",
        "            {\n",
        "                from: home.name,\n",
        "                to: dest.name\n",
        "            }\n",
        "            as result limit 10\n",
        "        ''',\n",
        "        database_=DATABASE,\n",
        "        user_id = user_id,\n",
        "        destination = journey.destination,\n",
        "        routing_=RoutingControl.READ,\n",
        "        result_transformer_= lambda r: r.values(\"result\")\n",
        "    )"
      ]
    },
    {
      "cell_type": "code",
      "execution_count": null,
      "metadata": {},
      "outputs": [],
      "source": [
        "# Import langchain open ai\n",
        "from langchain_openai import OpenAIEmbeddings, ChatOpenAI\n",
        "from langchain_core.prompts import ChatPromptTemplate\n",
        "from langchain_core.output_parsers import StrOutputParser\n",
        "\n",
        "from langchain_core.messages import HumanMessage\n",
        "\n",
        "llm = ChatOpenAI(model_name=\"gpt-4o\", temperature=0)\n",
        "tools = [\n",
        "    search_journey_by_destionation_for_user\n",
        "]\n",
        "llm_with_tools = llm.bind_tools(tools)"
      ]
    },
    {
      "cell_type": "code",
      "execution_count": null,
      "metadata": {},
      "outputs": [],
      "source": [
        "question = \"I need to go to Stockholm next week Wed - Fri.\"\n",
        "messages = [HumanMessage(question)]\n",
        "ai_msg = llm_with_tools.invoke(messages)\n",
        "print(ai_msg.tool_calls)\n",
        "messages.append(ai_msg)"
      ]
    },
    {
      "cell_type": "code",
      "execution_count": null,
      "metadata": {},
      "outputs": [],
      "source": [
        "for tool_call in ai_msg.tool_calls:\n",
        "    selected_tool = {\"search_journey_by_destionation_for_user\": search_journey_by_destionation_for_user}[tool_call[\"name\"].lower()]\n",
        "    tool_msg = selected_tool.invoke(tool_call)\n",
        "    messages.append(tool_msg)\n",
        "\n",
        "messages"
      ]
    },
    {
      "cell_type": "markdown",
      "metadata": {},
      "source": [
        "## Generator"
      ]
    },
    {
      "cell_type": "code",
      "execution_count": null,
      "metadata": {},
      "outputs": [],
      "source": [
        "llm_with_tools.invoke(messages)"
      ]
    },
    {
      "cell_type": "markdown",
      "metadata": {},
      "source": [
        "# Generate embeddings"
      ]
    },
    {
      "cell_type": "code",
      "execution_count": null,
      "metadata": {},
      "outputs": [],
      "source": [
        "df_stations = driver.execute_query(\n",
        "    '''\n",
        "    MATCH (s:Station)\n",
        "    RETURN s.name as station\n",
        "    ''',\n",
        "    database_=DATABASE,\n",
        "    routing_=RoutingControl.READ,\n",
        "    result_transformer_=lambda r: r.to_df()\n",
        ")\n",
        "df_stations.head()"
      ]
    },
    {
      "cell_type": "code",
      "execution_count": null,
      "metadata": {},
      "outputs": [],
      "source": [
        "from langchain_openai import OpenAIEmbeddings\n",
        "\n",
        "embedding_model = OpenAIEmbeddings(\n",
        "    model=\"text-embedding-3-large\",\n",
        "    # With the `text-embedding-3` class\n",
        "    # of models, you can specify the size\n",
        "    # of the embeddings you want returned.\n",
        "    # dimensions=1024\n",
        ")"
      ]
    },
    {
      "cell_type": "code",
      "execution_count": null,
      "metadata": {},
      "outputs": [],
      "source": [
        "df_stations['embedding'] = df_stations['station'].apply(\n",
        "    lambda x: embedding_model.embed_documents([x])[0]\n",
        ")\n",
        "df_stations.head()"
      ]
    },
    {
      "cell_type": "code",
      "execution_count": null,
      "metadata": {},
      "outputs": [],
      "source": [
        "driver.execute_query(\n",
        "    '''//cypher\n",
        "    unwind $stations as station\n",
        "    match (s:Station{name: station.station})\n",
        "    set s.embedding = station.embedding\n",
        "    return count(s) as count\n",
        "    ''',\n",
        "    database_=DATABASE,\n",
        "    routing_=RoutingControl.WRITE,\n",
        "    stations = df_stations.to_dict('records'),\n",
        "    result_transformer_=lambda r: r.to_df()\n",
        ")"
      ]
    },
    {
      "cell_type": "code",
      "execution_count": null,
      "metadata": {},
      "outputs": [],
      "source": [
        "# creaet vector index\n",
        "driver.execute_query(\n",
        "    '''//cypher\n",
        "    create vector index StationEmbeddingIndex if not exists for (s:Station) on (s.embedding)\n",
        "    ''',\n",
        "    database_=DATABASE,\n",
        "    routing_=RoutingControl.WRITE,\n",
        "    stations = df_stations.to_dict('records'),\n",
        "    result_transformer_=lambda r: r.to_df()\n",
        ")"
      ]
    },
    {
      "cell_type": "markdown",
      "metadata": {},
      "source": [
        "## Update our tool"
      ]
    },
    {
      "cell_type": "code",
      "execution_count": null,
      "metadata": {},
      "outputs": [],
      "source": [
        "@tool\n",
        "def search_journey_by_destionation_for_user(journey: JourneyDestination) -> list:\n",
        "    '''Given the name of a destination city, point of interest or station, this function will \n",
        "       retrieve the journey alternatives for a user'''\n",
        "    dest_embedding = embedding_model.embed_query(journey.destination)\n",
        "    return driver.execute_query(\n",
        "        '''//cypher\n",
        "            match (user:User{ id: $user_id })-[:home_station]->(home) \n",
        "            with user,home\n",
        "            optional call () {\n",
        "                match (dest:Station)\n",
        "                where dest.name starts with $destination\n",
        "                return dest as dest1 limit 1\n",
        "            }\n",
        "            optional call () {\n",
        "                call db.index.vector.queryNodes('StationEmbeddingIndex', 10, $dest_embedding) yield node as dest\n",
        "                return dest as dest2 limit 1\n",
        "            }\n",
        "            with coalesce(dest1, dest2) as dest, home\n",
        "            return\n",
        "            {\n",
        "                from: home.name,\n",
        "                to: dest.name\n",
        "            }\n",
        "            as result limit 10\n",
        "        ''',\n",
        "        database_=DATABASE,\n",
        "        user_id = user_id,\n",
        "        destination = journey.destination,\n",
        "        dest_embedding = dest_embedding,\n",
        "        routing_=RoutingControl.READ,\n",
        "        result_transformer_= lambda r: r.values(\"result\")\n",
        "    )"
      ]
    },
    {
      "cell_type": "code",
      "execution_count": null,
      "metadata": {},
      "outputs": [],
      "source": [
        "llm = ChatOpenAI(model_name=\"gpt-4o\", temperature=0)\n",
        "tools = [\n",
        "    search_journey_by_destionation_for_user\n",
        "]\n",
        "llm_with_tools = llm.bind_tools(tools)"
      ]
    },
    {
      "cell_type": "code",
      "execution_count": null,
      "metadata": {},
      "outputs": [],
      "source": [
        "question = \"I need to go to the capital of sweden next week Wed - Fri.\"\n",
        "messages = [HumanMessage(question)]\n",
        "ai_msg = llm_with_tools.invoke(messages)\n",
        "print(ai_msg.tool_calls)\n",
        "messages.append(ai_msg)"
      ]
    },
    {
      "cell_type": "code",
      "execution_count": null,
      "metadata": {},
      "outputs": [],
      "source": [
        "for tool_call in ai_msg.tool_calls:\n",
        "    selected_tool = {\"search_journey_by_destionation_for_user\": search_journey_by_destionation_for_user}[tool_call[\"name\"].lower()]\n",
        "    tool_msg = selected_tool.invoke(tool_call)\n",
        "    messages.append(tool_msg)\n",
        "\n",
        "messages"
      ]
    },
    {
      "cell_type": "code",
      "execution_count": null,
      "metadata": {},
      "outputs": [],
      "source": [
        "llm_with_tools.invoke(messages)"
      ]
    },
    {
      "cell_type": "code",
      "execution_count": null,
      "metadata": {},
      "outputs": [],
      "source": []
    }
  ],
  "metadata": {
    "colab": {
      "provenance": []
    },
    "kernelspec": {
      "display_name": "notebooks_new",
      "language": "python",
      "name": "python3"
    },
    "language_info": {
      "codemirror_mode": {
        "name": "ipython",
        "version": 3
      },
      "file_extension": ".py",
      "mimetype": "text/x-python",
      "name": "python",
      "nbconvert_exporter": "python",
      "pygments_lexer": "ipython3",
      "version": "3.11.0"
    }
  },
  "nbformat": 4,
  "nbformat_minor": 0
}
