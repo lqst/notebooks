{
  "cells": [
    {
      "cell_type": "markdown",
      "metadata": {
        "id": "ynPe6RLRWSKd"
      },
      "source": [
        "# Setup"
      ]
    },
    {
      "cell_type": "markdown",
      "metadata": {
        "id": "09qvRMrxye7l"
      },
      "source": [
        "Import our usual suspects"
      ]
    },
    {
      "cell_type": "code",
      "execution_count": null,
      "metadata": {
        "id": "BOfc_-mllcUE"
      },
      "outputs": [],
      "source": [
        "import os\n",
        "import pandas as pd\n",
        "from graphdatascience import GraphDataScience\n",
        "from neo4j import Query, GraphDatabase, RoutingControl, Result "
      ]
    },
    {
      "cell_type": "markdown",
      "metadata": {
        "id": "pa61u1jfyk3t"
      },
      "source": [
        "Register for a sandbox and create an empty sandbox  https://sandbox.neo4j.com"
      ]
    },
    {
      "cell_type": "code",
      "execution_count": null,
      "metadata": {
        "id": "CHR_0lmElZ-R"
      },
      "outputs": [],
      "source": [
        "# Capture connection string and auth info\n",
        "connectionUrl = 'neo4j://localhost:7687'\n",
        "username = 'neo4j'\n",
        "password = 'test1234'\n",
        "database = 'skills'"
      ]
    },
    {
      "cell_type": "code",
      "execution_count": null,
      "metadata": {},
      "outputs": [],
      "source": [
        "driver = GraphDatabase.driver(\n",
        "    connectionUrl, \n",
        "    auth=(username, password)\n",
        ")\n",
        "driver.verify_connectivity()"
      ]
    },
    {
      "cell_type": "code",
      "execution_count": null,
      "metadata": {},
      "outputs": [],
      "source": [
        "## Utility\n",
        "def split_dataframe(df, chunk_size = 50_000): \n",
        "    chunks = list()\n",
        "    num_chunks = len(df) // chunk_size + 1\n",
        "    for i in range(num_chunks):\n",
        "        chunks.append(df[i*chunk_size:(i+1)*chunk_size])\n",
        "    return chunks"
      ]
    },
    {
      "cell_type": "markdown",
      "metadata": {
        "id": "0OMlYdxHWZLx"
      },
      "source": [
        "# Graph creation"
      ]
    },
    {
      "cell_type": "code",
      "execution_count": null,
      "metadata": {
        "id": "LbsQlwvwku0b"
      },
      "outputs": [],
      "source": [
        "skills_csv = pd.read_csv('skills.csv', delimiter='\\t')\n",
        "skills_csv.head()"
      ]
    },
    {
      "cell_type": "code",
      "execution_count": null,
      "metadata": {},
      "outputs": [],
      "source": [
        "skills_csv['skills'] = skills_csv['skills'].str.split(', ')\n",
        "skills_csv.head()"
      ]
    },
    {
      "cell_type": "markdown",
      "metadata": {},
      "source": [
        "### Schema"
      ]
    },
    {
      "cell_type": "code",
      "execution_count": null,
      "metadata": {
        "id": "cdTfdAyV2ZaR"
      },
      "outputs": [],
      "source": [
        "schema_statements = [\n",
        "    'create constraint if not exists for (n:Person) require (n.email) is node key',\n",
        "    'create constraint if not exists for (n:Skill) require (n.name) is node key',\n",
        "]\n",
        "for statement in schema_statements:\n",
        "    driver.execute_query(\n",
        "        statement,\n",
        "        database_=database,\n",
        "        routing_=RoutingControl.WRITE\n",
        "    )\n",
        "\n",
        "# Fetch all constraints\n",
        "schema_result_df  = driver.execute_query(\n",
        "    'show constraints',\n",
        "    database_=database,\n",
        "    routing_=RoutingControl.READ,\n",
        "    result_transformer_= lambda r: r.to_df()\n",
        ")\n",
        "schema_result_df.head(100)\n"
      ]
    },
    {
      "cell_type": "code",
      "execution_count": null,
      "metadata": {
        "id": "uduojIopm0qV"
      },
      "outputs": [],
      "source": [
        "# Create a graph for (:Person)-[:KNOWS]->(:Skill)\n",
        "for chunk in split_dataframe(skills_csv):\n",
        "    records, summary, keys = driver.execute_query(\n",
        "        ''' \n",
        "            unwind $rows as row\n",
        "            merge (p:Person{email:row.email})\n",
        "            set p.name = row.name\n",
        "            with p, row\n",
        "            foreach(skill in row.skills | merge (s:Skill{name:skill}) merge (p)-[:KNOWS]->(s) )\n",
        "            return count(*) as rows_processed\n",
        "        ''',\n",
        "        database_=database,\n",
        "        routing_=RoutingControl.WRITE,\n",
        "        rows = chunk.to_dict('records')\n",
        "    )"
      ]
    },
    {
      "cell_type": "markdown",
      "metadata": {
        "id": "rZo7Gln2jJcF"
      },
      "source": [
        "# Basic navigation of graph with cypher"
      ]
    },
    {
      "cell_type": "code",
      "execution_count": null,
      "metadata": {
        "id": "70-xbOfgjQsY"
      },
      "outputs": [],
      "source": [
        "# What persons are in the database?\n",
        "driver.execute_query(\n",
        "    ''' \n",
        "    match (p:Person)\n",
        "    return p.name as person_name\n",
        "    ''',\n",
        "    database_=database,\n",
        "    routing_=RoutingControl.READ,\n",
        "    result_transformer_= lambda r: r.to_df()\n",
        ").head()"
      ]
    },
    {
      "cell_type": "code",
      "execution_count": null,
      "metadata": {
        "id": "volCOjn_jjm3"
      },
      "outputs": [],
      "source": [
        "# What skills does each person know?\n",
        "driver.execute_query(\n",
        "    ''' \n",
        "    match (p:Person)-[:KNOWS]->(s:Skill)\n",
        "    return p.name as person_name,collect(s.name) as skills\n",
        "    ''',\n",
        "    database_=database,\n",
        "    routing_=RoutingControl.READ,\n",
        "    result_transformer_= lambda r: r.to_df()\n",
        ").head()"
      ]
    },
    {
      "cell_type": "code",
      "execution_count": null,
      "metadata": {
        "id": "2yddechtj2MB"
      },
      "outputs": [],
      "source": [
        "# What are the most frequent skills?\n",
        "driver.execute_query(\n",
        "    ''' \n",
        "    match (p:Person)-[:KNOWS]->(s:Skill)\n",
        "    return s.name, count(distinct p) as knownByCount order by knownByCount desc limit 10\n",
        "    ''',\n",
        "    database_=database,\n",
        "    routing_=RoutingControl.READ,\n",
        "    result_transformer_= lambda r: r.to_df()\n",
        ").head()"
      ]
    },
    {
      "cell_type": "markdown",
      "metadata": {
        "id": "kx1UHN87Kfup"
      },
      "source": [
        "# Node similarity"
      ]
    },
    {
      "cell_type": "markdown",
      "metadata": {
        "id": "kulQKQj63Zb_"
      },
      "source": [
        "Let's get this party started"
      ]
    },
    {
      "cell_type": "code",
      "execution_count": null,
      "metadata": {},
      "outputs": [],
      "source": [
        "gds = GraphDataScience(connectionUrl, auth=(username, password))\n",
        "gds.set_database(database)\n",
        "gds.version()"
      ]
    },
    {
      "cell_type": "code",
      "execution_count": null,
      "metadata": {
        "id": "BDt3N5vPALJS"
      },
      "outputs": [],
      "source": [
        "G, res = gds.graph.project(\n",
        "    \"person_skills_projection\",  # Graph name\n",
        "    [\"Person\", \"Skill\"],         #  Node projection\n",
        "    [\"KNOWS\"]                    #  Relationship projection\n",
        ")\n"
      ]
    },
    {
      "cell_type": "code",
      "execution_count": null,
      "metadata": {
        "id": "7rBfNJ6A9m65"
      },
      "outputs": [],
      "source": [
        "res\n"
      ]
    },
    {
      "cell_type": "markdown",
      "metadata": {},
      "source": [
        "Documentation https://neo4j.com/docs/graph-data-science/current/algorithms/node-similarity/"
      ]
    },
    {
      "cell_type": "code",
      "execution_count": null,
      "metadata": {},
      "outputs": [],
      "source": [
        "gds.nodeSimilarity.stream(\n",
        "    G,\n",
        "    similarityMetric='OVERLAP',\n",
        "    topK=3\n",
        ")"
      ]
    },
    {
      "cell_type": "code",
      "execution_count": null,
      "metadata": {
        "id": "nNZByI7LGy_i"
      },
      "outputs": [],
      "source": [
        "gds.nodeSimilarity.write(\n",
        "    G,\n",
        "    similarityMetric='OVERLAP',\n",
        "    topK=3,\n",
        "    writeRelationshipType='SIMILAR_SKILLSET',\n",
        "    writeProperty='sim_score'\n",
        ")"
      ]
    },
    {
      "cell_type": "code",
      "execution_count": null,
      "metadata": {
        "id": "LRQGxT5RHctm"
      },
      "outputs": [],
      "source": [
        "# Drop the projection from the graph catalogue to free up resources\n",
        "G.drop()"
      ]
    },
    {
      "cell_type": "code",
      "execution_count": null,
      "metadata": {
        "id": "OW5uFvKnYnj7"
      },
      "outputs": [],
      "source": [
        "# Remove symetric relationships\n",
        "gds.run_cypher('''\n",
        "  match (a:Person)-[r:SIMILAR_SKILLSET]->(b:Person) \n",
        "    where (b)-[:SIMILAR_SKILLSET]->(a) \n",
        "    and   id(a)<id(b)\n",
        "  delete r\n",
        "''')\n"
      ]
    },
    {
      "cell_type": "markdown",
      "metadata": {
        "id": "jU696MRBKlne"
      },
      "source": [
        "# Semantic Similar skill"
      ]
    },
    {
      "cell_type": "code",
      "execution_count": null,
      "metadata": {},
      "outputs": [],
      "source": [
        "# Import langchain open ai\n",
        "from langchain_openai import OpenAIEmbeddings, ChatOpenAI\n",
        "from langchain_core.prompts import ChatPromptTemplate\n",
        "from langchain_core.output_parsers import StrOutputParser"
      ]
    },
    {
      "cell_type": "code",
      "execution_count": null,
      "metadata": {},
      "outputs": [],
      "source": [
        "skills_df = gds.run_cypher('''\n",
        "  match (s:Skill)\n",
        "  return s.name as skill\n",
        "''')\n",
        "skills_df.head()"
      ]
    },
    {
      "cell_type": "code",
      "execution_count": null,
      "metadata": {},
      "outputs": [],
      "source": [
        "# export OPENAI_API_KEY=\"your key\"\n",
        "embeddings = OpenAIEmbeddings(\n",
        "    deployment=\"your-embeddings-deployment-name\",\n",
        "    model='text-embedding-3-small', # 1536\n",
        "    #openai_api_base=\"https://your-endpoint.openai.azure.com/\",\n",
        "    #openai_api_type=\"azure\",\n",
        ")"
      ]
    },
    {
      "cell_type": "code",
      "execution_count": null,
      "metadata": {},
      "outputs": [],
      "source": [
        "skills_df['embedding'] = skills_df['skill'].apply( lambda skill: embeddings.embed_documents([skill])[0])"
      ]
    },
    {
      "cell_type": "code",
      "execution_count": null,
      "metadata": {},
      "outputs": [],
      "source": [
        "skills_df.head()"
      ]
    },
    {
      "cell_type": "code",
      "execution_count": null,
      "metadata": {},
      "outputs": [],
      "source": [
        "# Add embeddings to Skill nodes in database\n",
        "gds.run_cypher('''\n",
        "    unwind $data as row\n",
        "    match (s:Skill{name: row.skill})\n",
        "    set s.embedding = row.embedding                                                                             \n",
        "''',\n",
        "params = { 'data': skills_df.to_dict(orient='records') })"
      ]
    },
    {
      "cell_type": "code",
      "execution_count": null,
      "metadata": {},
      "outputs": [],
      "source": [
        "G, res = gds.graph.project(\n",
        "    'skill_embedding_projection', \n",
        "    {\n",
        "        'Skill': {\"properties\": 'embedding'},\n",
        "    },        \n",
        "    ['KNOWS']    # No rels will be projected, but we need to specify something here :)             \n",
        ")"
      ]
    },
    {
      "cell_type": "code",
      "execution_count": null,
      "metadata": {},
      "outputs": [],
      "source": [
        "res"
      ]
    },
    {
      "cell_type": "code",
      "execution_count": null,
      "metadata": {
        "id": "ZGwkZIuFQN-R"
      },
      "outputs": [],
      "source": [
        "# Run knn\n",
        "gds.knn.write(\n",
        "    G,\n",
        "    nodeLabels=['Skill'],\n",
        "    nodeProperties=['embedding'],\n",
        "    topK=3,\n",
        "    writeRelationshipType='SIMILAR_EMBEDDING',\n",
        "    writeProperty='sim_score'\n",
        ")"
      ]
    },
    {
      "cell_type": "code",
      "execution_count": null,
      "metadata": {
        "id": "ou3S9jeJMV0A"
      },
      "outputs": [],
      "source": [
        "# Drop the projection from the graph catalogue to free up resources\n",
        "G.drop()"
      ]
    },
    {
      "cell_type": "code",
      "execution_count": null,
      "metadata": {
        "id": "mixfOT5kMiMa"
      },
      "outputs": [],
      "source": [
        "# Again, let's remove symetric relationships\n",
        "gds.run_cypher(\"\"\"\n",
        "  match (a:Skill)-[r:SIMILAR_EMBEDDING]->(b:Skill) \n",
        "    where (b)-[:SIMILAR_EMBEDDING]->(a) \n",
        "    and   id(a)<id(b)\n",
        "  delete r\n",
        "\"\"\")"
      ]
    },
    {
      "cell_type": "code",
      "execution_count": null,
      "metadata": {
        "id": "Pk0MLczGSF4E"
      },
      "outputs": [],
      "source": [
        "# Let's review\n",
        "gds.run_cypher(\"\"\"\n",
        "  MATCH (s:Skill)-[r:SIMILAR_EMBEDDING]-(s2)\n",
        "  RETURN s.name as skill, \n",
        "         r.sim_score as score,\n",
        "         s2.name as to_skill\n",
        "  ORDER by skill, to_skill, score\n",
        "\"\"\").head(30)"
      ]
    },
    {
      "cell_type": "code",
      "execution_count": null,
      "metadata": {
        "id": "RNdzni6-SvC0"
      },
      "outputs": [],
      "source": []
    }
  ],
  "metadata": {
    "colab": {
      "provenance": [],
      "toc_visible": true
    },
    "kernelspec": {
      "display_name": "Python 3",
      "name": "python3"
    },
    "language_info": {
      "codemirror_mode": {
        "name": "ipython",
        "version": 3
      },
      "file_extension": ".py",
      "mimetype": "text/x-python",
      "name": "python",
      "nbconvert_exporter": "python",
      "pygments_lexer": "ipython3",
      "version": "3.9.16"
    }
  },
  "nbformat": 4,
  "nbformat_minor": 0
}
