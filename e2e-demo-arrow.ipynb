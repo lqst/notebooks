{
 "cells": [
  {
   "cell_type": "code",
   "execution_count": 2,
   "metadata": {},
   "outputs": [],
   "source": [
    "\n",
    "DB_ULR = \"neo4j://localhost:7687\"\n",
    "DB_USER = \"neo4j\"\n",
    "DB_PASS = \"test1234\"\n",
    "DB_NAME = \"demo2\""
   ]
  },
  {
   "cell_type": "markdown",
   "metadata": {},
   "source": [
    "# Create driver\n",
    "Also set the DB_NAME\n",
    "\n",
    "Hint: Use conda if you get  No module named 'pyarrow._flight' on Apple Silicon"
   ]
  },
  {
   "cell_type": "code",
   "execution_count": 3,
   "metadata": {},
   "outputs": [],
   "source": [
    "import os\n",
    "import pandas as pd\n",
    "import numpy as np\n",
    "import plotly.graph_objects as go\n",
    "from neo4j import GraphDatabase # Python database driver\n",
    "import pyarrow\n",
    "import pyarrow.flight\n",
    "from graphdatascience import GraphDataScience # Python GDS client\n",
    "\n",
    "# And some cermony to create the driver and gds objects\n",
    "driver = GraphDatabase.driver(DB_ULR, auth=(DB_USER, DB_PASS))\n",
    "gds = GraphDataScience(DB_ULR, auth=(DB_USER, DB_PASS))\n",
    "gds.set_database(DB_NAME)"
   ]
  },
  {
   "cell_type": "code",
   "execution_count": 5,
   "metadata": {},
   "outputs": [],
   "source": [
    "# Prepare databases needed\n",
    "# Our target database sould be removed\n",
    "with driver.session(database = \"system\") as session:\n",
    "    result = session.execute_write( lambda tx: \n",
    "        tx.run(\n",
    "            \"DROP DATABASE {dbname} IF EXISTS\".format(dbname = DB_NAME)\n",
    "        ).data()\n",
    "    )"
   ]
  },
  {
   "cell_type": "code",
   "execution_count": 6,
   "metadata": {},
   "outputs": [],
   "source": [
    "# We need one database during the import (just so we can reference the projection in the graph catalogue)\n",
    "with driver.session(database = \"system\") as session:\n",
    "    result = session.execute_write( lambda tx: \n",
    "        tx.run(\n",
    "            \"CREATE DATABASE neo4j IF NOT EXISTS\"\n",
    "        ).data()\n",
    "    )"
   ]
  },
  {
   "cell_type": "code",
   "execution_count": 7,
   "metadata": {},
   "outputs": [],
   "source": [
    "# Check if apache arrow is enabled (if not, add gds.arrow.enabled=true to neo4j.conf)\n",
    "gds.set_database(\"neo4j\")\n",
    "arrow_running = gds.run_cypher(\"call gds.debug.arrow() yield running return running\")\n",
    "assert arrow_running[\"running\"][0] == True, \"Arrow not running\"\n"
   ]
  },
  {
   "cell_type": "markdown",
   "metadata": {},
   "source": [
    "#  Load data"
   ]
  },
  {
   "cell_type": "code",
   "execution_count": 8,
   "metadata": {},
   "outputs": [
    {
     "name": "stdout",
     "output_type": "stream",
     "text": [
      "             timestamp  visitorid event  itemid  transactionid\n",
      "0        1433221332117     257597  view  355908            NaN\n",
      "1        1433224214164     992329  view  248676            NaN\n",
      "2        1433221999827     111016  view  318965            NaN\n",
      "3        1433221955914     483717  view  253185            NaN\n",
      "4        1433221337106     951259  view  367447            NaN\n",
      "...                ...        ...   ...     ...            ...\n",
      "2756096  1438398785939     591435  view  261427            NaN\n",
      "2756097  1438399813142     762376  view  115946            NaN\n",
      "2756098  1438397820527    1251746  view   78144            NaN\n",
      "2756099  1438398530703    1184451  view  283392            NaN\n",
      "2756100  1438400163914     199536  view  152913            NaN\n",
      "\n",
      "[2756101 rows x 5 columns]\n"
     ]
    }
   ],
   "source": [
    "# Read csv file\n",
    "# Source https://www.kaggle.com/retailrocket/ecommerce-dataset?select=events.csv\n",
    "csv = pd.read_csv('/Users/haklof/datasets/events.csv')\n",
    "print(csv)"
   ]
  },
  {
   "cell_type": "markdown",
   "metadata": {},
   "source": [
    "# Construct graph using Apache Arrow"
   ]
  },
  {
   "cell_type": "code",
   "execution_count": 9,
   "metadata": {},
   "outputs": [
    {
     "name": "stdout",
     "output_type": "stream",
     "text": [
      "0           257597\n",
      "1           992329\n",
      "2           111016\n",
      "3           483717\n",
      "4           951259\n",
      "            ...   \n",
      "2756083    1392454\n",
      "2756093     226214\n",
      "2756096     591435\n",
      "2756097     762376\n",
      "2756099    1184451\n",
      "Name: visitorid, Length: 1407580, dtype: int64\n"
     ]
    }
   ],
   "source": [
    "# Select all unique visitors\n",
    "visitors = csv['visitorid'].drop_duplicates().dropna()\n",
    "print(visitors)"
   ]
  },
  {
   "cell_type": "code",
   "execution_count": 10,
   "metadata": {},
   "outputs": [
    {
     "name": "stdout",
     "output_type": "stream",
     "text": [
      "0          355908\n",
      "1          248676\n",
      "2          318965\n",
      "3          253185\n",
      "4          367447\n",
      "            ...  \n",
      "2756002     19206\n",
      "2756039    172413\n",
      "2756042       613\n",
      "2756060     52086\n",
      "2756062    177353\n",
      "Name: itemid, Length: 235061, dtype: int64\n"
     ]
    }
   ],
   "source": [
    "# Select all unique Items\n",
    "items = csv['itemid'].drop_duplicates().dropna()\n",
    "print(items)"
   ]
  },
  {
   "cell_type": "code",
   "execution_count": 11,
   "metadata": {},
   "outputs": [
    {
     "name": "stdout",
     "output_type": "stream",
     "text": [
      "         visitorid  itemid      timestamp\n",
      "0           257597  355908  1433221332117\n",
      "1           992329  248676  1433224214164\n",
      "2           111016  318965  1433221999827\n",
      "3           483717  253185  1433221955914\n",
      "4           951259  367447  1433221337106\n",
      "...            ...     ...            ...\n",
      "2756096     591435  261427  1438398785939\n",
      "2756097     762376  115946  1438399813142\n",
      "2756098    1251746   78144  1438397820527\n",
      "2756099    1184451  283392  1438398530703\n",
      "2756100     199536  152913  1438400163914\n",
      "\n",
      "[2664312 rows x 3 columns]\n"
     ]
    }
   ],
   "source": [
    "# Select all VIEWD relationships\n",
    "viewed = csv[csv['event'] == 'view'][['visitorid','itemid', 'timestamp']]\n",
    "print(viewed)"
   ]
  },
  {
   "cell_type": "code",
   "execution_count": 12,
   "metadata": {},
   "outputs": [
    {
     "name": "stdout",
     "output_type": "stream",
     "text": [
      "         visitorid  itemid      timestamp\n",
      "17          287857    5206  1433223236124\n",
      "19          158090   10572  1433221078505\n",
      "63         1193904  255275  1433223543021\n",
      "112         599528  356475  1433221941632\n",
      "179         105775  312728  1433220880956\n",
      "...            ...     ...            ...\n",
      "2755956     831605   57810  1438400400805\n",
      "2756056      10670  419736  1438398156086\n",
      "2756074     144106  141241  1438400994744\n",
      "2756078     804736  447661  1438399807937\n",
      "2756090     804736  346534  1438399811281\n",
      "\n",
      "[69332 rows x 3 columns]\n"
     ]
    }
   ],
   "source": [
    "# Select all ADDED relationships\n",
    "added = csv[csv['event'] == 'addtocart'][['visitorid','itemid', 'timestamp']]\n",
    "print(added)"
   ]
  },
  {
   "cell_type": "code",
   "execution_count": 13,
   "metadata": {},
   "outputs": [
    {
     "name": "stdout",
     "output_type": "stream",
     "text": [
      "         visitorid  itemid      timestamp  transactionid\n",
      "130         599528  356475  1433222276276           4000\n",
      "304         121688   15335  1433193500981          11117\n",
      "418         552148   81345  1433193915008           5444\n",
      "814         102019  150318  1433176736375          13556\n",
      "843         189384  310791  1433174518180           7244\n",
      "...            ...     ...            ...            ...\n",
      "2755294    1050575   31640  1438377176570           8354\n",
      "2755349     861299  456602  1438379878779           3643\n",
      "2755508     855941  235771  1438357730123           4385\n",
      "2755603     548772   29167  1438355560300          13872\n",
      "2755607    1051054  312728  1438358989163          17579\n",
      "\n",
      "[22457 rows x 4 columns]\n"
     ]
    }
   ],
   "source": [
    "# Select all BOUGHT relationships\n",
    "bought = csv[csv['event'] == 'transaction'][['visitorid','itemid', 'timestamp', 'transactionid']]\n",
    "bought.transactionid = bought.transactionid.astype(int)\n",
    "print(bought)"
   ]
  },
  {
   "cell_type": "code",
   "execution_count": 14,
   "metadata": {},
   "outputs": [
    {
     "data": {
      "text/html": [
       "<div>\n",
       "<style scoped>\n",
       "    .dataframe tbody tr th:only-of-type {\n",
       "        vertical-align: middle;\n",
       "    }\n",
       "\n",
       "    .dataframe tbody tr th {\n",
       "        vertical-align: top;\n",
       "    }\n",
       "\n",
       "    .dataframe thead th {\n",
       "        text-align: right;\n",
       "    }\n",
       "</style>\n",
       "<table border=\"1\" class=\"dataframe\">\n",
       "  <thead>\n",
       "    <tr style=\"text-align: right;\">\n",
       "      <th></th>\n",
       "      <th>index</th>\n",
       "      <th>id</th>\n",
       "      <th>labels</th>\n",
       "    </tr>\n",
       "  </thead>\n",
       "  <tbody>\n",
       "    <tr>\n",
       "      <th>0</th>\n",
       "      <td>0</td>\n",
       "      <td>257597</td>\n",
       "      <td>Visitor</td>\n",
       "    </tr>\n",
       "    <tr>\n",
       "      <th>1</th>\n",
       "      <td>1</td>\n",
       "      <td>992329</td>\n",
       "      <td>Visitor</td>\n",
       "    </tr>\n",
       "    <tr>\n",
       "      <th>2</th>\n",
       "      <td>2</td>\n",
       "      <td>111016</td>\n",
       "      <td>Visitor</td>\n",
       "    </tr>\n",
       "    <tr>\n",
       "      <th>3</th>\n",
       "      <td>3</td>\n",
       "      <td>483717</td>\n",
       "      <td>Visitor</td>\n",
       "    </tr>\n",
       "    <tr>\n",
       "      <th>4</th>\n",
       "      <td>4</td>\n",
       "      <td>951259</td>\n",
       "      <td>Visitor</td>\n",
       "    </tr>\n",
       "  </tbody>\n",
       "</table>\n",
       "</div>"
      ],
      "text/plain": [
       "   index      id   labels\n",
       "0      0  257597  Visitor\n",
       "1      1  992329  Visitor\n",
       "2      2  111016  Visitor\n",
       "3      3  483717  Visitor\n",
       "4      4  951259  Visitor"
      ]
     },
     "execution_count": 14,
     "metadata": {},
     "output_type": "execute_result"
    }
   ],
   "source": [
    "nodes_id = pd.DataFrame(\n",
    "     {\n",
    "        \"id\": visitors.tolist() + items.tolist(),\n",
    "        \"labels\": ['Visitor'] * visitors.shape[0] + ['Item'] * items.shape[0]\n",
    "     }\n",
    ").reset_index()\n",
    "nodes_id.head()"
   ]
  },
  {
   "cell_type": "code",
   "execution_count": 15,
   "metadata": {},
   "outputs": [
    {
     "data": {
      "text/html": [
       "<div>\n",
       "<style scoped>\n",
       "    .dataframe tbody tr th:only-of-type {\n",
       "        vertical-align: middle;\n",
       "    }\n",
       "\n",
       "    .dataframe tbody tr th {\n",
       "        vertical-align: top;\n",
       "    }\n",
       "\n",
       "    .dataframe thead th {\n",
       "        text-align: right;\n",
       "    }\n",
       "</style>\n",
       "<table border=\"1\" class=\"dataframe\">\n",
       "  <thead>\n",
       "    <tr style=\"text-align: right;\">\n",
       "      <th></th>\n",
       "      <th>nodeId</th>\n",
       "      <th>labels</th>\n",
       "      <th>id</th>\n",
       "    </tr>\n",
       "  </thead>\n",
       "  <tbody>\n",
       "    <tr>\n",
       "      <th>0</th>\n",
       "      <td>0</td>\n",
       "      <td>Visitor</td>\n",
       "      <td>257597</td>\n",
       "    </tr>\n",
       "    <tr>\n",
       "      <th>1</th>\n",
       "      <td>1</td>\n",
       "      <td>Visitor</td>\n",
       "      <td>992329</td>\n",
       "    </tr>\n",
       "    <tr>\n",
       "      <th>2</th>\n",
       "      <td>2</td>\n",
       "      <td>Visitor</td>\n",
       "      <td>111016</td>\n",
       "    </tr>\n",
       "    <tr>\n",
       "      <th>3</th>\n",
       "      <td>3</td>\n",
       "      <td>Visitor</td>\n",
       "      <td>483717</td>\n",
       "    </tr>\n",
       "    <tr>\n",
       "      <th>4</th>\n",
       "      <td>4</td>\n",
       "      <td>Visitor</td>\n",
       "      <td>951259</td>\n",
       "    </tr>\n",
       "  </tbody>\n",
       "</table>\n",
       "</div>"
      ],
      "text/plain": [
       "   nodeId   labels      id\n",
       "0       0  Visitor  257597\n",
       "1       1  Visitor  992329\n",
       "2       2  Visitor  111016\n",
       "3       3  Visitor  483717\n",
       "4       4  Visitor  951259"
      ]
     },
     "execution_count": 15,
     "metadata": {},
     "output_type": "execute_result"
    }
   ],
   "source": [
    "# Nodes DataFrame\n",
    "nodes = pd.DataFrame(\n",
    "    {\n",
    "        \"nodeId\": nodes_id[\"index\"].tolist(),\n",
    "        \"labels\": nodes_id[\"labels\"].tolist(),\n",
    "        \"id\": nodes_id[\"id\"].tolist()\n",
    "    }\n",
    ")\n",
    "nodes.head()"
   ]
  },
  {
   "cell_type": "code",
   "execution_count": 16,
   "metadata": {},
   "outputs": [],
   "source": [
    "# Relationships DataFrame\n",
    "relationships = pd.DataFrame(\n",
    "    {\n",
    "        \"sourceNodeId\": \n",
    "            viewed.merge(nodes_id[nodes_id['labels'] == \"Visitor\" ], left_on=\"visitorid\", right_on=\"id\")[\"index\"].to_list()\n",
    "             + added.merge(nodes_id[nodes_id['labels'] == \"Visitor\" ], left_on=\"visitorid\", right_on=\"id\")[\"index\"].to_list()\n",
    "             + bought.merge(nodes_id[nodes_id['labels'] == \"Visitor\" ], left_on=\"visitorid\", right_on=\"id\")[\"index\"].to_list(),\n",
    "        \"targetNodeId\": \n",
    "            viewed.merge(nodes_id[nodes_id['labels'] == \"Item\" ], left_on=\"itemid\", right_on=\"id\")[\"index\"].to_list()\n",
    "             + added.merge(nodes_id[nodes_id['labels'] == \"Item\" ], left_on=\"itemid\", right_on=\"id\")[\"index\"].to_list()\n",
    "             + bought.merge(nodes_id[nodes_id['labels'] == \"Item\" ], left_on=\"itemid\", right_on=\"id\")[\"index\"].to_list(), \n",
    "        \"relationshipType\": ['VIEWED']*viewed.shape[0] + ['ADDED']*added.shape[0] + ['BOUGHT']*bought.shape[0],\n",
    "        \"timestamp\": viewed['timestamp'].to_list() + added['timestamp'].to_list() + bought['timestamp'].to_list(),\n",
    "        \"transactionid\": [0]*viewed.shape[0] + [0]*added.shape[0] + bought['transactionid'].to_list()\n",
    "    }\n",
    ")"
   ]
  },
  {
   "cell_type": "code",
   "execution_count": 18,
   "metadata": {},
   "outputs": [
    {
     "data": {
      "text/html": [
       "<div>\n",
       "<style scoped>\n",
       "    .dataframe tbody tr th:only-of-type {\n",
       "        vertical-align: middle;\n",
       "    }\n",
       "\n",
       "    .dataframe tbody tr th {\n",
       "        vertical-align: top;\n",
       "    }\n",
       "\n",
       "    .dataframe thead th {\n",
       "        text-align: right;\n",
       "    }\n",
       "</style>\n",
       "<table border=\"1\" class=\"dataframe\">\n",
       "  <thead>\n",
       "    <tr style=\"text-align: right;\">\n",
       "      <th></th>\n",
       "      <th>sourceNodeId</th>\n",
       "      <th>targetNodeId</th>\n",
       "      <th>relationshipType</th>\n",
       "      <th>timestamp</th>\n",
       "      <th>transactionid</th>\n",
       "    </tr>\n",
       "  </thead>\n",
       "  <tbody>\n",
       "    <tr>\n",
       "      <th>0</th>\n",
       "      <td>0</td>\n",
       "      <td>1407580</td>\n",
       "      <td>VIEWED</td>\n",
       "      <td>1433221332117</td>\n",
       "      <td>0</td>\n",
       "    </tr>\n",
       "    <tr>\n",
       "      <th>1</th>\n",
       "      <td>0</td>\n",
       "      <td>1407580</td>\n",
       "      <td>VIEWED</td>\n",
       "      <td>1433224214164</td>\n",
       "      <td>0</td>\n",
       "    </tr>\n",
       "    <tr>\n",
       "      <th>2</th>\n",
       "      <td>1</td>\n",
       "      <td>1407580</td>\n",
       "      <td>VIEWED</td>\n",
       "      <td>1433221999827</td>\n",
       "      <td>0</td>\n",
       "    </tr>\n",
       "    <tr>\n",
       "      <th>3</th>\n",
       "      <td>1</td>\n",
       "      <td>1407580</td>\n",
       "      <td>VIEWED</td>\n",
       "      <td>1433221955914</td>\n",
       "      <td>0</td>\n",
       "    </tr>\n",
       "    <tr>\n",
       "      <th>4</th>\n",
       "      <td>1</td>\n",
       "      <td>1407580</td>\n",
       "      <td>VIEWED</td>\n",
       "      <td>1433221337106</td>\n",
       "      <td>0</td>\n",
       "    </tr>\n",
       "  </tbody>\n",
       "</table>\n",
       "</div>"
      ],
      "text/plain": [
       "   sourceNodeId  targetNodeId relationshipType      timestamp  transactionid\n",
       "0             0       1407580           VIEWED  1433221332117              0\n",
       "1             0       1407580           VIEWED  1433224214164              0\n",
       "2             1       1407580           VIEWED  1433221999827              0\n",
       "3             1       1407580           VIEWED  1433221955914              0\n",
       "4             1       1407580           VIEWED  1433221337106              0"
      ]
     },
     "execution_count": 18,
     "metadata": {},
     "output_type": "execute_result"
    }
   ],
   "source": [
    "relationships.head()"
   ]
  },
  {
   "cell_type": "code",
   "execution_count": 17,
   "metadata": {},
   "outputs": [
    {
     "name": "stderr",
     "output_type": "stream",
     "text": [
      "WARNING: Logging before InitGoogleLogging() is written to STDERR\n",
      "W20230307 10:21:27.993592 9940094 status.cc:137] DoAction result was not fully consumed: Cancelled: Flight cancelled call, with message: CANCELLED. Detail: Cancelled\n",
      "W20230307 10:21:28.754236 9940094 status.cc:137] DoAction result was not fully consumed: Cancelled: Flight cancelled call, with message: CANCELLED. Detail: Cancelled\n",
      "W20230307 10:21:29.517248 9940094 status.cc:137] DoAction result was not fully consumed: Cancelled: Flight cancelled call, with message: CANCELLED. Detail: Cancelled\n"
     ]
    }
   ],
   "source": [
    "# Construct the graph\n",
    "gds.set_database(\"neo4j\")\n",
    "G = gds.alpha.graph.construct(\n",
    "    'items_raw',\n",
    "    nodes,\n",
    "    relationships\n",
    ")"
   ]
  },
  {
   "cell_type": "code",
   "execution_count": 19,
   "metadata": {},
   "outputs": [
    {
     "ename": "ClientError",
     "evalue": "{code: Neo.ClientError.Procedure.ProcedureCallFailed} {message: Failed to invoke procedure `gds.graph.export`: Caused by: java.lang.IllegalStateException: No more pending subtasks}",
     "output_type": "error",
     "traceback": [
      "\u001b[0;31m---------------------------------------------------------------------------\u001b[0m",
      "\u001b[0;31mClientError\u001b[0m                               Traceback (most recent call last)",
      "\u001b[1;32m/Users/haklof/projects/public/notebooks/e2e-demo-arrow.ipynb Cell 20\u001b[0m in \u001b[0;36m<cell line: 4>\u001b[0;34m()\u001b[0m\n\u001b[1;32m      <a href='vscode-notebook-cell:/Users/haklof/projects/public/notebooks/e2e-demo-arrow.ipynb#X24sZmlsZQ%3D%3D?line=1'>2</a>\u001b[0m gds\u001b[39m.\u001b[39mset_database(\u001b[39m\"\u001b[39m\u001b[39mneo4j\u001b[39m\u001b[39m\"\u001b[39m)\n\u001b[1;32m      <a href='vscode-notebook-cell:/Users/haklof/projects/public/notebooks/e2e-demo-arrow.ipynb#X24sZmlsZQ%3D%3D?line=2'>3</a>\u001b[0m G \u001b[39m=\u001b[39m gds\u001b[39m.\u001b[39mgraph\u001b[39m.\u001b[39mget(\u001b[39m'\u001b[39m\u001b[39mitems_raw\u001b[39m\u001b[39m'\u001b[39m)\n\u001b[0;32m----> <a href='vscode-notebook-cell:/Users/haklof/projects/public/notebooks/e2e-demo-arrow.ipynb#X24sZmlsZQ%3D%3D?line=3'>4</a>\u001b[0m gds\u001b[39m.\u001b[39;49mgraph\u001b[39m.\u001b[39;49mexport(G, dbName\u001b[39m=\u001b[39;49mDB_NAME)\n",
      "File \u001b[0;32m/opt/homebrew/Caskroom/miniforge/base/envs/notebooks/lib/python3.9/site-packages/graphdatascience/graph/graph_export_runner.py:32\u001b[0m, in \u001b[0;36mGraphExportRunner.__call__\u001b[0;34m(self, G, **config)\u001b[0m\n\u001b[1;32m     31\u001b[0m \u001b[39mdef\u001b[39;00m \u001b[39m__call__\u001b[39m(\u001b[39mself\u001b[39m, G: Graph, \u001b[39m*\u001b[39m\u001b[39m*\u001b[39mconfig: Any) \u001b[39m-\u001b[39m\u001b[39m>\u001b[39m \u001b[39m\"\u001b[39m\u001b[39mSeries[Any]\u001b[39m\u001b[39m\"\u001b[39m:\n\u001b[0;32m---> 32\u001b[0m     \u001b[39mreturn\u001b[39;00m \u001b[39mself\u001b[39;49m\u001b[39m.\u001b[39;49m_export_call(G, config)\n",
      "File \u001b[0;32m/opt/homebrew/Caskroom/miniforge/base/envs/notebooks/lib/python3.9/site-packages/graphdatascience/graph/graph_type_check.py:18\u001b[0m, in \u001b[0;36mgraph_type_check.<locals>.wrapper\u001b[0;34m(self, G, *args, **kwargs)\u001b[0m\n\u001b[1;32m     12\u001b[0m \u001b[39mif\u001b[39;00m \u001b[39misinstance\u001b[39m(G, \u001b[39mstr\u001b[39m):\n\u001b[1;32m     13\u001b[0m     \u001b[39mraise\u001b[39;00m \u001b[39mTypeError\u001b[39;00m(\n\u001b[1;32m     14\u001b[0m         \u001b[39mf\u001b[39m\u001b[39m\"\u001b[39m\u001b[39mThe parameter \u001b[39m\u001b[39m'\u001b[39m\u001b[39mG\u001b[39m\u001b[39m'\u001b[39m\u001b[39m takes a `Graph` object, but received string \u001b[39m\u001b[39m'\u001b[39m\u001b[39m{\u001b[39;00mG\u001b[39m}\u001b[39;00m\u001b[39m'\u001b[39m\u001b[39m. \u001b[39m\u001b[39m\"\u001b[39m\n\u001b[1;32m     15\u001b[0m         \u001b[39m\"\u001b[39m\u001b[39mTo resolve a graph name string into a `Graph` object, please use `gds.graph.get`\u001b[39m\u001b[39m\"\u001b[39m\n\u001b[1;32m     16\u001b[0m     )\n\u001b[0;32m---> 18\u001b[0m \u001b[39mreturn\u001b[39;00m func(\u001b[39mself\u001b[39;49m, G, \u001b[39m*\u001b[39;49margs, \u001b[39m*\u001b[39;49m\u001b[39m*\u001b[39;49mkwargs)\n",
      "File \u001b[0;32m/opt/homebrew/Caskroom/miniforge/base/envs/notebooks/lib/python3.9/site-packages/graphdatascience/graph/graph_export_runner.py:39\u001b[0m, in \u001b[0;36mGraphExportRunner._export_call\u001b[0;34m(self, G, config)\u001b[0m\n\u001b[1;32m     36\u001b[0m query \u001b[39m=\u001b[39m \u001b[39mf\u001b[39m\u001b[39m\"\u001b[39m\u001b[39mCALL \u001b[39m\u001b[39m{\u001b[39;00m\u001b[39mself\u001b[39m\u001b[39m.\u001b[39m_namespace\u001b[39m}\u001b[39;00m\u001b[39m($graph_name, $config)\u001b[39m\u001b[39m\"\u001b[39m\n\u001b[1;32m     37\u001b[0m params \u001b[39m=\u001b[39m {\u001b[39m\"\u001b[39m\u001b[39mgraph_name\u001b[39m\u001b[39m\"\u001b[39m: G\u001b[39m.\u001b[39mname(), \u001b[39m\"\u001b[39m\u001b[39mconfig\u001b[39m\u001b[39m\"\u001b[39m: config}\n\u001b[0;32m---> 39\u001b[0m \u001b[39mreturn\u001b[39;00m \u001b[39mself\u001b[39;49m\u001b[39m.\u001b[39;49m_query_runner\u001b[39m.\u001b[39;49mrun_query(query, params)\u001b[39m.\u001b[39msqueeze()\n",
      "File \u001b[0;32m/opt/homebrew/Caskroom/miniforge/base/envs/notebooks/lib/python3.9/site-packages/graphdatascience/query_runner/arrow_query_runner.py:129\u001b[0m, in \u001b[0;36mArrowQueryRunner.run_query\u001b[0;34m(self, query, params, database)\u001b[0m\n\u001b[1;32m    125\u001b[0m         endpoint \u001b[39m=\u001b[39m \u001b[39m\"\u001b[39m\u001b[39mgds.beta.graph.relationships.stream\u001b[39m\u001b[39m\"\u001b[39m\n\u001b[1;32m    127\u001b[0m     \u001b[39mreturn\u001b[39;00m \u001b[39mself\u001b[39m\u001b[39m.\u001b[39m_run_arrow_property_get(graph_name, endpoint, {\u001b[39m\"\u001b[39m\u001b[39mrelationship_types\u001b[39m\u001b[39m\"\u001b[39m: relationship_types})\n\u001b[0;32m--> 129\u001b[0m \u001b[39mreturn\u001b[39;00m \u001b[39mself\u001b[39;49m\u001b[39m.\u001b[39;49m_fallback_query_runner\u001b[39m.\u001b[39;49mrun_query(query, params, database)\n",
      "File \u001b[0;32m/opt/homebrew/Caskroom/miniforge/base/envs/notebooks/lib/python3.9/site-packages/graphdatascience/query_runner/neo4j_query_runner.py:58\u001b[0m, in \u001b[0;36mNeo4jQueryRunner.run_query\u001b[0;34m(self, query, params, database)\u001b[0m\n\u001b[1;32m     51\u001b[0m \u001b[39m# Though pandas support may be experimental in the `neo4j` package, it should always\u001b[39;00m\n\u001b[1;32m     52\u001b[0m \u001b[39m# be supported in the `graphdatascience` package.\u001b[39;00m\n\u001b[1;32m     53\u001b[0m warnings\u001b[39m.\u001b[39mfilterwarnings(\n\u001b[1;32m     54\u001b[0m     \u001b[39m\"\u001b[39m\u001b[39mignore\u001b[39m\u001b[39m\"\u001b[39m,\n\u001b[1;32m     55\u001b[0m     message\u001b[39m=\u001b[39m\u001b[39mr\u001b[39m\u001b[39m\"\u001b[39m\u001b[39m^pandas support is experimental and might be changed or removed in future versions$\u001b[39m\u001b[39m\"\u001b[39m,\n\u001b[1;32m     56\u001b[0m )\n\u001b[0;32m---> 58\u001b[0m \u001b[39mreturn\u001b[39;00m result\u001b[39m.\u001b[39;49mto_df()\n",
      "File \u001b[0;32m/opt/homebrew/Caskroom/miniforge/base/envs/notebooks/lib/python3.9/site-packages/neo4j/_sync/work/result.py:672\u001b[0m, in \u001b[0;36mResult.to_df\u001b[0;34m(self, expand, parse_dates)\u001b[0m\n\u001b[1;32m    669\u001b[0m \u001b[39mimport\u001b[39;00m \u001b[39mpandas\u001b[39;00m \u001b[39mas\u001b[39;00m \u001b[39mpd\u001b[39;00m  \u001b[39m# type: ignore[import]\u001b[39;00m\n\u001b[1;32m    671\u001b[0m \u001b[39mif\u001b[39;00m \u001b[39mnot\u001b[39;00m expand:\n\u001b[0;32m--> 672\u001b[0m     df \u001b[39m=\u001b[39m pd\u001b[39m.\u001b[39mDataFrame(\u001b[39mself\u001b[39;49m\u001b[39m.\u001b[39;49mvalues(), columns\u001b[39m=\u001b[39m\u001b[39mself\u001b[39m\u001b[39m.\u001b[39m_keys)\n\u001b[1;32m    673\u001b[0m \u001b[39melse\u001b[39;00m:\n\u001b[1;32m    674\u001b[0m     df_keys \u001b[39m=\u001b[39m \u001b[39mNone\u001b[39;00m\n",
      "File \u001b[0;32m/opt/homebrew/Caskroom/miniforge/base/envs/notebooks/lib/python3.9/site-packages/neo4j/_sync/work/result.py:558\u001b[0m, in \u001b[0;36mResult.values\u001b[0;34m(self, *keys)\u001b[0m\n\u001b[1;32m    540\u001b[0m \u001b[39mdef\u001b[39;00m \u001b[39mvalues\u001b[39m(\n\u001b[1;32m    541\u001b[0m     \u001b[39mself\u001b[39m, \u001b[39m*\u001b[39mkeys: _T_ResultKey\n\u001b[1;32m    542\u001b[0m ) \u001b[39m-\u001b[39m\u001b[39m>\u001b[39m t\u001b[39m.\u001b[39mList[t\u001b[39m.\u001b[39mList[t\u001b[39m.\u001b[39mAny]]:\n\u001b[1;32m    543\u001b[0m     \u001b[39m\"\"\"Helper function that return the remainder of the result as a list of values lists.\u001b[39;00m\n\u001b[1;32m    544\u001b[0m \n\u001b[1;32m    545\u001b[0m \u001b[39m    See :class:`neo4j.Record.values`\u001b[39;00m\n\u001b[0;32m   (...)\u001b[0m\n\u001b[1;32m    556\u001b[0m \u001b[39m        Can raise :exc:`ResultConsumedError`.\u001b[39;00m\n\u001b[1;32m    557\u001b[0m \u001b[39m    \"\"\"\u001b[39;00m\n\u001b[0;32m--> 558\u001b[0m     \u001b[39mreturn\u001b[39;00m [record\u001b[39m.\u001b[39mvalues(\u001b[39m*\u001b[39mkeys) \u001b[39mfor\u001b[39;00m record \u001b[39min\u001b[39;00m \u001b[39mself\u001b[39m]\n",
      "File \u001b[0;32m/opt/homebrew/Caskroom/miniforge/base/envs/notebooks/lib/python3.9/site-packages/neo4j/_sync/work/result.py:558\u001b[0m, in \u001b[0;36m<listcomp>\u001b[0;34m(.0)\u001b[0m\n\u001b[1;32m    540\u001b[0m \u001b[39mdef\u001b[39;00m \u001b[39mvalues\u001b[39m(\n\u001b[1;32m    541\u001b[0m     \u001b[39mself\u001b[39m, \u001b[39m*\u001b[39mkeys: _T_ResultKey\n\u001b[1;32m    542\u001b[0m ) \u001b[39m-\u001b[39m\u001b[39m>\u001b[39m t\u001b[39m.\u001b[39mList[t\u001b[39m.\u001b[39mList[t\u001b[39m.\u001b[39mAny]]:\n\u001b[1;32m    543\u001b[0m     \u001b[39m\"\"\"Helper function that return the remainder of the result as a list of values lists.\u001b[39;00m\n\u001b[1;32m    544\u001b[0m \n\u001b[1;32m    545\u001b[0m \u001b[39m    See :class:`neo4j.Record.values`\u001b[39;00m\n\u001b[0;32m   (...)\u001b[0m\n\u001b[1;32m    556\u001b[0m \u001b[39m        Can raise :exc:`ResultConsumedError`.\u001b[39;00m\n\u001b[1;32m    557\u001b[0m \u001b[39m    \"\"\"\u001b[39;00m\n\u001b[0;32m--> 558\u001b[0m     \u001b[39mreturn\u001b[39;00m [record\u001b[39m.\u001b[39mvalues(\u001b[39m*\u001b[39mkeys) \u001b[39mfor\u001b[39;00m record \u001b[39min\u001b[39;00m \u001b[39mself\u001b[39m]\n",
      "File \u001b[0;32m/opt/homebrew/Caskroom/miniforge/base/envs/notebooks/lib/python3.9/site-packages/neo4j/_sync/work/result.py:244\u001b[0m, in \u001b[0;36mResult.__iter__\u001b[0;34m(self)\u001b[0m\n\u001b[1;32m    242\u001b[0m     \u001b[39myield\u001b[39;00m \u001b[39mself\u001b[39m\u001b[39m.\u001b[39m_record_buffer\u001b[39m.\u001b[39mpopleft()\n\u001b[1;32m    243\u001b[0m \u001b[39melif\u001b[39;00m \u001b[39mself\u001b[39m\u001b[39m.\u001b[39m_streaming:\n\u001b[0;32m--> 244\u001b[0m     \u001b[39mself\u001b[39;49m\u001b[39m.\u001b[39;49m_connection\u001b[39m.\u001b[39;49mfetch_message()\n\u001b[1;32m    245\u001b[0m \u001b[39melif\u001b[39;00m \u001b[39mself\u001b[39m\u001b[39m.\u001b[39m_discarding:\n\u001b[1;32m    246\u001b[0m     \u001b[39mself\u001b[39m\u001b[39m.\u001b[39m_discard()\n",
      "File \u001b[0;32m/opt/homebrew/Caskroom/miniforge/base/envs/notebooks/lib/python3.9/site-packages/neo4j/_sync/io/_common.py:180\u001b[0m, in \u001b[0;36mConnectionErrorHandler.__getattr__.<locals>.outer.<locals>.inner\u001b[0;34m(*args, **kwargs)\u001b[0m\n\u001b[1;32m    178\u001b[0m \u001b[39mdef\u001b[39;00m \u001b[39minner\u001b[39m(\u001b[39m*\u001b[39margs, \u001b[39m*\u001b[39m\u001b[39m*\u001b[39mkwargs):\n\u001b[1;32m    179\u001b[0m     \u001b[39mtry\u001b[39;00m:\n\u001b[0;32m--> 180\u001b[0m         func(\u001b[39m*\u001b[39;49margs, \u001b[39m*\u001b[39;49m\u001b[39m*\u001b[39;49mkwargs)\n\u001b[1;32m    181\u001b[0m     \u001b[39mexcept\u001b[39;00m (Neo4jError, ServiceUnavailable, SessionExpired) \u001b[39mas\u001b[39;00m exc:\n\u001b[1;32m    182\u001b[0m         \u001b[39massert\u001b[39;00m \u001b[39mnot\u001b[39;00m asyncio\u001b[39m.\u001b[39miscoroutinefunction(\u001b[39mself\u001b[39m\u001b[39m.\u001b[39m__on_error)\n",
      "File \u001b[0;32m/opt/homebrew/Caskroom/miniforge/base/envs/notebooks/lib/python3.9/site-packages/neo4j/_sync/io/_bolt.py:655\u001b[0m, in \u001b[0;36mBolt.fetch_message\u001b[0;34m(self)\u001b[0m\n\u001b[1;32m    651\u001b[0m \u001b[39m# Receive exactly one message\u001b[39;00m\n\u001b[1;32m    652\u001b[0m tag, fields \u001b[39m=\u001b[39m \u001b[39mself\u001b[39m\u001b[39m.\u001b[39minbox\u001b[39m.\u001b[39mpop(\n\u001b[1;32m    653\u001b[0m     hydration_hooks\u001b[39m=\u001b[39m\u001b[39mself\u001b[39m\u001b[39m.\u001b[39mresponses[\u001b[39m0\u001b[39m]\u001b[39m.\u001b[39mhydration_hooks\n\u001b[1;32m    654\u001b[0m )\n\u001b[0;32m--> 655\u001b[0m res \u001b[39m=\u001b[39m \u001b[39mself\u001b[39;49m\u001b[39m.\u001b[39;49m_process_message(tag, fields)\n\u001b[1;32m    656\u001b[0m \u001b[39mself\u001b[39m\u001b[39m.\u001b[39midle_since \u001b[39m=\u001b[39m perf_counter()\n\u001b[1;32m    657\u001b[0m \u001b[39mreturn\u001b[39;00m res\n",
      "File \u001b[0;32m/opt/homebrew/Caskroom/miniforge/base/envs/notebooks/lib/python3.9/site-packages/neo4j/_sync/io/_bolt5.py:316\u001b[0m, in \u001b[0;36mBolt5x0._process_message\u001b[0;34m(self, tag, fields)\u001b[0m\n\u001b[1;32m    314\u001b[0m \u001b[39mself\u001b[39m\u001b[39m.\u001b[39m_server_state_manager\u001b[39m.\u001b[39mstate \u001b[39m=\u001b[39m ServerStates\u001b[39m.\u001b[39mFAILED\n\u001b[1;32m    315\u001b[0m \u001b[39mtry\u001b[39;00m:\n\u001b[0;32m--> 316\u001b[0m     response\u001b[39m.\u001b[39;49mon_failure(summary_metadata \u001b[39mor\u001b[39;49;00m {})\n\u001b[1;32m    317\u001b[0m \u001b[39mexcept\u001b[39;00m (ServiceUnavailable, DatabaseUnavailable):\n\u001b[1;32m    318\u001b[0m     \u001b[39mif\u001b[39;00m \u001b[39mself\u001b[39m\u001b[39m.\u001b[39mpool:\n",
      "File \u001b[0;32m/opt/homebrew/Caskroom/miniforge/base/envs/notebooks/lib/python3.9/site-packages/neo4j/_sync/io/_common.py:247\u001b[0m, in \u001b[0;36mResponse.on_failure\u001b[0;34m(self, metadata)\u001b[0m\n\u001b[1;32m    245\u001b[0m handler \u001b[39m=\u001b[39m \u001b[39mself\u001b[39m\u001b[39m.\u001b[39mhandlers\u001b[39m.\u001b[39mget(\u001b[39m\"\u001b[39m\u001b[39mon_summary\u001b[39m\u001b[39m\"\u001b[39m)\n\u001b[1;32m    246\u001b[0m Util\u001b[39m.\u001b[39mcallback(handler)\n\u001b[0;32m--> 247\u001b[0m \u001b[39mraise\u001b[39;00m Neo4jError\u001b[39m.\u001b[39mhydrate(\u001b[39m*\u001b[39m\u001b[39m*\u001b[39mmetadata)\n",
      "\u001b[0;31mClientError\u001b[0m: {code: Neo.ClientError.Procedure.ProcedureCallFailed} {message: Failed to invoke procedure `gds.graph.export`: Caused by: java.lang.IllegalStateException: No more pending subtasks}"
     ]
    }
   ],
   "source": [
    "# Persist graph into target database\n",
    "gds.set_database(\"neo4j\")\n",
    "G = gds.graph.get('items_raw')\n",
    "gds.graph.export(G, dbName=DB_NAME)"
   ]
  },
  {
   "cell_type": "code",
   "execution_count": 20,
   "metadata": {},
   "outputs": [
    {
     "name": "stderr",
     "output_type": "stream",
     "text": [
      "/var/folders/71/lgz4464j18s5g22_s_lm696m0000gn/T/ipykernel_17946/3663626952.py:3: DeprecationWarning: write_transaction has been renamed to execute_write\n",
      "  result = session.write_transaction( lambda tx:\n"
     ]
    }
   ],
   "source": [
    "# Create entry for the target database in the system database\n",
    "with driver.session(database = \"system\") as session:\n",
    "    result = session.write_transaction( lambda tx: \n",
    "        tx.run(\n",
    "            \"CREATE DATABASE {dbname}\".format(dbname = DB_NAME)\n",
    "        ).data()\n",
    "    )"
   ]
  },
  {
   "cell_type": "code",
   "execution_count": null,
   "metadata": {},
   "outputs": [],
   "source": [
    "gds.set_database(\"neo4j\")\n",
    "gds.graph.drop(G)"
   ]
  },
  {
   "cell_type": "code",
   "execution_count": null,
   "metadata": {},
   "outputs": [],
   "source": [
    "# Create indexes and constraints\n",
    "with driver.session(database = DB_NAME) as session:\n",
    "    session.write_transaction( lambda tx: \n",
    "        tx.run(\n",
    "            \"CREATE CONSTRAINT IF NOT EXISTS FOR (n:Visitor) REQUIRE (n.id) IS NODE KEY\"\n",
    "        ).consume()\n",
    "    )\n",
    "    session.write_transaction( lambda tx: \n",
    "        tx.run(\n",
    "            \"CREATE CONSTRAINT IF NOT EXISTS FOR (n:Item) REQUIRE (n.id) IS NODE KEY\"\n",
    "        ).consume()     \n",
    "    )"
   ]
  },
  {
   "cell_type": "markdown",
   "metadata": {},
   "source": [
    "# Some basic queries"
   ]
  },
  {
   "cell_type": "code",
   "execution_count": null,
   "metadata": {},
   "outputs": [],
   "source": [
    "# Top sellers\n",
    "with driver.session(database = DB_NAME) as session:\n",
    "    result = session.read_transaction( lambda tx: \n",
    "        tx.run(\n",
    "            \"\"\"\n",
    "            MATCH (i:Item)<-[:BOUGHT]-()\n",
    "            RETURN  i.id as itemid, \n",
    "                    count(*) as times_bought,\n",
    "                    size( (i:Item)<-[:ADDED]-() ) as times_added,\n",
    "                    size( (i:Item)<-[:VIEWED]-() ) as times_viewed\n",
    "            ORDER BY times_bought desc limit $limit\n",
    "            \"\"\",\n",
    "            limit = 10\n",
    "        ).data()\n",
    "    )\n",
    "    df = pd.DataFrame(result)\n",
    "    print(df)"
   ]
  },
  {
   "cell_type": "code",
   "execution_count": null,
   "metadata": {},
   "outputs": [],
   "source": [
    "# Collaberative filtering\n",
    "# Suggest what other Items Visitors buy for a Visitor veiwing an Item (where the Visitor has not added/bought the Item already)\n",
    "with driver.session(database = DB_NAME) as session:\n",
    "    result = session.read_transaction( lambda tx: \n",
    "        tx.run(\n",
    "            \"\"\"\n",
    "            MATCH (i:Item{id: $itemid})<-[:VIEWED]-(visitor)-[bought:BOUGHT]->(otherItem)\n",
    "            WHERE i <> otherItem\n",
    "            AND NOT (:Visitor{id: $visitorid})-[:BOUGHT|ADDED]->(otherItem)\n",
    "            RETURN  otherItem.id as product_bought, \n",
    "                    count(distinct bought) as times_bought\n",
    "            ORDER BY times_bought desc limit $limit\n",
    "            \"\"\",\n",
    "            limit = 10, itemid = 461686, visitorid=201110\n",
    "        ).data()\n",
    "    )\n",
    "    df = pd.DataFrame(result)\n",
    "    print(df)"
   ]
  },
  {
   "cell_type": "code",
   "execution_count": null,
   "metadata": {},
   "outputs": [],
   "source": [
    "# Collaberative filtering (alternative)\n",
    "# Suggest based on what other items that were checked out in same transaction\n",
    "with driver.session(database = DB_NAME) as session:\n",
    "    result = session.read_transaction( lambda tx: \n",
    "        tx.run(\n",
    "            \"\"\"\n",
    "            MATCH (i:Item{id: $itemid})<-[b1:BOUGHT]-(visitor)-[b2:BOUGHT]->(otherItem)\n",
    "            WHERE i <> otherItem\n",
    "            //AND b1.transactionid = b2.transactionid\n",
    "            AND NOT (:Visitor{id: $visitorid})-[:BOUGHT|ADDED]->(otherItem)\n",
    "            RETURN  otherItem.id as product_bought, \n",
    "                    count(distinct b1.transactionid) as times_bought_together\n",
    "            ORDER BY times_bought_together desc limit $limit\n",
    "            \"\"\",\n",
    "            limit = 10, itemid = 461686, visitorid=201110\n",
    "        ).data()\n",
    "    )\n",
    "    df = pd.DataFrame(result)\n",
    "    print(df)"
   ]
  },
  {
   "cell_type": "markdown",
   "metadata": {},
   "source": [
    "# Questions so far?"
   ]
  },
  {
   "cell_type": "markdown",
   "metadata": {},
   "source": [
    "# Graph data science"
   ]
  },
  {
   "cell_type": "code",
   "execution_count": null,
   "metadata": {},
   "outputs": [],
   "source": [
    "# Do we have any \"abnormal visitors\"\n",
    "with driver.session(database = DB_NAME) as session:\n",
    "    result = session.read_transaction( lambda tx: \n",
    "        tx.run(\n",
    "            \"\"\"\n",
    "            MATCH (v:Visitor)-[:VIEWED|ADDED|BOUGHT]->()\n",
    "            WITH v, \n",
    "                 count(*) as number_of_events\n",
    "            RETURN  max(number_of_events) as `max`,\n",
    "                    percentileCont(number_of_events, 0.999) as `p0.999`,\n",
    "                    percentileCont(number_of_events, 0.99) as `p0.99`,\n",
    "                    percentileCont(number_of_events, 0.9) as `p0.90`,\n",
    "                    percentileCont(number_of_events, 0.75) as `p0.75`,\n",
    "                    min(number_of_events) as `min`\n",
    "            \"\"\",\n",
    "            limit = 10\n",
    "        ).data()\n",
    "    )\n",
    "    df = pd.DataFrame(result)\n",
    "    print(df)"
   ]
  },
  {
   "cell_type": "code",
   "execution_count": null,
   "metadata": {},
   "outputs": [],
   "source": [
    "# Re-label abnormal visitors\n",
    "with driver.session(database = DB_NAME) as session:\n",
    "    result = session.write_transaction( lambda tx: \n",
    "        tx.run(\n",
    "            \"\"\"\n",
    "            MATCH (v:Visitor)-[:VIEWED|ADDED|BOUGHT]->()\n",
    "            WITH v, \n",
    "                 count(*) as number_of_events\n",
    "            WHERE number_of_events > 50\n",
    "            SET v:AbnormalVisitor\n",
    "            REMOVE v:Visitor\n",
    "            RETURN count(*) as number_of_abnormal_visitors\n",
    "            \"\"\",\n",
    "            limit = 10\n",
    "        ).data()\n",
    "    )\n",
    "    df = pd.DataFrame(result)\n",
    "    print(df)"
   ]
  },
  {
   "cell_type": "markdown",
   "metadata": {},
   "source": [
    "# What Items are important?"
   ]
  },
  {
   "cell_type": "code",
   "execution_count": null,
   "metadata": {},
   "outputs": [],
   "source": [
    "gds.set_database(DB_NAME)\n",
    "G2, project_stats = gds.graph.project.cypher(\n",
    "    'items',\n",
    "    \"\"\"\n",
    "    MATCH (i:Item) return id(i) as id\n",
    "    \"\"\",\n",
    "    \"\"\"\n",
    "        MATCH (i1:Item)<-[r1:VIEWED]-(v:Visitor)-[r2:VIEWED|ADDED|BOUGHT]->(i2:Item)\n",
    "        WHERE r1.timestamp<r2.timestamp\n",
    "        WITH i1, i2, r1, case type(r2) when \"BOUGHT\" then 1.0 when \"ADDED\" then 0.7 else 0.2 end as weight\n",
    "        RETURN id(i1) as target, id(i2) as source, weight\n",
    "     \"\"\",\n",
    "    readConcurrency=16\n",
    ")"
   ]
  },
  {
   "cell_type": "code",
   "execution_count": null,
   "metadata": {},
   "outputs": [],
   "source": [
    "gds.set_database(DB_NAME)\n",
    "G2 = gds.graph.get('items')"
   ]
  },
  {
   "cell_type": "code",
   "execution_count": null,
   "metadata": {},
   "outputs": [],
   "source": [
    "pagerankRes = gds.pageRank.write(G2, maxIterations=200, relationshipWeightProperty='weight', concurrency=16, writeProperty='pagerank')"
   ]
  },
  {
   "cell_type": "code",
   "execution_count": null,
   "metadata": {},
   "outputs": [],
   "source": [
    "print(pagerankRes)"
   ]
  },
  {
   "cell_type": "code",
   "execution_count": null,
   "metadata": {},
   "outputs": [],
   "source": [
    "G2.drop()"
   ]
  },
  {
   "cell_type": "code",
   "execution_count": null,
   "metadata": {},
   "outputs": [],
   "source": [
    "# Can we suggest an Item with high probability of conversion (central to conversion)\n",
    "with driver.session(database = DB_NAME) as session:\n",
    "    result = session.read_transaction( lambda tx: \n",
    "        tx.run(\n",
    "            \"\"\"\n",
    "            MATCH (i:Item{id: $itemid})<-[:VIEWED]-(visitor)-[bought:BOUGHT]->(otherItem)\n",
    "            WHERE i <> otherItem\n",
    "            AND NOT (:Visitor{id: $visitorid})-[:BOUGHT|ADDED]->(otherItem)\n",
    "            RETURN  otherItem.id as product_bought,\n",
    "                    avg(otherItem.pagerank) as rank,\n",
    "                    count(distinct bought) as times_bought\n",
    "            ORDER BY rank desc limit $limit\n",
    "            \"\"\",\n",
    "            limit = 10, itemid = 461686, visitorid=684514\n",
    "        ).data()\n",
    "    )\n",
    "    df = pd.DataFrame(result)\n",
    "    print(df)"
   ]
  },
  {
   "cell_type": "code",
   "execution_count": null,
   "metadata": {},
   "outputs": [],
   "source": [
    "# For presentation, create aggregated viewed, added and bougtht relationships?\n"
   ]
  }
 ],
 "metadata": {
  "kernelspec": {
   "display_name": "Python 3.9.13 ('notebooks')",
   "language": "python",
   "name": "python3"
  },
  "language_info": {
   "codemirror_mode": {
    "name": "ipython",
    "version": 3
   },
   "file_extension": ".py",
   "mimetype": "text/x-python",
   "name": "python",
   "nbconvert_exporter": "python",
   "pygments_lexer": "ipython3",
   "version": "3.9.16"
  },
  "vscode": {
   "interpreter": {
    "hash": "c68434ca16130d73e64183f54aeda16ecffce872c062f16976fd0d983519d848"
   }
  }
 },
 "nbformat": 4,
 "nbformat_minor": 4
}
