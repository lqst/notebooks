{
 "cells": [
  {
   "cell_type": "markdown",
   "metadata": {
    "id": "ynPe6RLRWSKd"
   },
   "source": [
    "# Setup"
   ]
  },
  {
   "cell_type": "markdown",
   "metadata": {
    "id": "ShLXlNZ5kGvI"
   },
   "source": [
    "Install neo4j graphdatascience client ([Documentation](https://neo4j.com/docs/graph-data-science/current/))"
   ]
  },
  {
   "cell_type": "code",
   "execution_count": null,
   "metadata": {
    "id": "BOfc_-mllcUE"
   },
   "outputs": [],
   "source": [
    "import os\n",
    "import pandas as pd\n",
    "from graphdatascience import GraphDataScience \n",
    "from graphdatascience.session import AuraAPICredentials, GdsSessions, DbmsConnectionInfo\n",
    "from datetime import timedelta"
   ]
  },
  {
   "cell_type": "code",
   "execution_count": 2,
   "metadata": {
    "id": "CHR_0lmElZ-R"
   },
   "outputs": [],
   "source": [
    "# How to create  Aura API Credentials: https://neo4j.com/docs/aura/classic/platform/api/authentication/#_creating_credentials\n",
    "tenant_id = os.getenv('AURA_API_TENANT_ID')\n",
    "client_id = os.getenv('AURA_API_CLIENT_ID')\n",
    "client_secret = os.getenv('AURA_API_CLIENT_SECRET')\n",
    "db_uri = os.getenv('AURA_DB_ADDRESS')\n",
    "db_user = os.getenv('AURA_DB_USER')\n",
    "db_pass = os.getenv('AURA_DB_PW')\n"
   ]
  },
  {
   "cell_type": "code",
   "execution_count": 3,
   "metadata": {
    "id": "e_a16vsQwyMH"
   },
   "outputs": [],
   "source": [
    "sessions = GdsSessions(api_credentials=AuraAPICredentials(client_id, client_secret, tenant_id=tenant_id))\n",
    "db_connection = DbmsConnectionInfo(\n",
    "    uri=db_uri, username=db_user, password=db_pass\n",
    ")"
   ]
  },
  {
   "cell_type": "code",
   "execution_count": 6,
   "metadata": {},
   "outputs": [
    {
     "data": {
      "text/plain": [
       "<SessionMemory.m_8GB: SessionMemoryValue(value='8GB')>"
      ]
     },
     "execution_count": 6,
     "metadata": {},
     "output_type": "execute_result"
    }
   ],
   "source": [
    "from graphdatascience.session import AlgorithmCategory, DbmsConnectionInfo\n",
    "memory = sessions.estimate(\n",
    "    node_count=20,\n",
    "    relationship_count=50,\n",
    "    algorithm_categories=[AlgorithmCategory.CENTRALITY, AlgorithmCategory.NODE_EMBEDDING],\n",
    ")\n",
    "memory"
   ]
  },
  {
   "cell_type": "code",
   "execution_count": 7,
   "metadata": {},
   "outputs": [],
   "source": [
    "gds = sessions.get_or_create(\n",
    "    session_name=\"my-shop-demo\",\n",
    "    memory=memory,\n",
    "    db_connection=db_connection,\n",
    "    ttl=timedelta(hours=1)\n",
    ")"
   ]
  },
  {
   "cell_type": "code",
   "execution_count": 8,
   "metadata": {},
   "outputs": [
    {
     "data": {
      "text/plain": [
       "[SessionInfo(id='d7e827fa-3333952d', name='my-shop-demo', memory=SessionMemoryValue(value='8GB'), instance_id='d7e827fa', status='Ready', expiry_date=datetime.datetime(2025, 2, 15, 9, 20, 16, tzinfo=datetime.timezone.utc), created_at=datetime.datetime(2025, 1, 16, 9, 20, 16, tzinfo=datetime.timezone.utc), user_id='e1bfecbb-149b-4689-a84a-0ae712f4d49f', cloud_location=CloudLocation(provider='gcp', region='us-central1'), ttl=datetime.timedelta(seconds=3540), errors=None)]"
      ]
     },
     "execution_count": 8,
     "metadata": {},
     "output_type": "execute_result"
    }
   ],
   "source": [
    "sessions.list()"
   ]
  },
  {
   "cell_type": "markdown",
   "metadata": {
    "id": "0OMlYdxHWZLx"
   },
   "source": [
    "# Graph creation"
   ]
  },
  {
   "cell_type": "code",
   "execution_count": null,
   "metadata": {
    "id": "LbsQlwvwku0b"
   },
   "outputs": [],
   "source": [
    "transaction_df = pd.DataFrame([\n",
    "    {'name': 'Tom', 'merchant':'Amazon', 'amount': 100},\n",
    "    {'name': 'Tom', 'merchant':'Dustin', 'amount': 50499},\n",
    "    {'name': 'Tom', 'merchant':'eBay', 'amount': 220},\n",
    "    {'name': 'Stefan', 'merchant':'Amazon', 'amount': 220},\n",
    "    {'name': 'Stefan', 'merchant':'Dustin', 'amount': 399},\n",
    "    {'name': 'Stefan', 'merchant':'eBay', 'amount': 1499},\n",
    "    {'name': 'Stefan', 'merchant':'Bikes.de', 'amount': 22000},\n",
    "    {'name': 'Kristof', 'merchant':'Amazon', 'amount': 423},\n",
    "    {'name': 'Kristof', 'merchant':'Dustin', 'amount': 530},\n",
    "    {'name': 'Kristof', 'merchant':'Hello Fresh', 'amount': 1050},\n",
    "    {'name': 'Kristof', 'merchant':'Steam', 'amount': 230},\n",
    "    {'name': 'Kristof', 'merchant':'Activision', 'amount': 783},\n",
    "    {'name': 'Håkan', 'merchant':'Hello Fresh', 'amount': 2100},\n",
    "    {'name': 'Håkan', 'merchant':'Steam', 'amount': 230},\n",
    "    {'name': 'Håkan', 'merchant':'Activision', 'amount': 783},\n",
    "    \n",
    "], columns = ['name', 'merchant', 'amount'])\n",
    "transaction_df.head(15)"
   ]
  },
  {
   "cell_type": "code",
   "execution_count": null,
   "metadata": {
    "id": "cdTfdAyV2ZaR"
   },
   "outputs": [],
   "source": [
    "# This is not really required for this small sample\n",
    "\n",
    "gds.database = 'neo4j'\n",
    "gds.run_cypher(\"create constraint if not exists for (p:Person) require (p.name) is node key\")\n",
    "gds.run_cypher(\"create constraint if not exists for (p:Merchant) require (p.name) is node key\")\n"
   ]
  },
  {
   "cell_type": "code",
   "execution_count": null,
   "metadata": {},
   "outputs": [],
   "source": [
    "gds.run_cypher(\"create constraint if not exists for (p:Merchant) require (p.name) is node key\")"
   ]
  },
  {
   "cell_type": "code",
   "execution_count": null,
   "metadata": {
    "id": "uduojIopm0qV"
   },
   "outputs": [],
   "source": [
    "# Create a graph for (:Person)-[:transacted_with]->(:Merchant)\n",
    "# Tip: If we had more data, this would fail => Iterate over chunks of the dataframe.\n",
    "gds.run_cypher(\n",
    "    \"\"\"\n",
    "    unwind $transactions as transaction\n",
    "    merge (p:Person{name: transaction['name']})\n",
    "    merge (m:Merchant{name: transaction['merchant']})\n",
    "    merge (p)-[tx:TRANSACTED_WITH]->(m)\n",
    "       set tx.amount = transaction['amount']\n",
    "    \"\"\",\n",
    "    params = { 'transactions': transaction_df.to_dict(orient='records') }\n",
    ")"
   ]
  },
  {
   "cell_type": "markdown",
   "metadata": {
    "id": "rZo7Gln2jJcF"
   },
   "source": [
    "# Basic navigation of graph with cypher"
   ]
  },
  {
   "cell_type": "markdown",
   "metadata": {
    "id": "fQ2wgAWFkXxQ"
   },
   "source": [
    "### Exercise 1"
   ]
  },
  {
   "cell_type": "code",
   "execution_count": null,
   "metadata": {
    "id": "70-xbOfgjQsY"
   },
   "outputs": [],
   "source": [
    "# What persons are in the database?\n",
    "gds.run_cypher(\"\"\" \n",
    "  match (p:Person)\n",
    "  return p.name as person_name\n",
    "\"\"\").head()"
   ]
  },
  {
   "cell_type": "code",
   "execution_count": null,
   "metadata": {
    "id": "volCOjn_jjm3"
   },
   "outputs": [],
   "source": [
    "# What merchants are persons transacting with?\n",
    "gds.run_cypher(\"\"\" \n",
    "  match (p:Person)-[tx:TRANSACTED_WITH]->(m:Merchant)\n",
    "  return p.name as person_name,collect(m.name) as merchants_transacted_with\n",
    "\"\"\").head()"
   ]
  },
  {
   "cell_type": "code",
   "execution_count": null,
   "metadata": {
    "id": "2yddechtj2MB"
   },
   "outputs": [],
   "source": [
    "# Exercise 1: What is the sum of the transacted amount per person and merchant?\n",
    "# Replace with yor solution\n",
    "gds.run_cypher(\"\"\" \n",
    "  return \"not_solved\" as answer\n",
    "\"\"\").head()"
   ]
  },
  {
   "cell_type": "markdown",
   "metadata": {
    "id": "nDv-XfdqmCiw"
   },
   "source": [
    "## Exercise 2"
   ]
  },
  {
   "cell_type": "code",
   "execution_count": null,
   "metadata": {
    "id": "R1IeCTWWkS5j"
   },
   "outputs": [],
   "source": [
    "# Who transacted with Amazon but not Steam?\n",
    "gds.run_cypher(\"\"\" \n",
    "  match (p:Person)-[:TRANSACTED_WITH]->(:Merchant{name:\"Amazon\"})\n",
    "  where not exists { (p)-[:TRANSACTED_WITH]->(:Merchant{name:\"Steam\"}) }\n",
    "  return p.name as transacted_with_amazon_but_not_steam\n",
    "\"\"\").head()"
   ]
  },
  {
   "cell_type": "code",
   "execution_count": null,
   "metadata": {
    "id": "bVTKqLM3mM44"
   },
   "outputs": [],
   "source": [
    "# Exercise 2: Are there Persons in the graph that did not transact with a merchant at all?\n",
    "# Replace with yor solution\n",
    "gds.run_cypher(\"\"\" \n",
    "  return \"not_solved\" as answer\n",
    "\"\"\").head()"
   ]
  },
  {
   "cell_type": "markdown",
   "metadata": {
    "id": "hInWGbGimmTp"
   },
   "source": [
    "## Exercise 3"
   ]
  },
  {
   "cell_type": "code",
   "execution_count": null,
   "metadata": {
    "id": "nTzXuK6WmkZN"
   },
   "outputs": [],
   "source": [
    "# What nodes do I have in my graph?\n",
    "gds.run_cypher(\"\"\" \n",
    "  match (n)\n",
    "  return labels(n) as node_labels, count(*) as number_of_nodes\n",
    "\"\"\").head()"
   ]
  },
  {
   "cell_type": "code",
   "execution_count": null,
   "metadata": {
    "id": "DDeBV5JunKsC"
   },
   "outputs": [],
   "source": [
    "# Exercise 3: What relationships do I have in my graph?\n",
    "# Replace with yor solution\n",
    "gds.run_cypher(\"\"\" \n",
    "  return \"not_solved\" as answer\n",
    "\"\"\").head()"
   ]
  },
  {
   "cell_type": "markdown",
   "metadata": {
    "id": "kx1UHN87Kfup"
   },
   "source": [
    "# Node similarity"
   ]
  },
  {
   "cell_type": "markdown",
   "metadata": {
    "id": "kulQKQj63Zb_"
   },
   "source": [
    "Let's get this party started"
   ]
  },
  {
   "cell_type": "code",
   "execution_count": 10,
   "metadata": {},
   "outputs": [
    {
     "data": {
      "text/plain": [
       "'Graph(name=transaction_graph, node_count=11, relationship_count=15)'"
      ]
     },
     "execution_count": 10,
     "metadata": {},
     "output_type": "execute_result"
    }
   ],
   "source": [
    "G, result = gds.graph.project(\n",
    "    \"transaction_graph\",\n",
    "    \"\"\"\n",
    "    match (p:Person)-[r:TRANSACTED_WITH]->(m:Merchant)\n",
    "    with\n",
    "      p AS source, r AS rel, m AS target\n",
    "    return\n",
    "    gds.graph.project.remote(source, target, {\n",
    "      sourceNodeLabels: labels(source),\n",
    "      targetNodeLabels: labels(target),\n",
    "      relationshipType: type(rel),\n",
    "      relationshipProperties: rel{.amount}\n",
    "    })\n",
    "    \"\"\",\n",
    ")\n",
    "str(G)"
   ]
  },
  {
   "cell_type": "code",
   "execution_count": 11,
   "metadata": {
    "id": "7rBfNJ6A9m65"
   },
   "outputs": [
    {
     "name": "stdout",
     "output_type": "stream",
     "text": [
      "Graph 'transaction_graph' node count: 11\n",
      "Graph 'transaction_graph' node labels: ['Merchant', 'Person']\n"
     ]
    }
   ],
   "source": [
    "print(f\"Graph '{G.name()}' node count: {G.node_count()}\")\n",
    "print(f\"Graph '{G.name()}' node labels: {G.node_labels()}\")\n"
   ]
  },
  {
   "cell_type": "code",
   "execution_count": 12,
   "metadata": {},
   "outputs": [
    {
     "data": {
      "text/html": [
       "<div>\n",
       "<style scoped>\n",
       "    .dataframe tbody tr th:only-of-type {\n",
       "        vertical-align: middle;\n",
       "    }\n",
       "\n",
       "    .dataframe tbody tr th {\n",
       "        vertical-align: top;\n",
       "    }\n",
       "\n",
       "    .dataframe thead th {\n",
       "        text-align: right;\n",
       "    }\n",
       "</style>\n",
       "<table border=\"1\" class=\"dataframe\">\n",
       "  <thead>\n",
       "    <tr style=\"text-align: right;\">\n",
       "      <th></th>\n",
       "      <th>node1</th>\n",
       "      <th>node2</th>\n",
       "      <th>similarity</th>\n",
       "    </tr>\n",
       "  </thead>\n",
       "  <tbody>\n",
       "    <tr>\n",
       "      <th>0</th>\n",
       "      <td>0</td>\n",
       "      <td>2</td>\n",
       "      <td>0.011841</td>\n",
       "    </tr>\n",
       "    <tr>\n",
       "      <th>1</th>\n",
       "      <td>0</td>\n",
       "      <td>1</td>\n",
       "      <td>0.009688</td>\n",
       "    </tr>\n",
       "    <tr>\n",
       "      <th>2</th>\n",
       "      <td>1</td>\n",
       "      <td>2</td>\n",
       "      <td>0.023345</td>\n",
       "    </tr>\n",
       "    <tr>\n",
       "      <th>3</th>\n",
       "      <td>1</td>\n",
       "      <td>0</td>\n",
       "      <td>0.009688</td>\n",
       "    </tr>\n",
       "    <tr>\n",
       "      <th>4</th>\n",
       "      <td>2</td>\n",
       "      <td>3</td>\n",
       "      <td>0.507378</td>\n",
       "    </tr>\n",
       "    <tr>\n",
       "      <th>5</th>\n",
       "      <td>2</td>\n",
       "      <td>1</td>\n",
       "      <td>0.023345</td>\n",
       "    </tr>\n",
       "    <tr>\n",
       "      <th>6</th>\n",
       "      <td>2</td>\n",
       "      <td>0</td>\n",
       "      <td>0.011841</td>\n",
       "    </tr>\n",
       "    <tr>\n",
       "      <th>7</th>\n",
       "      <td>3</td>\n",
       "      <td>2</td>\n",
       "      <td>0.507378</td>\n",
       "    </tr>\n",
       "  </tbody>\n",
       "</table>\n",
       "</div>"
      ],
      "text/plain": [
       "   node1  node2  similarity\n",
       "0      0      2    0.011841\n",
       "1      0      1    0.009688\n",
       "2      1      2    0.023345\n",
       "3      1      0    0.009688\n",
       "4      2      3    0.507378\n",
       "5      2      1    0.023345\n",
       "6      2      0    0.011841\n",
       "7      3      2    0.507378"
      ]
     },
     "execution_count": 12,
     "metadata": {},
     "output_type": "execute_result"
    }
   ],
   "source": [
    "gds.nodeSimilarity.stream(\n",
    "    G,\n",
    "    relationshipWeightProperty='amount', \n",
    ")"
   ]
  },
  {
   "cell_type": "code",
   "execution_count": 13,
   "metadata": {
    "id": "nNZByI7LGy_i"
   },
   "outputs": [
    {
     "data": {
      "text/plain": [
       "preProcessingMillis                                                       0\n",
       "computeMillis                                                             6\n",
       "writeMillis                                                       1453.2969\n",
       "postProcessingMillis                                                      0\n",
       "nodesCompared                                                             4\n",
       "relationshipsWritten                                                      8\n",
       "similarityDistribution    {'min': 0.0, 'p5': 0.0, 'max': 5.0872912848509...\n",
       "configuration             {'writeProperty': 'sim_score', 'writeRelations...\n",
       "Name: 0, dtype: object"
      ]
     },
     "execution_count": 13,
     "metadata": {},
     "output_type": "execute_result"
    }
   ],
   "source": [
    "gds.nodeSimilarity.write(\n",
    "    G,\n",
    "    relationshipWeightProperty='amount', \n",
    "    writeRelationshipType='IS_SIMILAR_TO',\n",
    "    writeProperty='sim_score'\n",
    ")"
   ]
  },
  {
   "cell_type": "code",
   "execution_count": 14,
   "metadata": {
    "id": "LRQGxT5RHctm"
   },
   "outputs": [
    {
     "data": {
      "text/plain": [
       "graphName                                                transaction_graph\n",
       "database                                                             neo4j\n",
       "databaseLocation                                                    remote\n",
       "memoryUsage                                                               \n",
       "sizeInBytes                                                             -1\n",
       "nodeCount                                                               11\n",
       "relationshipCount                                                       15\n",
       "configuration            {'readConcurrency': 4, 'jobId': '04440ab0-3f12...\n",
       "density                                                           0.136364\n",
       "creationTime                           2025-01-16T09:24:54.268396915+00:00\n",
       "modificationTime                       2025-01-16T09:24:54.268396915+00:00\n",
       "schema                   {'graphProperties': {}, 'nodes': {'Merchant': ...\n",
       "schemaWithOrientation    {'graphProperties': {}, 'nodes': {'Merchant': ...\n",
       "Name: 0, dtype: object"
      ]
     },
     "execution_count": 14,
     "metadata": {},
     "output_type": "execute_result"
    }
   ],
   "source": [
    "# Drop the projection from the graph catalogue to free up resources\n",
    "G.drop()"
   ]
  },
  {
   "cell_type": "code",
   "execution_count": 15,
   "metadata": {
    "id": "OW5uFvKnYnj7"
   },
   "outputs": [
    {
     "data": {
      "text/html": [
       "<div>\n",
       "<style scoped>\n",
       "    .dataframe tbody tr th:only-of-type {\n",
       "        vertical-align: middle;\n",
       "    }\n",
       "\n",
       "    .dataframe tbody tr th {\n",
       "        vertical-align: top;\n",
       "    }\n",
       "\n",
       "    .dataframe thead th {\n",
       "        text-align: right;\n",
       "    }\n",
       "</style>\n",
       "<table border=\"1\" class=\"dataframe\">\n",
       "  <thead>\n",
       "    <tr style=\"text-align: right;\">\n",
       "      <th></th>\n",
       "    </tr>\n",
       "  </thead>\n",
       "  <tbody>\n",
       "  </tbody>\n",
       "</table>\n",
       "</div>"
      ],
      "text/plain": [
       "Empty DataFrame\n",
       "Columns: []\n",
       "Index: []"
      ]
     },
     "execution_count": 15,
     "metadata": {},
     "output_type": "execute_result"
    }
   ],
   "source": [
    "# Remove symetric relationships\n",
    "gds.run_cypher(\"\"\"\n",
    "  MATCH (a:Person)-[r:IS_SIMILAR_TO]->(b:Person) \n",
    "    WHERE (b)-[:IS_SIMILAR_TO]->(a) \n",
    "    AND   id(a)<id(b)\n",
    "  DELETE r\n",
    "\"\"\")\n"
   ]
  },
  {
   "cell_type": "markdown",
   "metadata": {
    "id": "jU696MRBKlne"
   },
   "source": [
    "# Graph embedding + knn "
   ]
  },
  {
   "cell_type": "code",
   "execution_count": null,
   "metadata": {
    "id": "SKNESlpBxyJ5"
   },
   "outputs": [],
   "source": [
    "# Let's make the same projection again\n",
    "G, res = gds.graph.project(\n",
    "    \"shopping\",                 #  Graph name\n",
    "    [\"Person\", \"Merchant\"],   #  Node projection\n",
    "    {\"TRANSACTED_WITH\": {\"properties\": \"amount\"}}              #  Relationship projection\n",
    ")"
   ]
  },
  {
   "cell_type": "code",
   "execution_count": null,
   "metadata": {
    "id": "66aoFCzIPhUw"
   },
   "outputs": [],
   "source": [
    "# Mutate our projection (by computing an embedding)\n",
    "gds.beta.node2vec.mutate(\n",
    "    G,\n",
    "    embeddingDimension=3,\n",
    "    relationshipWeightProperty='amount',\n",
    "    mutateProperty='embedding'\n",
    ")"
   ]
  },
  {
   "cell_type": "code",
   "execution_count": null,
   "metadata": {
    "id": "Gwwyj1KKLegG"
   },
   "outputs": [],
   "source": [
    "# What does our embeddings look like? Let's stream back and have a look\n",
    "df_embeddings = gds.graph.nodeProperty.stream(\n",
    "    G,\n",
    "    node_properties='embedding',\n",
    "    node_labels='Person'\n",
    ")"
   ]
  },
  {
   "cell_type": "code",
   "execution_count": null,
   "metadata": {
    "id": "TLW5unbDMGhE"
   },
   "outputs": [],
   "source": [
    "pd.set_option('max_colwidth', None)\n",
    "df_embeddings.head(10)"
   ]
  },
  {
   "cell_type": "code",
   "execution_count": null,
   "metadata": {
    "id": "ZGwkZIuFQN-R"
   },
   "outputs": [],
   "source": [
    "# Run knn\n",
    "gds.knn.write(\n",
    "    G,\n",
    "    nodeLabels=['Person'],\n",
    "    nodeProperties=['embedding'],\n",
    "    topK=2,\n",
    "    writeRelationshipType='SIMILAR_EMBEDDING',\n",
    "    writeProperty='sim_score'\n",
    ")"
   ]
  },
  {
   "cell_type": "code",
   "execution_count": null,
   "metadata": {
    "id": "ou3S9jeJMV0A"
   },
   "outputs": [],
   "source": [
    "# Drop the projection from the graph catalogue to free up resources\n",
    "G.drop()"
   ]
  },
  {
   "cell_type": "code",
   "execution_count": null,
   "metadata": {
    "id": "mixfOT5kMiMa"
   },
   "outputs": [],
   "source": [
    "# Again, let's remove symetric relationships\n",
    "gds.run_cypher(\"\"\"\n",
    "  MATCH (a:Person)-[r:SIMILAR_EMBEDDING]->(b:Person) \n",
    "    WHERE (b)-[:SIMILAR_EMBEDDING]->(a) \n",
    "    AND   id(a)<id(b)\n",
    "  DELETE r\n",
    "\"\"\")"
   ]
  },
  {
   "cell_type": "code",
   "execution_count": null,
   "metadata": {
    "id": "Pk0MLczGSF4E"
   },
   "outputs": [],
   "source": [
    "# Let's review\n",
    "gds.run_cypher(\"\"\"\n",
    "  MATCH (p:Person)-[r:SIMILAR_EMBEDDING|IS_SIMILAR_TO]-(p2)\n",
    "  RETURN p.name as person, \n",
    "         type(r) as type, \n",
    "         r.sim_score as score,\n",
    "         p2.name as to_person\n",
    "  ORDER by p.name, p2.name, type(r)\n",
    "\"\"\").head(30)"
   ]
  },
  {
   "cell_type": "markdown",
   "metadata": {},
   "source": [
    "## When all is said and done\n",
    "Delete the session "
   ]
  },
  {
   "cell_type": "code",
   "execution_count": 17,
   "metadata": {
    "id": "RNdzni6-SvC0"
   },
   "outputs": [
    {
     "data": {
      "text/plain": [
       "True"
      ]
     },
     "execution_count": 17,
     "metadata": {},
     "output_type": "execute_result"
    }
   ],
   "source": [
    "gds.delete()"
   ]
  },
  {
   "cell_type": "code",
   "execution_count": null,
   "metadata": {},
   "outputs": [],
   "source": [
    "sessions.list()"
   ]
  },
  {
   "cell_type": "code",
   "execution_count": null,
   "metadata": {},
   "outputs": [],
   "source": []
  }
 ],
 "metadata": {
  "colab": {
   "provenance": [],
   "toc_visible": true
  },
  "kernelspec": {
   "display_name": "notebooks_new",
   "language": "python",
   "name": "python3"
  },
  "language_info": {
   "codemirror_mode": {
    "name": "ipython",
    "version": 3
   },
   "file_extension": ".py",
   "mimetype": "text/x-python",
   "name": "python",
   "nbconvert_exporter": "python",
   "pygments_lexer": "ipython3",
   "version": "3.11.0"
  }
 },
 "nbformat": 4,
 "nbformat_minor": 0
}
