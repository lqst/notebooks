{
 "cells": [
  {
   "cell_type": "code",
   "execution_count": 1,
   "metadata": {},
   "outputs": [],
   "source": [
    "\n",
    "DB_ULR = \"neo4j://localhost:7687\"\n",
    "DB_USER = \"neo4j\"\n",
    "DB_PASS = \"test1234\"\n",
    "DB_NAME = \"symptom\""
   ]
  },
  {
   "cell_type": "markdown",
   "metadata": {},
   "source": [
    "# Create driver\n",
    "Also set the DB_NAME"
   ]
  },
  {
   "cell_type": "code",
   "execution_count": 2,
   "metadata": {},
   "outputs": [],
   "source": [
    "import os\n",
    "import pandas as pd\n",
    "import numpy as np\n",
    "import plotly.graph_objects as go\n",
    "from neo4j import GraphDatabase # Python database driver\n",
    "from graphdatascience import GraphDataScience # Python GDS client\n",
    "\n",
    "# And some cermony to create the driver and gds objects\n",
    "driver = GraphDatabase.driver(DB_ULR, auth=(DB_USER, DB_PASS))\n",
    "gds = GraphDataScience(DB_ULR, auth=(DB_USER, DB_PASS))\n",
    "gds.set_database(DB_NAME)"
   ]
  },
  {
   "cell_type": "markdown",
   "metadata": {},
   "source": [
    "# Create databse and schema"
   ]
  },
  {
   "cell_type": "code",
   "execution_count": 5,
   "metadata": {},
   "outputs": [
    {
     "name": "stdout",
     "output_type": "stream",
     "text": [
      "Empty DataFrame\n",
      "Columns: []\n",
      "Index: []\n"
     ]
    }
   ],
   "source": [
    "# Create (or replace) database\n",
    "with driver.session(database = \"system\") as session:\n",
    "    result = session.write_transaction( lambda tx: \n",
    "        tx.run(\n",
    "            \"CREATE OR REPLACE DATABASE {dbname}\".format(dbname = DB_NAME)\n",
    "        ).data()\n",
    "    )"
   ]
  },
  {
   "cell_type": "code",
   "execution_count": 6,
   "metadata": {},
   "outputs": [],
   "source": [
    "# Create indexes and constraints\n",
    "with driver.session(database = DB_NAME) as session:\n",
    "    session.write_transaction( lambda tx: \n",
    "        tx.run(\n",
    "            \"CREATE CONSTRAINT IF NOT EXISTS FOR (n:Symptom) REQUIRE (n.name) IS NODE KEY\"\n",
    "        ).consume()\n",
    "    )\n",
    "    session.write_transaction( lambda tx: \n",
    "        tx.run(\n",
    "            \"CREATE CONSTRAINT IF NOT EXISTS FOR (n:Disease) REQUIRE (n.name) IS NODE KEY\"\n",
    "        ).consume()     \n",
    "    )"
   ]
  },
  {
   "cell_type": "markdown",
   "metadata": {},
   "source": [
    "#  Load data"
   ]
  },
  {
   "cell_type": "code",
   "execution_count": 7,
   "metadata": {},
   "outputs": [
    {
     "name": "stdout",
     "output_type": "stream",
     "text": [
      "                  Source          Target  Weight\n",
      "0              influenza  uncoordination      68\n",
      "1              influenza           fever      68\n",
      "2              influenza  pleuritic pain      68\n",
      "3              influenza         snuffle      68\n",
      "4              influenza     throat sore      68\n",
      "...                  ...             ...     ...\n",
      "2124  migraine disorders       dizziness      61\n",
      "2125  migraine disorders        numbness      61\n",
      "2126  migraine disorders          nausea      61\n",
      "2127  migraine disorders           fever      61\n",
      "2128  migraine disorders    splenomegaly      61\n",
      "\n",
      "[2129 rows x 3 columns]\n"
     ]
    }
   ],
   "source": [
    "# Read csv file\n",
    "# Source https://github.com/deshanadesai/Symptom-X-/blob/master/dataset_clean1.csv\n",
    "csv = pd.read_csv('https://raw.githubusercontent.com/deshanadesai/Symptom-X-/master/dataset_clean1.csv')\n",
    "print(csv)"
   ]
  },
  {
   "cell_type": "code",
   "execution_count": 8,
   "metadata": {},
   "outputs": [
    {
     "name": "stdout",
     "output_type": "stream",
     "text": [
      "0       uncoordination\n",
      "1                fever\n",
      "2       pleuritic pain\n",
      "3              snuffle\n",
      "4          throat sore\n",
      "             ...      \n",
      "1929      poor feeding\n",
      "1938              ache\n",
      "1939    macerated skin\n",
      "1940     heavy feeling\n",
      "2087        gravida 10\n",
      "Name: Target, Length: 404, dtype: object\n"
     ]
    }
   ],
   "source": [
    "# Select all unique symptoms\n",
    "symptoms = csv['Target'].drop_duplicates().dropna()\n",
    "print(symptoms)"
   ]
  },
  {
   "cell_type": "code",
   "execution_count": 9,
   "metadata": {},
   "outputs": [
    {
     "name": "stdout",
     "output_type": "stream",
     "text": [
      "   nodesCreated\n",
      "0           202\n",
      "   nodesCreated\n",
      "0           202\n"
     ]
    }
   ],
   "source": [
    "# Create Symptom nodes\n",
    "for chunk in np.array_split(symptoms, 2):\n",
    "    with driver.session(database = DB_NAME) as session:\n",
    "        result = session.write_transaction( lambda tx: \n",
    "            tx.run(\n",
    "                \"\"\"\n",
    "                UNWIND $symptoms as symptomName\n",
    "                MERGE (:Symptom{name: symptomName})\n",
    "                RETURN count(*) as nodesCreated\n",
    "                \"\"\",\n",
    "                symptoms = chunk.to_list()\n",
    "            ).data()\n",
    "        )\n",
    "        df = pd.DataFrame(result)\n",
    "        print(df)"
   ]
  },
  {
   "cell_type": "code",
   "execution_count": 10,
   "metadata": {},
   "outputs": [
    {
     "name": "stdout",
     "output_type": "stream",
     "text": [
      "0                  influenza\n",
      "21                 gastritis\n",
      "33      hypercholesterolemia\n",
      "48                  epilepsy\n",
      "61       insufficiency renal\n",
      "                ...         \n",
      "2061      systemic infection\n",
      "2075     malignant neoplasms\n",
      "2100              neuropathy\n",
      "2110          overload fluid\n",
      "2122      migraine disorders\n",
      "Name: Source, Length: 148, dtype: object\n"
     ]
    }
   ],
   "source": [
    "# Select all unique diseases\n",
    "diseases = csv['Source'].drop_duplicates().dropna()\n",
    "print(diseases)"
   ]
  },
  {
   "cell_type": "code",
   "execution_count": 11,
   "metadata": {},
   "outputs": [
    {
     "name": "stdout",
     "output_type": "stream",
     "text": [
      "   nodesCreated\n",
      "0           148\n"
     ]
    }
   ],
   "source": [
    "# Create Disease nodes\n",
    "with driver.session(database = DB_NAME) as session:\n",
    "    result = session.write_transaction( lambda tx: \n",
    "        tx.run(\n",
    "            \"\"\"\n",
    "            UNWIND $diseases as diseaseName\n",
    "            MERGE (:Disease{name: diseaseName})\n",
    "            RETURN count(*) as nodesCreated\n",
    "            \"\"\",\n",
    "            diseases = diseases.to_list()\n",
    "        ).data()\n",
    "    )\n",
    "    df = pd.DataFrame(result)\n",
    "    print(df)"
   ]
  },
  {
   "cell_type": "code",
   "execution_count": 12,
   "metadata": {},
   "outputs": [
    {
     "name": "stdout",
     "output_type": "stream",
     "text": [
      "                  Source          Target  Weight\n",
      "0              influenza  uncoordination      68\n",
      "1              influenza           fever      68\n",
      "2              influenza  pleuritic pain      68\n",
      "3              influenza         snuffle      68\n",
      "4              influenza     throat sore      68\n",
      "...                  ...             ...     ...\n",
      "2124  migraine disorders       dizziness      61\n",
      "2125  migraine disorders        numbness      61\n",
      "2126  migraine disorders          nausea      61\n",
      "2127  migraine disorders           fever      61\n",
      "2128  migraine disorders    splenomegaly      61\n",
      "\n",
      "[2129 rows x 3 columns]\n"
     ]
    }
   ],
   "source": [
    "# Select all SYMPTOM_OV relationships\n",
    "symptom_of_rels = csv[['Source','Target', 'Weight']]\n",
    "print(symptom_of_rels)"
   ]
  },
  {
   "cell_type": "code",
   "execution_count": 15,
   "metadata": {},
   "outputs": [
    {
     "name": "stdout",
     "output_type": "stream",
     "text": [
      "   relsCreated\n",
      "0         1064\n",
      "   relsCreated\n",
      "0         1062\n"
     ]
    }
   ],
   "source": [
    "# Create VIEWED relationships\n",
    "for chunk in np.array_split(symptom_of_rels, 2):\n",
    "    with driver.session(database = DB_NAME) as session:\n",
    "        result = session.write_transaction( lambda tx: \n",
    "            tx.run(\n",
    "                \"\"\"\n",
    "                UNWIND $data as rel\n",
    "                MATCH (d:Disease{name: rel.Source}), (s:Symptom{name: rel.Target})\n",
    "                MERGE (s)-[:SYMPTOM_OF{weight:toInteger(rel.Weight)}]->(d)\n",
    "                RETURN count(*) as relsCreated\n",
    "                \"\"\",\n",
    "                data = chunk.to_dict('records')\n",
    "            ).data()\n",
    "        )\n",
    "        df = pd.DataFrame(result)\n",
    "        print(df)"
   ]
  },
  {
   "cell_type": "markdown",
   "metadata": {},
   "source": [
    "# Some basic queries"
   ]
  },
  {
   "cell_type": "code",
   "execution_count": 16,
   "metadata": {},
   "outputs": [
    {
     "name": "stdout",
     "output_type": "stream",
     "text": [
      "               symptom                                           diseases  \\\n",
      "0  shortness of breath  [adhesion, anemia, arthritis, asthma, bronchit...   \n",
      "1                 pain  [adenocarcinoma, adhesion, anemia, anxiety sta...   \n",
      "2                fever  [Alzheimer's disease, HIV, acquired immuno-def...   \n",
      "3             diarrhea  [HIV, Pneumocystis carinii pneumonia, acquired...   \n",
      "4       pain abdominal  [adenocarcinoma, biliary calculus, carcinoma c...   \n",
      "\n",
      "   number_of_diseases  \n",
      "0                  49  \n",
      "1                  44  \n",
      "2                  38  \n",
      "3                  30  \n",
      "4                  29  \n"
     ]
    }
   ],
   "source": [
    "# Syptom with highest degree\n",
    "# Question: What does does it mean?\n",
    "with driver.session(database = DB_NAME) as session:\n",
    "    result = session.read_transaction( lambda tx: \n",
    "        tx.run(\n",
    "            \"\"\"\n",
    "            MATCH (s:Symptom)-[r:SYMPTOM_OF]->(d:Disease)\n",
    "            RETURN \n",
    "                s.name as symptom, \n",
    "                collect(d.name) as diseases, \n",
    "                count(d) as number_of_diseases\n",
    "            ORDER BY number_of_diseases DESC LIMIT $limit\n",
    "            \"\"\",\n",
    "            limit = 5\n",
    "        ).data()\n",
    "    )\n",
    "    df = pd.DataFrame(result)\n",
    "    print(df)"
   ]
  },
  {
   "cell_type": "code",
   "execution_count": 17,
   "metadata": {},
   "outputs": [
    {
     "name": "stdout",
     "output_type": "stream",
     "text": [
      "            symptom                          diseases  number_of_diseases\n",
      "0            floppy  [Pneumocystis carinii pneumonia]                   1\n",
      "1             drool             [Alzheimer's disease]                   1\n",
      "2  pin-point pupils             [Alzheimer's disease]                   1\n",
      "3    tremor resting             [Alzheimer's disease]                   1\n",
      "4       dyspareunia  [Pneumocystis carinii pneumonia]                   1\n"
     ]
    }
   ],
   "source": [
    "# Syptom with lowest degree\n",
    "# Question: What does does it mean?\n",
    "with driver.session(database = DB_NAME) as session:\n",
    "    result = session.read_transaction( lambda tx: \n",
    "        tx.run(\n",
    "            \"\"\"\n",
    "            MATCH (s:Symptom)-[r:SYMPTOM_OF]->(d:Disease)\n",
    "            RETURN \n",
    "                s.name as symptom, \n",
    "                collect(d.name) as diseases, \n",
    "                count(d) as number_of_diseases\n",
    "            ORDER BY number_of_diseases ASC LIMIT $limit\n",
    "            \"\"\",\n",
    "            limit = 5\n",
    "        ).data()\n",
    "    )\n",
    "    df = pd.DataFrame(result)\n",
    "    print(df)"
   ]
  },
  {
   "cell_type": "code",
   "execution_count": 18,
   "metadata": {},
   "outputs": [
    {
     "name": "stdout",
     "output_type": "stream",
     "text": [
      "                  disease\n",
      "0           osteomyelitis\n",
      "1               exanthema\n",
      "2              cellulitis\n",
      "3               infection\n",
      "4      lymphatic diseases\n",
      "5  chronic kidney failure\n"
     ]
    }
   ],
   "source": [
    "# Possible diseases given two symptoms\n",
    "with driver.session(database = DB_NAME) as session:\n",
    "    result = session.read_transaction( lambda tx: \n",
    "        tx.run(\n",
    "            \"\"\"\n",
    "            MATCH (s1:Symptom{name:\"fever\"})-[:SYMPTOM_OF]->(d:Disease)<-[:SYMPTOM_OF]-(s2:Symptom{name:\"swelling\"})\n",
    "            RETURN d.name as disease\n",
    "            \"\"\"\n",
    "        ).data()\n",
    "    )\n",
    "    df = pd.DataFrame(result)\n",
    "    print(df)"
   ]
  },
  {
   "cell_type": "code",
   "execution_count": 19,
   "metadata": {},
   "outputs": [
    {
     "name": "stdout",
     "output_type": "stream",
     "text": [
      "                  disease  weight\n",
      "0               infection    1260\n",
      "1              cellulitis     682\n",
      "2  chronic kidney failure     560\n",
      "3               exanthema     416\n",
      "4      lymphatic diseases     320\n",
      "5           osteomyelitis     284\n"
     ]
    }
   ],
   "source": [
    "# Possible diseases given two symptoms\n",
    "# Weighted\n",
    "with driver.session(database = DB_NAME) as session:\n",
    "    result = session.read_transaction( lambda tx: \n",
    "        tx.run(\n",
    "            \"\"\"\n",
    "            MATCH (s1:Symptom{name:\"fever\"})-[r1:SYMPTOM_OF]->(d:Disease)<-[r2:SYMPTOM_OF]-(s2:Symptom{name:\"swelling\"})\n",
    "            RETURN d.name as disease, \n",
    "                   r1.weight + r2.weight as weight \n",
    "            ORDER BY weight DESC \n",
    "            \"\"\"\n",
    "        ).data()\n",
    "    )\n",
    "    df = pd.DataFrame(result)\n",
    "    print(df)"
   ]
  },
  {
   "cell_type": "markdown",
   "metadata": {},
   "source": [
    "# Graph data science\n",
    "Can we arrange syptoms based on diseases they share?"
   ]
  },
  {
   "cell_type": "code",
   "execution_count": 58,
   "metadata": {},
   "outputs": [],
   "source": [
    "G1=gds.graph.project('p1',['Disease', 'Symptom'], ['SYMPTOM_OF'])\n",
    "\"Nodes: {node_count}, Relationships {relationship_count}\".format(node_count=G1.node_count(), relationship_count=G1.relationship_count())"
   ]
  },
  {
   "cell_type": "code",
   "execution_count": 48,
   "metadata": {},
   "outputs": [
    {
     "data": {
      "text/plain": [
       "{'preProcessingMillis': 0,\n",
       " 'computeMillis': 22,\n",
       " 'postProcessingMillis': 9,\n",
       " 'nodesCompared': 404,\n",
       " 'similarityPairs': 3362,\n",
       " 'similarityDistribution': {'p1': 0.5999984741210938,\n",
       "  'max': 1.0000038146972656,\n",
       "  'p5': 0.6666641235351562,\n",
       "  'p90': 1.0000038146972656,\n",
       "  'p50': 1.0000038146972656,\n",
       "  'p95': 1.0000038146972656,\n",
       "  'p10': 0.75,\n",
       "  'p75': 1.0000038146972656,\n",
       "  'p99': 1.0000038146972656,\n",
       "  'p25': 1.0000038146972656,\n",
       "  'p100': 1.0000038146972656,\n",
       "  'min': 0.5999984741210938,\n",
       "  'mean': 0.9582757115860484,\n",
       "  'stdDev': 0.10784796756708696},\n",
       " 'configuration': {'topK': 10,\n",
       "  'similarityMetric': 'OVERLAP',\n",
       "  'bottomK': 10,\n",
       "  'bottomN': 0,\n",
       "  'relationshipWeightProperty': None,\n",
       "  'topN': 0,\n",
       "  'concurrency': 4,\n",
       "  'degreeCutoff': 1,\n",
       "  'similarityCutoff': 0.6,\n",
       "  'nodeLabels': ['*'],\n",
       "  'sudo': False,\n",
       "  'relationshipTypes': ['*'],\n",
       "  'username': None}}"
      ]
     },
     "execution_count": 48,
     "metadata": {},
     "output_type": "execute_result"
    }
   ],
   "source": [
    "gds.nodeSimilarity.stats(G1, \n",
    "    similarityMetric = 'OVERLAP', \n",
    "    similarityCutoff = 0.6\n",
    ")"
   ]
  },
  {
   "cell_type": "code",
   "execution_count": 49,
   "metadata": {},
   "outputs": [
    {
     "data": {
      "text/plain": [
       "{'preProcessingMillis': 0,\n",
       " 'computeMillis': 21,\n",
       " 'writeMillis': 49,\n",
       " 'postProcessingMillis': -1,\n",
       " 'nodesCompared': 404,\n",
       " 'relationshipsWritten': 3362,\n",
       " 'similarityDistribution': {'p1': 0.5999984741210938,\n",
       "  'max': 1.0000038146972656,\n",
       "  'p5': 0.6666641235351562,\n",
       "  'p90': 1.0000038146972656,\n",
       "  'p50': 1.0000038146972656,\n",
       "  'p95': 1.0000038146972656,\n",
       "  'p10': 0.75,\n",
       "  'p75': 1.0000038146972656,\n",
       "  'p99': 1.0000038146972656,\n",
       "  'p25': 1.0000038146972656,\n",
       "  'p100': 1.0000038146972656,\n",
       "  'min': 0.5999984741210938,\n",
       "  'mean': 0.9582757115860484,\n",
       "  'stdDev': 0.10784796756708696},\n",
       " 'configuration': {'topK': 10,\n",
       "  'writeConcurrency': 4,\n",
       "  'similarityMetric': 'OVERLAP',\n",
       "  'bottomK': 10,\n",
       "  'bottomN': 0,\n",
       "  'relationshipWeightProperty': None,\n",
       "  'topN': 0,\n",
       "  'concurrency': 4,\n",
       "  'writeProperty': 'similarity',\n",
       "  'degreeCutoff': 1,\n",
       "  'writeRelationshipType': 'NARROWER_THAN',\n",
       "  'similarityCutoff': 0.6,\n",
       "  'nodeLabels': ['*'],\n",
       "  'sudo': False,\n",
       "  'relationshipTypes': ['*'],\n",
       "  'username': None}}"
      ]
     },
     "execution_count": 49,
     "metadata": {},
     "output_type": "execute_result"
    }
   ],
   "source": [
    "gds.nodeSimilarity.write(G1, \n",
    "    similarityMetric = 'OVERLAP', \n",
    "    similarityCutoff = 0.6, \n",
    "    writeRelationshipType = 'NARROWER_THAN', \n",
    "    writeProperty = 'similarity'\n",
    ")"
   ]
  },
  {
   "cell_type": "code",
   "execution_count": 63,
   "metadata": {},
   "outputs": [],
   "source": [
    "G1.drop()"
   ]
  },
  {
   "cell_type": "code",
   "execution_count": 51,
   "metadata": {},
   "outputs": [
    {
     "name": "stdout",
     "output_type": "stream",
     "text": [
      "   relationships_deleted\n",
      "0                   2184\n"
     ]
    }
   ],
   "source": [
    "# Touch-up: Remove symmetric NARROWER_THAN relationships\n",
    "with driver.session(database = DB_NAME) as session:\n",
    "    result = session.write_transaction( lambda tx: \n",
    "        tx.run(\n",
    "            \"\"\"\n",
    "            MATCH (s1:Symptom)-[r:NARROWER_THAN]->(s2:Symptom)\n",
    "            WHERE (s2)-[:NARROWER_THAN]->(s1)\n",
    "            DELETE r\n",
    "            RETURN count(*) as relationships_deleted\n",
    "            \"\"\",\n",
    "            limit = 10, itemid = 461686, visitorid=684514\n",
    "        ).data()\n",
    "    )\n",
    "    df = pd.DataFrame(result)\n",
    "    print(df)"
   ]
  },
  {
   "cell_type": "code",
   "execution_count": 52,
   "metadata": {},
   "outputs": [
    {
     "name": "stdout",
     "output_type": "stream",
     "text": [
      "   relationships_reversed\n",
      "0                     485\n"
     ]
    }
   ],
   "source": [
    "# Touch-up: Make NARROWER_THAN point towards the node with the bigger set of adjacent Diseases\n",
    "with driver.session(database = DB_NAME) as session:\n",
    "    result = session.write_transaction( lambda tx: \n",
    "        tx.run(\n",
    "            \"\"\"\n",
    "            MATCH (s1:Symptom)-[r:NARROWER_THAN]->(s2:Symptom)\n",
    "            WHERE size( (s1)-[:SYMPTOM_OF]->() ) > size( (s2)-[:SYMPTOM_OF]->() )\n",
    "            CREATE (s2)-[:NARROWER_THAN{similarity: r.similarity}]->(s1)\n",
    "            DELETE r\n",
    "            RETURN count(*) as relationships_reversed\n",
    "            \"\"\"\n",
    "        ).data()\n",
    "    )\n",
    "    df = pd.DataFrame(result)\n",
    "    print(df)"
   ]
  },
  {
   "cell_type": "code",
   "execution_count": 53,
   "metadata": {},
   "outputs": [
    {
     "name": "stdout",
     "output_type": "stream",
     "text": [
      "   relationships_transitive\n",
      "0                       242\n"
     ]
    }
   ],
   "source": [
    "# Touch-up: Remove transitive dependencies\n",
    "with driver.session(database = DB_NAME) as session:\n",
    "    result = session.write_transaction( lambda tx: \n",
    "        tx.run(\n",
    "            \"\"\"\n",
    "            MATCH (s:Symptom)-[r:NARROWER_THAN]->(s2:Symptom)\n",
    "            WHERE (s)-[:NARROWER_THAN*2..20]->(s2)\n",
    "            DELETE r\n",
    "            RETURN count(*) as relationships_transitive\n",
    "            \"\"\"\n",
    "        ).data()\n",
    "    )\n",
    "    df = pd.DataFrame(result)\n",
    "    print(df)"
   ]
  },
  {
   "cell_type": "code",
   "execution_count": 57,
   "metadata": {},
   "outputs": [
    {
     "name": "stdout",
     "output_type": "stream",
     "text": [
      "                                                 path\n",
      "0                Murphy's sign->colic abdominal->pain\n",
      "1                     abdomen acute->flatulence->pain\n",
      "2                  abnormal sensation->fremitus->pain\n",
      "3                             ache->lung nodule->pain\n",
      "4                   air fluid level->flatulence->pain\n",
      "5           barking cough->emphysematous change->pain\n",
      "6   behavior showing increased motor activity->art...\n",
      "7   behavior showing increased motor activity->ten...\n",
      "8   bowel sounds decreased->decreased stool calibe...\n",
      "9   bowel sounds decreased->nausea and vomiting->pain\n",
      "10                               bruit->redness->pain\n",
      "11                  catching breath->flatulence->pain\n",
      "12                            choke->arthralgia->pain\n",
      "13                              choke->tenesmus->pain\n",
      "14            coordination abnormal->arthralgia->pain\n",
      "15              coordination abnormal->tenesmus->pain\n",
      "16                       estrogen use->erythema->pain\n",
      "17             feces in rectum->colic abdominal->pain\n",
      "18                     focal seizures->fremitus->pain\n",
      "19          gasping for breath->colic abdominal->pain\n",
      "20                         gravida 10->dullness->pain\n",
      "21             gravida 10->emphysematous change->pain\n",
      "22        hematochezia->decreased stool caliber->pain\n",
      "23                       hematochezia->fremitus->pain\n",
      "24                     hypesthesia->hyperacusis->pain\n",
      "25                           macule->arthralgia->pain\n",
      "26                     mass in breast->erythema->pain\n",
      "27  nasal discharge present->emphysematous change-...\n",
      "28            no known drug allergies->fremitus->pain\n",
      "29      noisy respiration->emphysematous change->pain\n",
      "30             pain in lower limb->cardiomegaly->pain\n",
      "31       pericardial friction rub->cardiomegaly->pain\n",
      "32                   prodrome->numbness of hand->pain\n",
      "33              r wave feature->systolic murmur->pain\n",
      "34  rapid shallow breathing->emphysematous change-...\n",
      "35                red blotches->colic abdominal->pain\n",
      "36                       red blotches->dullness->pain\n",
      "37                     red blotches->monoclonal->pain\n",
      "38                       scratch marks->redness->pain\n",
      "39                sputum purulent->cardiomegaly->pain\n",
      "40                 stinging sensation->fremitus->pain\n",
      "41       throbbing sensation quality->heartburn->pain\n",
      "42             transsexual->nausea and vomiting->pain\n"
     ]
    }
   ],
   "source": [
    "# Let's query our new NARROWER_THAN relationships\n",
    "with driver.session(database = DB_NAME) as session:\n",
    "    result = session.read_transaction( lambda tx: \n",
    "        tx.run(\n",
    "            \"\"\"\n",
    "            MATCH (l2:Symptom)-[:NARROWER_THAN]->(l1:Symptom)-[:NARROWER_THAN]->(root:Symptom{name:\"pain\"})\n",
    "            RETURN l2.name + '->' + l1.name + '->' + root.name as path\n",
    "            ORDER BY l2.name, l1.name\n",
    "            \"\"\",\n",
    "        ).data()\n",
    "    )\n",
    "    df = pd.DataFrame(result)\n",
    "    print(df)"
   ]
  },
  {
   "cell_type": "markdown",
   "metadata": {},
   "source": [
    "## Conclusions\n",
    "We have now learned the Taxonomy of our data :)"
   ]
  },
  {
   "cell_type": "code",
   "execution_count": 111,
   "metadata": {},
   "outputs": [
    {
     "data": {
      "text/plain": [
       "'Nodes: 404, Relationships 936'"
      ]
     },
     "execution_count": 111,
     "metadata": {},
     "output_type": "execute_result"
    }
   ],
   "source": [
    "# Let's check what communities we have\n",
    "# What type of graph is this?\n",
    "G2=gds.graph.project('p2',['Symptom'], ['NARROWER_THAN'])\n",
    "\"Nodes: {node_count}, Relationships {relationship_count}\".format(node_count=G2.node_count(), relationship_count=G2.relationship_count())"
   ]
  },
  {
   "cell_type": "code",
   "execution_count": 112,
   "metadata": {},
   "outputs": [
    {
     "data": {
      "text/plain": [
       "{'componentCount': 26,\n",
       " 'componentDistribution': {'p99': 378,\n",
       "  'min': 1,\n",
       "  'max': 378,\n",
       "  'mean': 15.538461538461538,\n",
       "  'p90': 1,\n",
       "  'p50': 1,\n",
       "  'p999': 378,\n",
       "  'p95': 2,\n",
       "  'p75': 1},\n",
       " 'postProcessingMillis': 6,\n",
       " 'preProcessingMillis': 0,\n",
       " 'computeMillis': 29,\n",
       " 'configuration': {'seedProperty': None,\n",
       "  'consecutiveIds': False,\n",
       "  'threshold': 0.0,\n",
       "  'relationshipWeightProperty': None,\n",
       "  'nodeLabels': ['*'],\n",
       "  'sudo': False,\n",
       "  'relationshipTypes': ['*'],\n",
       "  'username': None,\n",
       "  'concurrency': 4}}"
      ]
     },
     "execution_count": 112,
     "metadata": {},
     "output_type": "execute_result"
    }
   ],
   "source": [
    "gds.wcc.stats(G2)"
   ]
  },
  {
   "cell_type": "code",
   "execution_count": 113,
   "metadata": {},
   "outputs": [
    {
     "data": {
      "text/plain": [
       "{'mutateMillis': 0,\n",
       " 'nodePropertiesWritten': 404,\n",
       " 'componentCount': 26,\n",
       " 'componentDistribution': {'p99': 378,\n",
       "  'min': 1,\n",
       "  'max': 378,\n",
       "  'mean': 15.538461538461538,\n",
       "  'p90': 1,\n",
       "  'p50': 1,\n",
       "  'p999': 378,\n",
       "  'p95': 2,\n",
       "  'p75': 1},\n",
       " 'postProcessingMillis': 6,\n",
       " 'preProcessingMillis': 0,\n",
       " 'computeMillis': 6,\n",
       " 'configuration': {'seedProperty': None,\n",
       "  'consecutiveIds': False,\n",
       "  'threshold': 0.0,\n",
       "  'relationshipWeightProperty': None,\n",
       "  'nodeLabels': ['*'],\n",
       "  'sudo': False,\n",
       "  'relationshipTypes': ['*'],\n",
       "  'mutateProperty': 'wccId',\n",
       "  'username': None,\n",
       "  'concurrency': 4}}"
      ]
     },
     "execution_count": 113,
     "metadata": {},
     "output_type": "execute_result"
    }
   ],
   "source": [
    "gds.wcc.mutate(G2, mutateProperty='wccId')"
   ]
  },
  {
   "cell_type": "code",
   "execution_count": 114,
   "metadata": {},
   "outputs": [
    {
     "data": {
      "text/plain": [
       "{'writeMillis': 6,\n",
       " 'graphName': 'p2',\n",
       " 'nodeProperties': ['wccId'],\n",
       " 'propertiesWritten': 404}"
      ]
     },
     "execution_count": 114,
     "metadata": {},
     "output_type": "execute_result"
    }
   ],
   "source": [
    "gds.graph.writeNodeProperties(G2, ['wccId'])"
   ]
  },
  {
   "cell_type": "code",
   "execution_count": 115,
   "metadata": {},
   "outputs": [
    {
     "name": "stdout",
     "output_type": "stream",
     "text": [
      "    communityId                     symptoms  communitySize                                           diseases\n",
      "0             0             [uncoordination]              1                        [encephalopathy, influenza]\n",
      "1             4                [throat sore]              1  [upper respiratory infection, spasm bronchial,...\n",
      "2             9            [scleral icterus]              1                       [gastroenteritis, influenza]\n",
      "3            24             [disequilibrium]              2                                        [gastritis]\n",
      "4            24                  [dizziness]              2  [hypertensive disease, hyperlipidemia, hemorrh...\n",
      "5            34                      [sweat]              1  [ischemia, hypertensive disease, hyperlipidemi...\n",
      "6            36                  [nonsmoker]              1  [hypercholesterolemia, degenerative polyarthri...\n",
      "7            55                     [gurgle]              1  [pneumonia aspiration, carcinoma of lung, keto...\n",
      "8            63                    [ascites]              1  [cholelithiasis, malignant neoplasms, hepatiti...\n",
      "9            78                 [prostatism]              1  [bacteremia, dependence, carcinoma colon, pneu...\n",
      "10           79               [hyponatremia]              1  [gastroesophageal reflux disease, gastroenteri...\n",
      "11           85                [weight gain]              1  [cardiomyopathy, overload fluid, paroxysmal dy...\n",
      "12           91               [fatigability]              1          [neuropathy, hernia hiatal, pancytopenia]\n",
      "13           93                    [myalgia]              1  [gastroenteritis, Pneumocystis carinii pneumon...\n",
      "14          114                    [stridor]              1                 [bronchitis, deglutition disorder]\n",
      "15          124          [distended abdomen]              1  [bacteremia, hepatitis C, glaucoma, overload f...\n",
      "16          155              [cicatrisation]              1  [adenocarcinoma, paranoia, tricuspid valve ins...\n",
      "17          179       [hypothermia, natural]              1  [kidney failure acute, primary carcinoma of th...\n",
      "18          230              [low back pain]              1                                          [aphasia]\n",
      "19          231               [charleyhorse]              1                                          [aphasia]\n",
      "20          232                  [pain neck]              1                              [neoplasm metastasis]\n",
      "21          242          [hydropneumothorax]              1                             [neuropathy, lymphoma]\n",
      "22          248                     [pallor]              1                               [bacteremia, anemia]\n",
      "23          290  [slowing of urinary stream]              1                       [neuropathy, failure kidney]\n",
      "24          323         [bleeding of vagina]              1                        [kidney disease, cirrhosis]\n",
      "25          341                 [heavy legs]              1               [dependence, hypertension pulmonary]\n"
     ]
    }
   ],
   "source": [
    "# Let's check the small iselands\n",
    "with driver.session(database = DB_NAME) as session:\n",
    "    result = session.read_transaction( lambda tx: \n",
    "        tx.run(\n",
    "            \"\"\"\n",
    "            MATCH (s:Symptom)\n",
    "            WITH s.wccId as communityId, count(*) as communitySize where communitySize < 5\n",
    "            MATCH (s:Symptom{wccId:communityId})\n",
    "            RETURN communityId, \n",
    "                   collect(s.name) as symptoms, \n",
    "                   communitySize, \n",
    "                   [ (s)-[:SYMPTOM_OF]->(d) | d.name ] as diseases\n",
    "            ORDER BY communityId\n",
    "            \"\"\",\n",
    "        ).data()\n",
    "    )\n",
    "    df = pd.DataFrame(result)\n",
    "    with pd.option_context('display.max_rows', None, 'display.max_columns', 5, 'display.expand_frame_repr', False):\n",
    "        print(df)"
   ]
  },
  {
   "cell_type": "code",
   "execution_count": 116,
   "metadata": {},
   "outputs": [
    {
     "name": "stdout",
     "output_type": "stream",
     "text": [
      "   communityId  communitySize\n",
      "0            1            378\n",
      "1           24              2\n",
      "2            4              1\n",
      "3            9              1\n",
      "4            0              1\n"
     ]
    }
   ],
   "source": [
    "# Let's break down the largest community\n",
    "with driver.session(database = DB_NAME) as session:\n",
    "    result = session.read_transaction( lambda tx: \n",
    "        tx.run(\n",
    "            \"\"\"\n",
    "            MATCH (s:Symptom)\n",
    "            WITH s.wccId as communityId, count(*) as communitySize\n",
    "            RETURN communityId,communitySize order by communitySize desc limit 5\n",
    "            \"\"\",\n",
    "        ).data()\n",
    "    )\n",
    "    df = pd.DataFrame(result)\n",
    "    print(df)"
   ]
  },
  {
   "cell_type": "code",
   "execution_count": 117,
   "metadata": {},
   "outputs": [
    {
     "name": "stdout",
     "output_type": "stream",
     "text": [
      "1\n"
     ]
    }
   ],
   "source": [
    "wccId = df[\"communityId\"][0]\n",
    "print(wccId)\n"
   ]
  },
  {
   "cell_type": "code",
   "execution_count": 118,
   "metadata": {},
   "outputs": [
    {
     "data": {
      "text/plain": [
       "'Nodes: 378, Relationships 935'"
      ]
     },
     "execution_count": 118,
     "metadata": {},
     "output_type": "execute_result"
    }
   ],
   "source": [
    "G3=gds.beta.graph.project.subgraph('p3', G2, 'n.wccId={id}'.format(id =wccId) , '*')\n",
    "\"Nodes: {node_count}, Relationships {relationship_count}\".format(node_count=G3.node_count(), relationship_count=G3.relationship_count())"
   ]
  },
  {
   "cell_type": "code",
   "execution_count": 132,
   "metadata": {},
   "outputs": [
    {
     "data": {
      "text/plain": [
       "{'modularity': 0.2970276530641425,\n",
       " 'modularities': [0.2970276530641425],\n",
       " 'ranLevels': 1,\n",
       " 'communityCount': 108,\n",
       " 'communityDistribution': {'p99': 19,\n",
       "  'min': 1,\n",
       "  'max': 19,\n",
       "  'mean': 3.5,\n",
       "  'p90': 7,\n",
       "  'p50': 2,\n",
       "  'p999': 19,\n",
       "  'p95': 9,\n",
       "  'p75': 4},\n",
       " 'postProcessingMillis': 0,\n",
       " 'preProcessingMillis': 0,\n",
       " 'computeMillis': 57,\n",
       " 'configuration': {'maxIterations': 10,\n",
       "  'seedProperty': None,\n",
       "  'consecutiveIds': False,\n",
       "  'maxLevels': 10,\n",
       "  'relationshipWeightProperty': None,\n",
       "  'includeIntermediateCommunities': False,\n",
       "  'nodeLabels': ['*'],\n",
       "  'sudo': False,\n",
       "  'relationshipTypes': ['*'],\n",
       "  'tolerance': 0.0001,\n",
       "  'concurrency': 4,\n",
       "  'username': None}}"
      ]
     },
     "execution_count": 132,
     "metadata": {},
     "output_type": "execute_result"
    }
   ],
   "source": [
    "gds.louvain.stats(G3)"
   ]
  },
  {
   "cell_type": "code",
   "execution_count": 133,
   "metadata": {},
   "outputs": [
    {
     "data": {
      "text/plain": [
       "{'writeMillis': 1,\n",
       " 'nodePropertiesWritten': 378,\n",
       " 'modularity': 0.2970276530641425,\n",
       " 'modularities': [0.2970276530641425],\n",
       " 'ranLevels': 1,\n",
       " 'communityCount': 108,\n",
       " 'communityDistribution': {'p99': 19,\n",
       "  'min': 1,\n",
       "  'max': 19,\n",
       "  'mean': 3.5,\n",
       "  'p90': 7,\n",
       "  'p50': 2,\n",
       "  'p999': 19,\n",
       "  'p95': 9,\n",
       "  'p75': 4},\n",
       " 'postProcessingMillis': 0,\n",
       " 'preProcessingMillis': 0,\n",
       " 'computeMillis': 68,\n",
       " 'configuration': {'maxIterations': 10,\n",
       "  'writeConcurrency': 4,\n",
       "  'seedProperty': None,\n",
       "  'consecutiveIds': False,\n",
       "  'maxLevels': 10,\n",
       "  'relationshipWeightProperty': None,\n",
       "  'concurrency': 4,\n",
       "  'writeProperty': 'louvainId',\n",
       "  'includeIntermediateCommunities': False,\n",
       "  'nodeLabels': ['*'],\n",
       "  'sudo': False,\n",
       "  'relationshipTypes': ['*'],\n",
       "  'tolerance': 0.0001,\n",
       "  'username': None}}"
      ]
     },
     "execution_count": 133,
     "metadata": {},
     "output_type": "execute_result"
    }
   ],
   "source": [
    "gds.louvain.write(G3, writeProperty='louvainId')"
   ]
  },
  {
   "cell_type": "code",
   "execution_count": 134,
   "metadata": {},
   "outputs": [],
   "source": [
    "G3.drop()"
   ]
  },
  {
   "cell_type": "code",
   "execution_count": 135,
   "metadata": {},
   "outputs": [],
   "source": [
    "G2.drop()"
   ]
  },
  {
   "cell_type": "markdown",
   "metadata": {},
   "source": [
    "## Conclusions\n",
    "Well, sometimes we fail. 100's of communities are not useful (see bloom). But then again, our NARROWER_THAN is a tree structure. So maybe we are better off just looking at what are the different tree roots. "
   ]
  },
  {
   "cell_type": "code",
   "execution_count": 139,
   "metadata": {},
   "outputs": [
    {
     "name": "stdout",
     "output_type": "stream",
     "text": [
      "                   symptom  treeSize\n",
      "0      shortness of breath        78\n",
      "1                     pain        75\n",
      "2                    fever        47\n",
      "3    decreased body weight        44\n",
      "4                 diarrhea        38\n",
      "..                     ...       ...\n",
      "104                pustule         1\n",
      "105            scar tissue         1\n",
      "106  st segment depression         1\n",
      "107                unhappy         1\n",
      "108          unsteady gait         1\n",
      "\n",
      "[109 rows x 2 columns]\n"
     ]
    }
   ],
   "source": [
    "# Add Root label and also return roots\n",
    "with driver.session(database = DB_NAME) as session:\n",
    "    result = session.write_transaction( lambda tx: \n",
    "        tx.run(\n",
    "            \"\"\"\n",
    "            MATCH (root:Symptom)<-[r:NARROWER_THAN*1..10]-(s:Symptom)\n",
    "            WHERE NOT (root)-[:NARROWER_THAN]->()\n",
    "            WITH root, count(distinct(s)) as treeSize\n",
    "            SET root:Root, \n",
    "            root.treeSize = treeSize\n",
    "            RETURN root.name as symptom, treeSize\n",
    "            ORDER BY treeSize desc\n",
    "            \"\"\"\n",
    "        ).data()\n",
    "    )\n",
    "    df = pd.DataFrame(result)\n",
    "    print(df)"
   ]
  },
  {
   "cell_type": "markdown",
   "metadata": {},
   "source": [
    "## Important\n",
    "We got 100 roots, but to me they look more useful. Then again it depends in the question you want to answer.\n",
    "\n",
    "We should of course have studied the tree strucuture to get familiar with our data before we even tried to formulate or answer any questions. "
   ]
  }
 ],
 "metadata": {
  "interpreter": {
   "hash": "fa400fa1c59917a64ff3ea5ee959182f074bbc1e9a041e09cb658d2479256db7"
  },
  "kernelspec": {
   "display_name": "Python 3.7.3 64-bit ('venv': venv)",
   "name": "python3"
  },
  "language_info": {
   "codemirror_mode": {
    "name": "ipython",
    "version": 3
   },
   "file_extension": ".py",
   "mimetype": "text/x-python",
   "name": "python",
   "nbconvert_exporter": "python",
   "pygments_lexer": "ipython3",
   "version": "3.9.10"
  }
 },
 "nbformat": 4,
 "nbformat_minor": 4
}
